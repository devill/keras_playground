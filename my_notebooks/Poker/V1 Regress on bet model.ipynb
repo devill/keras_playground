{
 "cells": [
  {
   "cell_type": "code",
   "execution_count": 1,
   "metadata": {
    "collapsed": true
   },
   "outputs": [],
   "source": [
    "import bcolz\n",
    "from sklearn.model_selection import train_test_split\n",
    "import numpy as np"
   ]
  },
  {
   "cell_type": "code",
   "execution_count": 12,
   "metadata": {
    "collapsed": true
   },
   "outputs": [],
   "source": [
    "inputs = bcolz.open('/data/poker/regress_on_bets_input.dat')[:]\n",
    "outputs = bcolz.open('/data/poker/regress_on_bets_output.dat')[:]\n",
    "\n",
    "cards_data = np.array(inputs[:,0].tolist())\n",
    "bets_data = np.array(inputs[:,1].tolist()).reshape((inputs.shape[0], 3, 5,1))"
   ]
  },
  {
   "cell_type": "code",
   "execution_count": 7,
   "metadata": {},
   "outputs": [],
   "source": [
    "from keras.layers import Input, Dense, Flatten, concatenate, Dropout\n",
    "from keras.models import Model\n",
    "from keras.layers.convolutional import Conv2D, ZeroPadding2D\n",
    "import keras.layers\n",
    "from keras.optimizers import Nadam\n",
    "\n",
    "cards_input = Input(shape=(4, 13, 4))\n",
    "bets_input = Input(shape=(3,5,1))\n",
    "\n",
    "cx = ZeroPadding2D(padding=(0, 2))(cards_input)\n",
    "cx = Conv2D(30,(4,5), padding='same', activation='relu')(cx)\n",
    "cx = Conv2D(20,(4,5), padding='valid', activation='relu')(cx)\n",
    "cx = Flatten()(cx)\n",
    "\n",
    "bx = Conv2D(30,(3,1), padding='valid', activation='relu')(bets_input)\n",
    "bx = Conv2D(20,(1,1), padding='valid', activation='relu')(bx)\n",
    "bx = Flatten()(bx)\n",
    "\n",
    "tx = concatenate([cx, bx])\n",
    "tx = Dense(100, activation='relu')(tx)\n",
    "tx = Dropout(0.5)(tx)\n",
    "tx = Dense(50, activation='relu')(tx)\n",
    "tx = Dropout(0.5)(tx)\n",
    "bet_output = Dense(1, name='bet_output')(tx)\n",
    "\n",
    "model = Model([cards_input, bets_input], [bet_output])\n",
    "\n",
    "opt = Nadam(lr=0.002, beta_1=0.9, beta_2=0.999, epsilon=1e-08, schedule_decay=0.006)\n",
    "model.compile(optimizer=opt,loss='mse')"
   ]
  },
  {
   "cell_type": "code",
   "execution_count": 15,
   "metadata": {},
   "outputs": [
    {
     "name": "stdout",
     "output_type": "stream",
     "text": [
      "Train on 66821 samples, validate on 3517 samples\n",
      "Epoch 1/5\n",
      "  864/66821 [..............................] - ETA: 13s - loss: 1731.7827"
     ]
    },
    {
     "name": "stderr",
     "output_type": "stream",
     "text": [
      "/opt/conda/lib/python3.5/site-packages/ipykernel_launcher.py:1: UserWarning: The `nb_epoch` argument in `fit` has been renamed `epochs`.\n",
      "  \"\"\"Entry point for launching an IPython kernel.\n"
     ]
    },
    {
     "name": "stdout",
     "output_type": "stream",
     "text": [
      "66821/66821 [==============================] - 9s - loss: 1544.7134 - val_loss: 1636.9911\n",
      "Epoch 2/5\n",
      "66821/66821 [==============================] - 9s - loss: 1489.0639 - val_loss: 1444.8054\n",
      "Epoch 3/5\n",
      "66821/66821 [==============================] - 9s - loss: 1420.0014 - val_loss: 1425.8545\n",
      "Epoch 4/5\n",
      "66821/66821 [==============================] - 9s - loss: 1397.0225 - val_loss: 1392.9195\n",
      "Epoch 5/5\n",
      "66821/66821 [==============================] - 9s - loss: 1356.6478 - val_loss: 1458.9010\n"
     ]
    },
    {
     "data": {
      "text/plain": [
       "<keras.callbacks.History at 0x7fd9e2517ac8>"
      ]
     },
     "execution_count": 15,
     "metadata": {},
     "output_type": "execute_result"
    }
   ],
   "source": [
    "model.fit([cards_data, bets_data], outputs, shuffle=True, validation_split=0.05, nb_epoch=5)"
   ]
  },
  {
   "cell_type": "code",
   "execution_count": 16,
   "metadata": {},
   "outputs": [],
   "source": [
    "model.save_weights('/data/trained_models/poker/regres_on_bets_v1.h5')"
   ]
  },
  {
   "cell_type": "code",
   "execution_count": null,
   "metadata": {
    "collapsed": true
   },
   "outputs": [],
   "source": []
  }
 ],
 "metadata": {
  "kernelspec": {
   "display_name": "Python 3",
   "language": "python",
   "name": "python3"
  },
  "language_info": {
   "codemirror_mode": {
    "name": "ipython",
    "version": 3
   },
   "file_extension": ".py",
   "mimetype": "text/x-python",
   "name": "python",
   "nbconvert_exporter": "python",
   "pygments_lexer": "ipython3",
   "version": "3.5.3"
  }
 },
 "nbformat": 4,
 "nbformat_minor": 2
}
