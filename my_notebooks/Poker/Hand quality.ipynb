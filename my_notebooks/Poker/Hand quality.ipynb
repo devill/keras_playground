{
 "cells": [
  {
   "cell_type": "code",
   "execution_count": 1,
   "metadata": {
    "collapsed": true
   },
   "outputs": [],
   "source": [
    "import random\n",
    "import glob\n",
    "import json\n",
    "import numpy as np"
   ]
  },
  {
   "cell_type": "markdown",
   "metadata": {},
   "source": [
    "## Fetch the data"
   ]
  },
  {
   "cell_type": "code",
   "execution_count": 2,
   "metadata": {
    "collapsed": false
   },
   "outputs": [],
   "source": [
    "def get_card_as_one_hot(card):\n",
    "    s = ['clubs','hearts','spades','diamonds'].index(card['suit'])\n",
    "    v = ([ str(i) for i in range(2,11) ] + ['J','K','Q','A']).index(card['rank'])\n",
    "    return v,s\n",
    "\n",
    "def get_cards_as_one_hot(cards):\n",
    "    one_hot = np.zeros((13,4))\n",
    "    for c in cards:\n",
    "        one_hot[get_card_as_one_hot(c)] = 1\n",
    "    return one_hot\n",
    "\n",
    "def get_all_cards_for_hand_for_player(hand, player_index):\n",
    "    return np.array([\n",
    "        get_cards_as_one_hot(hand['hole_cards'][player_index]), \n",
    "        get_cards_as_one_hot(hand['community_cards'][:3]),\n",
    "        get_cards_as_one_hot(hand['community_cards'][3:4]),\n",
    "        get_cards_as_one_hot(hand['community_cards'][4:5])\n",
    "    ])\n",
    "\n",
    "def get_a_winning_hand(hand):\n",
    "    all_cards = get_all_cards_for_hand_for_player(hand, hand['winner'])\n",
    "    split = random.randint(1,4)\n",
    "    return np.concatenate((all_cards[:split],np.zeros((4-split, 13, 4))), axis=0)\n",
    "\n",
    "def get_a_loosing_hand(hand):\n",
    "    index = random.randint(0, len(hand['hole_cards'])-2)\n",
    "    index = index if index < hand['winner'] else index\n",
    "    all_cards = get_all_cards_for_hand_for_player(hand, index)\n",
    "    split = random.randint(1,4)\n",
    "    return np.concatenate((all_cards[:split],np.zeros((4-split, 13, 4))), axis=0)\n",
    "    "
   ]
  },
  {
   "cell_type": "code",
   "execution_count": 3,
   "metadata": {
    "collapsed": false
   },
   "outputs": [],
   "source": [
    "inputs = []\n",
    "outputs = []\n",
    "\n",
    "for file in glob.glob(\"/data/poker/rawdata/*.json\"):\n",
    "    f = open(file, 'r')\n",
    "    hands_in_game = json.loads(f.read())\n",
    "\n",
    "    for hand in hands_in_game: \n",
    "        inputs.append(get_a_winning_hand(hand))\n",
    "        outputs.append(1)\n",
    "        inputs.append(get_a_loosing_hand(hand))\n",
    "        outputs.append(0)\n",
    "    \n",
    "inputs = np.array(inputs)\n",
    "outputs = np.array(outputs)"
   ]
  },
  {
   "cell_type": "code",
   "execution_count": 4,
   "metadata": {
    "collapsed": false
   },
   "outputs": [
    {
     "data": {
      "text/plain": [
       "(36082, 4, 13, 4)"
      ]
     },
     "execution_count": 4,
     "metadata": {},
     "output_type": "execute_result"
    }
   ],
   "source": [
    "inputs.shape"
   ]
  },
  {
   "cell_type": "markdown",
   "metadata": {},
   "source": [
    "## Isolate test set"
   ]
  },
  {
   "cell_type": "code",
   "execution_count": 5,
   "metadata": {
    "collapsed": false
   },
   "outputs": [],
   "source": [
    "test_indices_set = set(([random.randint(0, 36081) for i in range(0,6500)]))\n",
    "\n",
    "test_indices = sorted(list(test_indices_set))\n",
    "train_indices = [i for j, i in enumerate(range(0,36081)) if j not in test_indices]\n",
    "\n",
    "test_inputs = inputs[test_indices]\n",
    "test_outputs = outputs[test_indices]\n",
    "train_inputs = inputs[train_indices]\n",
    "train_outputs = outputs[train_indices]"
   ]
  },
  {
   "cell_type": "markdown",
   "metadata": {},
   "source": [
    "## Build model"
   ]
  },
  {
   "cell_type": "code",
   "execution_count": 6,
   "metadata": {
    "collapsed": false
   },
   "outputs": [
    {
     "name": "stderr",
     "output_type": "stream",
     "text": [
      "Using TensorFlow backend.\n"
     ]
    }
   ],
   "source": [
    "import keras\n",
    "from keras.models import Sequential\n",
    "from keras.layers.normalization import BatchNormalization\n",
    "from keras.layers.core import Flatten, Dense, Dropout, Activation\n",
    "from keras.layers.convolutional import Convolution2D, MaxPooling2D, ZeroPadding2D\n",
    "from keras.optimizers import Nadam\n",
    "from keras.preprocessing import image"
   ]
  },
  {
   "cell_type": "code",
   "execution_count": 7,
   "metadata": {
    "collapsed": false
   },
   "outputs": [],
   "source": [
    "model = Sequential([\n",
    "    Convolution2D(10,4,5, border_mode='same', activation='relu', input_shape=(4, 13, 4)),\n",
    "    Convolution2D(10,4,5, border_mode='same', activation='relu'),\n",
    "    Flatten(),\n",
    "    Dense(20, activation='relu'),\n",
    "    Dense(1),\n",
    "    Activation('sigmoid')\n",
    "])"
   ]
  },
  {
   "cell_type": "code",
   "execution_count": 8,
   "metadata": {
    "collapsed": true
   },
   "outputs": [],
   "source": [
    "opt = Nadam(lr=0.002, beta_1=0.9, beta_2=0.999, epsilon=1e-08, schedule_decay=0.006)\n",
    "model.compile(optimizer=opt,loss='binary_crossentropy', metrics=['accuracy'])"
   ]
  },
  {
   "cell_type": "code",
   "execution_count": 9,
   "metadata": {
    "collapsed": false
   },
   "outputs": [],
   "source": [
    "train_generator = image.ImageDataGenerator().flow(train_inputs, train_outputs)\n",
    "test_generator = image.ImageDataGenerator().flow(test_inputs, test_outputs)"
   ]
  },
  {
   "cell_type": "code",
   "execution_count": 10,
   "metadata": {
    "collapsed": true
   },
   "outputs": [],
   "source": [
    "# model.fit_generator(\n",
    "#        train_generator, \n",
    "#        samples_per_epoch=len(train_outputs),\n",
    "#        nb_epoch=24, \n",
    "#        validation_data=test_generator, \n",
    "#        nb_val_samples=len(test_outputs)\n",
    "#    )"
   ]
  },
  {
   "cell_type": "markdown",
   "metadata": {},
   "source": [
    "## Use model"
   ]
  },
  {
   "cell_type": "code",
   "execution_count": 11,
   "metadata": {
    "collapsed": false
   },
   "outputs": [],
   "source": [
    "model.load_weights('/data/trained_models/poker/winning_probability_by_hands_v4.h5')"
   ]
  },
  {
   "cell_type": "code",
   "execution_count": null,
   "metadata": {
    "collapsed": true
   },
   "outputs": [],
   "source": []
  }
 ],
 "metadata": {
  "kernelspec": {
   "display_name": "Python 3",
   "language": "python",
   "name": "python3"
  },
  "language_info": {
   "codemirror_mode": {
    "name": "ipython",
    "version": 3
   },
   "file_extension": ".py",
   "mimetype": "text/x-python",
   "name": "python",
   "nbconvert_exporter": "python",
   "pygments_lexer": "ipython3",
   "version": "3.5.2"
  }
 },
 "nbformat": 4,
 "nbformat_minor": 2
}
