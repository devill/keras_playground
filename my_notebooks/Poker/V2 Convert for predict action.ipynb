{
 "cells": [
  {
   "cell_type": "code",
   "execution_count": 89,
   "metadata": {
    "collapsed": true
   },
   "outputs": [],
   "source": [
    "import random\n",
    "import glob\n",
    "import json\n",
    "import numpy as np"
   ]
  },
  {
   "cell_type": "markdown",
   "metadata": {},
   "source": [
    "## Fetch the data"
   ]
  },
  {
   "cell_type": "code",
   "execution_count": 90,
   "metadata": {},
   "outputs": [],
   "source": [
    "def get_card_as_one_hot(card):\n",
    "    s = ['clubs','hearts','spades','diamonds'].index(card['suit'])\n",
    "    v = ([ str(i) for i in range(2,11) ] + ['J','K','Q','A']).index(card['rank'])\n",
    "    return v,s\n",
    "\n",
    "def get_cards_as_one_hot(cards):\n",
    "    one_hot = np.zeros((13,4))\n",
    "    for c in cards:\n",
    "        one_hot[get_card_as_one_hot(c)] = 1\n",
    "    return one_hot\n",
    "\n",
    "def get_all_cards_for_hand_for_player(hand, player_index):\n",
    "    return np.array([\n",
    "        get_cards_as_one_hot(hand['hole_cards'][player_index]), \n",
    "        get_cards_as_one_hot(hand['community_cards'][:3]),\n",
    "        get_cards_as_one_hot(hand['community_cards'][3:4]),\n",
    "        get_cards_as_one_hot(hand['community_cards'][4:5])\n",
    "    ])\n",
    "\n",
    "def rotate(a, n):\n",
    "    return a[n:] + a[:n]\n",
    "\n",
    "def normalize(bets, active_player, blind):\n",
    "    result = rotate(bets,active_player)\n",
    "    return list(map(lambda x: x / blind, result))\n",
    "\n",
    "def get_bets(hand, active_player):\n",
    "    bets=[]\n",
    "    number_of_players = len(hand['bets'][0][0])\n",
    "    previous_bet = 0\n",
    "    bet_index = 0\n",
    "    for r in hand['bets']:\n",
    "        bets.append([])\n",
    "        for b in r:\n",
    "            if b['on_turn'] == active_player:\n",
    "                if bet_index > 1: \n",
    "                    current_bet = b['bets'][active_player]- previous_bet \n",
    "                    normalized_totals = normalize(b['bets'], active_player, hand['blind'])\n",
    "                    normalized_current_bet = (current_bet)/hand['blind']\n",
    "                    normalized_totals[0] -= normalized_current_bet\n",
    "                    \n",
    "                    bets[-1].append({ \n",
    "                        'bet': normalized_current_bet,\n",
    "                        'totals': normalized_totals,\n",
    "                        'type': b['type']\n",
    "                    })\n",
    "            previous_bet = b['bets'][active_player]\n",
    "            bet_index += 1\n",
    "    return bets\n",
    "\n",
    "\n",
    "def zero_last_layers(layers, round_index):\n",
    "    for i in range(round_index + 1, len(layers)):\n",
    "        layers[i] = np.zeros(layers[i].shape)\n",
    "    return layers\n",
    "\n",
    "def one_hot(i, length):\n",
    "    one_hot = np.zeros((length,))\n",
    "    one_hot[i] = 1\n",
    "    return one_hot\n",
    "\n",
    "def encode_action_type(action):\n",
    "    return one_hot({\n",
    "        'check': 0,\n",
    "        'fold': 0,\n",
    "        'call': 1,\n",
    "        'raise': 2,\n",
    "        'allin': 3\n",
    "    }[action], 4)\n",
    "\n",
    "def extend_bet_vector(bet_matrix):\n",
    "    return np.c_[bet_matrix, np.zeros((3, 6 - bet_matrix.shape[1]))]\n",
    "\n",
    "def convert_hand(hand):\n",
    "    inputs = []\n",
    "    outputs = []\n",
    "    for round_index, round_bets in enumerate(get_bets(hand, hand['game_winner'])):\n",
    "        for this_bet in round_bets:\n",
    "            nof_players = len(this_bet['totals'])\n",
    "            normalized_dealer = (hand['dealer'] - hand['game_winner'] + nof_players) % nof_players\n",
    "            cards = get_all_cards_for_hand_for_player(hand, hand['game_winner'])\n",
    "            initial_stacks = normalize(hand['initial_stacks'], hand['game_winner'], hand['blind'])\n",
    "            remaining_stack = (np.array(initial_stacks) - np.array(this_bet['totals']))\n",
    "            dealer_onehot = one_hot(normalized_dealer, nof_players)\n",
    "            \n",
    "            bet_vector = np.array([remaining_stack, this_bet['totals'],dealer_onehot])\n",
    "            \n",
    "            my_bet = bet_vector[:, 0]\n",
    "                \n",
    "            bet_vector = extend_bet_vector(bet_vector[:,1:]).reshape(3,6,1)\n",
    "            \n",
    "            inputs.append([\n",
    "                zero_last_layers(cards, round_index), # cards\n",
    "                my_bet,\n",
    "                bet_vector\n",
    "            ])\n",
    "            outputs.append(encode_action_type(this_bet['type']))\n",
    "    return inputs, outputs\n"
   ]
  },
  {
   "cell_type": "code",
   "execution_count": 91,
   "metadata": {},
   "outputs": [
    {
     "data": {
      "text/plain": [
       "[array([[[ 0.,  0.,  0.,  0.],\n",
       "         [ 0.,  0.,  0.,  0.],\n",
       "         [ 0.,  0.,  0.,  1.],\n",
       "         [ 0.,  0.,  0.,  0.],\n",
       "         [ 0.,  0.,  0.,  0.],\n",
       "         [ 0.,  0.,  0.,  0.],\n",
       "         [ 0.,  0.,  0.,  0.],\n",
       "         [ 0.,  0.,  0.,  0.],\n",
       "         [ 0.,  0.,  0.,  0.],\n",
       "         [ 0.,  0.,  0.,  0.],\n",
       "         [ 0.,  0.,  0.,  0.],\n",
       "         [ 0.,  0.,  0.,  0.],\n",
       "         [ 0.,  0.,  0.,  1.]],\n",
       " \n",
       "        [[ 0.,  0.,  0.,  0.],\n",
       "         [ 0.,  0.,  0.,  0.],\n",
       "         [ 0.,  0.,  0.,  0.],\n",
       "         [ 0.,  0.,  0.,  0.],\n",
       "         [ 0.,  0.,  0.,  0.],\n",
       "         [ 0.,  0.,  0.,  0.],\n",
       "         [ 0.,  0.,  0.,  0.],\n",
       "         [ 0.,  0.,  0.,  0.],\n",
       "         [ 0.,  0.,  0.,  0.],\n",
       "         [ 0.,  0.,  0.,  0.],\n",
       "         [ 0.,  0.,  0.,  0.],\n",
       "         [ 0.,  0.,  0.,  0.],\n",
       "         [ 0.,  0.,  0.,  0.]],\n",
       " \n",
       "        [[ 0.,  0.,  0.,  0.],\n",
       "         [ 0.,  0.,  0.,  0.],\n",
       "         [ 0.,  0.,  0.,  0.],\n",
       "         [ 0.,  0.,  0.,  0.],\n",
       "         [ 0.,  0.,  0.,  0.],\n",
       "         [ 0.,  0.,  0.,  0.],\n",
       "         [ 0.,  0.,  0.,  0.],\n",
       "         [ 0.,  0.,  0.,  0.],\n",
       "         [ 0.,  0.,  0.,  0.],\n",
       "         [ 0.,  0.,  0.,  0.],\n",
       "         [ 0.,  0.,  0.,  0.],\n",
       "         [ 0.,  0.,  0.,  0.],\n",
       "         [ 0.,  0.,  0.,  0.]],\n",
       " \n",
       "        [[ 0.,  0.,  0.,  0.],\n",
       "         [ 0.,  0.,  0.,  0.],\n",
       "         [ 0.,  0.,  0.,  0.],\n",
       "         [ 0.,  0.,  0.,  0.],\n",
       "         [ 0.,  0.,  0.,  0.],\n",
       "         [ 0.,  0.,  0.,  0.],\n",
       "         [ 0.,  0.,  0.,  0.],\n",
       "         [ 0.,  0.,  0.,  0.],\n",
       "         [ 0.,  0.,  0.,  0.],\n",
       "         [ 0.,  0.,  0.,  0.],\n",
       "         [ 0.,  0.,  0.,  0.],\n",
       "         [ 0.,  0.,  0.,  0.],\n",
       "         [ 0.,  0.,  0.,  0.]]]),\n",
       " array([ 246.,    1.,    0.]),\n",
       " array([[[ 503.],\n",
       "         [   0.],\n",
       "         [ 246.],\n",
       "         [ 253.],\n",
       "         [   0.],\n",
       "         [   0.]],\n",
       " \n",
       "        [[   0.],\n",
       "         [   0.],\n",
       "         [   0.],\n",
       "         [   1.],\n",
       "         [   0.],\n",
       "         [   0.]],\n",
       " \n",
       "        [[   0.],\n",
       "         [   0.],\n",
       "         [   1.],\n",
       "         [   0.],\n",
       "         [   0.],\n",
       "         [   0.]]])]"
      ]
     },
     "execution_count": 91,
     "metadata": {},
     "output_type": "execute_result"
    }
   ],
   "source": [
    "file = glob.glob(\"/data/poker/rawdata/*.json\")[3]\n",
    "f = open(file, 'r')\n",
    "hands = json.loads(f.read())\n",
    "test_hand = hands[3]\n",
    "\n",
    "convert_hand(test_hand)[0][0]"
   ]
  },
  {
   "cell_type": "code",
   "execution_count": 92,
   "metadata": {
    "collapsed": true
   },
   "outputs": [],
   "source": [
    "inputs = []\n",
    "outputs = []\n",
    "\n",
    "for file in glob.glob(\"/data/poker/rawdata/*.json\"):\n",
    "    f = open(file, 'r')\n",
    "    hands_in_game = json.loads(f.read())\n",
    "\n",
    "    for hand in hands_in_game: \n",
    "        inp, outp = convert_hand(hand)\n",
    "        inputs.extend(inp)\n",
    "        outputs.extend(outp)\n",
    "\n",
    "inputs = np.array(inputs)\n",
    "outputs = np.array(outputs)"
   ]
  },
  {
   "cell_type": "code",
   "execution_count": 93,
   "metadata": {},
   "outputs": [
    {
     "data": {
      "text/plain": [
       "(450222, 3)"
      ]
     },
     "execution_count": 93,
     "metadata": {},
     "output_type": "execute_result"
    }
   ],
   "source": [
    "inputs.shape"
   ]
  },
  {
   "cell_type": "code",
   "execution_count": 94,
   "metadata": {},
   "outputs": [
    {
     "data": {
      "text/plain": [
       "(450222, 4)"
      ]
     },
     "execution_count": 94,
     "metadata": {},
     "output_type": "execute_result"
    }
   ],
   "source": [
    "outputs.shape"
   ]
  },
  {
   "cell_type": "code",
   "execution_count": 95,
   "metadata": {
    "collapsed": true
   },
   "outputs": [],
   "source": [
    "import bcolz\n",
    "\n",
    "ifile = bcolz.carray(inputs, rootdir='/data/poker/predict_action_input_2.dat', mode='w')\n",
    "ifile.flush()\n",
    "ofile = bcolz.carray(outputs, rootdir='/data/poker/predict_action_output_2.dat', mode='w')\n",
    "ofile.flush()"
   ]
  },
  {
   "cell_type": "code",
   "execution_count": null,
   "metadata": {
    "collapsed": true
   },
   "outputs": [],
   "source": []
  }
 ],
 "metadata": {
  "kernelspec": {
   "display_name": "Python 3",
   "language": "python",
   "name": "python3"
  },
  "language_info": {
   "codemirror_mode": {
    "name": "ipython",
    "version": 3
   },
   "file_extension": ".py",
   "mimetype": "text/x-python",
   "name": "python",
   "nbconvert_exporter": "python",
   "pygments_lexer": "ipython3",
   "version": "3.5.3"
  }
 },
 "nbformat": 4,
 "nbformat_minor": 2
}
