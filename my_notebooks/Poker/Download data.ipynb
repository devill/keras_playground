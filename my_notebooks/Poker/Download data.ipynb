{
 "cells": [
  {
   "cell_type": "code",
   "execution_count": 1,
   "metadata": {
    "collapsed": false
   },
   "outputs": [],
   "source": [
    "import urllib.request\n",
    "import json\n",
    "import zlib\n",
    "\n",
    "def load_json_from(url):\n",
    "    rawdata = urllib.request.urlopen(url).read()\n",
    "    return json.loads(rawdata.decode('utf-8'))\n",
    "\n",
    "def load_gziped_json_from(url):\n",
    "    rawdata = zlib.decompress(urllib.request.urlopen(url).read(), 16+zlib.MAX_WBITS)\n",
    "    return json.loads(rawdata.decode('utf-8'))"
   ]
  },
  {
   "cell_type": "code",
   "execution_count": 2,
   "metadata": {
    "collapsed": false
   },
   "outputs": [],
   "source": [
    "raw_tournaments = load_json_from('http://live.leanpoker.org/api/tournament')\n",
    "tournament_ids = list(map(lambda t: t['id'], filter(lambda t: t['status'] == 'ended',raw_tournaments)))"
   ]
  },
  {
   "cell_type": "code",
   "execution_count": 3,
   "metadata": {
    "collapsed": true
   },
   "outputs": [],
   "source": [
    "def get_team_data_for(id):\n",
    "    tournament = load_json_from('http://live.leanpoker.org/api/tournament/' + id)\n",
    "    return sorted(tournament['teams'], key=lambda x: -x['points'])"
   ]
  },
  {
   "cell_type": "code",
   "execution_count": 4,
   "metadata": {
    "collapsed": true
   },
   "outputs": [],
   "source": [
    "def increment(dict, key, amount = 1):\n",
    "    if key in dict:\n",
    "        dict[key] += amount\n",
    "    else:\n",
    "        dict[key] = amount"
   ]
  },
  {
   "cell_type": "markdown",
   "metadata": {},
   "source": [
    "### Fetch tournaments"
   ]
  },
  {
   "cell_type": "code",
   "execution_count": 5,
   "metadata": {
    "collapsed": false
   },
   "outputs": [
    {
     "name": "stdout",
     "output_type": "stream",
     "text": [
      "...................................................."
     ]
    }
   ],
   "source": [
    "tournaments = []\n",
    "for tid in tournament_ids:\n",
    "    print('.',end='')\n",
    "    tournaments.append(get_team_data_for(tid))"
   ]
  },
  {
   "cell_type": "markdown",
   "metadata": {},
   "source": [
    "### Build some stats"
   ]
  },
  {
   "cell_type": "code",
   "execution_count": 6,
   "metadata": {
    "collapsed": false
   },
   "outputs": [],
   "source": [
    "language_counts = {}\n",
    "winning_language_counts = {}\n",
    "for tdata in tournaments: \n",
    "    if 'language_id' in tdata[0]:\n",
    "        increment(winning_language_counts, tdata[0]['language_id'])\n",
    "        for t in tdata:\n",
    "            increment(language_counts, t['language_id'])"
   ]
  },
  {
   "cell_type": "code",
   "execution_count": 7,
   "metadata": {
    "collapsed": false
   },
   "outputs": [],
   "source": [
    "winrate = {}\n",
    "for lang_id in language_counts:\n",
    "    if lang_id in winning_language_counts:\n",
    "        winrate[lang_id] = winning_language_counts[lang_id] / language_counts[lang_id]\n",
    "    else:\n",
    "        winrate[lang_id] = 0\n",
    "        winning_language_counts[lang_id] = 0"
   ]
  },
  {
   "cell_type": "code",
   "execution_count": 8,
   "metadata": {
    "collapsed": false
   },
   "outputs": [],
   "source": [
    "import functools\n",
    "average_language_lift = {}\n",
    "for tdata in tournaments: \n",
    "    if 'language_id' in tdata[0]:\n",
    "        total_points = functools.reduce(lambda s, t: s+t, map(lambda t: t['points'],tdata))\n",
    "        for team in tdata:\n",
    "            lift = (team['points'] * len(tdata))/total_points-1\n",
    "            increment(average_language_lift, team['language_id'], lift)\n",
    "            \n",
    "for lang_id in language_counts:\n",
    "    average_language_lift[lang_id] /= language_counts[lang_id]"
   ]
  },
  {
   "cell_type": "code",
   "execution_count": 9,
   "metadata": {
    "collapsed": false
   },
   "outputs": [
    {
     "name": "stdout",
     "output_type": "stream",
     "text": [
      "java,40,4,0.1,-0.020670558383870854\n",
      "clojure,3,0,0,-0.013277327739145325\n",
      "elixir,2,0,0,0.1555397328694091\n",
      "go,4,0,0,-0.35842439992782926\n",
      "csharp,24,5,0.20833333333333334,-0.10400854937471005\n",
      "kotlin,1,0,0,-0.3036684782608695\n",
      "python,28,8,0.2857142857142857,0.06540041804430798\n",
      "scala,6,2,0.3333333333333333,0.14729869746389015\n",
      "groovy,2,0,0,0.18969961834662308\n",
      "ts,1,1,1.0,0.13246681415929196\n",
      "perl,2,0,0,-0.0698888155569875\n",
      "haskell,4,2,0.5,-0.07064867201912906\n",
      "cpp,6,1,0.16666666666666666,0.0034205835456073697\n",
      "ruby,29,9,0.3103448275862069,0.05798345935850648\n",
      "php,9,2,0.2222222222222222,0.048334262338414945\n",
      "js,49,10,0.20408163265306123,-0.0031102793796611745\n"
     ]
    }
   ],
   "source": [
    "for lang_id in language_counts:\n",
    "    print(','.join([lang_id, str(language_counts[lang_id]), str(winning_language_counts[lang_id]), str(winrate[lang_id]), str(average_language_lift[lang_id])]))"
   ]
  },
  {
   "cell_type": "markdown",
   "metadata": {},
   "source": [
    "## Download and convert games"
   ]
  },
  {
   "cell_type": "code",
   "execution_count": 10,
   "metadata": {
    "collapsed": true
   },
   "outputs": [],
   "source": [
    "def get_game_ids_for(id):\n",
    "    games = load_gziped_json_from('http://live.leanpoker.org/api/tournament/' + id + '/game')\n",
    "    return list(map(lambda g: g['id'], games))"
   ]
  },
  {
   "cell_type": "code",
   "execution_count": 11,
   "metadata": {
    "collapsed": true
   },
   "outputs": [],
   "source": [
    "# http://live.leanpoker.org/api/tournament/58b538ab8835920004000021/game/58b5969480f87800040002b3/log\n",
    "def get_game_log_for(tournament_id, game_id):\n",
    "    return load_gziped_json_from('http://live.leanpoker.org/api/tournament/' + tournament_id + '/game/' + game_id + '/log')\n",
    "    "
   ]
  },
  {
   "cell_type": "code",
   "execution_count": 12,
   "metadata": {
    "collapsed": false
   },
   "outputs": [],
   "source": [
    "\n",
    "game_log = get_game_log_for('58b538ab8835920004000021','58b5969480f87800040002b3')"
   ]
  },
  {
   "cell_type": "code",
   "execution_count": 27,
   "metadata": {
    "collapsed": false
   },
   "outputs": [],
   "source": [
    "def get_hole_cards(log_line):\n",
    "    return list(map(lambda t: t['hole_cards'],log_line['game_state']['players']))\n",
    "\n",
    "def get_bets(log_line):\n",
    "    return list(map(lambda t: t['bet'], log_line['game_state']['players']))\n",
    "\n",
    "def get_stacks(log_line):\n",
    "    return list(map(lambda t: t['stack'], log_line['game_state']['players']))\n",
    "\n",
    "def get_winner(original_stacks, current_stacks):\n",
    "    for i in range(len(original_stacks)):\n",
    "        if original_stacks[i] < current_stacks[i]:\n",
    "            return i\n",
    "    return -1\n",
    "\n",
    "def convert(game_log):\n",
    "    hands = []\n",
    "    hand = {}\n",
    "    bets = []\n",
    "    for log_line in game_log:\n",
    "        if 'type' in log_line:\n",
    "            if log_line['type'] == 'showdown':\n",
    "                hand['community_cards'] = log_line['game_state']['community_cards']\n",
    "                hand['hole_cards'] = get_hole_cards(log_line)\n",
    "                hand['blind'] = log_line['game_state']['big_blind']\n",
    "                hand['bets'] = bets\n",
    "                hand['initial_stacks'] = stacks\n",
    "                hand['tournament_id'] = log_line['game_state']['tournament_id']\n",
    "                hand['game_id'] = log_line['game_state']['game_id']\n",
    "                hand['round'] = log_line['game_state']['round']\n",
    "\n",
    "            elif log_line['type'] == 'bet':\n",
    "                bets[-1].append(get_bets(log_line))\n",
    "            elif log_line['type'] == 'card_deal':\n",
    "                if len(log_line['game_state']['community_cards']) in [3,4,5]:\n",
    "                    bets.append([])\n",
    "            elif log_line['type'] == 'winner_announcement' and not 'winner' in hand:\n",
    "                hand['winner'] = get_winner(stacks, get_stacks(log_line))\n",
    "        else:\n",
    "            stacks = get_stacks(log_line)\n",
    "            if 'bets' in hand: \n",
    "                hand['remaining_stacks'] = stacks\n",
    "                hands.append(hand)\n",
    "            hand = {}\n",
    "            bets = [[]]\n",
    "    return hands"
   ]
  },
  {
   "cell_type": "code",
   "execution_count": 28,
   "metadata": {
    "collapsed": false
   },
   "outputs": [
    {
     "data": {
      "text/plain": [
       "[{'bets': [[[0, 0, 2, 0, 0],\n",
       "    [0, 0, 2, 4, 0],\n",
       "    [0, 0, 2, 4, 104],\n",
       "    [0, 0, 2, 4, 104],\n",
       "    [0, 104, 2, 4, 104],\n",
       "    [0, 104, 104, 4, 104],\n",
       "    [0, 104, 104, 4, 104]],\n",
       "   [[0, 104, 213, 4, 104], [0, 104, 213, 4, 213], [0, 213, 213, 4, 213]],\n",
       "   [[0, 213, 431, 4, 213], [0, 213, 431, 4, 431], [0, 431, 431, 4, 431]],\n",
       "   [[0, 431, 867, 4, 431],\n",
       "    [0, 431, 867, 4, 867],\n",
       "    [0, 1000, 867, 4, 867],\n",
       "    [0, 1000, 1000, 4, 867],\n",
       "    [0, 1000, 1000, 4, 1000]]],\n",
       "  'blind': 4,\n",
       "  'community_cards': [{'rank': '8', 'suit': 'diamonds'},\n",
       "   {'rank': '10', 'suit': 'clubs'},\n",
       "   {'rank': 'A', 'suit': 'clubs'},\n",
       "   {'rank': '10', 'suit': 'hearts'},\n",
       "   {'rank': 'Q', 'suit': 'clubs'}],\n",
       "  'game_id': '58b5969480f87800040002b3',\n",
       "  'hole_cards': [[{'rank': '5', 'suit': 'hearts'},\n",
       "    {'rank': '7', 'suit': 'clubs'}],\n",
       "   [{'rank': 'K', 'suit': 'spades'}, {'rank': '9', 'suit': 'diamonds'}],\n",
       "   [{'rank': 'J', 'suit': 'clubs'}, {'rank': 'A', 'suit': 'hearts'}],\n",
       "   [{'rank': '10', 'suit': 'diamonds'}, {'rank': '6', 'suit': 'diamonds'}],\n",
       "   [{'rank': '3', 'suit': 'hearts'}, {'rank': '4', 'suit': 'diamonds'}]],\n",
       "  'initial_stacks': [1000, 1000, 1000, 1000, 1000],\n",
       "  'remaining_stacks': [1000, 0, 3004, 996, 0],\n",
       "  'round': 0,\n",
       "  'tournament_id': '58b538ab8835920004000021',\n",
       "  'winner': 2},\n",
       " {'bets': [[[0, 0, 2, 0, 0],\n",
       "    [0, 0, 2, 4, 0],\n",
       "    [6, 0, 2, 4, 0],\n",
       "    [6, 0, 2, 4, 0],\n",
       "    [6, 0, 2, 12, 0],\n",
       "    [18, 0, 2, 12, 0],\n",
       "    [18, 0, 2, 18, 0]],\n",
       "   [[18, 0, 2, 26, 0], [34, 0, 2, 26, 0], [34, 0, 2, 34, 0]],\n",
       "   [[34, 0, 2, 42, 0], [50, 0, 2, 42, 0], [50, 0, 2, 50, 0]],\n",
       "   [[50, 0, 2, 58, 0], [66, 0, 2, 58, 0], [66, 0, 2, 66, 0]]],\n",
       "  'blind': 4,\n",
       "  'community_cards': [{'rank': '4', 'suit': 'hearts'},\n",
       "   {'rank': '7', 'suit': 'diamonds'},\n",
       "   {'rank': '6', 'suit': 'diamonds'},\n",
       "   {'rank': 'Q', 'suit': 'spades'},\n",
       "   {'rank': '8', 'suit': 'clubs'}],\n",
       "  'game_id': '58b5969480f87800040002b3',\n",
       "  'hole_cards': [[{'rank': '10', 'suit': 'spades'},\n",
       "    {'rank': '9', 'suit': 'spades'}],\n",
       "   [],\n",
       "   [{'rank': '2', 'suit': 'spades'}, {'rank': 'K', 'suit': 'hearts'}],\n",
       "   [{'rank': 'Q', 'suit': 'diamonds'}, {'rank': '8', 'suit': 'diamonds'}],\n",
       "   []],\n",
       "  'initial_stacks': [1000, 0, 3000, 1000, 0],\n",
       "  'remaining_stacks': [1068, 0, 2998, 934, 0],\n",
       "  'round': 3,\n",
       "  'tournament_id': '58b538ab8835920004000021',\n",
       "  'winner': 0},\n",
       " {'bets': [[[0, 0, 0, 2, 0],\n",
       "    [4, 0, 0, 2, 0],\n",
       "    [4, 0, 0, 2, 0],\n",
       "    [4, 0, 0, 10, 0],\n",
       "    [10, 0, 0, 10, 0]],\n",
       "   [[10, 0, 0, 18, 0], [26, 0, 0, 18, 0], [26, 0, 0, 26, 0]],\n",
       "   [[26, 0, 0, 34, 0], [42, 0, 0, 34, 0], [42, 0, 0, 42, 0]],\n",
       "   [[42, 0, 0, 50, 0], [50, 0, 0, 50, 0]]],\n",
       "  'blind': 4,\n",
       "  'community_cards': [{'rank': '10', 'suit': 'clubs'},\n",
       "   {'rank': '10', 'suit': 'diamonds'},\n",
       "   {'rank': '5', 'suit': 'hearts'},\n",
       "   {'rank': 'K', 'suit': 'hearts'},\n",
       "   {'rank': '3', 'suit': 'spades'}],\n",
       "  'game_id': '58b5969480f87800040002b3',\n",
       "  'hole_cards': [[{'rank': '8', 'suit': 'clubs'},\n",
       "    {'rank': '6', 'suit': 'diamonds'}],\n",
       "   [],\n",
       "   [{'rank': '7', 'suit': 'spades'}, {'rank': '5', 'suit': 'diamonds'}],\n",
       "   [{'rank': '4', 'suit': 'spades'}, {'rank': '3', 'suit': 'clubs'}],\n",
       "   []],\n",
       "  'initial_stacks': [1068, 0, 2998, 934, 0],\n",
       "  'remaining_stacks': [1018, 0, 2998, 984, 0],\n",
       "  'round': 4,\n",
       "  'tournament_id': '58b538ab8835920004000021',\n",
       "  'winner': 3},\n",
       " {'bets': [[[2, 0, 0, 0, 0],\n",
       "    [2, 0, 4, 0, 0],\n",
       "    [2, 0, 4, 8, 0],\n",
       "    [12, 0, 4, 8, 0],\n",
       "    [12, 0, 21, 8, 0],\n",
       "    [12, 0, 21, 8, 0],\n",
       "    [30, 0, 21, 8, 0],\n",
       "    [30, 0, 56, 8, 0],\n",
       "    [82, 0, 56, 8, 0],\n",
       "    [82, 0, 143, 8, 0],\n",
       "    [204, 0, 143, 8, 0],\n",
       "    [204, 0, 352, 8, 0],\n",
       "    [500, 0, 352, 8, 0],\n",
       "    [500, 0, 857, 8, 0],\n",
       "    [1018, 0, 857, 8, 0],\n",
       "    [1018, 0, 1880, 8, 0]],\n",
       "   [],\n",
       "   [],\n",
       "   []],\n",
       "  'blind': 4,\n",
       "  'community_cards': [{'rank': 'J', 'suit': 'hearts'},\n",
       "   {'rank': '3', 'suit': 'spades'},\n",
       "   {'rank': '6', 'suit': 'diamonds'},\n",
       "   {'rank': '5', 'suit': 'diamonds'},\n",
       "   {'rank': '6', 'suit': 'clubs'}],\n",
       "  'game_id': '58b5969480f87800040002b3',\n",
       "  'hole_cards': [[{'rank': '7', 'suit': 'diamonds'},\n",
       "    {'rank': '10', 'suit': 'diamonds'}],\n",
       "   [],\n",
       "   [{'rank': 'Q', 'suit': 'hearts'}, {'rank': 'J', 'suit': 'clubs'}],\n",
       "   [{'rank': '5', 'suit': 'spades'}, {'rank': '7', 'suit': 'hearts'}],\n",
       "   []],\n",
       "  'initial_stacks': [1018, 0, 2998, 984, 0],\n",
       "  'remaining_stacks': [0, 0, 4024, 976, 0],\n",
       "  'round': 5,\n",
       "  'tournament_id': '58b538ab8835920004000021',\n",
       "  'winner': 2},\n",
       " {'bets': [[[0, 0, 0, 5, 0], [0, 0, 10, 5, 0], [0, 0, 10, 10, 0]],\n",
       "   [[0, 0, 10, 10, 0], [0, 0, 10, 10, 0]],\n",
       "   [[0, 0, 10, 10, 0], [0, 0, 10, 10, 0]],\n",
       "   [[0, 0, 10, 10, 0], [0, 0, 10, 10, 0]]],\n",
       "  'blind': 10,\n",
       "  'community_cards': [{'rank': '4', 'suit': 'spades'},\n",
       "   {'rank': '3', 'suit': 'diamonds'},\n",
       "   {'rank': '9', 'suit': 'diamonds'},\n",
       "   {'rank': '7', 'suit': 'hearts'},\n",
       "   {'rank': '5', 'suit': 'spades'}],\n",
       "  'game_id': '58b5969480f87800040002b3',\n",
       "  'hole_cards': [[],\n",
       "   [],\n",
       "   [{'rank': '10', 'suit': 'spades'}, {'rank': '8', 'suit': 'hearts'}],\n",
       "   [{'rank': '9', 'suit': 'spades'}, {'rank': '7', 'suit': 'spades'}],\n",
       "   []],\n",
       "  'initial_stacks': [0, 0, 4021, 979, 0],\n",
       "  'remaining_stacks': [0, 0, 4011, 989, 0],\n",
       "  'round': 22,\n",
       "  'tournament_id': '58b538ab8835920004000021',\n",
       "  'winner': 3},\n",
       " {'bets': [[[0, 0, 0, 5, 0], [0, 0, 10, 5, 0], [0, 0, 10, 10, 0]],\n",
       "   [[0, 0, 10, 10, 0], [0, 0, 10, 10, 0]],\n",
       "   [[0, 0, 10, 10, 0], [0, 0, 10, 10, 0]],\n",
       "   [[0, 0, 10, 10, 0], [0, 0, 10, 10, 0]]],\n",
       "  'blind': 10,\n",
       "  'community_cards': [{'rank': '7', 'suit': 'spades'},\n",
       "   {'rank': '7', 'suit': 'diamonds'},\n",
       "   {'rank': 'A', 'suit': 'spades'},\n",
       "   {'rank': '4', 'suit': 'clubs'},\n",
       "   {'rank': 'Q', 'suit': 'spades'}],\n",
       "  'game_id': '58b5969480f87800040002b3',\n",
       "  'hole_cards': [[],\n",
       "   [],\n",
       "   [{'rank': '3', 'suit': 'spades'}, {'rank': '2', 'suit': 'clubs'}],\n",
       "   [{'rank': '8', 'suit': 'hearts'}, {'rank': '4', 'suit': 'hearts'}],\n",
       "   []],\n",
       "  'initial_stacks': [0, 0, 4011, 989, 0],\n",
       "  'remaining_stacks': [0, 0, 4001, 999, 0],\n",
       "  'round': 26,\n",
       "  'tournament_id': '58b538ab8835920004000021',\n",
       "  'winner': 3}]"
      ]
     },
     "execution_count": 28,
     "metadata": {},
     "output_type": "execute_result"
    }
   ],
   "source": [
    "convert(game_log)"
   ]
  },
  {
   "cell_type": "code",
   "execution_count": 29,
   "metadata": {
    "collapsed": true
   },
   "outputs": [],
   "source": [
    "def fetch_games_for(tournament_id):\n",
    "    gids = get_game_ids_for(tournament_id)\n",
    "    for gid in gids:\n",
    "        log = convert(get_game_log_for(tournament_id, gid))\n",
    "        f = open('/data/poker/rawdata/' + tournament_id + '_' + gid + '.json', 'w')\n",
    "        f.write(json.dumps(log))\n",
    "        f.close\n",
    "        print('.', end='')"
   ]
  },
  {
   "cell_type": "code",
   "execution_count": 31,
   "metadata": {
    "collapsed": false
   },
   "outputs": [
    {
     "name": "stdout",
     "output_type": "stream",
     "text": [
      "........................................................................................................................................................................................................................................................................................................................................................................................................................................................................................................................................................................................................................................................................................................................................................................................................................................................................................................................................"
     ]
    }
   ],
   "source": [
    "fetch_games_for('58b538ab8835920004000021')"
   ]
  },
  {
   "cell_type": "code",
   "execution_count": null,
   "metadata": {
    "collapsed": true
   },
   "outputs": [],
   "source": []
  }
 ],
 "metadata": {
  "kernelspec": {
   "display_name": "Python 3",
   "language": "python",
   "name": "python3"
  },
  "language_info": {
   "codemirror_mode": {
    "name": "ipython",
    "version": 3
   },
   "file_extension": ".py",
   "mimetype": "text/x-python",
   "name": "python",
   "nbconvert_exporter": "python",
   "pygments_lexer": "ipython3",
   "version": "3.5.2"
  }
 },
 "nbformat": 4,
 "nbformat_minor": 2
}
