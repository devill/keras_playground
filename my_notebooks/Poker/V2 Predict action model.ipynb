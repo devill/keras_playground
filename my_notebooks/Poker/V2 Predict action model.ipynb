{
 "cells": [
  {
   "cell_type": "code",
   "execution_count": 9,
   "metadata": {
    "collapsed": true
   },
   "outputs": [],
   "source": [
    "import bcolz\n",
    "from sklearn.model_selection import train_test_split\n",
    "import numpy as np"
   ]
  },
  {
   "cell_type": "code",
   "execution_count": 17,
   "metadata": {},
   "outputs": [],
   "source": [
    "inputs = bcolz.open('/data/poker/predict_action_input.dat')[30000:]\n",
    "outputs = bcolz.open('/data/poker/predict_action_output.dat')[30000:]\n",
    "\n",
    "cards_data = np.array(inputs[:,0].tolist())\n",
    "bets_data = np.array(inputs[:,1].tolist()).reshape((inputs.shape[0], 3, 5,1))"
   ]
  },
  {
   "cell_type": "code",
   "execution_count": 18,
   "metadata": {},
   "outputs": [],
   "source": [
    "from keras.layers import Input, Dense, Flatten, concatenate, Dropout\n",
    "from keras.models import Model\n",
    "from keras.layers.convolutional import Conv2D, ZeroPadding2D\n",
    "import keras.layers\n",
    "from keras.optimizers import Nadam\n",
    "\n",
    "cards_input = Input(shape=(4, 13, 4))\n",
    "bets_input = Input(shape=(3,5,1))\n",
    "\n",
    "cx = ZeroPadding2D(padding=(0, 2))(cards_input)\n",
    "cx = Conv2D(30,(4,5), padding='same', activation='relu')(cx)\n",
    "cx = Conv2D(20,(4,5), padding='valid', activation='relu')(cx)\n",
    "cx = Flatten()(cx)\n",
    "\n",
    "bx = Conv2D(30,(3,1), padding='valid', activation='relu')(bets_input)\n",
    "bx = Conv2D(20,(1,1), padding='valid', activation='relu')(bx)\n",
    "bx = Flatten()(bx)\n",
    "\n",
    "tx = concatenate([cx, bx])\n",
    "tx = Dense(100, activation='relu')(tx)\n",
    "tx = Dropout(0.5)(tx)\n",
    "tx = Dense(50, activation='relu')(tx)\n",
    "tx = Dropout(0.5)(tx)\n",
    "bet_output = Dense(4, name='bet_output', activation='softmax')(tx)\n",
    "\n",
    "model = Model([cards_input, bets_input], [bet_output])\n",
    "\n",
    "opt = Nadam(lr=0.002, beta_1=0.9, beta_2=0.999, epsilon=1e-08, schedule_decay=0.006)\n",
    "model.compile(optimizer=opt,loss='categorical_crossentropy', metrics=['accuracy'])"
   ]
  },
  {
   "cell_type": "code",
   "execution_count": 19,
   "metadata": {},
   "outputs": [
    {
     "name": "stderr",
     "output_type": "stream",
     "text": [
      "/opt/conda/lib/python3.5/site-packages/keras/backend/tensorflow_backend.py:2252: UserWarning: Expected no kwargs, you passed 1\n",
      "kwargs passed to function are ignored with Tensorflow backend\n",
      "  warnings.warn('\\n'.join(msg))\n"
     ]
    },
    {
     "name": "stdout",
     "output_type": "stream",
     "text": [
      "Train on 38321 samples, validate on 2017 samples\n",
      "Epoch 1/10\n",
      "38321/38321 [==============================] - 5s - loss: 0.8941 - acc: 0.6727 - val_loss: 0.6276 - val_acc: 0.7804\n",
      "Epoch 2/10\n",
      "38321/38321 [==============================] - 5s - loss: 0.6794 - acc: 0.7395 - val_loss: 0.5277 - val_acc: 0.8091\n",
      "Epoch 3/10\n",
      "38321/38321 [==============================] - 5s - loss: 0.6179 - acc: 0.7654 - val_loss: 0.4983 - val_acc: 0.8240\n",
      "Epoch 4/10\n",
      "38321/38321 [==============================] - 5s - loss: 0.5824 - acc: 0.7789 - val_loss: 0.4998 - val_acc: 0.8176\n",
      "Epoch 5/10\n",
      "38321/38321 [==============================] - 5s - loss: 0.5615 - acc: 0.7868 - val_loss: 0.4864 - val_acc: 0.8250\n",
      "Epoch 6/10\n",
      "38321/38321 [==============================] - 5s - loss: 0.5402 - acc: 0.7950 - val_loss: 0.4571 - val_acc: 0.8255\n",
      "Epoch 7/10\n",
      "38321/38321 [==============================] - 5s - loss: 0.5237 - acc: 0.8045 - val_loss: 0.4384 - val_acc: 0.8394\n",
      "Epoch 8/10\n",
      "38321/38321 [==============================] - 5s - loss: 0.5097 - acc: 0.8115 - val_loss: 0.4373 - val_acc: 0.8344\n",
      "Epoch 9/10\n",
      "38321/38321 [==============================] - 5s - loss: 0.4900 - acc: 0.8173 - val_loss: 0.4385 - val_acc: 0.8493\n",
      "Epoch 10/10\n",
      "38321/38321 [==============================] - 5s - loss: 0.4752 - acc: 0.8242 - val_loss: 0.4366 - val_acc: 0.8418\n"
     ]
    },
    {
     "data": {
      "text/plain": [
       "<keras.callbacks.History at 0x7f0fd07f1ba8>"
      ]
     },
     "execution_count": 19,
     "metadata": {},
     "output_type": "execute_result"
    }
   ],
   "source": [
    "model.fit([cards_data, bets_data], outputs, shuffle=True, validation_split=0.05, epochs=10)"
   ]
  },
  {
   "cell_type": "code",
   "execution_count": 20,
   "metadata": {
    "collapsed": true
   },
   "outputs": [],
   "source": [
    "model.save_weights('/data/trained_models/poker/predict_action_v2.h5')"
   ]
  },
  {
   "cell_type": "code",
   "execution_count": null,
   "metadata": {
    "collapsed": true
   },
   "outputs": [],
   "source": []
  }
 ],
 "metadata": {
  "kernelspec": {
   "display_name": "Python 3",
   "language": "python",
   "name": "python3"
  },
  "language_info": {
   "codemirror_mode": {
    "name": "ipython",
    "version": 3
   },
   "file_extension": ".py",
   "mimetype": "text/x-python",
   "name": "python",
   "nbconvert_exporter": "python",
   "pygments_lexer": "ipython3",
   "version": "3.5.3"
  }
 },
 "nbformat": 4,
 "nbformat_minor": 2
}
