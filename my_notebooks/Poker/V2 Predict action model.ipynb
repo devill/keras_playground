{
 "cells": [
  {
   "cell_type": "code",
   "execution_count": 1,
   "metadata": {
    "collapsed": true
   },
   "outputs": [],
   "source": [
    "import bcolz\n",
    "from sklearn.model_selection import train_test_split\n",
    "import numpy as np"
   ]
  },
  {
   "cell_type": "code",
   "execution_count": 2,
   "metadata": {
    "collapsed": true
   },
   "outputs": [],
   "source": [
    "inputs = bcolz.open('/data/poker/predict_action_input_2.dat')\n",
    "outputs = bcolz.open('/data/poker/predict_action_output_2.dat')\n",
    "\n",
    "cards_data = np.array(inputs[:,0].tolist())\n",
    "my_bet_data = np.array(inputs[:,1].tolist())\n",
    "bets_data = np.array(inputs[:,2].tolist()).reshape((inputs.shape[0], 3, 6,1))"
   ]
  },
  {
   "cell_type": "code",
   "execution_count": 4,
   "metadata": {},
   "outputs": [],
   "source": [
    "from keras.layers import Input, Dense, Flatten, concatenate, Dropout\n",
    "from keras.models import Model\n",
    "from keras.layers.convolutional import Conv2D, ZeroPadding2D\n",
    "from keras.layers.pooling import MaxPooling2D, AveragePooling2D\n",
    "import keras.layers\n",
    "from keras.optimizers import Nadam\n",
    "\n",
    "cards_input = Input(shape=(4, 13, 4))\n",
    "my_bet_input = Input(shape=(3, ))\n",
    "bets_input = Input(shape=(3,6,1))\n",
    "\n",
    "cx = ZeroPadding2D(padding=(0, 2))(cards_input)\n",
    "cx = Conv2D(100,(4,5), padding='same', activation='relu')(cx)\n",
    "cx = Conv2D(50,(4,5), padding='valid', activation='relu')(cx)\n",
    "cx = Flatten()(cx)\n",
    "\n",
    "bx = Conv2D(50,(3,1), padding='valid', activation='relu')(bets_input)\n",
    "bx = Conv2D(25,(1,1), padding='valid', activation='relu')(bx)\n",
    "bx = Flatten()(bx)\n",
    "\n",
    "tx = concatenate([cx, my_bet_input, bx])\n",
    "tx = Dense(100, activation='relu')(tx)\n",
    "tx = Dense(50, activation='relu')(tx)\n",
    "bet_output = Dense(4, name='bet_output', activation='softmax')(tx)\n",
    "\n",
    "model = Model([cards_input, my_bet_input, bets_input], [bet_output])\n",
    "\n",
    "opt = Nadam(lr=0.002, beta_1=0.9, beta_2=0.999, epsilon=1e-08, schedule_decay=0.006)\n",
    "model.compile(optimizer=opt,loss='categorical_crossentropy', metrics=['accuracy'])"
   ]
  },
  {
   "cell_type": "code",
   "execution_count": 6,
   "metadata": {},
   "outputs": [
    {
     "name": "stderr",
     "output_type": "stream",
     "text": [
      "/opt/conda/lib/python3.5/site-packages/keras/backend/tensorflow_backend.py:2252: UserWarning: Expected no kwargs, you passed 1\n",
      "kwargs passed to function are ignored with Tensorflow backend\n",
      "  warnings.warn('\\n'.join(msg))\n"
     ]
    },
    {
     "name": "stdout",
     "output_type": "stream",
     "text": [
      "Train on 427710 samples, validate on 22512 samples\n",
      "Epoch 1/5\n",
      "427710/427710 [==============================] - 126s - loss: 0.5962 - acc: 0.7638 - val_loss: 0.4731 - val_acc: 0.8120\n",
      "Epoch 2/5\n",
      "427710/427710 [==============================] - 127s - loss: 0.4873 - acc: 0.8085 - val_loss: 0.4567 - val_acc: 0.8171\n",
      "Epoch 3/5\n",
      "427710/427710 [==============================] - 126s - loss: 0.4635 - acc: 0.8178 - val_loss: 0.4221 - val_acc: 0.8323\n",
      "Epoch 4/5\n",
      "427710/427710 [==============================] - 127s - loss: 0.4499 - acc: 0.8231 - val_loss: 0.4388 - val_acc: 0.8279\n",
      "Epoch 5/5\n",
      "427710/427710 [==============================] - 126s - loss: 0.4403 - acc: 0.8272 - val_loss: 0.4261 - val_acc: 0.8316\n"
     ]
    },
    {
     "data": {
      "text/plain": [
       "<keras.callbacks.History at 0x7f1780c80128>"
      ]
     },
     "execution_count": 6,
     "metadata": {},
     "output_type": "execute_result"
    }
   ],
   "source": [
    "model.fit([cards_data, my_bet_data, bets_data], outputs, shuffle=True, validation_split=0.05, epochs=5)"
   ]
  },
  {
   "cell_type": "code",
   "execution_count": 7,
   "metadata": {
    "collapsed": true
   },
   "outputs": [],
   "source": [
    "model.save_weights('/data/trained_models/poker/predict_action_v4.h5')"
   ]
  },
  {
   "cell_type": "code",
   "execution_count": 5,
   "metadata": {},
   "outputs": [
    {
     "name": "stdout",
     "output_type": "stream",
     "text": [
      "____________________________________________________________________________________________________\n",
      "Layer (type)                     Output Shape          Param #     Connected to                     \n",
      "====================================================================================================\n",
      "input_4 (InputLayer)             (None, 4, 13, 4)      0                                            \n",
      "____________________________________________________________________________________________________\n",
      "zero_padding2d_2 (ZeroPadding2D) (None, 4, 17, 4)      0           input_4[0][0]                    \n",
      "____________________________________________________________________________________________________\n",
      "input_6 (InputLayer)             (None, 3, 6, 1)       0                                            \n",
      "____________________________________________________________________________________________________\n",
      "conv2d_5 (Conv2D)                (None, 4, 17, 100)    8100        zero_padding2d_2[0][0]           \n",
      "____________________________________________________________________________________________________\n",
      "conv2d_7 (Conv2D)                (None, 1, 6, 50)      200         input_6[0][0]                    \n",
      "____________________________________________________________________________________________________\n",
      "conv2d_6 (Conv2D)                (None, 1, 13, 50)     100050      conv2d_5[0][0]                   \n",
      "____________________________________________________________________________________________________\n",
      "conv2d_8 (Conv2D)                (None, 1, 6, 25)      1275        conv2d_7[0][0]                   \n",
      "____________________________________________________________________________________________________\n",
      "flatten_2 (Flatten)              (None, 650)           0           conv2d_6[0][0]                   \n",
      "____________________________________________________________________________________________________\n",
      "input_5 (InputLayer)             (None, 3)             0                                            \n",
      "____________________________________________________________________________________________________\n",
      "flatten_3 (Flatten)              (None, 150)           0           conv2d_8[0][0]                   \n",
      "____________________________________________________________________________________________________\n",
      "concatenate_2 (Concatenate)      (None, 803)           0           flatten_2[0][0]                  \n",
      "                                                                   input_5[0][0]                    \n",
      "                                                                   flatten_3[0][0]                  \n",
      "____________________________________________________________________________________________________\n",
      "dense_1 (Dense)                  (None, 100)           80400       concatenate_2[0][0]              \n",
      "____________________________________________________________________________________________________\n",
      "dense_2 (Dense)                  (None, 50)            5050        dense_1[0][0]                    \n",
      "____________________________________________________________________________________________________\n",
      "bet_output (Dense)               (None, 4)             204         dense_2[0][0]                    \n",
      "====================================================================================================\n",
      "Total params: 195,279\n",
      "Trainable params: 195,279\n",
      "Non-trainable params: 0\n",
      "____________________________________________________________________________________________________\n"
     ]
    }
   ],
   "source": [
    "model.summary()"
   ]
  },
  {
   "cell_type": "code",
   "execution_count": null,
   "metadata": {
    "collapsed": true
   },
   "outputs": [],
   "source": []
  }
 ],
 "metadata": {
  "kernelspec": {
   "display_name": "Python 3",
   "language": "python",
   "name": "python3"
  },
  "language_info": {
   "codemirror_mode": {
    "name": "ipython",
    "version": 3
   },
   "file_extension": ".py",
   "mimetype": "text/x-python",
   "name": "python",
   "nbconvert_exporter": "python",
   "pygments_lexer": "ipython3",
   "version": "3.5.3"
  }
 },
 "nbformat": 4,
 "nbformat_minor": 2
}
