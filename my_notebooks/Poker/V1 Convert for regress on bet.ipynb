{
 "cells": [
  {
   "cell_type": "code",
   "execution_count": 1,
   "metadata": {
    "collapsed": true
   },
   "outputs": [],
   "source": [
    "import random\n",
    "import glob\n",
    "import json\n",
    "import numpy as np"
   ]
  },
  {
   "cell_type": "markdown",
   "metadata": {},
   "source": [
    "## Fetch the data"
   ]
  },
  {
   "cell_type": "code",
   "execution_count": 2,
   "metadata": {
    "collapsed": true
   },
   "outputs": [],
   "source": [
    "def get_card_as_one_hot(card):\n",
    "    s = ['clubs','hearts','spades','diamonds'].index(card['suit'])\n",
    "    v = ([ str(i) for i in range(2,11) ] + ['J','K','Q','A']).index(card['rank'])\n",
    "    return v,s\n",
    "\n",
    "def get_cards_as_one_hot(cards):\n",
    "    one_hot = np.zeros((13,4))\n",
    "    for c in cards:\n",
    "        one_hot[get_card_as_one_hot(c)] = 1\n",
    "    return one_hot\n",
    "\n",
    "def get_all_cards_for_hand_for_player(hand, player_index):\n",
    "    return np.array([\n",
    "        get_cards_as_one_hot(hand['hole_cards'][player_index]), \n",
    "        get_cards_as_one_hot(hand['community_cards'][:3]),\n",
    "        get_cards_as_one_hot(hand['community_cards'][3:4]),\n",
    "        get_cards_as_one_hot(hand['community_cards'][4:5])\n",
    "    ])\n",
    "\n",
    "def rotate(a, n):\n",
    "    return a[n:] + a[:n]\n",
    "\n",
    "def normalize(bets, active_player, blind):\n",
    "    result = rotate(bets,active_player)\n",
    "    return list(map(lambda x: x / blind, result))\n",
    "\n",
    "def get_bets(hand, active_player):\n",
    "    bets=[]\n",
    "    number_of_players = len(hand['bets'][0][0])\n",
    "    previous_bet = 0\n",
    "    bet_index = 0\n",
    "    for r in hand['bets']:\n",
    "        bets.append([])\n",
    "        for b in r:\n",
    "            if b['on_turn'] == active_player:\n",
    "                if bet_index > 1: \n",
    "                    current_bet = b['bets'][active_player]- previous_bet \n",
    "                    normalized_totals = normalize(b['bets'], active_player, hand['blind'])\n",
    "                    normalized_current_bet = (current_bet)/hand['blind']\n",
    "                    normalized_totals[0] -= normalized_current_bet\n",
    "                    \n",
    "                    bets[-1].append({ \n",
    "                        'bet': normalized_current_bet,\n",
    "                        'totals': normalized_totals\n",
    "                    })\n",
    "            previous_bet = b['bets'][active_player]\n",
    "            bet_index += 1\n",
    "    return bets\n",
    "\n",
    "\n",
    "def zero_last_layers(layers, round_index):\n",
    "    for i in range(round_index + 1, len(layers)):\n",
    "        layers[i] = np.zeros(layers[i].shape)\n",
    "    return layers\n",
    "\n",
    "def one_hot(i, length):\n",
    "    one_hot = np.zeros((length,))\n",
    "    one_hot[i] = 1\n",
    "    return one_hot\n",
    "\n",
    "def convert_hand(hand):\n",
    "    inputs = []\n",
    "    outputs = []\n",
    "    for round_index, round_bets in enumerate(get_bets(hand, hand['game_winner'])):\n",
    "        for this_bet in round_bets:\n",
    "            nof_players = len(this_bet['totals'])\n",
    "            normalized_dealer = (hand['dealer'] - hand['game_winner'] + nof_players) % nof_players\n",
    "            cards = get_all_cards_for_hand_for_player(hand, hand['game_winner'])\n",
    "            initial_stacks = normalize(hand['initial_stacks'], hand['game_winner'], hand['blind'])\n",
    "            remaining_stack = (np.array(initial_stacks) - np.array(this_bet['totals']))\n",
    "            dealer_onehot = one_hot(normalized_dealer, nof_players)\n",
    "            inputs.append([\n",
    "                zero_last_layers(cards, round_index), # cards\n",
    "                np.array([remaining_stack, this_bet['totals'],dealer_onehot]).reshape((3, nof_players, 1))\n",
    "            ])\n",
    "            outputs.append([this_bet['bet']])\n",
    "    return inputs, outputs\n"
   ]
  },
  {
   "cell_type": "code",
   "execution_count": 3,
   "metadata": {},
   "outputs": [
    {
     "name": "stdout",
     "output_type": "stream",
     "text": [
      "{'game_id': '587a5711cfa7010004000619', 'winner': 4, 'bets': [[{'on_turn': 3, 'type': 'raise', 'bets': [0, 0, 0, 2, 0], 'bet': 2}, {'on_turn': 4, 'type': 'raise', 'bets': [0, 0, 0, 2, 4], 'bet': 4}, {'on_turn': 0, 'type': 'fold', 'bets': [0, 0, 0, 2, 4], 'bet': 0}, {'on_turn': 1, 'type': 'fold', 'bets': [0, 0, 0, 2, 4], 'bet': 0}, {'on_turn': 2, 'type': 'allin', 'bets': [0, 0, 22, 2, 4], 'bet': 22}, {'on_turn': 3, 'type': 'fold', 'bets': [0, 0, 22, 2, 4], 'bet': 0}, {'on_turn': 4, 'type': 'call', 'bets': [0, 0, 22, 2, 22], 'bet': 18}], [], [], []], 'dealer': 2, 'hole_cards': [[{'rank': '9', 'suit': 'hearts'}, {'rank': '5', 'suit': 'clubs'}], [{'rank': '9', 'suit': 'clubs'}, {'rank': '8', 'suit': 'spades'}], [{'rank': 'A', 'suit': 'hearts'}, {'rank': '3', 'suit': 'clubs'}], [{'rank': 'K', 'suit': 'hearts'}, {'rank': '7', 'suit': 'clubs'}], [{'rank': '6', 'suit': 'spades'}, {'rank': 'K', 'suit': 'spades'}]], 'blind': 4, 'initial_stacks': [994, 986, 22, 988, 2010], 'community_cards': [{'rank': '10', 'suit': 'spades'}, {'rank': 'Q', 'suit': 'spades'}, {'rank': '7', 'suit': 'spades'}, {'rank': 'Q', 'suit': 'diamonds'}, {'rank': '4', 'suit': 'diamonds'}], 'round': 5, 'remaining_stacks': [994, 986, 0, 986, 2034], 'game_winner': 4, 'tournament_id': '58430f4e7e7a0f000403a6d5'}\n"
     ]
    },
    {
     "data": {
      "text/plain": [
       "([[array([[[ 0.,  0.,  0.,  0.],\n",
       "           [ 0.,  0.,  0.,  0.],\n",
       "           [ 0.,  0.,  0.,  0.],\n",
       "           [ 0.,  0.,  0.,  0.],\n",
       "           [ 0.,  0.,  1.,  0.],\n",
       "           [ 0.,  0.,  0.,  0.],\n",
       "           [ 0.,  0.,  0.,  0.],\n",
       "           [ 0.,  0.,  0.,  0.],\n",
       "           [ 0.,  0.,  0.,  0.],\n",
       "           [ 0.,  0.,  0.,  0.],\n",
       "           [ 0.,  0.,  1.,  0.],\n",
       "           [ 0.,  0.,  0.,  0.],\n",
       "           [ 0.,  0.,  0.,  0.]],\n",
       "   \n",
       "          [[ 0.,  0.,  0.,  0.],\n",
       "           [ 0.,  0.,  0.,  0.],\n",
       "           [ 0.,  0.,  0.,  0.],\n",
       "           [ 0.,  0.,  0.,  0.],\n",
       "           [ 0.,  0.,  0.,  0.],\n",
       "           [ 0.,  0.,  0.,  0.],\n",
       "           [ 0.,  0.,  0.,  0.],\n",
       "           [ 0.,  0.,  0.,  0.],\n",
       "           [ 0.,  0.,  0.,  0.],\n",
       "           [ 0.,  0.,  0.,  0.],\n",
       "           [ 0.,  0.,  0.,  0.],\n",
       "           [ 0.,  0.,  0.,  0.],\n",
       "           [ 0.,  0.,  0.,  0.]],\n",
       "   \n",
       "          [[ 0.,  0.,  0.,  0.],\n",
       "           [ 0.,  0.,  0.,  0.],\n",
       "           [ 0.,  0.,  0.,  0.],\n",
       "           [ 0.,  0.,  0.,  0.],\n",
       "           [ 0.,  0.,  0.,  0.],\n",
       "           [ 0.,  0.,  0.,  0.],\n",
       "           [ 0.,  0.,  0.,  0.],\n",
       "           [ 0.,  0.,  0.,  0.],\n",
       "           [ 0.,  0.,  0.,  0.],\n",
       "           [ 0.,  0.,  0.,  0.],\n",
       "           [ 0.,  0.,  0.,  0.],\n",
       "           [ 0.,  0.,  0.,  0.],\n",
       "           [ 0.,  0.,  0.,  0.]],\n",
       "   \n",
       "          [[ 0.,  0.,  0.,  0.],\n",
       "           [ 0.,  0.,  0.,  0.],\n",
       "           [ 0.,  0.,  0.,  0.],\n",
       "           [ 0.,  0.,  0.,  0.],\n",
       "           [ 0.,  0.,  0.,  0.],\n",
       "           [ 0.,  0.,  0.,  0.],\n",
       "           [ 0.,  0.,  0.,  0.],\n",
       "           [ 0.,  0.,  0.,  0.],\n",
       "           [ 0.,  0.,  0.,  0.],\n",
       "           [ 0.,  0.,  0.,  0.],\n",
       "           [ 0.,  0.,  0.,  0.],\n",
       "           [ 0.,  0.,  0.,  0.],\n",
       "           [ 0.,  0.,  0.,  0.]]]), array([[[  5.01500000e+02],\n",
       "           [  2.48500000e+02],\n",
       "           [  2.46500000e+02],\n",
       "           [  0.00000000e+00],\n",
       "           [  2.46500000e+02]],\n",
       "   \n",
       "          [[  1.00000000e+00],\n",
       "           [  0.00000000e+00],\n",
       "           [  0.00000000e+00],\n",
       "           [  5.50000000e+00],\n",
       "           [  5.00000000e-01]],\n",
       "   \n",
       "          [[  0.00000000e+00],\n",
       "           [  0.00000000e+00],\n",
       "           [  0.00000000e+00],\n",
       "           [  1.00000000e+00],\n",
       "           [  0.00000000e+00]]])]], [[4.5]])"
      ]
     },
     "execution_count": 3,
     "metadata": {},
     "output_type": "execute_result"
    }
   ],
   "source": [
    "file = glob.glob(\"/data/poker/rawdata/*.json\")[3]\n",
    "f = open(file, 'r')\n",
    "hands = json.loads(f.read())\n",
    "test_hand = hands[2]\n",
    "\n",
    "print(test_hand)\n",
    "convert_hand(test_hand)"
   ]
  },
  {
   "cell_type": "code",
   "execution_count": 4,
   "metadata": {
    "collapsed": true
   },
   "outputs": [],
   "source": [
    "inputs = []\n",
    "outputs = []\n",
    "\n",
    "for file in glob.glob(\"/data/poker/rawdata/*.json\"):\n",
    "    f = open(file, 'r')\n",
    "    hands_in_game = json.loads(f.read())\n",
    "\n",
    "    for hand in hands_in_game: \n",
    "        inp, outp = convert_hand(hand)\n",
    "        inputs.extend(inp)\n",
    "        outputs.extend(outp)\n",
    "\n",
    "inputs = np.array(inputs)\n",
    "outputs = np.array(outputs)"
   ]
  },
  {
   "cell_type": "code",
   "execution_count": 5,
   "metadata": {},
   "outputs": [
    {
     "data": {
      "text/plain": [
       "(70338, 2)"
      ]
     },
     "execution_count": 5,
     "metadata": {},
     "output_type": "execute_result"
    }
   ],
   "source": [
    "inputs.shape"
   ]
  },
  {
   "cell_type": "code",
   "execution_count": 6,
   "metadata": {},
   "outputs": [
    {
     "data": {
      "text/plain": [
       "(70338, 1)"
      ]
     },
     "execution_count": 6,
     "metadata": {},
     "output_type": "execute_result"
    }
   ],
   "source": [
    "outputs.shape"
   ]
  },
  {
   "cell_type": "code",
   "execution_count": 7,
   "metadata": {
    "collapsed": true
   },
   "outputs": [],
   "source": [
    "import bcolz\n",
    "\n",
    "ifile = bcolz.carray(inputs, rootdir='/data/poker/regress_on_bets_input.dat', mode='w')\n",
    "ifile.flush()\n",
    "ofile = bcolz.carray(outputs, rootdir='/data/poker/regress_on_bets_output.dat', mode='w')\n",
    "ofile.flush()"
   ]
  },
  {
   "cell_type": "code",
   "execution_count": null,
   "metadata": {
    "collapsed": true
   },
   "outputs": [],
   "source": []
  }
 ],
 "metadata": {
  "kernelspec": {
   "display_name": "Python 3",
   "language": "python",
   "name": "python3"
  },
  "language_info": {
   "codemirror_mode": {
    "name": "ipython",
    "version": 3
   },
   "file_extension": ".py",
   "mimetype": "text/x-python",
   "name": "python",
   "nbconvert_exporter": "python",
   "pygments_lexer": "ipython3",
   "version": "3.5.3"
  }
 },
 "nbformat": 4,
 "nbformat_minor": 2
}
