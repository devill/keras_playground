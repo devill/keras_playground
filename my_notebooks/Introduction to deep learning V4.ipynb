{
 "cells": [
  {
   "cell_type": "code",
   "execution_count": 1,
   "metadata": {
    "collapsed": true,
    "slideshow": {
     "slide_type": "skip"
    }
   },
   "outputs": [],
   "source": [
    "import random\n",
    "import numpy as np\n",
    "from matplotlib import pyplot as plt"
   ]
  },
  {
   "cell_type": "code",
   "execution_count": 2,
   "metadata": {
    "collapsed": true,
    "slideshow": {
     "slide_type": "skip"
    }
   },
   "outputs": [],
   "source": [
    "%matplotlib inline"
   ]
  },
  {
   "cell_type": "code",
   "execution_count": 3,
   "metadata": {
    "collapsed": true
   },
   "outputs": [],
   "source": [
    "import matplotlib.pyplot as plt\n",
    "plt.rcParams['figure.figsize'] = [14,8]"
   ]
  },
  {
   "cell_type": "code",
   "execution_count": 4,
   "metadata": {},
   "outputs": [
    {
     "name": "stderr",
     "output_type": "stream",
     "text": [
      "Using TensorFlow backend.\n"
     ]
    },
    {
     "name": "stdout",
     "output_type": "stream",
     "text": [
      "Downloading data from https://s3.amazonaws.com/img-datasets/mnist.npz\n",
      "11493376/11490434 [==============================] - 6s     \n"
     ]
    }
   ],
   "source": [
    "from Utils.mnist import MNISTImages\n",
    "mnist = MNISTImages()\n",
    "example_image = np.squeeze(mnist.train_input[4])"
   ]
  },
  {
   "cell_type": "code",
   "execution_count": 5,
   "metadata": {
    "collapsed": true
   },
   "outputs": [],
   "source": [
    "def show_images(images, titles = [], fontsize=18):\n",
    "    rows = math.ceil(len(images)/4)\n",
    "    \n",
    "    f = plt.figure(figsize=(16,rows*5))\n",
    "    for i in range(len(images)):\n",
    "        sp = f.add_subplot(rows,4,i+1)\n",
    "        \n",
    "        if i < len(titles):\n",
    "            sp.set_title(titles[i], fontsize=fontsize)\n",
    "            \n",
    "        sp.imshow(images[i], cmap='gray_r', vmin=0)\n",
    "        \n",
    "    plt.show()"
   ]
  },
  {
   "cell_type": "markdown",
   "metadata": {},
   "source": [
    "# Image classification"
   ]
  },
  {
   "cell_type": "code",
   "execution_count": 6,
   "metadata": {
    "collapsed": true
   },
   "outputs": [],
   "source": [
    "import keras\n",
    "from keras.models import Sequential\n",
    "from keras.layers import Input\n",
    "from keras.layers.core import Flatten, Activation\n",
    "from keras.layers.advanced_activations import LeakyReLU\n",
    "from keras.layers.convolutional import Conv2D\n",
    "from keras.optimizers import Nadam\n",
    "\n",
    "\n",
    "model = Sequential([\n",
    "    Conv2D(10,(7,7), input_shape=(28,28,1)),\n",
    "    LeakyReLU(alpha=0.3),\n",
    "    Conv2D(10,(7,7)),\n",
    "    LeakyReLU(alpha=0.3),\n",
    "    Conv2D(10,(16,16)),\n",
    "    Flatten(),\n",
    "    Activation('softmax')\n",
    "])\n",
    "\n",
    "opt = Nadam()\n",
    "model.compile(optimizer=opt,loss='categorical_crossentropy', metrics=['accuracy'])"
   ]
  },
  {
   "cell_type": "code",
   "execution_count": 7,
   "metadata": {
    "collapsed": true
   },
   "outputs": [],
   "source": [
    "from keras.preprocessing import image\n",
    "\n",
    "train_generator = image.ImageDataGenerator(\n",
    "    rotation_range=20,\n",
    "    width_shift_range=0.1,\n",
    "    height_shift_range=0.1,\n",
    "    shear_range=0.05,\n",
    "    zoom_range=0.1,\n",
    ").flow(mnist.train_input, mnist.train_labels, batch_size=512)\n",
    "\n",
    "test_generator = image.ImageDataGenerator().flow(mnist.test_input, mnist.test_labels)"
   ]
  },
  {
   "cell_type": "code",
   "execution_count": 8,
   "metadata": {},
   "outputs": [
    {
     "name": "stdout",
     "output_type": "stream",
     "text": [
      "Epoch 1/6\n",
      "117/117 [==============================] - ETA: 0s - loss: 0.7949 - acc: 0.7494 - val_loss: 0.1441 - val_acc: 0.9611\n",
      "Epoch 2/6\n",
      "117/117 [==============================] - ETA: 0s - loss: 0.3604 - acc: 0.8937 - val_loss: 0.1305 - val_acc: 0.9578\n",
      "Epoch 3/6\n",
      "117/117 [==============================] - ETA: 0s - loss: 0.2917 - acc: 0.9129 - val_loss: 0.0904 - val_acc: 0.9738\n",
      "Epoch 4/6\n",
      "117/117 [==============================] - ETA: 0s - loss: 0.2626 - acc: 0.9219 - val_loss: 0.0738 - val_acc: 0.9775\n",
      "Epoch 5/6\n",
      "117/117 [==============================] - ETA: 0s - loss: 0.2284 - acc: 0.9328 - val_loss: 0.0627 - val_acc: 0.9834\n",
      "Epoch 6/6\n",
      "117/117 [==============================] - ETA: 0s - loss: 0.2149 - acc: 0.9361 - val_loss: 0.0844 - val_acc: 0.9728\n"
     ]
    },
    {
     "data": {
      "text/plain": [
       "<keras.callbacks.History at 0x7f86a4c2e4e0>"
      ]
     },
     "execution_count": 8,
     "metadata": {},
     "output_type": "execute_result"
    }
   ],
   "source": [
    "model.fit_generator(\n",
    "    train_generator, \n",
    "    epochs=6, \n",
    "    steps_per_epoch=117, \n",
    "    validation_data=test_generator, \n",
    "    validation_steps=len(mnist.test_labels)/20\n",
    ")"
   ]
  },
  {
   "cell_type": "code",
   "execution_count": 9,
   "metadata": {},
   "outputs": [
    {
     "data": {
      "text/plain": [
       "<matplotlib.image.AxesImage at 0x7f8650530ef0>"
      ]
     },
     "execution_count": 9,
     "metadata": {},
     "output_type": "execute_result"
    },
    {
     "data": {
      "image/png": "[encoded data removed]",
      "text/plain": [
       "<matplotlib.figure.Figure at 0x7f8653f3ef98>"
      ]
     },
     "metadata": {},
     "output_type": "display_data"
    }
   ],
   "source": [
    "preview_generator = image.ImageDataGenerator().flow(\n",
    "    mnist.test_input, \n",
    "    mnist.test_labels, \n",
    "    batch_size=1, \n",
    "    shuffle=True\n",
    ")\n",
    "\n",
    "imgs, original_label_ids = next(preview_generator)\n",
    "\n",
    "while original_label_ids[0,5] != 1:\n",
    "    imgs, original_label_ids = next(preview_generator)\n",
    "\n",
    "preds = model.predict(imgs)\n",
    "labels = (np.argmax(preds, axis=1))\n",
    "\n",
    "plt.imshow(imgs[0,:,:,0], cmap='gray')"
   ]
  },
  {
   "cell_type": "code",
   "execution_count": 20,
   "metadata": {
    "collapsed": true
   },
   "outputs": [],
   "source": [
    "from keras.models import Model\n",
    "\n",
    "def show_layers(d, layers):\n",
    "    rows = len(layers)\n",
    "    f = plt.figure(figsize=(15,1.8*rows))\n",
    "    \n",
    "    i = 0\n",
    "    for index in layers:\n",
    "        intermediate_model = Model(inputs=model.input, outputs=model.get_layer(model.layers[index].name).output)\n",
    "        intermediate_result = intermediate_model.predict(d)\n",
    "        max_value = np.max(intermediate_result)\n",
    "        min_value = np.min(intermediate_result)\n",
    "        for m in range(intermediate_result.shape[3]):\n",
    "            i+=1\n",
    "            sp = f.add_subplot(rows, 10, i)\n",
    "            sp.axis('off')\n",
    "            plt.imshow(intermediate_result[0,:,:,m], cmap='gray', vmin=min_value, vmax=max_value)\n"
   ]
  },
  {
   "cell_type": "code",
   "execution_count": 21,
   "metadata": {},
   "outputs": [
    {
     "data": {
      "image/png": "[encoded data removed]",
      "text/plain": [
       "<matplotlib.figure.Figure at 0x7f86529c7be0>"
      ]
     },
     "metadata": {},
     "output_type": "display_data"
    }
   ],
   "source": [
    "show_layers(imgs,[0,1,2,3,4])"
   ]
  },
  {
   "cell_type": "code",
   "execution_count": 23,
   "metadata": {},
   "outputs": [],
   "source": [
    "intermediate_model = Model(inputs=model.input, outputs=model.get_layer(model.layers[1].name).output)\n",
    "intermediate_result = intermediate_model.predict(imgs)"
   ]
  },
  {
   "cell_type": "code",
   "execution_count": 13,
   "metadata": {},
   "outputs": [
    {
     "data": {
      "text/plain": [
       "(22, 22, 10)"
      ]
     },
     "execution_count": 13,
     "metadata": {},
     "output_type": "execute_result"
    }
   ],
   "source": [
    "intermediate_result[0].shape"
   ]
  },
  {
   "cell_type": "code",
   "execution_count": 14,
   "metadata": {
    "collapsed": true
   },
   "outputs": [],
   "source": [
    "filters = model.get_layer(model.layers[2].name).get_weights()[0]"
   ]
  },
  {
   "cell_type": "code",
   "execution_count": 15,
   "metadata": {},
   "outputs": [
    {
     "data": {
      "text/plain": [
       "(7, 7, 10, 10)"
      ]
     },
     "execution_count": 15,
     "metadata": {},
     "output_type": "execute_result"
    }
   ],
   "source": [
    "filters.shape"
   ]
  },
  {
   "cell_type": "code",
   "execution_count": 16,
   "metadata": {
    "collapsed": true
   },
   "outputs": [],
   "source": [
    "filters = model.get_layer(model.layers[2].name).get_weights()[0]"
   ]
  },
  {
   "cell_type": "code",
   "execution_count": 17,
   "metadata": {},
   "outputs": [
    {
     "data": {
      "text/plain": [
       "(22, 22, 10)"
      ]
     },
     "execution_count": 17,
     "metadata": {},
     "output_type": "execute_result"
    }
   ],
   "source": [
    "intermediate_result[0].shape"
   ]
  },
  {
   "cell_type": "code",
   "execution_count": 18,
   "metadata": {
    "collapsed": true
   },
   "outputs": [],
   "source": [
    "from scipy.signal import convolve2d"
   ]
  },
  {
   "cell_type": "code",
   "execution_count": 19,
   "metadata": {},
   "outputs": [
    {
     "data": {
      "image/png": "[encoded data removed]",
      "text/plain": [
       "<matplotlib.figure.Figure at 0x7f862cf509e8>"
      ]
     },
     "metadata": {},
     "output_type": "display_data"
    }
   ],
   "source": [
    "\n",
    "f = plt.figure(figsize=(15,3))\n",
    "max_value = np.max(intermediate_result)\n",
    "min_value = np.min(intermediate_result)\n",
    "\n",
    "for i in range(10):\n",
    "    sp = f.add_subplot(2, 10, i+1)\n",
    "    sp.axis('off')\n",
    "    plt.imshow(intermediate_result[0][:,:,i], cmap='gray', vmin=min_value, vmax=max_value)\n",
    "    \n",
    "    sp = f.add_subplot(2, 10, i+11)\n",
    "    sp.axis('off')\n",
    "    convolved = convolve2d(intermediate_result[0][:,:,i], filters[:,:,i,0], mode='valid')\n",
    "    plt.imshow(convolved, cmap='gray', vmin=min_value, vmax=max_value)"
   ]
  },
  {
   "cell_type": "code",
   "execution_count": null,
   "metadata": {
    "collapsed": true
   },
   "outputs": [],
   "source": []
  },
  {
   "cell_type": "code",
   "execution_count": null,
   "metadata": {
    "collapsed": true
   },
   "outputs": [],
   "source": [
    "#model.save_weights('/data/trained_models/mnist_for_talk.h5')"
   ]
  },
  {
   "cell_type": "code",
   "execution_count": null,
   "metadata": {
    "collapsed": true
   },
   "outputs": [],
   "source": [
    "#model.load_weights('/data/trained_models/mnist_for_talk.h5')"
   ]
  },
  {
   "cell_type": "code",
   "execution_count": null,
   "metadata": {
    "collapsed": true
   },
   "outputs": [],
   "source": []
  }
 ],
 "metadata": {
  "kernelspec": {
   "display_name": "Python 3",
   "language": "python",
   "name": "python3"
  },
  "language_info": {
   "codemirror_mode": {
    "name": "ipython",
    "version": 3
   },
   "file_extension": ".py",
   "mimetype": "text/x-python",
   "name": "python",
   "nbconvert_exporter": "python",
   "pygments_lexer": "ipython3",
   "version": "3.5.4"
  }
 },
 "nbformat": 4,
 "nbformat_minor": 2
}
