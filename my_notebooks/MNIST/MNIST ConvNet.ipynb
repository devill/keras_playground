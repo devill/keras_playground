{
 "cells": [
  {
   "cell_type": "code",
   "execution_count": 1,
   "metadata": {
    "collapsed": false
   },
   "outputs": [
    {
     "name": "stderr",
     "output_type": "stream",
     "text": [
      "Using TensorFlow backend.\n"
     ]
    }
   ],
   "source": [
    "import keras\n",
    "from keras.models import Sequential\n",
    "from keras.layers.normalization import BatchNormalization\n",
    "from keras.layers.core import Flatten, Dense, Dropout, Activation\n",
    "from keras.layers.convolutional import Convolution2D, MaxPooling2D, ZeroPadding2D\n",
    "from keras.preprocessing import image\n",
    "from keras.optimizers import Nadam\n",
    "from matplotlib import pyplot as plt\n",
    "from PIL import Image\n",
    "from sklearn.metrics import confusion_matrix\n",
    "import itertools\n",
    "import numpy as np"
   ]
  },
  {
   "cell_type": "code",
   "execution_count": 14,
   "metadata": {
    "collapsed": true
   },
   "outputs": [],
   "source": [
    "%matplotlib inline"
   ]
  },
  {
   "cell_type": "code",
   "execution_count": 2,
   "metadata": {
    "collapsed": false
   },
   "outputs": [],
   "source": [
    "from keras import backend as K\n",
    "from keras.datasets import mnist as mnist_dataset\n",
    "\n",
    "class MNISTImages:\n",
    "    def __init__(self):\n",
    "        img_rows = img_cols = 28\n",
    "        \n",
    "        (X_train, y_train), (X_test, y_test) = mnist_dataset.load_data()\n",
    "\n",
    "        if K.image_dim_ordering() == 'th':\n",
    "            X_train = X_train.reshape(X_train.shape[0], 1, img_rows, img_cols)\n",
    "            X_test = X_test.reshape(X_test.shape[0], 1, img_rows, img_cols)\n",
    "            input_shape = (1, img_rows, img_cols)\n",
    "        else:\n",
    "            X_train = X_train.reshape(X_train.shape[0], img_rows, img_cols, 1)\n",
    "            X_test = X_test.reshape(X_test.shape[0], img_rows, img_cols, 1)\n",
    "            input_shape = (img_rows, img_cols, 1)\n",
    "            \n",
    "        X_train = X_train.astype('float32')\n",
    "        X_test = X_test.astype('float32')\n",
    "        X_train /= 255\n",
    "        X_test /= 255\n",
    "            \n",
    "        self.train_input = X_train\n",
    "        self.train_labels = self.to_categorical(y_train)\n",
    "        \n",
    "        self.test_input = X_test\n",
    "        self.test_labels = self.to_categorical(y_test)\n",
    "        \n",
    "    def to_categorical(self,y):\n",
    "        y = np.array(y, dtype='int').ravel()\n",
    "        nb_classes = np.max(y) + 1\n",
    "        n = y.shape[0]\n",
    "        categorical = np.zeros((n, nb_classes))\n",
    "        categorical[np.arange(n), y] = 1\n",
    "        return categorical\n",
    "        "
   ]
  },
  {
   "cell_type": "code",
   "execution_count": 3,
   "metadata": {
    "collapsed": true
   },
   "outputs": [],
   "source": [
    "def getModel():\n",
    "    return Sequential([\n",
    "        BatchNormalization(input_shape=(28,28,1), axis=3),\n",
    "        Convolution2D(10,3,3, border_mode='same', activation='relu'),\n",
    "        Convolution2D(10,3,3, border_mode='same', activation='relu'),\n",
    "        BatchNormalization(axis=3),\n",
    "        Dropout(0.1),\n",
    "        MaxPooling2D(pool_size=(2,2)),\n",
    "        Convolution2D(20,3,3, border_mode='same', activation='relu'),\n",
    "        Dropout(0.2),\n",
    "        MaxPooling2D(pool_size=(2,2)),\n",
    "        Flatten(),\n",
    "        Dense(128, activation='relu'),\n",
    "        Dropout(0.45),\n",
    "        Dense(10),\n",
    "        Activation('softmax')\n",
    "    ])"
   ]
  },
  {
   "cell_type": "code",
   "execution_count": 4,
   "metadata": {
    "collapsed": true
   },
   "outputs": [],
   "source": [
    "model = getModel()\n",
    "opt = Nadam(lr=0.002, beta_1=0.9, beta_2=0.999, epsilon=1e-08, schedule_decay=0.006)\n",
    "model.compile(optimizer=opt,loss='categorical_crossentropy', metrics=['accuracy'])"
   ]
  },
  {
   "cell_type": "code",
   "execution_count": 5,
   "metadata": {
    "collapsed": false
   },
   "outputs": [
    {
     "name": "stdout",
     "output_type": "stream",
     "text": [
      "Downloading data from https://s3.amazonaws.com/img-datasets/mnist.pkl.gz\n"
     ]
    }
   ],
   "source": [
    "mnist = MNISTImages()"
   ]
  },
  {
   "cell_type": "code",
   "execution_count": 6,
   "metadata": {
    "collapsed": false
   },
   "outputs": [],
   "source": [
    "train_generator = image.ImageDataGenerator(\n",
    "    rotation_range=20,\n",
    "    width_shift_range=0.1,\n",
    "    height_shift_range=0.1,\n",
    "    shear_range=0.05,\n",
    "    zoom_range=0.1,\n",
    "    dim_ordering='tf'\n",
    ").flow(mnist.train_input, mnist.train_labels, batch_size=512)\n",
    "\n",
    "test_generator = image.ImageDataGenerator().flow(mnist.test_input, mnist.test_labels)"
   ]
  },
  {
   "cell_type": "code",
   "execution_count": null,
   "metadata": {
    "collapsed": false
   },
   "outputs": [
    {
     "name": "stdout",
     "output_type": "stream",
     "text": [
      "Epoch 1/12\n"
     ]
    }
   ],
   "source": [
    "#model.fit_generator(\n",
    "#        train_generator, \n",
    "#        samples_per_epoch=len(mnist.train_labels),\n",
    "#        nb_epoch=24, \n",
    "#        validation_data=test_generator, \n",
    "#        nb_val_samples=len(mnist.test_labels)\n",
    "#    )"
   ]
  },
  {
   "cell_type": "code",
   "execution_count": 12,
   "metadata": {
    "collapsed": false
   },
   "outputs": [],
   "source": [
    "model.load_weights('/data/trained_models/mnist/v0.3.h5')"
   ]
  },
  {
   "cell_type": "code",
   "execution_count": 13,
   "metadata": {
    "collapsed": false
   },
   "outputs": [
    {
     "name": "stdout",
     "output_type": "stream",
     "text": [
      "[0.018297617579461075, 0.99399999999999999]\n"
     ]
    }
   ],
   "source": [
    "print(model.evaluate(mnist.test_input, mnist.test_labels, verbose=0))"
   ]
  },
  {
   "cell_type": "code",
   "execution_count": 11,
   "metadata": {
    "collapsed": false
   },
   "outputs": [
    {
     "data": {
      "text/plain": [
       "60.00000000000006"
      ]
     },
     "execution_count": 11,
     "metadata": {},
     "output_type": "execute_result"
    }
   ],
   "source": [
    "len(mnist.test_labels)*(1-0.994)"
   ]
  },
  {
   "cell_type": "code",
   "execution_count": 32,
   "metadata": {
    "collapsed": true
   },
   "outputs": [],
   "source": [
    "import math\n",
    "def plots(ims, figsize=(12,6), rows=1, interp=False, titles=None, sub_titles=None, grayscale=False, cmap=None):\n",
    "    f = plt.figure(figsize=figsize)\n",
    "    for i in range(len(ims)):\n",
    "        sp = f.add_subplot(rows, math.ceil(len(ims)/rows), i+1)\n",
    "        if titles is not None:\n",
    "            sp.set_title(titles[i], fontsize=14)\n",
    "        if sub_titles is not None:\n",
    "            sp.set_title(titles[i] + \" (\" + sub_titles[i] + \")\", fontsize=14)\n",
    "        plt.imshow(ims[i].reshape((28,28)), interpolation=None if interp else 'none', cmap=cmap)"
   ]
  },
  {
   "cell_type": "code",
   "execution_count": 41,
   "metadata": {
    "collapsed": true
   },
   "outputs": [],
   "source": [
    "preview_generator = image.ImageDataGenerator().flow(mnist.test_input, mnist.test_labels, batch_size=8)\n",
    "imgs, original_label_ids = next(preview_generator)\n",
    "preds = model.predict(imgs)\n",
    "labels = (np.argmax(preds, axis=1))"
   ]
  },
  {
   "cell_type": "code",
   "execution_count": 40,
   "metadata": {
    "collapsed": false
   },
   "outputs": [
    {
     "data": {
      "image/png": "[encoded data removed]",
      "text/plain": [
       "<matplotlib.figure.Figure at 0x7f7ef04f9710>"
      ]
     },
     "metadata": {},
     "output_type": "display_data"
    }
   ],
   "source": [
    "plots(imgs, titles=np.argmax(original_label_ids, axis=1), rows=2, cmap='gray')"
   ]
  },
  {
   "cell_type": "code",
   "execution_count": null,
   "metadata": {
    "collapsed": true
   },
   "outputs": [],
   "source": []
  }
 ],
 "metadata": {
  "kernelspec": {
   "display_name": "Python 3",
   "language": "python",
   "name": "python3"
  },
  "language_info": {
   "codemirror_mode": {
    "name": "ipython",
    "version": 3
   },
   "file_extension": ".py",
   "mimetype": "text/x-python",
   "name": "python",
   "nbconvert_exporter": "python",
   "pygments_lexer": "ipython3",
   "version": "3.5.2"
  }
 },
 "nbformat": 4,
 "nbformat_minor": 2
}
