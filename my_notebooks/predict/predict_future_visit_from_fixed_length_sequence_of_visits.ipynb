{
 "cells": [
  {
   "cell_type": "code",
   "execution_count": 1,
   "metadata": {},
   "outputs": [
    {
     "name": "stderr",
     "output_type": "stream",
     "text": [
      "Using TensorFlow backend.\n"
     ]
    }
   ],
   "source": [
    "import json\n",
    "import matplotlib.pyplot as plt\n",
    "from keras.utils import to_categorical\n",
    "from tqdm import tqdm\n",
    "import random\n",
    "import numpy as np"
   ]
  },
  {
   "cell_type": "code",
   "execution_count": 2,
   "metadata": {},
   "outputs": [],
   "source": [
    "%matplotlib inline"
   ]
  },
  {
   "cell_type": "code",
   "execution_count": 3,
   "metadata": {},
   "outputs": [],
   "source": [
    "merchant_id = '11167ECFF94860EA'"
   ]
  },
  {
   "cell_type": "code",
   "execution_count": 4,
   "metadata": {},
   "outputs": [],
   "source": [
    "file = '/data/predict/'+merchant_id+'/'+merchant_id+'_logs.json'"
   ]
  },
  {
   "cell_type": "code",
   "execution_count": 5,
   "metadata": {},
   "outputs": [
    {
     "name": "stderr",
     "output_type": "stream",
     "text": [
      "59810it [00:00, 114799.96it/s]\n"
     ]
    }
   ],
   "source": [
    "users = {}\n",
    "with open(file, encoding='utf8') as f:\n",
    "    for line in tqdm(f):\n",
    "        data = json.loads(line)\n",
    "        if data['visitor_id'] not in users:\n",
    "            users[data['visitor_id']] = []\n",
    "        for prod_idx in data['viewed_products']:\n",
    "            try:\n",
    "                users[data['visitor_id']].append(prod_idx)\n",
    "            except ValueError: \n",
    "                print('Sktrain_labelsiped ' + prod_idx)"
   ]
  },
  {
   "cell_type": "code",
   "execution_count": 6,
   "metadata": {},
   "outputs": [],
   "source": [
    "users_lens = list(map(lambda x: len(x), users.values()))"
   ]
  },
  {
   "cell_type": "code",
   "execution_count": 7,
   "metadata": {},
   "outputs": [
    {
     "name": "stdout",
     "output_type": "stream",
     "text": [
      "15710\n"
     ]
    }
   ],
   "source": [
    "print(len(users.keys()))"
   ]
  },
  {
   "cell_type": "code",
   "execution_count": 8,
   "metadata": {},
   "outputs": [
    {
     "data": {
      "image/png": "[encoded data removed]",
      "text/plain": [
       "<matplotlib.figure.Figure at 0x7f26c95f9828>"
      ]
     },
     "metadata": {},
     "output_type": "display_data"
    }
   ],
   "source": [
    "d = plt.hist(users_lens, bins=100, range=(3, 103))"
   ]
  },
  {
   "cell_type": "code",
   "execution_count": 9,
   "metadata": {},
   "outputs": [],
   "source": [
    "products = {}\n",
    "for u in users.values():\n",
    "    for pid in u:\n",
    "        products[pid] = 1\n",
    "product_idxs = products.keys()\n",
    "product_ids = {v: k for k, v in enumerate(product_idxs)}\n",
    "number_of_classes = len(product_idxs)"
   ]
  },
  {
   "cell_type": "code",
   "execution_count": 10,
   "metadata": {},
   "outputs": [
    {
     "name": "stdout",
     "output_type": "stream",
     "text": [
      "2043\n"
     ]
    }
   ],
   "source": [
    "print(number_of_classes)"
   ]
  },
  {
   "cell_type": "code",
   "execution_count": 11,
   "metadata": {},
   "outputs": [],
   "source": [
    "def dedup(seq):\n",
    "    seen = set()\n",
    "    seen_add = seen.add\n",
    "\n",
    "    return [x for x in seq if not (x in seen or seen_add(x))]\n",
    "\n",
    "\n",
    "users_with_product_idxs = {}\n",
    "for uid,products in users.items():\n",
    "    ids = dedup(list(map(lambda x: product_ids[x], products)))\n",
    "    if len(ids) > 1:\n",
    "        users_with_product_idxs[uid] = ids\n",
    "    \n",
    "del users"
   ]
  },
  {
   "cell_type": "code",
   "execution_count": 12,
   "metadata": {},
   "outputs": [
    {
     "name": "stderr",
     "output_type": "stream",
     "text": [
      "100%|██████████| 7651/7651 [00:00<00:00, 42473.70it/s]\n"
     ]
    }
   ],
   "source": [
    "raw_data = []\n",
    "raw_abels  = []\n",
    "for uid,products in tqdm(users_with_product_idxs.items()):\n",
    "    if(len(products) > 5):\n",
    "        for i in range(len(products) - 6):\n",
    "            if(random.random() < 1):\n",
    "                for j in range(i+6,len(products)):\n",
    "                    raw_data.append(np.array(products[i:(i+5)]))\n",
    "                    raw_abels.append(np.array(products[j]))"
   ]
  },
  {
   "cell_type": "code",
   "execution_count": 13,
   "metadata": {},
   "outputs": [],
   "source": [
    "data_np = np.stack(raw_data)\n",
    "labels_np = np.expand_dims(np.stack(raw_abels), axis=1)"
   ]
  },
  {
   "cell_type": "code",
   "execution_count": 14,
   "metadata": {},
   "outputs": [],
   "source": [
    "from sklearn.model_selection import train_test_split\n",
    "train_data, valid_data, train_labels, valid_labels  = train_test_split(data_np , labels_np, test_size=0.10, shuffle=True)"
   ]
  },
  {
   "cell_type": "code",
   "execution_count": 15,
   "metadata": {},
   "outputs": [],
   "source": [
    "import bcolz\n",
    "emb_weights = bcolz.open('/data/predict/'+merchant_id+'/'+merchant_id+'_embedding')[:]"
   ]
  },
  {
   "cell_type": "code",
   "execution_count": 17,
   "metadata": {},
   "outputs": [],
   "source": [
    "from keras.models import Sequential\n",
    "from keras.layers import Embedding, CuDNNGRU, CuDNNLSTM, Dense, Dropout, TimeDistributed,Bidirectional\n",
    "from keras.layers.normalization import BatchNormalization\n",
    "from keras.optimizers import Nadam\n",
    "from keras.optimizers import Nadam\n",
    "\n",
    "\n",
    "n_hidden = 100\n",
    "\n",
    "model=Sequential([\n",
    "        Embedding(number_of_classes, n_hidden, batch_input_shape=(None,None), weights=emb_weights, trainable=False),\n",
    "        BatchNormalization(),\n",
    "        #CuDNNGRU(4*n_hidden, input_shape=(None,n_hidden),return_sequences=True),\n",
    "        CuDNNLSTM(4*n_hidden, input_shape=(None,n_hidden),return_sequences=True),\n",
    "        Dropout(0.2),\n",
    "        #CuDNNGRU(4*n_hidden),\n",
    "        CuDNNLSTM(4*n_hidden),\n",
    "        Dropout(0.2),\n",
    "        #Dense(n_hidden, activation='relu'),\n",
    "        Dense(number_of_classes, activation='softmax')\n",
    "    ])"
   ]
  },
  {
   "cell_type": "code",
   "execution_count": 18,
   "metadata": {},
   "outputs": [],
   "source": [
    "model.compile(loss='sparse_categorical_crossentropy', metrics=['sparse_categorical_accuracy','sparse_top_k_categorical_accuracy'], optimizer=Nadam())"
   ]
  },
  {
   "cell_type": "code",
   "execution_count": 19,
   "metadata": {},
   "outputs": [],
   "source": [
    "from keras.callbacks import ModelCheckpoint\n",
    "filepath='/data/predict/'+merchant_id+'/'+merchant_id+'_fixed_length_future_lstm_model-{epoch:02d}-{val_loss:.2f}.hdf5'\n",
    "checkpoint = ModelCheckpoint(filepath, monitor='val_loss', verbose=1, save_best_only=True, mode='max')"
   ]
  },
  {
   "cell_type": "code",
   "execution_count": 20,
   "metadata": {},
   "outputs": [],
   "source": [
    "import csv\n",
    "with open('/data/predict/'+merchant_id+'/'+merchant_id+'_fixed_length_future_lstm_model_id_map.csv', 'w') as csvfile:\n",
    "    spamwriter = csv.writer(csvfile)\n",
    "    for line in product_idxs:\n",
    "        spamwriter.writerow([line])"
   ]
  },
  {
   "cell_type": "code",
   "execution_count": 21,
   "metadata": {},
   "outputs": [
    {
     "name": "stdout",
     "output_type": "stream",
     "text": [
      "Train on 47037 samples, validate on 5227 samples\n",
      "Epoch 1/6\n",
      "47037/47037 [==============================] - 5s 99us/step - loss: 6.5513 - sparse_categorical_accuracy: 0.0117 - sparse_top_k_categorical_accuracy: 0.0518 - val_loss: 5.9172 - val_sparse_categorical_accuracy: 0.0210 - val_sparse_top_k_categorical_accuracy: 0.0872\n",
      "Epoch 2/6\n",
      "47037/47037 [==============================] - 2s 43us/step - loss: 4.8486 - sparse_categorical_accuracy: 0.0373 - sparse_top_k_categorical_accuracy: 0.1871 - val_loss: 4.6464 - val_sparse_categorical_accuracy: 0.0260 - val_sparse_top_k_categorical_accuracy: 0.1716\n",
      "Epoch 3/6\n",
      "47037/47037 [==============================] - 2s 42us/step - loss: 3.9927 - sparse_categorical_accuracy: 0.0620 - sparse_top_k_categorical_accuracy: 0.3000 - val_loss: 4.2366 - val_sparse_categorical_accuracy: 0.0251 - val_sparse_top_k_categorical_accuracy: 0.2074\n",
      "Epoch 4/6\n",
      "47037/47037 [==============================] - 2s 43us/step - loss: 3.6018 - sparse_categorical_accuracy: 0.0766 - sparse_top_k_categorical_accuracy: 0.3678 - val_loss: 4.0875 - val_sparse_categorical_accuracy: 0.0230 - val_sparse_top_k_categorical_accuracy: 0.2212\n",
      "Epoch 5/6\n",
      "47037/47037 [==============================] - 2s 43us/step - loss: 3.3949 - sparse_categorical_accuracy: 0.0836 - sparse_top_k_categorical_accuracy: 0.4041 - val_loss: 4.0287 - val_sparse_categorical_accuracy: 0.0247 - val_sparse_top_k_categorical_accuracy: 0.2238\n",
      "Epoch 6/6\n",
      "47037/47037 [==============================] - 2s 43us/step - loss: 3.2716 - sparse_categorical_accuracy: 0.0873 - sparse_top_k_categorical_accuracy: 0.4236 - val_loss: 3.9909 - val_sparse_categorical_accuracy: 0.0180 - val_sparse_top_k_categorical_accuracy: 0.2215\n"
     ]
    },
    {
     "data": {
      "text/plain": [
       "<keras.callbacks.History at 0x7f26306cee48>"
      ]
     },
     "execution_count": 21,
     "metadata": {},
     "output_type": "execute_result"
    }
   ],
   "source": [
    "model.fit(\n",
    "    train_data, \n",
    "    train_labels,\n",
    "    validation_data=(valid_data,valid_labels), \n",
    "    batch_size=256, \n",
    "    epochs=6, \n",
    "    #callbacks = [checkpoint],\n",
    "    shuffle=True)"
   ]
  },
  {
   "cell_type": "markdown",
   "metadata": {},
   "source": [
    "## Eye ball validation"
   ]
  },
  {
   "cell_type": "code",
   "execution_count": 22,
   "metadata": {},
   "outputs": [],
   "source": [
    "import csv"
   ]
  },
  {
   "cell_type": "code",
   "execution_count": 23,
   "metadata": {},
   "outputs": [
    {
     "data": {
      "text/plain": [
       "'11167ECFF94860EA'"
      ]
     },
     "execution_count": 23,
     "metadata": {},
     "output_type": "execute_result"
    }
   ],
   "source": [
    "merchant_id"
   ]
  },
  {
   "cell_type": "code",
   "execution_count": 24,
   "metadata": {},
   "outputs": [],
   "source": [
    "product_map = {}\n",
    "with open('/data/predict/'+merchant_id+'/'+merchant_id+'_catalog.csv', 'r', encoding='utf8') as csvfile:\n",
    "    spamreader = csv.reader(csvfile)\n",
    "    header = next(spamreader)\n",
    "    item_id = header.index('item')\n",
    "    image_url = header.index('image')\n",
    "    title = header.index('title')\n",
    "    link = header.index('link')\n",
    "    \n",
    "    for row in spamreader:\n",
    "        product_map[row[item_id]] = [row[image_url], row[title], row[link]]"
   ]
  },
  {
   "cell_type": "code",
   "execution_count": 25,
   "metadata": {},
   "outputs": [
    {
     "data": {
      "application/javascript": [
       "IPython.OutputArea.prototype._should_scroll = function(lines) {\n",
       "    return false;\n",
       "}"
      ],
      "text/plain": [
       "<IPython.core.display.Javascript object>"
      ]
     },
     "metadata": {},
     "output_type": "display_data"
    }
   ],
   "source": [
    "%%javascript\n",
    "IPython.OutputArea.prototype._should_scroll = function(lines) {\n",
    "    return false;\n",
    "}"
   ]
  },
  {
   "cell_type": "code",
   "execution_count": 28,
   "metadata": {},
   "outputs": [
    {
     "data": {
      "text/html": [
       "<table><tr><td style=\"text-align:center;width:100px\"><img src=\"http://www.nkd.com/wcsstore/NKD2/images/catalog/2041507x1x1_M.jpg\" width=\"100\"><br/><a href=\"http://www.nkd.com/damenmode-damen-pullover-langarmshirts/Damen-Pullover-in-gestrickter-Melange-Optik_207551_435557.html\">2041507</a></br>Damen-Pullover in gestrickter Melange-Optik</td><td style=\"text-align:center;width:100px\"><img src=\"http://www.nkd.com/wcsstore/NKD2/images/catalog/2041503x1x1_M.jpg\" width=\"100\"><br/><a href=\"http://www.nkd.com/damenmode-damen-pullover-langarmshirts/Damen-Pullover-mit-modischem-Strickmuster_207551_435555.html\">2041503</a></br>Damen-Pullover mit modischem Strickmuster</td><td style=\"text-align:center;width:100px\"><img src=\"http://www.nkd.com/wcsstore/NKD2/images/catalog/2041504x1x1_M.jpg\" width=\"100\"><br/><a href=\"http://www.nkd.com/damenmode-damen-pullover-langarmshirts/Damen-Pullover-mit-trendigen-Seitenschlitzen_207551_435553.html\">2041504</a></br>Damen-Pullover mit trendigen Seitenschlitzen</td><td style=\"text-align:center;width:100px\"><img src=\"http://www.nkd.com/wcsstore/NKD2/images/catalog/2041972x1x1_M.jpg\" width=\"100\"><br/><a href=\"http://www.nkd.com/NEU20171102FrohesFest/Damen-Strickjacke-mit-grossen-Knoepfen_10097_434937.html\">2041972</a></br>Damen-Strickjacke mit großen Knöpfen</td><td style=\"text-align:center;width:100px\"><img src=\"http://www.nkd.com/wcsstore/NKD2/images/catalog/2041826x1x1_M.jpg\" width=\"100\"><br/><a href=\"http://www.nkd.com/NEU20171102FrohesFest/Damen-Thermo-Socken-mit-schickem-Muster_10097_434999.html\">2041826</a></br>Damen-Thermo-Socken mit schickem Muster</td><td style=\"background-color:black;\"></td><td style=\"text-align:center;width:100px\"><img src=\"http://www.nkd.com/wcsstore/NKD2/images/catalog/2042455x1x1_M.jpg\" width=\"100\"><br/><a href=\"http://www.nkd.com/damenmode-brands-laura-torelli-classic/Damen-Strickjacke-mit-Lurexfaden_215062_428618.html\">2042455</a></br>Damen-Strickjacke mit Lurexfaden</td><td style=\"text-align:center;width:100px\"><img src=\"http://www.nkd.com/wcsstore/NKD2/images/catalog/2042220x1x1_M.jpg\" width=\"100\"><br/><a href=\"http://www.nkd.com/damenmode-brands-laura-torelli-classic/Damen-Shirt-mit-dekorativem-Ausschnitt_215062_434126.html\">2042220</a></br>Damen-Shirt mit dekorativem Ausschnitt</td><td style=\"text-align:center;width:100px\"><img src=\"http://www.nkd.com/wcsstore/NKD2/images/catalog/2042534x1x1_M.jpg\" width=\"100\"><br/><a href=\"http://www.nkd.com/schnaeppchen-damenmode-brands/Damen-Pullover-mit-Ajour-Einsaetzen_215081_427797.html\">2042534</a></br>Damen-Pullover mit Ajour-Einsätzen</td><td style=\"text-align:center;width:100px\"><img src=\"http://www.nkd.com/wcsstore/NKD2/images/catalog/2041974x1x1_M.jpg\" width=\"100\"><br/><a href=\"http://www.nkd.com/damenmode-brands-laura-torelli-collection/Damen-Pullover-mit-doppellagigem-Design_215062_428706.html\">2041974</a></br>Damen-Pullover mit doppellagigem Design</td><td style=\"text-align:center;width:100px\"><img src=\"http://www.nkd.com/wcsstore/NKD2/images/catalog/2042452x1x1_M.jpg\" width=\"100\"><br/><a href=\"http://www.nkd.com/damenmode-damen-pullover-langarmshirts/Damen-Rollkragen-Pullover-mit-spannendem-Muster_207551_431330.html\">2042452</a></br>Damen-Rollkragen-Pullover mit spannendem Muster</td></tr></table>"
      ],
      "text/plain": [
       "<IPython.core.display.HTML object>"
      ]
     },
     "metadata": {},
     "output_type": "display_data"
    }
   ],
   "source": [
    "from IPython.core.display import display as core_display\n",
    "from IPython.core.display import HTML \n",
    "\n",
    "def product_to_url(product):\n",
    "    try:\n",
    "        \n",
    "        return [product] + product_map[list(product_idxs)[product]] + [list(product_idxs)[product]]\n",
    "    except KeyError:\n",
    "        return [product,'http://www.lackuna.com/wp-content/themes/fearless/images/missing-image-640x360.png','UNKNOWN','', '']\n",
    "\n",
    "    \n",
    "def display_sessions(sessions):\n",
    "    predictions = model.predict(np.array(sessions))\n",
    "    for i in range(len(sessions)):\n",
    "        #print(predictions[i])\n",
    "        display_session(sessions[i])\n",
    "    \n",
    "def display_session(session, predictions = None):\n",
    "    products = list(map(product_to_url, session))\n",
    "    if predictions is None:\n",
    "        predictions = model.predict([session])\n",
    "        \n",
    "    html = '<table>'\n",
    "    html += '<tr>'\n",
    "    seen = set()\n",
    "    for i,product in enumerate(products):\n",
    "\n",
    "        html += '<td style=\"text-align:center;width:100px\">'\n",
    "        html += '<img src=\"' + product[1] + '\" width=\"100\"><br/>' \n",
    "        html += '<a href=\"'+str(product[3])+'\">' + str(product[4]) + '</a></br>' + str(product[2])\n",
    "        html += '</td>'\n",
    "        \n",
    "        seen.add(product[0])\n",
    "    \n",
    "    html += '<td style=\"background-color:black;\"></td>'\n",
    "    top_idx = list(np.argsort(predictions[0])[::-1])\n",
    "        \n",
    "    j = 0\n",
    "    for pred in top_idx:\n",
    "        if pred in seen:\n",
    "            continue   \n",
    "                \n",
    "        pred_data = product_to_url(pred)\n",
    "        if pred_data[2] == 'UNKNOWN':\n",
    "            continue \n",
    "            \n",
    "        html += '<td style=\"text-align:center;width:100px\">'\n",
    "        html += '<img src=\"' + pred_data[1] + '\" width=\"100\"><br/>' \n",
    "        html += '<a href=\"'+str(pred_data[3]) + '\">' +str(pred_data[4]) + '</a></br>' + str(pred_data[2]) + '</td>'\n",
    "        j+=1\n",
    "        if j >= 5:\n",
    "            break\n",
    "                \n",
    "    html += '</tr>'\n",
    "    html += '</table>'\n",
    "\n",
    "    core_display(HTML(html))\n",
    "\n",
    "display_session(random.choice(valid_data))"
   ]
  },
  {
   "cell_type": "markdown",
   "metadata": {},
   "source": [
    "### Do we make different predictions based on history?"
   ]
  },
  {
   "cell_type": "code",
   "execution_count": 29,
   "metadata": {},
   "outputs": [],
   "source": [
    "grouped_by_last_item = {}\n",
    "for session in valid_data:\n",
    "    if session[-1] not in grouped_by_last_item:\n",
    "        grouped_by_last_item[session[-1]] = []\n",
    "    grouped_by_last_item[session[-1]].append(session)"
   ]
  },
  {
   "cell_type": "code",
   "execution_count": 52,
   "metadata": {},
   "outputs": [
    {
     "data": {
      "text/html": [
       "<table><tr><td style=\"text-align:center;width:100px\"><img src=\"http://www.nkd.com/wcsstore/NKD2/images/catalog/2043559x1x1_M.jpg\" width=\"100\"><br/><a href=\"http://www.nkd.com/damenmode-damen-jacken-westen/Damen-2-in-1-Allwetterjacke_207551_435551.html\">2043559</a></br>Damen-2-in-1-Allwetterjacke</td><td style=\"text-align:center;width:100px\"><img src=\"http://www.nkd.com/wcsstore/NKD2/images/catalog/2041507x1x1_M.jpg\" width=\"100\"><br/><a href=\"http://www.nkd.com/damenmode-damen-pullover-langarmshirts/Damen-Pullover-in-gestrickter-Melange-Optik_207551_435557.html\">2041507</a></br>Damen-Pullover in gestrickter Melange-Optik</td><td style=\"text-align:center;width:100px\"><img src=\"http://www.nkd.com/wcsstore/NKD2/images/catalog/2043560x1x1_M.jpg\" width=\"100\"><br/><a href=\"http://www.nkd.com/damenmode-damen-jacken-westen/Damen-Daunenjacke-mit-Kontrast-Futter_207551_435556.html\">2043560</a></br>Damen-Daunenjacke mit Kontrast-Futter</td><td style=\"text-align:center;width:100px\"><img src=\"http://www.nkd.com/wcsstore/NKD2/images/catalog/2041504x1x1_M.jpg\" width=\"100\"><br/><a href=\"http://www.nkd.com/damenmode-damen-pullover-langarmshirts/Damen-Pullover-mit-trendigen-Seitenschlitzen_207551_435553.html\">2041504</a></br>Damen-Pullover mit trendigen Seitenschlitzen</td><td style=\"text-align:center;width:100px\"><img src=\"http://www.nkd.com/wcsstore/NKD2/images/catalog/2042807x1x1_M.jpg\" width=\"100\"><br/><a href=\"http://www.nkd.com/damenmode-damen-pullover-langarmshirts/Damen-Sweatshirt-mit-Kordelzug-und-Trend-Muster_207551_434961.html\">2042807</a></br>Damen-Sweatshirt mit Kordelzug und Trend-Muster</td><td style=\"background-color:black;\"></td><td style=\"text-align:center;width:100px\"><img src=\"http://www.nkd.com/wcsstore/NKD2/images/catalog/2040457x1x1_M.jpg\" width=\"100\"><br/><a href=\"http://www.nkd.com/schnaeppchen-damenmode-brands/Damen-Rioslip-mit-Spitzen-Einsatz-2er-Pack_215081_424009.html\">2040457</a></br>Damen-Rioslip mit Spitzen-Einsatz, 2er Pack</td><td style=\"text-align:center;width:100px\"><img src=\"http://www.nkd.com/wcsstore/NKD2/images/catalog/2042550x1x1_M.jpg\" width=\"100\"><br/><a href=\"http://www.nkd.com/damenmode-damen-jacken-westen/Damen-Strickjacke-mit-Glitzer-Effekten_207551_432368.html\">2042550</a></br>Damen-Strickjacke mit Glitzer-Effekten</td><td style=\"text-align:center;width:100px\"><img src=\"http://www.nkd.com/wcsstore/NKD2/images/catalog/2039970x1x1_M.jpg\" width=\"100\"><br/><a href=\"http://www.nkd.com/kindermode-jungen-jacken/Jungen-Jacke-mit-verschiedenen-Applikationen_215055_431341.html\">2039970</a></br>Jungen-Jacke mit verschiedenen Applikationen</td><td style=\"text-align:center;width:100px\"><img src=\"http://www.nkd.com/wcsstore/NKD2/images/catalog/2039725x1x1_M.jpg\" width=\"100\"><br/><a href=\"http://www.nkd.com/damenmode-damen-strumpfhosen-socken/Damen-Feinstrumpfhose-mit-Rauten-Muster-80-DEN_207551_436991.html\">2039725</a></br>Damen-Feinstrumpfhose mit Rauten-Muster, 80 DEN</td><td style=\"text-align:center;width:100px\"><img src=\"http://www.nkd.com/wcsstore/NKD2/images/catalog/2041826x1x1_M.jpg\" width=\"100\"><br/><a href=\"http://www.nkd.com/NEU20171102FrohesFest/Damen-Thermo-Socken-mit-schickem-Muster_10097_434999.html\">2041826</a></br>Damen-Thermo-Socken mit schickem Muster</td></tr></table>"
      ],
      "text/plain": [
       "<IPython.core.display.HTML object>"
      ]
     },
     "metadata": {},
     "output_type": "display_data"
    },
    {
     "data": {
      "text/html": [
       "<table><tr><td style=\"text-align:center;width:100px\"><img src=\"http://www.nkd.com/wcsstore/NKD2/images/catalog/2041507x1x1_M.jpg\" width=\"100\"><br/><a href=\"http://www.nkd.com/damenmode-damen-pullover-langarmshirts/Damen-Pullover-in-gestrickter-Melange-Optik_207551_435557.html\">2041507</a></br>Damen-Pullover in gestrickter Melange-Optik</td><td style=\"text-align:center;width:100px\"><img src=\"http://www.nkd.com/wcsstore/NKD2/images/catalog/2041504x1x1_M.jpg\" width=\"100\"><br/><a href=\"http://www.nkd.com/damenmode-damen-pullover-langarmshirts/Damen-Pullover-mit-trendigen-Seitenschlitzen_207551_435553.html\">2041504</a></br>Damen-Pullover mit trendigen Seitenschlitzen</td><td style=\"text-align:center;width:100px\"><img src=\"http://www.nkd.com/wcsstore/NKD2/images/catalog/2041503x1x1_M.jpg\" width=\"100\"><br/><a href=\"http://www.nkd.com/damenmode-damen-pullover-langarmshirts/Damen-Pullover-mit-modischem-Strickmuster_207551_435555.html\">2041503</a></br>Damen-Pullover mit modischem Strickmuster</td><td style=\"text-align:center;width:100px\"><img src=\"http://www.nkd.com/wcsstore/NKD2/images/catalog/2043560x1x1_M.jpg\" width=\"100\"><br/><a href=\"http://www.nkd.com/damenmode-damen-jacken-westen/Damen-Daunenjacke-mit-Kontrast-Futter_207551_435556.html\">2043560</a></br>Damen-Daunenjacke mit Kontrast-Futter</td><td style=\"text-align:center;width:100px\"><img src=\"http://www.nkd.com/wcsstore/NKD2/images/catalog/2042807x1x1_M.jpg\" width=\"100\"><br/><a href=\"http://www.nkd.com/damenmode-damen-pullover-langarmshirts/Damen-Sweatshirt-mit-Kordelzug-und-Trend-Muster_207551_434961.html\">2042807</a></br>Damen-Sweatshirt mit Kordelzug und Trend-Muster</td><td style=\"background-color:black;\"></td><td style=\"text-align:center;width:100px\"><img src=\"http://www.nkd.com/wcsstore/NKD2/images/catalog/2042455x1x1_M.jpg\" width=\"100\"><br/><a href=\"http://www.nkd.com/damenmode-brands-laura-torelli-classic/Damen-Strickjacke-mit-Lurexfaden_215062_428618.html\">2042455</a></br>Damen-Strickjacke mit Lurexfaden</td><td style=\"text-align:center;width:100px\"><img src=\"http://www.nkd.com/wcsstore/NKD2/images/catalog/2042220x1x1_M.jpg\" width=\"100\"><br/><a href=\"http://www.nkd.com/damenmode-brands-laura-torelli-classic/Damen-Shirt-mit-dekorativem-Ausschnitt_215062_434126.html\">2042220</a></br>Damen-Shirt mit dekorativem Ausschnitt</td><td style=\"text-align:center;width:100px\"><img src=\"http://www.nkd.com/wcsstore/NKD2/images/catalog/2042534x1x1_M.jpg\" width=\"100\"><br/><a href=\"http://www.nkd.com/schnaeppchen-damenmode-brands/Damen-Pullover-mit-Ajour-Einsaetzen_215081_427797.html\">2042534</a></br>Damen-Pullover mit Ajour-Einsätzen</td><td style=\"text-align:center;width:100px\"><img src=\"http://www.nkd.com/wcsstore/NKD2/images/catalog/2041974x1x1_M.jpg\" width=\"100\"><br/><a href=\"http://www.nkd.com/damenmode-brands-laura-torelli-collection/Damen-Pullover-mit-doppellagigem-Design_215062_428706.html\">2041974</a></br>Damen-Pullover mit doppellagigem Design</td><td style=\"text-align:center;width:100px\"><img src=\"http://www.nkd.com/wcsstore/NKD2/images/catalog/2042452x1x1_M.jpg\" width=\"100\"><br/><a href=\"http://www.nkd.com/damenmode-damen-pullover-langarmshirts/Damen-Rollkragen-Pullover-mit-spannendem-Muster_207551_431330.html\">2042452</a></br>Damen-Rollkragen-Pullover mit spannendem Muster</td></tr></table>"
      ],
      "text/plain": [
       "<IPython.core.display.HTML object>"
      ]
     },
     "metadata": {},
     "output_type": "display_data"
    },
    {
     "data": {
      "text/html": [
       "<table><tr><td style=\"text-align:center;width:100px\"><img src=\"http://www.nkd.com/wcsstore/NKD2/images/catalog/2043309x1x1_M.jpg\" width=\"100\"><br/><a href=\"http://www.nkd.com/damenmode-damen-pullover-langarmshirts/Damen-Carmenshirt-mit-trendigem-Muster_207551_434855.html\">2043309</a></br>Damen-Carmenshirt mit trendigem Muster</td><td style=\"text-align:center;width:100px\"><img src=\"http://www.nkd.com/wcsstore/NKD2/images/catalog/2041507x1x1_M.jpg\" width=\"100\"><br/><a href=\"http://www.nkd.com/damenmode-damen-pullover-langarmshirts/Damen-Pullover-in-gestrickter-Melange-Optik_207551_435557.html\">2041507</a></br>Damen-Pullover in gestrickter Melange-Optik</td><td style=\"text-align:center;width:100px\"><img src=\"http://www.lackuna.com/wp-content/themes/fearless/images/missing-image-640x360.png\" width=\"100\"><br/><a href=\"\"></a></br>UNKNOWN</td><td style=\"text-align:center;width:100px\"><img src=\"http://www.nkd.com/wcsstore/NKD2/images/catalog/2042220x1x1_M.jpg\" width=\"100\"><br/><a href=\"http://www.nkd.com/damenmode-brands-laura-torelli-classic/Damen-Shirt-mit-dekorativem-Ausschnitt_215062_434126.html\">2042220</a></br>Damen-Shirt mit dekorativem Ausschnitt</td><td style=\"text-align:center;width:100px\"><img src=\"http://www.nkd.com/wcsstore/NKD2/images/catalog/2042807x1x1_M.jpg\" width=\"100\"><br/><a href=\"http://www.nkd.com/damenmode-damen-pullover-langarmshirts/Damen-Sweatshirt-mit-Kordelzug-und-Trend-Muster_207551_434961.html\">2042807</a></br>Damen-Sweatshirt mit Kordelzug und Trend-Muster</td><td style=\"background-color:black;\"></td><td style=\"text-align:center;width:100px\"><img src=\"http://www.nkd.com/wcsstore/NKD2/images/catalog/2042803x1x1_M.jpg\" width=\"100\"><br/><a href=\"http://www.nkd.com/damenmode-brands-laura-torelli-classic/Damen-Bluse-mit-trendigem-Karomuster_215062_434162.html\">2042803</a></br>Damen-Bluse mit trendigem Karomuster</td><td style=\"text-align:center;width:100px\"><img src=\"http://www.nkd.com/wcsstore/NKD2/images/catalog/2043236x1x1_M.jpg\" width=\"100\"><br/><a href=\"http://www.nkd.com/damenmode-brands-laura-torelli-collection/Damen-Shirt-mit-Spitze-am-Ausschnitt_215062_429889.html\">2043236</a></br>Damen-Shirt mit Spitze am Ausschnitt</td><td style=\"text-align:center;width:100px\"><img src=\"http://www.nkd.com/wcsstore/NKD2/images/catalog/2041480x1x1_M.jpg\" width=\"100\"><br/><a href=\"http://www.nkd.com/damenmode-damen-pullover-langarmshirts/Damen-Pullover-mit-Streifenmuster_207551_430520.html\">2041480</a></br>Damen-Pullover mit Streifenmuster</td><td style=\"text-align:center;width:100px\"><img src=\"http://www.nkd.com/wcsstore/NKD2/images/catalog/2042452x1x1_M.jpg\" width=\"100\"><br/><a href=\"http://www.nkd.com/damenmode-damen-pullover-langarmshirts/Damen-Rollkragen-Pullover-mit-spannendem-Muster_207551_431330.html\">2042452</a></br>Damen-Rollkragen-Pullover mit spannendem Muster</td><td style=\"text-align:center;width:100px\"><img src=\"http://www.nkd.com/wcsstore/NKD2/images/catalog/2041126x1x1_M.jpg\" width=\"100\"><br/><a href=\"http://www.nkd.com/damenmode-damen-xxl/Damen-Stoffhose-in-Bengalin-Qualitaet-grosse-Groessen_207553_432303.html\">2041126</a></br>Damen-Stoffhose in Bengalin-Qualität, große Größen</td></tr></table>"
      ],
      "text/plain": [
       "<IPython.core.display.HTML object>"
      ]
     },
     "metadata": {},
     "output_type": "display_data"
    },
    {
     "data": {
      "text/html": [
       "<table><tr><td style=\"text-align:center;width:100px\"><img src=\"http://www.nkd.com/wcsstore/NKD2/images/catalog/2043233x1x1_M.jpg\" width=\"100\"><br/><a href=\"http://www.nkd.com/damenmode-brands-laura-torelli-collection/Damen-Shirt-in-verschiedenen-Designs_215062_434106.html\">2043233</a></br>Damen-Shirt in verschiedenen Designs</td><td style=\"text-align:center;width:100px\"><img src=\"http://www.nkd.com/wcsstore/NKD2/images/catalog/2042220x1x1_M.jpg\" width=\"100\"><br/><a href=\"http://www.nkd.com/damenmode-brands-laura-torelli-classic/Damen-Shirt-mit-dekorativem-Ausschnitt_215062_434126.html\">2042220</a></br>Damen-Shirt mit dekorativem Ausschnitt</td><td style=\"text-align:center;width:100px\"><img src=\"http://www.nkd.com/wcsstore/NKD2/images/catalog/2042460x1x1_M.jpg\" width=\"100\"><br/><a href=\"http://www.nkd.com/damenmode-brands-laura-torelli-classic/Damen-Shirt-mit-kuenstlerischem-Muster_215062_434202.html\">2042460</a></br>Damen-Shirt mit künstlerischem Muster</td><td style=\"text-align:center;width:100px\"><img src=\"http://www.nkd.com/wcsstore/NKD2/images/catalog/2042459x1x1_M.jpg\" width=\"100\"><br/><a href=\"http://www.nkd.com/damenmode-brands-laura-torelli-classic/Damen-Shirt-mit-Rollkragen_215062_434206.html\">2042459</a></br>Damen-Shirt mit Rollkragen</td><td style=\"text-align:center;width:100px\"><img src=\"http://www.nkd.com/wcsstore/NKD2/images/catalog/2042807x1x1_M.jpg\" width=\"100\"><br/><a href=\"http://www.nkd.com/damenmode-damen-pullover-langarmshirts/Damen-Sweatshirt-mit-Kordelzug-und-Trend-Muster_207551_434961.html\">2042807</a></br>Damen-Sweatshirt mit Kordelzug und Trend-Muster</td><td style=\"background-color:black;\"></td><td style=\"text-align:center;width:100px\"><img src=\"http://www.nkd.com/wcsstore/NKD2/images/catalog/2042823x1x1_M.jpg\" width=\"100\"><br/><a href=\"http://www.nkd.com/damenmode-brands-laura-torelli-classic/Damen-Shirt-mit-modernem-Muster_215062_426746.html\">2042823</a></br>Damen-Shirt mit modernem Muster</td><td style=\"text-align:center;width:100px\"><img src=\"http://www.nkd.com/wcsstore/NKD2/images/catalog/2042073x1x1_M.jpg\" width=\"100\"><br/><a href=\"http://www.nkd.com/herrenmode-herren-hosen/Herren-Jeans-mit-modischen-Waschungen_207554_430440.html\">2042073</a></br>Herren-Jeans mit modischen Waschungen</td><td style=\"text-align:center;width:100px\"><img src=\"http://www.nkd.com/wcsstore/NKD2/images/catalog/2043213x1x1_M.jpg\" width=\"100\"><br/><a href=\"http://www.nkd.com/damenmode-damen-pullover-langarmshirts/Damen-Shirt-mit-hohem-Baumwoll-Anteil_207551_433147.html\">2043213</a></br>Damen-Shirt mit hohem Baumwoll-Anteil</td><td style=\"text-align:center;width:100px\"><img src=\"http://www.nkd.com/wcsstore/NKD2/images/catalog/2042541x1x1_M.jpg\" width=\"100\"><br/><a href=\"http://www.nkd.com/damenmode-damen-jacken-westen/Damen-Strickjacke-mit-Spitzeneinsatz-am-Ruecken_207551_429503.html\">2042541</a></br>Damen-Strickjacke mit Spitzeneinsatz am Rücken</td><td style=\"text-align:center;width:100px\"><img src=\"http://www.nkd.com/wcsstore/NKD2/images/catalog/2043413x1x1_M.jpg\" width=\"100\"><br/><a href=\"http://www.nkd.com/wohnideen-weihnachten/Deko-Figur-ca-40cm_215066_434935.html\">2043413</a></br>Deko-Figur, ca. 40cm</td></tr></table>"
      ],
      "text/plain": [
       "<IPython.core.display.HTML object>"
      ]
     },
     "metadata": {},
     "output_type": "display_data"
    },
    {
     "data": {
      "text/html": [
       "<table><tr><td style=\"text-align:center;width:100px\"><img src=\"http://www.nkd.com/wcsstore/NKD2/images/catalog/2043309x1x1_M.jpg\" width=\"100\"><br/><a href=\"http://www.nkd.com/damenmode-damen-pullover-langarmshirts/Damen-Carmenshirt-mit-trendigem-Muster_207551_434855.html\">2043309</a></br>Damen-Carmenshirt mit trendigem Muster</td><td style=\"text-align:center;width:100px\"><img src=\"http://www.nkd.com/wcsstore/NKD2/images/catalog/2041507x1x1_M.jpg\" width=\"100\"><br/><a href=\"http://www.nkd.com/damenmode-damen-pullover-langarmshirts/Damen-Pullover-in-gestrickter-Melange-Optik_207551_435557.html\">2041507</a></br>Damen-Pullover in gestrickter Melange-Optik</td><td style=\"text-align:center;width:100px\"><img src=\"http://www.lackuna.com/wp-content/themes/fearless/images/missing-image-640x360.png\" width=\"100\"><br/><a href=\"\"></a></br>UNKNOWN</td><td style=\"text-align:center;width:100px\"><img src=\"http://www.nkd.com/wcsstore/NKD2/images/catalog/2042220x1x1_M.jpg\" width=\"100\"><br/><a href=\"http://www.nkd.com/damenmode-brands-laura-torelli-classic/Damen-Shirt-mit-dekorativem-Ausschnitt_215062_434126.html\">2042220</a></br>Damen-Shirt mit dekorativem Ausschnitt</td><td style=\"text-align:center;width:100px\"><img src=\"http://www.nkd.com/wcsstore/NKD2/images/catalog/2042807x1x1_M.jpg\" width=\"100\"><br/><a href=\"http://www.nkd.com/damenmode-damen-pullover-langarmshirts/Damen-Sweatshirt-mit-Kordelzug-und-Trend-Muster_207551_434961.html\">2042807</a></br>Damen-Sweatshirt mit Kordelzug und Trend-Muster</td><td style=\"background-color:black;\"></td><td style=\"text-align:center;width:100px\"><img src=\"http://www.nkd.com/wcsstore/NKD2/images/catalog/2042803x1x1_M.jpg\" width=\"100\"><br/><a href=\"http://www.nkd.com/damenmode-brands-laura-torelli-classic/Damen-Bluse-mit-trendigem-Karomuster_215062_434162.html\">2042803</a></br>Damen-Bluse mit trendigem Karomuster</td><td style=\"text-align:center;width:100px\"><img src=\"http://www.nkd.com/wcsstore/NKD2/images/catalog/2043236x1x1_M.jpg\" width=\"100\"><br/><a href=\"http://www.nkd.com/damenmode-brands-laura-torelli-collection/Damen-Shirt-mit-Spitze-am-Ausschnitt_215062_429889.html\">2043236</a></br>Damen-Shirt mit Spitze am Ausschnitt</td><td style=\"text-align:center;width:100px\"><img src=\"http://www.nkd.com/wcsstore/NKD2/images/catalog/2041480x1x1_M.jpg\" width=\"100\"><br/><a href=\"http://www.nkd.com/damenmode-damen-pullover-langarmshirts/Damen-Pullover-mit-Streifenmuster_207551_430520.html\">2041480</a></br>Damen-Pullover mit Streifenmuster</td><td style=\"text-align:center;width:100px\"><img src=\"http://www.nkd.com/wcsstore/NKD2/images/catalog/2042452x1x1_M.jpg\" width=\"100\"><br/><a href=\"http://www.nkd.com/damenmode-damen-pullover-langarmshirts/Damen-Rollkragen-Pullover-mit-spannendem-Muster_207551_431330.html\">2042452</a></br>Damen-Rollkragen-Pullover mit spannendem Muster</td><td style=\"text-align:center;width:100px\"><img src=\"http://www.nkd.com/wcsstore/NKD2/images/catalog/2041126x1x1_M.jpg\" width=\"100\"><br/><a href=\"http://www.nkd.com/damenmode-damen-xxl/Damen-Stoffhose-in-Bengalin-Qualitaet-grosse-Groessen_207553_432303.html\">2041126</a></br>Damen-Stoffhose in Bengalin-Qualität, große Größen</td></tr></table>"
      ],
      "text/plain": [
       "<IPython.core.display.HTML object>"
      ]
     },
     "metadata": {},
     "output_type": "display_data"
    },
    {
     "data": {
      "text/html": [
       "<table><tr><td style=\"text-align:center;width:100px\"><img src=\"http://www.nkd.com/wcsstore/NKD2/images/catalog/2041507x1x1_M.jpg\" width=\"100\"><br/><a href=\"http://www.nkd.com/damenmode-damen-pullover-langarmshirts/Damen-Pullover-in-gestrickter-Melange-Optik_207551_435557.html\">2041507</a></br>Damen-Pullover in gestrickter Melange-Optik</td><td style=\"text-align:center;width:100px\"><img src=\"http://www.nkd.com/wcsstore/NKD2/images/catalog/2041504x1x1_M.jpg\" width=\"100\"><br/><a href=\"http://www.nkd.com/damenmode-damen-pullover-langarmshirts/Damen-Pullover-mit-trendigen-Seitenschlitzen_207551_435553.html\">2041504</a></br>Damen-Pullover mit trendigen Seitenschlitzen</td><td style=\"text-align:center;width:100px\"><img src=\"http://www.nkd.com/wcsstore/NKD2/images/catalog/2042902x1x1_M.jpg\" width=\"100\"><br/><a href=\"http://www.nkd.com/damenmode-damen-pullover-langarmshirts/Damen-Shirt-mit-Bindebaendern-am-Ausschnitt_207551_431340.html\">2042902</a></br>Damen-Shirt mit Bindebändern am Ausschnitt</td><td style=\"text-align:center;width:100px\"><img src=\"http://www.nkd.com/wcsstore/NKD2/images/catalog/2041481x1x1_M.jpg\" width=\"100\"><br/><a href=\"http://www.nkd.com/damenmode-brands-laura-torelli-classic/Damen-Chenille-Pullover-mit-Rollkragen_215062_432819.html\">2041481</a></br>Damen-Chenille-Pullover mit Rollkragen</td><td style=\"text-align:center;width:100px\"><img src=\"http://www.nkd.com/wcsstore/NKD2/images/catalog/2042807x1x1_M.jpg\" width=\"100\"><br/><a href=\"http://www.nkd.com/damenmode-damen-pullover-langarmshirts/Damen-Sweatshirt-mit-Kordelzug-und-Trend-Muster_207551_434961.html\">2042807</a></br>Damen-Sweatshirt mit Kordelzug und Trend-Muster</td><td style=\"background-color:black;\"></td><td style=\"text-align:center;width:100px\"><img src=\"http://www.nkd.com/wcsstore/NKD2/images/catalog/2042455x1x1_M.jpg\" width=\"100\"><br/><a href=\"http://www.nkd.com/damenmode-brands-laura-torelli-classic/Damen-Strickjacke-mit-Lurexfaden_215062_428618.html\">2042455</a></br>Damen-Strickjacke mit Lurexfaden</td><td style=\"text-align:center;width:100px\"><img src=\"http://www.nkd.com/wcsstore/NKD2/images/catalog/2042220x1x1_M.jpg\" width=\"100\"><br/><a href=\"http://www.nkd.com/damenmode-brands-laura-torelli-classic/Damen-Shirt-mit-dekorativem-Ausschnitt_215062_434126.html\">2042220</a></br>Damen-Shirt mit dekorativem Ausschnitt</td><td style=\"text-align:center;width:100px\"><img src=\"http://www.nkd.com/wcsstore/NKD2/images/catalog/2042534x1x1_M.jpg\" width=\"100\"><br/><a href=\"http://www.nkd.com/schnaeppchen-damenmode-brands/Damen-Pullover-mit-Ajour-Einsaetzen_215081_427797.html\">2042534</a></br>Damen-Pullover mit Ajour-Einsätzen</td><td style=\"text-align:center;width:100px\"><img src=\"http://www.nkd.com/wcsstore/NKD2/images/catalog/2041974x1x1_M.jpg\" width=\"100\"><br/><a href=\"http://www.nkd.com/damenmode-brands-laura-torelli-collection/Damen-Pullover-mit-doppellagigem-Design_215062_428706.html\">2041974</a></br>Damen-Pullover mit doppellagigem Design</td><td style=\"text-align:center;width:100px\"><img src=\"http://www.nkd.com/wcsstore/NKD2/images/catalog/2042452x1x1_M.jpg\" width=\"100\"><br/><a href=\"http://www.nkd.com/damenmode-damen-pullover-langarmshirts/Damen-Rollkragen-Pullover-mit-spannendem-Muster_207551_431330.html\">2042452</a></br>Damen-Rollkragen-Pullover mit spannendem Muster</td></tr></table>"
      ],
      "text/plain": [
       "<IPython.core.display.HTML object>"
      ]
     },
     "metadata": {},
     "output_type": "display_data"
    },
    {
     "data": {
      "text/html": [
       "<table><tr><td style=\"text-align:center;width:100px\"><img src=\"http://www.nkd.com/wcsstore/NKD2/images/catalog/2041507x1x1_M.jpg\" width=\"100\"><br/><a href=\"http://www.nkd.com/damenmode-damen-pullover-langarmshirts/Damen-Pullover-in-gestrickter-Melange-Optik_207551_435557.html\">2041507</a></br>Damen-Pullover in gestrickter Melange-Optik</td><td style=\"text-align:center;width:100px\"><img src=\"http://www.nkd.com/wcsstore/NKD2/images/catalog/2041504x1x1_M.jpg\" width=\"100\"><br/><a href=\"http://www.nkd.com/damenmode-damen-pullover-langarmshirts/Damen-Pullover-mit-trendigen-Seitenschlitzen_207551_435553.html\">2041504</a></br>Damen-Pullover mit trendigen Seitenschlitzen</td><td style=\"text-align:center;width:100px\"><img src=\"http://www.nkd.com/wcsstore/NKD2/images/catalog/2041503x1x1_M.jpg\" width=\"100\"><br/><a href=\"http://www.nkd.com/damenmode-damen-pullover-langarmshirts/Damen-Pullover-mit-modischem-Strickmuster_207551_435555.html\">2041503</a></br>Damen-Pullover mit modischem Strickmuster</td><td style=\"text-align:center;width:100px\"><img src=\"http://www.nkd.com/wcsstore/NKD2/images/catalog/2043560x1x1_M.jpg\" width=\"100\"><br/><a href=\"http://www.nkd.com/damenmode-damen-jacken-westen/Damen-Daunenjacke-mit-Kontrast-Futter_207551_435556.html\">2043560</a></br>Damen-Daunenjacke mit Kontrast-Futter</td><td style=\"text-align:center;width:100px\"><img src=\"http://www.nkd.com/wcsstore/NKD2/images/catalog/2042807x1x1_M.jpg\" width=\"100\"><br/><a href=\"http://www.nkd.com/damenmode-damen-pullover-langarmshirts/Damen-Sweatshirt-mit-Kordelzug-und-Trend-Muster_207551_434961.html\">2042807</a></br>Damen-Sweatshirt mit Kordelzug und Trend-Muster</td><td style=\"background-color:black;\"></td><td style=\"text-align:center;width:100px\"><img src=\"http://www.nkd.com/wcsstore/NKD2/images/catalog/2042455x1x1_M.jpg\" width=\"100\"><br/><a href=\"http://www.nkd.com/damenmode-brands-laura-torelli-classic/Damen-Strickjacke-mit-Lurexfaden_215062_428618.html\">2042455</a></br>Damen-Strickjacke mit Lurexfaden</td><td style=\"text-align:center;width:100px\"><img src=\"http://www.nkd.com/wcsstore/NKD2/images/catalog/2042220x1x1_M.jpg\" width=\"100\"><br/><a href=\"http://www.nkd.com/damenmode-brands-laura-torelli-classic/Damen-Shirt-mit-dekorativem-Ausschnitt_215062_434126.html\">2042220</a></br>Damen-Shirt mit dekorativem Ausschnitt</td><td style=\"text-align:center;width:100px\"><img src=\"http://www.nkd.com/wcsstore/NKD2/images/catalog/2042534x1x1_M.jpg\" width=\"100\"><br/><a href=\"http://www.nkd.com/schnaeppchen-damenmode-brands/Damen-Pullover-mit-Ajour-Einsaetzen_215081_427797.html\">2042534</a></br>Damen-Pullover mit Ajour-Einsätzen</td><td style=\"text-align:center;width:100px\"><img src=\"http://www.nkd.com/wcsstore/NKD2/images/catalog/2041974x1x1_M.jpg\" width=\"100\"><br/><a href=\"http://www.nkd.com/damenmode-brands-laura-torelli-collection/Damen-Pullover-mit-doppellagigem-Design_215062_428706.html\">2041974</a></br>Damen-Pullover mit doppellagigem Design</td><td style=\"text-align:center;width:100px\"><img src=\"http://www.nkd.com/wcsstore/NKD2/images/catalog/2042452x1x1_M.jpg\" width=\"100\"><br/><a href=\"http://www.nkd.com/damenmode-damen-pullover-langarmshirts/Damen-Rollkragen-Pullover-mit-spannendem-Muster_207551_431330.html\">2042452</a></br>Damen-Rollkragen-Pullover mit spannendem Muster</td></tr></table>"
      ],
      "text/plain": [
       "<IPython.core.display.HTML object>"
      ]
     },
     "metadata": {},
     "output_type": "display_data"
    },
    {
     "data": {
      "text/html": [
       "<table><tr><td style=\"text-align:center;width:100px\"><img src=\"http://www.nkd.com/wcsstore/NKD2/images/catalog/2041508x1x1_M.jpg\" width=\"100\"><br/><a href=\"http://www.nkd.com/damenmode-brands-laura-torelli-classic/Damen-Chenille-Strickjacke-mit-aufgesetzten-Taschen_215062_432804.html\">2041508</a></br>Damen-Chenille-Strickjacke mit aufgesetzten Taschen</td><td style=\"text-align:center;width:100px\"><img src=\"http://www.nkd.com/wcsstore/NKD2/images/catalog/2043287x1x1_M.jpg\" width=\"100\"><br/><a href=\"http://www.nkd.com/damenmode-brands-laura-torelli-collection/Damen-Rock-in-Stufen-Optik_215062_432816.html\">2043287</a></br>Damen-Rock in Stufen-Optik</td><td style=\"text-align:center;width:100px\"><img src=\"http://www.nkd.com/wcsstore/NKD2/images/catalog/2043286x1x1_M.jpg\" width=\"100\"><br/><a href=\"http://www.nkd.com/damenmode-brands-laura-torelli-collection/Damen-Jeans-mit-Stickerei-und-Glitzersteinchen_215062_432805.html\">2043286</a></br>Damen-Jeans mit Stickerei und Glitzersteinchen</td><td style=\"text-align:center;width:100px\"><img src=\"http://www.nkd.com/wcsstore/NKD2/images/catalog/2041481x1x1_M.jpg\" width=\"100\"><br/><a href=\"http://www.nkd.com/damenmode-brands-laura-torelli-classic/Damen-Chenille-Pullover-mit-Rollkragen_215062_432819.html\">2041481</a></br>Damen-Chenille-Pullover mit Rollkragen</td><td style=\"text-align:center;width:100px\"><img src=\"http://www.nkd.com/wcsstore/NKD2/images/catalog/2042807x1x1_M.jpg\" width=\"100\"><br/><a href=\"http://www.nkd.com/damenmode-damen-pullover-langarmshirts/Damen-Sweatshirt-mit-Kordelzug-und-Trend-Muster_207551_434961.html\">2042807</a></br>Damen-Sweatshirt mit Kordelzug und Trend-Muster</td><td style=\"background-color:black;\"></td><td style=\"text-align:center;width:100px\"><img src=\"http://www.nkd.com/wcsstore/NKD2/images/catalog/2041507x1x1_M.jpg\" width=\"100\"><br/><a href=\"http://www.nkd.com/damenmode-damen-pullover-langarmshirts/Damen-Pullover-in-gestrickter-Melange-Optik_207551_435557.html\">2041507</a></br>Damen-Pullover in gestrickter Melange-Optik</td><td style=\"text-align:center;width:100px\"><img src=\"http://www.nkd.com/wcsstore/NKD2/images/catalog/2042539x1x1_M.jpg\" width=\"100\"><br/><a href=\"http://www.nkd.com/damenmode-damen-pullover-langarmshirts/Damen-Pullover-mit-Rauten-Struktur-und-Pailletten_207551_429531.html\">2042539</a></br>Damen-Pullover mit Rauten-Struktur und Pailletten</td><td style=\"text-align:center;width:100px\"><img src=\"http://www.nkd.com/wcsstore/NKD2/images/catalog/2042803x1x1_M.jpg\" width=\"100\"><br/><a href=\"http://www.nkd.com/damenmode-brands-laura-torelli-classic/Damen-Bluse-mit-trendigem-Karomuster_215062_434162.html\">2042803</a></br>Damen-Bluse mit trendigem Karomuster</td><td style=\"text-align:center;width:100px\"><img src=\"http://www.nkd.com/wcsstore/NKD2/images/catalog/2041973x1x1_M.jpg\" width=\"100\"><br/><a href=\"http://www.nkd.com/damenmode-brands-laura-torelli-collection/Damen-Pullover-mit-modernem-Saum_215062_428726.html\">2041973</a></br>Damen-Pullover mit modernem Saum</td><td style=\"text-align:center;width:100px\"><img src=\"http://www.nkd.com/wcsstore/NKD2/images/catalog/2042526x1x1_M.jpg\" width=\"100\"><br/><a href=\"http://www.nkd.com/damenmode-brands-laura-torelli-collection/Damen-Pullover-in-Ripp-Optik_215062_425933.html\">2042526</a></br>Damen-Pullover in Ripp-Optik</td></tr></table>"
      ],
      "text/plain": [
       "<IPython.core.display.HTML object>"
      ]
     },
     "metadata": {},
     "output_type": "display_data"
    },
    {
     "data": {
      "text/html": [
       "<table><tr><td style=\"text-align:center;width:100px\"><img src=\"http://www.nkd.com/wcsstore/NKD2/images/catalog/2042459x1x1_M.jpg\" width=\"100\"><br/><a href=\"http://www.nkd.com/damenmode-brands-laura-torelli-classic/Damen-Shirt-mit-Rollkragen_215062_434206.html\">2042459</a></br>Damen-Shirt mit Rollkragen</td><td style=\"text-align:center;width:100px\"><img src=\"http://www.nkd.com/wcsstore/NKD2/images/catalog/2043298x1x1_M.jpg\" width=\"100\"><br/><a href=\"http://www.nkd.com/damenmode-brands-laura-torelli-collection/Damen-Shirt-mit-Leo-Muster-und-Spitze_215062_434207.html\">2043298</a></br>Damen-Shirt mit Leo-Muster und Spitze</td><td style=\"text-align:center;width:100px\"><img src=\"http://www.nkd.com/wcsstore/NKD2/images/catalog/2043309x1x1_M.jpg\" width=\"100\"><br/><a href=\"http://www.nkd.com/damenmode-damen-pullover-langarmshirts/Damen-Carmenshirt-mit-trendigem-Muster_207551_434855.html\">2043309</a></br>Damen-Carmenshirt mit trendigem Muster</td><td style=\"text-align:center;width:100px\"><img src=\"http://www.nkd.com/wcsstore/NKD2/images/catalog/2043310x1x1_M.jpg\" width=\"100\"><br/><a href=\"http://www.nkd.com/damenmode-damen-pullover-langarmshirts/Damen-Carmenshirt-mit-elastischem-Saum_207551_434894.html\">2043310</a></br>Damen-Carmenshirt mit elastischem Saum</td><td style=\"text-align:center;width:100px\"><img src=\"http://www.nkd.com/wcsstore/NKD2/images/catalog/2042807x1x1_M.jpg\" width=\"100\"><br/><a href=\"http://www.nkd.com/damenmode-damen-pullover-langarmshirts/Damen-Sweatshirt-mit-Kordelzug-und-Trend-Muster_207551_434961.html\">2042807</a></br>Damen-Sweatshirt mit Kordelzug und Trend-Muster</td><td style=\"background-color:black;\"></td><td style=\"text-align:center;width:100px\"><img src=\"http://www.nkd.com/wcsstore/NKD2/images/catalog/2042803x1x1_M.jpg\" width=\"100\"><br/><a href=\"http://www.nkd.com/damenmode-brands-laura-torelli-classic/Damen-Bluse-mit-trendigem-Karomuster_215062_434162.html\">2042803</a></br>Damen-Bluse mit trendigem Karomuster</td><td style=\"text-align:center;width:100px\"><img src=\"http://www.nkd.com/wcsstore/NKD2/images/catalog/2042325x1x1_M.jpg\" width=\"100\"><br/><a href=\"http://www.nkd.com/wohnideen-brands-home/Polycotton-Bettwaesche-mit-modernem-Muster_215067_429859.html\">2042325</a></br>Polycotton-Bettwäsche mit modernem Muster</td><td style=\"text-align:center;width:100px\"><img src=\"http://www.nkd.com/wcsstore/NKD2/images/catalog/2041507x1x1_M.jpg\" width=\"100\"><br/><a href=\"http://www.nkd.com/damenmode-damen-pullover-langarmshirts/Damen-Pullover-in-gestrickter-Melange-Optik_207551_435557.html\">2041507</a></br>Damen-Pullover in gestrickter Melange-Optik</td><td style=\"text-align:center;width:100px\"><img src=\"http://www.nkd.com/wcsstore/NKD2/images/catalog/2043519x1x1_M.jpg\" width=\"100\"><br/><a href=\"http://www.nkd.com/wohnideen-dekoartikel/Papier-Lampion-Lichterkette-ca-165cm_215059_430179.html\">2043519</a></br>Papier-Lampion-Lichterkette, ca. 165cm</td><td style=\"text-align:center;width:100px\"><img src=\"http://www.nkd.com/wcsstore/NKD2/images/catalog/2041787x1x1_M.jpg\" width=\"100\"><br/><a href=\"http://www.nkd.com/herrenmode-brands-rewardcollection/Herren-Sweatshirt-mit-glaenzendem-Frontaufdruck_215063_428664.html\">2041787</a></br>Herren-Sweatshirt mit glänzendem Frontaufdruck</td></tr></table>"
      ],
      "text/plain": [
       "<IPython.core.display.HTML object>"
      ]
     },
     "metadata": {},
     "output_type": "display_data"
    },
    {
     "data": {
      "text/html": [
       "<table><tr><td style=\"text-align:center;width:100px\"><img src=\"http://www.nkd.com/wcsstore/NKD2/images/catalog/2041504x1x1_M.jpg\" width=\"100\"><br/><a href=\"http://www.nkd.com/damenmode-damen-pullover-langarmshirts/Damen-Pullover-mit-trendigen-Seitenschlitzen_207551_435553.html\">2041504</a></br>Damen-Pullover mit trendigen Seitenschlitzen</td><td style=\"text-align:center;width:100px\"><img src=\"http://www.nkd.com/wcsstore/NKD2/images/catalog/2041972x1x1_M.jpg\" width=\"100\"><br/><a href=\"http://www.nkd.com/NEU20171102FrohesFest/Damen-Strickjacke-mit-grossen-Knoepfen_10097_434937.html\">2041972</a></br>Damen-Strickjacke mit großen Knöpfen</td><td style=\"text-align:center;width:100px\"><img src=\"http://www.nkd.com/wcsstore/NKD2/images/catalog/2043309x1x1_M.jpg\" width=\"100\"><br/><a href=\"http://www.nkd.com/damenmode-damen-pullover-langarmshirts/Damen-Carmenshirt-mit-trendigem-Muster_207551_434855.html\">2043309</a></br>Damen-Carmenshirt mit trendigem Muster</td><td style=\"text-align:center;width:100px\"><img src=\"http://www.nkd.com/wcsstore/NKD2/images/catalog/2043310x1x1_M.jpg\" width=\"100\"><br/><a href=\"http://www.nkd.com/damenmode-damen-pullover-langarmshirts/Damen-Carmenshirt-mit-elastischem-Saum_207551_434894.html\">2043310</a></br>Damen-Carmenshirt mit elastischem Saum</td><td style=\"text-align:center;width:100px\"><img src=\"http://www.nkd.com/wcsstore/NKD2/images/catalog/2042807x1x1_M.jpg\" width=\"100\"><br/><a href=\"http://www.nkd.com/damenmode-damen-pullover-langarmshirts/Damen-Sweatshirt-mit-Kordelzug-und-Trend-Muster_207551_434961.html\">2042807</a></br>Damen-Sweatshirt mit Kordelzug und Trend-Muster</td><td style=\"background-color:black;\"></td><td style=\"text-align:center;width:100px\"><img src=\"http://www.nkd.com/wcsstore/NKD2/images/catalog/2040457x1x1_M.jpg\" width=\"100\"><br/><a href=\"http://www.nkd.com/schnaeppchen-damenmode-brands/Damen-Rioslip-mit-Spitzen-Einsatz-2er-Pack_215081_424009.html\">2040457</a></br>Damen-Rioslip mit Spitzen-Einsatz, 2er Pack</td><td style=\"text-align:center;width:100px\"><img src=\"http://www.nkd.com/wcsstore/NKD2/images/catalog/2042539x1x1_M.jpg\" width=\"100\"><br/><a href=\"http://www.nkd.com/damenmode-damen-pullover-langarmshirts/Damen-Pullover-mit-Rauten-Struktur-und-Pailletten_207551_429531.html\">2042539</a></br>Damen-Pullover mit Rauten-Struktur und Pailletten</td><td style=\"text-align:center;width:100px\"><img src=\"http://www.nkd.com/wcsstore/NKD2/images/catalog/2042803x1x1_M.jpg\" width=\"100\"><br/><a href=\"http://www.nkd.com/damenmode-brands-laura-torelli-classic/Damen-Bluse-mit-trendigem-Karomuster_215062_434162.html\">2042803</a></br>Damen-Bluse mit trendigem Karomuster</td><td style=\"text-align:center;width:100px\"><img src=\"http://www.nkd.com/wcsstore/NKD2/images/catalog/2042933x1x1_M.jpg\" width=\"100\"><br/><a href=\"http://www.nkd.com/damenmode-damen-jacken-westen/Damen-Poncho-mit-Zierfransen_207551_434132.html\">2042933</a></br>Damen-Poncho mit Zierfransen</td><td style=\"text-align:center;width:100px\"><img src=\"http://www.nkd.com/wcsstore/NKD2/images/catalog/1677284x1x1_M.jpg\" width=\"100\"><br/><a href=\"http://www.nkd.com/damenmode-basics/Damen-Unterhemd-2er-Pack_207553_302420.html\">1677284</a></br>Damen-Unterhemd, 2er Pack</td></tr></table>"
      ],
      "text/plain": [
       "<IPython.core.display.HTML object>"
      ]
     },
     "metadata": {},
     "output_type": "display_data"
    },
    {
     "data": {
      "text/html": [
       "<table><tr><td style=\"text-align:center;width:100px\"><img src=\"http://www.nkd.com/wcsstore/NKD2/images/catalog/2041508x1x1_M.jpg\" width=\"100\"><br/><a href=\"http://www.nkd.com/damenmode-brands-laura-torelli-classic/Damen-Chenille-Strickjacke-mit-aufgesetzten-Taschen_215062_432804.html\">2041508</a></br>Damen-Chenille-Strickjacke mit aufgesetzten Taschen</td><td style=\"text-align:center;width:100px\"><img src=\"http://www.nkd.com/wcsstore/NKD2/images/catalog/2043287x1x1_M.jpg\" width=\"100\"><br/><a href=\"http://www.nkd.com/damenmode-brands-laura-torelli-collection/Damen-Rock-in-Stufen-Optik_215062_432816.html\">2043287</a></br>Damen-Rock in Stufen-Optik</td><td style=\"text-align:center;width:100px\"><img src=\"http://www.nkd.com/wcsstore/NKD2/images/catalog/2043286x1x1_M.jpg\" width=\"100\"><br/><a href=\"http://www.nkd.com/damenmode-brands-laura-torelli-collection/Damen-Jeans-mit-Stickerei-und-Glitzersteinchen_215062_432805.html\">2043286</a></br>Damen-Jeans mit Stickerei und Glitzersteinchen</td><td style=\"text-align:center;width:100px\"><img src=\"http://www.nkd.com/wcsstore/NKD2/images/catalog/2041481x1x1_M.jpg\" width=\"100\"><br/><a href=\"http://www.nkd.com/damenmode-brands-laura-torelli-classic/Damen-Chenille-Pullover-mit-Rollkragen_215062_432819.html\">2041481</a></br>Damen-Chenille-Pullover mit Rollkragen</td><td style=\"text-align:center;width:100px\"><img src=\"http://www.nkd.com/wcsstore/NKD2/images/catalog/2042807x1x1_M.jpg\" width=\"100\"><br/><a href=\"http://www.nkd.com/damenmode-damen-pullover-langarmshirts/Damen-Sweatshirt-mit-Kordelzug-und-Trend-Muster_207551_434961.html\">2042807</a></br>Damen-Sweatshirt mit Kordelzug und Trend-Muster</td><td style=\"background-color:black;\"></td><td style=\"text-align:center;width:100px\"><img src=\"http://www.nkd.com/wcsstore/NKD2/images/catalog/2041507x1x1_M.jpg\" width=\"100\"><br/><a href=\"http://www.nkd.com/damenmode-damen-pullover-langarmshirts/Damen-Pullover-in-gestrickter-Melange-Optik_207551_435557.html\">2041507</a></br>Damen-Pullover in gestrickter Melange-Optik</td><td style=\"text-align:center;width:100px\"><img src=\"http://www.nkd.com/wcsstore/NKD2/images/catalog/2042539x1x1_M.jpg\" width=\"100\"><br/><a href=\"http://www.nkd.com/damenmode-damen-pullover-langarmshirts/Damen-Pullover-mit-Rauten-Struktur-und-Pailletten_207551_429531.html\">2042539</a></br>Damen-Pullover mit Rauten-Struktur und Pailletten</td><td style=\"text-align:center;width:100px\"><img src=\"http://www.nkd.com/wcsstore/NKD2/images/catalog/2042803x1x1_M.jpg\" width=\"100\"><br/><a href=\"http://www.nkd.com/damenmode-brands-laura-torelli-classic/Damen-Bluse-mit-trendigem-Karomuster_215062_434162.html\">2042803</a></br>Damen-Bluse mit trendigem Karomuster</td><td style=\"text-align:center;width:100px\"><img src=\"http://www.nkd.com/wcsstore/NKD2/images/catalog/2041973x1x1_M.jpg\" width=\"100\"><br/><a href=\"http://www.nkd.com/damenmode-brands-laura-torelli-collection/Damen-Pullover-mit-modernem-Saum_215062_428726.html\">2041973</a></br>Damen-Pullover mit modernem Saum</td><td style=\"text-align:center;width:100px\"><img src=\"http://www.nkd.com/wcsstore/NKD2/images/catalog/2042526x1x1_M.jpg\" width=\"100\"><br/><a href=\"http://www.nkd.com/damenmode-brands-laura-torelli-collection/Damen-Pullover-in-Ripp-Optik_215062_425933.html\">2042526</a></br>Damen-Pullover in Ripp-Optik</td></tr></table>"
      ],
      "text/plain": [
       "<IPython.core.display.HTML object>"
      ]
     },
     "metadata": {},
     "output_type": "display_data"
    },
    {
     "data": {
      "text/html": [
       "<table><tr><td style=\"text-align:center;width:100px\"><img src=\"http://www.nkd.com/wcsstore/NKD2/images/catalog/2041507x1x1_M.jpg\" width=\"100\"><br/><a href=\"http://www.nkd.com/damenmode-damen-pullover-langarmshirts/Damen-Pullover-in-gestrickter-Melange-Optik_207551_435557.html\">2041507</a></br>Damen-Pullover in gestrickter Melange-Optik</td><td style=\"text-align:center;width:100px\"><img src=\"http://www.nkd.com/wcsstore/NKD2/images/catalog/2041500x1x1_M.jpg\" width=\"100\"><br/><a href=\"http://www.nkd.com/damenmode-damen-pullover-langarmshirts/Damen-Pullover-mit-tollem-Strickmuster_207551_435560.html\">2041500</a></br>Damen-Pullover mit tollem Strickmuster</td><td style=\"text-align:center;width:100px\"><img src=\"http://www.nkd.com/wcsstore/NKD2/images/catalog/2043560x1x1_M.jpg\" width=\"100\"><br/><a href=\"http://www.nkd.com/damenmode-damen-jacken-westen/Damen-Daunenjacke-mit-Kontrast-Futter_207551_435556.html\">2043560</a></br>Damen-Daunenjacke mit Kontrast-Futter</td><td style=\"text-align:center;width:100px\"><img src=\"http://www.nkd.com/wcsstore/NKD2/images/catalog/2043310x1x1_M.jpg\" width=\"100\"><br/><a href=\"http://www.nkd.com/damenmode-damen-pullover-langarmshirts/Damen-Carmenshirt-mit-elastischem-Saum_207551_434894.html\">2043310</a></br>Damen-Carmenshirt mit elastischem Saum</td><td style=\"text-align:center;width:100px\"><img src=\"http://www.nkd.com/wcsstore/NKD2/images/catalog/2042807x1x1_M.jpg\" width=\"100\"><br/><a href=\"http://www.nkd.com/damenmode-damen-pullover-langarmshirts/Damen-Sweatshirt-mit-Kordelzug-und-Trend-Muster_207551_434961.html\">2042807</a></br>Damen-Sweatshirt mit Kordelzug und Trend-Muster</td><td style=\"background-color:black;\"></td><td style=\"text-align:center;width:100px\"><img src=\"http://www.nkd.com/wcsstore/NKD2/images/catalog/2042455x1x1_M.jpg\" width=\"100\"><br/><a href=\"http://www.nkd.com/damenmode-brands-laura-torelli-classic/Damen-Strickjacke-mit-Lurexfaden_215062_428618.html\">2042455</a></br>Damen-Strickjacke mit Lurexfaden</td><td style=\"text-align:center;width:100px\"><img src=\"http://www.nkd.com/wcsstore/NKD2/images/catalog/2042220x1x1_M.jpg\" width=\"100\"><br/><a href=\"http://www.nkd.com/damenmode-brands-laura-torelli-classic/Damen-Shirt-mit-dekorativem-Ausschnitt_215062_434126.html\">2042220</a></br>Damen-Shirt mit dekorativem Ausschnitt</td><td style=\"text-align:center;width:100px\"><img src=\"http://www.nkd.com/wcsstore/NKD2/images/catalog/2041504x1x1_M.jpg\" width=\"100\"><br/><a href=\"http://www.nkd.com/damenmode-damen-pullover-langarmshirts/Damen-Pullover-mit-trendigen-Seitenschlitzen_207551_435553.html\">2041504</a></br>Damen-Pullover mit trendigen Seitenschlitzen</td><td style=\"text-align:center;width:100px\"><img src=\"http://www.nkd.com/wcsstore/NKD2/images/catalog/2042534x1x1_M.jpg\" width=\"100\"><br/><a href=\"http://www.nkd.com/schnaeppchen-damenmode-brands/Damen-Pullover-mit-Ajour-Einsaetzen_215081_427797.html\">2042534</a></br>Damen-Pullover mit Ajour-Einsätzen</td><td style=\"text-align:center;width:100px\"><img src=\"http://www.nkd.com/wcsstore/NKD2/images/catalog/2041974x1x1_M.jpg\" width=\"100\"><br/><a href=\"http://www.nkd.com/damenmode-brands-laura-torelli-collection/Damen-Pullover-mit-doppellagigem-Design_215062_428706.html\">2041974</a></br>Damen-Pullover mit doppellagigem Design</td></tr></table>"
      ],
      "text/plain": [
       "<IPython.core.display.HTML object>"
      ]
     },
     "metadata": {},
     "output_type": "display_data"
    },
    {
     "data": {
      "text/html": [
       "<table><tr><td style=\"text-align:center;width:100px\"><img src=\"http://www.nkd.com/wcsstore/NKD2/images/catalog/2040964x1x1_M.jpg\" width=\"100\"><br/><a href=\"http://www.nkd.com/damenmode-damen-jacken-westen/Damen-Steppjacke-in-Glanz-Optik_207551_432351.html\">2040964</a></br>Damen-Steppjacke in Glanz-Optik</td><td style=\"text-align:center;width:100px\"><img src=\"http://www.nkd.com/wcsstore/NKD2/images/catalog/2040955x1x1_M.jpg\" width=\"100\"><br/><a href=\"http://www.nkd.com/damenmode-brands-laura-torelli-collection/Damen-Steppjacke-mit-Kontrast-Innenfutter_215062_426660.html\">2040955</a></br>Damen-Steppjacke mit Kontrast-Innenfutter</td><td style=\"text-align:center;width:100px\"><img src=\"http://www.nkd.com/wcsstore/NKD2/images/catalog/2043309x1x1_M.jpg\" width=\"100\"><br/><a href=\"http://www.nkd.com/damenmode-damen-pullover-langarmshirts/Damen-Carmenshirt-mit-trendigem-Muster_207551_434855.html\">2043309</a></br>Damen-Carmenshirt mit trendigem Muster</td><td style=\"text-align:center;width:100px\"><img src=\"http://www.nkd.com/wcsstore/NKD2/images/catalog/2048693x1x1_M.jpg\" width=\"100\"><br/><a href=\"http://www.nkd.com/damenmode-damen-pullover-langarmshirts/Damen-Shirt-mit-modernem-Blumenmuster_207551_436653.html\">2048693</a></br>Damen-Shirt mit modernem Blumenmuster</td><td style=\"text-align:center;width:100px\"><img src=\"http://www.nkd.com/wcsstore/NKD2/images/catalog/2042807x1x1_M.jpg\" width=\"100\"><br/><a href=\"http://www.nkd.com/damenmode-damen-pullover-langarmshirts/Damen-Sweatshirt-mit-Kordelzug-und-Trend-Muster_207551_434961.html\">2042807</a></br>Damen-Sweatshirt mit Kordelzug und Trend-Muster</td><td style=\"background-color:black;\"></td><td style=\"text-align:center;width:100px\"><img src=\"http://www.nkd.com/wcsstore/NKD2/images/catalog/2043559x1x1_M.jpg\" width=\"100\"><br/><a href=\"http://www.nkd.com/damenmode-damen-jacken-westen/Damen-2-in-1-Allwetterjacke_207551_435551.html\">2043559</a></br>Damen-2-in-1-Allwetterjacke</td><td style=\"text-align:center;width:100px\"><img src=\"http://www.nkd.com/wcsstore/NKD2/images/catalog/2041507x1x1_M.jpg\" width=\"100\"><br/><a href=\"http://www.nkd.com/damenmode-damen-pullover-langarmshirts/Damen-Pullover-in-gestrickter-Melange-Optik_207551_435557.html\">2041507</a></br>Damen-Pullover in gestrickter Melange-Optik</td><td style=\"text-align:center;width:100px\"><img src=\"http://www.nkd.com/wcsstore/NKD2/images/catalog/2040961x1x1_M.jpg\" width=\"100\"><br/><a href=\"http://www.nkd.com/damenmode-damen-jacken-westen/Damen-Steppjacke-mit-Schmucksteinchen_207551_431685.html\">2040961</a></br>Damen-Steppjacke mit Schmucksteinchen</td><td style=\"text-align:center;width:100px\"><img src=\"http://www.nkd.com/wcsstore/NKD2/images/catalog/2040960x1x1_M.jpg\" width=\"100\"><br/><a href=\"http://www.nkd.com/damenmode-brands-laura-torelli-collection/Damen-Parka-mit-Kunstfell_215062_434191.html\">2040960</a></br>Damen-Parka mit Kunstfell</td><td style=\"text-align:center;width:100px\"><img src=\"http://www.nkd.com/wcsstore/NKD2/images/catalog/2045417x1x1_M.jpg\" width=\"100\"><br/><a href=\"http://www.nkd.com/damenmode-brands-laura-torelli-collection/Damen-Pullover-mit-Schmucksteinchen_215062_434165.html\">2045417</a></br>Damen-Pullover mit Schmucksteinchen</td></tr></table>"
      ],
      "text/plain": [
       "<IPython.core.display.HTML object>"
      ]
     },
     "metadata": {},
     "output_type": "display_data"
    },
    {
     "data": {
      "text/html": [
       "<table><tr><td style=\"text-align:center;width:100px\"><img src=\"http://www.nkd.com/wcsstore/NKD2/images/catalog/2040964x1x1_M.jpg\" width=\"100\"><br/><a href=\"http://www.nkd.com/damenmode-damen-jacken-westen/Damen-Steppjacke-in-Glanz-Optik_207551_432351.html\">2040964</a></br>Damen-Steppjacke in Glanz-Optik</td><td style=\"text-align:center;width:100px\"><img src=\"http://www.nkd.com/wcsstore/NKD2/images/catalog/2040955x1x1_M.jpg\" width=\"100\"><br/><a href=\"http://www.nkd.com/damenmode-brands-laura-torelli-collection/Damen-Steppjacke-mit-Kontrast-Innenfutter_215062_426660.html\">2040955</a></br>Damen-Steppjacke mit Kontrast-Innenfutter</td><td style=\"text-align:center;width:100px\"><img src=\"http://www.nkd.com/wcsstore/NKD2/images/catalog/2043309x1x1_M.jpg\" width=\"100\"><br/><a href=\"http://www.nkd.com/damenmode-damen-pullover-langarmshirts/Damen-Carmenshirt-mit-trendigem-Muster_207551_434855.html\">2043309</a></br>Damen-Carmenshirt mit trendigem Muster</td><td style=\"text-align:center;width:100px\"><img src=\"http://www.nkd.com/wcsstore/NKD2/images/catalog/2048693x1x1_M.jpg\" width=\"100\"><br/><a href=\"http://www.nkd.com/damenmode-damen-pullover-langarmshirts/Damen-Shirt-mit-modernem-Blumenmuster_207551_436653.html\">2048693</a></br>Damen-Shirt mit modernem Blumenmuster</td><td style=\"text-align:center;width:100px\"><img src=\"http://www.nkd.com/wcsstore/NKD2/images/catalog/2042807x1x1_M.jpg\" width=\"100\"><br/><a href=\"http://www.nkd.com/damenmode-damen-pullover-langarmshirts/Damen-Sweatshirt-mit-Kordelzug-und-Trend-Muster_207551_434961.html\">2042807</a></br>Damen-Sweatshirt mit Kordelzug und Trend-Muster</td><td style=\"background-color:black;\"></td><td style=\"text-align:center;width:100px\"><img src=\"http://www.nkd.com/wcsstore/NKD2/images/catalog/2043559x1x1_M.jpg\" width=\"100\"><br/><a href=\"http://www.nkd.com/damenmode-damen-jacken-westen/Damen-2-in-1-Allwetterjacke_207551_435551.html\">2043559</a></br>Damen-2-in-1-Allwetterjacke</td><td style=\"text-align:center;width:100px\"><img src=\"http://www.nkd.com/wcsstore/NKD2/images/catalog/2041507x1x1_M.jpg\" width=\"100\"><br/><a href=\"http://www.nkd.com/damenmode-damen-pullover-langarmshirts/Damen-Pullover-in-gestrickter-Melange-Optik_207551_435557.html\">2041507</a></br>Damen-Pullover in gestrickter Melange-Optik</td><td style=\"text-align:center;width:100px\"><img src=\"http://www.nkd.com/wcsstore/NKD2/images/catalog/2040961x1x1_M.jpg\" width=\"100\"><br/><a href=\"http://www.nkd.com/damenmode-damen-jacken-westen/Damen-Steppjacke-mit-Schmucksteinchen_207551_431685.html\">2040961</a></br>Damen-Steppjacke mit Schmucksteinchen</td><td style=\"text-align:center;width:100px\"><img src=\"http://www.nkd.com/wcsstore/NKD2/images/catalog/2040960x1x1_M.jpg\" width=\"100\"><br/><a href=\"http://www.nkd.com/damenmode-brands-laura-torelli-collection/Damen-Parka-mit-Kunstfell_215062_434191.html\">2040960</a></br>Damen-Parka mit Kunstfell</td><td style=\"text-align:center;width:100px\"><img src=\"http://www.nkd.com/wcsstore/NKD2/images/catalog/2045417x1x1_M.jpg\" width=\"100\"><br/><a href=\"http://www.nkd.com/damenmode-brands-laura-torelli-collection/Damen-Pullover-mit-Schmucksteinchen_215062_434165.html\">2045417</a></br>Damen-Pullover mit Schmucksteinchen</td></tr></table>"
      ],
      "text/plain": [
       "<IPython.core.display.HTML object>"
      ]
     },
     "metadata": {},
     "output_type": "display_data"
    },
    {
     "data": {
      "text/html": [
       "<table><tr><td style=\"text-align:center;width:100px\"><img src=\"http://www.nkd.com/wcsstore/NKD2/images/catalog/2042453x1x1_M.jpg\" width=\"100\"><br/><a href=\"http://www.nkd.com/damenmode-damen-pullover-langarmshirts/Damen-Rollkragen-Pullover-mit-schicken-Buendchen_207551_431733.html\">2042453</a></br>Damen-Rollkragen-Pullover mit schicken Bündchen</td><td style=\"text-align:center;width:100px\"><img src=\"http://www.nkd.com/wcsstore/NKD2/images/catalog/2042848x1x1_M.jpg\" width=\"100\"><br/><a href=\"http://www.nkd.com/damenmode-damen-pullover-langarmshirts/Damen-Sweatshirt-in-trendiger-Melange-Optik_207551_433096.html\">2042848</a></br>Damen-Sweatshirt in trendiger Melange-Optik</td><td style=\"text-align:center;width:100px\"><img src=\"http://www.nkd.com/wcsstore/NKD2/images/catalog/2042849x1x1_M.jpg\" width=\"100\"><br/><a href=\"http://www.nkd.com/damenmode-damen-pullover-langarmshirts/Damen-Sweatshirt-mit-Bindebaendern_207551_433191.html\">2042849</a></br>Damen-Sweatshirt mit Bindebändern</td><td style=\"text-align:center;width:100px\"><img src=\"http://www.nkd.com/wcsstore/NKD2/images/catalog/2043310x1x1_M.jpg\" width=\"100\"><br/><a href=\"http://www.nkd.com/damenmode-damen-pullover-langarmshirts/Damen-Carmenshirt-mit-elastischem-Saum_207551_434894.html\">2043310</a></br>Damen-Carmenshirt mit elastischem Saum</td><td style=\"text-align:center;width:100px\"><img src=\"http://www.nkd.com/wcsstore/NKD2/images/catalog/2042807x1x1_M.jpg\" width=\"100\"><br/><a href=\"http://www.nkd.com/damenmode-damen-pullover-langarmshirts/Damen-Sweatshirt-mit-Kordelzug-und-Trend-Muster_207551_434961.html\">2042807</a></br>Damen-Sweatshirt mit Kordelzug und Trend-Muster</td><td style=\"background-color:black;\"></td><td style=\"text-align:center;width:100px\"><img src=\"http://www.nkd.com/wcsstore/NKD2/images/catalog/2042803x1x1_M.jpg\" width=\"100\"><br/><a href=\"http://www.nkd.com/damenmode-brands-laura-torelli-classic/Damen-Bluse-mit-trendigem-Karomuster_215062_434162.html\">2042803</a></br>Damen-Bluse mit trendigem Karomuster</td><td style=\"text-align:center;width:100px\"><img src=\"http://www.nkd.com/wcsstore/NKD2/images/catalog/2042539x1x1_M.jpg\" width=\"100\"><br/><a href=\"http://www.nkd.com/damenmode-damen-pullover-langarmshirts/Damen-Pullover-mit-Rauten-Struktur-und-Pailletten_207551_429531.html\">2042539</a></br>Damen-Pullover mit Rauten-Struktur und Pailletten</td><td style=\"text-align:center;width:100px\"><img src=\"http://www.nkd.com/wcsstore/NKD2/images/catalog/1677284x1x1_M.jpg\" width=\"100\"><br/><a href=\"http://www.nkd.com/damenmode-basics/Damen-Unterhemd-2er-Pack_207553_302420.html\">1677284</a></br>Damen-Unterhemd, 2er Pack</td><td style=\"text-align:center;width:100px\"><img src=\"http://www.nkd.com/wcsstore/NKD2/images/catalog/2040457x1x1_M.jpg\" width=\"100\"><br/><a href=\"http://www.nkd.com/schnaeppchen-damenmode-brands/Damen-Rioslip-mit-Spitzen-Einsatz-2er-Pack_215081_424009.html\">2040457</a></br>Damen-Rioslip mit Spitzen-Einsatz, 2er Pack</td><td style=\"text-align:center;width:100px\"><img src=\"http://www.nkd.com/wcsstore/NKD2/images/catalog/2041560x1x1_M.jpg\" width=\"100\"><br/><a href=\"http://www.nkd.com/jugendmode-maedchen-schuhe-accessoires/Buegelbilder-mit-verschiedenen-Motiven-7-teilig_10113_425259.html\">2041560</a></br>Bügelbilder mit verschiedenen Motiven, 7-teilig</td></tr></table>"
      ],
      "text/plain": [
       "<IPython.core.display.HTML object>"
      ]
     },
     "metadata": {},
     "output_type": "display_data"
    },
    {
     "data": {
      "text/html": [
       "<table><tr><td style=\"text-align:center;width:100px\"><img src=\"http://www.nkd.com/wcsstore/NKD2/images/catalog/2043559x1x1_M.jpg\" width=\"100\"><br/><a href=\"http://www.nkd.com/damenmode-damen-jacken-westen/Damen-2-in-1-Allwetterjacke_207551_435551.html\">2043559</a></br>Damen-2-in-1-Allwetterjacke</td><td style=\"text-align:center;width:100px\"><img src=\"http://www.nkd.com/wcsstore/NKD2/images/catalog/2041504x1x1_M.jpg\" width=\"100\"><br/><a href=\"http://www.nkd.com/damenmode-damen-pullover-langarmshirts/Damen-Pullover-mit-trendigen-Seitenschlitzen_207551_435553.html\">2041504</a></br>Damen-Pullover mit trendigen Seitenschlitzen</td><td style=\"text-align:center;width:100px\"><img src=\"http://www.nkd.com/wcsstore/NKD2/images/catalog/2041500x1x1_M.jpg\" width=\"100\"><br/><a href=\"http://www.nkd.com/damenmode-damen-pullover-langarmshirts/Damen-Pullover-mit-tollem-Strickmuster_207551_435560.html\">2041500</a></br>Damen-Pullover mit tollem Strickmuster</td><td style=\"text-align:center;width:100px\"><img src=\"http://www.nkd.com/wcsstore/NKD2/images/catalog/2043560x1x1_M.jpg\" width=\"100\"><br/><a href=\"http://www.nkd.com/damenmode-damen-jacken-westen/Damen-Daunenjacke-mit-Kontrast-Futter_207551_435556.html\">2043560</a></br>Damen-Daunenjacke mit Kontrast-Futter</td><td style=\"text-align:center;width:100px\"><img src=\"http://www.nkd.com/wcsstore/NKD2/images/catalog/2042807x1x1_M.jpg\" width=\"100\"><br/><a href=\"http://www.nkd.com/damenmode-damen-pullover-langarmshirts/Damen-Sweatshirt-mit-Kordelzug-und-Trend-Muster_207551_434961.html\">2042807</a></br>Damen-Sweatshirt mit Kordelzug und Trend-Muster</td><td style=\"background-color:black;\"></td><td style=\"text-align:center;width:100px\"><img src=\"http://www.nkd.com/wcsstore/NKD2/images/catalog/2041507x1x1_M.jpg\" width=\"100\"><br/><a href=\"http://www.nkd.com/damenmode-damen-pullover-langarmshirts/Damen-Pullover-in-gestrickter-Melange-Optik_207551_435557.html\">2041507</a></br>Damen-Pullover in gestrickter Melange-Optik</td><td style=\"text-align:center;width:100px\"><img src=\"http://www.nkd.com/wcsstore/NKD2/images/catalog/2040457x1x1_M.jpg\" width=\"100\"><br/><a href=\"http://www.nkd.com/schnaeppchen-damenmode-brands/Damen-Rioslip-mit-Spitzen-Einsatz-2er-Pack_215081_424009.html\">2040457</a></br>Damen-Rioslip mit Spitzen-Einsatz, 2er Pack</td><td style=\"text-align:center;width:100px\"><img src=\"http://www.nkd.com/wcsstore/NKD2/images/catalog/2042550x1x1_M.jpg\" width=\"100\"><br/><a href=\"http://www.nkd.com/damenmode-damen-jacken-westen/Damen-Strickjacke-mit-Glitzer-Effekten_207551_432368.html\">2042550</a></br>Damen-Strickjacke mit Glitzer-Effekten</td><td style=\"text-align:center;width:100px\"><img src=\"http://www.nkd.com/wcsstore/NKD2/images/catalog/2039970x1x1_M.jpg\" width=\"100\"><br/><a href=\"http://www.nkd.com/kindermode-jungen-jacken/Jungen-Jacke-mit-verschiedenen-Applikationen_215055_431341.html\">2039970</a></br>Jungen-Jacke mit verschiedenen Applikationen</td><td style=\"text-align:center;width:100px\"><img src=\"http://www.nkd.com/wcsstore/NKD2/images/catalog/2039725x1x1_M.jpg\" width=\"100\"><br/><a href=\"http://www.nkd.com/damenmode-damen-strumpfhosen-socken/Damen-Feinstrumpfhose-mit-Rauten-Muster-80-DEN_207551_436991.html\">2039725</a></br>Damen-Feinstrumpfhose mit Rauten-Muster, 80 DEN</td></tr></table>"
      ],
      "text/plain": [
       "<IPython.core.display.HTML object>"
      ]
     },
     "metadata": {},
     "output_type": "display_data"
    },
    {
     "data": {
      "text/html": [
       "<table><tr><td style=\"text-align:center;width:100px\"><img src=\"http://www.nkd.com/wcsstore/NKD2/images/catalog/2041507x1x1_M.jpg\" width=\"100\"><br/><a href=\"http://www.nkd.com/damenmode-damen-pullover-langarmshirts/Damen-Pullover-in-gestrickter-Melange-Optik_207551_435557.html\">2041507</a></br>Damen-Pullover in gestrickter Melange-Optik</td><td style=\"text-align:center;width:100px\"><img src=\"http://www.nkd.com/wcsstore/NKD2/images/catalog/2041504x1x1_M.jpg\" width=\"100\"><br/><a href=\"http://www.nkd.com/damenmode-damen-pullover-langarmshirts/Damen-Pullover-mit-trendigen-Seitenschlitzen_207551_435553.html\">2041504</a></br>Damen-Pullover mit trendigen Seitenschlitzen</td><td style=\"text-align:center;width:100px\"><img src=\"http://www.nkd.com/wcsstore/NKD2/images/catalog/2041503x1x1_M.jpg\" width=\"100\"><br/><a href=\"http://www.nkd.com/damenmode-damen-pullover-langarmshirts/Damen-Pullover-mit-modischem-Strickmuster_207551_435555.html\">2041503</a></br>Damen-Pullover mit modischem Strickmuster</td><td style=\"text-align:center;width:100px\"><img src=\"http://www.nkd.com/wcsstore/NKD2/images/catalog/2043560x1x1_M.jpg\" width=\"100\"><br/><a href=\"http://www.nkd.com/damenmode-damen-jacken-westen/Damen-Daunenjacke-mit-Kontrast-Futter_207551_435556.html\">2043560</a></br>Damen-Daunenjacke mit Kontrast-Futter</td><td style=\"text-align:center;width:100px\"><img src=\"http://www.nkd.com/wcsstore/NKD2/images/catalog/2042807x1x1_M.jpg\" width=\"100\"><br/><a href=\"http://www.nkd.com/damenmode-damen-pullover-langarmshirts/Damen-Sweatshirt-mit-Kordelzug-und-Trend-Muster_207551_434961.html\">2042807</a></br>Damen-Sweatshirt mit Kordelzug und Trend-Muster</td><td style=\"background-color:black;\"></td><td style=\"text-align:center;width:100px\"><img src=\"http://www.nkd.com/wcsstore/NKD2/images/catalog/2042455x1x1_M.jpg\" width=\"100\"><br/><a href=\"http://www.nkd.com/damenmode-brands-laura-torelli-classic/Damen-Strickjacke-mit-Lurexfaden_215062_428618.html\">2042455</a></br>Damen-Strickjacke mit Lurexfaden</td><td style=\"text-align:center;width:100px\"><img src=\"http://www.nkd.com/wcsstore/NKD2/images/catalog/2042220x1x1_M.jpg\" width=\"100\"><br/><a href=\"http://www.nkd.com/damenmode-brands-laura-torelli-classic/Damen-Shirt-mit-dekorativem-Ausschnitt_215062_434126.html\">2042220</a></br>Damen-Shirt mit dekorativem Ausschnitt</td><td style=\"text-align:center;width:100px\"><img src=\"http://www.nkd.com/wcsstore/NKD2/images/catalog/2042534x1x1_M.jpg\" width=\"100\"><br/><a href=\"http://www.nkd.com/schnaeppchen-damenmode-brands/Damen-Pullover-mit-Ajour-Einsaetzen_215081_427797.html\">2042534</a></br>Damen-Pullover mit Ajour-Einsätzen</td><td style=\"text-align:center;width:100px\"><img src=\"http://www.nkd.com/wcsstore/NKD2/images/catalog/2041974x1x1_M.jpg\" width=\"100\"><br/><a href=\"http://www.nkd.com/damenmode-brands-laura-torelli-collection/Damen-Pullover-mit-doppellagigem-Design_215062_428706.html\">2041974</a></br>Damen-Pullover mit doppellagigem Design</td><td style=\"text-align:center;width:100px\"><img src=\"http://www.nkd.com/wcsstore/NKD2/images/catalog/2042452x1x1_M.jpg\" width=\"100\"><br/><a href=\"http://www.nkd.com/damenmode-damen-pullover-langarmshirts/Damen-Rollkragen-Pullover-mit-spannendem-Muster_207551_431330.html\">2042452</a></br>Damen-Rollkragen-Pullover mit spannendem Muster</td></tr></table>"
      ],
      "text/plain": [
       "<IPython.core.display.HTML object>"
      ]
     },
     "metadata": {},
     "output_type": "display_data"
    },
    {
     "data": {
      "text/html": [
       "<table><tr><td style=\"text-align:center;width:100px\"><img src=\"http://www.nkd.com/wcsstore/NKD2/images/catalog/2041504x1x1_M.jpg\" width=\"100\"><br/><a href=\"http://www.nkd.com/damenmode-damen-pullover-langarmshirts/Damen-Pullover-mit-trendigen-Seitenschlitzen_207551_435553.html\">2041504</a></br>Damen-Pullover mit trendigen Seitenschlitzen</td><td style=\"text-align:center;width:100px\"><img src=\"http://www.nkd.com/wcsstore/NKD2/images/catalog/2041972x1x1_M.jpg\" width=\"100\"><br/><a href=\"http://www.nkd.com/NEU20171102FrohesFest/Damen-Strickjacke-mit-grossen-Knoepfen_10097_434937.html\">2041972</a></br>Damen-Strickjacke mit großen Knöpfen</td><td style=\"text-align:center;width:100px\"><img src=\"http://www.nkd.com/wcsstore/NKD2/images/catalog/2043309x1x1_M.jpg\" width=\"100\"><br/><a href=\"http://www.nkd.com/damenmode-damen-pullover-langarmshirts/Damen-Carmenshirt-mit-trendigem-Muster_207551_434855.html\">2043309</a></br>Damen-Carmenshirt mit trendigem Muster</td><td style=\"text-align:center;width:100px\"><img src=\"http://www.nkd.com/wcsstore/NKD2/images/catalog/2043310x1x1_M.jpg\" width=\"100\"><br/><a href=\"http://www.nkd.com/damenmode-damen-pullover-langarmshirts/Damen-Carmenshirt-mit-elastischem-Saum_207551_434894.html\">2043310</a></br>Damen-Carmenshirt mit elastischem Saum</td><td style=\"text-align:center;width:100px\"><img src=\"http://www.nkd.com/wcsstore/NKD2/images/catalog/2042807x1x1_M.jpg\" width=\"100\"><br/><a href=\"http://www.nkd.com/damenmode-damen-pullover-langarmshirts/Damen-Sweatshirt-mit-Kordelzug-und-Trend-Muster_207551_434961.html\">2042807</a></br>Damen-Sweatshirt mit Kordelzug und Trend-Muster</td><td style=\"background-color:black;\"></td><td style=\"text-align:center;width:100px\"><img src=\"http://www.nkd.com/wcsstore/NKD2/images/catalog/2040457x1x1_M.jpg\" width=\"100\"><br/><a href=\"http://www.nkd.com/schnaeppchen-damenmode-brands/Damen-Rioslip-mit-Spitzen-Einsatz-2er-Pack_215081_424009.html\">2040457</a></br>Damen-Rioslip mit Spitzen-Einsatz, 2er Pack</td><td style=\"text-align:center;width:100px\"><img src=\"http://www.nkd.com/wcsstore/NKD2/images/catalog/2042539x1x1_M.jpg\" width=\"100\"><br/><a href=\"http://www.nkd.com/damenmode-damen-pullover-langarmshirts/Damen-Pullover-mit-Rauten-Struktur-und-Pailletten_207551_429531.html\">2042539</a></br>Damen-Pullover mit Rauten-Struktur und Pailletten</td><td style=\"text-align:center;width:100px\"><img src=\"http://www.nkd.com/wcsstore/NKD2/images/catalog/2042803x1x1_M.jpg\" width=\"100\"><br/><a href=\"http://www.nkd.com/damenmode-brands-laura-torelli-classic/Damen-Bluse-mit-trendigem-Karomuster_215062_434162.html\">2042803</a></br>Damen-Bluse mit trendigem Karomuster</td><td style=\"text-align:center;width:100px\"><img src=\"http://www.nkd.com/wcsstore/NKD2/images/catalog/2042933x1x1_M.jpg\" width=\"100\"><br/><a href=\"http://www.nkd.com/damenmode-damen-jacken-westen/Damen-Poncho-mit-Zierfransen_207551_434132.html\">2042933</a></br>Damen-Poncho mit Zierfransen</td><td style=\"text-align:center;width:100px\"><img src=\"http://www.nkd.com/wcsstore/NKD2/images/catalog/1677284x1x1_M.jpg\" width=\"100\"><br/><a href=\"http://www.nkd.com/damenmode-basics/Damen-Unterhemd-2er-Pack_207553_302420.html\">1677284</a></br>Damen-Unterhemd, 2er Pack</td></tr></table>"
      ],
      "text/plain": [
       "<IPython.core.display.HTML object>"
      ]
     },
     "metadata": {},
     "output_type": "display_data"
    },
    {
     "data": {
      "text/html": [
       "<table><tr><td style=\"text-align:center;width:100px\"><img src=\"http://www.nkd.com/wcsstore/NKD2/images/catalog/2041508x1x1_M.jpg\" width=\"100\"><br/><a href=\"http://www.nkd.com/damenmode-brands-laura-torelli-classic/Damen-Chenille-Strickjacke-mit-aufgesetzten-Taschen_215062_432804.html\">2041508</a></br>Damen-Chenille-Strickjacke mit aufgesetzten Taschen</td><td style=\"text-align:center;width:100px\"><img src=\"http://www.nkd.com/wcsstore/NKD2/images/catalog/2043287x1x1_M.jpg\" width=\"100\"><br/><a href=\"http://www.nkd.com/damenmode-brands-laura-torelli-collection/Damen-Rock-in-Stufen-Optik_215062_432816.html\">2043287</a></br>Damen-Rock in Stufen-Optik</td><td style=\"text-align:center;width:100px\"><img src=\"http://www.nkd.com/wcsstore/NKD2/images/catalog/2043286x1x1_M.jpg\" width=\"100\"><br/><a href=\"http://www.nkd.com/damenmode-brands-laura-torelli-collection/Damen-Jeans-mit-Stickerei-und-Glitzersteinchen_215062_432805.html\">2043286</a></br>Damen-Jeans mit Stickerei und Glitzersteinchen</td><td style=\"text-align:center;width:100px\"><img src=\"http://www.nkd.com/wcsstore/NKD2/images/catalog/2041481x1x1_M.jpg\" width=\"100\"><br/><a href=\"http://www.nkd.com/damenmode-brands-laura-torelli-classic/Damen-Chenille-Pullover-mit-Rollkragen_215062_432819.html\">2041481</a></br>Damen-Chenille-Pullover mit Rollkragen</td><td style=\"text-align:center;width:100px\"><img src=\"http://www.nkd.com/wcsstore/NKD2/images/catalog/2042807x1x1_M.jpg\" width=\"100\"><br/><a href=\"http://www.nkd.com/damenmode-damen-pullover-langarmshirts/Damen-Sweatshirt-mit-Kordelzug-und-Trend-Muster_207551_434961.html\">2042807</a></br>Damen-Sweatshirt mit Kordelzug und Trend-Muster</td><td style=\"background-color:black;\"></td><td style=\"text-align:center;width:100px\"><img src=\"http://www.nkd.com/wcsstore/NKD2/images/catalog/2041507x1x1_M.jpg\" width=\"100\"><br/><a href=\"http://www.nkd.com/damenmode-damen-pullover-langarmshirts/Damen-Pullover-in-gestrickter-Melange-Optik_207551_435557.html\">2041507</a></br>Damen-Pullover in gestrickter Melange-Optik</td><td style=\"text-align:center;width:100px\"><img src=\"http://www.nkd.com/wcsstore/NKD2/images/catalog/2042539x1x1_M.jpg\" width=\"100\"><br/><a href=\"http://www.nkd.com/damenmode-damen-pullover-langarmshirts/Damen-Pullover-mit-Rauten-Struktur-und-Pailletten_207551_429531.html\">2042539</a></br>Damen-Pullover mit Rauten-Struktur und Pailletten</td><td style=\"text-align:center;width:100px\"><img src=\"http://www.nkd.com/wcsstore/NKD2/images/catalog/2042803x1x1_M.jpg\" width=\"100\"><br/><a href=\"http://www.nkd.com/damenmode-brands-laura-torelli-classic/Damen-Bluse-mit-trendigem-Karomuster_215062_434162.html\">2042803</a></br>Damen-Bluse mit trendigem Karomuster</td><td style=\"text-align:center;width:100px\"><img src=\"http://www.nkd.com/wcsstore/NKD2/images/catalog/2041973x1x1_M.jpg\" width=\"100\"><br/><a href=\"http://www.nkd.com/damenmode-brands-laura-torelli-collection/Damen-Pullover-mit-modernem-Saum_215062_428726.html\">2041973</a></br>Damen-Pullover mit modernem Saum</td><td style=\"text-align:center;width:100px\"><img src=\"http://www.nkd.com/wcsstore/NKD2/images/catalog/2042526x1x1_M.jpg\" width=\"100\"><br/><a href=\"http://www.nkd.com/damenmode-brands-laura-torelli-collection/Damen-Pullover-in-Ripp-Optik_215062_425933.html\">2042526</a></br>Damen-Pullover in Ripp-Optik</td></tr></table>"
      ],
      "text/plain": [
       "<IPython.core.display.HTML object>"
      ]
     },
     "metadata": {},
     "output_type": "display_data"
    },
    {
     "data": {
      "text/html": [
       "<table><tr><td style=\"text-align:center;width:100px\"><img src=\"http://www.nkd.com/wcsstore/NKD2/images/catalog/2040373x1x1_M.jpg\" width=\"100\"><br/><a href=\"http://www.nkd.com/damenmode-brands-laura-torelli-classic/Damen-Steppjacke-mit-2-Wege-Reissverschluss_215062_434154.html\">2040373</a></br>Damen-Steppjacke mit 2-Wege-Reißverschluss</td><td style=\"text-align:center;width:100px\"><img src=\"http://www.lackuna.com/wp-content/themes/fearless/images/missing-image-640x360.png\" width=\"100\"><br/><a href=\"\"></a></br>UNKNOWN</td><td style=\"text-align:center;width:100px\"><img src=\"http://www.nkd.com/wcsstore/NKD2/images/catalog/2043659x1x1_M.jpg\" width=\"100\"><br/><a href=\"http://www.nkd.com/damenmode-damen-pullover-langarmshirts/Damen-Jacquardpullover-aus-flauschigem-Material_207551_432372.html\">2043659</a></br>Damen-Jacquardpullover aus flauschigem Material</td><td style=\"text-align:center;width:100px\"><img src=\"http://www.nkd.com/wcsstore/NKD2/images/catalog/2042849x1x1_M.jpg\" width=\"100\"><br/><a href=\"http://www.nkd.com/damenmode-damen-pullover-langarmshirts/Damen-Sweatshirt-mit-Bindebaendern_207551_433191.html\">2042849</a></br>Damen-Sweatshirt mit Bindebändern</td><td style=\"text-align:center;width:100px\"><img src=\"http://www.nkd.com/wcsstore/NKD2/images/catalog/2042807x1x1_M.jpg\" width=\"100\"><br/><a href=\"http://www.nkd.com/damenmode-damen-pullover-langarmshirts/Damen-Sweatshirt-mit-Kordelzug-und-Trend-Muster_207551_434961.html\">2042807</a></br>Damen-Sweatshirt mit Kordelzug und Trend-Muster</td><td style=\"background-color:black;\"></td><td style=\"text-align:center;width:100px\"><img src=\"http://www.nkd.com/wcsstore/NKD2/images/catalog/2040371x1x1_M.jpg\" width=\"100\"><br/><a href=\"http://www.nkd.com/damenmode-brands-laura-torelli-classic/Damen-Anorak-in-Glanz-Optik_215062_427855.html\">2040371</a></br>Damen-Anorak in Glanz-Optik</td><td style=\"text-align:center;width:100px\"><img src=\"http://www.nkd.com/wcsstore/NKD2/images/catalog/2040196x1x1_M.jpg\" width=\"100\"><br/><a href=\"http://www.nkd.com/damenmode-brands-laura-torelli-classic/Damen-Anorak-mit-Fleece-Innenfutter_215062_427773.html\">2040196</a></br>Damen-Anorak mit Fleece-Innenfutter</td><td style=\"text-align:center;width:100px\"><img src=\"http://www.nkd.com/wcsstore/NKD2/images/catalog/2040374x1x1_M.jpg\" width=\"100\"><br/><a href=\"http://www.nkd.com/damenmode-damen-jacken-westen/Damen-Anorak-mit-schicken-Knoepfe_207551_430463.html\">2040374</a></br>Damen-Anorak mit schicken Knöpfe</td><td style=\"text-align:center;width:100px\"><img src=\"http://www.nkd.com/wcsstore/NKD2/images/catalog/2043298x1x1_M.jpg\" width=\"100\"><br/><a href=\"http://www.nkd.com/damenmode-brands-laura-torelli-collection/Damen-Shirt-mit-Leo-Muster-und-Spitze_215062_434207.html\">2043298</a></br>Damen-Shirt mit Leo-Muster und Spitze</td><td style=\"text-align:center;width:100px\"><img src=\"http://www.nkd.com/wcsstore/NKD2/images/catalog/2041507x1x1_M.jpg\" width=\"100\"><br/><a href=\"http://www.nkd.com/damenmode-damen-pullover-langarmshirts/Damen-Pullover-in-gestrickter-Melange-Optik_207551_435557.html\">2041507</a></br>Damen-Pullover in gestrickter Melange-Optik</td></tr></table>"
      ],
      "text/plain": [
       "<IPython.core.display.HTML object>"
      ]
     },
     "metadata": {},
     "output_type": "display_data"
    }
   ],
   "source": [
    "gr = random.choice(list(grouped_by_last_item.keys()))\n",
    "display_sessions(grouped_by_last_item[gr])"
   ]
  },
  {
   "cell_type": "code",
   "execution_count": null,
   "metadata": {},
   "outputs": [],
   "source": []
  }
 ],
 "metadata": {
  "kernelspec": {
   "display_name": "Python 3",
   "language": "python",
   "name": "python3"
  },
  "language_info": {
   "codemirror_mode": {
    "name": "ipython",
    "version": 3
   },
   "file_extension": ".py",
   "mimetype": "text/x-python",
   "name": "python",
   "nbconvert_exporter": "python",
   "pygments_lexer": "ipython3",
   "version": "3.5.4"
  }
 },
 "nbformat": 4,
 "nbformat_minor": 2
}
