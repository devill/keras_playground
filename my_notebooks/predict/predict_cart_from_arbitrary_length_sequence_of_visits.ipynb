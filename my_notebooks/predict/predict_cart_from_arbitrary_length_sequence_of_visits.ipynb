{
 "cells": [
  {
   "cell_type": "code",
   "execution_count": 1,
   "metadata": {},
   "outputs": [
    {
     "name": "stderr",
     "output_type": "stream",
     "text": [
      "Using TensorFlow backend.\n"
     ]
    }
   ],
   "source": [
    "import json\n",
    "import matplotlib.pyplot as plt\n",
    "from keras.utils import to_categorical\n",
    "from tqdm import tqdm\n",
    "import random\n",
    "import numpy as np"
   ]
  },
  {
   "cell_type": "code",
   "execution_count": 2,
   "metadata": {},
   "outputs": [],
   "source": [
    "%matplotlib inline"
   ]
  },
  {
   "cell_type": "code",
   "execution_count": 3,
   "metadata": {},
   "outputs": [],
   "source": [
    "merchant_id = '196E2517293A9285'"
   ]
  },
  {
   "cell_type": "code",
   "execution_count": 4,
   "metadata": {},
   "outputs": [],
   "source": [
    "file = '/data/predict/'+merchant_id+'/'+merchant_id+'_logs.json'"
   ]
  },
  {
   "cell_type": "code",
   "execution_count": 5,
   "metadata": {},
   "outputs": [
    {
     "name": "stderr",
     "output_type": "stream",
     "text": [
      "759250it [00:06, 115675.38it/s]\n"
     ]
    }
   ],
   "source": [
    "users = {}\n",
    "with open(file, encoding='utf8') as f:\n",
    "    for line in tqdm(f):\n",
    "        data = json.loads(line)\n",
    "        if data['visitor_id'] not in users:\n",
    "            users[data['visitor_id']] = {'visits':[], 'cart':[]}\n",
    "            \n",
    "        for prod_idx in data['viewed_products']:\n",
    "            try:\n",
    "                users[data['visitor_id']]['visits'].append(prod_idx)\n",
    "            except ValueError: \n",
    "                print('Skiped ' + prod_idx)\n",
    "                \n",
    "        for prod_idx in data['cart']:\n",
    "            try:\n",
    "                users[data['visitor_id']]['cart'].append(prod_idx)\n",
    "            except ValueError: \n",
    "                print('Skiped ' + prod_idx)\n",
    "        "
   ]
  },
  {
   "cell_type": "code",
   "execution_count": 6,
   "metadata": {},
   "outputs": [
    {
     "data": {
      "text/plain": [
       "9969"
      ]
     },
     "execution_count": 6,
     "metadata": {},
     "output_type": "execute_result"
    }
   ],
   "source": [
    "count = 0\n",
    "for user_id,user in users.items():\n",
    "    \n",
    "    if len(user['cart']) > 0:\n",
    "        count += 1 \n",
    "count"
   ]
  },
  {
   "cell_type": "code",
   "execution_count": 7,
   "metadata": {},
   "outputs": [],
   "source": [
    "products = {}\n",
    "for u in users.values():\n",
    "    for pid in u['visits']:\n",
    "        products[pid] = 1\n",
    "        \n",
    "    for pid in u['cart']:\n",
    "        products[pid] = 1\n",
    "        \n",
    "product_idxs = products.keys()\n",
    "product_ids = {v: k for k, v in enumerate(product_idxs)}\n",
    "number_of_classes = len(product_idxs)"
   ]
  },
  {
   "cell_type": "code",
   "execution_count": 8,
   "metadata": {},
   "outputs": [
    {
     "name": "stdout",
     "output_type": "stream",
     "text": [
      "2425\n"
     ]
    }
   ],
   "source": [
    "print(number_of_classes)"
   ]
  },
  {
   "cell_type": "code",
   "execution_count": 9,
   "metadata": {},
   "outputs": [],
   "source": [
    "def chunks(l, n):\n",
    "    for i in range(0, len(l), n):\n",
    "        yield l[i:i + n]"
   ]
  },
  {
   "cell_type": "code",
   "execution_count": 10,
   "metadata": {},
   "outputs": [],
   "source": [
    "def dedup(seq):\n",
    "    seen = set()\n",
    "    seen_add = seen.add\n",
    "\n",
    "    return [x for x in seq if not (x in seen or seen_add(x))]\n",
    "\n",
    "\n",
    "users_with_product_idxs = {}\n",
    "for uid,sessions in users.items():\n",
    "    visit_ids = dedup(list(map(lambda x: product_ids[x], sessions['visits'])))[-40:]\n",
    "    cart_ids = dedup(list(map(lambda x: product_ids[x], sessions['cart'])))[-40:]\n",
    "    if len(cart_ids) > 0 and len(visit_ids):\n",
    "        if len(visit_ids) not in users_with_product_idxs:\n",
    "            users_with_product_idxs[len(visit_ids)] = []\n",
    "        users_with_product_idxs[len(visit_ids)].append({\n",
    "            'visits': visit_ids,\n",
    "            'cart': cart_ids\n",
    "        })\n",
    "    \n",
    "#del users"
   ]
  },
  {
   "cell_type": "code",
   "execution_count": null,
   "metadata": {},
   "outputs": [],
   "source": []
  },
  {
   "cell_type": "markdown",
   "metadata": {},
   "source": [
    "# TODO\n",
    "Bellow here nothing has been updated yet"
   ]
  },
  {
   "cell_type": "code",
   "execution_count": null,
   "metadata": {},
   "outputs": [],
   "source": []
  },
  {
   "cell_type": "code",
   "execution_count": 13,
   "metadata": {},
   "outputs": [],
   "source": [
    "max_batch_size = 32\n",
    "test_size = 0.1\n",
    "user_batches = []\n",
    "user_valid_batches = []\n",
    "for len_group in users_with_product_idxs.values():\n",
    "    random.shuffle(len_group)\n",
    "    for batch in chunks(len_group, max_batch_size):\n",
    "        batch_data = np.array(list(map(lambda x: x[:-1], batch)))\n",
    "        batch_labels = np.expand_dims(np.array(list(map(lambda x: x[1:], batch))), axis=2)\n",
    "        if random.random() < test_size:\n",
    "            user_valid_batches.append(\n",
    "                (batch_data, batch_labels)\n",
    "            )\n",
    "        else:\n",
    "            user_batches.append(\n",
    "                (batch_data, batch_labels)\n",
    "            )"
   ]
  },
  {
   "cell_type": "code",
   "execution_count": 14,
   "metadata": {},
   "outputs": [],
   "source": [
    "\n",
    "def generate_from_array(arr):\n",
    "    while True:\n",
    "        random.shuffle(arr)\n",
    "        for i in arr: \n",
    "            yield i\n",
    "    "
   ]
  },
  {
   "cell_type": "code",
   "execution_count": 24,
   "metadata": {},
   "outputs": [],
   "source": [
    "from keras.models import Sequential\n",
    "from keras.layers import Embedding, CuDNNGRU, Dense, Dropout, TimeDistributed,Bidirectional\n",
    "from keras.layers.normalization import BatchNormalization\n",
    "from keras.optimizers import Nadam\n",
    "from keras.optimizers import Nadam\n",
    "\n",
    "\n",
    "n_hidden = 200\n",
    "\n",
    "model=Sequential([\n",
    "        Embedding(number_of_classes, n_hidden, batch_input_shape=(None,None)),\n",
    "        BatchNormalization(),\n",
    "        CuDNNGRU(4*n_hidden, input_shape=(None,n_hidden),return_sequences=True),\n",
    "        Dropout(0.2),\n",
    "        CuDNNGRU(4*n_hidden,return_sequences=True),\n",
    "        Dropout(0.2),\n",
    "        TimeDistributed(Dense(n_hidden, activation='relu')),\n",
    "        TimeDistributed(Dense(number_of_classes, activation='softmax'))\n",
    "    ])"
   ]
  },
  {
   "cell_type": "code",
   "execution_count": 25,
   "metadata": {},
   "outputs": [],
   "source": [
    "from keras.backend import reshape, prod, shape, stack\n",
    "from keras.metrics import sparse_top_k_categorical_accuracy\n",
    "\n",
    "def flatten_first_n_dimension(x, first_n=2):\n",
    "    new_dims = stack([prod(shape(x)[:first_n]), prod(shape(x)[first_n:])])\n",
    "\n",
    "    return reshape(x, new_dims)\n",
    "\n",
    "def sparse_timedistributed_top_k_categorical_accuracy(y_true, y_pred, k=5):\n",
    "    y_true_reshaped = flatten_first_n_dimension(y_true)\n",
    "    y_pred_reshaped = flatten_first_n_dimension(y_pred)\n",
    "\n",
    "    return sparse_top_k_categorical_accuracy(y_true_reshaped, y_pred_reshaped, k)"
   ]
  },
  {
   "cell_type": "code",
   "execution_count": 26,
   "metadata": {},
   "outputs": [],
   "source": [
    "model.compile(loss='sparse_categorical_crossentropy', metrics=['sparse_categorical_accuracy',sparse_timedistributed_top_k_categorical_accuracy], optimizer=Nadam())"
   ]
  },
  {
   "cell_type": "code",
   "execution_count": 27,
   "metadata": {},
   "outputs": [],
   "source": [
    "import csv\n",
    "with open('/data/predict//'+merchant_id+'/'+merchant_id+'_variable_length_model_id_map.csv', 'w') as csvfile:\n",
    "    spamwriter = csv.writer(csvfile)\n",
    "    for line in product_idxs:\n",
    "        spamwriter.writerow([line])"
   ]
  },
  {
   "cell_type": "code",
   "execution_count": 28,
   "metadata": {},
   "outputs": [],
   "source": [
    "from keras.callbacks import ModelCheckpoint\n",
    "filepath='/data/predict/'+merchant_id+'/'+merchant_id+'_variable_length_model-{epoch:02d}-{val_loss:.2f}.hdf5'\n",
    "checkpoint = ModelCheckpoint(filepath, monitor='val_sparse_timedistributed_top_k_categorical_accuracy', verbose=1, save_best_only=False, mode='max')"
   ]
  },
  {
   "cell_type": "code",
   "execution_count": 29,
   "metadata": {},
   "outputs": [
    {
     "name": "stdout",
     "output_type": "stream",
     "text": [
      "Epoch 1/6\n",
      "2029/2034 [============================>.] - ETA: 0s - loss: 5.6858 - sparse_categorical_accuracy: 0.1110 - sparse_timedistributed_top_k_categorical_accuracy: 0.2552Epoch 00001: saving model to /data/predict/196E2517293A9285/196E2517293A9285_variable_length_model-01-5.31.hdf5\n",
      "2034/2034 [==============================] - 29s 14ms/step - loss: 5.6848 - sparse_categorical_accuracy: 0.1111 - sparse_timedistributed_top_k_categorical_accuracy: 0.2554 - val_loss: 5.3079 - val_sparse_categorical_accuracy: 0.1460 - val_sparse_timedistributed_top_k_categorical_accuracy: 0.3163\n",
      "Epoch 2/6\n",
      "2031/2034 [============================>.] - ETA: 0s - loss: 5.1489 - sparse_categorical_accuracy: 0.1517 - sparse_timedistributed_top_k_categorical_accuracy: 0.3252Epoch 00002: saving model to /data/predict/196E2517293A9285/196E2517293A9285_variable_length_model-02-5.20.hdf5\n",
      "2034/2034 [==============================] - 28s 14ms/step - loss: 5.1494 - sparse_categorical_accuracy: 0.1517 - sparse_timedistributed_top_k_categorical_accuracy: 0.3252 - val_loss: 5.1990 - val_sparse_categorical_accuracy: 0.1623 - val_sparse_timedistributed_top_k_categorical_accuracy: 0.3344\n",
      "Epoch 3/6\n",
      "2031/2034 [============================>.] - ETA: 0s - loss: 4.9924 - sparse_categorical_accuracy: 0.1639 - sparse_timedistributed_top_k_categorical_accuracy: 0.3426Epoch 00003: saving model to /data/predict/196E2517293A9285/196E2517293A9285_variable_length_model-03-5.15.hdf5\n",
      "2034/2034 [==============================] - 27s 13ms/step - loss: 4.9926 - sparse_categorical_accuracy: 0.1638 - sparse_timedistributed_top_k_categorical_accuracy: 0.3426 - val_loss: 5.1525 - val_sparse_categorical_accuracy: 0.1721 - val_sparse_timedistributed_top_k_categorical_accuracy: 0.3506\n",
      "Epoch 4/6\n",
      "2031/2034 [============================>.] - ETA: 0s - loss: 4.9126 - sparse_categorical_accuracy: 0.1690 - sparse_timedistributed_top_k_categorical_accuracy: 0.3513Epoch 00004: saving model to /data/predict/196E2517293A9285/196E2517293A9285_variable_length_model-04-5.18.hdf5\n",
      "2034/2034 [==============================] - 28s 14ms/step - loss: 4.9125 - sparse_categorical_accuracy: 0.1691 - sparse_timedistributed_top_k_categorical_accuracy: 0.3513 - val_loss: 5.1782 - val_sparse_categorical_accuracy: 0.1746 - val_sparse_timedistributed_top_k_categorical_accuracy: 0.3530\n",
      "Epoch 5/6\n",
      "2033/2034 [============================>.] - ETA: 0s - loss: 4.8638 - sparse_categorical_accuracy: 0.1707 - sparse_timedistributed_top_k_categorical_accuracy: 0.3538Epoch 00005: saving model to /data/predict/196E2517293A9285/196E2517293A9285_variable_length_model-05-5.19.hdf5\n",
      "2034/2034 [==============================] - 27s 13ms/step - loss: 4.8638 - sparse_categorical_accuracy: 0.1707 - sparse_timedistributed_top_k_categorical_accuracy: 0.3537 - val_loss: 5.1905 - val_sparse_categorical_accuracy: 0.1761 - val_sparse_timedistributed_top_k_categorical_accuracy: 0.3508\n",
      "Epoch 6/6\n",
      "2032/2034 [============================>.] - ETA: 0s - loss: 4.8528 - sparse_categorical_accuracy: 0.1689 - sparse_timedistributed_top_k_categorical_accuracy: 0.3517Epoch 00006: saving model to /data/predict/196E2517293A9285/196E2517293A9285_variable_length_model-06-5.29.hdf5\n",
      "2034/2034 [==============================] - 28s 14ms/step - loss: 4.8534 - sparse_categorical_accuracy: 0.1688 - sparse_timedistributed_top_k_categorical_accuracy: 0.3516 - val_loss: 5.2909 - val_sparse_categorical_accuracy: 0.1710 - val_sparse_timedistributed_top_k_categorical_accuracy: 0.3435\n"
     ]
    },
    {
     "data": {
      "text/plain": [
       "<keras.callbacks.History at 0x7f8df1131d68>"
      ]
     },
     "execution_count": 29,
     "metadata": {},
     "output_type": "execute_result"
    }
   ],
   "source": [
    "model.fit_generator(\n",
    "    generate_from_array(user_batches), \n",
    "    validation_data=generate_from_array(user_valid_batches), \n",
    "    steps_per_epoch=len(user_batches),\n",
    "    validation_steps=len(user_valid_batches),\n",
    "    epochs=6,\n",
    "    callbacks=[checkpoint]\n",
    ")"
   ]
  },
  {
   "cell_type": "markdown",
   "metadata": {},
   "source": [
    "## Eye ball validation"
   ]
  },
  {
   "cell_type": "code",
   "execution_count": 43,
   "metadata": {},
   "outputs": [],
   "source": [
    "import csv"
   ]
  },
  {
   "cell_type": "code",
   "execution_count": 44,
   "metadata": {},
   "outputs": [],
   "source": [
    "product_map = {}\n",
    "with open('/data/predict/'+merchant_id+'/'+merchant_id+'_catalog.csv', 'r', encoding='utf8') as csvfile:\n",
    "    spamreader = csv.reader(csvfile)\n",
    "    header = next(spamreader)\n",
    "    item_id = header.index('item')\n",
    "    image_url = header.index('image')\n",
    "    title = header.index('title')\n",
    "    link = header.index('link')\n",
    "    \n",
    "    for row in spamreader:\n",
    "        product_map[row[item_id]] = [row[image_url], row[title], row[link]]"
   ]
  },
  {
   "cell_type": "code",
   "execution_count": 46,
   "metadata": {},
   "outputs": [
    {
     "data": {
      "text/html": [
       "<table><tr><th style=\"text-align:center\"><img src=\"https://images.street-one.de//z1/4057515549759_1_m_z1.jpg\" width=\"130\"><br/><a href=\"https://www.street-one.de/All-Styles/Hosen/Lange-Hosen/Schmale-Hosen-slim/Coated-Slim-Fit-Hose-Yulius-master-wine-dark.html\">A37096411053</a></br>Coated Slim Fit Hose Yulius - master wine dark</th><td style=\"background-color:black;\"></td><td><img src=\"https://images.street-one.de//z1/4057515530603_1_m_z1.jpg\" style=\"border:3px dashed red;\" width=\"130\"><br/><a href=\"https://www.street-one.de/All-Styles/Hosen/Lange-Hosen/Schmale-Hosen-slim/Coated-Slim-Fit-Hose-Yulius-Black.html\">A37096410001</a></br>Coated Slim Fit Hose Yulius - Black</td><td><img src=\"https://images.street-one.de//z1/4057515549735_1_m_z1.jpg\"  width=\"130\"><br/><a href=\"https://www.street-one.de/All-Styles/Hosen/Lange-Hosen/Schmale-Hosen-slim/Coated-Slim-Fit-Hose-Yulius-night-blue.html\">A37096410109</a></br>Coated Slim Fit Hose Yulius - night blue</td><td><img src=\"https://images.street-one.de//z1/4057515590836_1_m_z1.jpg\"  width=\"130\"><br/><a href=\"https://www.street-one.de/All-Styles/Hosen/Lange-Hosen/Schmale-Hosen-slim/Slim-Hose-mit-Coating-York-master-wine-dark.html\">A37100911053</a></br>Slim Hose mit Coating York - master wine dark</td><td><img src=\"https://images.street-one.de//z1/4057515798522_1_m_z1.jpg\"  width=\"130\"><br/><a href=\"https://www.street-one.de/All-Styles/Hosen/Lange-Hosen/Weite-Hosen-loose/Dunkle-Businesshose-Britt-Black.html\">A37110910001</a></br>Dunkle Businesshose Britt - Black</td><td><img src=\"https://images.street-one.de//z1/4057515522240_1_m_z1.jpg\"  width=\"130\"><br/><a href=\"https://www.street-one.de/All-Styles/Denim-Jeans/Lange-Jeans/Weite-Jeans-loose/Loose-Fit-Coloured-Denim-Rob-master-wine-authentic-wash.html\">A37091111068</a></br>Loose Fit Coloured Denim Rob - master wine authentic wash</td><td><img src=\"https://images.street-one.de//z1/4057515590812_1_m_z1.jpg\"  width=\"130\"><br/><a href=\"https://www.street-one.de/All-Styles/Hosen/Lange-Hosen/Schmale-Hosen-slim/Slim-Hose-mit-Coating-York-Black.html\">A37100910001</a></br>Slim Hose mit Coating York - Black</td></tr><tr><th style=\"text-align:center\"><img src=\"https://images.street-one.de//z1/4057515530603_1_m_z1.jpg\" width=\"130\"><br/><a href=\"https://www.street-one.de/All-Styles/Hosen/Lange-Hosen/Schmale-Hosen-slim/Coated-Slim-Fit-Hose-Yulius-Black.html\">A37096410001</a></br>Coated Slim Fit Hose Yulius - Black</th><td style=\"background-color:black;\"></td><td><img src=\"https://images.street-one.de//z1/4057515549735_1_m_z1.jpg\"  width=\"130\"><br/><a href=\"https://www.street-one.de/All-Styles/Hosen/Lange-Hosen/Schmale-Hosen-slim/Coated-Slim-Fit-Hose-Yulius-night-blue.html\">A37096410109</a></br>Coated Slim Fit Hose Yulius - night blue</td><td><img src=\"https://images.street-one.de//z1/4057515590812_1_m_z1.jpg\" style=\"border:3px dashed red;\" width=\"130\"><br/><a href=\"https://www.street-one.de/All-Styles/Hosen/Lange-Hosen/Schmale-Hosen-slim/Slim-Hose-mit-Coating-York-Black.html\">A37100910001</a></br>Slim Hose mit Coating York - Black</td><td><img src=\"https://images.street-one.de//z1/4057515590836_1_m_z1.jpg\"  width=\"130\"><br/><a href=\"https://www.street-one.de/All-Styles/Hosen/Lange-Hosen/Schmale-Hosen-slim/Slim-Hose-mit-Coating-York-master-wine-dark.html\">A37100911053</a></br>Slim Hose mit Coating York - master wine dark</td><td><img src=\"https://images.street-one.de//z1/4057515700808_1_m_z1.jpg\"  width=\"130\"><br/><a href=\"https://www.street-one.de/All-Styles/Pullover-Strickjacken/Pullover/Rundhalspullover/Melierter-Doubleface-Pulli-cyber-grey-melange.html\">A30038120767</a></br>Melierter Doubleface Pulli - cyber grey melange</td><td><img src=\"https://images.street-one.de//z1/4057515724316_1_m_z1.jpg\"  width=\"130\"><br/><a href=\"https://www.street-one.de/All-Styles/Hosen/Lange-Hosen/Schmale-Hosen-slim/Slim-Hose-mit-Coating-York-dark-pacific-blue.html\">A37100811054</a></br>Slim Hose mit Coating York - dark pacific blue</td><td><img src=\"https://images.street-one.de//z1/4057515720530_1_m_z1.jpg\"  width=\"130\"><br/><a href=\"https://www.street-one.de/All-Styles/T-Shirts-Tops/Langarm-Shirts/Rundhalsshirts/Wording-und-Pailletten-Pulli-cyber-grey-melange.html\">A31158930767</a></br>Wording und Pailletten Pulli - cyber grey melange</td></tr><tr><th style=\"text-align:center\"><img src=\"https://images.street-one.de//z1/4057515590812_1_m_z1.jpg\" width=\"130\"><br/><a href=\"https://www.street-one.de/All-Styles/Hosen/Lange-Hosen/Schmale-Hosen-slim/Slim-Hose-mit-Coating-York-Black.html\">A37100910001</a></br>Slim Hose mit Coating York - Black</th><td style=\"background-color:black;\"></td><td><img src=\"https://images.street-one.de//z1/4057515653395_1_m_z1.jpg\"  width=\"130\"><br/><a href=\"https://www.street-one.de/All-Styles/Hosen/Lange-Hosen/Schmale-Hosen-slim/Slim-Hose-mit-Coating-York-neo-grey.html\">A37100811017</a></br>Slim Hose mit Coating York - neo grey</td><td><img src=\"https://images.street-one.de//z1/4057515604571_1_m_z1.jpg\"  width=\"130\"><br/><a href=\"https://www.street-one.de/All-Styles/Hosen/Lange-Hosen/Schmale-Hosen-slim/Slim-Hose-mit-Coating-York-night-blue.html\">A37100810109</a></br>Slim Hose mit Coating York - night blue</td><td><img src=\"https://images.street-one.de//z1/4057515590836_1_m_z1.jpg\"  width=\"130\"><br/><a href=\"https://www.street-one.de/All-Styles/Hosen/Lange-Hosen/Schmale-Hosen-slim/Slim-Hose-mit-Coating-York-master-wine-dark.html\">A37100911053</a></br>Slim Hose mit Coating York - master wine dark</td><td><img src=\"https://images.street-one.de//z1/4057515724316_1_m_z1.jpg\"  width=\"130\"><br/><a href=\"https://www.street-one.de/All-Styles/Hosen/Lange-Hosen/Schmale-Hosen-slim/Slim-Hose-mit-Coating-York-dark-pacific-blue.html\">A37100811054</a></br>Slim Hose mit Coating York - dark pacific blue</td><td><img src=\"https://images.street-one.de//z1/4057515767368_1_m_z1.jpg\"  width=\"130\"><br/><a href=\"https://www.street-one.de/All-Styles/Hosen/Lange-Hosen/Schmale-Hosen-slim/Hose-im-Spitzen-Look-York-Black.html\">A37108620001</a></br>Hose im Spitzen Look York - Black</td><td><img src=\"https://images.street-one.de//z1/4057515371497_1_m_z1.jpg\"  width=\"130\"><br/><a href=\"https://www.street-one.de/All-Styles/Hosen/Lange-Hosen/Schmale-Hosen-slim/Coated-Slim-Fit-Hose-Henry-Black.html\">A37089410001</a></br>Coated Slim Fit Hose Henry - Black</td></tr><tr><th style=\"text-align:center\"><img src=\"https://images.street-one.de//z1/4057515352199_1_m_z1.jpg\" width=\"130\"><br/><a href=\"https://www.street-one.de/All-Styles/Hosen/Lange-Hosen/Schmale-Hosen-slim/Coated-Slim-Fit-Hose-Henry-baltic-grey.html\">A37089410980</a></br>Coated Slim Fit Hose Henry - baltic grey</th><td style=\"background-color:black;\"></td><td><img src=\"https://images.street-one.de//z1/4057515371497_1_m_z1.jpg\"  width=\"130\"><br/><a href=\"https://www.street-one.de/All-Styles/Hosen/Lange-Hosen/Schmale-Hosen-slim/Coated-Slim-Fit-Hose-Henry-Black.html\">A37089410001</a></br>Coated Slim Fit Hose Henry - Black</td><td><img src=\"https://images.street-one.de//z1/4057515352182_1_m_z1.jpg\"  width=\"130\"><br/><a href=\"https://www.street-one.de/All-Styles/Hosen/Lange-Hosen/Schmale-Hosen-slim/Coated-Slim-Fit-Hose-Henry-off-white.html\">A37089410108</a></br>Coated Slim Fit Hose Henry - off white</td><td><img src=\"https://images.street-one.de//z1/4057515604571_1_m_z1.jpg\"  width=\"130\"><br/><a href=\"https://www.street-one.de/All-Styles/Hosen/Lange-Hosen/Schmale-Hosen-slim/Slim-Hose-mit-Coating-York-night-blue.html\">A37100810109</a></br>Slim Hose mit Coating York - night blue</td><td><img src=\"https://images.street-one.de//z1/4057515767153_1_m_z1.jpg\"  width=\"130\"><br/><a href=\"https://www.street-one.de/All-Styles/Hosen/Lange-Hosen/Schmale-Hosen-slim/Hose-mit-Pailletten-Yulius-neo-grey.html\">A37108511017</a></br>Hose mit Pailletten Yulius - neo grey</td><td><img src=\"https://images.street-one.de//z1/4057515590836_1_m_z1.jpg\"  width=\"130\"><br/><a href=\"https://www.street-one.de/All-Styles/Hosen/Lange-Hosen/Schmale-Hosen-slim/Slim-Hose-mit-Coating-York-master-wine-dark.html\">A37100911053</a></br>Slim Hose mit Coating York - master wine dark</td><td><img src=\"https://images.street-one.de//z1/4057515653395_1_m_z1.jpg\"  width=\"130\"><br/><a href=\"https://www.street-one.de/All-Styles/Hosen/Lange-Hosen/Schmale-Hosen-slim/Slim-Hose-mit-Coating-York-neo-grey.html\">A37100811017</a></br>Slim Hose mit Coating York - neo grey</td></tr><tr><th style=\"text-align:center\"><img src=\"https://images.street-one.de//z1/4057515676264_1_m_z1.jpg\" width=\"130\"><br/><a href=\"https://www.street-one.de/All-Styles/Denim-Jeans/Lange-Jeans/Weite-Jeans-loose/Loose-Fit-Coloured-Denim-Rob-neo-grey-authentic-wash.html\">A37091111129</a></br>Loose Fit Coloured Denim Rob - neo grey authentic wash</th><td style=\"background-color:black;\"></td><td><img src=\"https://images.street-one.de//z1/4057515358160_1_m_z1.jpg\"  width=\"130\"><br/><a href=\"https://www.street-one.de/All-Styles/Denim-Jeans/Lange-Jeans/Weite-Jeans-loose/Softe-Crash-Denim-Bonny-sweatdenim-black-random-bleach.html\">A37090311039</a></br>Softe Crash Denim Bonny - sweatdenim black random bleach</td><td><img src=\"https://images.street-one.de//z1/4057515674383_1_m_z1.jpg\"  width=\"130\"><br/><a href=\"https://www.street-one.de/All-Styles/Denim-Jeans/Lange-Jeans/Bequeme-Jeans-casual/Glitzerstreifen-Denim-Crissi-mid-blue-random-bleach-wash.html\">A37103311138</a></br>Glitzerstreifen Denim Crissi - mid blue random bleach wash</td><td><img src=\"https://images.street-one.de//z1/4057515358665_1_m_z1.jpg\"  width=\"130\"><br/><a href=\"https://www.street-one.de/All-Styles/Denim-Jeans/Lange-Jeans/Weite-Jeans-loose/Loose-Fit-Used-Denim-Rob-dark-blue-auth-random-bleach.html\">A37090711032</a></br>Loose Fit Used Denim Rob - dark blue auth. random bleach</td><td><img src=\"https://images.street-one.de//z1/4057515359723_1_m_z1.jpg\" style=\"border:3px dashed red;\" width=\"130\"><br/><a href=\"https://www.street-one.de/All-Styles/Denim-Jeans/Lange-Jeans/Weite-Jeans-loose/Loose-Fit-Coloured-Denim-Rob-studio-rose-authentic-wash.html\">A37091111033</a></br>Loose Fit Coloured Denim Rob - studio rose authentic wash</td><td><img src=\"https://images.street-one.de//z1/4057515526156_1_m_z1.jpg\"  width=\"130\"><br/><a href=\"https://www.street-one.de/All-Styles/Denim-Jeans/Lange-Jeans/Schmale-Jeans-slim/Denim-mit-Nieten-Crissi-authentic-mid-blue-fancy-wash.html\">A37095311074</a></br>Denim mit Nieten Crissi - authentic mid blue fancy wash</td><td><img src=\"https://images.street-one.de//z1/4057515522240_1_m_z1.jpg\"  width=\"130\"><br/><a href=\"https://www.street-one.de/All-Styles/Denim-Jeans/Lange-Jeans/Weite-Jeans-loose/Loose-Fit-Coloured-Denim-Rob-master-wine-authentic-wash.html\">A37091111068</a></br>Loose Fit Coloured Denim Rob - master wine authentic wash</td></tr><tr><th style=\"text-align:center\"><img src=\"https://images.street-one.de//z1/4057515359723_1_m_z1.jpg\" width=\"130\"><br/><a href=\"https://www.street-one.de/All-Styles/Denim-Jeans/Lange-Jeans/Weite-Jeans-loose/Loose-Fit-Coloured-Denim-Rob-studio-rose-authentic-wash.html\">A37091111033</a></br>Loose Fit Coloured Denim Rob - studio rose authentic wash</th><td style=\"background-color:black;\"></td><td><img src=\"https://images.street-one.de//z1/4057515522240_1_m_z1.jpg\"  width=\"130\"><br/><a href=\"https://www.street-one.de/All-Styles/Denim-Jeans/Lange-Jeans/Weite-Jeans-loose/Loose-Fit-Coloured-Denim-Rob-master-wine-authentic-wash.html\">A37091111068</a></br>Loose Fit Coloured Denim Rob - master wine authentic wash</td><td><img src=\"https://images.street-one.de//z1/4057515583524_1_m_z1.jpg\"  width=\"130\"><br/><a href=\"https://www.street-one.de/All-Styles/Denim-Jeans/Lange-Jeans/Bequeme-Jeans-casual/Washed-Casual-Fit-Denim-Jane-dark-blue-rinsed-optic.html\">A37100210660</a></br>Washed Casual Fit Denim Jane - dark blue rinsed optic</td><td><img src=\"https://images.street-one.de//z1/4057515580066_1_m_z1.jpg\"  width=\"130\"><br/><a href=\"https://www.street-one.de/All-Styles/Denim-Jeans/Lange-Jeans/Bequeme-Stretchdenim-Envy-master-wine-denim-wash.html\">A37095011102</a></br>Bequeme Stretchdenim Envy - master wine denim wash</td><td><img src=\"https://images.street-one.de//z1/4057515583555_1_m_z1.jpg\"  width=\"130\"><br/><a href=\"https://www.street-one.de/All-Styles/Denim-Jeans/Lange-Jeans/Bequeme-Jeans-casual/Washed-Casual-Fit-Denim-Jane-midblue-basic-wash.html\">A37100211101</a></br>Washed Casual Fit Denim Jane - midblue basic wash</td><td><img src=\"https://images.street-one.de//z1/4057515524619_1_m_z1.jpg\"  width=\"130\"><br/><a href=\"https://www.street-one.de/All-Styles/Denim-Jeans/Lange-Jeans/Bequeme-Stretchdenim-Envy-dark-blue-clean-wash.html\">A37095011069</a></br>Bequeme Stretchdenim Envy - dark blue clean wash</td><td><img src=\"https://images.street-one.de//z1/4057515581988_1_m_z1.jpg\"  width=\"130\"><br/><a href=\"https://www.street-one.de/All-Styles/Denim-Jeans/Lange-Jeans/Dunkle-Coloured-Denim-Emmi-master-wine-denim-wash.html\">A37100011102</a></br>Dunkle Coloured Denim Emmi - master wine denim wash</td></tr><tr><th style=\"text-align:center\"><img src=\"https://images.street-one.de//z1/4057515774199_1_m_z1.jpg\" width=\"130\"><br/><a href=\"https://www.street-one.de/All-Styles/T-Shirts-Tops/T-Shirts/Rundhalsshirts/Shirt-mit-Pailletten-Passe-Black.html\">A31163210001</a></br>Shirt mit Pailletten Passe - Black</th><td style=\"background-color:black;\"></td><td><img src=\"https://images.street-one.de//z1/4057515739426_1_m_z1.jpg\" style=\"border:3px dashed red;\" width=\"130\"><br/><a href=\"https://www.street-one.de/All-Styles/T-Shirts-Tops/T-Shirts/Rundhalsshirts/Shirt-mit-Pailletten-Passe-lunar-grey.html\">A31163210821</a></br>Shirt mit Pailletten Passe - lunar grey</td><td><img src=\"https://images.street-one.de//z1/4057515774212_1_m_z1.jpg\"  width=\"130\"><br/><a href=\"https://www.street-one.de/All-Styles/T-Shirts-Tops/T-Shirts/Rundhalsshirts/Shirt-mit-Pailletten-Passe-evening-blue.html\">A31163211151</a></br>Shirt mit Pailletten Passe - evening blue</td><td><img src=\"http://www.lackuna.com/wp-content/themes/fearless/images/missing-image-640x360.png\"  width=\"130\"><br/><a href=\"\"></a></br>UNKNOWN</td><td><img src=\"https://images.street-one.de//z1/4057515782880_1_m_z1.jpg\"  width=\"130\"><br/><a href=\"https://www.street-one.de/All-Styles/T-Shirts-Tops/T-Shirts/Rundhalsshirts/Glitzerndes-Layering-Shirt-evening-blue.html\">A31163111151</a></br>Glitzerndes Layering Shirt - evening blue</td><td><img src=\"https://images.street-one.de//z1/4057515738504_1_m_z1.jpg\"  width=\"130\"><br/><a href=\"https://www.street-one.de/All-Styles/T-Shirts-Tops/Langarm-Shirts/Rundhalsshirts/Shirt-mit-Glitzerkragen-lunar-grey.html\">A31163010821</a></br>Shirt mit Glitzerkragen - lunar grey</td><td><img src=\"https://images.street-one.de//z1/4057515728499_1_m_z1.jpg\"  width=\"130\"><br/><a href=\"https://www.street-one.de/All-Styles/Pullover-Strickjacken/Strickjacken/Offene-Strickjacken/Jacke-aus-Baendchengarn-Fenya-night-blue.html\">A25258310109</a></br>Jacke aus Bändchengarn Fenya - night blue</td></tr><tr><th style=\"text-align:center\"><img src=\"https://images.street-one.de//z1/4057515739426_1_m_z1.jpg\" width=\"130\"><br/><a href=\"https://www.street-one.de/All-Styles/T-Shirts-Tops/T-Shirts/Rundhalsshirts/Shirt-mit-Pailletten-Passe-lunar-grey.html\">A31163210821</a></br>Shirt mit Pailletten Passe - lunar grey</th><td style=\"background-color:black;\"></td><td><img src=\"https://images.street-one.de//z1/4057515774212_1_m_z1.jpg\"  width=\"130\"><br/><a href=\"https://www.street-one.de/All-Styles/T-Shirts-Tops/T-Shirts/Rundhalsshirts/Shirt-mit-Pailletten-Passe-evening-blue.html\">A31163211151</a></br>Shirt mit Pailletten Passe - evening blue</td><td><img src=\"https://images.street-one.de//z1/4057515767153_1_m_z1.jpg\"  width=\"130\"><br/><a href=\"https://www.street-one.de/All-Styles/Hosen/Lange-Hosen/Schmale-Hosen-slim/Hose-mit-Pailletten-Yulius-neo-grey.html\">A37108511017</a></br>Hose mit Pailletten Yulius - neo grey</td><td><img src=\"https://images.street-one.de//z1/4057515767368_1_m_z1.jpg\"  width=\"130\"><br/><a href=\"https://www.street-one.de/All-Styles/Hosen/Lange-Hosen/Schmale-Hosen-slim/Hose-im-Spitzen-Look-York-Black.html\">A37108620001</a></br>Hose im Spitzen Look York - Black</td><td><img src=\"https://images.street-one.de//z1/4057515798522_1_m_z1.jpg\"  width=\"130\"><br/><a href=\"https://www.street-one.de/All-Styles/Hosen/Lange-Hosen/Weite-Hosen-loose/Dunkle-Businesshose-Britt-Black.html\">A37110910001</a></br>Dunkle Businesshose Britt - Black</td><td><img src=\"https://images.street-one.de//z1/4057515773017_1_m_z1.jpg\"  width=\"130\"><br/><a href=\"https://www.street-one.de/All-Styles/T-Shirts-Tops/T-Shirts/Rundhalsshirts/Kurzarm-Shirt-mit-Pailletten-off-white.html\">A31164120108</a></br>Kurzarm Shirt mit Pailletten - off white</td><td><img src=\"http://www.lackuna.com/wp-content/themes/fearless/images/missing-image-640x360.png\"  width=\"130\"><br/><a href=\"\"></a></br>UNKNOWN</td></tr></table>"
      ],
      "text/plain": [
       "<IPython.core.display.HTML object>"
      ]
     },
     "metadata": {},
     "output_type": "display_data"
    }
   ],
   "source": [
    "from IPython.core.display import display as core_display\n",
    "from IPython.core.display import HTML \n",
    "\n",
    "def product_to_url(product):\n",
    "    try:\n",
    "        \n",
    "        return [product] + product_map[list(product_idxs)[product]] + [list(product_idxs)[product]]\n",
    "    except KeyError:\n",
    "        return [product,'http://www.lackuna.com/wp-content/themes/fearless/images/missing-image-640x360.png','UNKNOWN','', '']\n",
    "\n",
    "def display_session(session):\n",
    "    products = list(map(product_to_url, session))\n",
    "    predictions = model.predict([session])\n",
    "    html = '<table>'\n",
    "    seen = set()\n",
    "    for i,product in enumerate(products):\n",
    "        html += '<tr>'\n",
    "        html += '<th style=\"text-align:center\">'\n",
    "        html += '<img src=\"' + product[1] + '\" width=\"130\"><br/>' \n",
    "        html += '<a href=\"'+str(product[3])+'\">' + str(product[4]) + '</a></br>' + str(product[2])\n",
    "        html += '</th><td style=\"background-color:black;\"></td>'\n",
    "        top_idx = list(np.argsort(predictions[i][0])[::-1])\n",
    "        seen.add(product[0])\n",
    "        \n",
    "        j = 0\n",
    "        for pred in top_idx:\n",
    "            if pred in seen:\n",
    "                continue\n",
    "                                \n",
    "            if i < len(products) - 1 and pred == products[i+1][0]:\n",
    "                style = 'style=\"border:3px dashed red;\"'\n",
    "            else:\n",
    "                style = ''\n",
    "                \n",
    "            pred_data = product_to_url(pred)\n",
    "            html += '<td><img src=\"' + pred_data[1] + '\" '+style+' width=\"130\"><br/>' \n",
    "            html += '<a href=\"'+str(pred_data[3]) + '\">' +str(pred_data[4]) + '</a></br>' + str(pred_data[2]) + '</td>'\n",
    "            j+=1\n",
    "            if j > 5:\n",
    "                break\n",
    "                \n",
    "        html += '</tr>'\n",
    "    html += '</table>'\n",
    "\n",
    "    core_display(HTML(html))\n",
    "\n",
    "display_session(random.choice(random.choice(user_valid_batches)[0]))"
   ]
  },
  {
   "cell_type": "code",
   "execution_count": null,
   "metadata": {},
   "outputs": [],
   "source": []
  }
 ],
 "metadata": {
  "kernelspec": {
   "display_name": "Python 3",
   "language": "python",
   "name": "python3"
  },
  "language_info": {
   "codemirror_mode": {
    "name": "ipython",
    "version": 3
   },
   "file_extension": ".py",
   "mimetype": "text/x-python",
   "name": "python",
   "nbconvert_exporter": "python",
   "pygments_lexer": "ipython3",
   "version": "3.5.4"
  }
 },
 "nbformat": 4,
 "nbformat_minor": 2
}
