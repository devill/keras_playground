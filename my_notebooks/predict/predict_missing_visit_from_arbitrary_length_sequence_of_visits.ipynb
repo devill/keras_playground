{
 "cells": [
  {
   "cell_type": "code",
   "execution_count": 1,
   "metadata": {},
   "outputs": [
    {
     "name": "stderr",
     "output_type": "stream",
     "text": [
      "Using TensorFlow backend.\n"
     ]
    }
   ],
   "source": [
    "import json\n",
    "import matplotlib.pyplot as plt\n",
    "from keras.utils import to_categorical\n",
    "from tqdm import tqdm\n",
    "import random\n",
    "import numpy as np"
   ]
  },
  {
   "cell_type": "code",
   "execution_count": 2,
   "metadata": {},
   "outputs": [],
   "source": [
    "%matplotlib inline"
   ]
  },
  {
   "cell_type": "code",
   "execution_count": 3,
   "metadata": {},
   "outputs": [],
   "source": [
    "merchant_id = '11167ECFF94860EA'"
   ]
  },
  {
   "cell_type": "code",
   "execution_count": 4,
   "metadata": {},
   "outputs": [],
   "source": [
    "file = '/data/predict/'+merchant_id+'/'+merchant_id+'_logs.json'"
   ]
  },
  {
   "cell_type": "code",
   "execution_count": 5,
   "metadata": {},
   "outputs": [
    {
     "name": "stderr",
     "output_type": "stream",
     "text": [
      "59810it [00:00, 121184.19it/s]\n"
     ]
    }
   ],
   "source": [
    "users = {}\n",
    "with open(file, encoding='utf8') as f:\n",
    "    for line in tqdm(f):\n",
    "        data = json.loads(line)\n",
    "        if data['visitor_id'] not in users:\n",
    "            users[data['visitor_id']] = []\n",
    "        for prod_idx in data['viewed_products']:\n",
    "            try:\n",
    "                users[data['visitor_id']].append(prod_idx)\n",
    "            except ValueError: \n",
    "                print('Sktrain_labelsiped ' + prod_idx)"
   ]
  },
  {
   "cell_type": "code",
   "execution_count": 6,
   "metadata": {},
   "outputs": [],
   "source": [
    "users_lens = list(map(lambda x: len(x), users.values()))"
   ]
  },
  {
   "cell_type": "code",
   "execution_count": 7,
   "metadata": {},
   "outputs": [
    {
     "name": "stdout",
     "output_type": "stream",
     "text": [
      "15710\n"
     ]
    }
   ],
   "source": [
    "print(len(users.keys()))"
   ]
  },
  {
   "cell_type": "code",
   "execution_count": 8,
   "metadata": {},
   "outputs": [
    {
     "data": {
      "image/png": "[encoded data removed]",
      "text/plain": [
       "<matplotlib.figure.Figure at 0x7f08cd7ea9b0>"
      ]
     },
     "metadata": {},
     "output_type": "display_data"
    }
   ],
   "source": [
    "d = plt.hist(users_lens, bins=100, range=(3, 103))"
   ]
  },
  {
   "cell_type": "code",
   "execution_count": 9,
   "metadata": {},
   "outputs": [],
   "source": [
    "products = {}\n",
    "for u in users.values():\n",
    "    for pid in u:\n",
    "        products[pid] = 1\n",
    "product_idxs = products.keys()\n",
    "product_ids = {v: k for k, v in enumerate(product_idxs)}\n",
    "number_of_classes = len(product_idxs)"
   ]
  },
  {
   "cell_type": "code",
   "execution_count": 10,
   "metadata": {},
   "outputs": [
    {
     "name": "stdout",
     "output_type": "stream",
     "text": [
      "2043\n"
     ]
    }
   ],
   "source": [
    "print(number_of_classes)"
   ]
  },
  {
   "cell_type": "code",
   "execution_count": 32,
   "metadata": {},
   "outputs": [],
   "source": [
    "def chunks(l, n):\n",
    "    for i in range(0, len(l), n):\n",
    "        yield l[i:i + n]"
   ]
  },
  {
   "cell_type": "code",
   "execution_count": 12,
   "metadata": {},
   "outputs": [],
   "source": [
    "def dedup(seq):\n",
    "    seen = set()\n",
    "    seen_add = seen.add\n",
    "\n",
    "    return [x for x in seq if not (x in seen or seen_add(x))]"
   ]
  },
  {
   "cell_type": "code",
   "execution_count": 42,
   "metadata": {},
   "outputs": [],
   "source": [
    "\n",
    "def generate_from_array(arr):\n",
    "    while True:\n",
    "        random.shuffle(arr)\n",
    "        for i in arr: \n",
    "            yield i\n",
    "    "
   ]
  },
  {
   "cell_type": "code",
   "execution_count": 180,
   "metadata": {},
   "outputs": [
    {
     "name": "stderr",
     "output_type": "stream",
     "text": [
      "100%|██████████| 15710/15710 [00:00<00:00, 264128.96it/s]\n",
      "100%|██████████| 15710/15710 [00:06<00:00, 2614.58it/s]\n"
     ]
    }
   ],
   "source": [
    "import math\n",
    "\n",
    "max_batch_size = 128\n",
    "\n",
    "class Grouping:\n",
    "    def __init__(self):\n",
    "        self.dict = {}\n",
    "    \n",
    "    def add(self,key,value):\n",
    "        if key not in self.dict:\n",
    "            self.dict[key] = []\n",
    "            \n",
    "        self.dict[key].append(value)\n",
    "        \n",
    "    def __iter__(self):\n",
    "        return iter(self.dict.values())\n",
    "            \n",
    "        \n",
    "\n",
    "class DataCollector:\n",
    "    def __init__(self, get_random):\n",
    "        self.data = Grouping()\n",
    "        self.get_random = get_random\n",
    "    \n",
    "    def add(self,seq):\n",
    "        missing_idx = random.randint(0, len(seq)-1)\n",
    "        \n",
    "        self.add_real_example(seq, missing_idx)\n",
    "        self.add_fake_example(seq, missing_idx)\n",
    "    \n",
    "    def add_real_example(self, seq, missing_idx):\n",
    "        l = self.__list_without(seq, missing_idx)\n",
    "        self.data.add(len(l), (l, seq[missing_idx], 1))\n",
    "        \n",
    "    def add_fake_example(self, seq, missing_idx):\n",
    "        l = self.__list_without(seq, missing_idx)\n",
    "        r = seq[missing_idx]\n",
    "        while r == seq[missing_idx]:\n",
    "            r = self.get_random()\n",
    "            \n",
    "        self.data.add(len(l), (l, r, 0))\n",
    "    \n",
    "    def get_batches(self, max_batch_size):\n",
    "        batches = []\n",
    "        for batch in self.__yield_raw_batches(max_batch_size):\n",
    "            seq_batch = []\n",
    "            miss_batch = []\n",
    "            label_batch = []\n",
    "            \n",
    "            for item in batch:\n",
    "                seq_batch.append(item[0])\n",
    "                miss_batch.append([item[1]])\n",
    "                label_batch.append([item[2]])\n",
    "            \n",
    "            batches.append((\n",
    "                [np.array(seq_batch),np.array(miss_batch)],\n",
    "                np.array(label_batch)\n",
    "            ))\n",
    "        \n",
    "        return batches\n",
    "    \n",
    "    def get_generator(self, max_batch_size):\n",
    "        batches = self.get_batches(max_batch_size)\n",
    "        return generate_from_array(batches), len(batches)\n",
    "    \n",
    "    def __yield_raw_batches(self, max_batch_size):\n",
    "        for group in self.data:\n",
    "            random.shuffle(group)\n",
    "            for batch in chunks(group, max_batch_size):\n",
    "                yield batch\n",
    "    \n",
    "    def __list_without(self, l, missing_idx):\n",
    "        return l[:missing_idx] + l[missing_idx+1:]\n",
    "        \n",
    "\n",
    "frequencies = [0]*number_of_classes\n",
    "\n",
    "for uid,products in tqdm(users.items()):\n",
    "    for idx in dedup(list(map(lambda x: product_ids[x], products))):\n",
    "        frequencies[idx] += 1\n",
    "\n",
    "def get_random():\n",
    "    r = random.randint(0,sum(frequencies))\n",
    "    c = 0\n",
    "    for i in range(number_of_classes):\n",
    "        if frequencies[i] + c > r:\n",
    "            return i\n",
    "        c += frequencies[i]\n",
    "\n",
    "        \n",
    "train_data_collector = DataCollector(get_random)\n",
    "valid_data_collector = DataCollector(get_random)\n",
    "\n",
    "\n",
    "valid_seqs = []\n",
    "for uid,products in tqdm(users.items()):\n",
    "    ids = dedup(list(map(lambda x: product_ids[x], products)))\n",
    "    #ids = list(map(lambda x: product_ids[x], products))\n",
    "    \n",
    "    if len(ids) > 1:\n",
    "        is_validation = random.random() < 0.1\n",
    "        \n",
    "        collector = valid_data_collector if is_validation else train_data_collector\n",
    "        if is_validation:\n",
    "            valid_seqs.append(ids)\n",
    "        \n",
    "        for i in range(len(ids)):\n",
    "            collector.add(ids)\n",
    "            \n",
    "train_generator, train_batches = train_data_collector.get_generator(max_batch_size)\n",
    "valid_generator, valid_batches = valid_data_collector.get_generator(max_batch_size)"
   ]
  },
  {
   "cell_type": "code",
   "execution_count": 67,
   "metadata": {},
   "outputs": [],
   "source": [
    "#train_batches = []\n",
    "#for i in range(len(product_pair_labels)):\n",
    "#    train_batches.append(\n",
    "#        (\n",
    "#            [np.array([product_pair_data[0][i]]), np.array([product_pair_data[1][i]])],\n",
    "#            np.array([product_pair_labels[i]])\n",
    "#        )\n",
    "#    )\n",
    "#    \n",
    "#valid_batches = []\n",
    "#for i in range(len(val_product_pair_labels)):\n",
    "#    valid_batches.append(\n",
    "#        (\n",
    "#            [np.array([val_product_pair_data[0][i]]), np.array([val_product_pair_data[1][i]])],\n",
    "#            np.array([val_product_pair_labels[i]])\n",
    "#        )\n",
    "#    )\n",
    "#\n",
    "#train_generator = generate_from_array(train_batches)\n",
    "#valid_generator = generate_from_array(valid_batches)"
   ]
  },
  {
   "cell_type": "markdown",
   "metadata": {},
   "source": [
    "## Training"
   ]
  },
  {
   "cell_type": "code",
   "execution_count": 54,
   "metadata": {},
   "outputs": [],
   "source": [
    "import bcolz\n",
    "emb_weights = bcolz.open('/data/predict/'+merchant_id+'/'+merchant_id+'_embedding')[:]"
   ]
  },
  {
   "cell_type": "code",
   "execution_count": 181,
   "metadata": {},
   "outputs": [],
   "source": [
    "from keras.models import Model\n",
    "from keras.layers import Input, Flatten, Embedding, GRU, Dense, Dropout, concatenate\n",
    "from keras.layers.normalization import BatchNormalization\n",
    "from keras.optimizers import Nadam\n",
    "\n",
    "factors = 100\n",
    "n_hidden = 50\n",
    "\n",
    "seq_input = Input(shape=(None,))\n",
    "x = Embedding(number_of_classes, factors, weights=emb_weights, trainable=False)(seq_input)\n",
    "x = GRU(n_hidden, input_shape=(None,n_hidden))(x)\n",
    "\n",
    "miss_input = Input(shape=(1,))\n",
    "y = Embedding(number_of_classes, factors, weights=emb_weights, trainable=False)(miss_input)\n",
    "y = Flatten()(y)\n",
    "\n",
    "x = concatenate([x, y])\n",
    "\n",
    "x = Dense(n_hidden, activation='relu')(x)\n",
    "output = Dense(1, activation='sigmoid')(x)\n",
    "\n",
    "model = Model([seq_input, miss_input], output)\n"
   ]
  },
  {
   "cell_type": "code",
   "execution_count": 182,
   "metadata": {},
   "outputs": [],
   "source": [
    "model.compile(\n",
    "    loss='binary_crossentropy', \n",
    "    metrics=['binary_accuracy'], \n",
    "    optimizer=Nadam()\n",
    ")"
   ]
  },
  {
   "cell_type": "code",
   "execution_count": 183,
   "metadata": {},
   "outputs": [
    {
     "name": "stdout",
     "output_type": "stream",
     "text": [
      "__________________________________________________________________________________________________\n",
      "Layer (type)                    Output Shape         Param #     Connected to                     \n",
      "==================================================================================================\n",
      "input_17 (InputLayer)           (None, None)         0                                            \n",
      "__________________________________________________________________________________________________\n",
      "input_18 (InputLayer)           (None, 1)            0                                            \n",
      "__________________________________________________________________________________________________\n",
      "embedding_17 (Embedding)        (None, None, 100)    204300      input_17[0][0]                   \n",
      "__________________________________________________________________________________________________\n",
      "embedding_18 (Embedding)        (None, 1, 100)       204300      input_18[0][0]                   \n",
      "__________________________________________________________________________________________________\n",
      "gru_9 (GRU)                     (None, 50)           22650       embedding_17[0][0]               \n",
      "__________________________________________________________________________________________________\n",
      "flatten_9 (Flatten)             (None, 100)          0           embedding_18[0][0]               \n",
      "__________________________________________________________________________________________________\n",
      "concatenate_9 (Concatenate)     (None, 150)          0           gru_9[0][0]                      \n",
      "                                                                 flatten_9[0][0]                  \n",
      "__________________________________________________________________________________________________\n",
      "dense_17 (Dense)                (None, 50)           7550        concatenate_9[0][0]              \n",
      "__________________________________________________________________________________________________\n",
      "dense_18 (Dense)                (None, 1)            51          dense_17[0][0]                   \n",
      "==================================================================================================\n",
      "Total params: 438,851\n",
      "Trainable params: 30,251\n",
      "Non-trainable params: 408,600\n",
      "__________________________________________________________________________________________________\n"
     ]
    }
   ],
   "source": [
    "model.summary()"
   ]
  },
  {
   "cell_type": "code",
   "execution_count": 184,
   "metadata": {},
   "outputs": [
    {
     "name": "stdout",
     "output_type": "stream",
     "text": [
      "Epoch 1/1\n",
      "509/509 [==============================] - 8s 16ms/step - loss: 0.6818 - binary_accuracy: 0.5461 - val_loss: 0.6699 - val_binary_accuracy: 0.5752\n"
     ]
    },
    {
     "data": {
      "text/plain": [
       "<keras.callbacks.History at 0x7f08bf18ab00>"
      ]
     },
     "execution_count": 184,
     "metadata": {},
     "output_type": "execute_result"
    }
   ],
   "source": [
    "model.fit_generator(\n",
    "    train_generator, \n",
    "    validation_data=valid_generator, \n",
    "    steps_per_epoch=train_batches,\n",
    "    validation_steps=valid_batches,\n",
    "    epochs=1\n",
    ")"
   ]
  },
  {
   "cell_type": "code",
   "execution_count": 165,
   "metadata": {},
   "outputs": [],
   "source": [
    "def predict_missing(seq):\n",
    "    preds = []\n",
    "    for i in range(len(seq)):\n",
    "         preds.append(\n",
    "             list(model.predict([np.array([seq[:i+1]]*number_of_classes),np.array(range(number_of_classes))])[:,0])\n",
    "         )\n",
    "    return np.array(preds)"
   ]
  },
  {
   "cell_type": "code",
   "execution_count": 166,
   "metadata": {},
   "outputs": [],
   "source": [
    "import csv\n",
    "with open('/data/predict/'+merchant_id+'/'+merchant_id+'_missing_variable_length_model_id_map.csv', 'w',encoding='utf8') as csvfile:\n",
    "    spamwriter = csv.writer(csvfile)\n",
    "    for line in product_idxs:\n",
    "        spamwriter.writerow([line])"
   ]
  },
  {
   "cell_type": "markdown",
   "metadata": {},
   "source": [
    "## Eye ball validation"
   ]
  },
  {
   "cell_type": "code",
   "execution_count": 167,
   "metadata": {},
   "outputs": [],
   "source": [
    "import csv"
   ]
  },
  {
   "cell_type": "code",
   "execution_count": 168,
   "metadata": {},
   "outputs": [],
   "source": [
    "product_map = {}\n",
    "with open('/data/predict/'+merchant_id+'/'+merchant_id+'_catalog.csv', 'r', encoding='utf8') as csvfile:\n",
    "    spamreader = csv.reader(csvfile)\n",
    "    header = next(spamreader)\n",
    "    item_id = header.index('item')\n",
    "    image_url = header.index('image')\n",
    "    title = header.index('title')\n",
    "    link = header.index('link')\n",
    "    \n",
    "    for row in spamreader:\n",
    "        product_map[row[item_id]] = [row[image_url], row[title], row[link]]"
   ]
  },
  {
   "cell_type": "code",
   "execution_count": 169,
   "metadata": {},
   "outputs": [
    {
     "data": {
      "application/javascript": [
       "IPython.OutputArea.prototype._should_scroll = function(lines) {\n",
       "    return false;\n",
       "}"
      ],
      "text/plain": [
       "<IPython.core.display.Javascript object>"
      ]
     },
     "metadata": {},
     "output_type": "display_data"
    }
   ],
   "source": [
    "%%javascript\n",
    "IPython.OutputArea.prototype._should_scroll = function(lines) {\n",
    "    return false;\n",
    "}"
   ]
  },
  {
   "cell_type": "code",
   "execution_count": 190,
   "metadata": {},
   "outputs": [
    {
     "data": {
      "text/html": [
       "<table><tr><th style=\"text-align:center;width:120px\"><img src=\"http://www.nkd.com/wcsstore/NKD2/images/catalog/2041757x1x1_M.jpg\" width=\"130\"><br/><a href=\"http://www.nkd.com/damenmode-damen-jacken-westen/Damen-Fleeceshirt-in-dezenter-Farbe_207551_432378.html\">2041757</a></br>Damen-Fleeceshirt in dezenter Farbe</th><td style=\"background-color:black;\"></td><td style=\"width:130px\"><img src=\"http://www.nkd.com/wcsstore/NKD2/images/catalog/2042325x1x1_M.jpg\"  width=\"130\"><br/><a href=\"http://www.nkd.com/wohnideen-brands-home/Polycotton-Bettwaesche-mit-modernem-Muster_215067_429859.html\">2042325</a></br>Polycotton-Bettwäsche mit modernem Muster</td><td style=\"width:130px\"><img src=\"http://www.lackuna.com/wp-content/themes/fearless/images/missing-image-640x360.png\"  width=\"130\"><br/><a href=\"\"></a></br>UNKNOWN</td><td style=\"width:130px\"><img src=\"http://www.nkd.com/wcsstore/NKD2/images/catalog/2039693x1x1_M.jpg\"  width=\"130\"><br/><a href=\"http://www.nkd.com/schnaeppchen-damenmode-brands/Damen-Steppjacke-mit-2-Reissverschluss-Taschen_215081_427840.html\">2039693</a></br>Damen-Steppjacke mit 2 Reißverschluss-Taschen</td><td style=\"width:130px\"><img src=\"http://www.lackuna.com/wp-content/themes/fearless/images/missing-image-640x360.png\"  width=\"130\"><br/><a href=\"\"></a></br>UNKNOWN</td><td style=\"width:130px\"><img src=\"http://www.lackuna.com/wp-content/themes/fearless/images/missing-image-640x360.png\"  width=\"130\"><br/><a href=\"\"></a></br>UNKNOWN</td><td style=\"width:130px\"><img src=\"http://www.lackuna.com/wp-content/themes/fearless/images/missing-image-640x360.png\"  width=\"130\"><br/><a href=\"\"></a></br>UNKNOWN</td></tr><tr><th style=\"text-align:center;width:120px\"><img src=\"http://www.nkd.com/wcsstore/NKD2/images/catalog/2040197x1x1_M.jpg\" width=\"130\"><br/><a href=\"http://www.nkd.com/damenmode-brands-laura-torelli-classic/Damen-Anorak-mit-Druckknoepfen_215062_427772.html\">2040197</a></br>Damen-Anorak mit Druckknöpfen</th><td style=\"background-color:black;\"></td><td style=\"width:130px\"><img src=\"http://www.nkd.com/wcsstore/NKD2/images/catalog/2042325x1x1_M.jpg\"  width=\"130\"><br/><a href=\"http://www.nkd.com/wohnideen-brands-home/Polycotton-Bettwaesche-mit-modernem-Muster_215067_429859.html\">2042325</a></br>Polycotton-Bettwäsche mit modernem Muster</td><td style=\"width:130px\"><img src=\"http://www.lackuna.com/wp-content/themes/fearless/images/missing-image-640x360.png\"  width=\"130\"><br/><a href=\"\"></a></br>UNKNOWN</td><td style=\"width:130px\"><img src=\"http://www.lackuna.com/wp-content/themes/fearless/images/missing-image-640x360.png\"  width=\"130\"><br/><a href=\"\"></a></br>UNKNOWN</td><td style=\"width:130px\"><img src=\"http://www.nkd.com/wcsstore/NKD2/images/catalog/1674986x1x1_M.jpg\"  width=\"130\"><br/><a href=\"http://www.nkd.com/damenmode-damen-shirts-tops-blusen/Damen-Top_207551_263802.html\">1674986</a></br>Damen-Top</td><td style=\"width:130px\"><img src=\"http://www.nkd.com/wcsstore/NKD2/images/catalog/2043176x1x1_M.jpg\"  width=\"130\"><br/><a href=\"http://www.nkd.com/damenmode-brands-laura-torelli-collection/Damen-Bluse-mit-Rueschen_215062_424728.html\">2043176</a></br>Damen-Bluse mit Rüschen</td><td style=\"width:130px\"><img src=\"http://www.nkd.com/wcsstore/NKD2/images/catalog/2041003x1x1_M.jpg\"  width=\"130\"><br/><a href=\"http://www.nkd.com/herrenmode-herren-waesche/Herren-Unterhose-mit-modernen-Buendchen_207554_431701.html\">2041003</a></br>Herren-Unterhose mit modernen Bündchen</td></tr><tr><th style=\"text-align:center;width:120px\"><img src=\"http://www.nkd.com/wcsstore/NKD2/images/catalog/2041756x1x1_M.jpg\" width=\"130\"><br/><a href=\"http://www.nkd.com/damenmode-damen-jacken-westen/Damen-Fleeceshirt-mit-Reissverschluss_207551_432341.html\">2041756</a></br>Damen-Fleeceshirt mit Reißverschluss</th><td style=\"background-color:black;\"></td><td style=\"width:130px\"><img src=\"http://www.lackuna.com/wp-content/themes/fearless/images/missing-image-640x360.png\"  width=\"130\"><br/><a href=\"\"></a></br>UNKNOWN</td><td style=\"width:130px\"><img src=\"http://www.nkd.com/wcsstore/NKD2/images/catalog/2039632x1x1_M.jpg\"  width=\"130\"><br/><a href=\"http://www.nkd.com/babykleidung-maedchen-waesche-struempfe/Baby-Maedchen-Body-mit-Reh-Frontaufdruck_215054_433058.html\">2039632</a></br>Baby-Mädchen-Body mit Reh-Frontaufdruck</td><td style=\"width:130px\"><img src=\"http://www.nkd.com/wcsstore/NKD2/images/catalog/1680856x1x1_M.jpg\"  width=\"130\"><br/><a href=\"http://www.nkd.com/wohnideen-dekoartikel/Jumbo-Teelichthalter-%C3%98-ca-8-9cm_215059_437351.html\">1680856</a></br>Jumbo-Teelichthalter, Ø ca. 8-9cm</td><td style=\"width:130px\"><img src=\"http://www.nkd.com/wcsstore/NKD2/images/catalog/2040184x1x1_M.jpg\"  width=\"130\"><br/><a href=\"http://www.nkd.com/schnaeppchen-herrenmode-brands/Herren-Retroshorts-in-toller-Farbverlaufs-Optik_215082_421017.html\">2040184</a></br>Herren-Retroshorts in toller Farbverlaufs-Optik</td><td style=\"width:130px\"><img src=\"http://www.nkd.com/wcsstore/NKD2/images/catalog/1687003x1x1_M.jpg\"  width=\"130\"><br/><a href=\"http://www.nkd.com/damenmode-basics/Damen-Komfort-Socken-3er-Pack_207553_371710.html\">1687003</a></br>Damen-Komfort-Socken, 3er Pack</td><td style=\"width:130px\"><img src=\"http://www.nkd.com/wcsstore/NKD2/images/catalog/2040976x1x1_M.jpg\"  width=\"130\"><br/><a href=\"http://www.nkd.com/herrenmode-herren-waesche/Herren-Thermo-Unterhose-mit-Ziernaehten_207554_431719.html\">2040976</a></br>Herren-Thermo-Unterhose mit Ziernähten</td></tr><tr><th style=\"text-align:center;width:120px\"><img src=\"http://www.nkd.com/wcsstore/NKD2/images/catalog/2042874x1x1_M.jpg\" width=\"130\"><br/><a href=\"http://www.nkd.com/schnaeppchen-damenmode-brands/Damen-Shirt-mit-Jacquard-Streifen_215081_424750.html\">2042874</a></br>Damen-Shirt mit Jacquard-Streifen</th><td style=\"background-color:black;\"></td><td style=\"width:130px\"><img src=\"http://www.lackuna.com/wp-content/themes/fearless/images/missing-image-640x360.png\"  width=\"130\"><br/><a href=\"\"></a></br>UNKNOWN</td><td style=\"width:130px\"><img src=\"http://www.lackuna.com/wp-content/themes/fearless/images/missing-image-640x360.png\"  width=\"130\"><br/><a href=\"\"></a></br>UNKNOWN</td><td style=\"width:130px\"><img src=\"http://www.nkd.com/wcsstore/NKD2/images/catalog/2040726x1x1_M.jpg\"  width=\"130\"><br/><a href=\"http://www.nkd.com/damenmode-damen-nachtwaesche-homewear/Damen-Schlafanzug-mit-Bluemchen-Muster-2-teilig_207551_430572.html\">2040726</a></br>Damen-Schlafanzug mit Blümchen-Muster, 2-teilig</td><td style=\"width:130px\"><img src=\"http://www.nkd.com/wcsstore/NKD2/images/catalog/1693817x1x1_M.jpg\"  width=\"130\"><br/><a href=\"http://www.nkd.com/damenmode-damen-strumpfhosen-socken/Gesundheitssocken-mit-Baumwolle-3er-Pack_207551_415660.html\">1693817</a></br>Gesundheitssocken mit Baumwolle, 3er Pack</td><td style=\"width:130px\"><img src=\"http://www.nkd.com/wcsstore/NKD2/images/catalog/1687003x1x1_M.jpg\"  width=\"130\"><br/><a href=\"http://www.nkd.com/damenmode-basics/Damen-Komfort-Socken-3er-Pack_207553_371710.html\">1687003</a></br>Damen-Komfort-Socken, 3er Pack</td><td style=\"width:130px\"><img src=\"http://www.nkd.com/wcsstore/NKD2/images/catalog/2045500x1x1_M.jpg\"  width=\"130\"><br/><a href=\"http://www.nkd.com/wohnideen-spielzeug/Fidget-Cube-das-Original_215060_426539.html\">2045500</a></br>Fidget Cube - das Original</td></tr></table>"
      ],
      "text/plain": [
       "<IPython.core.display.HTML object>"
      ]
     },
     "metadata": {},
     "output_type": "display_data"
    }
   ],
   "source": [
    "from IPython.core.display import display as core_display\n",
    "from IPython.core.display import HTML \n",
    "\n",
    "def product_to_url(product):\n",
    "    try:\n",
    "        \n",
    "        return [product] + product_map[list(product_idxs)[product]] + [list(product_idxs)[product]]\n",
    "    except KeyError:\n",
    "        return [product,'http://www.lackuna.com/wp-content/themes/fearless/images/missing-image-640x360.png','UNKNOWN','', '']\n",
    "\n",
    "def display_session(session):\n",
    "    products = list(map(product_to_url, session))\n",
    "    predictions = predict_missing(session)\n",
    "    html = '<table>'\n",
    "    seen = set()\n",
    "    for i,product in enumerate(products):\n",
    "        html += '<tr>'\n",
    "        html += '<th style=\"text-align:center;width:120px\">'\n",
    "        html += '<img src=\"' + product[1] + '\" width=\"130\"><br/>' \n",
    "        html += '<a href=\"'+str(product[3])+'\">' + str(product[4]) + '</a></br>' + str(product[2])\n",
    "        html += '</th><td style=\"background-color:black;\"></td>'\n",
    "        top_idx = list(np.argsort(predictions[i])[::-1])\n",
    "        seen.add(product[0])\n",
    "        \n",
    "        j = 0\n",
    "        for pred in top_idx:\n",
    "            #if pred in seen:\n",
    "            #    continue\n",
    "                                \n",
    "            if i < len(products) - 1 and pred == products[i+1][0]:\n",
    "                style = 'style=\"border:3px dashed red;\"'\n",
    "            else:\n",
    "                style = ''\n",
    "                \n",
    "            pred_data = product_to_url(pred)\n",
    "            html += '<td style=\"width:130px\"><img src=\"' + pred_data[1] + '\" '+style+' width=\"130\"><br/>' \n",
    "            html += '<a href=\"'+str(pred_data[3]) + '\">' +str(pred_data[4]) + '</a></br>' + str(pred_data[2]) + '</td>'\n",
    "            j+=1\n",
    "            if j > 5:\n",
    "                break\n",
    "                \n",
    "        html += '</tr>'\n",
    "    html += '</table>'\n",
    "\n",
    "    core_display(HTML(html))\n",
    "\n",
    "display_session(random.choice(valid_seqs))"
   ]
  },
  {
   "cell_type": "code",
   "execution_count": 127,
   "metadata": {},
   "outputs": [
    {
     "data": {
      "text/html": [
       "<table><tr><th style=\"text-align:center;width:120px\"><img src=\"http://www.nkd.com/wcsstore/NKD2/images/catalog/2041197x1x1_M.jpg\" width=\"130\"><br/><a href=\"http://www.nkd.com/damenmode-damen-xxl/Damen-Strickjacke-im-offenen-Cardigan-Stil-grosse-Groessen_207553_431338.html\">2041197</a></br>Damen-Strickjacke im offenen Cardigan-Stil, große Größen</th><td style=\"background-color:black;\"></td><td style=\"width:130px\"><img src=\"http://www.lackuna.com/wp-content/themes/fearless/images/missing-image-640x360.png\"  width=\"130\"><br/><a href=\"\"></a></br>UNKNOWN</td></tr></table>"
      ],
      "text/plain": [
       "<IPython.core.display.HTML object>"
      ]
     },
     "metadata": {},
     "output_type": "display_data"
    }
   ],
   "source": [
    "display_session(np.array([product_ids['2041197']]))"
   ]
  },
  {
   "cell_type": "code",
   "execution_count": 128,
   "metadata": {},
   "outputs": [
    {
     "ename": "NameError",
     "evalue": "name 'user_valid_batches' is not defined",
     "output_type": "error",
     "traceback": [
      "\u001b[0;31m---------------------------------------------------------------------------\u001b[0m",
      "\u001b[0;31mNameError\u001b[0m                                 Traceback (most recent call last)",
      "\u001b[0;32m<ipython-input-128-02c404899ae9>\u001b[0m in \u001b[0;36m<module>\u001b[0;34m()\u001b[0m\n\u001b[1;32m      1\u001b[0m \u001b[0mgrouped_by_last_item\u001b[0m \u001b[0;34m=\u001b[0m \u001b[0;34m{\u001b[0m\u001b[0;34m}\u001b[0m\u001b[0;34m\u001b[0m\u001b[0m\n\u001b[0;32m----> 2\u001b[0;31m \u001b[0;32mfor\u001b[0m \u001b[0mbatch\u001b[0m \u001b[0;32min\u001b[0m \u001b[0muser_valid_batches\u001b[0m\u001b[0;34m:\u001b[0m\u001b[0;34m\u001b[0m\u001b[0m\n\u001b[0m\u001b[1;32m      3\u001b[0m     \u001b[0;32mfor\u001b[0m \u001b[0msession\u001b[0m \u001b[0;32min\u001b[0m \u001b[0mbatch\u001b[0m\u001b[0;34m[\u001b[0m\u001b[0;36m0\u001b[0m\u001b[0;34m]\u001b[0m\u001b[0;34m:\u001b[0m\u001b[0;34m\u001b[0m\u001b[0m\n\u001b[1;32m      4\u001b[0m         \u001b[0;32mif\u001b[0m \u001b[0msession\u001b[0m\u001b[0;34m[\u001b[0m\u001b[0;34m-\u001b[0m\u001b[0;36m1\u001b[0m\u001b[0;34m]\u001b[0m \u001b[0;32mnot\u001b[0m \u001b[0;32min\u001b[0m \u001b[0mgrouped_by_last_item\u001b[0m\u001b[0;34m:\u001b[0m\u001b[0;34m\u001b[0m\u001b[0m\n\u001b[1;32m      5\u001b[0m             \u001b[0mgrouped_by_last_item\u001b[0m\u001b[0;34m[\u001b[0m\u001b[0msession\u001b[0m\u001b[0;34m[\u001b[0m\u001b[0;34m-\u001b[0m\u001b[0;36m1\u001b[0m\u001b[0;34m]\u001b[0m\u001b[0;34m]\u001b[0m \u001b[0;34m=\u001b[0m \u001b[0;34m[\u001b[0m\u001b[0;34m]\u001b[0m\u001b[0;34m\u001b[0m\u001b[0m\n",
      "\u001b[0;31mNameError\u001b[0m: name 'user_valid_batches' is not defined"
     ]
    }
   ],
   "source": [
    "grouped_by_last_item = {}\n",
    "for batch in user_valid_batches:\n",
    "    for session in batch[0]:\n",
    "        if session[-1] not in grouped_by_last_item:\n",
    "            grouped_by_last_item[session[-1]] = []\n",
    "        grouped_by_last_item[session[-1]].append(session)\n"
   ]
  },
  {
   "cell_type": "code",
   "execution_count": null,
   "metadata": {},
   "outputs": [],
   "source": [
    "gr = random.choice(grouped_by_last_item)\n",
    "s1 = random.choice(gr)\n",
    "s2 = random.choice(gr)\n",
    "display_session(s1)\n",
    "display_session(s2)"
   ]
  },
  {
   "cell_type": "code",
   "execution_count": null,
   "metadata": {},
   "outputs": [],
   "source": []
  }
 ],
 "metadata": {
  "kernelspec": {
   "display_name": "Python 3",
   "language": "python",
   "name": "python3"
  },
  "language_info": {
   "codemirror_mode": {
    "name": "ipython",
    "version": 3
   },
   "file_extension": ".py",
   "mimetype": "text/x-python",
   "name": "python",
   "nbconvert_exporter": "python",
   "pygments_lexer": "ipython3",
   "version": "3.5.4"
  }
 },
 "nbformat": 4,
 "nbformat_minor": 2
}
