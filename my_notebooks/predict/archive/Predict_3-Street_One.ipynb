{
 "cells": [
  {
   "cell_type": "code",
   "execution_count": 1,
   "metadata": {},
   "outputs": [
    {
     "name": "stderr",
     "output_type": "stream",
     "text": [
      "Using TensorFlow backend.\n"
     ]
    }
   ],
   "source": [
    "import json\n",
    "import matplotlib.pyplot as plt\n",
    "from keras.utils import to_categorical\n",
    "from tqdm import tqdm\n",
    "import random\n",
    "import numpy as np"
   ]
  },
  {
   "cell_type": "code",
   "execution_count": 2,
   "metadata": {},
   "outputs": [],
   "source": [
    "%matplotlib inline"
   ]
  },
  {
   "cell_type": "code",
   "execution_count": 3,
   "metadata": {},
   "outputs": [],
   "source": [
    "file = '/data/predict/196E2517293A9285/196E2517293A9285_logs.json'"
   ]
  },
  {
   "cell_type": "code",
   "execution_count": 4,
   "metadata": {},
   "outputs": [],
   "source": [
    "#sessions = {}\n",
    "#with open(file, encoding='utf8') as f:\n",
    "#    for line in tqdm(f):\n",
    "#        data = json.loads(line)\n",
    "#        if data['session_id'] not in sessions:\n",
    "#            sessions[data['session_id']] = []\n",
    "#        for prod_idx in data['viewed_products']:\n",
    "#            try:\n",
    "#                sessions[data['session_id']].append(prod_idx)\n",
    "#            except ValueError: \n",
    "#                print('Sktrain_labelsiped ' + prod_idx)"
   ]
  },
  {
   "cell_type": "code",
   "execution_count": 5,
   "metadata": {},
   "outputs": [
    {
     "name": "stderr",
     "output_type": "stream",
     "text": [
      "759250it [00:05, 133472.37it/s]\n"
     ]
    }
   ],
   "source": [
    "users = {}\n",
    "with open(file, encoding='utf8') as f:\n",
    "    for line in tqdm(f):\n",
    "        data = json.loads(line)\n",
    "        if data['visitor_id'] not in users:\n",
    "            users[data['visitor_id']] = []\n",
    "        for prod_idx in data['viewed_products']:\n",
    "            try:\n",
    "                users[data['visitor_id']].append(prod_idx)\n",
    "            except ValueError: \n",
    "                print('Sktrain_labelsiped ' + prod_idx)"
   ]
  },
  {
   "cell_type": "code",
   "execution_count": 6,
   "metadata": {},
   "outputs": [],
   "source": [
    "#sessions_lens = list(map(lambda x: len(x), sessions.values()))\n",
    "users_lens = list(map(lambda x: len(x), users.values()))"
   ]
  },
  {
   "cell_type": "code",
   "execution_count": 7,
   "metadata": {},
   "outputs": [
    {
     "name": "stdout",
     "output_type": "stream",
     "text": [
      "120227\n"
     ]
    }
   ],
   "source": [
    "#print(len(sessions.keys()))\n",
    "print(len(users.keys()))"
   ]
  },
  {
   "cell_type": "code",
   "execution_count": 8,
   "metadata": {},
   "outputs": [],
   "source": [
    "#d = plt.hist(sessions_lens, bins=100, range=(3, 103))"
   ]
  },
  {
   "cell_type": "code",
   "execution_count": 9,
   "metadata": {},
   "outputs": [
    {
     "data": {
      "image/png": "[encoded data removed]",
      "text/plain": [
       "<matplotlib.figure.Figure at 0x7fe4a613aa58>"
      ]
     },
     "metadata": {},
     "output_type": "display_data"
    }
   ],
   "source": [
    "d = plt.hist(users_lens, bins=100, range=(3, 103))"
   ]
  },
  {
   "cell_type": "code",
   "execution_count": 10,
   "metadata": {},
   "outputs": [],
   "source": [
    "products = {}\n",
    "for u in users.values():\n",
    "    for pid in u:\n",
    "        products[pid] = 1\n",
    "product_idxs = products.keys()\n",
    "product_ids = {v: k for k, v in enumerate(product_idxs)}\n",
    "number_of_classes = len(product_idxs)"
   ]
  },
  {
   "cell_type": "code",
   "execution_count": 11,
   "metadata": {},
   "outputs": [],
   "source": [
    "def chunks(l, n):\n",
    "    for i in range(0, len(l), n):\n",
    "        yield l[i:i + n]"
   ]
  },
  {
   "cell_type": "code",
   "execution_count": 12,
   "metadata": {},
   "outputs": [],
   "source": [
    "def dedup(seq):\n",
    "    seen = set()\n",
    "    seen_add = seen.add\n",
    "\n",
    "    return [x for x in seq if not (x in seen or seen_add(x))]\n",
    "\n",
    "\n",
    "users_with_product_idxs = {}\n",
    "for uid,products in users.items():\n",
    "    ids = dedup(list(map(lambda x: product_ids[x], products)))[-40:]\n",
    "    if len(ids) > 1:\n",
    "        if len(ids) not in users_with_product_idxs:\n",
    "            users_with_product_idxs[len(ids)] = []\n",
    "        users_with_product_idxs[len(ids)].append(ids)\n",
    "    \n",
    "#del users"
   ]
  },
  {
   "cell_type": "code",
   "execution_count": 13,
   "metadata": {},
   "outputs": [],
   "source": [
    "max_batch_size = 32\n",
    "test_size = 0.1\n",
    "user_batches = []\n",
    "user_valid_batches = []\n",
    "for len_group in users_with_product_idxs.values():\n",
    "    random.shuffle(len_group)\n",
    "    for batch in chunks(len_group, max_batch_size):\n",
    "        batch_data = np.array(list(map(lambda x: x[:-1], batch)))\n",
    "        batch_labels = np.expand_dims(np.array(list(map(lambda x: x[1:], batch))), axis=2)\n",
    "        if random.random() < test_size:\n",
    "            user_valid_batches.append(\n",
    "                (batch_data, batch_labels)\n",
    "            )\n",
    "        else:\n",
    "            user_batches.append(\n",
    "                (batch_data, batch_labels)\n",
    "            )"
   ]
  },
  {
   "cell_type": "code",
   "execution_count": 14,
   "metadata": {},
   "outputs": [],
   "source": [
    "\n",
    "def generate_from_array(arr):\n",
    "    while True:\n",
    "        random.shuffle(arr)\n",
    "        for i in arr: \n",
    "            yield i\n",
    "    "
   ]
  },
  {
   "cell_type": "code",
   "execution_count": 15,
   "metadata": {},
   "outputs": [],
   "source": [
    "#raw_data = []\n",
    "#raw_abels  = []\n",
    "#for products in tqdm(users_with_product_idxs):\n",
    "#    if(len(products) > 1):\n",
    "#        for i in range(len(products) - 6):\n",
    "#            raw_data.append(np.array(products[:-1]))\n",
    "#            raw_abels.append(np.array(products[-1]))"
   ]
  },
  {
   "cell_type": "code",
   "execution_count": 16,
   "metadata": {},
   "outputs": [],
   "source": [
    "#data_np = np.stack(raw_data)\n",
    "#labels_np = np.expand_dims(np.stack(raw_abels), axis=1)"
   ]
  },
  {
   "cell_type": "code",
   "execution_count": 17,
   "metadata": {},
   "outputs": [],
   "source": [
    "#from sklearn.model_selection import train_test_split\n",
    "#train_data, valid_data, train_labels, valid_labels  = train_test_split(data_np , labels_np, test_size=0.10, shuffle=True)"
   ]
  },
  {
   "cell_type": "code",
   "execution_count": 18,
   "metadata": {},
   "outputs": [],
   "source": [
    "from keras.models import Sequential\n",
    "from keras.layers import Embedding, CuDNNGRU, Dense, Dropout, TimeDistributed,Bidirectional\n",
    "from keras.layers.normalization import BatchNormalization\n",
    "from keras.optimizers import Nadam\n",
    "from keras.optimizers import Nadam\n",
    "\n",
    "\n",
    "n_hidden = 200\n",
    "\n",
    "model=Sequential([\n",
    "        Embedding(number_of_classes, n_hidden, batch_input_shape=(None,None)),\n",
    "        BatchNormalization(),\n",
    "        CuDNNGRU(4*n_hidden, input_shape=(None,n_hidden),return_sequences=True),\n",
    "        Dropout(0.2),\n",
    "        CuDNNGRU(4*n_hidden,return_sequences=True),\n",
    "        Dropout(0.2),\n",
    "        TimeDistributed(Dense(n_hidden)),\n",
    "        TimeDistributed(Dense(number_of_classes, activation='softmax'))\n",
    "    ])"
   ]
  },
  {
   "cell_type": "code",
   "execution_count": 19,
   "metadata": {},
   "outputs": [],
   "source": [
    "from keras.backend import reshape, prod, shape, stack\n",
    "from keras.metrics import sparse_top_k_categorical_accuracy\n",
    "\n",
    "def flatten_first_n_dimension(x, first_n=2):\n",
    "    new_dims = stack([prod(shape(x)[:first_n]), prod(shape(x)[first_n:])])\n",
    "\n",
    "    return reshape(x, new_dims)\n",
    "\n",
    "def sparse_timedistributed_top_k_categorical_accuracy(y_true, y_pred, k=5):\n",
    "    y_true_reshaped = flatten_first_n_dimension(y_true)\n",
    "    y_pred_reshaped = flatten_first_n_dimension(y_pred)\n",
    "\n",
    "    return sparse_top_k_categorical_accuracy(y_true_reshaped, y_pred_reshaped, k)"
   ]
  },
  {
   "cell_type": "code",
   "execution_count": 20,
   "metadata": {},
   "outputs": [],
   "source": [
    "model.compile(loss='sparse_categorical_crossentropy', metrics=['sparse_categorical_accuracy',sparse_timedistributed_top_k_categorical_accuracy], optimizer=Nadam())"
   ]
  },
  {
   "cell_type": "code",
   "execution_count": 21,
   "metadata": {},
   "outputs": [
    {
     "name": "stdout",
     "output_type": "stream",
     "text": [
      "Epoch 1/4\n",
      "2028/2028 [==============================] - 30s 15ms/step - loss: 5.4688 - sparse_categorical_accuracy: 0.1386 - sparse_timedistributed_top_k_categorical_accuracy: 0.2955 - val_loss: 5.1241 - val_sparse_categorical_accuracy: 0.1615 - val_sparse_timedistributed_top_k_categorical_accuracy: 0.3425\n",
      "Epoch 2/4\n",
      "2028/2028 [==============================] - 27s 13ms/step - loss: 5.0162 - sparse_categorical_accuracy: 0.1712 - sparse_timedistributed_top_k_categorical_accuracy: 0.3535 - val_loss: 5.0417 - val_sparse_categorical_accuracy: 0.1728 - val_sparse_timedistributed_top_k_categorical_accuracy: 0.3547\n",
      "Epoch 3/4\n",
      "2028/2028 [==============================] - 27s 13ms/step - loss: 4.9074 - sparse_categorical_accuracy: 0.1803 - sparse_timedistributed_top_k_categorical_accuracy: 0.3682 - val_loss: 4.9682 - val_sparse_categorical_accuracy: 0.1878 - val_sparse_timedistributed_top_k_categorical_accuracy: 0.3679\n",
      "Epoch 4/4\n",
      "2028/2028 [==============================] - 27s 13ms/step - loss: 4.8370 - sparse_categorical_accuracy: 0.1860 - sparse_timedistributed_top_k_categorical_accuracy: 0.3763 - val_loss: 4.9851 - val_sparse_categorical_accuracy: 0.1867 - val_sparse_timedistributed_top_k_categorical_accuracy: 0.3713\n"
     ]
    },
    {
     "data": {
      "text/plain": [
       "<keras.callbacks.History at 0x7fe489d8fd68>"
      ]
     },
     "execution_count": 21,
     "metadata": {},
     "output_type": "execute_result"
    }
   ],
   "source": [
    "model.fit_generator(\n",
    "    generate_from_array(user_batches), \n",
    "    validation_data=generate_from_array(user_valid_batches), \n",
    "    steps_per_epoch=len(user_batches),\n",
    "    validation_steps=len(user_valid_batches),\n",
    "    epochs=4\n",
    ")"
   ]
  },
  {
   "cell_type": "code",
   "execution_count": 22,
   "metadata": {},
   "outputs": [],
   "source": [
    "#model.fit(train_data, train_labels,validation_data=(valid_data,valid_labels), batch_size=256, epochs=4, shuffle=True)"
   ]
  },
  {
   "cell_type": "code",
   "execution_count": 23,
   "metadata": {},
   "outputs": [],
   "source": [
    "model.save('/data/predict/196E2517293A9285/196E2517293A9285_predict_v1_dedup.h5')"
   ]
  },
  {
   "cell_type": "code",
   "execution_count": 24,
   "metadata": {},
   "outputs": [],
   "source": [
    "model.save_weights('/data/predict/196E2517293A9285/196E2517293A9285_predict_weights_v1_dedup.h5')"
   ]
  },
  {
   "cell_type": "code",
   "execution_count": 25,
   "metadata": {},
   "outputs": [],
   "source": [
    "model.load_weights('/data/predict/196E2517293A9285/196E2517293A9285_predict_weights_v1_dedup.h5')"
   ]
  },
  {
   "cell_type": "code",
   "execution_count": 26,
   "metadata": {},
   "outputs": [],
   "source": [
    "import csv\n",
    "with open('/data/predict/196E2517293A9285/196E2517293A9285_product_ids_1_dedup.csv', 'w') as csvfile:\n",
    "    spamwriter = csv.writer(csvfile)\n",
    "    for line in product_idxs:\n",
    "        spamwriter.writerow([line])"
   ]
  },
  {
   "cell_type": "markdown",
   "metadata": {},
   "source": [
    "## Eye ball validation"
   ]
  },
  {
   "cell_type": "code",
   "execution_count": 27,
   "metadata": {},
   "outputs": [],
   "source": [
    "import csv"
   ]
  },
  {
   "cell_type": "code",
   "execution_count": 28,
   "metadata": {},
   "outputs": [],
   "source": [
    "product_map = {}\n",
    "with open('/data/predict/196E2517293A9285/196E2517293A9285_catalog.csv', 'r', encoding='utf8') as csvfile:\n",
    "    spamreader = csv.reader(csvfile)\n",
    "    next(spamreader)\n",
    "    for row in spamreader:\n",
    "        product_map[row[10]] = [row[9], row[6], row[11]]"
   ]
  },
  {
   "cell_type": "code",
   "execution_count": 29,
   "metadata": {},
   "outputs": [],
   "source": [
    "#product_map = {}\n",
    "#with open('/data/predict/196E2517293A9285/196E2517293A9285_image_links.csv', 'r') as csvfile:\n",
    "#    spamreader = csv.reader(csvfile)\n",
    "#    for row in spamreader:\n",
    "#        product_map[row[0]] = row[1]"
   ]
  },
  {
   "cell_type": "code",
   "execution_count": 36,
   "metadata": {},
   "outputs": [
    {
     "data": {
      "text/html": [
       "<table><tr><th style=\"text-align:center\"><img src=\"https://images.street-one.de//z1/4057515627457_1_m_z1.jpg\" width=\"130\"><br/><a href=\"https://www.street-one.at/All-Styles/Blusen/Langarm-Blusen/Rundhalsblusen/Tunika-Style-Bluse-Hedda-night-blue-oxid.html\">2249</a></br>Tunika Style Bluse Hedda</th><td style=\"background-color:black;\"></td><td><img src=\"https://images.street-one.de//z1/4057515490709_1_m_z1.jpg\"  width=\"130\"><br/><a href=\"https://www.street-one.at/All-Styles/Blusen/Langarm-Blusen/Rundhalsblusen/Tunika-Style-Bluse-Hedda-Black.html\">1103</a></br>Tunika Style Bluse Hedda</td><td><img src=\"http://www.lackuna.com/wp-content/themes/fearless/images/missing-image-640x360.png\"  width=\"130\"><br/><a href=\"\">1044</a></br>UNKNOWN</td><td><img src=\"https://images.street-one.de//z1/4057515556153_1_m_z1.jpg\"  width=\"130\"><br/><a href=\"https://www.street-one.at/All-Styles/Blusen/Langarm-Blusen/Rundhalsblusen/Tunika-Style-Bluse-Hedda-funky-pink.html\">1025</a></br>Tunika Style Bluse Hedda</td><td><img src=\"https://images.street-one.de//z1/4057515533703_1_m_z1.jpg\"  width=\"130\"><br/><a href=\"https://www.street-one.at/All-Styles/Blusen/Tuniken/Tunika-Style-Bluse-Hedda-studio-rose.html\">516</a></br>Tunika Style Bluse Hedda</td><td><img src=\"https://images.street-one.de//z1/4057515490716_1_m_z1.jpg\"  width=\"130\"><br/><a href=\"https://www.street-one.at/All-Styles/Blusen/Langarm-Blusen/Rundhalsblusen/Tunika-Style-Bluse-Hedda-off-white-streetone-1.html\">1050</a></br>Tunika Style Bluse Hedda</td><td><img src=\"https://images.street-one.de//z1/4057515490693_1_m_z1.jpg\"  width=\"130\"><br/><a href=\"https://www.street-one.at/All-Styles/Blusen/Langarm-Blusen/Rundhalsblusen/Tunika-Style-Bluse-Hedda-master-wine-streetone.html\">506</a></br>Tunika Style Bluse Hedda</td></tr><tr><th style=\"text-align:center\"><img src=\"https://images.street-one.de//z1/4057515753828_1_m_z1.jpg\" width=\"130\"><br/><a href=\"https://www.street-one.at/All-Styles/Blusen/Langarm-Blusen/Rundhalsblusen/Softe-Tunika-Style-Bluse-Black-streetone.html\">2042</a></br>Softe Tunika Style Bluse</th><td style=\"background-color:black;\"></td><td><img src=\"https://images.street-one.de//z1/4057515769959_1_m_z1.jpg\"  width=\"130\"><br/><a href=\"https://www.street-one.at/All-Styles/Blusen/Langarm-Blusen/Rundhalsblusen/Softe-Tunika-Style-Bluse-charming-rose.html\">2174</a></br>Softe Tunika Style Bluse</td><td><img src=\"https://images.street-one.de//z1/4057515769966_1_m_z1.jpg\"  width=\"130\"><br/><a href=\"https://www.street-one.at/All-Styles/Blusen/Langarm-Blusen/Rundhalsblusen/Softe-Tunika-Style-Bluse-evening-blue.html\">845</a></br>Softe Tunika Style Bluse</td><td><img src=\"https://images.street-one.de//z1/4057515753811_1_m_z1.jpg\" style=\"border:3px dashed red;\" width=\"130\"><br/><a href=\"https://www.street-one.at/All-Styles/Blusen/Langarm-Blusen/Rundhalsblusen/Softe-Tunika-Style-Bluse-Black.html\">743</a></br>Softe Tunika Style Bluse</td><td><img src=\"http://www.lackuna.com/wp-content/themes/fearless/images/missing-image-640x360.png\"  width=\"130\"><br/><a href=\"\">1652</a></br>UNKNOWN</td><td><img src=\"https://images.street-one.de//z1/4057515772713_1_m_z1.jpg\"  width=\"130\"><br/><a href=\"https://www.street-one.at/All-Styles/Blusen/Langarm-Blusen/Rundhalsblusen/Bluse-mit-Biesen-und-Sternen-charming-rose.html\">446</a></br>Bluse mit Biesen und Sternen</td><td><img src=\"https://images.street-one.de//z1/4057515777916_1_m_z1.jpg\"  width=\"130\"><br/><a href=\"https://www.street-one.at/All-Styles/Blusen/3-4-Arm-Blusen/Rundhalsblusen/Bluse-mit-Spitzen-Layer-evening-blue.html\">2212</a></br>Bluse mit Spitzen Layer</td></tr><tr><th style=\"text-align:center\"><img src=\"https://images.street-one.de//z1/4057515753811_1_m_z1.jpg\" width=\"130\"><br/><a href=\"https://www.street-one.at/All-Styles/Blusen/Langarm-Blusen/Rundhalsblusen/Softe-Tunika-Style-Bluse-Black.html\">743</a></br>Softe Tunika Style Bluse</th><td style=\"background-color:black;\"></td><td><img src=\"https://images.street-one.de//z1/4057515769959_1_m_z1.jpg\"  width=\"130\"><br/><a href=\"https://www.street-one.at/All-Styles/Blusen/Langarm-Blusen/Rundhalsblusen/Softe-Tunika-Style-Bluse-charming-rose.html\">2174</a></br>Softe Tunika Style Bluse</td><td><img src=\"https://images.street-one.de//z1/4057515769966_1_m_z1.jpg\"  width=\"130\"><br/><a href=\"https://www.street-one.at/All-Styles/Blusen/Langarm-Blusen/Rundhalsblusen/Softe-Tunika-Style-Bluse-evening-blue.html\">845</a></br>Softe Tunika Style Bluse</td><td><img src=\"https://images.street-one.de//z1/4057515772713_1_m_z1.jpg\"  width=\"130\"><br/><a href=\"https://www.street-one.at/All-Styles/Blusen/Langarm-Blusen/Rundhalsblusen/Bluse-mit-Biesen-und-Sternen-charming-rose.html\">446</a></br>Bluse mit Biesen und Sternen</td><td><img src=\"https://images.street-one.de//z1/4057515752739_1_m_z1.jpg\"  width=\"130\"><br/><a href=\"https://www.street-one.at/All-Styles/Blusen/Langarm-Blusen/Rundhalsblusen/Schimmernde-Satin-Bluse-evening-blue.html\">1032</a></br>Schimmernde Satin-Bluse</td><td><img src=\"https://images.street-one.de//z1/4057515796825_1_m_z1.jpg\"  width=\"130\"><br/><a href=\"https://www.street-one.at/All-Styles/Blusen/Langarm-Blusen/Rundhalsblusen/Gepunktete-Chiffonbluse-Original.html\">929</a></br>Gepunktete Chiffonbluse</td><td><img src=\"http://www.lackuna.com/wp-content/themes/fearless/images/missing-image-640x360.png\"  width=\"130\"><br/><a href=\"\">1722</a></br>UNKNOWN</td></tr><tr><th style=\"text-align:center\"><img src=\"https://images.street-one.de//z1/4057515325841_1_m_z1.jpg\" width=\"130\"><br/><a href=\"https://www.street-one.at/All-Styles/Roecke-Kleider/Kleider/Festliche-Kleider/Chiffonkleid-mit-V-Neck-big-red.html\">21</a></br>Chiffonkleid mit V-Neck</th><td style=\"background-color:black;\"></td><td><img src=\"https://images.street-one.de//z1/4057515370780_1_m_z1.jpg\"  width=\"130\"><br/><a href=\"\">46</a></br>Chiffonkleid mit V-Neck</td><td><img src=\"https://images.street-one.de//z1/4057515532973_1_m_z1.jpg\"  width=\"130\"><br/><a href=\"https://www.street-one.at/All-Styles/Roecke-Kleider/Kleider/Kleid-mit-gerafftem-Aermel-Black.html\">2126</a></br>Kleid mit gerafftem Ärmel</td><td><img src=\"https://images.street-one.de//z1/4057515500583_1_m_z1.jpg\"  width=\"130\"><br/><a href=\"https://www.street-one.at/All-Styles/T-Shirts-Tops/Shirtjacken/Lange-Hoody-Shirtjacke-Black.html\">1798</a></br>Lange Hoody Shirtjacke</td><td><img src=\"https://images.street-one.de//z1/4057515683774_1_m_z1.jpg\"  width=\"130\"><br/><a href=\"https://www.street-one.at/All-Styles/Roecke-Kleider/Kleider/Strickkleider/Strickkleid-mit-Schleife-Black.html\">1297</a></br>Strickkleid mit Schleife</td><td><img src=\"https://images.street-one.de//z1/4057515383742_1_m_z1.jpg\"  width=\"130\"><br/><a href=\"https://www.street-one.at/All-Styles/Jacken-Indoor-Outdoor/Maentel/Wollmaentel/Boucle-Wollmantel-mit-Zipper-mystic-rose.html\">2183</a></br>Bouclé Wollmantel mit Zipper</td><td><img src=\"https://images.street-one.de//z1/4057515798454_1_m_z1.jpg\"  width=\"130\"><br/><a href=\"https://www.street-one.at/All-Styles/Roecke-Kleider/Kleider/Festliche-Kleider/Kleid-aus-glitzernder-Spitze-Black.html\">1587</a></br>Kleid aus glitzernder Spitze</td></tr><tr><th style=\"text-align:center\"><img src=\"https://images.street-one.de//z1/4057515273289_1_m_z1.jpg\" width=\"130\"><br/><a href=\"https://www.street-one.at/All-Styles/Roecke-Kleider/Kleider/Sommerkleider/Kleid-mit-geknuepfter-Passe-hot-coral.html\">1648</a></br>Kleid mit geknüpfter Passe</th><td style=\"background-color:black;\"></td><td><img src=\"http://www.lackuna.com/wp-content/themes/fearless/images/missing-image-640x360.png\"  width=\"130\"><br/><a href=\"\">1488</a></br>UNKNOWN</td><td><img src=\"https://images.street-one.de//z1/4057515313312_1_m_z1.jpg\" style=\"border:3px dashed red;\" width=\"130\"><br/><a href=\"https://www.street-one.at/All-Styles/Roecke-Kleider/Kleider/Sommerkleider/Kleid-mit-geknuepfter-Passe-Black.html\">404</a></br>Kleid mit geknüpfter Passe</td><td><img src=\"http://www.lackuna.com/wp-content/themes/fearless/images/missing-image-640x360.png\"  width=\"130\"><br/><a href=\"\">1314</a></br>UNKNOWN</td><td><img src=\"https://images.street-one.de//z1/4057515321331_1_m_z1.jpg\"  width=\"130\"><br/><a href=\"https://www.street-one.at/All-Styles/Roecke-Kleider/Kleider/Festliche-Kleider/Chiffon-Maxikleid-Karina-lapis-blue.html\">1301</a></br>Chiffon Maxikleid Karina</td><td><img src=\"https://images.street-one.de//z1/4057515326084_1_m_z1.jpg\"  width=\"130\"><br/><a href=\"https://www.street-one.at/All-Styles/Roecke-Kleider/Kleider/Sommerkleider/Kleid-mit-Volantaermeln-studio-rose.html\">803</a></br>Kleid mit Volantärmeln</td><td><img src=\"https://images.street-one.de//z1/4057515243657_1_m_z1.jpg\"  width=\"130\"><br/><a href=\"https://www.street-one.at/All-Styles/Roecke-Kleider/Kleider/Sommerkleider/Grafik-Print-Kleid-Ricarda-lapis-blue.html\">1069</a></br>Grafik Print Kleid Ricarda</td></tr><tr><th style=\"text-align:center\"><img src=\"https://images.street-one.de//z1/4057515313312_1_m_z1.jpg\" width=\"130\"><br/><a href=\"https://www.street-one.at/All-Styles/Roecke-Kleider/Kleider/Sommerkleider/Kleid-mit-geknuepfter-Passe-Black.html\">404</a></br>Kleid mit geknüpfter Passe</th><td style=\"background-color:black;\"></td><td><img src=\"http://www.lackuna.com/wp-content/themes/fearless/images/missing-image-640x360.png\" style=\"border:3px dashed red;\" width=\"130\"><br/><a href=\"\">1488</a></br>UNKNOWN</td><td><img src=\"https://images.street-one.de//z1/4057515321331_1_m_z1.jpg\"  width=\"130\"><br/><a href=\"https://www.street-one.at/All-Styles/Roecke-Kleider/Kleider/Festliche-Kleider/Chiffon-Maxikleid-Karina-lapis-blue.html\">1301</a></br>Chiffon Maxikleid Karina</td><td><img src=\"https://images.street-one.de//z1/4057515326206_1_m_z1.jpg\"  width=\"130\"><br/><a href=\"https://www.street-one.at/All-Styles/Roecke-Kleider/Kleider/Sommerkleider/Romantisches-Chiffonkleid-Black.html\">2200</a></br>Romantisches Chiffonkleid</td><td><img src=\"https://images.street-one.de//z1/4057515326084_1_m_z1.jpg\"  width=\"130\"><br/><a href=\"https://www.street-one.at/All-Styles/Roecke-Kleider/Kleider/Sommerkleider/Kleid-mit-Volantaermeln-studio-rose.html\">803</a></br>Kleid mit Volantärmeln</td><td><img src=\"https://images.street-one.de//z1/4057515376171_1_m_z1.jpg\"  width=\"130\"><br/><a href=\"https://www.street-one.at/All-Styles/T-Shirts-Tops/Shirtjacken/Kurze-Open-Style-Jerseyjacke-studio-rose.html\">1925</a></br>Kurze Open Style Jerseyjacke</td><td><img src=\"https://images.street-one.de//z1/4057515243657_1_m_z1.jpg\"  width=\"130\"><br/><a href=\"https://www.street-one.at/All-Styles/Roecke-Kleider/Kleider/Sommerkleider/Grafik-Print-Kleid-Ricarda-lapis-blue.html\">1069</a></br>Grafik Print Kleid Ricarda</td></tr><tr><th style=\"text-align:center\"><img src=\"http://www.lackuna.com/wp-content/themes/fearless/images/missing-image-640x360.png\" width=\"130\"><br/><a href=\"\">1488</a></br>UNKNOWN</th><td style=\"background-color:black;\"></td><td><img src=\"https://images.street-one.de//z1/4057515272121_1_m_z1.jpg\"  width=\"130\"><br/><a href=\"https://www.street-one.at/All-Styles/Roecke-Kleider/Kleider/Sommerkleider/Kleid-mit-Volantsaum-hot-coral.html\">629</a></br>Kleid mit Volantsaum</td><td><img src=\"https://images.street-one.de//z1/4057515321331_1_m_z1.jpg\"  width=\"130\"><br/><a href=\"https://www.street-one.at/All-Styles/Roecke-Kleider/Kleider/Festliche-Kleider/Chiffon-Maxikleid-Karina-lapis-blue.html\">1301</a></br>Chiffon Maxikleid Karina</td><td><img src=\"https://images.street-one.de//z1/4057515326206_1_m_z1.jpg\"  width=\"130\"><br/><a href=\"https://www.street-one.at/All-Styles/Roecke-Kleider/Kleider/Sommerkleider/Romantisches-Chiffonkleid-Black.html\">2200</a></br>Romantisches Chiffonkleid</td><td><img src=\"https://images.street-one.de//z1/4057515532973_1_m_z1.jpg\"  width=\"130\"><br/><a href=\"https://www.street-one.at/All-Styles/Roecke-Kleider/Kleider/Kleid-mit-gerafftem-Aermel-Black.html\">2126</a></br>Kleid mit gerafftem Ärmel</td><td><img src=\"https://images.street-one.de//z1/4057515489567_1_m_z1.jpg\"  width=\"130\"><br/><a href=\"https://www.street-one.at/All-Styles/Roecke-Kleider/Kleider/Kleid-mit-gerafftem-Aermel-big-red.html\">669</a></br>Kleid mit gerafftem Ärmel</td><td><img src=\"http://www.lackuna.com/wp-content/themes/fearless/images/missing-image-640x360.png\"  width=\"130\"><br/><a href=\"\">951</a></br>UNKNOWN</td></tr></table>"
      ],
      "text/plain": [
       "<IPython.core.display.HTML object>"
      ]
     },
     "metadata": {},
     "output_type": "display_data"
    }
   ],
   "source": [
    "from IPython.core.display import display as core_display\n",
    "from IPython.core.display import HTML \n",
    "\n",
    "def product_to_url(product):\n",
    "    try:\n",
    "        return [product] + product_map[list(product_idxs)[product]]\n",
    "    except KeyError:\n",
    "        return [product,'http://www.lackuna.com/wp-content/themes/fearless/images/missing-image-640x360.png','UNKNOWN','']\n",
    "\n",
    "def display_session(session):\n",
    "    products = list(map(product_to_url, session))\n",
    "    predictions = model.predict([session])\n",
    "    html = '<table>'\n",
    "    seen = set()\n",
    "    for i,product in enumerate(products):\n",
    "        html += '<tr>'\n",
    "        html += '<th style=\"text-align:center\">'\n",
    "        html += '<img src=\"' + product[1] + '\" width=\"130\"><br/>' \n",
    "        html += '<a href=\"'+str(product[3])+'\">' + str(product[0]) + '</a></br>' + str(product[2])\n",
    "        html += '</th><td style=\"background-color:black;\"></td>'\n",
    "        top_idx = list(np.argsort(predictions[i][0])[::-1])\n",
    "        seen.add(product[0])\n",
    "        \n",
    "        j = 0\n",
    "        for pred in top_idx:\n",
    "            if pred in seen:\n",
    "                continue\n",
    "                                \n",
    "            if i < len(products) - 1 and pred == products[i+1][0]:\n",
    "                style = 'style=\"border:3px dashed red;\"'\n",
    "            else:\n",
    "                style = ''\n",
    "                \n",
    "            pred_data = product_to_url(pred)\n",
    "            html += '<td><img src=\"' + pred_data[1] + '\" '+style+' width=\"130\"><br/>' \n",
    "            html += '<a href=\"'+str(pred_data[3]) + '\">' +str(pred_data[0]) + '</a></br>' + str(pred_data[2]) + '</td>'\n",
    "            j+=1\n",
    "            if j > 5:\n",
    "                break\n",
    "                \n",
    "        html += '</tr>'\n",
    "    html += '</table>'\n",
    "\n",
    "    core_display(HTML(html))\n",
    "\n",
    "display_session(random.choice(random.choice(user_valid_batches)[0]))"
   ]
  },
  {
   "cell_type": "code",
   "execution_count": null,
   "metadata": {},
   "outputs": [],
   "source": []
  }
 ],
 "metadata": {
  "kernelspec": {
   "display_name": "Python 3",
   "language": "python",
   "name": "python3"
  },
  "language_info": {
   "codemirror_mode": {
    "name": "ipython",
    "version": 3
   },
   "file_extension": ".py",
   "mimetype": "text/x-python",
   "name": "python",
   "nbconvert_exporter": "python",
   "pygments_lexer": "ipython3",
   "version": "3.5.4"
  }
 },
 "nbformat": 4,
 "nbformat_minor": 2
}
