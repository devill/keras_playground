{
 "cells": [
  {
   "cell_type": "code",
   "execution_count": 1,
   "metadata": {},
   "outputs": [
    {
     "name": "stderr",
     "output_type": "stream",
     "text": [
      "Using TensorFlow backend.\n"
     ]
    }
   ],
   "source": [
    "import json\n",
    "import matplotlib.pyplot as plt\n",
    "from keras.utils import to_categorical\n",
    "from tqdm import tqdm\n",
    "import random\n",
    "import numpy as np"
   ]
  },
  {
   "cell_type": "code",
   "execution_count": 2,
   "metadata": {},
   "outputs": [],
   "source": [
    "%matplotlib inline"
   ]
  },
  {
   "cell_type": "code",
   "execution_count": 3,
   "metadata": {},
   "outputs": [],
   "source": [
    "file = '/data/predict/1118CE339D057727/1118CE339D057727_logs.json'"
   ]
  },
  {
   "cell_type": "code",
   "execution_count": 4,
   "metadata": {},
   "outputs": [],
   "source": [
    "#sessions = {}\n",
    "#with open(file, encoding='utf8') as f:\n",
    "#    for line in tqdm(f):\n",
    "#        data = json.loads(line)\n",
    "#        if data['session_id'] not in sessions:\n",
    "#            sessions[data['session_id']] = []\n",
    "#        for prod_idx in data['viewed_products']:\n",
    "#            try:\n",
    "#                sessions[data['session_id']].append(prod_idx)\n",
    "#            except ValueError: \n",
    "#                print('Sktrain_labelsiped ' + prod_idx)"
   ]
  },
  {
   "cell_type": "code",
   "execution_count": 5,
   "metadata": {},
   "outputs": [
    {
     "name": "stderr",
     "output_type": "stream",
     "text": [
      "1664187it [00:08, 187019.04it/s]\n"
     ]
    }
   ],
   "source": [
    "users = {}\n",
    "with open(file, encoding='utf8') as f:\n",
    "    for line in tqdm(f):\n",
    "        data = json.loads(line)\n",
    "        if data['visitor_id'] not in users:\n",
    "            users[data['visitor_id']] = []\n",
    "        for prod_idx in data['viewed_products']:\n",
    "            try:\n",
    "                users[data['visitor_id']].append(prod_idx)\n",
    "            except ValueError: \n",
    "                print('Sktrain_labelsiped ' + prod_idx)"
   ]
  },
  {
   "cell_type": "code",
   "execution_count": 6,
   "metadata": {},
   "outputs": [],
   "source": [
    "#sessions_lens = list(map(lambda x: len(x), sessions.values()))\n",
    "users_lens = list(map(lambda x: len(x), users.values()))"
   ]
  },
  {
   "cell_type": "code",
   "execution_count": 7,
   "metadata": {},
   "outputs": [
    {
     "name": "stdout",
     "output_type": "stream",
     "text": [
      "432592\n"
     ]
    }
   ],
   "source": [
    "#print(len(sessions.keys()))\n",
    "print(len(users.keys()))"
   ]
  },
  {
   "cell_type": "code",
   "execution_count": 8,
   "metadata": {},
   "outputs": [],
   "source": [
    "#d = plt.hist(sessions_lens, bins=100, range=(3, 103))"
   ]
  },
  {
   "cell_type": "code",
   "execution_count": 9,
   "metadata": {},
   "outputs": [
    {
     "data": {
      "image/png": "[encoded data removed]",
      "text/plain": [
       "<matplotlib.figure.Figure at 0x7f63a101f860>"
      ]
     },
     "metadata": {},
     "output_type": "display_data"
    }
   ],
   "source": [
    "d = plt.hist(users_lens, bins=100, range=(3, 103))"
   ]
  },
  {
   "cell_type": "code",
   "execution_count": 10,
   "metadata": {},
   "outputs": [],
   "source": [
    "products = {}\n",
    "for u in users.values():\n",
    "    for pid in u:\n",
    "        products[pid] = 1\n",
    "product_idxs = products.keys()\n",
    "product_ids = {v: k for k, v in enumerate(product_idxs)}\n",
    "number_of_classes = len(product_idxs)"
   ]
  },
  {
   "cell_type": "code",
   "execution_count": 11,
   "metadata": {},
   "outputs": [],
   "source": [
    "def chunks(l, n):\n",
    "    for i in range(0, len(l), n):\n",
    "        yield l[i:i + n]"
   ]
  },
  {
   "cell_type": "code",
   "execution_count": 12,
   "metadata": {},
   "outputs": [],
   "source": [
    "def dedup(seq):\n",
    "    seen = set()\n",
    "    seen_add = seen.add\n",
    "\n",
    "    return [x for x in seq if not (x in seen or seen_add(x))]\n",
    "\n",
    "\n",
    "users_with_product_idxs = {}\n",
    "for uid,products in users.items():\n",
    "    ids = dedup(list(map(lambda x: product_ids[x], products)))[-40:]\n",
    "    if len(ids) > 1:\n",
    "        if len(ids) not in users_with_product_idxs:\n",
    "            users_with_product_idxs[len(ids)] = []\n",
    "        users_with_product_idxs[len(ids)].append(ids)\n",
    "    \n",
    "#del users"
   ]
  },
  {
   "cell_type": "code",
   "execution_count": 13,
   "metadata": {},
   "outputs": [],
   "source": [
    "max_batch_size = 32\n",
    "test_size = 0.1\n",
    "user_batches = []\n",
    "user_valid_batches = []\n",
    "for len_group in users_with_product_idxs.values():\n",
    "    random.shuffle(len_group)\n",
    "    for batch in chunks(len_group, max_batch_size):\n",
    "        batch_data = np.array(list(map(lambda x: x[:-1], batch)))\n",
    "        batch_labels = np.expand_dims(np.array(list(map(lambda x: x[1:], batch))), axis=2)\n",
    "        if random.random() < test_size:\n",
    "            user_valid_batches.append(\n",
    "                (batch_data, batch_labels)\n",
    "            )\n",
    "        else:\n",
    "            user_batches.append(\n",
    "                (batch_data, batch_labels)\n",
    "            )"
   ]
  },
  {
   "cell_type": "code",
   "execution_count": 14,
   "metadata": {},
   "outputs": [],
   "source": [
    "\n",
    "def generate_from_array(arr):\n",
    "    while True:\n",
    "        random.shuffle(arr)\n",
    "        for i in arr: \n",
    "            yield i\n",
    "    "
   ]
  },
  {
   "cell_type": "code",
   "execution_count": 15,
   "metadata": {},
   "outputs": [],
   "source": [
    "#raw_data = []\n",
    "#raw_abels  = []\n",
    "#for products in tqdm(users_with_product_idxs):\n",
    "#    if(len(products) > 1):\n",
    "#        for i in range(len(products) - 6):\n",
    "#            raw_data.append(np.array(products[:-1]))\n",
    "#            raw_abels.append(np.array(products[-1]))"
   ]
  },
  {
   "cell_type": "code",
   "execution_count": 16,
   "metadata": {},
   "outputs": [],
   "source": [
    "#data_np = np.stack(raw_data)\n",
    "#labels_np = np.expand_dims(np.stack(raw_abels), axis=1)"
   ]
  },
  {
   "cell_type": "code",
   "execution_count": 17,
   "metadata": {},
   "outputs": [],
   "source": [
    "#from sklearn.model_selection import train_test_split\n",
    "#train_data, valid_data, train_labels, valid_labels  = train_test_split(data_np , labels_np, test_size=0.10, shuffle=True)"
   ]
  },
  {
   "cell_type": "code",
   "execution_count": 76,
   "metadata": {},
   "outputs": [],
   "source": [
    "from keras.models import Sequential\n",
    "from keras.layers import Embedding, CuDNNGRU, Dense, Dropout, TimeDistributed,Bidirectional\n",
    "from keras.layers.normalization import BatchNormalization\n",
    "from keras.optimizers import Nadam\n",
    "from keras.optimizers import Nadam\n",
    "\n",
    "\n",
    "n_hidden = 200\n",
    "\n",
    "model=Sequential([\n",
    "        Embedding(number_of_classes, n_hidden, batch_input_shape=(None,None)),\n",
    "        BatchNormalization(),\n",
    "        CuDNNGRU(4*n_hidden, input_shape=(None,n_hidden),return_sequences=True),\n",
    "        Dropout(0.2),\n",
    "        CuDNNGRU(4*n_hidden,return_sequences=True),\n",
    "        Dropout(0.2),\n",
    "#        TimeDistributed(Dense(n_hidden)),\n",
    "        TimeDistributed(Dense(number_of_classes, activation='softmax'))\n",
    "    ])"
   ]
  },
  {
   "cell_type": "code",
   "execution_count": 77,
   "metadata": {},
   "outputs": [],
   "source": [
    "from keras.backend import reshape, prod, shape, stack\n",
    "from keras.metrics import sparse_top_k_categorical_accuracy\n",
    "\n",
    "def flatten_first_n_dimension(x, first_n=2):\n",
    "    new_dims = stack([prod(shape(x)[:first_n]), prod(shape(x)[first_n:])])\n",
    "\n",
    "    return reshape(x, new_dims)\n",
    "\n",
    "def sparse_timedistributed_top_k_categorical_accuracy(y_true, y_pred, k=5):\n",
    "    y_true_reshaped = flatten_first_n_dimension(y_true)\n",
    "    y_pred_reshaped = flatten_first_n_dimension(y_pred)\n",
    "\n",
    "    return sparse_top_k_categorical_accuracy(y_true_reshaped, y_pred_reshaped, k)"
   ]
  },
  {
   "cell_type": "code",
   "execution_count": 78,
   "metadata": {},
   "outputs": [],
   "source": [
    "model.compile(loss='sparse_categorical_crossentropy', metrics=['sparse_categorical_accuracy',sparse_timedistributed_top_k_categorical_accuracy], optimizer=Nadam())"
   ]
  },
  {
   "cell_type": "code",
   "execution_count": 79,
   "metadata": {},
   "outputs": [
    {
     "name": "stdout",
     "output_type": "stream",
     "text": [
      "Epoch 1/4\n",
      "4377/4377 [==============================] - 464s 106ms/step - loss: 9.2164 - sparse_categorical_accuracy: 0.0379 - sparse_timedistributed_top_k_categorical_accuracy: 0.0803 - val_loss: 8.6285 - val_sparse_categorical_accuracy: 0.0502 - val_sparse_timedistributed_top_k_categorical_accuracy: 0.1155\n",
      "Epoch 2/4\n",
      "4377/4377 [==============================] - 468s 107ms/step - loss: 8.0491 - sparse_categorical_accuracy: 0.0599 - sparse_timedistributed_top_k_categorical_accuracy: 0.1393 - val_loss: 8.2282 - val_sparse_categorical_accuracy: 0.0654 - val_sparse_timedistributed_top_k_categorical_accuracy: 0.1527s\n",
      "Epoch 3/4\n",
      "4377/4377 [==============================] - 473s 108ms/step - loss: 7.1932 - sparse_categorical_accuracy: 0.0799 - sparse_timedistributed_top_k_categorical_accuracy: 0.1877 - val_loss: 8.0356 - val_sparse_categorical_accuracy: 0.0765 - val_sparse_timedistributed_top_k_categorical_accuracy: 0.1754\n",
      "Epoch 4/4\n",
      "4377/4377 [==============================] - 472s 108ms/step - loss: 6.3983 - sparse_categorical_accuracy: 0.1026 - sparse_timedistributed_top_k_categorical_accuracy: 0.2414 - val_loss: 8.0794 - val_sparse_categorical_accuracy: 0.0833 - val_sparse_timedistributed_top_k_categorical_accuracy: 0.1927\n"
     ]
    },
    {
     "data": {
      "text/plain": [
       "<keras.callbacks.History at 0x7f6379a95cf8>"
      ]
     },
     "execution_count": 79,
     "metadata": {},
     "output_type": "execute_result"
    }
   ],
   "source": [
    "model.fit_generator(\n",
    "    generate_from_array(user_batches), \n",
    "    validation_data=generate_from_array(user_valid_batches), \n",
    "    steps_per_epoch=len(user_batches),\n",
    "    validation_steps=len(user_valid_batches),\n",
    "    epochs=4\n",
    ")"
   ]
  },
  {
   "cell_type": "code",
   "execution_count": 80,
   "metadata": {},
   "outputs": [],
   "source": [
    "#model.fit(train_data, train_labels,validation_data=(valid_data,valid_labels), batch_size=256, epochs=4, shuffle=True)"
   ]
  },
  {
   "cell_type": "code",
   "execution_count": 81,
   "metadata": {},
   "outputs": [],
   "source": [
    "model.save('/data/predict/1118CE339D057727/1118CE339D057727_predict_v1_dedup.h5')"
   ]
  },
  {
   "cell_type": "code",
   "execution_count": 82,
   "metadata": {},
   "outputs": [],
   "source": [
    "model.save_weights('/data/predict/1118CE339D057727/1118CE339D057727_predict_weights_v1_dedup.h5')"
   ]
  },
  {
   "cell_type": "code",
   "execution_count": 83,
   "metadata": {},
   "outputs": [],
   "source": [
    "model.load_weights('/data/predict/1118CE339D057727/1118CE339D057727_predict_weights_v1_dedup.h5')"
   ]
  },
  {
   "cell_type": "code",
   "execution_count": 84,
   "metadata": {},
   "outputs": [],
   "source": [
    "#import csv\n",
    "#with open('/data/predict/196E2517293A9285/196E2517293A9285_product_ids_1_dedup.csv', 'w') as csvfile:\n",
    "#    spamwriter = csv.writer(csvfile)\n",
    "#    for line in product_idxs:\n",
    "#        spamwriter.writerow([line])"
   ]
  },
  {
   "cell_type": "markdown",
   "metadata": {},
   "source": [
    "## Eye ball validation"
   ]
  },
  {
   "cell_type": "code",
   "execution_count": 85,
   "metadata": {},
   "outputs": [],
   "source": [
    "import csv"
   ]
  },
  {
   "cell_type": "code",
   "execution_count": 86,
   "metadata": {},
   "outputs": [],
   "source": [
    "product_map = {}\n",
    "with open('/data/predict/1118CE339D057727/1118CE339D057727_catalog.csv', 'r', encoding='utf8') as csvfile:\n",
    "    spamreader = csv.reader(csvfile)\n",
    "    next(spamreader)\n",
    "    for row in spamreader:\n",
    "        product_map[row[0]] = [row[3], row[2], row[4]]"
   ]
  },
  {
   "cell_type": "code",
   "execution_count": 87,
   "metadata": {
    "scrolled": false
   },
   "outputs": [
    {
     "name": "stdout",
     "output_type": "stream",
     "text": [
      "[35759 27681 55406 43833 64457  4486 44662 69747 68760 37366]\n",
      "['489630', '489630', '362040', '362039', '362037', '362039', '489627', '489627', '362039', '362037', '489630', '362037', '489627', '362040', '362040', '489627', '489627', '461651', '461651', '486327', '486327', '362037', '340335', '340335', '162044', '162044']\n"
     ]
    }
   ],
   "source": [
    "session = random.choice(random.choice(user_valid_batches)[0])\n",
    "print(session)\n",
    "# print(product_map)\n",
    "product_map[list(product_idxs)[1]]\n",
    "print(products)"
   ]
  },
  {
   "cell_type": "code",
   "execution_count": 127,
   "metadata": {
    "scrolled": false
   },
   "outputs": [
    {
     "data": {
      "text/html": [
       "<table><tr><th style=\"text-align:center\"><img src=\"https://static10.edstatic.net/product_images/535x400/resize/canon-eos-m3-fenykepezo_61b55d7b.jpg?v=14\" width=\"130\"><br/><a href=\"https://click.edigital.hu/cserelheto-objektives-kompakt-milc-fenykepezogep/canon-eos-m3-fenykepezogep-kit-18-55-s-objektivvel-keresovel-p369158\">16515</a></br>Canon EOS M3 fényképezőgép kit (18-55 S objektívvel + keresővel)</th><td style=\"background-color:black;\"></td><td><img src=\"https://static10.edstatic.net/product_images/535x400/resize/nikon-50-f1-8-af-s-g-objektiv_7736db7a.jpg?v=14\"  width=\"130\"><br/><a href=\"https://click.edigital.hu/fix-objektiv/nikon-50f18-af-s-g-objektiv-p153102\">30763</a></br>Nikon 50/F1.8 AF-S G objektív</td><td><img src=\"//static9.edstatic.net/product_images/535x400/resize/olympus-om-d-e-m5-mark-ii-kit-12-50-fekete-objektivvel-ezust_6e82759c.jpg?v=14\"  width=\"130\"><br/><a href=\"https://click.edigital.hu/cserelheto-objektives-kompakt-milc-fenykepezogep/olympus-om-d-e-m5-mark-ii-kit-12-50-fekete-objektivvel-ezust-p421800\">19067</a></br>Olympus OM-D E-M5 Mark II kit (12-50 fekete objektívvel), ezüst</td><td><img src=\"https://static10.edstatic.net/product_images/535x400/resize/alu-spacegray-sport-black-gallery1_oquvid3a.jpg?v=1\"  width=\"130\"><br/><a href=\"https://click.edigital.hu/watch/apple-watch-series-1-42mm-astroszurke-szinu-aluminiumtok-fekete-sportszijjal-mp032mp-p461378\">11859</a></br>Apple Watch Series 1, 42mm, astroszürke színű alumíniumtok fekete sportszíjjal (mp032mp/a)</td><td><img src=\"https://static9.edstatic.net/product_images/535x400/resize/g9x-markii-silver-front-hires_371g7x7p.jpg?v=1\"  width=\"130\"><br/><a href=\"https://click.edigital.hu/kompakt-fenykepezogep/canon-powershot-g9x-mark-ii-fenykepezogep-ezust-p478564\">20352</a></br>Canon PowerShot G9X Mark II fényképezőgép, ezüst</td><td><img src=\"https://static9.edstatic.net/product_images/535x400/resize/nikon-coolpix-p900-fenykepezo_7f6e5f95.jpg?v=14\"  width=\"130\"><br/><a href=\"https://click.edigital.hu/kompakt-fenykepezogep/nikon-coolpix-p900-fenykepezogep-fekete-p365027\">9135</a></br>Nikon Coolpix P900 fényképezőgép, fekete</td><td><img src=\"//static11.edstatic.net/product_images/535x400/resize/screenshot-24_e65hp7o7.png?v=1\"  width=\"130\"><br/><a href=\"https://click.edigital.hu/canon-dslr/canon-eos-800d-fenykepezogep-kit-18-200-objektivvel-p484841\">3859</a></br>Canon EOS 800D fényképezőgép kit (18-200 objektívvel)</td></tr><tr><th style=\"text-align:center\"><img src=\"//static11.edstatic.net/product_images/535x400/resize/hans-hidegvago-kalapacs-keszlet-9-reszes-040902-0001_f13e52e7.jpg?v=2\" width=\"130\"><br/><a href=\"https://click.edigital.hu/szerszamkeszletek/hans-hidegvago-kalapacs-keszlet-9-reszes-040902-0001-p429175\">20973</a></br>Hans hidegvágó + kalapács készlet, 9 részes (040902-0001)</th><td style=\"background-color:black;\"></td><td><img src=\"https://static10.edstatic.net/product_images/535x400/resize/remotejpgashx_jnzb6gpv.jpg?v=1\"  width=\"130\"><br/><a href=\"https://click.edigital.hu/eloltoltos-mosogep/electrolux-ewfb1294br-eloltoltos-mosogep-p500010\">4733</a></br>Electrolux EWFB1294BR elöltöltős mosógép, A+++</td><td><img src=\"https://static9.edstatic.net/product_images/535x400/resize/delonghi-ecov311-bg-icona-vintage-presszo-kavefozo-bezs_5cfc5743.jpg?v=14\"  width=\"130\"><br/><a href=\"https://click.edigital.hu/presszo-kavefozo/delonghi-ecov311bg-icona-vintage-presszo-kavefozo-bezs-p416174\">69260</a></br>Delonghi ECOV311.BG Icona Vintage Presszó kávéfőző, bézs</td><td><img src=\"https://static11.edstatic.net/product_images/535x400/resize/52e0c383-ea5d-46a2-86b0-2d1c3c539d1b_5ipglkfc.jpg?v=1\"  width=\"130\"><br/><a href=\"https://click.edigital.hu/gepek/xbox-one-x-1tb-jatekkonzol-fekete-p527312\">35833</a></br>Xbox One X 1TB játékkonzol, fekete</td><td><img src=\"https://static9.edstatic.net/product_images/535x400/resize/tk102b-webset_u5rdb0p6.jpg?v=1\"  width=\"130\"><br/><a href=\"https://click.edigital.hu/jelzokeszulekek/global-tk102b-univerzalis-gps-nyomkoveto-p476914\">57925</a></br>Global TK102B univerzális GPS nyomkövető</td><td><img src=\"https://static11.edstatic.net/product_images/535x400/resize/global-43ud79-2017-gallery-medium01_ie5epk3i.jpg?v=1\"  width=\"130\"><br/><a href=\"https://click.edigital.hu/monitor/lg-43ud79-b-4k-ips-led-monitor-p507958\">24041</a></br>LG 43UD79-B 4K IPS LED monitor</td><td><img src=\"https://static11.edstatic.net/product_images/535x400/resize/galms590_w425sbj7.jpg?v=1\"  width=\"130\"><br/><a href=\"https://click.edigital.hu/turmixgep/gallet-galms590-smoothie-turmixgep-feher-zold-p464236\">49715</a></br>Gallet GALMS590 Smoothie turmixgép, fehér-zöld</td></tr><tr><th style=\"text-align:center\"><img src=\"https://static9.edstatic.net/product_images/535x400/resize/router-gof-1250-ce-101782_jvxz2iae.png?v=1\" width=\"130\"><br/><a href=\"https://click.edigital.hu/felsomarok/bosch-gof-1250-ce-professional-felsomaro-l-boxx-p489056\">44088</a></br>Bosch GOF 1250 CE Professional felsőmaró L-BOXX</th><td style=\"background-color:black;\"></td><td><img src=\"https://static11.edstatic.net/product_images/535x400/resize/52e0c383-ea5d-46a2-86b0-2d1c3c539d1b_5ipglkfc.jpg?v=1\"  width=\"130\"><br/><a href=\"https://click.edigital.hu/gepek/xbox-one-x-1tb-jatekkonzol-fekete-p527312\">35833</a></br>Xbox One X 1TB játékkonzol, fekete</td><td><img src=\"https://static9.edstatic.net/product_images/535x400/resize/gg1_zsg9yk7o.jpg?v=1\"  width=\"130\"><br/><a href=\"https://click.edigital.hu/okostelefon/xiaomi-redmi-4x-3gb32gb-dual-sim-kartyafuggetlen-okostelefon-fekete-android-p501767\">36060</a></br>Xiaomi Redmi 4X 3GB/32GB Dual SIM kártyafüggetlen okostelefon, fekete (Android)</td><td><img src=\"https://static10.edstatic.net/product_images/535x400/resize/skil-1001at-akkus-furo-csavarozo_2551d906.jpg?v=14\"  width=\"130\"><br/><a href=\"https://click.edigital.hu/akkus-furo-csavarozok/skil-1001at-akkus-furocsavarozo-p254384\">37222</a></br>Skil 1001AT akkus fúró/csavarozó</td><td><img src=\"https://static9.edstatic.net/product_images/535x400/resize/hu-uhdtv-mu6102-ue50mu6102kxxh-frontblack-61685025_uqenu3od.jpg?v=1\"  width=\"130\"><br/><a href=\"https://click.edigital.hu/led-televizio/samsung-ue43mu6102kxxh-uhd-smart-led-televizio-p489631\">2735</a></br>Samsung UE43MU6102KXXH UHD SMART LED Televízió</td><td><img src=\"https://static11.edstatic.net/product_images/535x400/resize/screenshot-6_yok38oja.png?v=1\"  width=\"130\"><br/><a href=\"https://click.edigital.hu/okostelefon/samsung-a520-galaxy-a5-2017-kartyafuggetlen-okostelefon-black-android-p477165\">37156</a></br>Samsung A520 Galaxy A5 (2017) kártyafüggetlen okostelefon, Black (Android)</td><td><img src=\"https://static11.edstatic.net/product_images/535x400/resize/screenshot-961_ysd9ycx1.jpg?v=1\"  width=\"130\"><br/><a href=\"https://click.edigital.hu/eszkoz/goboard-smart-balance-opticum-wheels-65-colos-fekete-p502773\">38884</a></br> GoBoard Smart Balance Opticum Wheels 6,5 colos, fekete</td></tr><tr><th style=\"text-align:center\"><img src=\"https://static9.edstatic.net/product_images/535x400/resize/404120jpg800x600-q85_q5f3e3fj.jpg?v=1\" width=\"130\"><br/><a href=\"https://click.edigital.hu/furo-csavarozok/extol-mini-koszoru-es-furogep-404120-p475764\">69493</a></br>Extol mini köszörű és fúrógép (404120)</th><td style=\"background-color:black;\"></td><td><img src=\"https://static9.edstatic.net/product_images/535x400/resize/mini-koszoro_8913ac86.jpg?v=14\"  width=\"130\"><br/><a href=\"https://click.edigital.hu/multigepekhez/mini-koszoru-es-csiszolofej-tartozek-keszlet-73420-p360237\">4887</a></br>Mini köszörű- és csiszolófej tartozék készlet (73420)</td><td><img src=\"https://static9.edstatic.net/product_images/535x400/resize/extol-craft-404122-mini-koszoro_4e16b2d8.jpg?v=14\"  width=\"130\"><br/><a href=\"https://click.edigital.hu/koszorugepek/extol-craft-404122-mini-koszoru-es-furogep-p366730\">65915</a></br>Extol Craft 404122 mini köszörű és fúrógép</td><td><img src=\"https://static9.edstatic.net/product_images/535x400/resize/extol-craft-404130-mini-koszoro_ce85a10f.jpg?v=14\"  width=\"130\"><br/><a href=\"https://click.edigital.hu/koszorugepek/extol-craft-404130-mini-koszoru-es-furogep-p384282\">24923</a></br>Extol Craft 404130 mini köszörű és fúrógép</td><td><img src=\"https://static9.edstatic.net/product_images/535x400/resize/extol-craft-404121-mini-koszoro_1de314cc.jpg?v=14\"  width=\"130\"><br/><a href=\"https://click.edigital.hu/koszorugepek/extol-craft-404121-mini-koszoru-es-furogep-p361715\">34896</a></br>Extol Craft 404121 mini köszörű és fúrógép</td><td><img src=\"https://static9.edstatic.net/product_images/535x400/resize/mini-koszoro_2a494f53.jpg?v=14\"  width=\"130\"><br/><a href=\"https://click.edigital.hu/multigepekhez/mini-koszoru-vago-darabolo-es-csiszolofej-tartozek-keszlet-73415-p360239\">15370</a></br>Mini köszörű-, vágó-, daraboló- és csiszolófej tartozék készlet (73415)</td><td><img src=\"https://static11.edstatic.net/product_images/535x400/resize/mini-koszoro_082a020a.jpg?v=14\"  width=\"130\"><br/><a href=\"https://click.edigital.hu/multigepekhez/mini-koszoru-csiszolo-es-polirozofej-tartozek-keszlet-73416-p360238\">10101</a></br>Mini köszörű-, csiszoló- és polírozófej tartozék készlet (73416)</td></tr><tr><th style=\"text-align:center\"><img src=\"https://static9.edstatic.net/product_images/535x400/resize/hm-2000a_9vjc44f2.jpg?v=1\" width=\"130\"><br/><a href=\"https://click.edigital.hu/hajszarito/hausmeister-hm2001-hajszarito-p445464\">37500</a></br>Hausmeister HM2001 hajszárító</th><td style=\"background-color:black;\"></td><td><img src=\"//static9.edstatic.net/product_images/535x400/resize/imgw_gtf18rgr.jpg?v=1\"  width=\"130\"><br/><a href=\"https://click.edigital.hu/konyhai-kiegeszitok/renberg-edenyszarito-allvany-rb-4323-p440936\">2367</a></br>Renberg Edényszárító állvány RB-4323</td><td><img src=\"//static11.edstatic.net/product_images/535x400/resize/western-digital-wd4003fzex-black-4tb-merevlemez_76fdc3b8.jpg?v=14\"  width=\"130\"><br/><a href=\"https://click.edigital.hu/belso-merevlemez/wd-black-35-4tb-merevlemez-wd4003fzex-western-digital-p293415\">12510</a></br>WD Black 3,5\" 4TB merevlemez - WD4003FZEX (Western Digital)</td><td><img src=\"//static9.edstatic.net/product_images/535x400/resize/soundmaster-tr85be-703-2-mid3-72dpi_aj4p227a.jpg?v=1\"  width=\"130\"><br/><a href=\"https://click.edigital.hu/radio/soundmaster-tr-85be-retro-taskaradio-mubor-bevonattal-bezs-p413049\">36872</a></br>Soundmaster TR-85BE Retro táskarádió műbőr bevonattal, bézs</td><td><img src=\"https://static9.edstatic.net/product_images/535x400/resize/lenspen-original-nlp-2-gumirozott-boritassal-1-cserefejjel_1d430199.jpg?v=14\"  width=\"130\"><br/><a href=\"https://click.edigital.hu/tisztitoszer/lenspen-original-nlp-2-tisztitoceruza-gumirozott-boritassal-1-cserefejjel-p221214\">28682</a></br>Lenspen Original NLP-2 tisztítóceruza gumírozott borítással + 1 cserefejjel</td><td><img src=\"//static11.edstatic.net/product_images/535x400/resize/samsung-level-box-mini-bluetooth-os-hangszoro-ezust_e22a215f.jpg?v=14\"  width=\"130\"><br/><a href=\"https://click.edigital.hu/hordozhato-hangfal/samsung-level-box-mini-bluetooth-os-hangszoro-ezust-p359763\">1632</a></br>Samsung Level Box mini Bluetooth-os hangszóró, ezüst</td><td><img src=\"https://static11.edstatic.net/product_images/535x400/resize/tok_zav3goc3.jpg?v=1\"  width=\"130\"><br/><a href=\"https://click.edigital.hu/tok-hatlap/cellularline-flap-essential-eco-bor-tok-iphone-55s-keszulekhez-feher-p524633\">45378</a></br>CellularLine Flap Essential eco-bőr tok iPhone 5/5S készülékhez, fehér</td></tr><tr><th style=\"text-align:center\"><img src=\"https://static11.edstatic.net/product_images/535x400/resize/sencor-sdc-100-retro-ora_feb927ae.jpg?v=14\" width=\"130\"><br/><a href=\"https://click.edigital.hu/ebresztoora/sencor-sdc-100-retro-ora-p383444\">19069</a></br>Sencor SDC 100 Retró óra</th><td style=\"background-color:black;\"></td><td><img src=\"https://static10.edstatic.net/product_images/535x400/resize/sencor-sdc-120-ebreszto_20f4e5df.jpg?v=14\"  width=\"130\"><br/><a href=\"https://click.edigital.hu/ebresztoora/sencor-sdc-120-ebreszto-ora-p383445\">15237</a></br>Sencor SDC 120 ébresztő óra</td><td><img src=\"https://static9.edstatic.net/product_images/535x400/resize/black-decker-kr705s32-utvefurogep-potfogantyuval-black-decker-a7216-32-reszes-tartozek-szett-tarolo-taska_6f0a259c.jpg?v=14\"  width=\"130\"><br/><a href=\"https://click.edigital.hu/utvefurogepek/black-decker-kr705s32-utvefurogep-potfogantyuval-black-decker-a7216-32-reszes-tartozek-szett-tarolo-taska-p397895\">3587</a></br>Black & Decker KR705S32 ütvefúrógép, pótfogantyúval + Black & Decker A7216 32 részes tartozék szett + tároló táska</td><td><img src=\"https://static9.edstatic.net/product_images/535x400/resize/xiaomi-redmi-4x-3gb-32gb-smartphone-gold-405462_fcyzo3n2.jpg?v=1\"  width=\"130\"><br/><a href=\"https://click.edigital.hu/okostelefon/xiaomi-redmi-4x-3gb32gb-dual-sim-kartyafuggetlen-okostelefon-arany-android-p506392\">33121</a></br>Xiaomi Redmi 4X 3GB/32GB Dual SIM kártyafüggetlen okostelefon, arany (Android)</td><td><img src=\"//static10.edstatic.net/product_images/535x400/resize/blaupunkt-crp8wh-projektoros-ebreszto_97bb934c.png?v=14\"  width=\"130\"><br/><a href=\"https://click.edigital.hu/radio/blaupunkt-crp8wh-projektoros-ebresztooras-radio-feher-szinben-p337877\">60923</a></br>Blaupunkt CRP8WH projektoros ébresztőórás rádió fehér színben</td><td><img src=\"https://static9.edstatic.net/product_images/535x400/resize/gg1_zsg9yk7o.jpg?v=1\"  width=\"130\"><br/><a href=\"https://click.edigital.hu/okostelefon/xiaomi-redmi-4x-3gb32gb-dual-sim-kartyafuggetlen-okostelefon-fekete-android-p501767\">36060</a></br>Xiaomi Redmi 4X 3GB/32GB Dual SIM kártyafüggetlen okostelefon, fekete (Android)</td><td><img src=\"https://static11.edstatic.net/product_images/535x400/resize/stick-google-chromecast-2-0-hdmi-streaming-media-player_8286be25.jpg?v=14\"  width=\"130\"><br/><a href=\"https://click.edigital.hu/multimedia-lejatszo-android-mini-pc/google-chromecast-20-hdmi-streaming-media-player-stick-p417088\">20190</a></br>Google Chromecast 2.0 HDMI Streaming Media Player Stick </td></tr><tr><th style=\"text-align:center\"><img src=\"https://static10.edstatic.net/product_images/535x400/resize/xiaomi-mi-band-2-black-01-14304-1464953726_igj3m2jz.jpeg?v=1\" width=\"130\"><br/><a href=\"https://click.edigital.hu/aktivitasmero-fitnesz-karpant/xiaomi-miband-2-aktivitasmero-karpant-pulzusmerovel-fekete-p464672\">33475</a></br>Xiaomi MiBand 2 aktivitásmérő karpánt pulzusmérővel, fekete</th><td style=\"background-color:black;\"></td><td><img src=\"https://static11.edstatic.net/product_images/535x400/resize/alcor-move-aktivitasmero-karpant-fekete_78736ca7.jpg?v=14\"  width=\"130\"><br/><a href=\"https://click.edigital.hu/aktivitasmero-fitnesz-karpant/alcor-move-aktivitasmero-karpant-fekete-p420735\">42784</a></br>Alcor Move aktivitásmérő karpánt, fekete</td><td><img src=\"https://static10.edstatic.net/product_images/535x400/resize/huawei-a1-color-band-fitness-aktivitasmero_4ian3pjh.jpg?v=1\"  width=\"130\"><br/><a href=\"https://click.edigital.hu/aktivitasmero-fitnesz-karpant/huawei-a1-band-okoskarkoto-fekete-p472698\">31498</a></br>Huawei A1 Band okoskarkötő, fekete</td><td><img src=\"https://static11.edstatic.net/product_images/535x400/resize/1-4_16yw9ok3.jpg?v=1\"  width=\"130\"><br/><a href=\"https://click.edigital.hu/okosora/honor-band-3-aktivitasmero-black-p511107\">46966</a></br>Honor Band 3 aktivitásmérő, Black</td><td><img src=\"https://static9.edstatic.net/product_images/535x400/resize/xiaomi-mi-band-2-fitness-karkoto-szij-piros_4ef53yy2.jpg?v=1\"  width=\"130\"><br/><a href=\"https://click.edigital.hu/kiegeszito/xiaomi-mi-band-2-fitness-karkoto-szij-piros-p524756\">37835</a></br>Xiaomi Mi Band 2 fitness karkötő szíj piros</td><td><img src=\"https://static11.edstatic.net/product_images/535x400/resize/52e0c383-ea5d-46a2-86b0-2d1c3c539d1b_5ipglkfc.jpg?v=1\"  width=\"130\"><br/><a href=\"https://click.edigital.hu/gepek/xbox-one-x-1tb-jatekkonzol-fekete-p527312\">35833</a></br>Xbox One X 1TB játékkonzol, fekete</td><td><img src=\"https://static9.edstatic.net/product_images/535x400/resize/screenshot-2_ni2e48a6.png?v=1\"  width=\"130\"><br/><a href=\"https://click.edigital.hu/kiegeszito/xiaomi-mi-band-2-fitness-karkoto-szij-rozsaszin-p524757\">53571</a></br>Xiaomi Mi Band 2 fitness karkötő szíj rózsaszín</td></tr><tr><th style=\"text-align:center\"><img src=\"https://static11.edstatic.net/product_images/535x400/resize/myzefit3tjpg_w6t0lnyq.jpeg?v=1\" width=\"130\"><br/><a href=\"https://click.edigital.hu/aktivitasmero-fitnesz-karpant/mykronoz-zefit-3-okosora-turkiz-fekete-p470718\">19087</a></br>MyKronoz ZeFit 3 okosóra, türkiz-fekete</th><td style=\"background-color:black;\"></td><td><img src=\"https://static10.edstatic.net/product_images/535x400/resize/myzefit3hrbr_ael95so9.jpeg?v=1\"  width=\"130\"><br/><a href=\"https://click.edigital.hu/aktivitasmero-fitnesz-karpant/mykronoz-zefit-3-heartrate-okosora-arany-barna-p470721\">44238</a></br>MyKronoz ZeFit 3 Heartrate okosóra, arany-barna</td><td><img src=\"https://static10.edstatic.net/product_images/535x400/resize/huawei-a1-color-band-fitness-aktivitasmero_4ian3pjh.jpg?v=1\"  width=\"130\"><br/><a href=\"https://click.edigital.hu/aktivitasmero-fitnesz-karpant/huawei-a1-band-okoskarkoto-fekete-p472698\">31498</a></br>Huawei A1 Band okoskarkötő, fekete</td><td><img src=\"https://static11.edstatic.net/product_images/535x400/resize/alcor-move-aktivitasmero-karpant-fekete_78736ca7.jpg?v=14\"  width=\"130\"><br/><a href=\"https://click.edigital.hu/aktivitasmero-fitnesz-karpant/alcor-move-aktivitasmero-karpant-fekete-p420735\">42784</a></br>Alcor Move aktivitásmérő karpánt, fekete</td><td><img src=\"https://static11.edstatic.net/product_images/535x400/resize/samsung-gear-s3-frontier-multifunkcne-hodinky-carbonblack-big-358033_7vym1qhf.jpg?v=1\"  width=\"130\"><br/><a href=\"https://click.edigital.hu/okosora/samsung-gear-s3-frontier-okosora-fekete-p477133\">69021</a></br>Samsung Gear S3 Frontier okosóra, fekete</td><td><img src=\"https://static10.edstatic.net/product_images/535x400/resize/lg-g-watch-r-okosora-fekete_f094cda7.jpg?v=14\"  width=\"130\"><br/><a href=\"https://click.edigital.hu/okosora/lg-g-watch-r-okosora-fekete-p337517\">45834</a></br>LG G Watch R okosóra, fekete</td><td><img src=\"https://static10.edstatic.net/product_images/535x400/resize/technaxx-tx-38-fitnesz-karpant-fekete_672e404c.jpg?v=14\"  width=\"130\"><br/><a href=\"https://click.edigital.hu/aktivitasmero-fitnesz-karpant/technaxx-tx-38-fitnesz-karpant-fekete-p401246\">21730</a></br>Technaxx TX-38 fitnesz karpánt, fekete</td></tr><tr><th style=\"text-align:center\"><img src=\"https://static11.edstatic.net/product_images/535x400/resize/tiziano-zanini-a-bonszaj_ee50a006.jpg?v=14\" width=\"130\"><br/><a href=\"https://click.edigital.hu/egyeb/tiziano-zanini-bonszaj-p101928\">52392</a></br>Tiziano Zanini - A bonszaj</th><td style=\"background-color:black;\"></td><td><img src=\"https://static9.edstatic.net/product_images/535x400/resize/gg1_zsg9yk7o.jpg?v=1\"  width=\"130\"><br/><a href=\"https://click.edigital.hu/okostelefon/xiaomi-redmi-4x-3gb32gb-dual-sim-kartyafuggetlen-okostelefon-fekete-android-p501767\">36060</a></br>Xiaomi Redmi 4X 3GB/32GB Dual SIM kártyafüggetlen okostelefon, fekete (Android)</td><td><img src=\"https://static11.edstatic.net/product_images/535x400/resize/52e0c383-ea5d-46a2-86b0-2d1c3c539d1b_5ipglkfc.jpg?v=1\"  width=\"130\"><br/><a href=\"https://click.edigital.hu/gepek/xbox-one-x-1tb-jatekkonzol-fekete-p527312\">35833</a></br>Xbox One X 1TB játékkonzol, fekete</td><td><img src=\"https://static9.edstatic.net/product_images/535x400/resize/xiaomi-redmi-4x-3gb-32gb-smartphone-gold-405462_fcyzo3n2.jpg?v=1\"  width=\"130\"><br/><a href=\"https://click.edigital.hu/okostelefon/xiaomi-redmi-4x-3gb32gb-dual-sim-kartyafuggetlen-okostelefon-arany-android-p506392\">33121</a></br>Xiaomi Redmi 4X 3GB/32GB Dual SIM kártyafüggetlen okostelefon, arany (Android)</td><td><img src=\"https://static11.edstatic.net/product_images/535x400/resize/lenovo-vibe-s1-lite-dual-sim-kartyafuggetlen-okostelefon-blue-android_fc8631bb.jpg?v=14\"  width=\"130\"><br/><a href=\"https://click.edigital.hu/okostelefon/lenovo-vibe-s1-lite-kartyafuggetlen-okostelefon-blue-android-p516026\">52750</a></br>Lenovo Vibe S1 Lite kártyafüggetlen okostelefon, Blue (Android)</td><td><img src=\"https://static9.edstatic.net/product_images/535x400/resize/3310-dark-blue_q929xgzu.jpg?v=1\"  width=\"130\"><br/><a href=\"https://click.edigital.hu/hagyomanyos-keszulekek/nokia-3310-dual-sim-kartyafuggetlen-mobiltelefon-dark-blue-p505079\">22298</a></br>Nokia 3310 Dual SIM kártyafüggetlen mobiltelefon, Dark Blue</td><td><img src=\"https://static11.edstatic.net/product_images/535x400/resize/screenshot-6_yok38oja.png?v=1\"  width=\"130\"><br/><a href=\"https://click.edigital.hu/okostelefon/samsung-a520-galaxy-a5-2017-kartyafuggetlen-okostelefon-black-android-p477165\">37156</a></br>Samsung A520 Galaxy A5 (2017) kártyafüggetlen okostelefon, Black (Android)</td></tr><tr><th style=\"text-align:center\"><img src=\"https://static10.edstatic.net/product_images/535x400/resize/legendasallatokesmegfigyelesukjpg_7yrg5akc.jpeg?v=1\" width=\"130\"><br/><a href=\"https://click.edigital.hu/fantasy/j-k-rowling-legendas-allatok-es-megfigyelesuk-p509348\">28832</a></br>J. K. Rowling - Legendás állatok és megfigyelésük</th><td style=\"background-color:black;\"></td><td><img src=\"//static10.edstatic.net/product_images/535x400/resize/malmsten-tg-edzo_8eddaa9b.jpg?v=14\"  width=\"130\"><br/><a href=\"https://click.edigital.hu/uszoszemuveg/malmsten-tg-edzo-uszoszemuveg-piros-mn-21111-p336901\">56439</a></br>Malmsten TG edző úszószemüveg, piros (MN-21111)  </td><td><img src=\"https://static9.edstatic.net/product_images/535x400/resize/screenshot-1033_iage1ruu.jpg?v=1\"  width=\"130\"><br/><a href=\"https://click.edigital.hu/hajformazok/remington-cb7400-hajsimito-kefe-elektromos-keramia-bevonattal-p462281\">61502</a></br>Remington CB7400  Hajsimító kefe (elektromos), kerámia bevonattal</td><td><img src=\"https://static10.edstatic.net/product_images/535x400/resize/hama-szilikon-fulhallgato-potgyuru-3-meretben_9a51646f.jpg?v=14\"  width=\"130\"><br/><a href=\"https://click.edigital.hu/fulhallgato/hama-szilikon-fulhallgato-potgyuru-3-meretben-p44989\">14008</a></br> Hama szilikon fülhallgató pótgyűrű (3 méretben)</td><td><img src=\"https://static11.edstatic.net/product_images/535x400/resize/lg-ag-f310dp-dual-play-szemuveg_66905250.jpg?v=14\"  width=\"130\"><br/><a href=\"https://click.edigital.hu/3d-szemuveg/lg-ag-f310dp-dual-play-szemuveg-p210122\">4560</a></br>LG AG-F310DP DUAL PLAY szemüveg</td><td><img src=\"https://static10.edstatic.net/product_images/535x400/resize/philips-dvt1200-4gb-diktafon_fc5f8438.jpg?v=14\"  width=\"130\"><br/><a href=\"https://click.edigital.hu/diktafon/philips-dvt1200-4gb-diktafon-p385357\">29705</a></br>Philips DVT1200 4GB diktafon</td><td><img src=\"https://static9.edstatic.net/product_images/535x400/resize/64433_glt4diz1.jpg?v=1\"  width=\"130\"><br/><a href=\"https://click.edigital.hu/tok-hatlap/gigapack-allo-bor-tok-huawei-p9-lite-2016-keszulekhez-fekete-p432747\">25882</a></br>Gigapack álló bőr tok Huawei P9 lite (2016) készülékhez, fekete</td></tr><tr><th style=\"text-align:center\"><img src=\"https://static9.edstatic.net/product_images/535x400/resize/patrick-rothfuss-a-bolcs-ember-felelme_8f48f43e.jpg?v=14\" width=\"130\"><br/><a href=\"https://click.edigital.hu/fantasy/patrick-rothfuss-bolcs-ember-felelme-9789636895198-p177593\">49190</a></br>Patrick Rothfuss - A bölcs ember félelme (9789636895198)</th><td style=\"background-color:black;\"></td><td><img src=\"https://static9.edstatic.net/product_images/535x400/resize/screenshot-1033_iage1ruu.jpg?v=1\"  width=\"130\"><br/><a href=\"https://click.edigital.hu/hajformazok/remington-cb7400-hajsimito-kefe-elektromos-keramia-bevonattal-p462281\">61502</a></br>Remington CB7400  Hajsimító kefe (elektromos), kerámia bevonattal</td><td><img src=\"https://static9.edstatic.net/product_images/535x400/resize/gillette-fusion-proglide-power-cartridge-00908-zoom_ey07b4bg.jpg?v=2\"  width=\"130\"><br/><a href=\"https://click.edigital.hu/ferfi-borotva/gillette-fusion-proglide-power-5-penges-borotvabetet-4db-p462885\">62781</a></br>Gillette Fusion ProGlide Power 5 pengés borotvabetét (4db)</td><td><img src=\"https://static9.edstatic.net/product_images/535x400/resize/sthc01702bl_80rah0p7.jpg?v=1\"  width=\"130\"><br/><a href=\"https://click.edigital.hu/multifunkcios-etetoszek/chipolino-comfort-plus-multifunkcios-etetoszek-kek-p520045\">68630</a></br>Chipolino Comfort Plus multifunkciós etetőszék, kék</td><td><img src=\"//static10.edstatic.net/product_images/535x400/resize/malmsten-tg-edzo_8eddaa9b.jpg?v=14\"  width=\"130\"><br/><a href=\"https://click.edigital.hu/uszoszemuveg/malmsten-tg-edzo-uszoszemuveg-piros-mn-21111-p336901\">56439</a></br>Malmsten TG edző úszószemüveg, piros (MN-21111)  </td><td><img src=\"https://static11.edstatic.net/product_images/535x400/resize/funscreen-rollo-1-1-244-244-vetitovaszon_06926735.jpg?v=14\"  width=\"130\"><br/><a href=\"https://click.edigital.hu/vetitovaszon/funscreen-rollo-11-244244-vetitovaszon-p65672\">10405</a></br>Funscreen Rollo 1:1 244*244 vetítővászon </td><td><img src=\"//static10.edstatic.net/product_images/535x400/resize/vacu-vin-popsome-tarolo-adagolo-0-5l-lila_603afdeb.jpg?v=14\"  width=\"130\"><br/><a href=\"https://click.edigital.hu/boraszati-es-konyhai-kellekek/tomorrows-kitchen-popsome-05l-es-tarolo-adagolo-lila-p385868\">50987</a></br>Tomorrow`s Kitchen PopSome 0,5L-es tároló-adagoló, lila</td></tr><tr><th style=\"text-align:center\"><img src=\"https://static10.edstatic.net/product_images/535x400/resize/daniel-o-malley-a-bastya_83b2c28e.jpg?v=14\" width=\"130\"><br/><a href=\"https://click.edigital.hu/fantasy/daniel-omalley-bastya-kemeny-kotes-p404710\">50073</a></br>Daniel O`Malley - A bástya - (kemény kötés)</th><td style=\"background-color:black;\"></td><td><img src=\"https://static9.edstatic.net/product_images/535x400/resize/screenshot-1033_iage1ruu.jpg?v=1\"  width=\"130\"><br/><a href=\"https://click.edigital.hu/hajformazok/remington-cb7400-hajsimito-kefe-elektromos-keramia-bevonattal-p462281\">61502</a></br>Remington CB7400  Hajsimító kefe (elektromos), kerámia bevonattal</td><td><img src=\"https://static9.edstatic.net/product_images/535x400/resize/sthc01702bl_80rah0p7.jpg?v=1\"  width=\"130\"><br/><a href=\"https://click.edigital.hu/multifunkcios-etetoszek/chipolino-comfort-plus-multifunkcios-etetoszek-kek-p520045\">68630</a></br>Chipolino Comfort Plus multifunkciós etetőszék, kék</td><td><img src=\"//static11.edstatic.net/product_images/535x400/resize/screenshot-144_0nprqdm8.jpg?v=1\"  width=\"130\"><br/><a href=\"https://click.edigital.hu/asztal/domus-135x80cm-es-etkezoasztal-wenge-20724573-p487581\">16112</a></br>Domus 135x80cm-es étkezőasztal, wenge (20724573)</td><td><img src=\"//static10.edstatic.net/product_images/535x400/resize/malmsten-tg-edzo_8eddaa9b.jpg?v=14\"  width=\"130\"><br/><a href=\"https://click.edigital.hu/uszoszemuveg/malmsten-tg-edzo-uszoszemuveg-piros-mn-21111-p336901\">56439</a></br>Malmsten TG edző úszószemüveg, piros (MN-21111)  </td><td><img src=\"https://static10.edstatic.net/product_images/535x400/resize/samsung-wd80j5410aw-le-moso-szaritogep_f296d248.png?v=14\"  width=\"130\"><br/><a href=\"https://click.edigital.hu/eloltoltos-mosogep/samsung-wd80j5410awle-moso-szaritogep-p409967\">17406</a></br>Samsung WD80J5410AW/LE mosó szárítógép </td><td><img src=\"https://static9.edstatic.net/product_images/535x400/resize/mega-bloks-bobby-barn-zenelo-farm-jatekszett_670afbe0.jpg?v=14\"  width=\"130\"><br/><a href=\"https://click.edigital.hu/epito/mega-bloks-bobby-barn-zenelo-farm-jatekszett-p415960\">66079</a></br>Mega Bloks Bobby Barn zenélő farm játékszett</td></tr><tr><th style=\"text-align:center\"><img src=\"https://static11.edstatic.net/product_images/535x400/resize/friedrich-nietzsche-hajnalpir-gondolatok-a-moralis-elo_33192550.jpg?v=14\" width=\"130\"><br/><a href=\"https://click.edigital.hu/egyeb/friedrich-nietzsche-hajnalpir-gondolatok-moralis-eloiteletekrol-p105021\">56782</a></br>Friedrich Nietzsche - Hajnalpír - Gondolatok a morális előítéletekről</th><td style=\"background-color:black;\"></td><td><img src=\"https://static9.edstatic.net/product_images/535x400/resize/screenshot-1033_iage1ruu.jpg?v=1\"  width=\"130\"><br/><a href=\"https://click.edigital.hu/hajformazok/remington-cb7400-hajsimito-kefe-elektromos-keramia-bevonattal-p462281\">61502</a></br>Remington CB7400  Hajsimító kefe (elektromos), kerámia bevonattal</td><td><img src=\"//static10.edstatic.net/product_images/535x400/resize/malmsten-tg-edzo_8eddaa9b.jpg?v=14\"  width=\"130\"><br/><a href=\"https://click.edigital.hu/uszoszemuveg/malmsten-tg-edzo-uszoszemuveg-piros-mn-21111-p336901\">56439</a></br>Malmsten TG edző úszószemüveg, piros (MN-21111)  </td><td><img src=\"https://static11.edstatic.net/product_images/535x400/resize/1_ngvbmarc.png?v=1\"  width=\"130\"><br/><a href=\"https://click.edigital.hu/tarto-konzol/mefoto-mk10-selfie-allvany-piros-p511220\">42304</a></br>MeFoto MK10 Selfie állvány, piros</td><td><img src=\"//static11.edstatic.net/product_images/535x400/resize/screenshot-144_0nprqdm8.jpg?v=1\"  width=\"130\"><br/><a href=\"https://click.edigital.hu/asztal/domus-135x80cm-es-etkezoasztal-wenge-20724573-p487581\">16112</a></br>Domus 135x80cm-es étkezőasztal, wenge (20724573)</td><td><img src=\"https://static9.edstatic.net/product_images/535x400/resize/sthc01702bl_80rah0p7.jpg?v=1\"  width=\"130\"><br/><a href=\"https://click.edigital.hu/multifunkcios-etetoszek/chipolino-comfort-plus-multifunkcios-etetoszek-kek-p520045\">68630</a></br>Chipolino Comfort Plus multifunkciós etetőszék, kék</td><td><img src=\"https://static9.edstatic.net/product_images/535x400/resize/perfect-home-28234-mosozsak-2-db-os_75b02eab.jpg?v=14\"  width=\"130\"><br/><a href=\"https://click.edigital.hu/konyhai-kiegeszitok/perfect-home-28234-mosozsak-2-db-os-p388990\">42928</a></br>Perfect Home 28234 mosózsák 2 db-os</td></tr><tr><th style=\"text-align:center\"><img src=\"https://static9.edstatic.net/product_images/535x400/resize/sigmund-freud-bevezetes-a-pszichoanalizisbe_72c079ed.jpg?v=14\" width=\"130\"><br/><a href=\"https://click.edigital.hu/szemelyisegpszichologia/sigmund-freud-bevezetes-pszichoanalizisbe-9789639635333-p87292\">51620</a></br>Sigmund Freud - Bevezetés a pszichoanalízisbe (9789639635333)</th><td style=\"background-color:black;\"></td><td><img src=\"https://static10.edstatic.net/product_images/535x400/resize/feher30_xl5f8er5.jpg?v=1\"  width=\"130\"><br/><a href=\"https://click.edigital.hu/husdaralo/zelmer-zmm2008x-husdaralo-p488088\">69366</a></br>Zelmer ZMM2008X Húsdaráló</td><td><img src=\"https://static9.edstatic.net/product_images/535x400/resize/screenshot-1033_iage1ruu.jpg?v=1\"  width=\"130\"><br/><a href=\"https://click.edigital.hu/hajformazok/remington-cb7400-hajsimito-kefe-elektromos-keramia-bevonattal-p462281\">61502</a></br>Remington CB7400  Hajsimító kefe (elektromos), kerámia bevonattal</td><td><img src=\"https://static10.edstatic.net/product_images/535x400/resize/hama-szilikon-fulhallgato-potgyuru-3-meretben_9a51646f.jpg?v=14\"  width=\"130\"><br/><a href=\"https://click.edigital.hu/fulhallgato/hama-szilikon-fulhallgato-potgyuru-3-meretben-p44989\">14008</a></br> Hama szilikon fülhallgató pótgyűrű (3 méretben)</td><td><img src=\"https://static10.edstatic.net/product_images/535x400/resize/philips-dvt1200-4gb-diktafon_fc5f8438.jpg?v=14\"  width=\"130\"><br/><a href=\"https://click.edigital.hu/diktafon/philips-dvt1200-4gb-diktafon-p385357\">29705</a></br>Philips DVT1200 4GB diktafon</td><td><img src=\"https://static10.edstatic.net/product_images/535x400/resize/10100171714_ceuj1er0.jpg?v=1\"  width=\"130\"><br/><a href=\"https://click.edigital.hu/multifunkcios-etetoszek/lorelli-yam-yam-etetoszek-zold-car-p520303\">45515</a></br>Lorelli Yam Yam etetőszék, zöld Car </td><td><img src=\"https://static9.edstatic.net/product_images/535x400/resize/gillette-fusion-proglide-power-cartridge-00908-zoom_ey07b4bg.jpg?v=2\"  width=\"130\"><br/><a href=\"https://click.edigital.hu/ferfi-borotva/gillette-fusion-proglide-power-5-penges-borotvabetet-4db-p462885\">62781</a></br>Gillette Fusion ProGlide Power 5 pengés borotvabetét (4db)</td></tr><tr><th style=\"text-align:center\"><img src=\"https://static9.edstatic.net/product_images/535x400/resize/sigmund-freud-a-mindennapi-elet-pszichopatologiaja_fd1e40de.jpg?v=14\" width=\"130\"><br/><a href=\"https://click.edigital.hu/szemelyisegpszichologia/sigmund-freud-mindennapi-elet-pszichopatologiaja-9789639635340-p87534\">25616</a></br>Sigmund Freud - A mindennapi élet pszichopatológiája (9789639635340)</th><td style=\"background-color:black;\"></td><td><img src=\"https://static9.edstatic.net/product_images/535x400/resize/screenshot-1033_iage1ruu.jpg?v=1\"  width=\"130\"><br/><a href=\"https://click.edigital.hu/hajformazok/remington-cb7400-hajsimito-kefe-elektromos-keramia-bevonattal-p462281\">61502</a></br>Remington CB7400  Hajsimító kefe (elektromos), kerámia bevonattal</td><td><img src=\"https://static10.edstatic.net/product_images/535x400/resize/hama-szilikon-fulhallgato-potgyuru-3-meretben_9a51646f.jpg?v=14\"  width=\"130\"><br/><a href=\"https://click.edigital.hu/fulhallgato/hama-szilikon-fulhallgato-potgyuru-3-meretben-p44989\">14008</a></br> Hama szilikon fülhallgató pótgyűrű (3 méretben)</td><td><img src=\"https://static9.edstatic.net/product_images/535x400/resize/52_dj08uvea.png?v=1\"  width=\"130\"><br/><a href=\"https://click.edigital.hu/erinto-ceruza-stylus/leitz-stylus-4-az-1-ben-erintotoll-fekete-p430852\">67477</a></br>Leitz Stylus 4-az-1-ben érintőtoll, fekete</td><td><img src=\"https://static10.edstatic.net/product_images/535x400/resize/philips-dvt1200-4gb-diktafon_fc5f8438.jpg?v=14\"  width=\"130\"><br/><a href=\"https://click.edigital.hu/diktafon/philips-dvt1200-4gb-diktafon-p385357\">29705</a></br>Philips DVT1200 4GB diktafon</td><td><img src=\"https://static9.edstatic.net/product_images/535x400/resize/sthc01702bl_80rah0p7.jpg?v=1\"  width=\"130\"><br/><a href=\"https://click.edigital.hu/multifunkcios-etetoszek/chipolino-comfort-plus-multifunkcios-etetoszek-kek-p520045\">68630</a></br>Chipolino Comfort Plus multifunkciós etetőszék, kék</td><td><img src=\"https://static11.edstatic.net/product_images/535x400/resize/nerf-n-strike-modulus-ecs-10-szivacslovo_0134694f.jpg?v=14\"  width=\"130\"><br/><a href=\"https://click.edigital.hu/fegyverek/nerf-n-strike-modulus-ecs-10-szivacslovo-keszlet-p393956\">53948</a></br>Nerf N-Strike Modulus ECS-10 szivacslövő készlet</td></tr><tr><th style=\"text-align:center\"><img src=\"https://static9.edstatic.net/product_images/535x400/resize/beaugrande-r-dressler-w-bevezetes-a-szovegnyelveszetbe_8e6bf234.jpg?v=14\" width=\"130\"><br/><a href=\"https://click.edigital.hu/nyelveszet/beaugrande-r-dressler-w-bevezetes-szovegnyelveszetbe-p74428\">64505</a></br>Beaugrande, R.-Dressler, W. - Bevezetés a szövegnyelvészetbe</th><td style=\"background-color:black;\"></td><td><img src=\"https://static9.edstatic.net/product_images/535x400/resize/screenshot-1033_iage1ruu.jpg?v=1\"  width=\"130\"><br/><a href=\"https://click.edigital.hu/hajformazok/remington-cb7400-hajsimito-kefe-elektromos-keramia-bevonattal-p462281\">61502</a></br>Remington CB7400  Hajsimító kefe (elektromos), kerámia bevonattal</td><td><img src=\"https://static9.edstatic.net/product_images/535x400/resize/sthc01702bl_80rah0p7.jpg?v=1\"  width=\"130\"><br/><a href=\"https://click.edigital.hu/multifunkcios-etetoszek/chipolino-comfort-plus-multifunkcios-etetoszek-kek-p520045\">68630</a></br>Chipolino Comfort Plus multifunkciós etetőszék, kék</td><td><img src=\"https://static9.edstatic.net/product_images/535x400/resize/mega-bloks-bobby-barn-zenelo-farm-jatekszett_670afbe0.jpg?v=14\"  width=\"130\"><br/><a href=\"https://click.edigital.hu/epito/mega-bloks-bobby-barn-zenelo-farm-jatekszett-p415960\">66079</a></br>Mega Bloks Bobby Barn zenélő farm játékszett</td><td><img src=\"https://static11.edstatic.net/product_images/535x400/resize/funscreen-rollo-1-1-244-244-vetitovaszon_06926735.jpg?v=14\"  width=\"130\"><br/><a href=\"https://click.edigital.hu/vetitovaszon/funscreen-rollo-11-244244-vetitovaszon-p65672\">10405</a></br>Funscreen Rollo 1:1 244*244 vetítővászon </td><td><img src=\"//static10.edstatic.net/product_images/535x400/resize/vacu-vin-popsome-tarolo-adagolo-0-5l-lila_603afdeb.jpg?v=14\"  width=\"130\"><br/><a href=\"https://click.edigital.hu/boraszati-es-konyhai-kellekek/tomorrows-kitchen-popsome-05l-es-tarolo-adagolo-lila-p385868\">50987</a></br>Tomorrow`s Kitchen PopSome 0,5L-es tároló-adagoló, lila</td><td><img src=\"//static9.edstatic.net/product_images/535x400/resize/arctic-cooling-mx-2-hovezeto-paszta-4g_45ecf135.jpg?v=14\"  width=\"130\"><br/><a href=\"https://click.edigital.hu/egyeb-szamitastechnikai-kabel-atalakito/arctic-cooling-mx-2-hovezeto-paszta-4g-p41720\">38901</a></br>Arctic Cooling MX-2 hővezető paszta 4g</td></tr><tr><th style=\"text-align:center\"><img src=\"https://static11.edstatic.net/product_images/535x400/resize/legendasallatokesmegfigyelesukazeredetiforgatokonyvjpg_gl3f9kwu.jpeg?v=1\" width=\"130\"><br/><a href=\"https://click.edigital.hu/gyermek-es-ifjusagi/j-k-rowling-legendas-allatok-es-megfigyelesuk-az-eredeti-forgatokonyv-p489373\">14974</a></br>J. K. Rowling - Legendás állatok és megfigyelésük - Az eredeti forgatókönyv</th><td style=\"background-color:black;\"></td><td><img src=\"https://static9.edstatic.net/product_images/535x400/resize/screenshot-1033_iage1ruu.jpg?v=1\"  width=\"130\"><br/><a href=\"https://click.edigital.hu/hajformazok/remington-cb7400-hajsimito-kefe-elektromos-keramia-bevonattal-p462281\">61502</a></br>Remington CB7400  Hajsimító kefe (elektromos), kerámia bevonattal</td><td><img src=\"//static10.edstatic.net/product_images/535x400/resize/malmsten-tg-edzo_8eddaa9b.jpg?v=14\"  width=\"130\"><br/><a href=\"https://click.edigital.hu/uszoszemuveg/malmsten-tg-edzo-uszoszemuveg-piros-mn-21111-p336901\">56439</a></br>Malmsten TG edző úszószemüveg, piros (MN-21111)  </td><td><img src=\"https://static9.edstatic.net/product_images/535x400/resize/sthc01702bl_80rah0p7.jpg?v=1\"  width=\"130\"><br/><a href=\"https://click.edigital.hu/multifunkcios-etetoszek/chipolino-comfort-plus-multifunkcios-etetoszek-kek-p520045\">68630</a></br>Chipolino Comfort Plus multifunkciós etetőszék, kék</td><td><img src=\"https://static10.edstatic.net/product_images/535x400/resize/81byshbmt2l-sl1500_wza9txyd.jpg?v=1\"  width=\"130\"><br/><a href=\"https://click.edigital.hu/eszkoz/razor-power-core-e90-rozsaszin-p499759\">25680</a></br>Razor - Power Core E90, rózsaszín</td><td><img src=\"//static11.edstatic.net/product_images/535x400/resize/screenshot-144_0nprqdm8.jpg?v=1\"  width=\"130\"><br/><a href=\"https://click.edigital.hu/asztal/domus-135x80cm-es-etkezoasztal-wenge-20724573-p487581\">16112</a></br>Domus 135x80cm-es étkezőasztal, wenge (20724573)</td><td><img src=\"https://static11.edstatic.net/product_images/535x400/resize/funscreen-rollo-1-1-244-244-vetitovaszon_06926735.jpg?v=14\"  width=\"130\"><br/><a href=\"https://click.edigital.hu/vetitovaszon/funscreen-rollo-11-244244-vetitovaszon-p65672\">10405</a></br>Funscreen Rollo 1:1 244*244 vetítővászon </td></tr><tr><th style=\"text-align:center\"><img src=\"https://static9.edstatic.net/product_images/535x400/resize/igykeszulnektedeladasokjpg_d6h3e0cj.jpeg?v=1\" width=\"130\"><br/><a href=\"https://click.edigital.hu/kommunikacio-targyalastechnika/chris-anderson-igy-keszulnek-ted-eloadasok-p478022\">48835</a></br>Chris Anderson - Így készülnek a TED-előadások</th><td style=\"background-color:black;\"></td><td><img src=\"https://static9.edstatic.net/product_images/535x400/resize/screenshot-1033_iage1ruu.jpg?v=1\"  width=\"130\"><br/><a href=\"https://click.edigital.hu/hajformazok/remington-cb7400-hajsimito-kefe-elektromos-keramia-bevonattal-p462281\">61502</a></br>Remington CB7400  Hajsimító kefe (elektromos), kerámia bevonattal</td><td><img src=\"//static10.edstatic.net/product_images/535x400/resize/malmsten-tg-edzo_8eddaa9b.jpg?v=14\"  width=\"130\"><br/><a href=\"https://click.edigital.hu/uszoszemuveg/malmsten-tg-edzo-uszoszemuveg-piros-mn-21111-p336901\">56439</a></br>Malmsten TG edző úszószemüveg, piros (MN-21111)  </td><td><img src=\"https://static9.edstatic.net/product_images/535x400/resize/gillette-fusion-proglide-power-cartridge-00908-zoom_ey07b4bg.jpg?v=2\"  width=\"130\"><br/><a href=\"https://click.edigital.hu/ferfi-borotva/gillette-fusion-proglide-power-5-penges-borotvabetet-4db-p462885\">62781</a></br>Gillette Fusion ProGlide Power 5 pengés borotvabetét (4db)</td><td><img src=\"https://static10.edstatic.net/product_images/535x400/resize/samsung-wd80j5410aw-le-moso-szaritogep_f296d248.png?v=14\"  width=\"130\"><br/><a href=\"https://click.edigital.hu/eloltoltos-mosogep/samsung-wd80j5410awle-moso-szaritogep-p409967\">17406</a></br>Samsung WD80J5410AW/LE mosó szárítógép </td><td><img src=\"https://static10.edstatic.net/product_images/535x400/resize/philips-dvt1200-4gb-diktafon_fc5f8438.jpg?v=14\"  width=\"130\"><br/><a href=\"https://click.edigital.hu/diktafon/philips-dvt1200-4gb-diktafon-p385357\">29705</a></br>Philips DVT1200 4GB diktafon</td><td><img src=\"https://static10.edstatic.net/product_images/535x400/resize/hama-szilikon-fulhallgato-potgyuru-3-meretben_9a51646f.jpg?v=14\"  width=\"130\"><br/><a href=\"https://click.edigital.hu/fulhallgato/hama-szilikon-fulhallgato-potgyuru-3-meretben-p44989\">14008</a></br> Hama szilikon fülhallgató pótgyűrű (3 méretben)</td></tr></table>"
      ],
      "text/plain": [
       "<IPython.core.display.HTML object>"
      ]
     },
     "metadata": {},
     "output_type": "display_data"
    }
   ],
   "source": [
    "from IPython.core.display import display as core_display\n",
    "from IPython.core.display import HTML \n",
    "\n",
    "def product_to_url(product):\n",
    "    try:\n",
    "        return [product] + product_map[list(product_idxs)[product]]\n",
    "    except KeyError:\n",
    "        return [product,'http://www.lackuna.com/wp-content/themes/fearless/images/missing-image-640x360.png','UNKNOWN','']\n",
    "\n",
    "def display_session(session):\n",
    "    products = list(map(product_to_url, session))\n",
    "    predictions = model.predict([session])\n",
    "    html = '<table>'\n",
    "    seen = set()\n",
    "    for i,product in enumerate(products):\n",
    "        html += '<tr>'\n",
    "        html += '<th style=\"text-align:center\">'\n",
    "        html += '<img src=\"' + product[1] + '\" width=\"130\"><br/>' \n",
    "        html += '<a href=\"'+str(product[3])+'\">' + str(product[0]) + '</a></br>' + str(product[2])\n",
    "        html += '</th><td style=\"background-color:black;\"></td>'\n",
    "        top_idx = list(np.argsort(predictions[i][0])[::-1])\n",
    "        seen.add(product[0])\n",
    "        \n",
    "        j = 0\n",
    "        for pred in top_idx:\n",
    "            if pred in seen:\n",
    "                continue\n",
    "                                \n",
    "            if i < len(products) - 1 and pred == products[i+1][0]:\n",
    "                style = 'style=\"border:3px dashed red;\"'\n",
    "            else:\n",
    "                style = ''\n",
    "                \n",
    "            pred_data = product_to_url(pred)\n",
    "            html += '<td><img src=\"' + pred_data[1] + '\" '+style+' width=\"130\"><br/>' \n",
    "            html += '<a href=\"'+str(pred_data[3]) + '\">' +str(pred_data[0]) + '</a></br>' + str(pred_data[2]) + '</td>'\n",
    "            j+=1\n",
    "            if j > 5:\n",
    "                break\n",
    "                \n",
    "        html += '</tr>'\n",
    "    html += '</table>'\n",
    "\n",
    "    core_display(HTML(html))\n",
    "\n",
    "display_session(random.choice(random.choice(user_valid_batches)[0]))"
   ]
  },
  {
   "cell_type": "code",
   "execution_count": null,
   "metadata": {},
   "outputs": [],
   "source": []
  },
  {
   "cell_type": "code",
   "execution_count": null,
   "metadata": {},
   "outputs": [],
   "source": []
  },
  {
   "cell_type": "code",
   "execution_count": null,
   "metadata": {},
   "outputs": [],
   "source": []
  }
 ],
 "metadata": {
  "kernelspec": {
   "display_name": "Python 3",
   "language": "python",
   "name": "python3"
  },
  "language_info": {
   "codemirror_mode": {
    "name": "ipython",
    "version": 3
   },
   "file_extension": ".py",
   "mimetype": "text/x-python",
   "name": "python",
   "nbconvert_exporter": "python",
   "pygments_lexer": "ipython3",
   "version": "3.5.4"
  }
 },
 "nbformat": 4,
 "nbformat_minor": 2
}
