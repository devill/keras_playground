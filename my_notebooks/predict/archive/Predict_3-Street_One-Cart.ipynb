{
 "cells": [
  {
   "cell_type": "code",
   "execution_count": 1,
   "metadata": {},
   "outputs": [
    {
     "name": "stderr",
     "output_type": "stream",
     "text": [
      "Using TensorFlow backend.\n"
     ]
    }
   ],
   "source": [
    "import json\n",
    "import matplotlib.pyplot as plt\n",
    "from keras.utils import to_categorical\n",
    "from tqdm import tqdm\n",
    "import random\n",
    "import numpy as np"
   ]
  },
  {
   "cell_type": "code",
   "execution_count": 2,
   "metadata": {},
   "outputs": [],
   "source": [
    "%matplotlib inline"
   ]
  },
  {
   "cell_type": "code",
   "execution_count": 3,
   "metadata": {},
   "outputs": [],
   "source": [
    "file = '/data/predict/196E2517293A9285/196E2517293A9285_logs.json'"
   ]
  },
  {
   "cell_type": "code",
   "execution_count": 4,
   "metadata": {},
   "outputs": [
    {
     "name": "stderr",
     "output_type": "stream",
     "text": [
      "\r",
      "0it [00:00, ?it/s]"
     ]
    },
    {
     "name": "stdout",
     "output_type": "stream",
     "text": [
      "{'cart': ['A30041320767'], 'viewed_products': ['A30032711019'], 'visitor_id': '8FB43784894ECBA', 'merchant_id': '196E2517293A9285', 'purchased_products': [], 'timestamp': '20171116T122530Z', 'session_id': '1000A36B56BC1274'}\n"
     ]
    },
    {
     "name": "stderr",
     "output_type": "stream",
     "text": [
      "\n"
     ]
    }
   ],
   "source": [
    "with open(file, encoding='utf8') as f:\n",
    "    for line in tqdm(f):\n",
    "        data = json.loads(line)\n",
    "        if len(data['cart']) > 0:\n",
    "            print(data)\n",
    "            break"
   ]
  },
  {
   "cell_type": "code",
   "execution_count": 4,
   "metadata": {},
   "outputs": [
    {
     "name": "stderr",
     "output_type": "stream",
     "text": [
      "\r",
      "0it [00:00, ?it/s]"
     ]
    },
    {
     "name": "stdout",
     "output_type": "stream",
     "text": [
      "{'cart': [], 'purchased_products': [], 'viewed_products': ['A25256511054'], 'merchant_id': '196E2517293A9285', 'timestamp': '20171116T113136Z', 'visitor_id': '46CED85B0283DDC1', 'session_id': '10000D52BF111C72'}\n"
     ]
    },
    {
     "name": "stderr",
     "output_type": "stream",
     "text": [
      "\n"
     ]
    }
   ],
   "source": [
    "users = {}\n",
    "with open(file, encoding='utf8') as f:\n",
    "    for line in tqdm(f):\n",
    "        data = json.loads(line)\n",
    "        if data['visitor_id'] not in users:\n",
    "            users[data['visitor_id']] = []\n",
    "        for prod_idx in data['viewed_products']:\n",
    "            try:\n",
    "                users[data['visitor_id']].append(prod_idx)\n",
    "            except ValueError: \n",
    "                print('Sktrain_labelsiped ' + prod_idx)"
   ]
  },
  {
   "cell_type": "code",
   "execution_count": 6,
   "metadata": {},
   "outputs": [],
   "source": [
    "#sessions_lens = list(map(lambda x: len(x), sessions.values()))\n",
    "users_lens = list(map(lambda x: len(x), users.values()))"
   ]
  },
  {
   "cell_type": "code",
   "execution_count": 7,
   "metadata": {},
   "outputs": [
    {
     "name": "stdout",
     "output_type": "stream",
     "text": [
      "120227\n"
     ]
    }
   ],
   "source": [
    "#print(len(sessions.keys()))\n",
    "print(len(users.keys()))"
   ]
  },
  {
   "cell_type": "code",
   "execution_count": 8,
   "metadata": {},
   "outputs": [],
   "source": [
    "#d = plt.hist(sessions_lens, bins=100, range=(3, 103))"
   ]
  },
  {
   "cell_type": "code",
   "execution_count": 9,
   "metadata": {},
   "outputs": [
    {
     "data": {
      "image/png": "[encoded data removed]",
      "text/plain": [
       "<matplotlib.figure.Figure at 0x7f2fa542dc88>"
      ]
     },
     "metadata": {},
     "output_type": "display_data"
    }
   ],
   "source": [
    "d = plt.hist(users_lens, bins=100, range=(3, 103))"
   ]
  },
  {
   "cell_type": "code",
   "execution_count": 10,
   "metadata": {},
   "outputs": [],
   "source": [
    "products = {}\n",
    "for u in users.values():\n",
    "    for pid in u:\n",
    "        products[pid] = 1\n",
    "product_idxs = products.keys()\n",
    "product_ids = {v: k for k, v in enumerate(product_idxs)}\n",
    "number_of_classes = len(product_idxs)"
   ]
  },
  {
   "cell_type": "code",
   "execution_count": 11,
   "metadata": {},
   "outputs": [],
   "source": [
    "def chunks(l, n):\n",
    "    for i in range(0, len(l), n):\n",
    "        yield l[i:i + n]"
   ]
  },
  {
   "cell_type": "code",
   "execution_count": 12,
   "metadata": {},
   "outputs": [],
   "source": [
    "def dedup(seq):\n",
    "    seen = set()\n",
    "    seen_add = seen.add\n",
    "\n",
    "    return [x for x in seq if not (x in seen or seen_add(x))]\n",
    "\n",
    "\n",
    "users_with_product_idxs = {}\n",
    "for uid,products in users.items():\n",
    "    ids = dedup(list(map(lambda x: product_ids[x], products)))[-40:]\n",
    "    if len(ids) > 1:\n",
    "        if len(ids) not in users_with_product_idxs:\n",
    "            users_with_product_idxs[len(ids)] = []\n",
    "        users_with_product_idxs[len(ids)].append(ids)\n",
    "    \n",
    "#del users"
   ]
  },
  {
   "cell_type": "code",
   "execution_count": 13,
   "metadata": {},
   "outputs": [],
   "source": [
    "max_batch_size = 32\n",
    "test_size = 0.1\n",
    "user_batches = []\n",
    "user_valid_batches = []\n",
    "for len_group in users_with_product_idxs.values():\n",
    "    random.shuffle(len_group)\n",
    "    for batch in chunks(len_group, max_batch_size):\n",
    "        batch_data = np.array(list(map(lambda x: x[:-1], batch)))\n",
    "        batch_labels = np.expand_dims(np.array(list(map(lambda x: x[1:], batch))), axis=2)\n",
    "        if random.random() < test_size:\n",
    "            user_valid_batches.append(\n",
    "                (batch_data, batch_labels)\n",
    "            )\n",
    "        else:\n",
    "            user_batches.append(\n",
    "                (batch_data, batch_labels)\n",
    "            )"
   ]
  },
  {
   "cell_type": "code",
   "execution_count": 14,
   "metadata": {},
   "outputs": [],
   "source": [
    "\n",
    "def generate_from_array(arr):\n",
    "    while True:\n",
    "        random.shuffle(arr)\n",
    "        for i in arr: \n",
    "            yield i\n",
    "    "
   ]
  },
  {
   "cell_type": "code",
   "execution_count": 33,
   "metadata": {},
   "outputs": [],
   "source": [
    "#raw_data = []\n",
    "#raw_abels  = []\n",
    "#for products in tqdm(users_with_product_idxs):\n",
    "#    if(len(products) > 1):\n",
    "#        for i in range(len(products) - 6):\n",
    "#            raw_data.append(np.array(products[:-1]))\n",
    "#            raw_abels.append(np.array(products[-1]))"
   ]
  },
  {
   "cell_type": "code",
   "execution_count": 34,
   "metadata": {},
   "outputs": [],
   "source": [
    "#data_np = np.stack(raw_data)\n",
    "#labels_np = np.expand_dims(np.stack(raw_abels), axis=1)"
   ]
  },
  {
   "cell_type": "code",
   "execution_count": 35,
   "metadata": {},
   "outputs": [],
   "source": [
    "#from sklearn.model_selection import train_test_split\n",
    "#train_data, valid_data, train_labels, valid_labels  = train_test_split(data_np , labels_np, test_size=0.10, shuffle=True)"
   ]
  },
  {
   "cell_type": "code",
   "execution_count": 15,
   "metadata": {},
   "outputs": [],
   "source": [
    "from keras.models import Sequential\n",
    "from keras.layers import Embedding, CuDNNGRU, Dense, Dropout, TimeDistributed,Bidirectional\n",
    "from keras.layers.normalization import BatchNormalization\n",
    "from keras.optimizers import Nadam\n",
    "from keras.optimizers import Nadam\n",
    "\n",
    "\n",
    "n_hidden = 200\n",
    "\n",
    "model=Sequential([\n",
    "        Embedding(number_of_classes, n_hidden, batch_input_shape=(None,None)),\n",
    "        BatchNormalization(),\n",
    "        CuDNNGRU(4*n_hidden, input_shape=(None,n_hidden),return_sequences=True),\n",
    "        Dropout(0.2),\n",
    "        CuDNNGRU(4*n_hidden,return_sequences=True),\n",
    "        Dropout(0.2),\n",
    "        TimeDistributed(Dense(n_hidden)),\n",
    "        TimeDistributed(Dense(number_of_classes, activation='softmax'))\n",
    "    ])"
   ]
  },
  {
   "cell_type": "code",
   "execution_count": 16,
   "metadata": {},
   "outputs": [],
   "source": [
    "from keras.backend import reshape, prod, shape, stack\n",
    "from keras.metrics import sparse_top_k_categorical_accuracy\n",
    "\n",
    "def flatten_first_n_dimension(x, first_n=2):\n",
    "    new_dims = stack([prod(shape(x)[:first_n]), prod(shape(x)[first_n:])])\n",
    "\n",
    "    return reshape(x, new_dims)\n",
    "\n",
    "def sparse_timedistributed_top_k_categorical_accuracy(y_true, y_pred, k=5):\n",
    "    y_true_reshaped = flatten_first_n_dimension(y_true)\n",
    "    y_pred_reshaped = flatten_first_n_dimension(y_pred)\n",
    "\n",
    "    return sparse_top_k_categorical_accuracy(y_true_reshaped, y_pred_reshaped, k)"
   ]
  },
  {
   "cell_type": "code",
   "execution_count": 17,
   "metadata": {},
   "outputs": [],
   "source": [
    "model.compile(loss='sparse_categorical_crossentropy', metrics=['sparse_categorical_accuracy',sparse_timedistributed_top_k_categorical_accuracy], optimizer=Nadam())"
   ]
  },
  {
   "cell_type": "code",
   "execution_count": 103,
   "metadata": {},
   "outputs": [
    {
     "name": "stdout",
     "output_type": "stream",
     "text": [
      "Epoch 1/4\n",
      "2012/2012 [==============================] - 27s 13ms/step - loss: 4.7868 - sparse_categorical_accuracy: 0.1871 - sparse_timedistributed_top_k_categorical_accuracy: 0.3797 - val_loss: 4.9192 - val_sparse_categorical_accuracy: 0.1948 - val_sparse_timedistributed_top_k_categorical_accuracy: 0.3812\n",
      "Epoch 2/4\n",
      "2012/2012 [==============================] - 26s 13ms/step - loss: 4.7399 - sparse_categorical_accuracy: 0.1903 - sparse_timedistributed_top_k_categorical_accuracy: 0.3844 - val_loss: 4.8945 - val_sparse_categorical_accuracy: 0.1996 - val_sparse_timedistributed_top_k_categorical_accuracy: 0.3894\n",
      "Epoch 3/4\n",
      "2012/2012 [==============================] - 26s 13ms/step - loss: 4.6943 - sparse_categorical_accuracy: 0.1944 - sparse_timedistributed_top_k_categorical_accuracy: 0.3914 - val_loss: 4.9006 - val_sparse_categorical_accuracy: 0.1966 - val_sparse_timedistributed_top_k_categorical_accuracy: 0.3842\n",
      "Epoch 4/4\n",
      "2012/2012 [==============================] - 26s 13ms/step - loss: 4.6467 - sparse_categorical_accuracy: 0.1969 - sparse_timedistributed_top_k_categorical_accuracy: 0.3972 - val_loss: 4.9443 - val_sparse_categorical_accuracy: 0.1965 - val_sparse_timedistributed_top_k_categorical_accuracy: 0.3833\n"
     ]
    },
    {
     "data": {
      "text/plain": [
       "<keras.callbacks.History at 0x7f627f6f8828>"
      ]
     },
     "execution_count": 103,
     "metadata": {},
     "output_type": "execute_result"
    }
   ],
   "source": [
    "model.fit_generator(\n",
    "    generate_from_array(user_batches), \n",
    "    validation_data=generate_from_array(user_valid_batches), \n",
    "    steps_per_epoch=len(user_batches),\n",
    "    validation_steps=len(user_valid_batches),\n",
    "    epochs=4\n",
    ")"
   ]
  },
  {
   "cell_type": "code",
   "execution_count": 39,
   "metadata": {},
   "outputs": [],
   "source": [
    "#model.fit(train_data, train_labels,validation_data=(valid_data,valid_labels), batch_size=256, epochs=4, shuffle=True)"
   ]
  },
  {
   "cell_type": "code",
   "execution_count": 40,
   "metadata": {},
   "outputs": [],
   "source": [
    "model.save('/data/predict/196E2517293A9285/196E2517293A9285_predict_v1_dedup.h5')"
   ]
  },
  {
   "cell_type": "code",
   "execution_count": 41,
   "metadata": {},
   "outputs": [],
   "source": [
    "model.save_weights('/data/predict/196E2517293A9285/196E2517293A9285_predict_weights_v1_dedup.h5')"
   ]
  },
  {
   "cell_type": "code",
   "execution_count": 18,
   "metadata": {},
   "outputs": [],
   "source": [
    "model.load_weights('/data/predict/196E2517293A9285/196E2517293A9285_predict_weights_v1_dedup.h5')"
   ]
  },
  {
   "cell_type": "code",
   "execution_count": 42,
   "metadata": {},
   "outputs": [],
   "source": [
    "#import csv\n",
    "#with open('/data/predict/196E2517293A9285/196E2517293A9285_product_ids_1_dedup.csv', 'w') as csvfile:\n",
    "#    spamwriter = csv.writer(csvfile)\n",
    "#    for line in product_idxs:\n",
    "#        spamwriter.writerow([line])"
   ]
  },
  {
   "cell_type": "markdown",
   "metadata": {},
   "source": [
    "## Eye ball validation"
   ]
  },
  {
   "cell_type": "code",
   "execution_count": 19,
   "metadata": {},
   "outputs": [],
   "source": [
    "import csv"
   ]
  },
  {
   "cell_type": "code",
   "execution_count": 20,
   "metadata": {},
   "outputs": [],
   "source": [
    "product_map = {}\n",
    "with open('/data/predict/196E2517293A9285/196E2517293A9285_catalog.csv', 'r', encoding='utf8') as csvfile:\n",
    "    spamreader = csv.reader(csvfile)\n",
    "    next(spamreader)\n",
    "    for row in spamreader:\n",
    "        product_map[row[10]] = [row[9], row[6], row[11]]"
   ]
  },
  {
   "cell_type": "code",
   "execution_count": 21,
   "metadata": {},
   "outputs": [],
   "source": [
    "#product_map = {}\n",
    "#with open('/data/predict/196E2517293A9285/196E2517293A9285_image_links.csv', 'r') as csvfile:\n",
    "#    spamreader = csv.reader(csvfile)\n",
    "#    for row in spamreader:\n",
    "#        product_map[row[0]] = row[1]"
   ]
  },
  {
   "cell_type": "code",
   "execution_count": 27,
   "metadata": {},
   "outputs": [
    {
     "data": {
      "text/html": [
       "<table><tr><th style=\"text-align:center\"><img src=\"https://images.street-one.de//z1/4057515542842_1_m_z1.jpg\" width=\"130\"><br/><a href=\"https://www.street-one.at/All-Styles/Roecke-Kleider/Kleider/Druckkleider/Printkleid-mit-Raffaermel-master-wine.html\">370</a></br>Printkleid mit Raffärmel</th><td style=\"background-color:black;\"></td><td><img src=\"http://www.lackuna.com/wp-content/themes/fearless/images/missing-image-640x360.png\"  width=\"130\"><br/><a href=\"\">1693</a></br>UNKNOWN</td><td><img src=\"https://images.street-one.de//z1/4057515578681_1_m_z1.jpg\"  width=\"130\"><br/><a href=\"https://www.street-one.at/All-Styles/Roecke-Kleider/Roecke/Miniroecke/Jacquardstreifen-Rock-Shiva-night-blue.html\">499</a></br>Jacquardstreifen Rock Shiva</td><td><img src=\"http://www.lackuna.com/wp-content/themes/fearless/images/missing-image-640x360.png\"  width=\"130\"><br/><a href=\"\">1040</a></br>UNKNOWN</td><td><img src=\"http://www.lackuna.com/wp-content/themes/fearless/images/missing-image-640x360.png\"  width=\"130\"><br/><a href=\"\">977</a></br>UNKNOWN</td><td><img src=\"https://images.street-one.de//z1/4057515493717_1_m_z1.jpg\"  width=\"130\"><br/><a href=\"https://www.street-one.at/All-Styles/T-Shirts-Tops/Shirtjacken/Kurze-gestreifte-Jacke-Marry-off-white.html\">1596</a></br>Kurze gestreifte Jacke Marry</td><td><img src=\"https://images.street-one.de//z1/4057515372517_1_m_z1.jpg\"  width=\"130\"><br/><a href=\"https://www.street-one.at/All-Styles/T-Shirts-Tops/T-Shirts/Organic-Halbarm-Shirt-Lenka-big-red-streetone.html\">2324</a></br>Organic Halbarm Shirt Lenka</td></tr><tr><th style=\"text-align:center\"><img src=\"https://images.street-one.de//z1/4057515532973_1_m_z1.jpg\" width=\"130\"><br/><a href=\"https://www.street-one.at/All-Styles/Roecke-Kleider/Kleider/Kleid-mit-gerafftem-Aermel-Black.html\">437</a></br>Kleid mit gerafftem Ärmel</th><td style=\"background-color:black;\"></td><td><img src=\"http://www.lackuna.com/wp-content/themes/fearless/images/missing-image-640x360.png\"  width=\"130\"><br/><a href=\"\">1725</a></br>UNKNOWN</td><td><img src=\"http://www.lackuna.com/wp-content/themes/fearless/images/missing-image-640x360.png\"  width=\"130\"><br/><a href=\"\">1939</a></br>UNKNOWN</td><td><img src=\"http://www.lackuna.com/wp-content/themes/fearless/images/missing-image-640x360.png\"  width=\"130\"><br/><a href=\"\">262</a></br>UNKNOWN</td><td><img src=\"https://images.street-one.de//z1/4057515795224_1_m_z1.jpg\"  width=\"130\"><br/><a href=\"https://www.street-one.at/All-Styles/T-Shirts-Tops/Shirtjacken/Boleros/Zarter-Flammgarn-Bolero-night-blue.html\">258</a></br>Zarter Flammgarn Bolero</td><td><img src=\"https://images.street-one.de//z1/4057515714553_1_m_z1.jpg\"  width=\"130\"><br/><a href=\"https://www.street-one.at/All-Styles/T-Shirts-Tops/Langarm-Shirts/Rundhalsshirts/Strukturmix-Shirt-Ulrika-pacific-blue.html\">1889</a></br>Strukturmix Shirt Ulrika</td><td><img src=\"https://images.street-one.de//z1/4057515353660_1_m_z1.jpg\"  width=\"130\"><br/><a href=\"https://www.street-one.at/All-Styles/T-Shirts-Tops/T-Shirts/Rundhalsshirts/Glitzerprint-Shirt-Elsine-white.html\">1878</a></br>Glitzerprint Shirt Elsine</td></tr><tr><th style=\"text-align:center\"><img src=\"https://images.street-one.de//z1/4057515489574_1_m_z1.jpg\" width=\"130\"><br/><a href=\"https://www.street-one.at/All-Styles/Roecke-Kleider/Kleider/Kleid-mit-gerafftem-Aermel-funky-pink.html\">1827</a></br>Kleid mit gerafftem Ärmel</th><td style=\"background-color:black;\"></td><td><img src=\"https://images.street-one.de//z1/4057515710555_1_m_z1.jpg\"  width=\"130\"><br/><a href=\"https://www.street-one.at/All-Styles/T-Shirts-Tops/Langarm-Shirts/Crashshirts/Gecrashtes-V-Neck-Shirt-off-white.html\">2173</a></br>Gecrashtes V-Neck Shirt</td><td><img src=\"https://images.street-one.de//z1/4057515761298_1_m_z1.jpg\"  width=\"130\"><br/><a href=\"https://www.street-one.at/All-Styles/Pullover-Strickjacken/Pullover/Rundhalspullover/Pulli-mit-Zickzack-Struktur-frost-grey-melange.html\">1233</a></br>Pulli mit Zickzack Struktur</td><td><img src=\"https://images.street-one.de//z1/4057515605011_1_m_z1.jpg\"  width=\"130\"><br/><a href=\"https://www.street-one.at/All-Styles/Hosen/Lange-Hosen/Schmale-Hosen-slim/Slim-Fit-Jacquard-Hose-Yella-master-wine-dark.html\">810</a></br>Slim Fit Jacquard Hose Yella</td><td><img src=\"https://images.street-one.de//z1/4057515379707_1_m_z1.jpg\"  width=\"130\"><br/><a href=\"https://www.street-one.at/All-Styles/T-Shirts-Tops/T-Shirts/V-Shirts/Shirt-mit-breiter-Ruesche-studio-rose.html\">75</a></br>Shirt mit breiter Rüsche</td><td><img src=\"http://www.lackuna.com/wp-content/themes/fearless/images/missing-image-640x360.png\"  width=\"130\"><br/><a href=\"\">609</a></br>UNKNOWN</td><td><img src=\"https://images.street-one.de//z1/4057515147450_1_m_z1.jpg\"  width=\"130\"><br/><a href=\"https://www.street-one.at/All-Styles/T-Shirts-Tops/Tops/Spaghettitops/Traegertop-aus-Organic-Cotton-off-white.html\">1869</a></br>Trägertop aus Organic Cotton</td></tr><tr><th style=\"text-align:center\"><img src=\"https://images.street-one.de//z1/4057515489567_1_m_z1.jpg\" width=\"130\"><br/><a href=\"https://www.street-one.at/All-Styles/Roecke-Kleider/Kleider/Kleid-mit-gerafftem-Aermel-big-red.html\">2023</a></br>Kleid mit gerafftem Ärmel</th><td style=\"background-color:black;\"></td><td><img src=\"https://images.street-one.de//z1/4057515632055_1_m_z1.jpg\"  width=\"130\"><br/><a href=\"https://www.street-one.at/All-Styles/T-Shirts-Tops/Shirtjacken/Kurze-Fischgraetmuster-Jacke-night-blue.html\">218</a></br>Kurze Fischgrätmuster Jacke</td><td><img src=\"https://images.street-one.de//z1/4057515529959_1_m_z1.jpg\"  width=\"130\"><br/><a href=\"https://www.street-one.at/All-Styles/Blazer/Sweatblazer/Struktur-Sweatblazer-Elfie-night-blue-streetone.html\">1874</a></br>Struktur Sweatblazer Elfie</td><td><img src=\"https://images.street-one.de//z1/4057515308769_1_m_z1.jpg\"  width=\"130\"><br/><a href=\"https://www.street-one.at/All-Styles/Roecke-Kleider/Roecke/Sommerroecke/Gewebter-Basic-Rock-Gisou-hot-coral.html\">978</a></br>Gewebter Basic Rock Gisou</td><td><img src=\"https://images.street-one.de//z1/4057515669662_1_m_z1.jpg\"  width=\"130\"><br/><a href=\"https://www.street-one.at/All-Styles/Blusen/Langarm-Blusen/Leichte-Viskosebluse-off-white.html\">997</a></br>Leichte Viskosebluse</td><td><img src=\"http://www.lackuna.com/wp-content/themes/fearless/images/missing-image-640x360.png\"  width=\"130\"><br/><a href=\"\">894</a></br>UNKNOWN</td><td><img src=\"http://www.lackuna.com/wp-content/themes/fearless/images/missing-image-640x360.png\"  width=\"130\"><br/><a href=\"\">488</a></br>UNKNOWN</td></tr><tr><th style=\"text-align:center\"><img src=\"https://images.street-one.de//z1/4057515342107_1_m_z1.jpg\" width=\"130\"><br/><a href=\"https://www.street-one.at/All-Styles/T-Shirts-Tops/T-Shirts/Rundhalsshirts/Fliessendes-Strukturmix-Shirt-off-white.html\">2076</a></br>Fließendes Strukturmix Shirt</th><td style=\"background-color:black;\"></td><td><img src=\"https://images.street-one.de//z1/4057515319949_1_m_z1.jpg\"  width=\"130\"><br/><a href=\"https://www.street-one.at/All-Styles/Hosen/Kurze-Hosen/Shorts-Bermudas/Laessige-Crash-Bermuda-Jannis-lapis-blue.html\">952</a></br>Lässige Crash Bermuda Jannis</td><td><img src=\"https://images.street-one.de//z1/4057515184400_1_m_z1.jpg\"  width=\"130\"><br/><a href=\"https://www.street-one.at/All-Styles/T-Shirts-Tops/T-Shirts/Rundhalsshirts/Shirt-mit-Wording-Sheila-cyber-grey-melange.html\">1394</a></br>Shirt mit Wording Sheila</td><td><img src=\"https://images.street-one.de//z1/4057515562536_1_m_z1.jpg\"  width=\"130\"><br/><a href=\"https://www.street-one.at/All-Styles/Blusen/Langarm-Blusen/Rundhalsblusen/Zarte-Bluetenprint-Bluse-night-blue-streetone.html\">776</a></br>Zarte Blütenprint Bluse</td><td><img src=\"https://images.street-one.de//z1/4057515768709_1_m_z1.jpg\"  width=\"130\"><br/><a href=\"https://www.street-one.at/All-Styles/T-Shirts-Tops/Langarm-Shirts/Rundhalsshirts/Crashshirt-mit-Glitzerkante-Black.html\">1214</a></br>Crashshirt mit Glitzerkante</td><td><img src=\"https://images.street-one.de//z1/4057515784020_1_m_z1.jpg\"  width=\"130\"><br/><a href=\"https://www.street-one.at/All-Styles/T-Shirts-Tops/Langarm-Shirts/Rundhalsshirts/Longsleeve-mit-Schleifen-off-white.html\">1187</a></br>Longsleeve mit Schleifen</td><td><img src=\"https://images.street-one.de//z1/4056597168780_1_z1.jpg\"  width=\"130\"><br/><a href=\"https://www.street-one.at/All-Styles/T-Shirts-Tops/Tops/Basic-Tops/Organic-Rundhalstop-Bethy-night-blue-streetone-1.html\">1896</a></br>Organic Rundhalstop Bethy</td></tr><tr><th style=\"text-align:center\"><img src=\"https://images.street-one.de//z1/4057515342114_1_m_z1.jpg\" width=\"130\"><br/><a href=\"https://www.street-one.at/All-Styles/T-Shirts-Tops/T-Shirts/Rundhalsshirts/Fliessendes-Strukturmix-Shirt-studio-rose.html\">898</a></br>Fließendes Strukturmix Shirt</th><td style=\"background-color:black;\"></td><td><img src=\"http://www.lackuna.com/wp-content/themes/fearless/images/missing-image-640x360.png\"  width=\"130\"><br/><a href=\"\">101</a></br>UNKNOWN</td><td><img src=\"https://images.street-one.de//z1/4057515745878_1_m_z1.jpg\"  width=\"130\"><br/><a href=\"https://www.street-one.at/All-Styles/T-Shirts-Tops/Langarm-Shirts/Spitzenshirts/Longsleeve-mit-Spitzenpasse-Black.html\">780</a></br>Longsleeve mit Spitzenpasse</td><td><img src=\"https://images.street-one.de//z1/4057515577547_1_m_z1.jpg\"  width=\"130\"><br/><a href=\"https://www.street-one.at/All-Styles/Accessoires/Tuecher-Schals/Schals/Schal-mit-grossen-Blueten-funky-pink.html\">2403</a></br>Schal mit großen Blüten</td><td><img src=\"https://images.street-one.de//z1/4057515796313_1_m_z1.jpg\"  width=\"130\"><br/><a href=\"https://www.street-one.at/All-Styles/Roecke-Kleider/Kleider/Festliche-Kleider/Asymmetrisches-Chiffonkleid-Black.html\">353</a></br>Asymmetrisches Chiffonkleid</td><td><img src=\"https://images.street-one.de//z1/4057515717721_1_m_z1.jpg\"  width=\"130\"><br/><a href=\"https://www.street-one.at/All-Styles/Blusen/Langarm-Blusen/Rundhalsblusen/Softe-Ornamentprint-Bluse-pacific-blue.html\">1619</a></br>Softe Ornamentprint Bluse</td><td><img src=\"https://images.street-one.de//z1/4057515571521_1_m_z1.jpg\"  width=\"130\"><br/><a href=\"https://www.street-one.at/All-Styles/T-Shirts-Tops/3-4-Arm-Shirts/Printshirt-mit-Stick-Passe-night-blue.html\">970</a></br>Printshirt mit Stick-Passe</td></tr><tr><th style=\"text-align:center\"><img src=\"https://images.street-one.de//z1/4057515342138_1_m_z1.jpg\" width=\"130\"><br/><a href=\"https://www.street-one.at/All-Styles/T-Shirts-Tops/T-Shirts/Rundhalsshirts/Fliessendes-Strukturmix-Shirt-baltic-grey.html\">2273</a></br>Fließendes Strukturmix Shirt</th><td style=\"background-color:black;\"></td><td><img src=\"https://images.street-one.de//z1/4057515282410_1_m_z1.jpg\"  width=\"130\"><br/><a href=\"https://www.street-one.at/All-Styles/Hosen/Lange-Hosen/Weite-Hosen-loose/Pailletten-Joggpants-Leila-off-white.html\">1049</a></br>Pailletten Joggpants Leila</td><td><img src=\"https://images.street-one.de//z1/4057515735305_1_m_z1.jpg\"  width=\"130\"><br/><a href=\"https://www.street-one.at/All-Styles/Blazer/Kurzblazer/Kurzblazer-mit-Zippertaschen-Black.html\">64</a></br>Kurzblazer mit Zippertaschen</td><td><img src=\"https://images.street-one.de//z1/4057515323540_1_m_z1.jpg\"  width=\"130\"><br/><a href=\"https://www.street-one.at/All-Styles/Jacken-Indoor-Outdoor/Maentel/Kurzmaentel/Melierter-Filzmantel-cosy-grey-melange.html\">2222</a></br>Melierter Filzmantel</td><td><img src=\"https://images.street-one.de//z1/4057515514351_1_m_z1.jpg\"  width=\"130\"><br/><a href=\"https://www.street-one.at/All-Styles/Pullover-Strickjacken/Strickjacken/Offene-Strickjacken/Offene-Rippmuster-Longjacke-master-wine.html\">806</a></br>Offene Rippmuster Longjacke</td><td><img src=\"http://www.lackuna.com/wp-content/themes/fearless/images/missing-image-640x360.png\"  width=\"130\"><br/><a href=\"\">1603</a></br>UNKNOWN</td><td><img src=\"https://images.street-one.de//z1/4057515774083_1_m_z1.jpg\"  width=\"130\"><br/><a href=\"https://www.street-one.at/All-Styles/Accessoires/Tuecher-Schals/Schlauchschals/Silberprint-Loop-Wiebke-warming-berry.html\">551</a></br>Silberprint Loop Wiebke</td></tr><tr><th style=\"text-align:center\"><img src=\"https://images.street-one.de//z1/4057515342121_1_m_z1.jpg\" width=\"130\"><br/><a href=\"https://www.street-one.at/All-Styles/T-Shirts-Tops/T-Shirts/Rundhalsshirts/Fliessendes-Strukturmix-Shirt-big-red.html\">602</a></br>Fließendes Strukturmix Shirt</th><td style=\"background-color:black;\"></td><td><img src=\"https://images.street-one.de//z1/4057515526958_1_m_z1.jpg\"  width=\"130\"><br/><a href=\"https://www.street-one.at/All-Styles/Denim-Jeans/Lange-Jeans/Schmale-Jeans-slim/Dunkle-Jeans-York-blue-denim-wash.html\">183</a></br>Dunkle Jeans York</td><td><img src=\"http://www.lackuna.com/wp-content/themes/fearless/images/missing-image-640x360.png\"  width=\"130\"><br/><a href=\"\">500</a></br>UNKNOWN</td><td><img src=\"https://images.street-one.de//z1/4057515335796_1_m_z1.jpg\"  width=\"130\"><br/><a href=\"https://www.street-one.at/All-Styles/T-Shirts-Tops/Tops/Organic-Cotton-Spaghettitop-big-red.html\">912</a></br>Organic Cotton Spaghettitop</td><td><img src=\"https://images.street-one.de//z1/4057515132258_1_m_z1.jpg\"  width=\"130\"><br/><a href=\"https://www.street-one.at/All-Styles/Hosen/Lange-Hosen/Schmale-Hosen-slim/Slim-Hose-mit-Zipper-Yulius-monsoon-green.html\">858</a></br>Slim Hose mit Zipper Yulius</td><td><img src=\"https://images.street-one.de//z1/4057515337387_1_m_z1.jpg\"  width=\"130\"><br/><a href=\"https://www.street-one.at/All-Styles/T-Shirts-Tops/Shirtjacken/Leichte-Longjacke-mit-Kapuze-cyber-grey-melange.html\">1997</a></br>Leichte Longjacke mit Kapuze</td><td><img src=\"https://images.street-one.de//z1/4057515785973_1_m_z1.jpg\"  width=\"130\"><br/><a href=\"https://www.street-one.at/All-Styles/Pullover-Strickjacken/Pullover/Rollkragenpullover/Gerippter-Turtleneck-Pulli-warming-berry.html\">1391</a></br>Gerippter Turtleneck Pulli</td></tr><tr><th style=\"text-align:center\"><img src=\"https://images.street-one.de//z1/4057515330883_1_m_z1.jpg\" width=\"130\"><br/><a href=\"https://www.street-one.at/All-Styles/T-Shirts-Tops/Langarm-Shirts/Rundhalsshirts/Blockstreifen-Shirt-Gitta-studio-rose.html\">137</a></br>Blockstreifen Shirt Gitta</th><td style=\"background-color:black;\"></td><td><img src=\"https://images.street-one.de//z1/4057515667873_1_m_z1.jpg\"  width=\"130\"><br/><a href=\"https://www.street-one.at/All-Styles/Blusen/Langarm-Blusen/Rundhalsblusen/Tunika-Bluse-mit-Kaestchen-night-blue.html\">1005</a></br>Tunika Bluse mit Kästchen</td><td><img src=\"https://images.street-one.de//z1/4057515695937_1_m_z1.jpg\"  width=\"130\"><br/><a href=\"https://www.street-one.at/All-Styles/Blusen/Langarm-Blusen/Rundhalsblusen/Rippbuendchen-Tunika-Bluse-pacific-blue.html\">1968</a></br>Rippbündchen Tunika Bluse</td><td><img src=\"https://images.street-one.de//z1/4057515298718_1_m_z1.jpg\"  width=\"130\"><br/><a href=\"https://www.street-one.at/All-Styles/Blusen/AErmellose-Blusen/Rundhalsblusen/Blusentop-im-Ikat-Print-sunny-violet.html\">2162</a></br>Blusentop im Ikat-Print</td><td><img src=\"https://images.street-one.de//z1/4057515657416_1_m_z1.jpg\"  width=\"130\"><br/><a href=\"https://www.street-one.at/All-Styles/T-Shirts-Tops/Tops/Basic-Tops/Softes-Turtleneck-Top-baked-orange.html\">1361</a></br>Softes Turtleneck Top</td><td><img src=\"http://www.lackuna.com/wp-content/themes/fearless/images/missing-image-640x360.png\"  width=\"130\"><br/><a href=\"\">23</a></br>UNKNOWN</td><td><img src=\"https://images.street-one.de//z1/4057515559598_1_m_z1.jpg\"  width=\"130\"><br/><a href=\"https://www.street-one.at/All-Styles/Roecke-Kleider/Kleider/Jerseykleider/Meliertes-Sweatkleid-Black.html\">1533</a></br>Meliertes Sweatkleid</td></tr><tr><th style=\"text-align:center\"><img src=\"https://images.street-one.de//z1/4057515271995_1_m_z1.jpg\" width=\"130\"><br/><a href=\"https://www.street-one.at/All-Styles/Roecke-Kleider/Kleider/Druckkleider/Kleid-mit-Nackenschleife-White.html\">1837</a></br>Kleid mit Nackenschleife</th><td style=\"background-color:black;\"></td><td><img src=\"https://images.street-one.de//z1/4057515240489_1_m_z1.jpg\"  width=\"130\"><br/><a href=\"https://www.street-one.at/All-Styles/Blusen/Kurzarm-Blusen/Rundhalsblusen/Bluse-mit-Print-Amalia-White.html\">1442</a></br>Bluse mit Print Amalia</td><td><img src=\"https://images.street-one.de//z1/4057515775363_1_m_z1.jpg\"  width=\"130\"><br/><a href=\"https://www.street-one.at/All-Styles/Blusen/Langarm-Blusen/Longblusen/Hemdbluse-im-Long-Style-off-white.html\">1367</a></br>Hemdbluse im Long Style</td><td><img src=\"https://images.street-one.de//z1/4057515629208_1_m_z1.jpg\"  width=\"130\"><br/><a href=\"https://www.street-one.at/All-Styles/T-Shirts-Tops/Tops/Longtops/Organic-Longtop-Layri-off-white.html\">816</a></br>Organic Longtop Layri</td><td><img src=\"https://images.street-one.de//z1/4057515648209_1_m_z1.jpg\"  width=\"130\"><br/><a href=\"https://www.street-one.at/All-Styles/Blusen/Kurzarm-Blusen/Rundhalsblusen/Kurzarm-Printbluse-Vivia-night-blue.html\">838</a></br>Kurzarm Bluse Vivia</td><td><img src=\"https://images.street-one.de//z1/4057515347751_1_m_z1.jpg\"  width=\"130\"><br/><a href=\"https://www.street-one.at/All-Styles/T-Shirts-Tops/Tops/Bluetenprint-Chiffon-Top-studio-rose.html\">614</a></br>Blütenprint Chiffon Top</td><td><img src=\"https://images.street-one.de//z1/4057515700211_1_m_z1.jpg\"  width=\"130\"><br/><a href=\"https://www.street-one.at/All-Styles/Pullover-Strickjacken/Pullover/Feinstrick-Pullover-Marie-baked-orange.html\">640</a></br>Flausch Pullover Marie</td></tr><tr><th style=\"text-align:center\"><img src=\"https://images.street-one.de//z1/4057515299340_1_m_z1.jpg\" width=\"130\"><br/><a href=\"https://www.street-one.at/All-Styles/Roecke-Kleider/Kleider/Druckkleider/Kleid-mit-Nackenschleife-lapis-blue.html\">1783</a></br>Kleid mit Nackenschleife</th><td style=\"background-color:black;\"></td><td><img src=\"https://images.street-one.de//z1/4057515316009_1_m_z1.jpg\"  width=\"130\"><br/><a href=\"https://www.street-one.at/All-Styles/T-Shirts-Tops/Tops/Grafikprinttop-mit-Baendchen-Black.html\">1912</a></br>Grafikprinttop mit Bändchen</td><td><img src=\"https://images.street-one.de//z1/4057515606612_1_m_z1.jpg\"  width=\"130\"><br/><a href=\"https://www.street-one.at/All-Styles/Pullover-Strickjacken/Pullover/Rundhalspullover/Oversize-Pulli-mit-Rippaermel-ice-blue.html\">1899</a></br>Oversize Pulli mit Rippärmel</td><td><img src=\"https://images.street-one.de//z1/4057515381298_1_m_z1.jpg\"  width=\"130\"><br/><a href=\"https://www.street-one.at/All-Styles/T-Shirts-Tops/Shirtjacken/Kurze-Struktur-Zipperjacke-studio-rose.html\">1752</a></br>Kurze Struktur Zipperjacke</td><td><img src=\"https://images.street-one.de//z1/4057515647257_1_m_z1.jpg\"  width=\"130\"><br/><a href=\"https://www.street-one.at/All-Styles/Blusen/Kurzarm-Blusen/Rundhalsblusen/Kurzarm-Printbluse-Vivia-off-white-streetone-2.html\">1263</a></br>Kurzarm Bluse Vivia</td><td><img src=\"http://www.lackuna.com/wp-content/themes/fearless/images/missing-image-640x360.png\"  width=\"130\"><br/><a href=\"\">932</a></br>UNKNOWN</td><td><img src=\"https://images.street-one.de//z1/4057515672938_1_m_z1.jpg\"  width=\"130\"><br/><a href=\"https://www.street-one.at/All-Styles/Accessoires/Tuecher-Schals/Schals/Warmer-grosser-Wende-Schal-night-blue.html\">695</a></br>Warmer, großer Wende-Schal</td></tr><tr><th style=\"text-align:center\"><img src=\"https://images.street-one.de//z1/4057515243657_1_m_z1.jpg\" width=\"130\"><br/><a href=\"https://www.street-one.at/All-Styles/Roecke-Kleider/Kleider/Sommerkleider/Grafik-Print-Kleid-Ricarda-lapis-blue.html\">578</a></br>Grafik Print Kleid Ricarda</th><td style=\"background-color:black;\"></td><td><img src=\"https://images.street-one.de//z1/4057515531808_1_m_z1.jpg\"  width=\"130\"><br/><a href=\"https://www.street-one.at/All-Styles/Hosen/7-8-Hosen/Gecrashte-7-8-Hose-Conrad-studio-rose-dark.html\">1718</a></br>Gecrashte 7/8-Hose Conrad</td><td><img src=\"http://www.lackuna.com/wp-content/themes/fearless/images/missing-image-640x360.png\"  width=\"130\"><br/><a href=\"\">1751</a></br>UNKNOWN</td><td><img src=\"https://images.street-one.de//z1/4057515550618_1_m_z1.jpg\"  width=\"130\"><br/><a href=\"https://www.street-one.at/All-Styles/Blazer/Sweatblazer/Doubleface-Sweatblazer-misty-grey-melange.html\">2374</a></br>Doubleface Sweatblazer</td><td><img src=\"https://images.street-one.de//z1/4057515638866_1_m_z1.jpg\"  width=\"130\"><br/><a href=\"https://www.street-one.at/All-Styles/T-Shirts-Tops/Shirtjacken/Boleros/Chiffon-Bolero-night-blue.html\">1376</a></br>Chiffon Bolero</td><td><img src=\"http://www.lackuna.com/wp-content/themes/fearless/images/missing-image-640x360.png\"  width=\"130\"><br/><a href=\"\">591</a></br>UNKNOWN</td><td><img src=\"https://images.street-one.de//z1/4057515559598_1_m_z1.jpg\"  width=\"130\"><br/><a href=\"https://www.street-one.at/All-Styles/Roecke-Kleider/Kleider/Jerseykleider/Meliertes-Sweatkleid-Black.html\">1533</a></br>Meliertes Sweatkleid</td></tr><tr><th style=\"text-align:center\"><img src=\"http://www.lackuna.com/wp-content/themes/fearless/images/missing-image-640x360.png\" width=\"130\"><br/><a href=\"\">656</a></br>UNKNOWN</th><td style=\"background-color:black;\"></td><td><img src=\"https://images.street-one.de//z1/4057515254929_1_m_z1.jpg\"  width=\"130\"><br/><a href=\"https://www.street-one.at/All-Styles/Roecke-Kleider/Kleider/Festliche-Kleider/Strass-Kleid-Madeleine-hot-coral.html\">648</a></br>Strass Kleid Madeleine</td><td><img src=\"https://images.street-one.de//z1/4057515644058_1_m_z1.jpg\"  width=\"130\"><br/><a href=\"https://www.street-one.at/All-Styles/T-Shirts-Tops/Langarm-Shirts/Streifenshirts/Langarmshirt-mit-Streifen-studio-rose.html\">1993</a></br>Langarmshirt mit Streifen</td><td><img src=\"https://images.street-one.de//z1/4057515761298_1_m_z1.jpg\"  width=\"130\"><br/><a href=\"https://www.street-one.at/All-Styles/Pullover-Strickjacken/Pullover/Rundhalspullover/Pulli-mit-Zickzack-Struktur-frost-grey-melange.html\">1233</a></br>Pulli mit Zickzack Struktur</td><td><img src=\"http://www.lackuna.com/wp-content/themes/fearless/images/missing-image-640x360.png\"  width=\"130\"><br/><a href=\"\">972</a></br>UNKNOWN</td><td><img src=\"http://www.lackuna.com/wp-content/themes/fearless/images/missing-image-640x360.png\"  width=\"130\"><br/><a href=\"\">1400</a></br>UNKNOWN</td><td><img src=\"https://images.street-one.de//z1/4057515738504_1_m_z1.jpg\"  width=\"130\"><br/><a href=\"https://www.street-one.at/All-Styles/T-Shirts-Tops/Langarm-Shirts/Rundhalsshirts/Shirt-mit-Glitzerkragen-lunar-grey.html\">914</a></br>Shirt mit Glitzerkragen</td></tr></table>"
      ],
      "text/plain": [
       "<IPython.core.display.HTML object>"
      ]
     },
     "metadata": {},
     "output_type": "display_data"
    }
   ],
   "source": [
    "from IPython.core.display import display as core_display\n",
    "from IPython.core.display import HTML \n",
    "\n",
    "def product_to_url(product):\n",
    "    try:\n",
    "        return [product] + product_map[list(product_idxs)[product]]\n",
    "    except KeyError:\n",
    "        return [product,'http://www.lackuna.com/wp-content/themes/fearless/images/missing-image-640x360.png','UNKNOWN','']\n",
    "\n",
    "def display_session(session):\n",
    "    products = list(map(product_to_url, session))\n",
    "    predictions = model.predict([session])\n",
    "    html = '<table>'\n",
    "    seen = set()\n",
    "    for i,product in enumerate(products):\n",
    "        html += '<tr>'\n",
    "        html += '<th style=\"text-align:center\">'\n",
    "        html += '<img src=\"' + product[1] + '\" width=\"130\"><br/>' \n",
    "        html += '<a href=\"'+str(product[3])+'\">' + str(product[0]) + '</a></br>' + str(product[2])\n",
    "        html += '</th><td style=\"background-color:black;\"></td>'\n",
    "        top_idx = list(np.argsort(predictions[i][0])[::-1])\n",
    "        seen.add(product[0])\n",
    "        \n",
    "        j = 0\n",
    "        for pred in top_idx:\n",
    "            if pred in seen:\n",
    "                continue\n",
    "                                \n",
    "            if i < len(products) - 1 and pred == products[i+1][0]:\n",
    "                style = 'style=\"border:3px dashed red;\"'\n",
    "            else:\n",
    "                style = ''\n",
    "                \n",
    "            pred_data = product_to_url(pred)\n",
    "            html += '<td><img src=\"' + pred_data[1] + '\" '+style+' width=\"130\"><br/>' \n",
    "            html += '<a href=\"'+str(pred_data[3]) + '\">' +str(pred_data[0]) + '</a></br>' + str(pred_data[2]) + '</td>'\n",
    "            j+=1\n",
    "            if j > 5:\n",
    "                break\n",
    "                \n",
    "        html += '</tr>'\n",
    "    html += '</table>'\n",
    "\n",
    "    core_display(HTML(html))\n",
    "\n",
    "display_session(random.choice(random.choice(user_valid_batches)[0]))"
   ]
  },
  {
   "cell_type": "code",
   "execution_count": null,
   "metadata": {},
   "outputs": [],
   "source": []
  }
 ],
 "metadata": {
  "kernelspec": {
   "display_name": "Python 3",
   "language": "python",
   "name": "python3"
  },
  "language_info": {
   "codemirror_mode": {
    "name": "ipython",
    "version": 3
   },
   "file_extension": ".py",
   "mimetype": "text/x-python",
   "name": "python",
   "nbconvert_exporter": "python",
   "pygments_lexer": "ipython3",
   "version": "3.5.4"
  }
 },
 "nbformat": 4,
 "nbformat_minor": 2
}
