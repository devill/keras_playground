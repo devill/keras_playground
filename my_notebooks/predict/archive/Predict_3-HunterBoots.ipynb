{
 "cells": [
  {
   "cell_type": "code",
   "execution_count": 2,
   "metadata": {},
   "outputs": [
    {
     "name": "stderr",
     "output_type": "stream",
     "text": [
      "Using TensorFlow backend.\n"
     ]
    }
   ],
   "source": [
    "import json\n",
    "import matplotlib.pyplot as plt\n",
    "from keras.utils import to_categorical\n",
    "from tqdm import tqdm\n",
    "import random\n",
    "import numpy as np"
   ]
  },
  {
   "cell_type": "code",
   "execution_count": 3,
   "metadata": {},
   "outputs": [],
   "source": [
    "%matplotlib inline"
   ]
  },
  {
   "cell_type": "code",
   "execution_count": 4,
   "metadata": {},
   "outputs": [],
   "source": [
    "file = '/data/predict/15F90ABFD1B13CE2/15F90ABFD1B13CE2_logs.json'"
   ]
  },
  {
   "cell_type": "code",
   "execution_count": 5,
   "metadata": {},
   "outputs": [],
   "source": [
    "#sessions = {}\n",
    "#with open(file, encoding='utf8') as f:\n",
    "#    for line in tqdm(f):\n",
    "#        data = json.loads(line)\n",
    "#        if data['session_id'] not in sessions:\n",
    "#            sessions[data['session_id']] = []\n",
    "#        for prod_idx in data['viewed_products']:\n",
    "#            try:\n",
    "#                sessions[data['session_id']].append(prod_idx)\n",
    "#            except ValueError: \n",
    "#                print('Sktrain_labelsiped ' + prod_idx)"
   ]
  },
  {
   "cell_type": "code",
   "execution_count": 6,
   "metadata": {},
   "outputs": [
    {
     "name": "stderr",
     "output_type": "stream",
     "text": [
      "1209561it [00:09, 130576.15it/s]\n"
     ]
    }
   ],
   "source": [
    "users = {}\n",
    "with open(file, encoding='utf8') as f:\n",
    "    for line in tqdm(f):\n",
    "        data = json.loads(line)\n",
    "        if data['visitor_id'] not in users:\n",
    "            users[data['visitor_id']] = []\n",
    "        for prod_idx in data['viewed_products']:\n",
    "            try:\n",
    "                users[data['visitor_id']].append(prod_idx)\n",
    "            except ValueError: \n",
    "                print('Sktrain_labelsiped ' + prod_idx)"
   ]
  },
  {
   "cell_type": "code",
   "execution_count": 7,
   "metadata": {},
   "outputs": [],
   "source": [
    "#sessions_lens = list(map(lambda x: len(x), sessions.values()))\n",
    "users_lens = list(map(lambda x: len(x), users.values()))"
   ]
  },
  {
   "cell_type": "code",
   "execution_count": 8,
   "metadata": {},
   "outputs": [
    {
     "name": "stdout",
     "output_type": "stream",
     "text": [
      "243384\n"
     ]
    }
   ],
   "source": [
    "#print(len(sessions.keys()))\n",
    "print(len(users.keys()))"
   ]
  },
  {
   "cell_type": "code",
   "execution_count": 9,
   "metadata": {},
   "outputs": [],
   "source": [
    "#d = plt.hist(sessions_lens, bins=100, range=(3, 103))"
   ]
  },
  {
   "cell_type": "code",
   "execution_count": 10,
   "metadata": {},
   "outputs": [
    {
     "data": {
      "image/png": "[encoded data removed]",
      "text/plain": [
       "<matplotlib.figure.Figure at 0x7f78e2291748>"
      ]
     },
     "metadata": {},
     "output_type": "display_data"
    }
   ],
   "source": [
    "d = plt.hist(users_lens, bins=100, range=(3, 103))"
   ]
  },
  {
   "cell_type": "code",
   "execution_count": 11,
   "metadata": {},
   "outputs": [],
   "source": [
    "products = {}\n",
    "for u in users.values():\n",
    "    for pid in u:\n",
    "        products[pid] = 1\n",
    "product_idxs = products.keys()\n",
    "product_ids = {v: k for k, v in enumerate(product_idxs)}\n",
    "number_of_classes = len(product_idxs)"
   ]
  },
  {
   "cell_type": "code",
   "execution_count": 13,
   "metadata": {},
   "outputs": [],
   "source": [
    "def chunks(l, n):\n",
    "    for i in range(0, len(l), n):\n",
    "        yield l[i:i + n]"
   ]
  },
  {
   "cell_type": "code",
   "execution_count": 56,
   "metadata": {},
   "outputs": [],
   "source": [
    "def dedup(seq):\n",
    "    seen = set()\n",
    "    seen_add = seen.add\n",
    "\n",
    "    return [x for x in seq if not (x in seen or seen_add(x))]\n",
    "\n",
    "\n",
    "users_with_product_idxs = {}\n",
    "for uid,products in users.items():\n",
    "    ids = dedup(list(map(lambda x: product_ids[x], products)))[-40:]\n",
    "    if len(ids) > 1:\n",
    "        if len(ids) not in users_with_product_idxs:\n",
    "            users_with_product_idxs[len(ids)] = []\n",
    "        users_with_product_idxs[len(ids)].append(ids)\n",
    "    \n",
    "#del users"
   ]
  },
  {
   "cell_type": "code",
   "execution_count": 65,
   "metadata": {},
   "outputs": [],
   "source": [
    "max_batch_size = 32\n",
    "test_size = 0.1\n",
    "user_batches = []\n",
    "user_valid_batches = []\n",
    "for len_group in users_with_product_idxs.values():\n",
    "    random.shuffle(len_group)\n",
    "    for batch in chunks(len_group, max_batch_size):\n",
    "        batch_data = np.array(list(map(lambda x: x[:-1], batch)))\n",
    "        batch_labels = np.expand_dims(np.array(list(map(lambda x: x[1:], batch))), axis=2)\n",
    "        if random.random() < test_size:\n",
    "            user_valid_batches.append(\n",
    "                (batch_data, batch_labels)\n",
    "            )\n",
    "        else:\n",
    "            user_batches.append(\n",
    "                (batch_data, batch_labels)\n",
    "            )"
   ]
  },
  {
   "cell_type": "code",
   "execution_count": 66,
   "metadata": {},
   "outputs": [],
   "source": [
    "\n",
    "def generate_from_array(arr):\n",
    "    while True:\n",
    "        random.shuffle(arr)\n",
    "        for i in arr: \n",
    "            yield i\n",
    "    "
   ]
  },
  {
   "cell_type": "code",
   "execution_count": 67,
   "metadata": {},
   "outputs": [],
   "source": [
    "#raw_data = []\n",
    "#raw_abels  = []\n",
    "#for products in tqdm(users_with_product_idxs):\n",
    "#    if(len(products) > 1):\n",
    "#        for i in range(len(products) - 6):\n",
    "#            raw_data.append(np.array(products[:-1]))\n",
    "#            raw_abels.append(np.array(products[-1]))"
   ]
  },
  {
   "cell_type": "code",
   "execution_count": 68,
   "metadata": {},
   "outputs": [],
   "source": [
    "#data_np = np.stack(raw_data)\n",
    "#labels_np = np.expand_dims(np.stack(raw_abels), axis=1)"
   ]
  },
  {
   "cell_type": "code",
   "execution_count": 69,
   "metadata": {},
   "outputs": [],
   "source": [
    "#from sklearn.model_selection import train_test_split\n",
    "#train_data, valid_data, train_labels, valid_labels  = train_test_split(data_np , labels_np, test_size=0.10, shuffle=True)"
   ]
  },
  {
   "cell_type": "code",
   "execution_count": 70,
   "metadata": {},
   "outputs": [],
   "source": [
    "from keras.models import Sequential\n",
    "from keras.layers import Embedding, CuDNNGRU, Dense, Dropout, TimeDistributed,Bidirectional\n",
    "from keras.layers.normalization import BatchNormalization\n",
    "from keras.optimizers import Nadam\n",
    "from keras.optimizers import Nadam\n",
    "\n",
    "\n",
    "n_hidden = 200\n",
    "\n",
    "model=Sequential([\n",
    "        Embedding(number_of_classes, n_hidden, batch_input_shape=(None,None)),\n",
    "        BatchNormalization(),\n",
    "        CuDNNGRU(4*n_hidden, input_shape=(None,n_hidden),return_sequences=True),\n",
    "        Dropout(0.2),\n",
    "        CuDNNGRU(4*n_hidden,return_sequences=True),\n",
    "        Dropout(0.2),\n",
    "        TimeDistributed(Dense(n_hidden)),\n",
    "        TimeDistributed(Dense(number_of_classes, activation='softmax'))\n",
    "    ])"
   ]
  },
  {
   "cell_type": "code",
   "execution_count": 71,
   "metadata": {},
   "outputs": [],
   "source": [
    "model.compile(loss='sparse_categorical_crossentropy', metrics=['sparse_categorical_accuracy'], optimizer=Nadam())"
   ]
  },
  {
   "cell_type": "code",
   "execution_count": 73,
   "metadata": {},
   "outputs": [
    {
     "name": "stdout",
     "output_type": "stream",
     "text": [
      "Epoch 1/4\n",
      "3521/3521 [==============================] - 44s 12ms/step - loss: 4.2104 - sparse_categorical_accuracy: 0.1728 - val_loss: 3.9163 - val_sparse_categorical_accuracy: 0.1887\n",
      "Epoch 2/4\n",
      "3521/3521 [==============================] - 42s 12ms/step - loss: 3.9731 - sparse_categorical_accuracy: 0.1907 - val_loss: 3.8539 - val_sparse_categorical_accuracy: 0.1990\n",
      "Epoch 3/4\n",
      "3521/3521 [==============================] - 42s 12ms/step - loss: 3.9178 - sparse_categorical_accuracy: 0.1952 - val_loss: 3.8307 - val_sparse_categorical_accuracy: 0.2020\n",
      "Epoch 4/4\n",
      "3521/3521 [==============================] - 40s 11ms/step - loss: 3.8830 - sparse_categorical_accuracy: 0.1984 - val_loss: 3.7794 - val_sparse_categorical_accuracy: 0.2066\n"
     ]
    },
    {
     "data": {
      "text/plain": [
       "<keras.callbacks.History at 0x7f781123e630>"
      ]
     },
     "execution_count": 73,
     "metadata": {},
     "output_type": "execute_result"
    }
   ],
   "source": [
    "model.fit_generator(\n",
    "    generate_from_array(user_batches), \n",
    "    validation_data=generate_from_array(user_valid_batches), \n",
    "    steps_per_epoch=len(user_batches),\n",
    "    validation_steps=len(user_valid_batches),\n",
    "    epochs=4\n",
    ")"
   ]
  },
  {
   "cell_type": "code",
   "execution_count": null,
   "metadata": {},
   "outputs": [],
   "source": [
    "#model.fit(train_data, train_labels,validation_data=(valid_data,valid_labels), batch_size=256, epochs=4, shuffle=True)"
   ]
  },
  {
   "cell_type": "code",
   "execution_count": 81,
   "metadata": {},
   "outputs": [],
   "source": [
    "model.save('/data/predict/15F90ABFD1B13CE2/15F90ABFD1B13CE2_predict_v3_dedup.h5')"
   ]
  },
  {
   "cell_type": "code",
   "execution_count": 82,
   "metadata": {},
   "outputs": [],
   "source": [
    "model.save_weights('/data/predict/15F90ABFD1B13CE2/15F90ABFD1B13CE2_predict_weights_v3_1_dedup.h5')"
   ]
  },
  {
   "cell_type": "code",
   "execution_count": 83,
   "metadata": {},
   "outputs": [],
   "source": [
    "import csv\n",
    "with open('/data/predict/15F90ABFD1B13CE2/15F90ABFD1B13CE2_product_ids_3_dedup.csv', 'w') as csvfile:\n",
    "    spamwriter = csv.writer(csvfile)\n",
    "    for line in product_idxs:\n",
    "        spamwriter.writerow([line])"
   ]
  },
  {
   "cell_type": "markdown",
   "metadata": {},
   "source": [
    "## Eye ball validation"
   ]
  },
  {
   "cell_type": "code",
   "execution_count": 88,
   "metadata": {},
   "outputs": [],
   "source": [
    "product_map = {}\n",
    "with open('/data/predict/15F90ABFD1B13CE2/15F90ABFD1B13CE2_image_links.csv', 'r') as csvfile:\n",
    "    spamreader = csv.reader(csvfile)\n",
    "    for row in spamreader:\n",
    "        product_map[row[0]] = row[1]"
   ]
  },
  {
   "cell_type": "code",
   "execution_count": 246,
   "metadata": {},
   "outputs": [
    {
     "data": {
      "text/html": [
       "<table><tr><th><img src=\"https://media.hunterboots.com/public/api/cloudfront/image/22465/800/natural/90/FFFFFF/0/20170406155302FLD_DOV_SS17_UAS3063AAA_product.jpg\" width=\"130\"></th><td style=\"background-color:black;\"></td><td><img src=\"https://media.hunterboots.com/public/api/cloudfront/image/22463/800/natural/90/FFFFFF/0/20170406155301FLD_CRM_SS17_UAS3063AAA_product.jpg\"  width=\"130\"></td><td><img src=\"https://media.hunterboots.com/public/api/cloudfront/image/17241/800/natural/90/FFFFFF/0/20160823102606FLD_DOV_AW16_UAS3001AAC_product.jpg\"  width=\"130\"></td><td><img src=\"http://www.lackuna.com/wp-content/themes/fearless/images/missing-image-640x360.png\"  width=\"130\"></td><td><img src=\"https://media.hunterboots.com/public/api/cloudfront/image/25180/800/natural/90/FFFFFF/0/20170712164455ORG_BLK_AW17_WFT1000RMA_product.jpg\"  width=\"130\"></td><td><img src=\"http://www.lackuna.com/wp-content/themes/fearless/images/missing-image-640x360.png\"  width=\"130\"></td><td><img src=\"https://media.hunterboots.com/public/api/cloudfront/image/5977/800/natural/90/FFFFFF/0/20150519134255ORG_BLK_SS15_UAS3000AAA_product.jpg\"  width=\"130\"></td></tr><tr><th><img src=\"https://media.hunterboots.com/public/api/cloudfront/image/9272/800/natural/90/FFFFFF/0/20150824095830ORG_GRG_AW15_UAS3036AAB_product.jpg\" width=\"130\"></th><td style=\"background-color:black;\"></td><td><img src=\"https://media.hunterboots.com/public/api/cloudfront/image/9168/800/natural/90/FFFFFF/0/20150804094336ORG_NWH_AW15_UAS3036AAB_product.jpg\"  width=\"130\"></td><td><img src=\"https://media.hunterboots.com/public/api/cloudfront/image/16079/800/natural/90/FFFFFF/0/20160621121914ORG_GZB_SS16_UAS3036AAB_product.jpg\"  width=\"130\"></td><td><img src=\"https://media.hunterboots.com/public/api/cloudfront/image/9164/800/natural/90/FFFFFF/0/20150804094317ORG_BLK_AW15_UAS3036AAB_product.jpg\"  width=\"130\"></td><td><img src=\"https://media.hunterboots.com/public/api/cloudfront/image/24707/800/natural/90/FFFFFF/0/20170630093434ORG_DIP_AW17_UAS3036AAB_product.jpg\"  width=\"130\"></td><td><img src=\"https://media.hunterboots.com/public/api/cloudfront/image/24705/800/natural/90/FFFFFF/0/20170630093433ORG_DIB_AW17_UAS3036AAB_product.jpg\"  width=\"130\"></td><td><img src=\"https://media.hunterboots.com/public/api/cloudfront/image/25180/800/natural/90/FFFFFF/0/20170712164455ORG_BLK_AW17_WFT1000RMA_product.jpg\"  width=\"130\"></td></tr><tr><th><img src=\"https://media.hunterboots.com/public/api/cloudfront/image/16426/800/natural/90/FFFFFF/0/20160627104958ORG_NVY_AW16_WFT1071RMA_product.jpg\" width=\"130\"></th><td style=\"background-color:black;\"></td><td><img src=\"https://media.hunterboots.com/public/api/cloudfront/image/16797/800/natural/90/FFFFFF/0/20160715114052ORG_BLK_AW16_WFT1071RMA_product.jpg\"  width=\"130\"></td><td><img src=\"https://media.hunterboots.com/public/api/cloudfront/image/26901/800/natural/90/FFFFFF/0/20171018111504ORG_NEP_AW17_WFT1071RMA_product.jpg\"  width=\"130\"></td><td><img src=\"https://media.hunterboots.com/public/api/cloudfront/image/25875/800/natural/90/FFFFFF/0/20171004150722ORG_PTO_AW17_WFT1071RMA_product.jpg\"  width=\"130\"></td><td><img src=\"https://media.hunterboots.com/public/api/cloudfront/image/25970/800/natural/90/FFFFFF/0/20170918102137ORG_SCT_AW17_WFT1071RMA_product.jpg\"  width=\"130\"></td><td><img src=\"http://www.lackuna.com/wp-content/themes/fearless/images/missing-image-640x360.png\"  width=\"130\"></td><td><img src=\"https://media.hunterboots.com/public/api/cloudfront/image/25180/800/natural/90/FFFFFF/0/20170712164455ORG_BLK_AW17_WFT1000RMA_product.jpg\"  width=\"130\"></td></tr><tr><th><img src=\"https://media.hunterboots.com/public/api/cloudfront/image/6694/800/natural/90/FFFFFF/0/20160119095735ORG_NVY_SS15_UAS3000AAA_product.jpg\" width=\"130\"></th><td style=\"background-color:black;\"></td><td><img src=\"https://media.hunterboots.com/public/api/cloudfront/image/5981/800/natural/90/FFFFFF/0/20150519134331ORG_CRM_SS15_UAS3000AAA_product.jpg\"  width=\"130\"></td><td><img src=\"https://media.hunterboots.com/public/api/cloudfront/image/5977/800/natural/90/FFFFFF/0/20150519134255ORG_BLK_SS15_UAS3000AAA_product.jpg\"  width=\"130\"></td><td><img src=\"https://media.hunterboots.com/public/api/cloudfront/image/18708/800/natural/90/FFFFFF/0/20160916103222ORG_RPK_AW16_UAS3000AAA_product.jpg\"  width=\"130\"></td><td><img src=\"https://media.hunterboots.com/public/api/cloudfront/image/21209/800/natural/90/FFFFFF/0/20161216163140ORG_RST_AW16_UAS3000AAA_product.jpg\"  width=\"130\"></td><td><img src=\"https://media.hunterboots.com/public/api/cloudfront/image/25180/800/natural/90/FFFFFF/0/20170712164455ORG_BLK_AW17_WFT1000RMA_product.jpg\"  width=\"130\"></td><td><img src=\"https://media.hunterboots.com/public/api/cloudfront/image/18712/800/natural/90/FFFFFF/0/20160916103228ORG_WHT_AW16_UAS3000AAA_product.jpg\"  width=\"130\"></td></tr><tr><th><img src=\"https://media.hunterboots.com/public/api/cloudfront/image/22463/800/natural/90/FFFFFF/0/20170406155301FLD_CRM_SS17_UAS3063AAA_product.jpg\" width=\"130\"></th><td style=\"background-color:black;\"></td><td><img src=\"https://media.hunterboots.com/public/api/cloudfront/image/22465/800/natural/90/FFFFFF/0/20170406155302FLD_DOV_SS17_UAS3063AAA_product.jpg\"  width=\"130\"></td><td><img src=\"https://media.hunterboots.com/public/api/cloudfront/image/5977/800/natural/90/FFFFFF/0/20150519134255ORG_BLK_SS15_UAS3000AAA_product.jpg\"  width=\"130\"></td><td><img src=\"https://media.hunterboots.com/public/api/cloudfront/image/18708/800/natural/90/FFFFFF/0/20160916103222ORG_RPK_AW16_UAS3000AAA_product.jpg\"  width=\"130\"></td><td><img src=\"https://media.hunterboots.com/public/api/cloudfront/image/6838/800/natural/90/FFFFFF/0/20150928141613ORG_BLK_SS15_UAS3015AAH_product.jpg\"  width=\"130\"></td><td><img src=\"https://media.hunterboots.com/public/api/cloudfront/image/5981/800/natural/90/FFFFFF/0/20150519134331ORG_CRM_SS15_UAS3000AAA_product.jpg\"  width=\"130\"></td><td><img src=\"https://media.hunterboots.com/public/api/cloudfront/image/9272/800/natural/90/FFFFFF/0/20150824095830ORG_GRG_AW15_UAS3036AAB_product.jpg\"  width=\"130\"></td></tr><tr><th><img src=\"https://media.hunterboots.com/public/api/cloudfront/image/9168/800/natural/90/FFFFFF/0/20150804094336ORG_NWH_AW15_UAS3036AAB_product.jpg\" width=\"130\"></th><td style=\"background-color:black;\"></td><td><img src=\"https://media.hunterboots.com/public/api/cloudfront/image/9272/800/natural/90/FFFFFF/0/20150824095830ORG_GRG_AW15_UAS3036AAB_product.jpg\"  width=\"130\"></td><td><img src=\"https://media.hunterboots.com/public/api/cloudfront/image/24707/800/natural/90/FFFFFF/0/20170630093434ORG_DIP_AW17_UAS3036AAB_product.jpg\"  width=\"130\"></td><td><img src=\"https://media.hunterboots.com/public/api/cloudfront/image/16079/800/natural/90/FFFFFF/0/20160621121914ORG_GZB_SS16_UAS3036AAB_product.jpg\"  width=\"130\"></td><td><img src=\"https://media.hunterboots.com/public/api/cloudfront/image/9164/800/natural/90/FFFFFF/0/20150804094317ORG_BLK_AW15_UAS3036AAB_product.jpg\"  width=\"130\"></td><td><img src=\"https://media.hunterboots.com/public/api/cloudfront/image/5981/800/natural/90/FFFFFF/0/20150519134331ORG_CRM_SS15_UAS3000AAA_product.jpg\"  width=\"130\"></td><td><img src=\"https://media.hunterboots.com/public/api/cloudfront/image/24705/800/natural/90/FFFFFF/0/20170630093433ORG_DIB_AW17_UAS3036AAB_product.jpg\"  width=\"130\"></td></tr></table>"
      ],
      "text/plain": [
       "<IPython.core.display.HTML object>"
      ]
     },
     "metadata": {},
     "output_type": "display_data"
    }
   ],
   "source": [
    "from IPython.core.display import display as core_display\n",
    "from IPython.core.display import HTML \n",
    "\n",
    "def product_to_url(product):\n",
    "    try:\n",
    "        return [product,product_map[list(product_idxs)[product]]]\n",
    "    except KeyError:\n",
    "        return [product,'http://www.lackuna.com/wp-content/themes/fearless/images/missing-image-640x360.png']\n",
    "\n",
    "def display_session(session):\n",
    "    products = list(map(product_to_url, session))\n",
    "    predictions = model.predict([session])\n",
    "    html = '<table>'\n",
    "    seen = set()\n",
    "    for i,product in enumerate(products):\n",
    "        html += '<tr>'\n",
    "        html += '<th><img src=\"' + product[1] + '\" width=\"130\"></th><td style=\"background-color:black;\"></td>'\n",
    "        top_idx = list(np.argsort(predictions[i][0])[::-1])\n",
    "        seen.add(product[0])\n",
    "        \n",
    "        j = 0\n",
    "        for pred in top_idx:\n",
    "            if pred in seen:\n",
    "                next\n",
    "                                \n",
    "            if i < len(products) - 1 and pred == products[i+1][0]:\n",
    "                style = 'style=\"border:1px solid red;\"'\n",
    "            else:\n",
    "                style = ''\n",
    "                \n",
    "            pred_data = product_to_url(pred)\n",
    "            html += '<td><img src=\"' + pred_data[1] + '\" '+style+' width=\"130\"></td>'\n",
    "            j+=1\n",
    "            if j > 5:\n",
    "                break\n",
    "                \n",
    "        html += '</tr>'\n",
    "    html += '</table>'\n",
    "\n",
    "    core_display(HTML(html))\n",
    "\n",
    "display_session(random.choice(random.choice(user_valid_batches)[0]))"
   ]
  },
  {
   "cell_type": "code",
   "execution_count": null,
   "metadata": {},
   "outputs": [],
   "source": []
  }
 ],
 "metadata": {
  "kernelspec": {
   "display_name": "Python 3",
   "language": "python",
   "name": "python3"
  },
  "language_info": {
   "codemirror_mode": {
    "name": "ipython",
    "version": 3
   },
   "file_extension": ".py",
   "mimetype": "text/x-python",
   "name": "python",
   "nbconvert_exporter": "python",
   "pygments_lexer": "ipython3",
   "version": "3.5.4"
  }
 },
 "nbformat": 4,
 "nbformat_minor": 2
}
