{
 "cells": [
  {
   "cell_type": "code",
   "execution_count": 1,
   "metadata": {},
   "outputs": [
    {
     "name": "stderr",
     "output_type": "stream",
     "text": [
      "Using TensorFlow backend.\n"
     ]
    }
   ],
   "source": [
    "import json\n",
    "import matplotlib.pyplot as plt\n",
    "from keras.utils import to_categorical\n",
    "from tqdm import tqdm\n",
    "import random\n",
    "import numpy as np"
   ]
  },
  {
   "cell_type": "code",
   "execution_count": 2,
   "metadata": {},
   "outputs": [],
   "source": [
    "%matplotlib inline"
   ]
  },
  {
   "cell_type": "code",
   "execution_count": 3,
   "metadata": {},
   "outputs": [],
   "source": [
    "merchant_id = '11167ECFF94860EA'"
   ]
  },
  {
   "cell_type": "code",
   "execution_count": 4,
   "metadata": {},
   "outputs": [],
   "source": [
    "file = '/data/predict/'+merchant_id+'/'+merchant_id+'_logs.json'"
   ]
  },
  {
   "cell_type": "code",
   "execution_count": 5,
   "metadata": {},
   "outputs": [
    {
     "name": "stderr",
     "output_type": "stream",
     "text": [
      "59810it [00:00, 127822.48it/s]\n"
     ]
    }
   ],
   "source": [
    "users = {}\n",
    "with open(file, encoding='utf8') as f:\n",
    "    for line in tqdm(f):\n",
    "        data = json.loads(line)\n",
    "        if data['visitor_id'] not in users:\n",
    "            users[data['visitor_id']] = []\n",
    "        for prod_idx in data['viewed_products']:\n",
    "            try:\n",
    "                users[data['visitor_id']].append(prod_idx)\n",
    "            except ValueError: \n",
    "                print('Sktrain_labelsiped ' + prod_idx)"
   ]
  },
  {
   "cell_type": "code",
   "execution_count": 6,
   "metadata": {},
   "outputs": [],
   "source": [
    "users_lens = list(map(lambda x: len(x), users.values()))"
   ]
  },
  {
   "cell_type": "code",
   "execution_count": 7,
   "metadata": {},
   "outputs": [
    {
     "name": "stdout",
     "output_type": "stream",
     "text": [
      "15710\n"
     ]
    }
   ],
   "source": [
    "print(len(users.keys()))"
   ]
  },
  {
   "cell_type": "code",
   "execution_count": 8,
   "metadata": {},
   "outputs": [
    {
     "data": {
      "image/png": "[encoded data removed]",
      "text/plain": [
       "<matplotlib.figure.Figure at 0x7f582ce30ac8>"
      ]
     },
     "metadata": {},
     "output_type": "display_data"
    }
   ],
   "source": [
    "d = plt.hist(users_lens, bins=100, range=(3, 103))"
   ]
  },
  {
   "cell_type": "code",
   "execution_count": 9,
   "metadata": {},
   "outputs": [],
   "source": [
    "products = {}\n",
    "for u in users.values():\n",
    "    for pid in u:\n",
    "        products[pid] = 1\n",
    "product_idxs = products.keys()\n",
    "product_ids = {v: k for k, v in enumerate(product_idxs)}\n",
    "number_of_classes = len(product_idxs)"
   ]
  },
  {
   "cell_type": "code",
   "execution_count": 10,
   "metadata": {},
   "outputs": [
    {
     "name": "stdout",
     "output_type": "stream",
     "text": [
      "2043\n"
     ]
    }
   ],
   "source": [
    "print(number_of_classes)"
   ]
  },
  {
   "cell_type": "code",
   "execution_count": 11,
   "metadata": {},
   "outputs": [],
   "source": [
    "def chunks(l, n):\n",
    "    for i in range(0, len(l), n):\n",
    "        yield l[i:i + n]"
   ]
  },
  {
   "cell_type": "code",
   "execution_count": 12,
   "metadata": {},
   "outputs": [],
   "source": [
    "def dedup(seq):\n",
    "    seen = set()\n",
    "    seen_add = seen.add\n",
    "\n",
    "    return [x for x in seq if not (x in seen or seen_add(x))]\n",
    "\n",
    "\n",
    "users_with_product_idxs = {}\n",
    "for uid,products in users.items():\n",
    "    ids = dedup(list(map(lambda x: product_ids[x], products)))[-40:]\n",
    "    if len(ids) > 1:\n",
    "        if len(ids) not in users_with_product_idxs:\n",
    "            users_with_product_idxs[len(ids)] = []\n",
    "        users_with_product_idxs[len(ids)].append(ids)\n",
    "    \n",
    "del users"
   ]
  },
  {
   "cell_type": "code",
   "execution_count": 13,
   "metadata": {},
   "outputs": [],
   "source": [
    "max_batch_size = 32\n",
    "test_size = 0.1\n",
    "user_batches = []\n",
    "user_valid_batches = []\n",
    "for len_group in users_with_product_idxs.values():\n",
    "    random.shuffle(len_group)\n",
    "    for batch in chunks(len_group, max_batch_size):\n",
    "        batch_data = np.array(list(map(lambda x: x[:-1], batch)))\n",
    "        batch_labels = np.expand_dims(np.array(list(map(lambda x: x[1:], batch))), axis=2)\n",
    "        if random.random() < test_size:\n",
    "            user_valid_batches.append(\n",
    "                (batch_data, batch_labels)\n",
    "            )\n",
    "        else:\n",
    "            user_batches.append(\n",
    "                (batch_data, batch_labels)\n",
    "            )"
   ]
  },
  {
   "cell_type": "code",
   "execution_count": 14,
   "metadata": {},
   "outputs": [],
   "source": [
    "\n",
    "def generate_from_array(arr):\n",
    "    while True:\n",
    "        random.shuffle(arr)\n",
    "        for i in arr: \n",
    "            yield i\n",
    "    "
   ]
  },
  {
   "cell_type": "code",
   "execution_count": 35,
   "metadata": {},
   "outputs": [],
   "source": [
    "from keras.models import Sequential\n",
    "from keras.layers import Embedding, GRU, Dense, Dropout, TimeDistributed,Bidirectional\n",
    "from keras.layers.normalization import BatchNormalization\n",
    "from keras.optimizers import Nadam\n",
    "\n",
    "\n",
    "n_hidden = 200\n",
    "\n",
    "model=Sequential([\n",
    "        Embedding(number_of_classes, n_hidden, batch_input_shape=(None,None)),\n",
    "        BatchNormalization(),\n",
    "        GRU(4*n_hidden, input_shape=(None,n_hidden),return_sequences=True),\n",
    "        Dropout(0.2),\n",
    "        #GRU(4*n_hidden,return_sequences=True),\n",
    "        #Dropout(0.2),\n",
    "        #TimeDistributed(Dense(n_hidden, activation='relu')),\n",
    "        TimeDistributed(Dense(number_of_classes, activation='softmax'))\n",
    "    ])"
   ]
  },
  {
   "cell_type": "code",
   "execution_count": 36,
   "metadata": {},
   "outputs": [],
   "source": [
    "from keras.backend import reshape, prod, shape, stack\n",
    "from keras.metrics import sparse_top_k_categorical_accuracy\n",
    "\n",
    "def flatten_first_n_dimension(x, first_n=2):\n",
    "    new_dims = stack([prod(shape(x)[:first_n]), prod(shape(x)[first_n:])])\n",
    "\n",
    "    return reshape(x, new_dims)\n",
    "\n",
    "def sparse_timedistributed_top_k_categorical_accuracy(y_true, y_pred, k=5):\n",
    "    y_true_reshaped = flatten_first_n_dimension(y_true)\n",
    "    y_pred_reshaped = flatten_first_n_dimension(y_pred)\n",
    "\n",
    "    return sparse_top_k_categorical_accuracy(y_true_reshaped, y_pred_reshaped, k)"
   ]
  },
  {
   "cell_type": "code",
   "execution_count": 37,
   "metadata": {},
   "outputs": [],
   "source": [
    "model.compile(loss='sparse_categorical_crossentropy', metrics=['sparse_categorical_accuracy',sparse_timedistributed_top_k_categorical_accuracy], optimizer=Nadam())"
   ]
  },
  {
   "cell_type": "code",
   "execution_count": 38,
   "metadata": {},
   "outputs": [],
   "source": [
    "import csv\n",
    "with open('/data/predict/'+merchant_id+'/'+merchant_id+'_variable_length_model_id_map.csv', 'w',encoding='utf8') as csvfile:\n",
    "    spamwriter = csv.writer(csvfile)\n",
    "    for line in product_idxs:\n",
    "        spamwriter.writerow([line])"
   ]
  },
  {
   "cell_type": "code",
   "execution_count": 39,
   "metadata": {},
   "outputs": [],
   "source": [
    "from keras.callbacks import ModelCheckpoint\n",
    "filepath='/data/predict/'+merchant_id+'/'+merchant_id+'_variable_length_model-{epoch:02d}-{val_loss:.2f}.hdf5'\n",
    "checkpoint = ModelCheckpoint(filepath, monitor='val_sparse_timedistributed_top_k_categorical_accuracy', verbose=1, save_best_only=False, mode='max')"
   ]
  },
  {
   "cell_type": "code",
   "execution_count": 45,
   "metadata": {},
   "outputs": [
    {
     "name": "stdout",
     "output_type": "stream",
     "text": [
      "Epoch 1/1\n",
      "231/236 [============================>.] - ETA: 0s - loss: 4.5884 - sparse_categorical_accuracy: 0.1537 - sparse_timedistributed_top_k_categorical_accuracy: 0.4000Epoch 00001: saving model to /data/predict/11167ECFF94860EA/11167ECFF94860EA_variable_length_model-01-5.55.hdf5\n",
      "236/236 [==============================] - 3s 13ms/step - loss: 4.5853 - sparse_categorical_accuracy: 0.1536 - sparse_timedistributed_top_k_categorical_accuracy: 0.4004 - val_loss: 5.5530 - val_sparse_categorical_accuracy: 0.0959 - val_sparse_timedistributed_top_k_categorical_accuracy: 0.2735\n"
     ]
    },
    {
     "data": {
      "text/plain": [
       "<keras.callbacks.History at 0x7f57eac19f98>"
      ]
     },
     "execution_count": 45,
     "metadata": {},
     "output_type": "execute_result"
    }
   ],
   "source": [
    "model.fit_generator(\n",
    "    generate_from_array(user_batches), \n",
    "    validation_data=generate_from_array(user_valid_batches), \n",
    "    steps_per_epoch=len(user_batches),\n",
    "    validation_steps=len(user_valid_batches),\n",
    "    epochs=1,\n",
    "    callbacks=[checkpoint]\n",
    ")"
   ]
  },
  {
   "cell_type": "markdown",
   "metadata": {},
   "source": [
    "## Eye ball validation"
   ]
  },
  {
   "cell_type": "code",
   "execution_count": 41,
   "metadata": {},
   "outputs": [],
   "source": [
    "import csv"
   ]
  },
  {
   "cell_type": "code",
   "execution_count": 46,
   "metadata": {},
   "outputs": [],
   "source": [
    "product_map = {}\n",
    "with open('/data/predict/'+merchant_id+'/'+merchant_id+'_catalog.csv', 'r', encoding='utf8') as csvfile:\n",
    "    spamreader = csv.reader(csvfile)\n",
    "    header = next(spamreader)\n",
    "    item_id = header.index('item')\n",
    "    image_url = header.index('image')\n",
    "    title = header.index('title')\n",
    "    link = header.index('link')\n",
    "    \n",
    "    for row in spamreader:\n",
    "        product_map[row[item_id]] = [row[image_url], row[title], row[link]]"
   ]
  },
  {
   "cell_type": "code",
   "execution_count": 47,
   "metadata": {},
   "outputs": [
    {
     "data": {
      "application/javascript": [
       "IPython.OutputArea.prototype._should_scroll = function(lines) {\n",
       "    return false;\n",
       "}"
      ],
      "text/plain": [
       "<IPython.core.display.Javascript object>"
      ]
     },
     "metadata": {},
     "output_type": "display_data"
    }
   ],
   "source": [
    "%%javascript\n",
    "IPython.OutputArea.prototype._should_scroll = function(lines) {\n",
    "    return false;\n",
    "}"
   ]
  },
  {
   "cell_type": "code",
   "execution_count": 51,
   "metadata": {},
   "outputs": [
    {
     "data": {
      "text/html": [
       "<table><tr><th style=\"text-align:center;width:120px\"><img src=\"http://www.lackuna.com/wp-content/themes/fearless/images/missing-image-640x360.png\" width=\"130\"><br/><a href=\"\"></a></br>UNKNOWN</th><td style=\"background-color:black;\"></td><td style=\"width:130px\"><img src=\"http://www.lackuna.com/wp-content/themes/fearless/images/missing-image-640x360.png\"  width=\"130\"><br/><a href=\"\"></a></br>UNKNOWN</td><td style=\"width:130px\"><img src=\"http://www.lackuna.com/wp-content/themes/fearless/images/missing-image-640x360.png\"  width=\"130\"><br/><a href=\"\"></a></br>UNKNOWN</td><td style=\"width:130px\"><img src=\"http://www.lackuna.com/wp-content/themes/fearless/images/missing-image-640x360.png\" style=\"border:3px dashed red;\" width=\"130\"><br/><a href=\"\"></a></br>UNKNOWN</td><td style=\"width:130px\"><img src=\"http://www.nkd.com/wcsstore/NKD2/images/catalog/2043560x1x1_M.jpg\"  width=\"130\"><br/><a href=\"http://www.nkd.com/damenmode-damen-jacken-westen/Damen-Daunenjacke-mit-Kontrast-Futter_207551_435556.html\">2043560</a></br>Damen-Daunenjacke mit Kontrast-Futter</td><td style=\"width:130px\"><img src=\"http://www.lackuna.com/wp-content/themes/fearless/images/missing-image-640x360.png\"  width=\"130\"><br/><a href=\"\"></a></br>UNKNOWN</td><td style=\"width:130px\"><img src=\"http://www.lackuna.com/wp-content/themes/fearless/images/missing-image-640x360.png\"  width=\"130\"><br/><a href=\"\"></a></br>UNKNOWN</td></tr><tr><th style=\"text-align:center;width:120px\"><img src=\"http://www.lackuna.com/wp-content/themes/fearless/images/missing-image-640x360.png\" width=\"130\"><br/><a href=\"\"></a></br>UNKNOWN</th><td style=\"background-color:black;\"></td><td style=\"width:130px\"><img src=\"http://www.lackuna.com/wp-content/themes/fearless/images/missing-image-640x360.png\"  width=\"130\"><br/><a href=\"\"></a></br>UNKNOWN</td><td style=\"width:130px\"><img src=\"http://www.lackuna.com/wp-content/themes/fearless/images/missing-image-640x360.png\"  width=\"130\"><br/><a href=\"\"></a></br>UNKNOWN</td><td style=\"width:130px\"><img src=\"http://www.nkd.com/wcsstore/NKD2/images/catalog/2042423x1x1_M.jpg\"  width=\"130\"><br/><a href=\"http://www.nkd.com/wohnideen-weihnachten/Mitteldecke-mit-winterlicher-Stickerei-ca-80x80cm_215066_434939.html\">2042423</a></br>Mitteldecke mit winterlicher Stickerei, ca. 80x80cm</td><td style=\"width:130px\"><img src=\"http://www.lackuna.com/wp-content/themes/fearless/images/missing-image-640x360.png\"  width=\"130\"><br/><a href=\"\"></a></br>UNKNOWN</td><td style=\"width:130px\"><img src=\"http://www.nkd.com/wcsstore/NKD2/images/catalog/2040989x1x1_M.jpg\"  width=\"130\"><br/><a href=\"http://www.nkd.com/wohnideen-dekoartikel/Memo-Board-aus-Holz-mit-9-Clips-ca-28x50cm_215059_433819.html\">2040989</a></br>Memo-Board aus Holz, mit 9 Clips, ca. 28x50cm</td><td style=\"width:130px\"><img src=\"http://www.nkd.com/wcsstore/NKD2/images/catalog/2041500x1x1_M.jpg\"  width=\"130\"><br/><a href=\"http://www.nkd.com/damenmode-damen-pullover-langarmshirts/Damen-Pullover-mit-tollem-Strickmuster_207551_435560.html\">2041500</a></br>Damen-Pullover mit tollem Strickmuster</td></tr><tr><th style=\"text-align:center;width:120px\"><img src=\"http://www.lackuna.com/wp-content/themes/fearless/images/missing-image-640x360.png\" width=\"130\"><br/><a href=\"\"></a></br>UNKNOWN</th><td style=\"background-color:black;\"></td><td style=\"width:130px\"><img src=\"http://www.lackuna.com/wp-content/themes/fearless/images/missing-image-640x360.png\"  width=\"130\"><br/><a href=\"\"></a></br>UNKNOWN</td><td style=\"width:130px\"><img src=\"http://www.nkd.com/wcsstore/NKD2/images/catalog/2043559x1x1_M.jpg\"  width=\"130\"><br/><a href=\"http://www.nkd.com/damenmode-damen-jacken-westen/Damen-2-in-1-Allwetterjacke_207551_435551.html\">2043559</a></br>Damen-2-in-1-Allwetterjacke</td><td style=\"width:130px\"><img src=\"http://www.nkd.com/wcsstore/NKD2/images/catalog/2042455x1x1_M.jpg\"  width=\"130\"><br/><a href=\"http://www.nkd.com/damenmode-brands-laura-torelli-classic/Damen-Strickjacke-mit-Lurexfaden_215062_428618.html\">2042455</a></br>Damen-Strickjacke mit Lurexfaden</td><td style=\"width:130px\"><img src=\"http://www.nkd.com/wcsstore/NKD2/images/catalog/2040959x1x1_M.jpg\"  width=\"130\"><br/><a href=\"http://www.nkd.com/schnaeppchen-damenmode-brands/Damen-Steppjacke-mit-abgerundetem-Saum_215081_432319.html\">2040959</a></br>Damen-Steppjacke mit abgerundetem Saum</td><td style=\"width:130px\"><img src=\"http://www.nkd.com/wcsstore/NKD2/images/catalog/2039690x1x1_M.jpg\"  width=\"130\"><br/><a href=\"http://www.nkd.com/damenmode-brands-laura-torelli-collection/Damen-Steppjacke-mit-Kapuze_215062_432820.html\">2039690</a></br>Damen-Steppjacke mit Kapuze</td><td style=\"width:130px\"><img src=\"http://www.lackuna.com/wp-content/themes/fearless/images/missing-image-640x360.png\"  width=\"130\"><br/><a href=\"\"></a></br>UNKNOWN</td></tr><tr><th style=\"text-align:center;width:120px\"><img src=\"http://www.lackuna.com/wp-content/themes/fearless/images/missing-image-640x360.png\" width=\"130\"><br/><a href=\"\"></a></br>UNKNOWN</th><td style=\"background-color:black;\"></td><td style=\"width:130px\"><img src=\"http://www.nkd.com/wcsstore/NKD2/images/catalog/2043559x1x1_M.jpg\"  width=\"130\"><br/><a href=\"http://www.nkd.com/damenmode-damen-jacken-westen/Damen-2-in-1-Allwetterjacke_207551_435551.html\">2043559</a></br>Damen-2-in-1-Allwetterjacke</td><td style=\"width:130px\"><img src=\"http://www.nkd.com/wcsstore/NKD2/images/catalog/2043560x1x1_M.jpg\"  width=\"130\"><br/><a href=\"http://www.nkd.com/damenmode-damen-jacken-westen/Damen-Daunenjacke-mit-Kontrast-Futter_207551_435556.html\">2043560</a></br>Damen-Daunenjacke mit Kontrast-Futter</td><td style=\"width:130px\"><img src=\"http://www.nkd.com/wcsstore/NKD2/images/catalog/2041500x1x1_M.jpg\"  width=\"130\"><br/><a href=\"http://www.nkd.com/damenmode-damen-pullover-langarmshirts/Damen-Pullover-mit-tollem-Strickmuster_207551_435560.html\">2041500</a></br>Damen-Pullover mit tollem Strickmuster</td><td style=\"width:130px\"><img src=\"http://www.nkd.com/wcsstore/NKD2/images/catalog/2042442x1x1_M.jpg\"  width=\"130\"><br/><a href=\"http://www.nkd.com/damenmode-damen-pullover-langarmshirts/Damen-Pullover-mit-Chiffon-Einsatz-am-Saum_207551_431720.html\">2042442</a></br>Damen-Pullover mit Chiffon-Einsatz am Saum</td><td style=\"width:130px\"><img src=\"http://www.nkd.com/wcsstore/NKD2/images/catalog/2040960x1x1_M.jpg\"  width=\"130\"><br/><a href=\"http://www.nkd.com/damenmode-brands-laura-torelli-collection/Damen-Parka-mit-Kunstfell_215062_434191.html\">2040960</a></br>Damen-Parka mit Kunstfell</td><td style=\"width:130px\"><img src=\"http://www.nkd.com/wcsstore/NKD2/images/catalog/2043309x1x1_M.jpg\"  width=\"130\"><br/><a href=\"http://www.nkd.com/damenmode-damen-pullover-langarmshirts/Damen-Carmenshirt-mit-trendigem-Muster_207551_434855.html\">2043309</a></br>Damen-Carmenshirt mit trendigem Muster</td></tr><tr><th style=\"text-align:center;width:120px\"><img src=\"http://www.nkd.com/wcsstore/NKD2/images/catalog/2042551x1x1_M.jpg\" width=\"130\"><br/><a href=\"http://www.nkd.com/damenmode-brands-laura-torelli-collection/Damen-Strickjacke-mit-grossem-Leo-Muster_215062_434133.html\">2042551</a></br>Damen-Strickjacke mit großem Leo-Muster</th><td style=\"background-color:black;\"></td><td style=\"width:130px\"><img src=\"http://www.nkd.com/wcsstore/NKD2/images/catalog/2040960x1x1_M.jpg\"  width=\"130\"><br/><a href=\"http://www.nkd.com/damenmode-brands-laura-torelli-collection/Damen-Parka-mit-Kunstfell_215062_434191.html\">2040960</a></br>Damen-Parka mit Kunstfell</td><td style=\"width:130px\"><img src=\"http://www.nkd.com/wcsstore/NKD2/images/catalog/2043659x1x1_M.jpg\"  width=\"130\"><br/><a href=\"http://www.nkd.com/damenmode-damen-pullover-langarmshirts/Damen-Jacquardpullover-aus-flauschigem-Material_207551_432372.html\">2043659</a></br>Damen-Jacquardpullover aus flauschigem Material</td><td style=\"width:130px\"><img src=\"http://www.nkd.com/wcsstore/NKD2/images/catalog/2043560x1x1_M.jpg\"  width=\"130\"><br/><a href=\"http://www.nkd.com/damenmode-damen-jacken-westen/Damen-Daunenjacke-mit-Kontrast-Futter_207551_435556.html\">2043560</a></br>Damen-Daunenjacke mit Kontrast-Futter</td><td style=\"width:130px\"><img src=\"http://www.nkd.com/wcsstore/NKD2/images/catalog/2040373x1x1_M.jpg\"  width=\"130\"><br/><a href=\"http://www.nkd.com/damenmode-brands-laura-torelli-classic/Damen-Steppjacke-mit-2-Wege-Reissverschluss_215062_434154.html\">2040373</a></br>Damen-Steppjacke mit 2-Wege-Reißverschluss</td><td style=\"width:130px\"><img src=\"http://www.nkd.com/wcsstore/NKD2/images/catalog/2043299x1x1_M.jpg\"  width=\"130\"><br/><a href=\"http://www.nkd.com/damenmode-brands-laura-torelli-collection/Damen-Shirt-mit-Leoparden-Muster_215062_434137.html\">2043299</a></br>Damen-Shirt mit Leoparden-Muster</td><td style=\"width:130px\"><img src=\"http://www.nkd.com/wcsstore/NKD2/images/catalog/2043298x1x1_M.jpg\"  width=\"130\"><br/><a href=\"http://www.nkd.com/damenmode-brands-laura-torelli-collection/Damen-Shirt-mit-Leo-Muster-und-Spitze_215062_434207.html\">2043298</a></br>Damen-Shirt mit Leo-Muster und Spitze</td></tr><tr><th style=\"text-align:center;width:120px\"><img src=\"http://www.nkd.com/wcsstore/NKD2/images/catalog/2041504x1x1_M.jpg\" width=\"130\"><br/><a href=\"http://www.nkd.com/damenmode-damen-pullover-langarmshirts/Damen-Pullover-mit-trendigen-Seitenschlitzen_207551_435553.html\">2041504</a></br>Damen-Pullover mit trendigen Seitenschlitzen</th><td style=\"background-color:black;\"></td><td style=\"width:130px\"><img src=\"http://www.nkd.com/wcsstore/NKD2/images/catalog/2041503x1x1_M.jpg\"  width=\"130\"><br/><a href=\"http://www.nkd.com/damenmode-damen-pullover-langarmshirts/Damen-Pullover-mit-modischem-Strickmuster_207551_435555.html\">2041503</a></br>Damen-Pullover mit modischem Strickmuster</td><td style=\"width:130px\"><img src=\"http://www.nkd.com/wcsstore/NKD2/images/catalog/2043659x1x1_M.jpg\"  width=\"130\"><br/><a href=\"http://www.nkd.com/damenmode-damen-pullover-langarmshirts/Damen-Jacquardpullover-aus-flauschigem-Material_207551_432372.html\">2043659</a></br>Damen-Jacquardpullover aus flauschigem Material</td><td style=\"width:130px\"><img src=\"http://www.nkd.com/wcsstore/NKD2/images/catalog/2043559x1x1_M.jpg\"  width=\"130\"><br/><a href=\"http://www.nkd.com/damenmode-damen-jacken-westen/Damen-2-in-1-Allwetterjacke_207551_435551.html\">2043559</a></br>Damen-2-in-1-Allwetterjacke</td><td style=\"width:130px\"><img src=\"http://www.nkd.com/wcsstore/NKD2/images/catalog/2041507x1x1_M.jpg\"  width=\"130\"><br/><a href=\"http://www.nkd.com/damenmode-damen-pullover-langarmshirts/Damen-Pullover-in-gestrickter-Melange-Optik_207551_435557.html\">2041507</a></br>Damen-Pullover in gestrickter Melange-Optik</td><td style=\"width:130px\"><img src=\"http://www.lackuna.com/wp-content/themes/fearless/images/missing-image-640x360.png\"  width=\"130\"><br/><a href=\"\"></a></br>UNKNOWN</td><td style=\"width:130px\"><img src=\"http://www.lackuna.com/wp-content/themes/fearless/images/missing-image-640x360.png\"  width=\"130\"><br/><a href=\"\"></a></br>UNKNOWN</td></tr><tr><th style=\"text-align:center;width:120px\"><img src=\"http://www.nkd.com/wcsstore/NKD2/images/catalog/2041500x1x1_M.jpg\" width=\"130\"><br/><a href=\"http://www.nkd.com/damenmode-damen-pullover-langarmshirts/Damen-Pullover-mit-tollem-Strickmuster_207551_435560.html\">2041500</a></br>Damen-Pullover mit tollem Strickmuster</th><td style=\"background-color:black;\"></td><td style=\"width:130px\"><img src=\"http://www.nkd.com/wcsstore/NKD2/images/catalog/2043560x1x1_M.jpg\"  width=\"130\"><br/><a href=\"http://www.nkd.com/damenmode-damen-jacken-westen/Damen-Daunenjacke-mit-Kontrast-Futter_207551_435556.html\">2043560</a></br>Damen-Daunenjacke mit Kontrast-Futter</td><td style=\"width:130px\"><img src=\"http://www.nkd.com/wcsstore/NKD2/images/catalog/2043559x1x1_M.jpg\"  width=\"130\"><br/><a href=\"http://www.nkd.com/damenmode-damen-jacken-westen/Damen-2-in-1-Allwetterjacke_207551_435551.html\">2043559</a></br>Damen-2-in-1-Allwetterjacke</td><td style=\"width:130px\"><img src=\"http://www.nkd.com/wcsstore/NKD2/images/catalog/2041507x1x1_M.jpg\"  width=\"130\"><br/><a href=\"http://www.nkd.com/damenmode-damen-pullover-langarmshirts/Damen-Pullover-in-gestrickter-Melange-Optik_207551_435557.html\">2041507</a></br>Damen-Pullover in gestrickter Melange-Optik</td><td style=\"width:130px\"><img src=\"http://www.nkd.com/wcsstore/NKD2/images/catalog/2041503x1x1_M.jpg\"  width=\"130\"><br/><a href=\"http://www.nkd.com/damenmode-damen-pullover-langarmshirts/Damen-Pullover-mit-modischem-Strickmuster_207551_435555.html\">2041503</a></br>Damen-Pullover mit modischem Strickmuster</td><td style=\"width:130px\"><img src=\"http://www.nkd.com/wcsstore/NKD2/images/catalog/2040373x1x1_M.jpg\"  width=\"130\"><br/><a href=\"http://www.nkd.com/damenmode-brands-laura-torelli-classic/Damen-Steppjacke-mit-2-Wege-Reissverschluss_215062_434154.html\">2040373</a></br>Damen-Steppjacke mit 2-Wege-Reißverschluss</td><td style=\"width:130px\"><img src=\"http://www.nkd.com/wcsstore/NKD2/images/catalog/2042848x1x1_M.jpg\"  width=\"130\"><br/><a href=\"http://www.nkd.com/damenmode-damen-pullover-langarmshirts/Damen-Sweatshirt-in-trendiger-Melange-Optik_207551_433096.html\">2042848</a></br>Damen-Sweatshirt in trendiger Melange-Optik</td></tr><tr><th style=\"text-align:center;width:120px\"><img src=\"http://www.nkd.com/wcsstore/NKD2/images/catalog/2043659x1x1_M.jpg\" width=\"130\"><br/><a href=\"http://www.nkd.com/damenmode-damen-pullover-langarmshirts/Damen-Jacquardpullover-aus-flauschigem-Material_207551_432372.html\">2043659</a></br>Damen-Jacquardpullover aus flauschigem Material</th><td style=\"background-color:black;\"></td><td style=\"width:130px\"><img src=\"http://www.lackuna.com/wp-content/themes/fearless/images/missing-image-640x360.png\"  width=\"130\"><br/><a href=\"\"></a></br>UNKNOWN</td><td style=\"width:130px\"><img src=\"http://www.nkd.com/wcsstore/NKD2/images/catalog/2043299x1x1_M.jpg\"  width=\"130\"><br/><a href=\"http://www.nkd.com/damenmode-brands-laura-torelli-collection/Damen-Shirt-mit-Leoparden-Muster_215062_434137.html\">2043299</a></br>Damen-Shirt mit Leoparden-Muster</td><td style=\"width:130px\"><img src=\"http://www.lackuna.com/wp-content/themes/fearless/images/missing-image-640x360.png\"  width=\"130\"><br/><a href=\"\"></a></br>UNKNOWN</td><td style=\"width:130px\"><img src=\"http://www.lackuna.com/wp-content/themes/fearless/images/missing-image-640x360.png\"  width=\"130\"><br/><a href=\"\"></a></br>UNKNOWN</td><td style=\"width:130px\"><img src=\"http://www.lackuna.com/wp-content/themes/fearless/images/missing-image-640x360.png\"  width=\"130\"><br/><a href=\"\"></a></br>UNKNOWN</td><td style=\"width:130px\"><img src=\"http://www.nkd.com/wcsstore/NKD2/images/catalog/2042808x1x1_M.jpg\"  width=\"130\"><br/><a href=\"http://www.nkd.com/damenmode-damen-hosen/Damen-Velvethose-in-Samt-Optik_207551_434871.html\">2042808</a></br>Damen-Velvethose in Samt-Optik</td></tr><tr><th style=\"text-align:center;width:120px\"><img src=\"http://www.nkd.com/wcsstore/NKD2/images/catalog/2043315x1x1_M.jpg\" width=\"130\"><br/><a href=\"http://www.nkd.com/damenmode-brands-laura-torelli-collection/Damen-Spitzenshirt-mit-2-Volants_215062_432818.html\">2043315</a></br>Damen-Spitzenshirt mit 2 Volants</th><td style=\"background-color:black;\"></td><td style=\"width:130px\"><img src=\"http://www.nkd.com/wcsstore/NKD2/images/catalog/2043287x1x1_M.jpg\"  width=\"130\"><br/><a href=\"http://www.nkd.com/damenmode-brands-laura-torelli-collection/Damen-Rock-in-Stufen-Optik_215062_432816.html\">2043287</a></br>Damen-Rock in Stufen-Optik</td><td style=\"width:130px\"><img src=\"http://www.nkd.com/wcsstore/NKD2/images/catalog/2043298x1x1_M.jpg\"  width=\"130\"><br/><a href=\"http://www.nkd.com/damenmode-brands-laura-torelli-collection/Damen-Shirt-mit-Leo-Muster-und-Spitze_215062_434207.html\">2043298</a></br>Damen-Shirt mit Leo-Muster und Spitze</td><td style=\"width:130px\"><img src=\"http://www.nkd.com/wcsstore/NKD2/images/catalog/2043310x1x1_M.jpg\"  width=\"130\"><br/><a href=\"http://www.nkd.com/damenmode-damen-pullover-langarmshirts/Damen-Carmenshirt-mit-elastischem-Saum_207551_434894.html\">2043310</a></br>Damen-Carmenshirt mit elastischem Saum</td><td style=\"width:130px\"><img src=\"http://www.nkd.com/wcsstore/NKD2/images/catalog/2042886x1x1_M.jpg\"  width=\"130\"><br/><a href=\"http://www.nkd.com/damenmode-damen-pullover-langarmshirts/Damen-Shirt-mit-Kontrast-Aermeln_207551_433093.html\">2042886</a></br>Damen-Shirt mit Kontrast-Ärmeln</td><td style=\"width:130px\"><img src=\"http://www.nkd.com/wcsstore/NKD2/images/catalog/2048126x1x1_M.jpg\"  width=\"130\"><br/><a href=\"http://www.nkd.com/damenmode-brands-laura-torelli-collection/Damen-Leggings-mit-Vorderseite-in-PU-Optik_215062_434167.html\">2048126</a></br>Damen-Leggings mit Vorderseite in PU-Optik</td><td style=\"width:130px\"><img src=\"http://www.nkd.com/wcsstore/NKD2/images/catalog/2041481x1x1_M.jpg\"  width=\"130\"><br/><a href=\"http://www.nkd.com/damenmode-brands-laura-torelli-classic/Damen-Chenille-Pullover-mit-Rollkragen_215062_432819.html\">2041481</a></br>Damen-Chenille-Pullover mit Rollkragen</td></tr><tr><th style=\"text-align:center;width:120px\"><img src=\"http://www.nkd.com/wcsstore/NKD2/images/catalog/2042849x1x1_M.jpg\" width=\"130\"><br/><a href=\"http://www.nkd.com/damenmode-damen-pullover-langarmshirts/Damen-Sweatshirt-mit-Bindebaendern_207551_433191.html\">2042849</a></br>Damen-Sweatshirt mit Bindebändern</th><td style=\"background-color:black;\"></td><td style=\"width:130px\"><img src=\"http://www.nkd.com/wcsstore/NKD2/images/catalog/2042220x1x1_M.jpg\"  width=\"130\"><br/><a href=\"http://www.nkd.com/damenmode-brands-laura-torelli-classic/Damen-Shirt-mit-dekorativem-Ausschnitt_215062_434126.html\">2042220</a></br>Damen-Shirt mit dekorativem Ausschnitt</td><td style=\"width:130px\"><img src=\"http://www.nkd.com/wcsstore/NKD2/images/catalog/2042807x1x1_M.jpg\"  width=\"130\"><br/><a href=\"http://www.nkd.com/damenmode-damen-pullover-langarmshirts/Damen-Sweatshirt-mit-Kordelzug-und-Trend-Muster_207551_434961.html\">2042807</a></br>Damen-Sweatshirt mit Kordelzug und Trend-Muster</td><td style=\"width:130px\"><img src=\"http://www.nkd.com/wcsstore/NKD2/images/catalog/2043309x1x1_M.jpg\"  width=\"130\"><br/><a href=\"http://www.nkd.com/damenmode-damen-pullover-langarmshirts/Damen-Carmenshirt-mit-trendigem-Muster_207551_434855.html\">2043309</a></br>Damen-Carmenshirt mit trendigem Muster</td><td style=\"width:130px\"><img src=\"http://www.nkd.com/wcsstore/NKD2/images/catalog/2041974x1x1_M.jpg\"  width=\"130\"><br/><a href=\"http://www.nkd.com/damenmode-brands-laura-torelli-collection/Damen-Pullover-mit-doppellagigem-Design_215062_428706.html\">2041974</a></br>Damen-Pullover mit doppellagigem Design</td><td style=\"width:130px\"><img src=\"http://www.nkd.com/wcsstore/NKD2/images/catalog/2043559x1x1_M.jpg\"  width=\"130\"><br/><a href=\"http://www.nkd.com/damenmode-damen-jacken-westen/Damen-2-in-1-Allwetterjacke_207551_435551.html\">2043559</a></br>Damen-2-in-1-Allwetterjacke</td><td style=\"width:130px\"><img src=\"http://www.nkd.com/wcsstore/NKD2/images/catalog/2043018x1x1_M.jpg\"  width=\"130\"><br/><a href=\"http://www.nkd.com/schnaeppchen-damenmode-brands/Damen-Kleid-mit-modernem-Blumenmuster_215081_425906.html\">2043018</a></br>Damen-Kleid mit modernem Blumenmuster</td></tr><tr><th style=\"text-align:center;width:120px\"><img src=\"http://www.nkd.com/wcsstore/NKD2/images/catalog/2045417x1x1_M.jpg\" width=\"130\"><br/><a href=\"http://www.nkd.com/damenmode-brands-laura-torelli-collection/Damen-Pullover-mit-Schmucksteinchen_215062_434165.html\">2045417</a></br>Damen-Pullover mit Schmucksteinchen</th><td style=\"background-color:black;\"></td><td style=\"width:130px\"><img src=\"http://www.nkd.com/wcsstore/NKD2/images/catalog/2040960x1x1_M.jpg\"  width=\"130\"><br/><a href=\"http://www.nkd.com/damenmode-brands-laura-torelli-collection/Damen-Parka-mit-Kunstfell_215062_434191.html\">2040960</a></br>Damen-Parka mit Kunstfell</td><td style=\"width:130px\"><img src=\"http://www.nkd.com/wcsstore/NKD2/images/catalog/2040203x1x1_M.jpg\"  width=\"130\"><br/><a href=\"http://www.nkd.com/damenmode-brands-laura-torelli-classic/Damen-Jacke-mit-Kunstpelz-Kragen_215062_434193.html\">2040203</a></br>Damen-Jacke mit Kunstpelz-Kragen</td><td style=\"width:130px\"><img src=\"http://www.nkd.com/wcsstore/NKD2/images/catalog/2043560x1x1_M.jpg\"  width=\"130\"><br/><a href=\"http://www.nkd.com/damenmode-damen-jacken-westen/Damen-Daunenjacke-mit-Kontrast-Futter_207551_435556.html\">2043560</a></br>Damen-Daunenjacke mit Kontrast-Futter</td><td style=\"width:130px\"><img src=\"http://www.nkd.com/wcsstore/NKD2/images/catalog/2042704x1x1_M.jpg\"  width=\"130\"><br/><a href=\"http://www.nkd.com/damenmode-damen-shirts-tops-blusen/Damen-Pullover-mit-wunderschoener-Rueschenverzierung_207551_434001.html\">2042704</a></br>Damen-Pullover mit wunderschöner Rüschenverzierung</td><td style=\"width:130px\"><img src=\"http://www.nkd.com/wcsstore/NKD2/images/catalog/2040373x1x1_M.jpg\"  width=\"130\"><br/><a href=\"http://www.nkd.com/damenmode-brands-laura-torelli-classic/Damen-Steppjacke-mit-2-Wege-Reissverschluss_215062_434154.html\">2040373</a></br>Damen-Steppjacke mit 2-Wege-Reißverschluss</td><td style=\"width:130px\"><img src=\"http://www.nkd.com/wcsstore/NKD2/images/catalog/2043298x1x1_M.jpg\"  width=\"130\"><br/><a href=\"http://www.nkd.com/damenmode-brands-laura-torelli-collection/Damen-Shirt-mit-Leo-Muster-und-Spitze_215062_434207.html\">2043298</a></br>Damen-Shirt mit Leo-Muster und Spitze</td></tr><tr><th style=\"text-align:center;width:120px\"><img src=\"http://www.nkd.com/wcsstore/NKD2/images/catalog/2043186x1x1_M.jpg\" width=\"130\"><br/><a href=\"http://www.nkd.com/damenmode-brands-laura-torelli-collection/Damen-Sweatshirt-mit-Frontaufdruck_215062_426749.html\">2043186</a></br>Damen-Sweatshirt mit Frontaufdruck</th><td style=\"background-color:black;\"></td><td style=\"width:130px\"><img src=\"http://www.nkd.com/wcsstore/NKD2/images/catalog/2042527x1x1_M.jpg\"  width=\"130\"><br/><a href=\"http://www.nkd.com/damenmode-brands-laura-torelli-collection/Damen-Pullover-mit-Ripp-Struktur_215062_424741.html\">2042527</a></br>Damen-Pullover mit Ripp-Struktur</td><td style=\"width:130px\"><img src=\"http://www.nkd.com/wcsstore/NKD2/images/catalog/2042763x1x1_M.jpg\"  width=\"130\"><br/><a href=\"http://www.nkd.com/jugendmode-maedchen-shirts-pullover/Damen-Sweatshirt-mit-witzigem-Katzen-Frontaufdruck_10113_430446.html\">2042763</a></br>Damen-Sweatshirt mit witzigem Katzen-Frontaufdruck</td><td style=\"width:130px\"><img src=\"http://www.lackuna.com/wp-content/themes/fearless/images/missing-image-640x360.png\"  width=\"130\"><br/><a href=\"\"></a></br>UNKNOWN</td><td style=\"width:130px\"><img src=\"http://www.lackuna.com/wp-content/themes/fearless/images/missing-image-640x360.png\"  width=\"130\"><br/><a href=\"\"></a></br>UNKNOWN</td><td style=\"width:130px\"><img src=\"http://www.nkd.com/wcsstore/NKD2/images/catalog/2043560x1x1_M.jpg\"  width=\"130\"><br/><a href=\"http://www.nkd.com/damenmode-damen-jacken-westen/Damen-Daunenjacke-mit-Kontrast-Futter_207551_435556.html\">2043560</a></br>Damen-Daunenjacke mit Kontrast-Futter</td><td style=\"width:130px\"><img src=\"http://www.nkd.com/wcsstore/NKD2/images/catalog/2043309x1x1_M.jpg\"  width=\"130\"><br/><a href=\"http://www.nkd.com/damenmode-damen-pullover-langarmshirts/Damen-Carmenshirt-mit-trendigem-Muster_207551_434855.html\">2043309</a></br>Damen-Carmenshirt mit trendigem Muster</td></tr><tr><th style=\"text-align:center;width:120px\"><img src=\"http://www.lackuna.com/wp-content/themes/fearless/images/missing-image-640x360.png\" width=\"130\"><br/><a href=\"\"></a></br>UNKNOWN</th><td style=\"background-color:black;\"></td><td style=\"width:130px\"><img src=\"http://www.nkd.com/wcsstore/NKD2/images/catalog/2039323x1x1_M.jpg\"  width=\"130\"><br/><a href=\"http://www.nkd.com/damenmode-brands-laura-torelli-youngfashion/Maedchen-Panty-mit-modernem-Muster-2er-Pack_215062_421054.html\">2039323</a></br>Mädchen-Panty mit modernem Muster, 2er Pack</td><td style=\"width:130px\"><img src=\"http://www.nkd.com/wcsstore/NKD2/images/catalog/2042756x1x1_M.jpg\"  width=\"130\"><br/><a href=\"http://www.nkd.com/damenmode-brands-laura-torelli-youngfashion/Damen-Sweatshirt-mit-Blusen-Einsatz-am-Saum_215062_432403.html\">2042756</a></br>Damen-Sweatshirt mit Blusen-Einsatz am Saum</td><td style=\"width:130px\"><img src=\"http://www.nkd.com/wcsstore/NKD2/images/catalog/2043559x1x1_M.jpg\"  width=\"130\"><br/><a href=\"http://www.nkd.com/damenmode-damen-jacken-westen/Damen-2-in-1-Allwetterjacke_207551_435551.html\">2043559</a></br>Damen-2-in-1-Allwetterjacke</td><td style=\"width:130px\"><img src=\"http://www.nkd.com/wcsstore/NKD2/images/catalog/2039903x1x1_M.jpg\"  width=\"130\"><br/><a href=\"http://www.nkd.com/kindermode-maedchen-jacken/Maedchen-Teddy-Jacke-aus-weichem-Pluesch_215056_433122.html\">2039903</a></br>Mädchen-Teddy-Jacke aus weichem Plüsch</td><td style=\"width:130px\"><img src=\"http://www.nkd.com/wcsstore/NKD2/images/catalog/2041548x1x1_M.jpg\"  width=\"130\"><br/><a href=\"http://www.nkd.com/kindermode-maedchen-schuhe-accessoires/Kinder-Turnbeutel-mit-grossem-Frontmotiv_215056_427302.html\">2041548</a></br>Kinder-Turnbeutel mit großem Frontmotiv</td><td style=\"width:130px\"><img src=\"http://www.lackuna.com/wp-content/themes/fearless/images/missing-image-640x360.png\"  width=\"130\"><br/><a href=\"\"></a></br>UNKNOWN</td></tr><tr><th style=\"text-align:center;width:120px\"><img src=\"http://www.nkd.com/wcsstore/NKD2/images/catalog/2048126x1x1_M.jpg\" width=\"130\"><br/><a href=\"http://www.nkd.com/damenmode-brands-laura-torelli-collection/Damen-Leggings-mit-Vorderseite-in-PU-Optik_215062_434167.html\">2048126</a></br>Damen-Leggings mit Vorderseite in PU-Optik</th><td style=\"background-color:black;\"></td><td style=\"width:130px\"><img src=\"http://www.nkd.com/wcsstore/NKD2/images/catalog/2040373x1x1_M.jpg\"  width=\"130\"><br/><a href=\"http://www.nkd.com/damenmode-brands-laura-torelli-classic/Damen-Steppjacke-mit-2-Wege-Reissverschluss_215062_434154.html\">2040373</a></br>Damen-Steppjacke mit 2-Wege-Reißverschluss</td><td style=\"width:130px\"><img src=\"http://www.nkd.com/wcsstore/NKD2/images/catalog/2043295x1x1_M.jpg\"  width=\"130\"><br/><a href=\"http://www.nkd.com/damenmode-brands-laura-torelli-collection/Damen-T-Shirt-mit-Herz-Frontaufdruck_215062_434128.html\">2043295</a></br>Damen-T-Shirt mit Herz-Frontaufdruck</td><td style=\"width:130px\"><img src=\"http://www.nkd.com/wcsstore/NKD2/images/catalog/2045713x1x1_M.jpg\"  width=\"130\"><br/><a href=\"http://www.nkd.com/wohnideen-haushaltswaren/KeDDii-Scoop-Katzenstreuschaufel-aus-Die-Hoehle-der-Loewen_215061_434130.html\">2045713</a></br>KeDDii Scoop Katzenstreuschaufel, aus Die Höhle der Löwen</td><td style=\"width:130px\"><img src=\"http://www.nkd.com/wcsstore/NKD2/images/catalog/2043298x1x1_M.jpg\"  width=\"130\"><br/><a href=\"http://www.nkd.com/damenmode-brands-laura-torelli-collection/Damen-Shirt-mit-Leo-Muster-und-Spitze_215062_434207.html\">2043298</a></br>Damen-Shirt mit Leo-Muster und Spitze</td><td style=\"width:130px\"><img src=\"http://www.lackuna.com/wp-content/themes/fearless/images/missing-image-640x360.png\"  width=\"130\"><br/><a href=\"\"></a></br>UNKNOWN</td><td style=\"width:130px\"><img src=\"http://www.nkd.com/wcsstore/NKD2/images/catalog/2040203x1x1_M.jpg\"  width=\"130\"><br/><a href=\"http://www.nkd.com/damenmode-brands-laura-torelli-classic/Damen-Jacke-mit-Kunstpelz-Kragen_215062_434193.html\">2040203</a></br>Damen-Jacke mit Kunstpelz-Kragen</td></tr><tr><th style=\"text-align:center;width:120px\"><img src=\"http://www.lackuna.com/wp-content/themes/fearless/images/missing-image-640x360.png\" width=\"130\"><br/><a href=\"\"></a></br>UNKNOWN</th><td style=\"background-color:black;\"></td><td style=\"width:130px\"><img src=\"http://www.lackuna.com/wp-content/themes/fearless/images/missing-image-640x360.png\"  width=\"130\"><br/><a href=\"\"></a></br>UNKNOWN</td><td style=\"width:130px\"><img src=\"http://www.nkd.com/wcsstore/NKD2/images/catalog/2043205x1x1_M.jpg\"  width=\"130\"><br/><a href=\"http://www.nkd.com/damenmode-damen-hosen/Damen-Jeans-mit-elastischem-Bund_207551_427326.html\">2043205</a></br>Damen-Jeans mit elastischem Bund</td><td style=\"width:130px\"><img src=\"http://www.nkd.com/wcsstore/NKD2/images/catalog/2041503x1x1_M.jpg\"  width=\"130\"><br/><a href=\"http://www.nkd.com/damenmode-damen-pullover-langarmshirts/Damen-Pullover-mit-modischem-Strickmuster_207551_435555.html\">2041503</a></br>Damen-Pullover mit modischem Strickmuster</td><td style=\"width:130px\"><img src=\"http://www.nkd.com/wcsstore/NKD2/images/catalog/2043560x1x1_M.jpg\"  width=\"130\"><br/><a href=\"http://www.nkd.com/damenmode-damen-jacken-westen/Damen-Daunenjacke-mit-Kontrast-Futter_207551_435556.html\">2043560</a></br>Damen-Daunenjacke mit Kontrast-Futter</td><td style=\"width:130px\"><img src=\"http://www.nkd.com/wcsstore/NKD2/images/catalog/1693618x1x1_M.jpg\"  width=\"130\"><br/><a href=\"http://www.nkd.com/damenmode-brands-laura-torelli-classic/Damen-Jeans-im-5-Pocket-Style_215062_409705.html\">1693618</a></br>Damen-Jeans im 5-Pocket-Style</td><td style=\"width:130px\"><img src=\"http://www.nkd.com/wcsstore/NKD2/images/catalog/2040373x1x1_M.jpg\"  width=\"130\"><br/><a href=\"http://www.nkd.com/damenmode-brands-laura-torelli-classic/Damen-Steppjacke-mit-2-Wege-Reissverschluss_215062_434154.html\">2040373</a></br>Damen-Steppjacke mit 2-Wege-Reißverschluss</td></tr><tr><th style=\"text-align:center;width:120px\"><img src=\"http://www.nkd.com/wcsstore/NKD2/images/catalog/2043280x1x1_M.jpg\" width=\"130\"><br/><a href=\"http://www.nkd.com/damenmode-damen-hosen/Damen-Jeggings-mit-elastischem-Bund_207551_430432.html\">2043280</a></br>Damen-Jeggings mit elastischem Bund</th><td style=\"background-color:black;\"></td><td style=\"width:130px\"><img src=\"http://www.nkd.com/wcsstore/NKD2/images/catalog/2042755x1x1_M.jpg\"  width=\"130\"><br/><a href=\"http://www.nkd.com/schnaeppchen-damenmode-brands/Damen-Stoffhose-im-5-Pocket-Style_215081_421051.html\">2042755</a></br>Damen-Stoffhose im 5-Pocket-Style</td><td style=\"width:130px\"><img src=\"http://www.nkd.com/wcsstore/NKD2/images/catalog/2043559x1x1_M.jpg\"  width=\"130\"><br/><a href=\"http://www.nkd.com/damenmode-damen-jacken-westen/Damen-2-in-1-Allwetterjacke_207551_435551.html\">2043559</a></br>Damen-2-in-1-Allwetterjacke</td><td style=\"width:130px\"><img src=\"http://www.lackuna.com/wp-content/themes/fearless/images/missing-image-640x360.png\"  width=\"130\"><br/><a href=\"\"></a></br>UNKNOWN</td><td style=\"width:130px\"><img src=\"http://www.nkd.com/wcsstore/NKD2/images/catalog/2042678x1x1_M.jpg\"  width=\"130\"><br/><a href=\"http://www.nkd.com/jugendmode-maedchen-jeans-hosen-leggings/Damen-Jeggings-mit-trendigen-Waschungen_10113_426724.html\">2042678</a></br>Damen-Jeggings mit trendigen Waschungen</td><td style=\"width:130px\"><img src=\"http://www.nkd.com/wcsstore/NKD2/images/catalog/2042924x1x1_M.jpg\"  width=\"130\"><br/><a href=\"http://www.nkd.com/damenmode-damen-strumpfhosen-socken/Damen-Stulpen-in-Ripp-Optik_207551_431660.html\">2042924</a></br>Damen-Stulpen in Ripp-Optik</td><td style=\"width:130px\"><img src=\"http://www.nkd.com/wcsstore/NKD2/images/catalog/2041507x1x1_M.jpg\"  width=\"130\"><br/><a href=\"http://www.nkd.com/damenmode-damen-pullover-langarmshirts/Damen-Pullover-in-gestrickter-Melange-Optik_207551_435557.html\">2041507</a></br>Damen-Pullover in gestrickter Melange-Optik</td></tr><tr><th style=\"text-align:center;width:120px\"><img src=\"http://www.nkd.com/wcsstore/NKD2/images/catalog/2041705x1x1_M.jpg\" width=\"130\"><br/><a href=\"http://www.nkd.com/damenmode-brands-sports/Damen-Poloarfleece-Jacke-mit-farbigen-Kontrasten_215062_432812.html\">2041705</a></br>Damen-Poloarfleece-Jacke mit farbigen Kontrasten</th><td style=\"background-color:black;\"></td><td style=\"width:130px\"><img src=\"http://www.nkd.com/wcsstore/NKD2/images/catalog/2041706x1x1_M.jpg\"  width=\"130\"><br/><a href=\"http://www.nkd.com/damenmode-brands-sports/Damen-Polarfleecejacke-mit-Kontrast-Reissverschluss_215062_432806.html\">2041706</a></br>Damen-Polarfleecejacke mit Kontrast-Reißverschluss</td><td style=\"width:130px\"><img src=\"http://www.lackuna.com/wp-content/themes/fearless/images/missing-image-640x360.png\"  width=\"130\"><br/><a href=\"\"></a></br>UNKNOWN</td><td style=\"width:130px\"><img src=\"http://www.nkd.com/wcsstore/NKD2/images/catalog/2040676x1x1_M.jpg\"  width=\"130\"><br/><a href=\"http://www.nkd.com/damenmode-brands-body/Damen-Nachthemd-mit-Karomuster_215062_434184.html\">2040676</a></br>Damen-Nachthemd mit Karomuster</td><td style=\"width:130px\"><img src=\"http://www.nkd.com/wcsstore/NKD2/images/catalog/2043559x1x1_M.jpg\"  width=\"130\"><br/><a href=\"http://www.nkd.com/damenmode-damen-jacken-westen/Damen-2-in-1-Allwetterjacke_207551_435551.html\">2043559</a></br>Damen-2-in-1-Allwetterjacke</td><td style=\"width:130px\"><img src=\"http://www.nkd.com/wcsstore/NKD2/images/catalog/2041756x1x1_M.jpg\"  width=\"130\"><br/><a href=\"http://www.nkd.com/damenmode-damen-jacken-westen/Damen-Fleeceshirt-mit-Reissverschluss_207551_432341.html\">2041756</a></br>Damen-Fleeceshirt mit Reißverschluss</td><td style=\"width:130px\"><img src=\"http://www.nkd.com/wcsstore/NKD2/images/catalog/2043674x1x1_M.jpg\"  width=\"130\"><br/><a href=\"http://www.nkd.com/kindermode-liegelind/Baby-Maedchen-Set-mit-Kleidchen-3-teilig_215065_428623.html\">2043674</a></br>Baby-Mädchen-Set mit Kleidchen, 3-teilig</td></tr><tr><th style=\"text-align:center;width:120px\"><img src=\"http://www.nkd.com/wcsstore/NKD2/images/catalog/2041708x1x1_M.jpg\" width=\"130\"><br/><a href=\"http://www.nkd.com/damenmode-brands-sports/Damen-Strickfleece-Jacke-mit-Kapuze_215062_432826.html\">2041708</a></br>Damen-Strickfleece-Jacke mit Kapuze</th><td style=\"background-color:black;\"></td><td style=\"width:130px\"><img src=\"http://www.nkd.com/wcsstore/NKD2/images/catalog/1690618x1x1_M.jpg\"  width=\"130\"><br/><a href=\"http://www.nkd.com/damenmode-damen-sportmode/Damen-Wellnesshose-mit-Kordel-im-Bund_207553_396954.html\">1690618</a></br>Damen-Wellnesshose mit Kordel im Bund</td><td style=\"width:130px\"><img src=\"http://www.lackuna.com/wp-content/themes/fearless/images/missing-image-640x360.png\"  width=\"130\"><br/><a href=\"\"></a></br>UNKNOWN</td><td style=\"width:130px\"><img src=\"http://www.nkd.com/wcsstore/NKD2/images/catalog/2040941x1x1_M.jpg\"  width=\"130\"><br/><a href=\"http://www.nkd.com/damenmode-damen-sportmode/Damen-3-in-1-Jacke-mit-abnehmbarer-Kapuze_207553_431331.html\">2040941</a></br>Damen-3-in-1-Jacke mit abnehmbarer Kapuze</td><td style=\"width:130px\"><img src=\"http://www.nkd.com/wcsstore/NKD2/images/catalog/1690822x1x1_M.jpg\"  width=\"130\"><br/><a href=\"http://www.nkd.com/damenmode-brands-body/Damen-Sport-BH-ohne-Buegel_215062_398401.html\">1690822</a></br>Damen-Sport-BH, ohne Bügel</td><td style=\"width:130px\"><img src=\"http://www.lackuna.com/wp-content/themes/fearless/images/missing-image-640x360.png\"  width=\"130\"><br/><a href=\"\"></a></br>UNKNOWN</td><td style=\"width:130px\"><img src=\"http://www.nkd.com/wcsstore/NKD2/images/catalog/2041706x1x1_M.jpg\" style=\"border:3px dashed red;\" width=\"130\"><br/><a href=\"http://www.nkd.com/damenmode-brands-sports/Damen-Polarfleecejacke-mit-Kontrast-Reissverschluss_215062_432806.html\">2041706</a></br>Damen-Polarfleecejacke mit Kontrast-Reißverschluss</td></tr><tr><th style=\"text-align:center;width:120px\"><img src=\"http://www.nkd.com/wcsstore/NKD2/images/catalog/2041706x1x1_M.jpg\" width=\"130\"><br/><a href=\"http://www.nkd.com/damenmode-brands-sports/Damen-Polarfleecejacke-mit-Kontrast-Reissverschluss_215062_432806.html\">2041706</a></br>Damen-Polarfleecejacke mit Kontrast-Reißverschluss</th><td style=\"background-color:black;\"></td><td style=\"width:130px\"><img src=\"http://www.lackuna.com/wp-content/themes/fearless/images/missing-image-640x360.png\"  width=\"130\"><br/><a href=\"\"></a></br>UNKNOWN</td><td style=\"width:130px\"><img src=\"http://www.nkd.com/wcsstore/NKD2/images/catalog/2041709x1x1_M.jpg\"  width=\"130\"><br/><a href=\"http://www.nkd.com/damenmode-brands-sports/Damen-Strickfleece-Jacke-mit-Kaenguru-Tasche_215062_432815.html\">2041709</a></br>Damen-Strickfleece-Jacke mit Känguru-Tasche</td><td style=\"width:130px\"><img src=\"http://www.lackuna.com/wp-content/themes/fearless/images/missing-image-640x360.png\"  width=\"130\"><br/><a href=\"\"></a></br>UNKNOWN</td><td style=\"width:130px\"><img src=\"http://www.nkd.com/wcsstore/NKD2/images/catalog/2041711x1x1_M.jpg\"  width=\"130\"><br/><a href=\"http://www.nkd.com/damenmode-damen-sportmode/Damen-Polarfleece-Jacke-mit-Kontrast-Einfassband_207553_431667.html\">2041711</a></br>Damen-Polarfleece-Jacke mit Kontrast-Einfassband</td><td style=\"width:130px\"><img src=\"http://www.nkd.com/wcsstore/NKD2/images/catalog/2041717x1x1_M.jpg\"  width=\"130\"><br/><a href=\"http://www.nkd.com/herrenmode-brands-sports/Herren-Strickfleece-Jacke-mit-Kapuze_215063_432822.html\">2041717</a></br>Herren-Strickfleece-Jacke mit Kapuze</td><td style=\"width:130px\"><img src=\"http://www.nkd.com/wcsstore/NKD2/images/catalog/2040621x1x1_M.jpg\"  width=\"130\"><br/><a href=\"http://www.nkd.com/damenmode-damen-nachtwaesche-homewear/Damen-Hauskleid-mit-aufgesetzten-Taschen_207551_430477.html\">2040621</a></br>Damen-Hauskleid mit aufgesetzten Taschen</td></tr><tr><th style=\"text-align:center;width:120px\"><img src=\"http://www.nkd.com/wcsstore/NKD2/images/catalog/2039502x1x1_M.jpg\" width=\"130\"><br/><a href=\"http://www.nkd.com/babykleidung-jungen-jacken/Baby-Jungen-Sweatjacke-mit-Streifenmuster_215053_433145.html\">2039502</a></br>Baby-Jungen-Sweatjacke mit Streifenmuster</th><td style=\"background-color:black;\"></td><td style=\"width:130px\"><img src=\"http://www.nkd.com/wcsstore/NKD2/images/catalog/2039571x1x1_M.jpg\"  width=\"130\"><br/><a href=\"http://www.nkd.com/schnaeppchen-kindermode-brands/Baby-Jungen-Pullover-im-Norweger-Stil_215083_432350.html\">2039571</a></br>Baby-Jungen-Pullover im Norweger-Stil</td><td style=\"width:130px\"><img src=\"http://www.nkd.com/wcsstore/NKD2/images/catalog/2039436x1x1_M.jpg\"  width=\"130\"><br/><a href=\"http://www.nkd.com/kindermode-liegelind/Baby-Jungen-Strickfleece-Jacke-in-Melange-Optik_215065_426663.html\">2039436</a></br>Baby-Jungen-Strickfleece-Jacke in Melange-Optik</td><td style=\"width:130px\"><img src=\"http://www.nkd.com/wcsstore/NKD2/images/catalog/2039618x2x1_M.jpg\"  width=\"130\"><br/><a href=\"http://www.nkd.com/babykleidung-maedchen-jacken/Baby-Maedchen-Jacke-mit-Herz-Muster_215054_431322.html\">2039618</a></br>Baby-Mädchen-Jacke mit Herz-Muster</td><td style=\"width:130px\"><img src=\"http://www.lackuna.com/wp-content/themes/fearless/images/missing-image-640x360.png\"  width=\"130\"><br/><a href=\"\"></a></br>UNKNOWN</td><td style=\"width:130px\"><img src=\"http://www.nkd.com/wcsstore/NKD2/images/catalog/2039503x1x1_M.jpg\"  width=\"130\"><br/><a href=\"http://www.nkd.com/babykleidung-jungen-shirts-pullover/Baby-Jungen-Shirt-mit-Fahrzeug-Frontaufdruck_215053_433098.html\">2039503</a></br>Baby-Jungen-Shirt mit Fahrzeug-Frontaufdruck</td><td style=\"width:130px\"><img src=\"http://www.nkd.com/wcsstore/NKD2/images/catalog/2039518x1x1_M.jpg\"  width=\"130\"><br/><a href=\"http://www.nkd.com/babykleidung-jungen-shirts-pullover/Baby-Jungen-Strickpullover-mit-Feuerwehr-Applikation_215053_433184.html\">2039518</a></br>Baby-Jungen-Strickpullover mit Feuerwehr-Applikation</td></tr><tr><th style=\"text-align:center;width:120px\"><img src=\"http://www.nkd.com/wcsstore/NKD2/images/catalog/2039480x1x1_M.jpg\" width=\"130\"><br/><a href=\"http://www.nkd.com/schnaeppchen-kindermode-brands/Baby-Jungen-Jacke-mit-Kontrast-Streifen_215083_430539.html\">2039480</a></br>Baby-Jungen-Jacke mit Kontrast-Streifen</th><td style=\"background-color:black;\"></td><td style=\"width:130px\"><img src=\"http://www.lackuna.com/wp-content/themes/fearless/images/missing-image-640x360.png\"  width=\"130\"><br/><a href=\"\"></a></br>UNKNOWN</td><td style=\"width:130px\"><img src=\"http://www.nkd.com/wcsstore/NKD2/images/catalog/2040961x1x1_M.jpg\"  width=\"130\"><br/><a href=\"http://www.nkd.com/damenmode-damen-jacken-westen/Damen-Steppjacke-mit-Schmucksteinchen_207551_431685.html\">2040961</a></br>Damen-Steppjacke mit Schmucksteinchen</td><td style=\"width:130px\"><img src=\"http://www.lackuna.com/wp-content/themes/fearless/images/missing-image-640x360.png\"  width=\"130\"><br/><a href=\"\"></a></br>UNKNOWN</td><td style=\"width:130px\"><img src=\"http://www.nkd.com/wcsstore/NKD2/images/catalog/2043018x1x1_M.jpg\"  width=\"130\"><br/><a href=\"http://www.nkd.com/schnaeppchen-damenmode-brands/Damen-Kleid-mit-modernem-Blumenmuster_215081_425906.html\">2043018</a></br>Damen-Kleid mit modernem Blumenmuster</td><td style=\"width:130px\"><img src=\"http://www.nkd.com/wcsstore/NKD2/images/catalog/2039436x1x1_M.jpg\"  width=\"130\"><br/><a href=\"http://www.nkd.com/kindermode-liegelind/Baby-Jungen-Strickfleece-Jacke-in-Melange-Optik_215065_426663.html\">2039436</a></br>Baby-Jungen-Strickfleece-Jacke in Melange-Optik</td><td style=\"width:130px\"><img src=\"http://www.nkd.com/wcsstore/NKD2/images/catalog/2040371x1x1_M.jpg\"  width=\"130\"><br/><a href=\"http://www.nkd.com/damenmode-brands-laura-torelli-classic/Damen-Anorak-in-Glanz-Optik_215062_427855.html\">2040371</a></br>Damen-Anorak in Glanz-Optik</td></tr><tr><th style=\"text-align:center;width:120px\"><img src=\"http://www.lackuna.com/wp-content/themes/fearless/images/missing-image-640x360.png\" width=\"130\"><br/><a href=\"\"></a></br>UNKNOWN</th><td style=\"background-color:black;\"></td><td style=\"width:130px\"><img src=\"http://www.lackuna.com/wp-content/themes/fearless/images/missing-image-640x360.png\"  width=\"130\"><br/><a href=\"\"></a></br>UNKNOWN</td><td style=\"width:130px\"><img src=\"http://www.lackuna.com/wp-content/themes/fearless/images/missing-image-640x360.png\"  width=\"130\"><br/><a href=\"\"></a></br>UNKNOWN</td><td style=\"width:130px\"><img src=\"http://www.lackuna.com/wp-content/themes/fearless/images/missing-image-640x360.png\"  width=\"130\"><br/><a href=\"\"></a></br>UNKNOWN</td><td style=\"width:130px\"><img src=\"http://www.lackuna.com/wp-content/themes/fearless/images/missing-image-640x360.png\"  width=\"130\"><br/><a href=\"\"></a></br>UNKNOWN</td><td style=\"width:130px\"><img src=\"http://www.nkd.com/wcsstore/NKD2/images/catalog/2039625x1x1_M.jpg\"  width=\"130\"><br/><a href=\"http://www.nkd.com/babykleidung-maedchen-sets/Baby-Maedchen-Set-mit-Maeuse-Frontaufdruck-2-teilig_215054_433103.html\">2039625</a></br>Baby-Mädchen-Set mit Mäuse-Frontaufdruck, 2-teilig</td><td style=\"width:130px\"><img src=\"http://www.lackuna.com/wp-content/themes/fearless/images/missing-image-640x360.png\"  width=\"130\"><br/><a href=\"\"></a></br>UNKNOWN</td></tr><tr><th style=\"text-align:center;width:120px\"><img src=\"http://www.nkd.com/wcsstore/NKD2/images/catalog/2040088x1x1_M.jpg\" width=\"130\"><br/><a href=\"http://www.nkd.com/kindermode-jungen-shirts-pullover/Jungen-Sweatshirt-mit-coolem-Frontaufdruck_215055_433056.html\">2040088</a></br>Jungen-Sweatshirt mit coolem Frontaufdruck</th><td style=\"background-color:black;\"></td><td style=\"width:130px\"><img src=\"http://www.nkd.com/wcsstore/NKD2/images/catalog/2039992x1x1_M.jpg\"  width=\"130\"><br/><a href=\"http://www.nkd.com/kindermode-jungen-shirts-pullover/Jungen-Pullover-mit-Streifenmuster_215055_433061.html\">2039992</a></br>Jungen-Pullover mit Streifenmuster</td><td style=\"width:130px\"><img src=\"http://www.nkd.com/wcsstore/NKD2/images/catalog/2040071x2x1_M.jpg\"  width=\"130\"><br/><a href=\"http://www.nkd.com/kindermode-jungen-jeans-hosen/Jungen-Jeans-mit-elastischem-Bund_215055_431329.html\">2040071</a></br>Jungen-Jeans mit elastischem Bund</td><td style=\"width:130px\"><img src=\"http://www.nkd.com/wcsstore/NKD2/images/catalog/2039993x1x1_M.jpg\"  width=\"130\"><br/><a href=\"http://www.nkd.com/kindermode-jungen-shirts-pullover/Jungen-Pullover-mit-Wolf-Frontaufdruck_215055_433186.html\">2039993</a></br>Jungen-Pullover mit Wolf-Frontaufdruck</td><td style=\"width:130px\"><img src=\"http://www.lackuna.com/wp-content/themes/fearless/images/missing-image-640x360.png\"  width=\"130\"><br/><a href=\"\"></a></br>UNKNOWN</td><td style=\"width:130px\"><img src=\"http://www.lackuna.com/wp-content/themes/fearless/images/missing-image-640x360.png\"  width=\"130\"><br/><a href=\"\"></a></br>UNKNOWN</td><td style=\"width:130px\"><img src=\"http://www.lackuna.com/wp-content/themes/fearless/images/missing-image-640x360.png\"  width=\"130\"><br/><a href=\"\"></a></br>UNKNOWN</td></tr><tr><th style=\"text-align:center;width:120px\"><img src=\"http://www.nkd.com/wcsstore/NKD2/images/catalog/2039459x1x1_M.jpg\" width=\"130\"><br/><a href=\"http://www.nkd.com/schnaeppchen-kindermode-brands/Baby-Jungen-Sweatjeans-mit-modischen-Waschungen_215083_427337.html\">2039459</a></br>Baby-Jungen-Sweatjeans mit modischen Waschungen</th><td style=\"background-color:black;\"></td><td style=\"width:130px\"><img src=\"http://www.lackuna.com/wp-content/themes/fearless/images/missing-image-640x360.png\"  width=\"130\"><br/><a href=\"\"></a></br>UNKNOWN</td><td style=\"width:130px\"><img src=\"http://www.nkd.com/wcsstore/NKD2/images/catalog/2043560x1x1_M.jpg\"  width=\"130\"><br/><a href=\"http://www.nkd.com/damenmode-damen-jacken-westen/Damen-Daunenjacke-mit-Kontrast-Futter_207551_435556.html\">2043560</a></br>Damen-Daunenjacke mit Kontrast-Futter</td><td style=\"width:130px\"><img src=\"http://www.nkd.com/wcsstore/NKD2/images/catalog/2040373x1x1_M.jpg\"  width=\"130\"><br/><a href=\"http://www.nkd.com/damenmode-brands-laura-torelli-classic/Damen-Steppjacke-mit-2-Wege-Reissverschluss_215062_434154.html\">2040373</a></br>Damen-Steppjacke mit 2-Wege-Reißverschluss</td><td style=\"width:130px\"><img src=\"http://www.nkd.com/wcsstore/NKD2/images/catalog/2041972x1x1_M.jpg\"  width=\"130\"><br/><a href=\"http://www.nkd.com/NEU20171102FrohesFest/Damen-Strickjacke-mit-grossen-Knoepfen_10097_434937.html\">2041972</a></br>Damen-Strickjacke mit großen Knöpfen</td><td style=\"width:130px\"><img src=\"http://www.lackuna.com/wp-content/themes/fearless/images/missing-image-640x360.png\"  width=\"130\"><br/><a href=\"\"></a></br>UNKNOWN</td><td style=\"width:130px\"><img src=\"http://www.nkd.com/wcsstore/NKD2/images/catalog/2041503x1x1_M.jpg\"  width=\"130\"><br/><a href=\"http://www.nkd.com/damenmode-damen-pullover-langarmshirts/Damen-Pullover-mit-modischem-Strickmuster_207551_435555.html\">2041503</a></br>Damen-Pullover mit modischem Strickmuster</td></tr><tr><th style=\"text-align:center;width:120px\"><img src=\"http://www.lackuna.com/wp-content/themes/fearless/images/missing-image-640x360.png\" width=\"130\"><br/><a href=\"\"></a></br>UNKNOWN</th><td style=\"background-color:black;\"></td><td style=\"width:130px\"><img src=\"http://www.nkd.com/wcsstore/NKD2/images/catalog/2040081x1x1_M.jpg\"  width=\"130\"><br/><a href=\"http://www.nkd.com/kindermode-jungen-jeans-hosen/Jungen-Jeans-mit-Neon-Streifen-am-Bund_215055_430503.html\">2040081</a></br>Jungen-Jeans mit Neon-Streifen am Bund</td><td style=\"width:130px\"><img src=\"http://www.nkd.com/wcsstore/NKD2/images/catalog/2043559x1x1_M.jpg\"  width=\"130\"><br/><a href=\"http://www.nkd.com/damenmode-damen-jacken-westen/Damen-2-in-1-Allwetterjacke_207551_435551.html\">2043559</a></br>Damen-2-in-1-Allwetterjacke</td><td style=\"width:130px\"><img src=\"http://www.nkd.com/wcsstore/NKD2/images/catalog/2040960x1x1_M.jpg\"  width=\"130\"><br/><a href=\"http://www.nkd.com/damenmode-brands-laura-torelli-collection/Damen-Parka-mit-Kunstfell_215062_434191.html\">2040960</a></br>Damen-Parka mit Kunstfell</td><td style=\"width:130px\"><img src=\"http://www.nkd.com/wcsstore/NKD2/images/catalog/2039167x1x1_M.jpg\"  width=\"130\"><br/><a href=\"http://www.nkd.com/damenmode-damen-xxl/Damen-Shirt-mit-Glitzer-Herz-grosse-Groessen_207553_431323.html\">2039167</a></br>Damen-Shirt mit Glitzer-Herz, große Größen</td><td style=\"width:130px\"><img src=\"http://www.nkd.com/wcsstore/NKD2/images/catalog/2043560x1x1_M.jpg\"  width=\"130\"><br/><a href=\"http://www.nkd.com/damenmode-damen-jacken-westen/Damen-Daunenjacke-mit-Kontrast-Futter_207551_435556.html\">2043560</a></br>Damen-Daunenjacke mit Kontrast-Futter</td><td style=\"width:130px\"><img src=\"http://www.nkd.com/wcsstore/NKD2/images/catalog/2040373x1x1_M.jpg\"  width=\"130\"><br/><a href=\"http://www.nkd.com/damenmode-brands-laura-torelli-classic/Damen-Steppjacke-mit-2-Wege-Reissverschluss_215062_434154.html\">2040373</a></br>Damen-Steppjacke mit 2-Wege-Reißverschluss</td></tr><tr><th style=\"text-align:center;width:120px\"><img src=\"http://www.nkd.com/wcsstore/NKD2/images/catalog/2039497x1x1_M.jpg\" width=\"130\"><br/><a href=\"http://www.nkd.com/babykleidung-jungen-jeans-hosen/Baby-Jungen-Thermohose-mit-Kontrast-Naehten_215053_433076.html\">2039497</a></br>Baby-Jungen-Thermohose mit Kontrast-Nähten</th><td style=\"background-color:black;\"></td><td style=\"width:130px\"><img src=\"http://www.lackuna.com/wp-content/themes/fearless/images/missing-image-640x360.png\"  width=\"130\"><br/><a href=\"\"></a></br>UNKNOWN</td><td style=\"width:130px\"><img src=\"http://www.nkd.com/wcsstore/NKD2/images/catalog/2040079x1x1_M.jpg\"  width=\"130\"><br/><a href=\"http://www.nkd.com/kindermode-jungen-jeans-hosen/Jungen-Thermohose-mit-aufgesetzten-Taschen_215055_430550.html\">2040079</a></br>Jungen-Thermohose mit aufgesetzten Taschen</td><td style=\"width:130px\"><img src=\"http://www.nkd.com/wcsstore/NKD2/images/catalog/2039465x1x1_M.jpg\"  width=\"130\"><br/><a href=\"http://www.nkd.com/kindermode-liegelind/Baby-Jungen-Sweathose-mit-schicken-Ziernaehten_215065_428723.html\">2039465</a></br>Baby-Jungen-Sweathose mit schicken Ziernähten</td><td style=\"width:130px\"><img src=\"http://www.lackuna.com/wp-content/themes/fearless/images/missing-image-640x360.png\"  width=\"130\"><br/><a href=\"\"></a></br>UNKNOWN</td><td style=\"width:130px\"><img src=\"http://www.lackuna.com/wp-content/themes/fearless/images/missing-image-640x360.png\"  width=\"130\"><br/><a href=\"\"></a></br>UNKNOWN</td><td style=\"width:130px\"><img src=\"http://www.lackuna.com/wp-content/themes/fearless/images/missing-image-640x360.png\"  width=\"130\"><br/><a href=\"\"></a></br>UNKNOWN</td></tr><tr><th style=\"text-align:center;width:120px\"><img src=\"http://www.lackuna.com/wp-content/themes/fearless/images/missing-image-640x360.png\" width=\"130\"><br/><a href=\"\"></a></br>UNKNOWN</th><td style=\"background-color:black;\"></td><td style=\"width:130px\"><img src=\"http://www.nkd.com/wcsstore/NKD2/images/catalog/2043559x1x1_M.jpg\"  width=\"130\"><br/><a href=\"http://www.nkd.com/damenmode-damen-jacken-westen/Damen-2-in-1-Allwetterjacke_207551_435551.html\">2043559</a></br>Damen-2-in-1-Allwetterjacke</td><td style=\"width:130px\"><img src=\"http://www.nkd.com/wcsstore/NKD2/images/catalog/2040960x1x1_M.jpg\"  width=\"130\"><br/><a href=\"http://www.nkd.com/damenmode-brands-laura-torelli-collection/Damen-Parka-mit-Kunstfell_215062_434191.html\">2040960</a></br>Damen-Parka mit Kunstfell</td><td style=\"width:130px\"><img src=\"http://www.nkd.com/wcsstore/NKD2/images/catalog/2042848x1x1_M.jpg\"  width=\"130\"><br/><a href=\"http://www.nkd.com/damenmode-damen-pullover-langarmshirts/Damen-Sweatshirt-in-trendiger-Melange-Optik_207551_433096.html\">2042848</a></br>Damen-Sweatshirt in trendiger Melange-Optik</td><td style=\"width:130px\"><img src=\"http://www.nkd.com/wcsstore/NKD2/images/catalog/2042808x1x1_M.jpg\"  width=\"130\"><br/><a href=\"http://www.nkd.com/damenmode-damen-hosen/Damen-Velvethose-in-Samt-Optik_207551_434871.html\">2042808</a></br>Damen-Velvethose in Samt-Optik</td><td style=\"width:130px\"><img src=\"http://www.lackuna.com/wp-content/themes/fearless/images/missing-image-640x360.png\"  width=\"130\"><br/><a href=\"\"></a></br>UNKNOWN</td><td style=\"width:130px\"><img src=\"http://www.nkd.com/wcsstore/NKD2/images/catalog/2040934x1x1_M.jpg\"  width=\"130\"><br/><a href=\"http://www.nkd.com/herrenmode-herren-jacken-westen/Herren-Jacke-mit-Kontrast-Futter_207554_434872.html\">2040934</a></br>Herren-Jacke mit Kontrast-Futter</td></tr><tr><th style=\"text-align:center;width:120px\"><img src=\"http://www.nkd.com/wcsstore/NKD2/images/catalog/2041197x1x1_M.jpg\" width=\"130\"><br/><a href=\"http://www.nkd.com/damenmode-damen-xxl/Damen-Strickjacke-im-offenen-Cardigan-Stil-grosse-Groessen_207553_431338.html\">2041197</a></br>Damen-Strickjacke im offenen Cardigan-Stil, große Größen</th><td style=\"background-color:black;\"></td><td style=\"width:130px\"><img src=\"http://www.nkd.com/wcsstore/NKD2/images/catalog/2040854x1x1_M.jpg\"  width=\"130\"><br/><a href=\"http://www.nkd.com/damenmode-brands-laura-torelli-plus/Damen-Jacke-im-Parka-Stil-grosse-Groessen_215062_434183.html\">2040854</a></br>Damen-Jacke im Parka-Stil, große Größen</td><td style=\"width:130px\"><img src=\"http://www.nkd.com/wcsstore/NKD2/images/catalog/2039251x1x1_M.jpg\"  width=\"130\"><br/><a href=\"http://www.nkd.com/damenmode-damen-xxl/Damen-Strickjacke-mit-kreativem-Streifenmuster-grosse-Groessen_207553_432394.html\">2039251</a></br>Damen-Strickjacke mit kreativem Streifenmuster, große Größen</td><td style=\"width:130px\"><img src=\"http://www.nkd.com/wcsstore/NKD2/images/catalog/2040373x1x1_M.jpg\"  width=\"130\"><br/><a href=\"http://www.nkd.com/damenmode-brands-laura-torelli-classic/Damen-Steppjacke-mit-2-Wege-Reissverschluss_215062_434154.html\">2040373</a></br>Damen-Steppjacke mit 2-Wege-Reißverschluss</td><td style=\"width:130px\"><img src=\"http://www.nkd.com/wcsstore/NKD2/images/catalog/2043559x1x1_M.jpg\"  width=\"130\"><br/><a href=\"http://www.nkd.com/damenmode-damen-jacken-westen/Damen-2-in-1-Allwetterjacke_207551_435551.html\">2043559</a></br>Damen-2-in-1-Allwetterjacke</td><td style=\"width:130px\"><img src=\"http://www.nkd.com/wcsstore/NKD2/images/catalog/2041972x1x1_M.jpg\"  width=\"130\"><br/><a href=\"http://www.nkd.com/NEU20171102FrohesFest/Damen-Strickjacke-mit-grossen-Knoepfen_10097_434937.html\">2041972</a></br>Damen-Strickjacke mit großen Knöpfen</td><td style=\"width:130px\"><img src=\"http://www.nkd.com/wcsstore/NKD2/images/catalog/2040893x1x1_M.jpg\"  width=\"130\"><br/><a href=\"http://www.nkd.com/schnaeppchen-damenmode-brands/Damen-Jacke-mit-trendigem-Leo-Muster-grosse-Groessen_215081_425254.html\">2040893</a></br>Damen-Jacke mit trendigem Leo-Muster, große Größen</td></tr></table>"
      ],
      "text/plain": [
       "<IPython.core.display.HTML object>"
      ]
     },
     "metadata": {},
     "output_type": "display_data"
    }
   ],
   "source": [
    "from IPython.core.display import display as core_display\n",
    "from IPython.core.display import HTML \n",
    "\n",
    "def product_to_url(product):\n",
    "    try:\n",
    "        \n",
    "        return [product] + product_map[list(product_idxs)[product]] + [list(product_idxs)[product]]\n",
    "    except KeyError:\n",
    "        return [product,'http://www.lackuna.com/wp-content/themes/fearless/images/missing-image-640x360.png','UNKNOWN','', '']\n",
    "\n",
    "def display_session(session):\n",
    "    products = list(map(product_to_url, session))\n",
    "    predictions = model.predict([session])\n",
    "    html = '<table>'\n",
    "    seen = set()\n",
    "    for i,product in enumerate(products):\n",
    "        html += '<tr>'\n",
    "        html += '<th style=\"text-align:center;width:120px\">'\n",
    "        html += '<img src=\"' + product[1] + '\" width=\"130\"><br/>' \n",
    "        html += '<a href=\"'+str(product[3])+'\">' + str(product[4]) + '</a></br>' + str(product[2])\n",
    "        html += '</th><td style=\"background-color:black;\"></td>'\n",
    "        top_idx = list(np.argsort(predictions[i][0])[::-1])\n",
    "        seen.add(product[0])\n",
    "        \n",
    "        j = 0\n",
    "        for pred in top_idx:\n",
    "            if pred in seen:\n",
    "                continue\n",
    "                                \n",
    "            if i < len(products) - 1 and pred == products[i+1][0]:\n",
    "                style = 'style=\"border:3px dashed red;\"'\n",
    "            else:\n",
    "                style = ''\n",
    "                \n",
    "            pred_data = product_to_url(pred)\n",
    "            html += '<td style=\"width:130px\"><img src=\"' + pred_data[1] + '\" '+style+' width=\"130\"><br/>' \n",
    "            html += '<a href=\"'+str(pred_data[3]) + '\">' +str(pred_data[4]) + '</a></br>' + str(pred_data[2]) + '</td>'\n",
    "            j+=1\n",
    "            if j > 5:\n",
    "                break\n",
    "                \n",
    "        html += '</tr>'\n",
    "    html += '</table>'\n",
    "\n",
    "    core_display(HTML(html))\n",
    "\n",
    "display_session(random.choice(random.choice(user_valid_batches)[0]))"
   ]
  },
  {
   "cell_type": "code",
   "execution_count": 52,
   "metadata": {},
   "outputs": [
    {
     "data": {
      "text/html": [
       "<table><tr><th style=\"text-align:center;width:120px\"><img src=\"http://www.nkd.com/wcsstore/NKD2/images/catalog/2041197x1x1_M.jpg\" width=\"130\"><br/><a href=\"http://www.nkd.com/damenmode-damen-xxl/Damen-Strickjacke-im-offenen-Cardigan-Stil-grosse-Groessen_207553_431338.html\">2041197</a></br>Damen-Strickjacke im offenen Cardigan-Stil, große Größen</th><td style=\"background-color:black;\"></td><td style=\"width:130px\"><img src=\"http://www.nkd.com/wcsstore/NKD2/images/catalog/2040854x1x1_M.jpg\"  width=\"130\"><br/><a href=\"http://www.nkd.com/damenmode-brands-laura-torelli-plus/Damen-Jacke-im-Parka-Stil-grosse-Groessen_215062_434183.html\">2040854</a></br>Damen-Jacke im Parka-Stil, große Größen</td><td style=\"width:130px\"><img src=\"http://www.nkd.com/wcsstore/NKD2/images/catalog/2039251x1x1_M.jpg\"  width=\"130\"><br/><a href=\"http://www.nkd.com/damenmode-damen-xxl/Damen-Strickjacke-mit-kreativem-Streifenmuster-grosse-Groessen_207553_432394.html\">2039251</a></br>Damen-Strickjacke mit kreativem Streifenmuster, große Größen</td><td style=\"width:130px\"><img src=\"http://www.nkd.com/wcsstore/NKD2/images/catalog/2040373x1x1_M.jpg\"  width=\"130\"><br/><a href=\"http://www.nkd.com/damenmode-brands-laura-torelli-classic/Damen-Steppjacke-mit-2-Wege-Reissverschluss_215062_434154.html\">2040373</a></br>Damen-Steppjacke mit 2-Wege-Reißverschluss</td><td style=\"width:130px\"><img src=\"http://www.nkd.com/wcsstore/NKD2/images/catalog/2043559x1x1_M.jpg\"  width=\"130\"><br/><a href=\"http://www.nkd.com/damenmode-damen-jacken-westen/Damen-2-in-1-Allwetterjacke_207551_435551.html\">2043559</a></br>Damen-2-in-1-Allwetterjacke</td><td style=\"width:130px\"><img src=\"http://www.nkd.com/wcsstore/NKD2/images/catalog/2041972x1x1_M.jpg\"  width=\"130\"><br/><a href=\"http://www.nkd.com/NEU20171102FrohesFest/Damen-Strickjacke-mit-grossen-Knoepfen_10097_434937.html\">2041972</a></br>Damen-Strickjacke mit großen Knöpfen</td><td style=\"width:130px\"><img src=\"http://www.nkd.com/wcsstore/NKD2/images/catalog/2040893x1x1_M.jpg\"  width=\"130\"><br/><a href=\"http://www.nkd.com/schnaeppchen-damenmode-brands/Damen-Jacke-mit-trendigem-Leo-Muster-grosse-Groessen_215081_425254.html\">2040893</a></br>Damen-Jacke mit trendigem Leo-Muster, große Größen</td></tr></table>"
      ],
      "text/plain": [
       "<IPython.core.display.HTML object>"
      ]
     },
     "metadata": {},
     "output_type": "display_data"
    }
   ],
   "source": [
    "display_session(np.array([product_ids['2041197']]))"
   ]
  },
  {
   "cell_type": "code",
   "execution_count": 50,
   "metadata": {},
   "outputs": [],
   "source": [
    "grouped_by_last_item = {}\n",
    "for batch in user_valid_batches:\n",
    "    for session in batch[0]:\n",
    "        if session[-1] not in grouped_by_last_item:\n",
    "            grouped_by_last_item[session[-1]] = []\n",
    "        grouped_by_last_item[session[-1]].append(session)\n"
   ]
  },
  {
   "cell_type": "code",
   "execution_count": null,
   "metadata": {},
   "outputs": [],
   "source": [
    "gr = random.choice(grouped_by_last_item)\n",
    "s1 = random.choice(gr)\n",
    "s2 = random.choice(gr)\n",
    "display_session(s1)\n",
    "display_session(s2)"
   ]
  },
  {
   "cell_type": "code",
   "execution_count": null,
   "metadata": {},
   "outputs": [],
   "source": []
  }
 ],
 "metadata": {
  "kernelspec": {
   "display_name": "Python 3",
   "language": "python",
   "name": "python3"
  },
  "language_info": {
   "codemirror_mode": {
    "name": "ipython",
    "version": 3
   },
   "file_extension": ".py",
   "mimetype": "text/x-python",
   "name": "python",
   "nbconvert_exporter": "python",
   "pygments_lexer": "ipython3",
   "version": "3.5.4"
  }
 },
 "nbformat": 4,
 "nbformat_minor": 2
}
