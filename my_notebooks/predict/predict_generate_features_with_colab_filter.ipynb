{
 "cells": [
  {
   "cell_type": "code",
   "execution_count": 1,
   "metadata": {},
   "outputs": [
    {
     "name": "stderr",
     "output_type": "stream",
     "text": [
      "Using TensorFlow backend.\n"
     ]
    }
   ],
   "source": [
    "import json\n",
    "import matplotlib.pyplot as plt\n",
    "from keras.utils import to_categorical\n",
    "from tqdm import tqdm\n",
    "import random\n",
    "import numpy as np\n",
    "import csv"
   ]
  },
  {
   "cell_type": "code",
   "execution_count": 2,
   "metadata": {},
   "outputs": [],
   "source": [
    "%matplotlib inline"
   ]
  },
  {
   "cell_type": "code",
   "execution_count": 3,
   "metadata": {},
   "outputs": [],
   "source": [
    "merchant_id = '11167ECFF94860EA'"
   ]
  },
  {
   "cell_type": "code",
   "execution_count": 4,
   "metadata": {},
   "outputs": [],
   "source": [
    "file = '/data/predict/'+merchant_id+'/'+merchant_id+'_logs.json'"
   ]
  },
  {
   "cell_type": "code",
   "execution_count": 5,
   "metadata": {},
   "outputs": [
    {
     "name": "stderr",
     "output_type": "stream",
     "text": [
      "59810it [00:00, 121673.27it/s]\n"
     ]
    }
   ],
   "source": [
    "users = {}\n",
    "with open(file, encoding='utf8') as f:\n",
    "    for line in tqdm(f):\n",
    "        data = json.loads(line)\n",
    "        if data['visitor_id'] not in users:\n",
    "            users[data['visitor_id']] = []\n",
    "        for prod_idx in data['viewed_products']:\n",
    "            try:\n",
    "                users[data['visitor_id']].append(prod_idx)\n",
    "            except ValueError: \n",
    "                print('Sktrain_labelsiped ' + prod_idx)"
   ]
  },
  {
   "cell_type": "code",
   "execution_count": 6,
   "metadata": {},
   "outputs": [],
   "source": [
    "users_lens = list(map(lambda x: len(x), users.values()))"
   ]
  },
  {
   "cell_type": "code",
   "execution_count": 7,
   "metadata": {},
   "outputs": [
    {
     "name": "stdout",
     "output_type": "stream",
     "text": [
      "15710\n"
     ]
    }
   ],
   "source": [
    "print(len(users.keys()))"
   ]
  },
  {
   "cell_type": "code",
   "execution_count": 8,
   "metadata": {},
   "outputs": [
    {
     "data": {
      "image/png": "[encoded data removed]",
      "text/plain": [
       "<matplotlib.figure.Figure at 0x7f1948267cf8>"
      ]
     },
     "metadata": {},
     "output_type": "display_data"
    }
   ],
   "source": [
    "d = plt.hist(users_lens, bins=100, range=(3, 103))"
   ]
  },
  {
   "cell_type": "code",
   "execution_count": 9,
   "metadata": {},
   "outputs": [],
   "source": [
    "products = {}\n",
    "for u in users.values():\n",
    "    for pid in u:\n",
    "        products[pid] = 1\n",
    "product_idxs = list(products.keys())\n",
    "product_ids = {v: k for k, v in enumerate(product_idxs)}\n",
    "\n",
    "number_of_classes = len(product_idxs)"
   ]
  },
  {
   "cell_type": "code",
   "execution_count": 10,
   "metadata": {},
   "outputs": [
    {
     "name": "stdout",
     "output_type": "stream",
     "text": [
      "2043\n"
     ]
    }
   ],
   "source": [
    "print(number_of_classes)"
   ]
  },
  {
   "cell_type": "code",
   "execution_count": 11,
   "metadata": {},
   "outputs": [],
   "source": [
    "def dedup(seq):\n",
    "    seen = set()\n",
    "    seen_add = seen.add\n",
    "\n",
    "    return [x for x in seq if not (x in seen or seen_add(x))]"
   ]
  },
  {
   "cell_type": "code",
   "execution_count": 12,
   "metadata": {},
   "outputs": [
    {
     "name": "stderr",
     "output_type": "stream",
     "text": [
      "100%|██████████| 15710/15710 [00:02<00:00, 6804.49it/s]\n"
     ]
    }
   ],
   "source": [
    "class PairDataCollector:\n",
    "    def __init__(self):\n",
    "        self.data = [[],[]]\n",
    "        self.labels = []\n",
    "    \n",
    "    def add(self,i,j):\n",
    "        self.add_real_pair(i,j)\n",
    "        self.add_fake_pair(i)\n",
    "    \n",
    "    def add_real_pair(self,i,j):\n",
    "        self.data[0].append([i])\n",
    "        self.data[1].append([j])\n",
    "        self.labels.append([[1]])\n",
    "        \n",
    "    def add_fake_pair(self,i):\n",
    "        self.data[0].append([i])\n",
    "        self.data[1].append([random.randint(0,number_of_classes)])\n",
    "        self.labels.append([[0]])\n",
    "        \n",
    "    def get(self):\n",
    "        return (\n",
    "            [np.array(self.data[0]), np.array(self.data[1])], \n",
    "            np.array(self.labels)\n",
    "        )\n",
    "        \n",
    "    \n",
    "train_data_collector = PairDataCollector()\n",
    "valid_data_collector = PairDataCollector()\n",
    "\n",
    "\n",
    "for uid,products in tqdm(users.items()):\n",
    "    ids = dedup(list(map(lambda x: product_ids[x], products)))\n",
    "    collector = valid_data_collector if random.random() < 0.1 else train_data_collector\n",
    "    for i in ids:\n",
    "        for j in ids:\n",
    "            collector.add(i,j)\n",
    "            \n",
    "product_pair_data, product_pair_labels = train_data_collector.get()\n",
    "val_product_pair_data, val_product_pair_labels = valid_data_collector.get()"
   ]
  },
  {
   "cell_type": "code",
   "execution_count": 13,
   "metadata": {},
   "outputs": [],
   "source": [
    "from keras.models import Model\n",
    "from keras.layers import Input, Embedding, Activation\n",
    "from keras.layers.merge import dot\n",
    "from keras.optimizers import Nadam\n",
    "\n",
    "factors = 100\n",
    "\n",
    "input_l = Input(shape=(1,))\n",
    "input_r = Input(shape=(1,))\n",
    "\n",
    "emb_layer = Embedding(number_of_classes, factors)\n",
    "\n",
    "emb_layer_left  = emb_layer(input_l)\n",
    "emb_layer_right  = emb_layer(input_r)\n",
    "\n",
    "merged = dot([emb_layer_left, emb_layer_right], 2)\n",
    "activated = Activation('sigmoid')(merged)\n",
    "\n",
    "cf_model = Model([input_l, input_r], activated)\n",
    "cf_model.compile(Nadam(0.001), loss='binary_crossentropy', metrics=['binary_accuracy'])"
   ]
  },
  {
   "cell_type": "code",
   "execution_count": 14,
   "metadata": {},
   "outputs": [
    {
     "name": "stdout",
     "output_type": "stream",
     "text": [
      "Train on 566328 samples, validate on 55978 samples\n",
      "Epoch 1/2\n",
      "566328/566328 [==============================] - 9s 15us/step - loss: 0.5537 - binary_accuracy: 0.7183 - val_loss: 0.5395 - val_binary_accuracy: 0.7187\n",
      "Epoch 2/2\n",
      "566328/566328 [==============================] - 6s 10us/step - loss: 0.4621 - binary_accuracy: 0.7837 - val_loss: 0.5355 - val_binary_accuracy: 0.7203\n"
     ]
    },
    {
     "data": {
      "text/plain": [
       "<keras.callbacks.History at 0x7f192f127f28>"
      ]
     },
     "execution_count": 14,
     "metadata": {},
     "output_type": "execute_result"
    }
   ],
   "source": [
    "cf_model.fit(\n",
    "    product_pair_data, \n",
    "    product_pair_labels,\n",
    "    batch_size=256, \n",
    "    validation_data = (val_product_pair_data, val_product_pair_labels),\n",
    "    epochs=2\n",
    ")"
   ]
  },
  {
   "cell_type": "code",
   "execution_count": 15,
   "metadata": {},
   "outputs": [],
   "source": [
    "emb_weights = emb_layer.get_weights()"
   ]
  },
  {
   "cell_type": "code",
   "execution_count": 16,
   "metadata": {},
   "outputs": [
    {
     "data": {
      "text/plain": [
       "carray((1, 2043, 100), float32)\n",
       "  nbytes := 798.05 KB; cbytes := 1.52 MB; ratio: 0.51\n",
       "  cparams := cparams(clevel=5, shuffle=1, cname='lz4', quantize=0)\n",
       "  chunklen := 1; chunksize: 817200; blocksize: 32768\n",
       "  rootdir := '/data/predict/11167ECFF94860EA/11167ECFF94860EA_embedding'\n",
       "  mode    := 'w'\n",
       "[[[ 0.21508138  0.06259327 -0.02700626 ..., -0.01126878  0.17612952\n",
       "    0.1840426 ]\n",
       "  [ 0.26316366 -0.12279879 -0.1504733  ...,  0.06608707 -0.06924476\n",
       "   -0.20034002]\n",
       "  [-0.4152433   0.0571893   0.07921264 ...,  0.00810577  0.07145333\n",
       "    0.25571728]\n",
       "  ..., \n",
       "  [-0.21169321 -0.03184654  0.21299098 ..., -0.22878352 -0.23803233\n",
       "    0.08618272]\n",
       "  [ 0.14402542 -0.0603481  -0.15263127 ...,  0.15807715  0.26720899\n",
       "   -0.0248779 ]\n",
       "  [-0.17136791 -0.02372516  0.25303972 ...,  0.02841763 -0.01128649\n",
       "    0.03050606]]]"
      ]
     },
     "execution_count": 16,
     "metadata": {},
     "output_type": "execute_result"
    }
   ],
   "source": [
    "import bcolz\n",
    "bcolz.carray(emb_weights, rootdir='/data/predict/'+merchant_id+'/'+merchant_id+'_embedding', mode='w')"
   ]
  },
  {
   "cell_type": "markdown",
   "metadata": {},
   "source": [
    "## Eye ball validation"
   ]
  },
  {
   "cell_type": "code",
   "execution_count": 17,
   "metadata": {},
   "outputs": [],
   "source": [
    "product_map = {}\n",
    "with open('/data/predict/'+merchant_id+'/'+merchant_id+'_catalog.csv', 'r', encoding='utf8') as csvfile:\n",
    "    spamreader = csv.reader(csvfile)\n",
    "    header = next(spamreader)\n",
    "    item_id = header.index('item')\n",
    "    image_url = header.index('image')\n",
    "    title = header.index('title')\n",
    "    link = header.index('link')\n",
    "    \n",
    "    for row in spamreader:\n",
    "        if row[item_id] in product_ids:\n",
    "            product_map[product_ids[row[item_id]]] = {\n",
    "                'idx': product_ids[row[item_id]],\n",
    "                'id':row[item_id],\n",
    "                'image':row[image_url], \n",
    "                'title':row[title], \n",
    "                'link':row[link]\n",
    "            }"
   ]
  },
  {
   "cell_type": "code",
   "execution_count": 18,
   "metadata": {},
   "outputs": [],
   "source": [
    "result = cf_model.predict([np.array([0]*number_of_classes), np.array(range(number_of_classes))])"
   ]
  },
  {
   "cell_type": "code",
   "execution_count": 19,
   "metadata": {},
   "outputs": [],
   "source": [
    "from IPython.core.display import display as core_display\n",
    "from IPython.core.display import HTML \n",
    "\n"
   ]
  },
  {
   "cell_type": "code",
   "execution_count": 20,
   "metadata": {},
   "outputs": [],
   "source": [
    "product_template = \"<td style='width:130px'><img src='%(image)s' style='width:130px'/><a href='%(link)s'>%(id)s (%(idx)s)</a><br/>%(title)s</td>\"\n",
    "missing_product_template = \"<td style='width:130px'><img src='http://www.lackuna.com/wp-content/themes/fearless/images/missing-image-640x360.png' style='width:130px'/>%(idx)s</td>\"\n",
    "\n",
    "#''\n",
    "\n",
    "def get_related(idx):\n",
    "    result = cf_model.predict([np.array([idx]*number_of_classes), np.array(range(number_of_classes))])\n",
    "    return np.argsort(result.reshape(number_of_classes))[::-1]\n",
    "\n",
    "def display_products(products, max_count=6):\n",
    "    html = '<table><tr>'\n",
    "        \n",
    "    count = 0\n",
    "    for p in products:\n",
    "        if p in product_map:\n",
    "            html += product_template  % product_map[p]\n",
    "            count += 1\n",
    "            if count > max_count:\n",
    "                break\n",
    "        \n",
    "    html += '</tr></table>'\n",
    "    \n",
    "    core_display(HTML(html))"
   ]
  },
  {
   "cell_type": "code",
   "execution_count": 37,
   "metadata": {},
   "outputs": [
    {
     "name": "stdout",
     "output_type": "stream",
     "text": [
      "369\n"
     ]
    },
    {
     "data": {
      "text/html": [
       "<table><tr><td style='width:130px'><img src='http://www.nkd.com/wcsstore/NKD2/images/catalog/2040032x1x1_M.jpg' style='width:130px'/><a href='http://www.nkd.com/kindermode-brands-kids/Jungen-Kapuzen-Pullover-mit-Skater-Waschbaer_215065_425291.html'>2040032 (369)</a><br/>Jungen-Kapuzen-Pullover mit Skater-Waschbär</td><td style='width:130px'><img src='http://www.nkd.com/wcsstore/NKD2/images/catalog/2040071x2x1_M.jpg' style='width:130px'/><a href='http://www.nkd.com/kindermode-jungen-jeans-hosen/Jungen-Jeans-mit-elastischem-Bund_215055_431329.html'>2040071 (1528)</a><br/>Jungen-Jeans mit elastischem Bund</td><td style='width:130px'><img src='http://www.nkd.com/wcsstore/NKD2/images/catalog/2040873x1x1_M.jpg' style='width:130px'/><a href='http://www.nkd.com/kindermode-jungen-waesche-struempfe/Jungen-Unterhemd-mit-suessem-Monster-Aufdruck-2er-Pack_215055_433135.html'>2040873 (86)</a><br/>Jungen-Unterhemd mit süßem Monster-Aufdruck, 2er Pack</td><td style='width:130px'><img src='http://www.nkd.com/wcsstore/NKD2/images/catalog/2039992x1x1_M.jpg' style='width:130px'/><a href='http://www.nkd.com/kindermode-jungen-shirts-pullover/Jungen-Pullover-mit-Streifenmuster_215055_433061.html'>2039992 (268)</a><br/>Jungen-Pullover mit Streifenmuster</td><td style='width:130px'><img src='http://www.nkd.com/wcsstore/NKD2/images/catalog/2040088x1x1_M.jpg' style='width:130px'/><a href='http://www.nkd.com/kindermode-jungen-shirts-pullover/Jungen-Sweatshirt-mit-coolem-Frontaufdruck_215055_433056.html'>2040088 (386)</a><br/>Jungen-Sweatshirt mit coolem Frontaufdruck</td><td style='width:130px'><img src='http://www.nkd.com/wcsstore/NKD2/images/catalog/2040078x1x1_M.jpg' style='width:130px'/><a href='http://www.nkd.com/kindermode-jungen-shirts-pullover/Jungen-Shirt-in-2-in-1-Optik_215055_430447.html'>2040078 (258)</a><br/>Jungen-Shirt in 2-in-1-Optik</td><td style='width:130px'><img src='http://www.nkd.com/wcsstore/NKD2/images/catalog/2039988x1x1_M.jpg' style='width:130px'/><a href='http://www.nkd.com/kindermode-jungen-shirts-pullover/Jungen-Pullover-mit-Zopfmuster_215055_431328.html'>2039988 (601)</a><br/>Jungen-Pullover mit Zopfmuster</td></tr></table>"
      ],
      "text/plain": [
       "<IPython.core.display.HTML object>"
      ]
     },
     "metadata": {},
     "output_type": "display_data"
    },
    {
     "data": {
      "text/html": [
       "<table><tr><td style='width:130px'><img src='http://www.nkd.com/wcsstore/NKD2/images/catalog/2040373x1x1_M.jpg' style='width:130px'/><a href='http://www.nkd.com/damenmode-brands-laura-torelli-classic/Damen-Steppjacke-mit-2-Wege-Reissverschluss_215062_434154.html'>2040373 (1092)</a><br/>Damen-Steppjacke mit 2-Wege-Reißverschluss</td><td style='width:130px'><img src='http://www.nkd.com/wcsstore/NKD2/images/catalog/2040960x1x1_M.jpg' style='width:130px'/><a href='http://www.nkd.com/damenmode-brands-laura-torelli-collection/Damen-Parka-mit-Kunstfell_215062_434191.html'>2040960 (187)</a><br/>Damen-Parka mit Kunstfell</td><td style='width:130px'><img src='http://www.nkd.com/wcsstore/NKD2/images/catalog/2040197x1x1_M.jpg' style='width:130px'/><a href='http://www.nkd.com/damenmode-brands-laura-torelli-classic/Damen-Anorak-mit-Druckknoepfen_215062_427772.html'>2040197 (1119)</a><br/>Damen-Anorak mit Druckknöpfen</td><td style='width:130px'><img src='http://www.nkd.com/wcsstore/NKD2/images/catalog/2040376x1x1_M.jpg' style='width:130px'/><a href='http://www.nkd.com/damenmode-brands-laura-torelli-classic/Damen-Jacke-mit-Kunstfell-Kragen_215062_434157.html'>2040376 (1427)</a><br/>Damen-Jacke mit Kunstfell-Kragen</td><td style='width:130px'><img src='http://www.nkd.com/wcsstore/NKD2/images/catalog/2042459x1x1_M.jpg' style='width:130px'/><a href='http://www.nkd.com/damenmode-brands-laura-torelli-classic/Damen-Shirt-mit-Rollkragen_215062_434206.html'>2042459 (1760)</a><br/>Damen-Shirt mit Rollkragen</td><td style='width:130px'><img src='http://www.nkd.com/wcsstore/NKD2/images/catalog/2040836x1x1_M.jpg' style='width:130px'/><a href='http://www.nkd.com/damenmode-brands-laura-torelli-classic/Damen-Anorak-mit-aufgesetzten-Taschen_215062_434172.html'>2040836 (945)</a><br/>Damen-Anorak mit aufgesetzten Taschen</td><td style='width:130px'><img src='http://www.nkd.com/wcsstore/NKD2/images/catalog/2045713x1x1_M.jpg' style='width:130px'/><a href='http://www.nkd.com/wohnideen-haushaltswaren/KeDDii-Scoop-Katzenstreuschaufel-aus-Die-Hoehle-der-Loewen_215061_434130.html'>2045713 (556)</a><br/>KeDDii Scoop Katzenstreuschaufel, aus Die Höhle der Löwen</td></tr></table>"
      ],
      "text/plain": [
       "<IPython.core.display.HTML object>"
      ]
     },
     "metadata": {},
     "output_type": "display_data"
    }
   ],
   "source": [
    "idx = -1\n",
    "while idx not in product_map:\n",
    "    idx = random.randint(0,number_of_classes)\n",
    "    \n",
    "print(idx)\n",
    "related_products = get_related(idx)\n",
    "display_products(related_products)\n",
    "display_products(related_products[::-1])"
   ]
  },
  {
   "cell_type": "code",
   "execution_count": 22,
   "metadata": {},
   "outputs": [
    {
     "data": {
      "text/html": [
       "<table><tr><td style='width:130px'><img src='http://www.nkd.com/wcsstore/NKD2/images/catalog/2041959x1x1_M.jpg' style='width:130px'/><a href='http://www.nkd.com/herrenmode-herren-socken/Herren-Gesundheitssocken-aus-reiner-Baumwolle-3er-Pack_207554_427851.html'>2041959 (1179)</a><br/>Herren-Gesundheitssocken aus reiner Baumwolle, 3er Pack</td><td style='width:130px'><img src='http://www.nkd.com/wcsstore/NKD2/images/catalog/2040467x1x1_M.jpg' style='width:130px'/><a href='http://www.nkd.com/damenmode-brands-body/Damen-Rioslip-mit-Streifenmuster-3er-Pack_215062_434170.html'>2040467 (801)</a><br/>Damen-Rioslip mit Streifenmuster, 3er Pack</td><td style='width:130px'><img src='http://www.nkd.com/wcsstore/NKD2/images/catalog/2040537x1x1_M.jpg' style='width:130px'/><a href='http://www.nkd.com/damenmode-damen-dessous-waesche/Damen-Rioslip-mit-Spitze-an-den-Seiten-2er-Pack_207551_430543.html'>2040537 (1019)</a><br/>Damen-Rioslip mit Spitze an den Seiten, 2er Pack</td><td style='width:130px'><img src='http://www.nkd.com/wcsstore/NKD2/images/catalog/2040413x1x1_M.jpg' style='width:130px'/><a href='http://www.nkd.com/damenmode-brands-body/Damen-Minislip-mit-Punkte-Muster-2er-Pack_215062_428730.html'>2040413 (1525)</a><br/>Damen-Minislip mit Punkte-Muster, 2er Pack</td><td style='width:130px'><img src='http://www.nkd.com/wcsstore/NKD2/images/catalog/2042383x1x1_M.jpg' style='width:130px'/><a href='http://www.nkd.com/wohnideen-brands-home/Duschtuch-in-supersofter-Qualitaet-70x140cm_215067_422577.html'>2042383 (781)</a><br/>Duschtuch in supersofter Qualität, 70x140cm</td><td style='width:130px'><img src='http://www.nkd.com/wcsstore/NKD2/images/catalog/1535794x1x1_M.jpg' style='width:130px'/><a href='http://www.nkd.com/damenmode-basics/Damen-Unterhemd_207553_80063.html'>1535794 (1451)</a><br/>Damen-Unterhemd</td><td style='width:130px'><img src='http://www.nkd.com/wcsstore/NKD2/images/catalog/2040159x1x1_M.jpg' style='width:130px'/><a href='http://www.nkd.com/damenmode-brands-body/Damen-BH-mit-verzierten-Cups-mit-Buegel_215062_418575.html'>2040159 (1705)</a><br/>Damen-BH mit verzierten Cups, mit Bügel</td></tr></table>"
      ],
      "text/plain": [
       "<IPython.core.display.HTML object>"
      ]
     },
     "metadata": {},
     "output_type": "display_data"
    },
    {
     "data": {
      "text/html": [
       "<table><tr><td style='width:130px'><img src='http://www.nkd.com/wcsstore/NKD2/images/catalog/2042807x1x1_M.jpg' style='width:130px'/><a href='http://www.nkd.com/damenmode-damen-pullover-langarmshirts/Damen-Sweatshirt-mit-Kordelzug-und-Trend-Muster_207551_434961.html'>2042807 (1216)</a><br/>Damen-Sweatshirt mit Kordelzug und Trend-Muster</td><td style='width:130px'><img src='http://www.nkd.com/wcsstore/NKD2/images/catalog/2043559x1x1_M.jpg' style='width:130px'/><a href='http://www.nkd.com/damenmode-damen-jacken-westen/Damen-2-in-1-Allwetterjacke_207551_435551.html'>2043559 (136)</a><br/>Damen-2-in-1-Allwetterjacke</td><td style='width:130px'><img src='http://www.nkd.com/wcsstore/NKD2/images/catalog/2041503x1x1_M.jpg' style='width:130px'/><a href='http://www.nkd.com/damenmode-damen-pullover-langarmshirts/Damen-Pullover-mit-modischem-Strickmuster_207551_435555.html'>2041503 (1191)</a><br/>Damen-Pullover mit modischem Strickmuster</td><td style='width:130px'><img src='http://www.nkd.com/wcsstore/NKD2/images/catalog/2040373x1x1_M.jpg' style='width:130px'/><a href='http://www.nkd.com/damenmode-brands-laura-torelli-classic/Damen-Steppjacke-mit-2-Wege-Reissverschluss_215062_434154.html'>2040373 (1092)</a><br/>Damen-Steppjacke mit 2-Wege-Reißverschluss</td><td style='width:130px'><img src='http://www.nkd.com/wcsstore/NKD2/images/catalog/2042425x1x1_M.jpg' style='width:130px'/><a href='http://www.nkd.com/wohnideen-weihnachten/Mitteldecke-mit-Glitzergarn-ca-80x80cm_215066_434878.html'>2042425 (260)</a><br/>Mitteldecke mit Glitzergarn, ca. 80x80cm</td><td style='width:130px'><img src='http://www.nkd.com/wcsstore/NKD2/images/catalog/2040960x1x1_M.jpg' style='width:130px'/><a href='http://www.nkd.com/damenmode-brands-laura-torelli-collection/Damen-Parka-mit-Kunstfell_215062_434191.html'>2040960 (187)</a><br/>Damen-Parka mit Kunstfell</td><td style='width:130px'><img src='http://www.nkd.com/wcsstore/NKD2/images/catalog/2041507x1x1_M.jpg' style='width:130px'/><a href='http://www.nkd.com/damenmode-damen-pullover-langarmshirts/Damen-Pullover-in-gestrickter-Melange-Optik_207551_435557.html'>2041507 (100)</a><br/>Damen-Pullover in gestrickter Melange-Optik</td></tr></table>"
      ],
      "text/plain": [
       "<IPython.core.display.HTML object>"
      ]
     },
     "metadata": {},
     "output_type": "display_data"
    }
   ],
   "source": [
    "related_products = get_related(1160)\n",
    "display_products(related_products)\n",
    "display_products(related_products[::-1])"
   ]
  },
  {
   "cell_type": "markdown",
   "metadata": {},
   "source": [
    "# Predict next visit in session"
   ]
  },
  {
   "cell_type": "code",
   "execution_count": 179,
   "metadata": {},
   "outputs": [],
   "source": [
    "def chunks(l, n):\n",
    "    for i in range(0, len(l), n):\n",
    "        yield l[i:i + n]"
   ]
  },
  {
   "cell_type": "code",
   "execution_count": 180,
   "metadata": {},
   "outputs": [],
   "source": [
    "users_with_product_idxs = {}\n",
    "for uid,products in users.items():\n",
    "    ids = dedup(list(map(lambda x: product_ids[x], products)))[-40:]\n",
    "    if len(ids) > 1:\n",
    "        if len(ids) not in users_with_product_idxs:\n",
    "            users_with_product_idxs[len(ids)] = []\n",
    "        users_with_product_idxs[len(ids)].append(ids)\n",
    "    \n",
    "del users"
   ]
  },
  {
   "cell_type": "code",
   "execution_count": 181,
   "metadata": {},
   "outputs": [],
   "source": [
    "max_batch_size = 32\n",
    "test_size = 0.1\n",
    "user_batches = []\n",
    "user_valid_batches = []\n",
    "for len_group in users_with_product_idxs.values():\n",
    "    random.shuffle(len_group)\n",
    "    for batch in chunks(len_group, max_batch_size):\n",
    "        batch_data = np.array(list(map(lambda x: x[:-1], batch)))\n",
    "        batch_labels = np.expand_dims(np.array(list(map(lambda x: x[1:], batch))), axis=2)\n",
    "        if random.random() < test_size:\n",
    "            user_valid_batches.append(\n",
    "                (batch_data, batch_labels)\n",
    "            )\n",
    "        else:\n",
    "            user_batches.append(\n",
    "                (batch_data, batch_labels)\n",
    "            )"
   ]
  },
  {
   "cell_type": "code",
   "execution_count": 182,
   "metadata": {},
   "outputs": [],
   "source": [
    "\n",
    "def generate_from_array(arr):\n",
    "    while True:\n",
    "        random.shuffle(arr)\n",
    "        for i in arr: \n",
    "            yield i\n",
    "    "
   ]
  },
  {
   "cell_type": "code",
   "execution_count": 251,
   "metadata": {},
   "outputs": [],
   "source": [
    "from keras.models import Sequential\n",
    "from keras.layers import Embedding, GRU, Dense, Dropout, TimeDistributed,Bidirectional\n",
    "from keras.layers.normalization import BatchNormalization\n",
    "from keras.optimizers import Nadam\n",
    "\n",
    "\n",
    "n_hidden = factors\n",
    "\n",
    "model=Sequential([\n",
    "        Embedding(number_of_classes, n_hidden, batch_input_shape=(None,None), \n",
    "                  name='embedding', trainable=False, weights=emb_weights),\n",
    "        #BatchNormalization(),\n",
    "        GRU(4*n_hidden, input_shape=(None,n_hidden),return_sequences=True),\n",
    "        #Dropout(0.2),\n",
    "        #GRU(4*n_hidden,return_sequences=True),\n",
    "        #Dropout(0.2),\n",
    "        #TimeDistributed(Dense(n_hidden, activation='relu')),\n",
    "        TimeDistributed(Dense(number_of_classes, activation='softmax'))\n",
    "    ])"
   ]
  },
  {
   "cell_type": "code",
   "execution_count": 252,
   "metadata": {},
   "outputs": [],
   "source": [
    "from keras.backend import reshape, prod, shape, stack\n",
    "from keras.metrics import sparse_top_k_categorical_accuracy\n",
    "\n",
    "def flatten_first_n_dimension(x, first_n=2):\n",
    "    new_dims = stack([prod(shape(x)[:first_n]), prod(shape(x)[first_n:])])\n",
    "\n",
    "    return reshape(x, new_dims)\n",
    "\n",
    "def sparse_timedistributed_top_k_categorical_accuracy(y_true, y_pred, k=5):\n",
    "    y_true_reshaped = flatten_first_n_dimension(y_true)\n",
    "    y_pred_reshaped = flatten_first_n_dimension(y_pred)\n",
    "\n",
    "    return sparse_top_k_categorical_accuracy(y_true_reshaped, y_pred_reshaped, k)"
   ]
  },
  {
   "cell_type": "code",
   "execution_count": 253,
   "metadata": {},
   "outputs": [],
   "source": [
    "model.compile(loss='sparse_categorical_crossentropy', metrics=['sparse_categorical_accuracy',sparse_timedistributed_top_k_categorical_accuracy], optimizer=Nadam())"
   ]
  },
  {
   "cell_type": "code",
   "execution_count": 254,
   "metadata": {},
   "outputs": [],
   "source": [
    "import csv\n",
    "with open('/data/predict/'+merchant_id+'/'+merchant_id+'_variable_length_model_id_map.csv', 'w',encoding='utf8') as csvfile:\n",
    "    spamwriter = csv.writer(csvfile)\n",
    "    for line in product_idxs:\n",
    "        spamwriter.writerow([line])"
   ]
  },
  {
   "cell_type": "code",
   "execution_count": 255,
   "metadata": {},
   "outputs": [],
   "source": [
    "from keras.callbacks import ModelCheckpoint\n",
    "filepath='/data/predict/'+merchant_id+'/'+merchant_id+'_variable_length_model-{epoch:02d}-{val_loss:.2f}.hdf5'\n",
    "checkpoint = ModelCheckpoint(filepath, monitor='val_sparse_timedistributed_top_k_categorical_accuracy', verbose=1, save_best_only=False, mode='max')"
   ]
  },
  {
   "cell_type": "code",
   "execution_count": 256,
   "metadata": {},
   "outputs": [
    {
     "name": "stdout",
     "output_type": "stream",
     "text": [
      "Epoch 1/2\n",
      "240/240 [==============================] - 4s 15ms/step - loss: 5.8678 - sparse_categorical_accuracy: 0.0658 - sparse_timedistributed_top_k_categorical_accuracy: 0.1927 - val_loss: 5.3789 - val_sparse_categorical_accuracy: 0.0911 - val_sparse_timedistributed_top_k_categorical_accuracy: 0.2379\n",
      "Epoch 2/2\n",
      "240/240 [==============================] - 2s 10ms/step - loss: 5.1260 - sparse_categorical_accuracy: 0.0949 - sparse_timedistributed_top_k_categorical_accuracy: 0.2585 - val_loss: 5.2886 - val_sparse_categorical_accuracy: 0.1032 - val_sparse_timedistributed_top_k_categorical_accuracy: 0.2627\n"
     ]
    },
    {
     "data": {
      "text/plain": [
       "<keras.callbacks.History at 0x7fce12c7a470>"
      ]
     },
     "execution_count": 256,
     "metadata": {},
     "output_type": "execute_result"
    }
   ],
   "source": [
    "model.fit_generator(\n",
    "    generate_from_array(user_batches), \n",
    "    validation_data=generate_from_array(user_valid_batches), \n",
    "    steps_per_epoch=len(user_batches),\n",
    "    validation_steps=len(user_valid_batches),\n",
    "    #callbacks=[checkpoint],\n",
    "    epochs=2\n",
    ")"
   ]
  },
  {
   "cell_type": "markdown",
   "metadata": {},
   "source": [
    "## Eye ball validation"
   ]
  },
  {
   "cell_type": "code",
   "execution_count": 257,
   "metadata": {},
   "outputs": [],
   "source": [
    "import csv"
   ]
  },
  {
   "cell_type": "code",
   "execution_count": 258,
   "metadata": {},
   "outputs": [],
   "source": [
    "product_map = {}\n",
    "with open('/data/predict/'+merchant_id+'/'+merchant_id+'_catalog.csv', 'r', encoding='utf8') as csvfile:\n",
    "    spamreader = csv.reader(csvfile)\n",
    "    header = next(spamreader)\n",
    "    item_id = header.index('item')\n",
    "    image_url = header.index('image')\n",
    "    title = header.index('title')\n",
    "    link = header.index('link')\n",
    "    \n",
    "    for row in spamreader:\n",
    "        product_map[row[item_id]] = [row[image_url], row[title], row[link]]"
   ]
  },
  {
   "cell_type": "code",
   "execution_count": 259,
   "metadata": {},
   "outputs": [
    {
     "data": {
      "application/javascript": [
       "IPython.OutputArea.prototype._should_scroll = function(lines) {\n",
       "    return false;\n",
       "}"
      ],
      "text/plain": [
       "<IPython.core.display.Javascript object>"
      ]
     },
     "metadata": {},
     "output_type": "display_data"
    }
   ],
   "source": [
    "%%javascript\n",
    "IPython.OutputArea.prototype._should_scroll = function(lines) {\n",
    "    return false;\n",
    "}"
   ]
  },
  {
   "cell_type": "code",
   "execution_count": 268,
   "metadata": {},
   "outputs": [
    {
     "data": {
      "text/html": [
       "<table><tr><th style=\"text-align:center;width:120px\"><img src=\"http://www.nkd.com/wcsstore/NKD2/images/catalog/2043559x1x1_M.jpg\" width=\"130\"><br/><a href=\"http://www.nkd.com/damenmode-damen-jacken-westen/Damen-2-in-1-Allwetterjacke_207551_435551.html\">2043559</a></br>Damen-2-in-1-Allwetterjacke</th><td style=\"background-color:black;\"></td><td style=\"width:130px\"><img src=\"http://www.nkd.com/wcsstore/NKD2/images/catalog/2040373x1x1_M.jpg\"  width=\"130\"><br/><a href=\"http://www.nkd.com/damenmode-brands-laura-torelli-classic/Damen-Steppjacke-mit-2-Wege-Reissverschluss_215062_434154.html\">2040373</a></br>Damen-Steppjacke mit 2-Wege-Reißverschluss</td><td style=\"width:130px\"><img src=\"http://www.nkd.com/wcsstore/NKD2/images/catalog/2040854x1x1_M.jpg\" style=\"border:3px dashed red;\" width=\"130\"><br/><a href=\"http://www.nkd.com/damenmode-brands-laura-torelli-plus/Damen-Jacke-im-Parka-Stil-grosse-Groessen_215062_434183.html\">2040854</a></br>Damen-Jacke im Parka-Stil, große Größen</td><td style=\"width:130px\"><img src=\"http://www.nkd.com/wcsstore/NKD2/images/catalog/2043560x1x1_M.jpg\"  width=\"130\"><br/><a href=\"http://www.nkd.com/damenmode-damen-jacken-westen/Damen-Daunenjacke-mit-Kontrast-Futter_207551_435556.html\">2043560</a></br>Damen-Daunenjacke mit Kontrast-Futter</td><td style=\"width:130px\"><img src=\"http://www.nkd.com/wcsstore/NKD2/images/catalog/2041500x1x1_M.jpg\"  width=\"130\"><br/><a href=\"http://www.nkd.com/damenmode-damen-pullover-langarmshirts/Damen-Pullover-mit-tollem-Strickmuster_207551_435560.html\">2041500</a></br>Damen-Pullover mit tollem Strickmuster</td><td style=\"width:130px\"><img src=\"http://www.nkd.com/wcsstore/NKD2/images/catalog/2040960x1x1_M.jpg\"  width=\"130\"><br/><a href=\"http://www.nkd.com/damenmode-brands-laura-torelli-collection/Damen-Parka-mit-Kunstfell_215062_434191.html\">2040960</a></br>Damen-Parka mit Kunstfell</td><td style=\"width:130px\"><img src=\"http://www.nkd.com/wcsstore/NKD2/images/catalog/2041503x1x1_M.jpg\"  width=\"130\"><br/><a href=\"http://www.nkd.com/damenmode-damen-pullover-langarmshirts/Damen-Pullover-mit-modischem-Strickmuster_207551_435555.html\">2041503</a></br>Damen-Pullover mit modischem Strickmuster</td></tr><tr><th style=\"text-align:center;width:120px\"><img src=\"http://www.nkd.com/wcsstore/NKD2/images/catalog/2040854x1x1_M.jpg\" width=\"130\"><br/><a href=\"http://www.nkd.com/damenmode-brands-laura-torelli-plus/Damen-Jacke-im-Parka-Stil-grosse-Groessen_215062_434183.html\">2040854</a></br>Damen-Jacke im Parka-Stil, große Größen</th><td style=\"background-color:black;\"></td><td style=\"width:130px\"><img src=\"http://www.nkd.com/wcsstore/NKD2/images/catalog/2040960x1x1_M.jpg\"  width=\"130\"><br/><a href=\"http://www.nkd.com/damenmode-brands-laura-torelli-collection/Damen-Parka-mit-Kunstfell_215062_434191.html\">2040960</a></br>Damen-Parka mit Kunstfell</td><td style=\"width:130px\"><img src=\"http://www.nkd.com/wcsstore/NKD2/images/catalog/2040373x1x1_M.jpg\"  width=\"130\"><br/><a href=\"http://www.nkd.com/damenmode-brands-laura-torelli-classic/Damen-Steppjacke-mit-2-Wege-Reissverschluss_215062_434154.html\">2040373</a></br>Damen-Steppjacke mit 2-Wege-Reißverschluss</td><td style=\"width:130px\"><img src=\"http://www.nkd.com/wcsstore/NKD2/images/catalog/2040836x1x1_M.jpg\"  width=\"130\"><br/><a href=\"http://www.nkd.com/damenmode-brands-laura-torelli-classic/Damen-Anorak-mit-aufgesetzten-Taschen_215062_434172.html\">2040836</a></br>Damen-Anorak mit aufgesetzten Taschen</td><td style=\"width:130px\"><img src=\"http://www.nkd.com/wcsstore/NKD2/images/catalog/2040854x1x1_M.jpg\"  width=\"130\"><br/><a href=\"http://www.nkd.com/damenmode-brands-laura-torelli-plus/Damen-Jacke-im-Parka-Stil-grosse-Groessen_215062_434183.html\">2040854</a></br>Damen-Jacke im Parka-Stil, große Größen</td><td style=\"width:130px\"><img src=\"http://www.nkd.com/wcsstore/NKD2/images/catalog/2043560x1x1_M.jpg\"  width=\"130\"><br/><a href=\"http://www.nkd.com/damenmode-damen-jacken-westen/Damen-Daunenjacke-mit-Kontrast-Futter_207551_435556.html\">2043560</a></br>Damen-Daunenjacke mit Kontrast-Futter</td><td style=\"width:130px\"><img src=\"http://www.nkd.com/wcsstore/NKD2/images/catalog/2041500x1x1_M.jpg\"  width=\"130\"><br/><a href=\"http://www.nkd.com/damenmode-damen-pullover-langarmshirts/Damen-Pullover-mit-tollem-Strickmuster_207551_435560.html\">2041500</a></br>Damen-Pullover mit tollem Strickmuster</td></tr><tr><th style=\"text-align:center;width:120px\"><img src=\"http://www.nkd.com/wcsstore/NKD2/images/catalog/2040956x1x1_M.jpg\" width=\"130\"><br/><a href=\"http://www.nkd.com/damenmode-brands-laura-torelli-collection/Damen-Anorak-mit-flauschigem-Kunstfell_215062_434109.html\">2040956</a></br>Damen-Anorak mit flauschigem Kunstfell</th><td style=\"background-color:black;\"></td><td style=\"width:130px\"><img src=\"http://www.nkd.com/wcsstore/NKD2/images/catalog/2040960x1x1_M.jpg\" style=\"border:3px dashed red;\" width=\"130\"><br/><a href=\"http://www.nkd.com/damenmode-brands-laura-torelli-collection/Damen-Parka-mit-Kunstfell_215062_434191.html\">2040960</a></br>Damen-Parka mit Kunstfell</td><td style=\"width:130px\"><img src=\"http://www.nkd.com/wcsstore/NKD2/images/catalog/2040373x1x1_M.jpg\"  width=\"130\"><br/><a href=\"http://www.nkd.com/damenmode-brands-laura-torelli-classic/Damen-Steppjacke-mit-2-Wege-Reissverschluss_215062_434154.html\">2040373</a></br>Damen-Steppjacke mit 2-Wege-Reißverschluss</td><td style=\"width:130px\"><img src=\"http://www.nkd.com/wcsstore/NKD2/images/catalog/2040836x1x1_M.jpg\"  width=\"130\"><br/><a href=\"http://www.nkd.com/damenmode-brands-laura-torelli-classic/Damen-Anorak-mit-aufgesetzten-Taschen_215062_434172.html\">2040836</a></br>Damen-Anorak mit aufgesetzten Taschen</td><td style=\"width:130px\"><img src=\"http://www.nkd.com/wcsstore/NKD2/images/catalog/2043560x1x1_M.jpg\"  width=\"130\"><br/><a href=\"http://www.nkd.com/damenmode-damen-jacken-westen/Damen-Daunenjacke-mit-Kontrast-Futter_207551_435556.html\">2043560</a></br>Damen-Daunenjacke mit Kontrast-Futter</td><td style=\"width:130px\"><img src=\"http://www.nkd.com/wcsstore/NKD2/images/catalog/2040964x1x1_M.jpg\"  width=\"130\"><br/><a href=\"http://www.nkd.com/damenmode-damen-jacken-westen/Damen-Steppjacke-in-Glanz-Optik_207551_432351.html\">2040964</a></br>Damen-Steppjacke in Glanz-Optik</td><td style=\"width:130px\"><img src=\"http://www.nkd.com/wcsstore/NKD2/images/catalog/2040376x1x1_M.jpg\"  width=\"130\"><br/><a href=\"http://www.nkd.com/damenmode-brands-laura-torelli-classic/Damen-Jacke-mit-Kunstfell-Kragen_215062_434157.html\">2040376</a></br>Damen-Jacke mit Kunstfell-Kragen</td></tr><tr><th style=\"text-align:center;width:120px\"><img src=\"http://www.nkd.com/wcsstore/NKD2/images/catalog/2040960x1x1_M.jpg\" width=\"130\"><br/><a href=\"http://www.nkd.com/damenmode-brands-laura-torelli-collection/Damen-Parka-mit-Kunstfell_215062_434191.html\">2040960</a></br>Damen-Parka mit Kunstfell</th><td style=\"background-color:black;\"></td><td style=\"width:130px\"><img src=\"http://www.nkd.com/wcsstore/NKD2/images/catalog/2040373x1x1_M.jpg\"  width=\"130\"><br/><a href=\"http://www.nkd.com/damenmode-brands-laura-torelli-classic/Damen-Steppjacke-mit-2-Wege-Reissverschluss_215062_434154.html\">2040373</a></br>Damen-Steppjacke mit 2-Wege-Reißverschluss</td><td style=\"width:130px\"><img src=\"http://www.nkd.com/wcsstore/NKD2/images/catalog/2040836x1x1_M.jpg\" style=\"border:3px dashed red;\" width=\"130\"><br/><a href=\"http://www.nkd.com/damenmode-brands-laura-torelli-classic/Damen-Anorak-mit-aufgesetzten-Taschen_215062_434172.html\">2040836</a></br>Damen-Anorak mit aufgesetzten Taschen</td><td style=\"width:130px\"><img src=\"http://www.nkd.com/wcsstore/NKD2/images/catalog/2043559x1x1_M.jpg\"  width=\"130\"><br/><a href=\"http://www.nkd.com/damenmode-damen-jacken-westen/Damen-2-in-1-Allwetterjacke_207551_435551.html\">2043559</a></br>Damen-2-in-1-Allwetterjacke</td><td style=\"width:130px\"><img src=\"http://www.nkd.com/wcsstore/NKD2/images/catalog/2040960x1x1_M.jpg\"  width=\"130\"><br/><a href=\"http://www.nkd.com/damenmode-brands-laura-torelli-collection/Damen-Parka-mit-Kunstfell_215062_434191.html\">2040960</a></br>Damen-Parka mit Kunstfell</td><td style=\"width:130px\"><img src=\"http://www.nkd.com/wcsstore/NKD2/images/catalog/2043560x1x1_M.jpg\"  width=\"130\"><br/><a href=\"http://www.nkd.com/damenmode-damen-jacken-westen/Damen-Daunenjacke-mit-Kontrast-Futter_207551_435556.html\">2043560</a></br>Damen-Daunenjacke mit Kontrast-Futter</td><td style=\"width:130px\"><img src=\"http://www.nkd.com/wcsstore/NKD2/images/catalog/2040376x1x1_M.jpg\"  width=\"130\"><br/><a href=\"http://www.nkd.com/damenmode-brands-laura-torelli-classic/Damen-Jacke-mit-Kunstfell-Kragen_215062_434157.html\">2040376</a></br>Damen-Jacke mit Kunstfell-Kragen</td></tr><tr><th style=\"text-align:center;width:120px\"><img src=\"http://www.nkd.com/wcsstore/NKD2/images/catalog/2040836x1x1_M.jpg\" width=\"130\"><br/><a href=\"http://www.nkd.com/damenmode-brands-laura-torelli-classic/Damen-Anorak-mit-aufgesetzten-Taschen_215062_434172.html\">2040836</a></br>Damen-Anorak mit aufgesetzten Taschen</th><td style=\"background-color:black;\"></td><td style=\"width:130px\"><img src=\"http://www.nkd.com/wcsstore/NKD2/images/catalog/2040373x1x1_M.jpg\"  width=\"130\"><br/><a href=\"http://www.nkd.com/damenmode-brands-laura-torelli-classic/Damen-Steppjacke-mit-2-Wege-Reissverschluss_215062_434154.html\">2040373</a></br>Damen-Steppjacke mit 2-Wege-Reißverschluss</td><td style=\"width:130px\"><img src=\"http://www.nkd.com/wcsstore/NKD2/images/catalog/2040960x1x1_M.jpg\"  width=\"130\"><br/><a href=\"http://www.nkd.com/damenmode-brands-laura-torelli-collection/Damen-Parka-mit-Kunstfell_215062_434191.html\">2040960</a></br>Damen-Parka mit Kunstfell</td><td style=\"width:130px\"><img src=\"http://www.nkd.com/wcsstore/NKD2/images/catalog/2040836x1x1_M.jpg\"  width=\"130\"><br/><a href=\"http://www.nkd.com/damenmode-brands-laura-torelli-classic/Damen-Anorak-mit-aufgesetzten-Taschen_215062_434172.html\">2040836</a></br>Damen-Anorak mit aufgesetzten Taschen</td><td style=\"width:130px\"><img src=\"http://www.nkd.com/wcsstore/NKD2/images/catalog/2043560x1x1_M.jpg\"  width=\"130\"><br/><a href=\"http://www.nkd.com/damenmode-damen-jacken-westen/Damen-Daunenjacke-mit-Kontrast-Futter_207551_435556.html\">2043560</a></br>Damen-Daunenjacke mit Kontrast-Futter</td><td style=\"width:130px\"><img src=\"http://www.nkd.com/wcsstore/NKD2/images/catalog/2040854x1x1_M.jpg\"  width=\"130\"><br/><a href=\"http://www.nkd.com/damenmode-brands-laura-torelli-plus/Damen-Jacke-im-Parka-Stil-grosse-Groessen_215062_434183.html\">2040854</a></br>Damen-Jacke im Parka-Stil, große Größen</td><td style=\"width:130px\"><img src=\"http://www.nkd.com/wcsstore/NKD2/images/catalog/2040376x1x1_M.jpg\"  width=\"130\"><br/><a href=\"http://www.nkd.com/damenmode-brands-laura-torelli-classic/Damen-Jacke-mit-Kunstfell-Kragen_215062_434157.html\">2040376</a></br>Damen-Jacke mit Kunstfell-Kragen</td></tr><tr><th style=\"text-align:center;width:120px\"><img src=\"http://www.nkd.com/wcsstore/NKD2/images/catalog/2042704x1x1_M.jpg\" width=\"130\"><br/><a href=\"http://www.nkd.com/damenmode-damen-shirts-tops-blusen/Damen-Pullover-mit-wunderschoener-Rueschenverzierung_207551_434001.html\">2042704</a></br>Damen-Pullover mit wunderschöner Rüschenverzierung</th><td style=\"background-color:black;\"></td><td style=\"width:130px\"><img src=\"http://www.nkd.com/wcsstore/NKD2/images/catalog/2043315x1x1_M.jpg\"  width=\"130\"><br/><a href=\"http://www.nkd.com/damenmode-brands-laura-torelli-collection/Damen-Spitzenshirt-mit-2-Volants_215062_432818.html\">2043315</a></br>Damen-Spitzenshirt mit 2 Volants</td><td style=\"width:130px\"><img src=\"http://www.nkd.com/wcsstore/NKD2/images/catalog/2042527x1x1_M.jpg\"  width=\"130\"><br/><a href=\"http://www.nkd.com/damenmode-brands-laura-torelli-collection/Damen-Pullover-mit-Ripp-Struktur_215062_424741.html\">2042527</a></br>Damen-Pullover mit Ripp-Struktur</td><td style=\"width:130px\"><img src=\"http://www.lackuna.com/wp-content/themes/fearless/images/missing-image-640x360.png\"  width=\"130\"><br/><a href=\"\"></a></br>UNKNOWN</td><td style=\"width:130px\"><img src=\"http://www.nkd.com/wcsstore/NKD2/images/catalog/2042704x1x1_M.jpg\"  width=\"130\"><br/><a href=\"http://www.nkd.com/damenmode-damen-shirts-tops-blusen/Damen-Pullover-mit-wunderschoener-Rueschenverzierung_207551_434001.html\">2042704</a></br>Damen-Pullover mit wunderschöner Rüschenverzierung</td><td style=\"width:130px\"><img src=\"http://www.nkd.com/wcsstore/NKD2/images/catalog/2043018x1x1_M.jpg\"  width=\"130\"><br/><a href=\"http://www.nkd.com/schnaeppchen-damenmode-brands/Damen-Kleid-mit-modernem-Blumenmuster_215081_425906.html\">2043018</a></br>Damen-Kleid mit modernem Blumenmuster</td><td style=\"width:130px\"><img src=\"http://www.lackuna.com/wp-content/themes/fearless/images/missing-image-640x360.png\"  width=\"130\"><br/><a href=\"\"></a></br>UNKNOWN</td></tr><tr><th style=\"text-align:center;width:120px\"><img src=\"http://www.nkd.com/wcsstore/NKD2/images/catalog/2043245x1x1_M.jpg\" width=\"130\"><br/><a href=\"http://www.nkd.com/damenmode-damen-hosen/Damen-Sweathose-mit-huebscher-Verzierung_207551_431662.html\">2043245</a></br>Damen-Sweathose mit hübscher Verzierung</th><td style=\"background-color:black;\"></td><td style=\"width:130px\"><img src=\"http://www.lackuna.com/wp-content/themes/fearless/images/missing-image-640x360.png\"  width=\"130\"><br/><a href=\"\"></a></br>UNKNOWN</td><td style=\"width:130px\"><img src=\"http://www.nkd.com/wcsstore/NKD2/images/catalog/2042219x1x1_M.jpg\"  width=\"130\"><br/><a href=\"http://www.nkd.com/damenmode-damen-hosen/Damen-Stoffhose-im-5-Pocket-Style_207551_431325.html\">2042219</a></br>Damen-Stoffhose im 5-Pocket-Style</td><td style=\"width:130px\"><img src=\"http://www.nkd.com/wcsstore/NKD2/images/catalog/2042216x1x1_M.jpg\"  width=\"130\"><br/><a href=\"http://www.nkd.com/damenmode-brands-laura-torelli-classic/Damen-Jeans-mit-verkuerzter-Beinlaenge_215062_432828.html\">2042216</a></br>Damen-Jeans mit verkürzter Beinlänge</td><td style=\"width:130px\"><img src=\"http://www.nkd.com/wcsstore/NKD2/images/catalog/2042755x1x1_M.jpg\"  width=\"130\"><br/><a href=\"http://www.nkd.com/schnaeppchen-damenmode-brands/Damen-Stoffhose-im-5-Pocket-Style_215081_421051.html\">2042755</a></br>Damen-Stoffhose im 5-Pocket-Style</td><td style=\"width:130px\"><img src=\"http://www.nkd.com/wcsstore/NKD2/images/catalog/2042527x1x1_M.jpg\"  width=\"130\"><br/><a href=\"http://www.nkd.com/damenmode-brands-laura-torelli-collection/Damen-Pullover-mit-Ripp-Struktur_215062_424741.html\">2042527</a></br>Damen-Pullover mit Ripp-Struktur</td><td style=\"width:130px\"><img src=\"http://www.nkd.com/wcsstore/NKD2/images/catalog/2041425x1x1_M.jpg\"  width=\"130\"><br/><a href=\"http://www.nkd.com/damenmode-damen-xxl/Damen-Pullover-mit-Glitzer-Schmuckstreifen-grosse-Groessen_207553_432323.html\">2041425</a></br>Damen-Pullover mit Glitzer-Schmuckstreifen, große Größen</td></tr><tr><th style=\"text-align:center;width:120px\"><img src=\"http://www.nkd.com/wcsstore/NKD2/images/catalog/2043263x1x1_M.jpg\" width=\"130\"><br/><a href=\"http://www.nkd.com/damenmode-damen-hosen/Damen-Jeggings-mit-elastischem-Bund_207551_430533.html\">2043263</a></br>Damen-Jeggings mit elastischem Bund</th><td style=\"background-color:black;\"></td><td style=\"width:130px\"><img src=\"http://www.lackuna.com/wp-content/themes/fearless/images/missing-image-640x360.png\"  width=\"130\"><br/><a href=\"\"></a></br>UNKNOWN</td><td style=\"width:130px\"><img src=\"http://www.lackuna.com/wp-content/themes/fearless/images/missing-image-640x360.png\"  width=\"130\"><br/><a href=\"\"></a></br>UNKNOWN</td><td style=\"width:130px\"><img src=\"http://www.lackuna.com/wp-content/themes/fearless/images/missing-image-640x360.png\"  width=\"130\"><br/><a href=\"\"></a></br>UNKNOWN</td><td style=\"width:130px\"><img src=\"http://www.nkd.com/wcsstore/NKD2/images/catalog/2043205x1x1_M.jpg\"  width=\"130\"><br/><a href=\"http://www.nkd.com/damenmode-damen-hosen/Damen-Jeans-mit-elastischem-Bund_207551_427326.html\">2043205</a></br>Damen-Jeans mit elastischem Bund</td><td style=\"width:130px\"><img src=\"http://www.nkd.com/wcsstore/NKD2/images/catalog/2042219x1x1_M.jpg\"  width=\"130\"><br/><a href=\"http://www.nkd.com/damenmode-damen-hosen/Damen-Stoffhose-im-5-Pocket-Style_207551_431325.html\">2042219</a></br>Damen-Stoffhose im 5-Pocket-Style</td><td style=\"width:130px\"><img src=\"http://www.nkd.com/wcsstore/NKD2/images/catalog/2043315x1x1_M.jpg\"  width=\"130\"><br/><a href=\"http://www.nkd.com/damenmode-brands-laura-torelli-collection/Damen-Spitzenshirt-mit-2-Volants_215062_432818.html\">2043315</a></br>Damen-Spitzenshirt mit 2 Volants</td></tr><tr><th style=\"text-align:center;width:120px\"><img src=\"http://www.nkd.com/wcsstore/NKD2/images/catalog/2040706x1x1_M.jpg\" width=\"130\"><br/><a href=\"http://www.nkd.com/damenmode-damen-nachtwaesche-homewear/Damen-Schlafanzug-mit-Blumenmuster-2-teilig_207551_432354.html\">2040706</a></br>Damen-Schlafanzug mit Blumenmuster, 2-teilig</th><td style=\"background-color:black;\"></td><td style=\"width:130px\"><img src=\"http://www.lackuna.com/wp-content/themes/fearless/images/missing-image-640x360.png\"  width=\"130\"><br/><a href=\"\"></a></br>UNKNOWN</td><td style=\"width:130px\"><img src=\"http://www.nkd.com/wcsstore/NKD2/images/catalog/2040713x1x1_M.jpg\"  width=\"130\"><br/><a href=\"http://www.nkd.com/damenmode-brands-body/Snoopy-Damen-Schlafanzug-mit-Frontaufdruck-2-teilig_215062_434108.html\">2040713</a></br>Snoopy Damen-Schlafanzug mit Frontaufdruck, 2-teilig</td><td style=\"width:130px\"><img src=\"http://www.lackuna.com/wp-content/themes/fearless/images/missing-image-640x360.png\"  width=\"130\"><br/><a href=\"\"></a></br>UNKNOWN</td><td style=\"width:130px\"><img src=\"http://www.nkd.com/wcsstore/NKD2/images/catalog/2040687x1x1_M.jpg\"  width=\"130\"><br/><a href=\"http://www.nkd.com/damenmode-damen-nachtwaesche-homewear/Damen-Nachthemd-mit-traumhaftem-Blumenmuster_207551_432384.html\">2040687</a></br>Damen-Nachthemd mit traumhaftem Blumenmuster</td><td style=\"width:130px\"><img src=\"http://www.nkd.com/wcsstore/NKD2/images/catalog/2040692x1x1_M.jpg\"  width=\"130\"><br/><a href=\"http://www.nkd.com/damenmode-damen-nachtwaesche-homewear/Damen-Schlafanzug-mit-Leoparden-Muster-2-teilig_207551_430462.html\">2040692</a></br>Damen-Schlafanzug mit Leoparden-Muster, 2-teilig</td><td style=\"width:130px\"><img src=\"http://www.lackuna.com/wp-content/themes/fearless/images/missing-image-640x360.png\"  width=\"130\"><br/><a href=\"\"></a></br>UNKNOWN</td></tr><tr><th style=\"text-align:center;width:120px\"><img src=\"http://www.nkd.com/wcsstore/NKD2/images/catalog/2040770x1x1_M.jpg\" width=\"130\"><br/><a href=\"http://www.nkd.com/damenmode-brands-body/Damen-Schlafanzug-mit-Streifenmuster-2-teilig_215062_428657.html\">2040770</a></br>Damen-Schlafanzug mit Streifenmuster, 2-teilig</th><td style=\"background-color:black;\"></td><td style=\"width:130px\"><img src=\"http://www.nkd.com/wcsstore/NKD2/images/catalog/2040687x1x1_M.jpg\"  width=\"130\"><br/><a href=\"http://www.nkd.com/damenmode-damen-nachtwaesche-homewear/Damen-Nachthemd-mit-traumhaftem-Blumenmuster_207551_432384.html\">2040687</a></br>Damen-Nachthemd mit traumhaftem Blumenmuster</td><td style=\"width:130px\"><img src=\"http://www.lackuna.com/wp-content/themes/fearless/images/missing-image-640x360.png\" style=\"border:3px dashed red;\" width=\"130\"><br/><a href=\"\"></a></br>UNKNOWN</td><td style=\"width:130px\"><img src=\"http://www.lackuna.com/wp-content/themes/fearless/images/missing-image-640x360.png\"  width=\"130\"><br/><a href=\"\"></a></br>UNKNOWN</td><td style=\"width:130px\"><img src=\"http://www.nkd.com/wcsstore/NKD2/images/catalog/2040713x1x1_M.jpg\"  width=\"130\"><br/><a href=\"http://www.nkd.com/damenmode-brands-body/Snoopy-Damen-Schlafanzug-mit-Frontaufdruck-2-teilig_215062_434108.html\">2040713</a></br>Snoopy Damen-Schlafanzug mit Frontaufdruck, 2-teilig</td><td style=\"width:130px\"><img src=\"http://www.nkd.com/wcsstore/NKD2/images/catalog/2040692x1x1_M.jpg\"  width=\"130\"><br/><a href=\"http://www.nkd.com/damenmode-damen-nachtwaesche-homewear/Damen-Schlafanzug-mit-Leoparden-Muster-2-teilig_207551_430462.html\">2040692</a></br>Damen-Schlafanzug mit Leoparden-Muster, 2-teilig</td><td style=\"width:130px\"><img src=\"http://www.nkd.com/wcsstore/NKD2/images/catalog/2040576x1x1_M.jpg\"  width=\"130\"><br/><a href=\"http://www.nkd.com/damenmode-brands-body/Damen-Minislip-mit-trendigem-Streifenmuster-3er-Pack_215062_434211.html\">2040576</a></br>Damen-Minislip mit trendigem Streifenmuster, 3er Pack</td></tr><tr><th style=\"text-align:center;width:120px\"><img src=\"http://www.lackuna.com/wp-content/themes/fearless/images/missing-image-640x360.png\" width=\"130\"><br/><a href=\"\"></a></br>UNKNOWN</th><td style=\"background-color:black;\"></td><td style=\"width:130px\"><img src=\"http://www.nkd.com/wcsstore/NKD2/images/catalog/2040713x1x1_M.jpg\"  width=\"130\"><br/><a href=\"http://www.nkd.com/damenmode-brands-body/Snoopy-Damen-Schlafanzug-mit-Frontaufdruck-2-teilig_215062_434108.html\">2040713</a></br>Snoopy Damen-Schlafanzug mit Frontaufdruck, 2-teilig</td><td style=\"width:130px\"><img src=\"http://www.lackuna.com/wp-content/themes/fearless/images/missing-image-640x360.png\"  width=\"130\"><br/><a href=\"\"></a></br>UNKNOWN</td><td style=\"width:130px\"><img src=\"http://www.nkd.com/wcsstore/NKD2/images/catalog/2040623x1x1_M.jpg\"  width=\"130\"><br/><a href=\"http://www.nkd.com/damenmode-damen-nachtwaesche-homewear/Damen-Jogginghose-mit-Punkte-Muster_207551_430486.html\">2040623</a></br>Damen-Jogginghose mit Punkte-Muster</td><td style=\"width:130px\"><img src=\"http://www.lackuna.com/wp-content/themes/fearless/images/missing-image-640x360.png\"  width=\"130\"><br/><a href=\"\"></a></br>UNKNOWN</td><td style=\"width:130px\"><img src=\"http://www.nkd.com/wcsstore/NKD2/images/catalog/2040679x1x1_M.jpg\"  width=\"130\"><br/><a href=\"http://www.nkd.com/damenmode-damen-nachtwaesche-homewear/Damen-Nachthemd-mit-Leoparden-Frontaufdruck_207551_430450.html\">2040679</a></br>Damen-Nachthemd mit Leoparden-Frontaufdruck</td><td style=\"width:130px\"><img src=\"http://www.nkd.com/wcsstore/NKD2/images/catalog/2040714x1x1_M.jpg\"  width=\"130\"><br/><a href=\"http://www.nkd.com/damenmode-damen-nachtwaesche-homewear/Damen-Schlafanzug-mit-Eulen-Frontaufdruck-2-teilig_207551_430544.html\">2040714</a></br>Damen-Schlafanzug mit Eulen-Frontaufdruck, 2-teilig</td></tr><tr><th style=\"text-align:center;width:120px\"><img src=\"http://www.nkd.com/wcsstore/NKD2/images/catalog/2040726x1x1_M.jpg\" width=\"130\"><br/><a href=\"http://www.nkd.com/damenmode-damen-nachtwaesche-homewear/Damen-Schlafanzug-mit-Bluemchen-Muster-2-teilig_207551_430572.html\">2040726</a></br>Damen-Schlafanzug mit Blümchen-Muster, 2-teilig</th><td style=\"background-color:black;\"></td><td style=\"width:130px\"><img src=\"http://www.nkd.com/wcsstore/NKD2/images/catalog/2040713x1x1_M.jpg\"  width=\"130\"><br/><a href=\"http://www.nkd.com/damenmode-brands-body/Snoopy-Damen-Schlafanzug-mit-Frontaufdruck-2-teilig_215062_434108.html\">2040713</a></br>Snoopy Damen-Schlafanzug mit Frontaufdruck, 2-teilig</td><td style=\"width:130px\"><img src=\"http://www.lackuna.com/wp-content/themes/fearless/images/missing-image-640x360.png\"  width=\"130\"><br/><a href=\"\"></a></br>UNKNOWN</td><td style=\"width:130px\"><img src=\"http://www.nkd.com/wcsstore/NKD2/images/catalog/2040699x1x1_M.jpg\"  width=\"130\"><br/><a href=\"http://www.nkd.com/damenmode-damen-nachtwaesche-homewear/Damen-Schlafanzug-mit-Herz-Muster-2-teilig_207551_434864.html\">2040699</a></br>Damen-Schlafanzug mit Herz-Muster, 2-teilig</td><td style=\"width:130px\"><img src=\"http://www.nkd.com/wcsstore/NKD2/images/catalog/2040712x1x1_M.jpg\"  width=\"130\"><br/><a href=\"http://www.nkd.com/damenmode-brands-body/Mickey-Mouse-Damen-Schlafanzug-2-teilig_215062_434134.html\">2040712</a></br>Mickey Mouse Damen-Schlafanzug, 2-teilig</td><td style=\"width:130px\"><img src=\"http://www.lackuna.com/wp-content/themes/fearless/images/missing-image-640x360.png\" style=\"border:3px dashed red;\" width=\"130\"><br/><a href=\"\"></a></br>UNKNOWN</td><td style=\"width:130px\"><img src=\"http://www.nkd.com/wcsstore/NKD2/images/catalog/2041504x1x1_M.jpg\"  width=\"130\"><br/><a href=\"http://www.nkd.com/damenmode-damen-pullover-langarmshirts/Damen-Pullover-mit-trendigen-Seitenschlitzen_207551_435553.html\">2041504</a></br>Damen-Pullover mit trendigen Seitenschlitzen</td></tr><tr><th style=\"text-align:center;width:120px\"><img src=\"http://www.lackuna.com/wp-content/themes/fearless/images/missing-image-640x360.png\" width=\"130\"><br/><a href=\"\"></a></br>UNKNOWN</th><td style=\"background-color:black;\"></td><td style=\"width:130px\"><img src=\"http://www.lackuna.com/wp-content/themes/fearless/images/missing-image-640x360.png\"  width=\"130\"><br/><a href=\"\"></a></br>UNKNOWN</td><td style=\"width:130px\"><img src=\"http://www.lackuna.com/wp-content/themes/fearless/images/missing-image-640x360.png\"  width=\"130\"><br/><a href=\"\"></a></br>UNKNOWN</td><td style=\"width:130px\"><img src=\"http://www.nkd.com/wcsstore/NKD2/images/catalog/2041706x1x1_M.jpg\"  width=\"130\"><br/><a href=\"http://www.nkd.com/damenmode-brands-sports/Damen-Polarfleecejacke-mit-Kontrast-Reissverschluss_215062_432806.html\">2041706</a></br>Damen-Polarfleecejacke mit Kontrast-Reißverschluss</td><td style=\"width:130px\"><img src=\"http://www.nkd.com/wcsstore/NKD2/images/catalog/1693618x1x1_M.jpg\"  width=\"130\"><br/><a href=\"http://www.nkd.com/damenmode-brands-laura-torelli-classic/Damen-Jeans-im-5-Pocket-Style_215062_409705.html\">1693618</a></br>Damen-Jeans im 5-Pocket-Style</td><td style=\"width:130px\"><img src=\"http://www.lackuna.com/wp-content/themes/fearless/images/missing-image-640x360.png\"  width=\"130\"><br/><a href=\"\"></a></br>UNKNOWN</td><td style=\"width:130px\"><img src=\"http://www.lackuna.com/wp-content/themes/fearless/images/missing-image-640x360.png\"  width=\"130\"><br/><a href=\"\"></a></br>UNKNOWN</td></tr><tr><th style=\"text-align:center;width:120px\"><img src=\"http://www.nkd.com/wcsstore/NKD2/images/catalog/2040774x1x1_M.jpg\" width=\"130\"><br/><a href=\"http://www.nkd.com/damenmode-brands-body/Damen-Schlafanzug-mit-Zierschleife-2-teilig_215062_422614.html\">2040774</a></br>Damen-Schlafanzug mit Zierschleife, 2-teilig</th><td style=\"background-color:black;\"></td><td style=\"width:130px\"><img src=\"http://www.nkd.com/wcsstore/NKD2/images/catalog/2040623x1x1_M.jpg\"  width=\"130\"><br/><a href=\"http://www.nkd.com/damenmode-damen-nachtwaesche-homewear/Damen-Jogginghose-mit-Punkte-Muster_207551_430486.html\">2040623</a></br>Damen-Jogginghose mit Punkte-Muster</td><td style=\"width:130px\"><img src=\"http://www.lackuna.com/wp-content/themes/fearless/images/missing-image-640x360.png\"  width=\"130\"><br/><a href=\"\"></a></br>UNKNOWN</td><td style=\"width:130px\"><img src=\"http://www.lackuna.com/wp-content/themes/fearless/images/missing-image-640x360.png\"  width=\"130\"><br/><a href=\"\"></a></br>UNKNOWN</td><td style=\"width:130px\"><img src=\"http://www.nkd.com/wcsstore/NKD2/images/catalog/1690830x1x1_M.jpg\"  width=\"130\"><br/><a href=\"http://www.nkd.com/damenmode-brands-body/Damen-BH-mit-Zierschleife-ohne-Buegel_215062_398452.html\">1690830</a></br>Damen-BH mit Zierschleife, ohne Bügel</td><td style=\"width:130px\"><img src=\"http://www.nkd.com/wcsstore/NKD2/images/catalog/2041453x1x1_M.jpg\"  width=\"130\"><br/><a href=\"http://www.nkd.com/damenmode-damen-strumpfhosen-socken/Damen-Strickstrumpfhose-mit-Baumwolle_207551_432103.html\">2041453</a></br>Damen-Strickstrumpfhose mit Baumwolle</td><td style=\"width:130px\"><img src=\"http://www.nkd.com/wcsstore/NKD2/images/catalog/2040714x1x1_M.jpg\"  width=\"130\"><br/><a href=\"http://www.nkd.com/damenmode-damen-nachtwaesche-homewear/Damen-Schlafanzug-mit-Eulen-Frontaufdruck-2-teilig_207551_430544.html\">2040714</a></br>Damen-Schlafanzug mit Eulen-Frontaufdruck, 2-teilig</td></tr><tr><th style=\"text-align:center;width:120px\"><img src=\"http://www.nkd.com/wcsstore/NKD2/images/catalog/2040703x1x1_M.jpg\" width=\"130\"><br/><a href=\"http://www.nkd.com/damenmode-brands-body/Damen-Schlafanzug-mit-Satin-Zierschleife-2-teilig_215062_426750.html\">2040703</a></br>Damen-Schlafanzug mit Satin-Zierschleife, 2-teilig</th><td style=\"background-color:black;\"></td><td style=\"width:130px\"><img src=\"http://www.lackuna.com/wp-content/themes/fearless/images/missing-image-640x360.png\"  width=\"130\"><br/><a href=\"\"></a></br>UNKNOWN</td><td style=\"width:130px\"><img src=\"http://www.nkd.com/wcsstore/NKD2/images/catalog/2040714x1x1_M.jpg\"  width=\"130\"><br/><a href=\"http://www.nkd.com/damenmode-damen-nachtwaesche-homewear/Damen-Schlafanzug-mit-Eulen-Frontaufdruck-2-teilig_207551_430544.html\">2040714</a></br>Damen-Schlafanzug mit Eulen-Frontaufdruck, 2-teilig</td><td style=\"width:130px\"><img src=\"http://www.lackuna.com/wp-content/themes/fearless/images/missing-image-640x360.png\"  width=\"130\"><br/><a href=\"\"></a></br>UNKNOWN</td><td style=\"width:130px\"><img src=\"http://www.nkd.com/wcsstore/NKD2/images/catalog/1689854x1x1_M.jpg\"  width=\"130\"><br/><a href=\"http://www.nkd.com/damenmode-damen-dessous-waesche/Damen-BH-mit-Spitzen-Verzierung-ohne-Buegel_207551_393861.html\">1689854</a></br>Damen-BH mit Spitzen-Verzierung, ohne Bügel</td><td style=\"width:130px\"><img src=\"http://www.nkd.com/wcsstore/NKD2/images/catalog/1690605x1x1_M.jpg\"  width=\"130\"><br/><a href=\"http://www.nkd.com/damenmode-basics/Damen-BH-ohne-Buegel_207553_396854.html\">1690605</a></br>Damen-BH, ohne Bügel</td><td style=\"width:130px\"><img src=\"http://www.lackuna.com/wp-content/themes/fearless/images/missing-image-640x360.png\"  width=\"130\"><br/><a href=\"\"></a></br>UNKNOWN</td></tr><tr><th style=\"text-align:center;width:120px\"><img src=\"http://www.nkd.com/wcsstore/NKD2/images/catalog/2040704x1x1_M.jpg\" width=\"130\"><br/><a href=\"http://www.nkd.com/damenmode-brands-body/Damen-Schlafanzug-mit-Karomuster-2-teilig_215062_434145.html\">2040704</a></br>Damen-Schlafanzug mit Karomuster, 2-teilig</th><td style=\"background-color:black;\"></td><td style=\"width:130px\"><img src=\"http://www.nkd.com/wcsstore/NKD2/images/catalog/2043559x1x1_M.jpg\"  width=\"130\"><br/><a href=\"http://www.nkd.com/damenmode-damen-jacken-westen/Damen-2-in-1-Allwetterjacke_207551_435551.html\">2043559</a></br>Damen-2-in-1-Allwetterjacke</td><td style=\"width:130px\"><img src=\"http://www.lackuna.com/wp-content/themes/fearless/images/missing-image-640x360.png\"  width=\"130\"><br/><a href=\"\"></a></br>UNKNOWN</td><td style=\"width:130px\"><img src=\"http://www.lackuna.com/wp-content/themes/fearless/images/missing-image-640x360.png\"  width=\"130\"><br/><a href=\"\"></a></br>UNKNOWN</td><td style=\"width:130px\"><img src=\"http://www.nkd.com/wcsstore/NKD2/images/catalog/2043413x1x1_M.jpg\"  width=\"130\"><br/><a href=\"http://www.nkd.com/wohnideen-weihnachten/Deko-Figur-ca-40cm_215066_434935.html\">2043413</a></br>Deko-Figur, ca. 40cm</td><td style=\"width:130px\"><img src=\"http://www.nkd.com/wcsstore/NKD2/images/catalog/2041500x1x1_M.jpg\"  width=\"130\"><br/><a href=\"http://www.nkd.com/damenmode-damen-pullover-langarmshirts/Damen-Pullover-mit-tollem-Strickmuster_207551_435560.html\">2041500</a></br>Damen-Pullover mit tollem Strickmuster</td><td style=\"width:130px\"><img src=\"http://www.nkd.com/wcsstore/NKD2/images/catalog/2042097x1x1_M.jpg\"  width=\"130\"><br/><a href=\"http://www.nkd.com/herrenmode-herren-jacken-westen/Herren-Sweatjacke-mit-Aufnaeher_207554_434991.html\">2042097</a></br>Herren-Sweatjacke mit Aufnäher</td></tr><tr><th style=\"text-align:center;width:120px\"><img src=\"http://www.nkd.com/wcsstore/NKD2/images/catalog/2040712x1x1_M.jpg\" width=\"130\"><br/><a href=\"http://www.nkd.com/damenmode-brands-body/Mickey-Mouse-Damen-Schlafanzug-2-teilig_215062_434134.html\">2040712</a></br>Mickey Mouse Damen-Schlafanzug, 2-teilig</th><td style=\"background-color:black;\"></td><td style=\"width:130px\"><img src=\"http://www.nkd.com/wcsstore/NKD2/images/catalog/2041500x1x1_M.jpg\"  width=\"130\"><br/><a href=\"http://www.nkd.com/damenmode-damen-pullover-langarmshirts/Damen-Pullover-mit-tollem-Strickmuster_207551_435560.html\">2041500</a></br>Damen-Pullover mit tollem Strickmuster</td><td style=\"width:130px\"><img src=\"http://www.nkd.com/wcsstore/NKD2/images/catalog/2040713x1x1_M.jpg\"  width=\"130\"><br/><a href=\"http://www.nkd.com/damenmode-brands-body/Snoopy-Damen-Schlafanzug-mit-Frontaufdruck-2-teilig_215062_434108.html\">2040713</a></br>Snoopy Damen-Schlafanzug mit Frontaufdruck, 2-teilig</td><td style=\"width:130px\"><img src=\"http://www.nkd.com/wcsstore/NKD2/images/catalog/2040854x1x1_M.jpg\"  width=\"130\"><br/><a href=\"http://www.nkd.com/damenmode-brands-laura-torelli-plus/Damen-Jacke-im-Parka-Stil-grosse-Groessen_215062_434183.html\">2040854</a></br>Damen-Jacke im Parka-Stil, große Größen</td><td style=\"width:130px\"><img src=\"http://www.nkd.com/wcsstore/NKD2/images/catalog/2041504x1x1_M.jpg\"  width=\"130\"><br/><a href=\"http://www.nkd.com/damenmode-damen-pullover-langarmshirts/Damen-Pullover-mit-trendigen-Seitenschlitzen_207551_435553.html\">2041504</a></br>Damen-Pullover mit trendigen Seitenschlitzen</td><td style=\"width:130px\"><img src=\"http://www.nkd.com/wcsstore/NKD2/images/catalog/2043560x1x1_M.jpg\"  width=\"130\"><br/><a href=\"http://www.nkd.com/damenmode-damen-jacken-westen/Damen-Daunenjacke-mit-Kontrast-Futter_207551_435556.html\">2043560</a></br>Damen-Daunenjacke mit Kontrast-Futter</td><td style=\"width:130px\"><img src=\"http://www.nkd.com/wcsstore/NKD2/images/catalog/2041503x1x1_M.jpg\"  width=\"130\"><br/><a href=\"http://www.nkd.com/damenmode-damen-pullover-langarmshirts/Damen-Pullover-mit-modischem-Strickmuster_207551_435555.html\">2041503</a></br>Damen-Pullover mit modischem Strickmuster</td></tr></table>"
      ],
      "text/plain": [
       "<IPython.core.display.HTML object>"
      ]
     },
     "metadata": {},
     "output_type": "display_data"
    },
    {
     "data": {
      "text/html": [
       "<table><tr><th style=\"text-align:center;width:120px\"><img src=\"http://www.nkd.com/wcsstore/NKD2/images/catalog/2040712x1x1_M.jpg\" width=\"130\"><br/><a href=\"http://www.nkd.com/damenmode-brands-body/Mickey-Mouse-Damen-Schlafanzug-2-teilig_215062_434134.html\">2040712</a></br>Mickey Mouse Damen-Schlafanzug, 2-teilig</th><td style=\"background-color:black;\"></td><td style=\"width:130px\"><img src=\"http://www.nkd.com/wcsstore/NKD2/images/catalog/2041500x1x1_M.jpg\"  width=\"130\"><br/><a href=\"http://www.nkd.com/damenmode-damen-pullover-langarmshirts/Damen-Pullover-mit-tollem-Strickmuster_207551_435560.html\">2041500</a></br>Damen-Pullover mit tollem Strickmuster</td><td style=\"width:130px\"><img src=\"http://www.nkd.com/wcsstore/NKD2/images/catalog/2040713x1x1_M.jpg\"  width=\"130\"><br/><a href=\"http://www.nkd.com/damenmode-brands-body/Snoopy-Damen-Schlafanzug-mit-Frontaufdruck-2-teilig_215062_434108.html\">2040713</a></br>Snoopy Damen-Schlafanzug mit Frontaufdruck, 2-teilig</td><td style=\"width:130px\"><img src=\"http://www.nkd.com/wcsstore/NKD2/images/catalog/2040854x1x1_M.jpg\"  width=\"130\"><br/><a href=\"http://www.nkd.com/damenmode-brands-laura-torelli-plus/Damen-Jacke-im-Parka-Stil-grosse-Groessen_215062_434183.html\">2040854</a></br>Damen-Jacke im Parka-Stil, große Größen</td><td style=\"width:130px\"><img src=\"http://www.nkd.com/wcsstore/NKD2/images/catalog/2041504x1x1_M.jpg\"  width=\"130\"><br/><a href=\"http://www.nkd.com/damenmode-damen-pullover-langarmshirts/Damen-Pullover-mit-trendigen-Seitenschlitzen_207551_435553.html\">2041504</a></br>Damen-Pullover mit trendigen Seitenschlitzen</td><td style=\"width:130px\"><img src=\"http://www.nkd.com/wcsstore/NKD2/images/catalog/2043560x1x1_M.jpg\"  width=\"130\"><br/><a href=\"http://www.nkd.com/damenmode-damen-jacken-westen/Damen-Daunenjacke-mit-Kontrast-Futter_207551_435556.html\">2043560</a></br>Damen-Daunenjacke mit Kontrast-Futter</td><td style=\"width:130px\"><img src=\"http://www.nkd.com/wcsstore/NKD2/images/catalog/2041503x1x1_M.jpg\"  width=\"130\"><br/><a href=\"http://www.nkd.com/damenmode-damen-pullover-langarmshirts/Damen-Pullover-mit-modischem-Strickmuster_207551_435555.html\">2041503</a></br>Damen-Pullover mit modischem Strickmuster</td></tr></table>"
      ],
      "text/plain": [
       "<IPython.core.display.HTML object>"
      ]
     },
     "metadata": {},
     "output_type": "display_data"
    }
   ],
   "source": [
    "from IPython.core.display import display as core_display\n",
    "from IPython.core.display import HTML \n",
    "\n",
    "def product_to_url(product):\n",
    "    try:\n",
    "        \n",
    "        return [product] + product_map[list(product_idxs)[product]] + [list(product_idxs)[product]]\n",
    "    except KeyError:\n",
    "        return [product,'http://www.lackuna.com/wp-content/themes/fearless/images/missing-image-640x360.png','UNKNOWN','', '']\n",
    "\n",
    "def display_session(session):\n",
    "    products = list(map(product_to_url, session))\n",
    "    predictions = model.predict([session])\n",
    "    html = '<table>'\n",
    "    seen = set()\n",
    "    for i,product in enumerate(products):\n",
    "        html += '<tr>'\n",
    "        html += '<th style=\"text-align:center;width:120px\">'\n",
    "        html += '<img src=\"' + product[1] + '\" width=\"130\"><br/>' \n",
    "        html += '<a href=\"'+str(product[3])+'\">' + str(product[4]) + '</a></br>' + str(product[2])\n",
    "        html += '</th><td style=\"background-color:black;\"></td>'\n",
    "        top_idx = list(np.argsort(predictions[i][0])[::-1])\n",
    "        seen.add(product[0])\n",
    "        \n",
    "        j = 0\n",
    "        for pred in top_idx:\n",
    "            #if pred in seen:\n",
    "            #    continue\n",
    "                                \n",
    "            if i < len(products) - 1 and pred == products[i+1][0]:\n",
    "                style = 'style=\"border:3px dashed red;\"'\n",
    "            else:\n",
    "                style = ''\n",
    "                \n",
    "            pred_data = product_to_url(pred)\n",
    "            html += '<td style=\"width:130px\"><img src=\"' + pred_data[1] + '\" '+style+' width=\"130\"><br/>' \n",
    "            html += '<a href=\"'+str(pred_data[3]) + '\">' +str(pred_data[4]) + '</a></br>' + str(pred_data[2]) + '</td>'\n",
    "            j+=1\n",
    "            if j > 5:\n",
    "                break\n",
    "                \n",
    "        html += '</tr>'\n",
    "    html += '</table>'\n",
    "\n",
    "    core_display(HTML(html))\n",
    "\n",
    "session = random.choice(random.choice(user_valid_batches)[0])\n",
    "display_session(session)\n",
    "display_session(session[-1:])\n"
   ]
  },
  {
   "cell_type": "code",
   "execution_count": 223,
   "metadata": {},
   "outputs": [
    {
     "data": {
      "text/html": [
       "<table><tr><th style=\"text-align:center;width:120px\"><img src=\"http://www.nkd.com/wcsstore/NKD2/images/catalog/2041197x1x1_M.jpg\" width=\"130\"><br/><a href=\"http://www.nkd.com/damenmode-damen-xxl/Damen-Strickjacke-im-offenen-Cardigan-Stil-grosse-Groessen_207553_431338.html\">2041197</a></br>Damen-Strickjacke im offenen Cardigan-Stil, große Größen</th><td style=\"background-color:black;\"></td><td style=\"width:130px\"><img src=\"http://www.nkd.com/wcsstore/NKD2/images/catalog/2040373x1x1_M.jpg\"  width=\"130\"><br/><a href=\"http://www.nkd.com/damenmode-brands-laura-torelli-classic/Damen-Steppjacke-mit-2-Wege-Reissverschluss_215062_434154.html\">2040373</a></br>Damen-Steppjacke mit 2-Wege-Reißverschluss</td><td style=\"width:130px\"><img src=\"http://www.nkd.com/wcsstore/NKD2/images/catalog/2043559x1x1_M.jpg\"  width=\"130\"><br/><a href=\"http://www.nkd.com/damenmode-damen-jacken-westen/Damen-2-in-1-Allwetterjacke_207551_435551.html\">2043559</a></br>Damen-2-in-1-Allwetterjacke</td><td style=\"width:130px\"><img src=\"http://www.nkd.com/wcsstore/NKD2/images/catalog/2040854x1x1_M.jpg\"  width=\"130\"><br/><a href=\"http://www.nkd.com/damenmode-brands-laura-torelli-plus/Damen-Jacke-im-Parka-Stil-grosse-Groessen_215062_434183.html\">2040854</a></br>Damen-Jacke im Parka-Stil, große Größen</td><td style=\"width:130px\"><img src=\"http://www.nkd.com/wcsstore/NKD2/images/catalog/2040941x1x1_M.jpg\"  width=\"130\"><br/><a href=\"http://www.nkd.com/damenmode-damen-sportmode/Damen-3-in-1-Jacke-mit-abnehmbarer-Kapuze_207553_431331.html\">2040941</a></br>Damen-3-in-1-Jacke mit abnehmbarer Kapuze</td><td style=\"width:130px\"><img src=\"http://www.nkd.com/wcsstore/NKD2/images/catalog/2043659x1x1_M.jpg\"  width=\"130\"><br/><a href=\"http://www.nkd.com/damenmode-damen-pullover-langarmshirts/Damen-Jacquardpullover-aus-flauschigem-Material_207551_432372.html\">2043659</a></br>Damen-Jacquardpullover aus flauschigem Material</td><td style=\"width:130px\"><img src=\"http://www.nkd.com/wcsstore/NKD2/images/catalog/2043315x1x1_M.jpg\"  width=\"130\"><br/><a href=\"http://www.nkd.com/damenmode-brands-laura-torelli-collection/Damen-Spitzenshirt-mit-2-Volants_215062_432818.html\">2043315</a></br>Damen-Spitzenshirt mit 2 Volants</td></tr></table>"
      ],
      "text/plain": [
       "<IPython.core.display.HTML object>"
      ]
     },
     "metadata": {},
     "output_type": "display_data"
    }
   ],
   "source": [
    "display_session(np.array([product_ids['2041197']]))"
   ]
  },
  {
   "cell_type": "code",
   "execution_count": 224,
   "metadata": {},
   "outputs": [],
   "source": [
    "grouped_by_last_item = {}\n",
    "for batch in user_valid_batches:\n",
    "    for session in batch[0]:\n",
    "        if session[-1] not in grouped_by_last_item:\n",
    "            grouped_by_last_item[session[-1]] = []\n",
    "        grouped_by_last_item[session[-1]].append(session)\n"
   ]
  },
  {
   "cell_type": "code",
   "execution_count": 232,
   "metadata": {},
   "outputs": [
    {
     "data": {
      "text/html": [
       "<table><tr><th style=\"text-align:center;width:120px\"><img src=\"http://www.nkd.com/wcsstore/NKD2/images/catalog/2042808x1x1_M.jpg\" width=\"130\"><br/><a href=\"http://www.nkd.com/damenmode-damen-hosen/Damen-Velvethose-in-Samt-Optik_207551_434871.html\">2042808</a></br>Damen-Velvethose in Samt-Optik</th><td style=\"background-color:black;\"></td><td style=\"width:130px\"><img src=\"http://www.lackuna.com/wp-content/themes/fearless/images/missing-image-640x360.png\"  width=\"130\"><br/><a href=\"\"></a></br>UNKNOWN</td><td style=\"width:130px\"><img src=\"http://www.nkd.com/wcsstore/NKD2/images/catalog/2043559x1x1_M.jpg\"  width=\"130\"><br/><a href=\"http://www.nkd.com/damenmode-damen-jacken-westen/Damen-2-in-1-Allwetterjacke_207551_435551.html\">2043559</a></br>Damen-2-in-1-Allwetterjacke</td><td style=\"width:130px\"><img src=\"http://www.nkd.com/wcsstore/NKD2/images/catalog/2043310x1x1_M.jpg\"  width=\"130\"><br/><a href=\"http://www.nkd.com/damenmode-damen-pullover-langarmshirts/Damen-Carmenshirt-mit-elastischem-Saum_207551_434894.html\">2043310</a></br>Damen-Carmenshirt mit elastischem Saum</td><td style=\"width:130px\"><img src=\"http://www.nkd.com/wcsstore/NKD2/images/catalog/2043560x1x1_M.jpg\"  width=\"130\"><br/><a href=\"http://www.nkd.com/damenmode-damen-jacken-westen/Damen-Daunenjacke-mit-Kontrast-Futter_207551_435556.html\">2043560</a></br>Damen-Daunenjacke mit Kontrast-Futter</td><td style=\"width:130px\"><img src=\"http://www.nkd.com/wcsstore/NKD2/images/catalog/2042410x1x1_M.jpg\"  width=\"130\"><br/><a href=\"http://www.nkd.com/wohnideen-dekoartikel/Dekostoff-mit-Netz-Struktur-ca-40x200cm_215059_435011.html\">2042410</a></br>Dekostoff mit Netz-Struktur, ca. 40x200cm</td><td style=\"width:130px\"><img src=\"http://www.nkd.com/wcsstore/NKD2/images/catalog/2043309x1x1_M.jpg\"  width=\"130\"><br/><a href=\"http://www.nkd.com/damenmode-damen-pullover-langarmshirts/Damen-Carmenshirt-mit-trendigem-Muster_207551_434855.html\">2043309</a></br>Damen-Carmenshirt mit trendigem Muster</td></tr><tr><th style=\"text-align:center;width:120px\"><img src=\"http://www.lackuna.com/wp-content/themes/fearless/images/missing-image-640x360.png\" width=\"130\"><br/><a href=\"\"></a></br>UNKNOWN</th><td style=\"background-color:black;\"></td><td style=\"width:130px\"><img src=\"http://www.lackuna.com/wp-content/themes/fearless/images/missing-image-640x360.png\"  width=\"130\"><br/><a href=\"\"></a></br>UNKNOWN</td><td style=\"width:130px\"><img src=\"http://www.nkd.com/wcsstore/NKD2/images/catalog/2041977x1x1_M.jpg\"  width=\"130\"><br/><a href=\"http://www.nkd.com/wohnideen-weihnachten/Holzstern-mit-Deko-ca-35x35cm_215066_434868.html\">2041977</a></br>Holzstern mit Deko, ca. 35x35cm</td><td style=\"width:130px\"><img src=\"http://www.lackuna.com/wp-content/themes/fearless/images/missing-image-640x360.png\"  width=\"130\"><br/><a href=\"\"></a></br>UNKNOWN</td><td style=\"width:130px\"><img src=\"http://www.lackuna.com/wp-content/themes/fearless/images/missing-image-640x360.png\"  width=\"130\"><br/><a href=\"\"></a></br>UNKNOWN</td><td style=\"width:130px\"><img src=\"http://www.lackuna.com/wp-content/themes/fearless/images/missing-image-640x360.png\"  width=\"130\"><br/><a href=\"\"></a></br>UNKNOWN</td><td style=\"width:130px\"><img src=\"http://www.lackuna.com/wp-content/themes/fearless/images/missing-image-640x360.png\"  width=\"130\"><br/><a href=\"\"></a></br>UNKNOWN</td></tr><tr><th style=\"text-align:center;width:120px\"><img src=\"http://www.nkd.com/wcsstore/NKD2/images/catalog/2042256x1x1_M.jpg\" width=\"130\"><br/><a href=\"http://www.nkd.com/wohnideen-weihnachten/Tischlaeufer-mit-Jacquard-Muster-ca-40x160cm_215066_434914.html\">2042256</a></br>Tischläufer mit Jacquard-Muster, ca. 40x160cm</th><td style=\"background-color:black;\"></td><td style=\"width:130px\"><img src=\"http://www.nkd.com/wcsstore/NKD2/images/catalog/2043559x1x1_M.jpg\"  width=\"130\"><br/><a href=\"http://www.nkd.com/damenmode-damen-jacken-westen/Damen-2-in-1-Allwetterjacke_207551_435551.html\">2043559</a></br>Damen-2-in-1-Allwetterjacke</td><td style=\"width:130px\"><img src=\"http://www.lackuna.com/wp-content/themes/fearless/images/missing-image-640x360.png\"  width=\"130\"><br/><a href=\"\"></a></br>UNKNOWN</td><td style=\"width:130px\"><img src=\"http://www.nkd.com/wcsstore/NKD2/images/catalog/2043413x1x1_M.jpg\"  width=\"130\"><br/><a href=\"http://www.nkd.com/wohnideen-weihnachten/Deko-Figur-ca-40cm_215066_434935.html\">2043413</a></br>Deko-Figur, ca. 40cm</td><td style=\"width:130px\"><img src=\"http://www.lackuna.com/wp-content/themes/fearless/images/missing-image-640x360.png\"  width=\"130\"><br/><a href=\"\"></a></br>UNKNOWN</td><td style=\"width:130px\"><img src=\"http://www.lackuna.com/wp-content/themes/fearless/images/missing-image-640x360.png\"  width=\"130\"><br/><a href=\"\"></a></br>UNKNOWN</td><td style=\"width:130px\"><img src=\"http://www.nkd.com/wcsstore/NKD2/images/catalog/2043310x1x1_M.jpg\"  width=\"130\"><br/><a href=\"http://www.nkd.com/damenmode-damen-pullover-langarmshirts/Damen-Carmenshirt-mit-elastischem-Saum_207551_434894.html\">2043310</a></br>Damen-Carmenshirt mit elastischem Saum</td></tr><tr><th style=\"text-align:center;width:120px\"><img src=\"http://www.nkd.com/wcsstore/NKD2/images/catalog/2042424x1x1_M.jpg\" width=\"130\"><br/><a href=\"http://www.nkd.com/wohnideen-weihnachten/Tischlaeufer-mit-Glitzergarn-ca-40x160cm_215066_434972.html\">2042424</a></br>Tischläufer mit Glitzergarn, ca. 40x160cm</th><td style=\"background-color:black;\"></td><td style=\"width:130px\"><img src=\"http://www.lackuna.com/wp-content/themes/fearless/images/missing-image-640x360.png\"  width=\"130\"><br/><a href=\"\"></a></br>UNKNOWN</td><td style=\"width:130px\"><img src=\"http://www.nkd.com/wcsstore/NKD2/images/catalog/2041124x1x1_M.jpg\"  width=\"130\"><br/><a href=\"http://www.nkd.com/schnaeppchen-wohnideen-dekoration/Holzlaterne-mit-Schublade_215084_434944.html\">2041124</a></br>Holzlaterne mit Schublade</td><td style=\"width:130px\"><img src=\"http://www.lackuna.com/wp-content/themes/fearless/images/missing-image-640x360.png\"  width=\"130\"><br/><a href=\"\"></a></br>UNKNOWN</td><td style=\"width:130px\"><img src=\"http://www.nkd.com/wcsstore/NKD2/images/catalog/2043413x1x1_M.jpg\"  width=\"130\"><br/><a href=\"http://www.nkd.com/wohnideen-weihnachten/Deko-Figur-ca-40cm_215066_434935.html\">2043413</a></br>Deko-Figur, ca. 40cm</td><td style=\"width:130px\"><img src=\"http://www.nkd.com/wcsstore/NKD2/images/catalog/2042409x1x1_M.jpg\"  width=\"130\"><br/><a href=\"http://www.nkd.com/wohnideen-dekoartikel/Dekostoff-mit-Glitzer-ca-40x180cm_215059_434909.html\">2042409</a></br>Dekostoff mit Glitzer, ca. 40x180cm</td><td style=\"width:130px\"><img src=\"http://www.lackuna.com/wp-content/themes/fearless/images/missing-image-640x360.png\"  width=\"130\"><br/><a href=\"\"></a></br>UNKNOWN</td></tr><tr><th style=\"text-align:center;width:120px\"><img src=\"http://www.nkd.com/wcsstore/NKD2/images/catalog/2042412x1x1_M.jpg\" width=\"130\"><br/><a href=\"http://www.nkd.com/wohnideen-weihnachten/Tischlaeufer-mit-Jacquard-Muster-ca-40x140cm_215066_434875.html\">2042412</a></br>Tischläufer mit Jacquard-Muster, ca. 40x140cm</th><td style=\"background-color:black;\"></td><td style=\"width:130px\"><img src=\"http://www.lackuna.com/wp-content/themes/fearless/images/missing-image-640x360.png\"  width=\"130\"><br/><a href=\"\"></a></br>UNKNOWN</td><td style=\"width:130px\"><img src=\"http://www.lackuna.com/wp-content/themes/fearless/images/missing-image-640x360.png\"  width=\"130\"><br/><a href=\"\"></a></br>UNKNOWN</td><td style=\"width:130px\"><img src=\"http://www.nkd.com/wcsstore/NKD2/images/catalog/2042409x1x1_M.jpg\"  width=\"130\"><br/><a href=\"http://www.nkd.com/wohnideen-dekoartikel/Dekostoff-mit-Glitzer-ca-40x180cm_215059_434909.html\">2042409</a></br>Dekostoff mit Glitzer, ca. 40x180cm</td><td style=\"width:130px\"><img src=\"http://www.nkd.com/wcsstore/NKD2/images/catalog/2041210x1x1_M.jpg\"  width=\"130\"><br/><a href=\"http://www.nkd.com/wohnideen-weihnachten/Teelichthalter-aus-Keramik-ca-9x255cm_215066_434993.html\">2041210</a></br>Teelichthalter aus Keramik, ca. 9x25,5cm</td><td style=\"width:130px\"><img src=\"http://www.nkd.com/wcsstore/NKD2/images/catalog/2043559x1x1_M.jpg\"  width=\"130\"><br/><a href=\"http://www.nkd.com/damenmode-damen-jacken-westen/Damen-2-in-1-Allwetterjacke_207551_435551.html\">2043559</a></br>Damen-2-in-1-Allwetterjacke</td><td style=\"width:130px\"><img src=\"http://www.nkd.com/wcsstore/NKD2/images/catalog/2042410x1x1_M.jpg\"  width=\"130\"><br/><a href=\"http://www.nkd.com/wohnideen-dekoartikel/Dekostoff-mit-Netz-Struktur-ca-40x200cm_215059_435011.html\">2042410</a></br>Dekostoff mit Netz-Struktur, ca. 40x200cm</td></tr><tr><th style=\"text-align:center;width:120px\"><img src=\"http://www.nkd.com/wcsstore/NKD2/images/catalog/2042411x1x1_M.jpg\" width=\"130\"><br/><a href=\"http://www.nkd.com/wohnideen-weihnachten/Mitteldecke-mit-Jacquard-Muster-ca-80x80cm_215066_434942.html\">2042411</a></br>Mitteldecke mit Jacquard-Muster, ca. 80x80cm</th><td style=\"background-color:black;\"></td><td style=\"width:130px\"><img src=\"http://www.lackuna.com/wp-content/themes/fearless/images/missing-image-640x360.png\"  width=\"130\"><br/><a href=\"\"></a></br>UNKNOWN</td><td style=\"width:130px\"><img src=\"http://www.nkd.com/wcsstore/NKD2/images/catalog/2043559x1x1_M.jpg\"  width=\"130\"><br/><a href=\"http://www.nkd.com/damenmode-damen-jacken-westen/Damen-2-in-1-Allwetterjacke_207551_435551.html\">2043559</a></br>Damen-2-in-1-Allwetterjacke</td><td style=\"width:130px\"><img src=\"http://www.nkd.com/wcsstore/NKD2/images/catalog/2042410x1x1_M.jpg\"  width=\"130\"><br/><a href=\"http://www.nkd.com/wohnideen-dekoartikel/Dekostoff-mit-Netz-Struktur-ca-40x200cm_215059_435011.html\">2042410</a></br>Dekostoff mit Netz-Struktur, ca. 40x200cm</td><td style=\"width:130px\"><img src=\"http://www.lackuna.com/wp-content/themes/fearless/images/missing-image-640x360.png\"  width=\"130\"><br/><a href=\"\"></a></br>UNKNOWN</td><td style=\"width:130px\"><img src=\"http://www.nkd.com/wcsstore/NKD2/images/catalog/2043413x1x1_M.jpg\"  width=\"130\"><br/><a href=\"http://www.nkd.com/wohnideen-weihnachten/Deko-Figur-ca-40cm_215066_434935.html\">2043413</a></br>Deko-Figur, ca. 40cm</td><td style=\"width:130px\"><img src=\"http://www.nkd.com/wcsstore/NKD2/images/catalog/2041124x1x1_M.jpg\"  width=\"130\"><br/><a href=\"http://www.nkd.com/schnaeppchen-wohnideen-dekoration/Holzlaterne-mit-Schublade_215084_434944.html\">2041124</a></br>Holzlaterne mit Schublade</td></tr><tr><th style=\"text-align:center;width:120px\"><img src=\"http://www.nkd.com/wcsstore/NKD2/images/catalog/2042423x1x1_M.jpg\" width=\"130\"><br/><a href=\"http://www.nkd.com/wohnideen-weihnachten/Mitteldecke-mit-winterlicher-Stickerei-ca-80x80cm_215066_434939.html\">2042423</a></br>Mitteldecke mit winterlicher Stickerei, ca. 80x80cm</th><td style=\"background-color:black;\"></td><td style=\"width:130px\"><img src=\"http://www.lackuna.com/wp-content/themes/fearless/images/missing-image-640x360.png\"  width=\"130\"><br/><a href=\"\"></a></br>UNKNOWN</td><td style=\"width:130px\"><img src=\"http://www.nkd.com/wcsstore/NKD2/images/catalog/2041124x1x1_M.jpg\"  width=\"130\"><br/><a href=\"http://www.nkd.com/schnaeppchen-wohnideen-dekoration/Holzlaterne-mit-Schublade_215084_434944.html\">2041124</a></br>Holzlaterne mit Schublade</td><td style=\"width:130px\"><img src=\"http://www.nkd.com/wcsstore/NKD2/images/catalog/2043413x1x1_M.jpg\"  width=\"130\"><br/><a href=\"http://www.nkd.com/wohnideen-weihnachten/Deko-Figur-ca-40cm_215066_434935.html\">2043413</a></br>Deko-Figur, ca. 40cm</td><td style=\"width:130px\"><img src=\"http://www.nkd.com/wcsstore/NKD2/images/catalog/2041977x1x1_M.jpg\"  width=\"130\"><br/><a href=\"http://www.nkd.com/wohnideen-weihnachten/Holzstern-mit-Deko-ca-35x35cm_215066_434868.html\">2041977</a></br>Holzstern mit Deko, ca. 35x35cm</td><td style=\"width:130px\"><img src=\"http://www.lackuna.com/wp-content/themes/fearless/images/missing-image-640x360.png\"  width=\"130\"><br/><a href=\"\"></a></br>UNKNOWN</td><td style=\"width:130px\"><img src=\"http://www.lackuna.com/wp-content/themes/fearless/images/missing-image-640x360.png\"  width=\"130\"><br/><a href=\"\"></a></br>UNKNOWN</td></tr><tr><th style=\"text-align:center;width:120px\"><img src=\"http://www.nkd.com/wcsstore/NKD2/images/catalog/2042420x1x1_M.jpg\" width=\"130\"><br/><a href=\"http://www.nkd.com/wohnideen-weihnachten/Tischlaeufer-mit-winterlicher-Stickerei-ca-40x140cm_215066_434867.html\">2042420</a></br>Tischläufer mit winterlicher Stickerei, ca. 40x140cm</th><td style=\"background-color:black;\"></td><td style=\"width:130px\"><img src=\"http://www.lackuna.com/wp-content/themes/fearless/images/missing-image-640x360.png\"  width=\"130\"><br/><a href=\"\"></a></br>UNKNOWN</td><td style=\"width:130px\"><img src=\"http://www.lackuna.com/wp-content/themes/fearless/images/missing-image-640x360.png\"  width=\"130\"><br/><a href=\"\"></a></br>UNKNOWN</td><td style=\"width:130px\"><img src=\"http://www.nkd.com/wcsstore/NKD2/images/catalog/2043560x1x1_M.jpg\"  width=\"130\"><br/><a href=\"http://www.nkd.com/damenmode-damen-jacken-westen/Damen-Daunenjacke-mit-Kontrast-Futter_207551_435556.html\">2043560</a></br>Damen-Daunenjacke mit Kontrast-Futter</td><td style=\"width:130px\"><img src=\"http://www.lackuna.com/wp-content/themes/fearless/images/missing-image-640x360.png\"  width=\"130\"><br/><a href=\"\"></a></br>UNKNOWN</td><td style=\"width:130px\"><img src=\"http://www.nkd.com/wcsstore/NKD2/images/catalog/2043413x1x1_M.jpg\"  width=\"130\"><br/><a href=\"http://www.nkd.com/wohnideen-weihnachten/Deko-Figur-ca-40cm_215066_434935.html\">2043413</a></br>Deko-Figur, ca. 40cm</td><td style=\"width:130px\"><img src=\"http://www.nkd.com/wcsstore/NKD2/images/catalog/2041124x1x1_M.jpg\"  width=\"130\"><br/><a href=\"http://www.nkd.com/schnaeppchen-wohnideen-dekoration/Holzlaterne-mit-Schublade_215084_434944.html\">2041124</a></br>Holzlaterne mit Schublade</td></tr><tr><th style=\"text-align:center;width:120px\"><img src=\"http://www.lackuna.com/wp-content/themes/fearless/images/missing-image-640x360.png\" width=\"130\"><br/><a href=\"\"></a></br>UNKNOWN</th><td style=\"background-color:black;\"></td><td style=\"width:130px\"><img src=\"http://www.nkd.com/wcsstore/NKD2/images/catalog/2043310x1x1_M.jpg\"  width=\"130\"><br/><a href=\"http://www.nkd.com/damenmode-damen-pullover-langarmshirts/Damen-Carmenshirt-mit-elastischem-Saum_207551_434894.html\">2043310</a></br>Damen-Carmenshirt mit elastischem Saum</td><td style=\"width:130px\"><img src=\"http://www.nkd.com/wcsstore/NKD2/images/catalog/2043315x1x1_M.jpg\"  width=\"130\"><br/><a href=\"http://www.nkd.com/damenmode-brands-laura-torelli-collection/Damen-Spitzenshirt-mit-2-Volants_215062_432818.html\">2043315</a></br>Damen-Spitzenshirt mit 2 Volants</td><td style=\"width:130px\"><img src=\"http://www.nkd.com/wcsstore/NKD2/images/catalog/2043559x1x1_M.jpg\"  width=\"130\"><br/><a href=\"http://www.nkd.com/damenmode-damen-jacken-westen/Damen-2-in-1-Allwetterjacke_207551_435551.html\">2043559</a></br>Damen-2-in-1-Allwetterjacke</td><td style=\"width:130px\"><img src=\"http://www.nkd.com/wcsstore/NKD2/images/catalog/2042527x1x1_M.jpg\"  width=\"130\"><br/><a href=\"http://www.nkd.com/damenmode-brands-laura-torelli-collection/Damen-Pullover-mit-Ripp-Struktur_215062_424741.html\">2042527</a></br>Damen-Pullover mit Ripp-Struktur</td><td style=\"width:130px\"><img src=\"http://www.nkd.com/wcsstore/NKD2/images/catalog/2043309x1x1_M.jpg\"  width=\"130\"><br/><a href=\"http://www.nkd.com/damenmode-damen-pullover-langarmshirts/Damen-Carmenshirt-mit-trendigem-Muster_207551_434855.html\">2043309</a></br>Damen-Carmenshirt mit trendigem Muster</td><td style=\"width:130px\"><img src=\"http://www.nkd.com/wcsstore/NKD2/images/catalog/2040854x1x1_M.jpg\"  width=\"130\"><br/><a href=\"http://www.nkd.com/damenmode-brands-laura-torelli-plus/Damen-Jacke-im-Parka-Stil-grosse-Groessen_215062_434183.html\">2040854</a></br>Damen-Jacke im Parka-Stil, große Größen</td></tr><tr><th style=\"text-align:center;width:120px\"><img src=\"http://www.nkd.com/wcsstore/NKD2/images/catalog/2045387x1x1_M.jpg\" width=\"130\"><br/><a href=\"http://www.nkd.com/damenmode-brands-laura-torelli-collection/Damen-T-Shirt-mit-Rueschen-an-den-Aermeln_215062_422636.html\">2045387</a></br>Damen-T-Shirt mit Rüschen an den Ärmeln</th><td style=\"background-color:black;\"></td><td style=\"width:130px\"><img src=\"http://www.nkd.com/wcsstore/NKD2/images/catalog/2043559x1x1_M.jpg\"  width=\"130\"><br/><a href=\"http://www.nkd.com/damenmode-damen-jacken-westen/Damen-2-in-1-Allwetterjacke_207551_435551.html\">2043559</a></br>Damen-2-in-1-Allwetterjacke</td><td style=\"width:130px\"><img src=\"http://www.nkd.com/wcsstore/NKD2/images/catalog/2043310x1x1_M.jpg\"  width=\"130\"><br/><a href=\"http://www.nkd.com/damenmode-damen-pullover-langarmshirts/Damen-Carmenshirt-mit-elastischem-Saum_207551_434894.html\">2043310</a></br>Damen-Carmenshirt mit elastischem Saum</td><td style=\"width:130px\"><img src=\"http://www.nkd.com/wcsstore/NKD2/images/catalog/2043315x1x1_M.jpg\"  width=\"130\"><br/><a href=\"http://www.nkd.com/damenmode-brands-laura-torelli-collection/Damen-Spitzenshirt-mit-2-Volants_215062_432818.html\">2043315</a></br>Damen-Spitzenshirt mit 2 Volants</td><td style=\"width:130px\"><img src=\"http://www.nkd.com/wcsstore/NKD2/images/catalog/2043659x1x1_M.jpg\"  width=\"130\"><br/><a href=\"http://www.nkd.com/damenmode-damen-pullover-langarmshirts/Damen-Jacquardpullover-aus-flauschigem-Material_207551_432372.html\">2043659</a></br>Damen-Jacquardpullover aus flauschigem Material</td><td style=\"width:130px\"><img src=\"http://www.nkd.com/wcsstore/NKD2/images/catalog/2043309x1x1_M.jpg\"  width=\"130\"><br/><a href=\"http://www.nkd.com/damenmode-damen-pullover-langarmshirts/Damen-Carmenshirt-mit-trendigem-Muster_207551_434855.html\">2043309</a></br>Damen-Carmenshirt mit trendigem Muster</td><td style=\"width:130px\"><img src=\"http://www.lackuna.com/wp-content/themes/fearless/images/missing-image-640x360.png\"  width=\"130\"><br/><a href=\"\"></a></br>UNKNOWN</td></tr><tr><th style=\"text-align:center;width:120px\"><img src=\"http://www.nkd.com/wcsstore/NKD2/images/catalog/2043268x1x1_M.jpg\" width=\"130\"><br/><a href=\"http://www.nkd.com/damenmode-damen-pullover-langarmshirts/Damen-Shirt-mit-Trompeten-Aermeln_207551_430526.html\">2043268</a></br>Damen-Shirt mit Trompeten-Ärmeln</th><td style=\"background-color:black;\"></td><td style=\"width:130px\"><img src=\"http://www.nkd.com/wcsstore/NKD2/images/catalog/2043310x1x1_M.jpg\"  width=\"130\"><br/><a href=\"http://www.nkd.com/damenmode-damen-pullover-langarmshirts/Damen-Carmenshirt-mit-elastischem-Saum_207551_434894.html\">2043310</a></br>Damen-Carmenshirt mit elastischem Saum</td><td style=\"width:130px\"><img src=\"http://www.nkd.com/wcsstore/NKD2/images/catalog/2043315x1x1_M.jpg\"  width=\"130\"><br/><a href=\"http://www.nkd.com/damenmode-brands-laura-torelli-collection/Damen-Spitzenshirt-mit-2-Volants_215062_432818.html\">2043315</a></br>Damen-Spitzenshirt mit 2 Volants</td><td style=\"width:130px\"><img src=\"http://www.nkd.com/wcsstore/NKD2/images/catalog/2043559x1x1_M.jpg\"  width=\"130\"><br/><a href=\"http://www.nkd.com/damenmode-damen-jacken-westen/Damen-2-in-1-Allwetterjacke_207551_435551.html\">2043559</a></br>Damen-2-in-1-Allwetterjacke</td><td style=\"width:130px\"><img src=\"http://www.nkd.com/wcsstore/NKD2/images/catalog/2043659x1x1_M.jpg\"  width=\"130\"><br/><a href=\"http://www.nkd.com/damenmode-damen-pullover-langarmshirts/Damen-Jacquardpullover-aus-flauschigem-Material_207551_432372.html\">2043659</a></br>Damen-Jacquardpullover aus flauschigem Material</td><td style=\"width:130px\"><img src=\"http://www.nkd.com/wcsstore/NKD2/images/catalog/2042527x1x1_M.jpg\"  width=\"130\"><br/><a href=\"http://www.nkd.com/damenmode-brands-laura-torelli-collection/Damen-Pullover-mit-Ripp-Struktur_215062_424741.html\">2042527</a></br>Damen-Pullover mit Ripp-Struktur</td><td style=\"width:130px\"><img src=\"http://www.nkd.com/wcsstore/NKD2/images/catalog/2043560x1x1_M.jpg\"  width=\"130\"><br/><a href=\"http://www.nkd.com/damenmode-damen-jacken-westen/Damen-Daunenjacke-mit-Kontrast-Futter_207551_435556.html\">2043560</a></br>Damen-Daunenjacke mit Kontrast-Futter</td></tr><tr><th style=\"text-align:center;width:120px\"><img src=\"http://www.lackuna.com/wp-content/themes/fearless/images/missing-image-640x360.png\" width=\"130\"><br/><a href=\"\"></a></br>UNKNOWN</th><td style=\"background-color:black;\"></td><td style=\"width:130px\"><img src=\"http://www.nkd.com/wcsstore/NKD2/images/catalog/2043559x1x1_M.jpg\"  width=\"130\"><br/><a href=\"http://www.nkd.com/damenmode-damen-jacken-westen/Damen-2-in-1-Allwetterjacke_207551_435551.html\">2043559</a></br>Damen-2-in-1-Allwetterjacke</td><td style=\"width:130px\"><img src=\"http://www.nkd.com/wcsstore/NKD2/images/catalog/2043659x1x1_M.jpg\"  width=\"130\"><br/><a href=\"http://www.nkd.com/damenmode-damen-pullover-langarmshirts/Damen-Jacquardpullover-aus-flauschigem-Material_207551_432372.html\">2043659</a></br>Damen-Jacquardpullover aus flauschigem Material</td><td style=\"width:130px\"><img src=\"http://www.nkd.com/wcsstore/NKD2/images/catalog/2041503x1x1_M.jpg\"  width=\"130\"><br/><a href=\"http://www.nkd.com/damenmode-damen-pullover-langarmshirts/Damen-Pullover-mit-modischem-Strickmuster_207551_435555.html\">2041503</a></br>Damen-Pullover mit modischem Strickmuster</td><td style=\"width:130px\"><img src=\"http://www.nkd.com/wcsstore/NKD2/images/catalog/2043560x1x1_M.jpg\"  width=\"130\"><br/><a href=\"http://www.nkd.com/damenmode-damen-jacken-westen/Damen-Daunenjacke-mit-Kontrast-Futter_207551_435556.html\">2043560</a></br>Damen-Daunenjacke mit Kontrast-Futter</td><td style=\"width:130px\"><img src=\"http://www.nkd.com/wcsstore/NKD2/images/catalog/2039690x1x1_M.jpg\"  width=\"130\"><br/><a href=\"http://www.nkd.com/damenmode-brands-laura-torelli-collection/Damen-Steppjacke-mit-Kapuze_215062_432820.html\">2039690</a></br>Damen-Steppjacke mit Kapuze</td><td style=\"width:130px\"><img src=\"http://www.nkd.com/wcsstore/NKD2/images/catalog/2043315x1x1_M.jpg\"  width=\"130\"><br/><a href=\"http://www.nkd.com/damenmode-brands-laura-torelli-collection/Damen-Spitzenshirt-mit-2-Volants_215062_432818.html\">2043315</a></br>Damen-Spitzenshirt mit 2 Volants</td></tr><tr><th style=\"text-align:center;width:120px\"><img src=\"http://www.nkd.com/wcsstore/NKD2/images/catalog/2043287x1x1_M.jpg\" width=\"130\"><br/><a href=\"http://www.nkd.com/damenmode-brands-laura-torelli-collection/Damen-Rock-in-Stufen-Optik_215062_432816.html\">2043287</a></br>Damen-Rock in Stufen-Optik</th><td style=\"background-color:black;\"></td><td style=\"width:130px\"><img src=\"http://www.nkd.com/wcsstore/NKD2/images/catalog/2043559x1x1_M.jpg\"  width=\"130\"><br/><a href=\"http://www.nkd.com/damenmode-damen-jacken-westen/Damen-2-in-1-Allwetterjacke_207551_435551.html\">2043559</a></br>Damen-2-in-1-Allwetterjacke</td><td style=\"width:130px\"><img src=\"http://www.nkd.com/wcsstore/NKD2/images/catalog/2043560x1x1_M.jpg\"  width=\"130\"><br/><a href=\"http://www.nkd.com/damenmode-damen-jacken-westen/Damen-Daunenjacke-mit-Kontrast-Futter_207551_435556.html\">2043560</a></br>Damen-Daunenjacke mit Kontrast-Futter</td><td style=\"width:130px\"><img src=\"http://www.nkd.com/wcsstore/NKD2/images/catalog/2043659x1x1_M.jpg\"  width=\"130\"><br/><a href=\"http://www.nkd.com/damenmode-damen-pullover-langarmshirts/Damen-Jacquardpullover-aus-flauschigem-Material_207551_432372.html\">2043659</a></br>Damen-Jacquardpullover aus flauschigem Material</td><td style=\"width:130px\"><img src=\"http://www.nkd.com/wcsstore/NKD2/images/catalog/2043315x1x1_M.jpg\" style=\"border:3px dashed red;\" width=\"130\"><br/><a href=\"http://www.nkd.com/damenmode-brands-laura-torelli-collection/Damen-Spitzenshirt-mit-2-Volants_215062_432818.html\">2043315</a></br>Damen-Spitzenshirt mit 2 Volants</td><td style=\"width:130px\"><img src=\"http://www.nkd.com/wcsstore/NKD2/images/catalog/2040373x1x1_M.jpg\"  width=\"130\"><br/><a href=\"http://www.nkd.com/damenmode-brands-laura-torelli-classic/Damen-Steppjacke-mit-2-Wege-Reissverschluss_215062_434154.html\">2040373</a></br>Damen-Steppjacke mit 2-Wege-Reißverschluss</td><td style=\"width:130px\"><img src=\"http://www.nkd.com/wcsstore/NKD2/images/catalog/2043310x1x1_M.jpg\"  width=\"130\"><br/><a href=\"http://www.nkd.com/damenmode-damen-pullover-langarmshirts/Damen-Carmenshirt-mit-elastischem-Saum_207551_434894.html\">2043310</a></br>Damen-Carmenshirt mit elastischem Saum</td></tr><tr><th style=\"text-align:center;width:120px\"><img src=\"http://www.nkd.com/wcsstore/NKD2/images/catalog/2043315x1x1_M.jpg\" width=\"130\"><br/><a href=\"http://www.nkd.com/damenmode-brands-laura-torelli-collection/Damen-Spitzenshirt-mit-2-Volants_215062_432818.html\">2043315</a></br>Damen-Spitzenshirt mit 2 Volants</th><td style=\"background-color:black;\"></td><td style=\"width:130px\"><img src=\"http://www.nkd.com/wcsstore/NKD2/images/catalog/2043659x1x1_M.jpg\"  width=\"130\"><br/><a href=\"http://www.nkd.com/damenmode-damen-pullover-langarmshirts/Damen-Jacquardpullover-aus-flauschigem-Material_207551_432372.html\">2043659</a></br>Damen-Jacquardpullover aus flauschigem Material</td><td style=\"width:130px\"><img src=\"http://www.nkd.com/wcsstore/NKD2/images/catalog/2041481x1x1_M.jpg\"  width=\"130\"><br/><a href=\"http://www.nkd.com/damenmode-brands-laura-torelli-classic/Damen-Chenille-Pullover-mit-Rollkragen_215062_432819.html\">2041481</a></br>Damen-Chenille-Pullover mit Rollkragen</td><td style=\"width:130px\"><img src=\"http://www.nkd.com/wcsstore/NKD2/images/catalog/2043559x1x1_M.jpg\"  width=\"130\"><br/><a href=\"http://www.nkd.com/damenmode-damen-jacken-westen/Damen-2-in-1-Allwetterjacke_207551_435551.html\">2043559</a></br>Damen-2-in-1-Allwetterjacke</td><td style=\"width:130px\"><img src=\"http://www.nkd.com/wcsstore/NKD2/images/catalog/2043310x1x1_M.jpg\"  width=\"130\"><br/><a href=\"http://www.nkd.com/damenmode-damen-pullover-langarmshirts/Damen-Carmenshirt-mit-elastischem-Saum_207551_434894.html\">2043310</a></br>Damen-Carmenshirt mit elastischem Saum</td><td style=\"width:130px\"><img src=\"http://www.nkd.com/wcsstore/NKD2/images/catalog/2043560x1x1_M.jpg\"  width=\"130\"><br/><a href=\"http://www.nkd.com/damenmode-damen-jacken-westen/Damen-Daunenjacke-mit-Kontrast-Futter_207551_435556.html\">2043560</a></br>Damen-Daunenjacke mit Kontrast-Futter</td><td style=\"width:130px\"><img src=\"http://www.nkd.com/wcsstore/NKD2/images/catalog/2040373x1x1_M.jpg\"  width=\"130\"><br/><a href=\"http://www.nkd.com/damenmode-brands-laura-torelli-classic/Damen-Steppjacke-mit-2-Wege-Reissverschluss_215062_434154.html\">2040373</a></br>Damen-Steppjacke mit 2-Wege-Reißverschluss</td></tr><tr><th style=\"text-align:center;width:120px\"><img src=\"http://www.nkd.com/wcsstore/NKD2/images/catalog/2041508x1x1_M.jpg\" width=\"130\"><br/><a href=\"http://www.nkd.com/damenmode-brands-laura-torelli-classic/Damen-Chenille-Strickjacke-mit-aufgesetzten-Taschen_215062_432804.html\">2041508</a></br>Damen-Chenille-Strickjacke mit aufgesetzten Taschen</th><td style=\"background-color:black;\"></td><td style=\"width:130px\"><img src=\"http://www.nkd.com/wcsstore/NKD2/images/catalog/2043659x1x1_M.jpg\"  width=\"130\"><br/><a href=\"http://www.nkd.com/damenmode-damen-pullover-langarmshirts/Damen-Jacquardpullover-aus-flauschigem-Material_207551_432372.html\">2043659</a></br>Damen-Jacquardpullover aus flauschigem Material</td><td style=\"width:130px\"><img src=\"http://www.nkd.com/wcsstore/NKD2/images/catalog/2041481x1x1_M.jpg\"  width=\"130\"><br/><a href=\"http://www.nkd.com/damenmode-brands-laura-torelli-classic/Damen-Chenille-Pullover-mit-Rollkragen_215062_432819.html\">2041481</a></br>Damen-Chenille-Pullover mit Rollkragen</td><td style=\"width:130px\"><img src=\"http://www.nkd.com/wcsstore/NKD2/images/catalog/2043310x1x1_M.jpg\"  width=\"130\"><br/><a href=\"http://www.nkd.com/damenmode-damen-pullover-langarmshirts/Damen-Carmenshirt-mit-elastischem-Saum_207551_434894.html\">2043310</a></br>Damen-Carmenshirt mit elastischem Saum</td><td style=\"width:130px\"><img src=\"http://www.nkd.com/wcsstore/NKD2/images/catalog/2043559x1x1_M.jpg\"  width=\"130\"><br/><a href=\"http://www.nkd.com/damenmode-damen-jacken-westen/Damen-2-in-1-Allwetterjacke_207551_435551.html\">2043559</a></br>Damen-2-in-1-Allwetterjacke</td><td style=\"width:130px\"><img src=\"http://www.lackuna.com/wp-content/themes/fearless/images/missing-image-640x360.png\"  width=\"130\"><br/><a href=\"\"></a></br>UNKNOWN</td><td style=\"width:130px\"><img src=\"http://www.nkd.com/wcsstore/NKD2/images/catalog/2043560x1x1_M.jpg\"  width=\"130\"><br/><a href=\"http://www.nkd.com/damenmode-damen-jacken-westen/Damen-Daunenjacke-mit-Kontrast-Futter_207551_435556.html\">2043560</a></br>Damen-Daunenjacke mit Kontrast-Futter</td></tr><tr><th style=\"text-align:center;width:120px\"><img src=\"http://www.lackuna.com/wp-content/themes/fearless/images/missing-image-640x360.png\" width=\"130\"><br/><a href=\"\"></a></br>UNKNOWN</th><td style=\"background-color:black;\"></td><td style=\"width:130px\"><img src=\"http://www.nkd.com/wcsstore/NKD2/images/catalog/2043559x1x1_M.jpg\"  width=\"130\"><br/><a href=\"http://www.nkd.com/damenmode-damen-jacken-westen/Damen-2-in-1-Allwetterjacke_207551_435551.html\">2043559</a></br>Damen-2-in-1-Allwetterjacke</td><td style=\"width:130px\"><img src=\"http://www.nkd.com/wcsstore/NKD2/images/catalog/2043659x1x1_M.jpg\"  width=\"130\"><br/><a href=\"http://www.nkd.com/damenmode-damen-pullover-langarmshirts/Damen-Jacquardpullover-aus-flauschigem-Material_207551_432372.html\">2043659</a></br>Damen-Jacquardpullover aus flauschigem Material</td><td style=\"width:130px\"><img src=\"http://www.nkd.com/wcsstore/NKD2/images/catalog/2041481x1x1_M.jpg\"  width=\"130\"><br/><a href=\"http://www.nkd.com/damenmode-brands-laura-torelli-classic/Damen-Chenille-Pullover-mit-Rollkragen_215062_432819.html\">2041481</a></br>Damen-Chenille-Pullover mit Rollkragen</td><td style=\"width:130px\"><img src=\"http://www.nkd.com/wcsstore/NKD2/images/catalog/2043560x1x1_M.jpg\"  width=\"130\"><br/><a href=\"http://www.nkd.com/damenmode-damen-jacken-westen/Damen-Daunenjacke-mit-Kontrast-Futter_207551_435556.html\">2043560</a></br>Damen-Daunenjacke mit Kontrast-Futter</td><td style=\"width:130px\"><img src=\"http://www.nkd.com/wcsstore/NKD2/images/catalog/2040373x1x1_M.jpg\"  width=\"130\"><br/><a href=\"http://www.nkd.com/damenmode-brands-laura-torelli-classic/Damen-Steppjacke-mit-2-Wege-Reissverschluss_215062_434154.html\">2040373</a></br>Damen-Steppjacke mit 2-Wege-Reißverschluss</td><td style=\"width:130px\"><img src=\"http://www.nkd.com/wcsstore/NKD2/images/catalog/2043310x1x1_M.jpg\"  width=\"130\"><br/><a href=\"http://www.nkd.com/damenmode-damen-pullover-langarmshirts/Damen-Carmenshirt-mit-elastischem-Saum_207551_434894.html\">2043310</a></br>Damen-Carmenshirt mit elastischem Saum</td></tr><tr><th style=\"text-align:center;width:120px\"><img src=\"http://www.lackuna.com/wp-content/themes/fearless/images/missing-image-640x360.png\" width=\"130\"><br/><a href=\"\"></a></br>UNKNOWN</th><td style=\"background-color:black;\"></td><td style=\"width:130px\"><img src=\"http://www.nkd.com/wcsstore/NKD2/images/catalog/2043559x1x1_M.jpg\"  width=\"130\"><br/><a href=\"http://www.nkd.com/damenmode-damen-jacken-westen/Damen-2-in-1-Allwetterjacke_207551_435551.html\">2043559</a></br>Damen-2-in-1-Allwetterjacke</td><td style=\"width:130px\"><img src=\"http://www.nkd.com/wcsstore/NKD2/images/catalog/2043560x1x1_M.jpg\"  width=\"130\"><br/><a href=\"http://www.nkd.com/damenmode-damen-jacken-westen/Damen-Daunenjacke-mit-Kontrast-Futter_207551_435556.html\">2043560</a></br>Damen-Daunenjacke mit Kontrast-Futter</td><td style=\"width:130px\"><img src=\"http://www.nkd.com/wcsstore/NKD2/images/catalog/2043659x1x1_M.jpg\"  width=\"130\"><br/><a href=\"http://www.nkd.com/damenmode-damen-pullover-langarmshirts/Damen-Jacquardpullover-aus-flauschigem-Material_207551_432372.html\">2043659</a></br>Damen-Jacquardpullover aus flauschigem Material</td><td style=\"width:130px\"><img src=\"http://www.nkd.com/wcsstore/NKD2/images/catalog/2043310x1x1_M.jpg\"  width=\"130\"><br/><a href=\"http://www.nkd.com/damenmode-damen-pullover-langarmshirts/Damen-Carmenshirt-mit-elastischem-Saum_207551_434894.html\">2043310</a></br>Damen-Carmenshirt mit elastischem Saum</td><td style=\"width:130px\"><img src=\"http://www.nkd.com/wcsstore/NKD2/images/catalog/2041481x1x1_M.jpg\"  width=\"130\"><br/><a href=\"http://www.nkd.com/damenmode-brands-laura-torelli-classic/Damen-Chenille-Pullover-mit-Rollkragen_215062_432819.html\">2041481</a></br>Damen-Chenille-Pullover mit Rollkragen</td><td style=\"width:130px\"><img src=\"http://www.nkd.com/wcsstore/NKD2/images/catalog/2040203x1x1_M.jpg\"  width=\"130\"><br/><a href=\"http://www.nkd.com/damenmode-brands-laura-torelli-classic/Damen-Jacke-mit-Kunstpelz-Kragen_215062_434193.html\">2040203</a></br>Damen-Jacke mit Kunstpelz-Kragen</td></tr></table>"
      ],
      "text/plain": [
       "<IPython.core.display.HTML object>"
      ]
     },
     "metadata": {},
     "output_type": "display_data"
    },
    {
     "data": {
      "text/html": [
       "<table><tr><th style=\"text-align:center;width:120px\"><img src=\"http://www.lackuna.com/wp-content/themes/fearless/images/missing-image-640x360.png\" width=\"130\"><br/><a href=\"\"></a></br>UNKNOWN</th><td style=\"background-color:black;\"></td><td style=\"width:130px\"><img src=\"http://www.nkd.com/wcsstore/NKD2/images/catalog/2043559x1x1_M.jpg\"  width=\"130\"><br/><a href=\"http://www.nkd.com/damenmode-damen-jacken-westen/Damen-2-in-1-Allwetterjacke_207551_435551.html\">2043559</a></br>Damen-2-in-1-Allwetterjacke</td><td style=\"width:130px\"><img src=\"http://www.nkd.com/wcsstore/NKD2/images/catalog/2043315x1x1_M.jpg\"  width=\"130\"><br/><a href=\"http://www.nkd.com/damenmode-brands-laura-torelli-collection/Damen-Spitzenshirt-mit-2-Volants_215062_432818.html\">2043315</a></br>Damen-Spitzenshirt mit 2 Volants</td><td style=\"width:130px\"><img src=\"http://www.nkd.com/wcsstore/NKD2/images/catalog/2043560x1x1_M.jpg\"  width=\"130\"><br/><a href=\"http://www.nkd.com/damenmode-damen-jacken-westen/Damen-Daunenjacke-mit-Kontrast-Futter_207551_435556.html\">2043560</a></br>Damen-Daunenjacke mit Kontrast-Futter</td><td style=\"width:130px\"><img src=\"http://www.nkd.com/wcsstore/NKD2/images/catalog/2043659x1x1_M.jpg\"  width=\"130\"><br/><a href=\"http://www.nkd.com/damenmode-damen-pullover-langarmshirts/Damen-Jacquardpullover-aus-flauschigem-Material_207551_432372.html\">2043659</a></br>Damen-Jacquardpullover aus flauschigem Material</td><td style=\"width:130px\"><img src=\"http://www.nkd.com/wcsstore/NKD2/images/catalog/2043310x1x1_M.jpg\"  width=\"130\"><br/><a href=\"http://www.nkd.com/damenmode-damen-pullover-langarmshirts/Damen-Carmenshirt-mit-elastischem-Saum_207551_434894.html\">2043310</a></br>Damen-Carmenshirt mit elastischem Saum</td><td style=\"width:130px\"><img src=\"http://www.nkd.com/wcsstore/NKD2/images/catalog/2041481x1x1_M.jpg\"  width=\"130\"><br/><a href=\"http://www.nkd.com/damenmode-brands-laura-torelli-classic/Damen-Chenille-Pullover-mit-Rollkragen_215062_432819.html\">2041481</a></br>Damen-Chenille-Pullover mit Rollkragen</td></tr></table>"
      ],
      "text/plain": [
       "<IPython.core.display.HTML object>"
      ]
     },
     "metadata": {},
     "output_type": "display_data"
    }
   ],
   "source": [
    "gr = random.choice(grouped_by_last_item)\n",
    "s1 = random.choice(gr)\n",
    "s2 = random.choice(gr)\n",
    "display_session(s1)\n",
    "display_session(s2)"
   ]
  },
  {
   "cell_type": "code",
   "execution_count": null,
   "metadata": {},
   "outputs": [],
   "source": []
  }
 ],
 "metadata": {
  "kernelspec": {
   "display_name": "Python 3",
   "language": "python",
   "name": "python3"
  },
  "language_info": {
   "codemirror_mode": {
    "name": "ipython",
    "version": 3
   },
   "file_extension": ".py",
   "mimetype": "text/x-python",
   "name": "python",
   "nbconvert_exporter": "python",
   "pygments_lexer": "ipython3",
   "version": "3.5.4"
  }
 },
 "nbformat": 4,
 "nbformat_minor": 2
}
