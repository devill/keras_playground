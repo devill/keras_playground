{
 "cells": [
  {
   "cell_type": "code",
   "execution_count": 1,
   "metadata": {},
   "outputs": [
    {
     "name": "stderr",
     "output_type": "stream",
     "text": [
      "Using TensorFlow backend.\n"
     ]
    }
   ],
   "source": [
    "import json\n",
    "import matplotlib.pyplot as plt\n",
    "from keras.utils import to_categorical\n",
    "from tqdm import tqdm\n",
    "import random\n",
    "import numpy as np"
   ]
  },
  {
   "cell_type": "code",
   "execution_count": 2,
   "metadata": {},
   "outputs": [],
   "source": [
    "%matplotlib inline"
   ]
  },
  {
   "cell_type": "code",
   "execution_count": 3,
   "metadata": {},
   "outputs": [],
   "source": [
    "merchant_id = '196E2517293A9285'"
   ]
  },
  {
   "cell_type": "code",
   "execution_count": 4,
   "metadata": {},
   "outputs": [],
   "source": [
    "file = '/data/predict/'+merchant_id+'/'+merchant_id+'_logs.json'"
   ]
  },
  {
   "cell_type": "code",
   "execution_count": 5,
   "metadata": {},
   "outputs": [
    {
     "name": "stderr",
     "output_type": "stream",
     "text": [
      "759250it [00:05, 129075.02it/s]\n"
     ]
    }
   ],
   "source": [
    "users = {}\n",
    "with open(file, encoding='utf8') as f:\n",
    "    for line in tqdm(f):\n",
    "        data = json.loads(line)\n",
    "        if data['visitor_id'] not in users:\n",
    "            users[data['visitor_id']] = []\n",
    "        for prod_idx in data['viewed_products']:\n",
    "            try:\n",
    "                users[data['visitor_id']].append(prod_idx)\n",
    "            except ValueError: \n",
    "                print('Sktrain_labelsiped ' + prod_idx)"
   ]
  },
  {
   "cell_type": "code",
   "execution_count": 6,
   "metadata": {},
   "outputs": [],
   "source": [
    "users_lens = list(map(lambda x: len(x), users.values()))"
   ]
  },
  {
   "cell_type": "code",
   "execution_count": 7,
   "metadata": {},
   "outputs": [
    {
     "name": "stdout",
     "output_type": "stream",
     "text": [
      "120227\n"
     ]
    }
   ],
   "source": [
    "print(len(users.keys()))"
   ]
  },
  {
   "cell_type": "code",
   "execution_count": 8,
   "metadata": {},
   "outputs": [
    {
     "data": {
      "image/png": "[encoded data removed]",
      "text/plain": [
       "<matplotlib.figure.Figure at 0x7f39df82fba8>"
      ]
     },
     "metadata": {},
     "output_type": "display_data"
    }
   ],
   "source": [
    "d = plt.hist(users_lens, bins=100, range=(3, 103))"
   ]
  },
  {
   "cell_type": "code",
   "execution_count": 9,
   "metadata": {},
   "outputs": [],
   "source": [
    "products = {}\n",
    "for u in users.values():\n",
    "    for pid in u:\n",
    "        products[pid] = 1\n",
    "product_idxs = products.keys()\n",
    "product_ids = {v: k for k, v in enumerate(product_idxs)}\n",
    "number_of_classes = len(product_idxs)"
   ]
  },
  {
   "cell_type": "code",
   "execution_count": 10,
   "metadata": {},
   "outputs": [
    {
     "name": "stdout",
     "output_type": "stream",
     "text": [
      "2405\n"
     ]
    }
   ],
   "source": [
    "print(number_of_classes)"
   ]
  },
  {
   "cell_type": "code",
   "execution_count": 11,
   "metadata": {},
   "outputs": [],
   "source": [
    "def dedup(seq):\n",
    "    seen = set()\n",
    "    seen_add = seen.add\n",
    "\n",
    "    return [x for x in seq if not (x in seen or seen_add(x))]\n",
    "\n",
    "\n",
    "users_with_product_idxs = {}\n",
    "for uid,products in users.items():\n",
    "    ids = dedup(list(map(lambda x: product_ids[x], products)))\n",
    "    if len(ids) > 1:\n",
    "        users_with_product_idxs[uid] = ids\n",
    "    \n",
    "del users"
   ]
  },
  {
   "cell_type": "code",
   "execution_count": 12,
   "metadata": {},
   "outputs": [
    {
     "name": "stderr",
     "output_type": "stream",
     "text": [
      "100%|██████████| 71706/71706 [00:00<00:00, 169179.85it/s]\n"
     ]
    }
   ],
   "source": [
    "raw_data = []\n",
    "raw_abels  = []\n",
    "for uid,products in tqdm(users_with_product_idxs.items()):\n",
    "    if(len(products) > 5):\n",
    "        for i in range(len(products)-1):\n",
    "            if(random.random() < 1):\n",
    "                raw_data.append(np.array(products[i]))\n",
    "                raw_abels.append(np.array(products[i+1]))"
   ]
  },
  {
   "cell_type": "code",
   "execution_count": 101,
   "metadata": {},
   "outputs": [],
   "source": [
    "data_np = np.expand_dims(np.stack(raw_data), axis=1)\n",
    "labels_np = np.expand_dims(np.expand_dims(np.stack(raw_abels), axis=1), axis=1)"
   ]
  },
  {
   "cell_type": "code",
   "execution_count": 103,
   "metadata": {},
   "outputs": [
    {
     "data": {
      "text/plain": [
       "(302539, 1, 1)"
      ]
     },
     "execution_count": 103,
     "metadata": {},
     "output_type": "execute_result"
    }
   ],
   "source": [
    "labels_np.shape"
   ]
  },
  {
   "cell_type": "code",
   "execution_count": 104,
   "metadata": {},
   "outputs": [],
   "source": [
    "from sklearn.model_selection import train_test_split\n",
    "train_data, valid_data, train_labels, valid_labels  = train_test_split(data_np , labels_np, test_size=0.10, shuffle=True)"
   ]
  },
  {
   "cell_type": "code",
   "execution_count": 130,
   "metadata": {},
   "outputs": [],
   "source": [
    "from keras.models import Sequential\n",
    "from keras.layers import Activation, Embedding, Dense, Dropout\n",
    "from keras.layers.normalization import BatchNormalization\n",
    "from keras.optimizers import Nadam\n",
    "\n",
    "n_hidden = 500\n",
    "\n",
    "model=Sequential([\n",
    "        Embedding(number_of_classes, n_hidden, input_shape=(1,)),\n",
    "        Activation('relu'),\n",
    "        Dense(n_hidden, activation='relu'),\n",
    "        Dropout(0.2),\n",
    "        Dense(n_hidden, activation='relu'),\n",
    "        Dropout(0.2),\n",
    "        Dense(number_of_classes, activation='softmax')\n",
    "    ])"
   ]
  },
  {
   "cell_type": "code",
   "execution_count": 131,
   "metadata": {},
   "outputs": [],
   "source": [
    "from keras.backend import reshape, prod, shape, stack\n",
    "from keras.metrics import sparse_top_k_categorical_accuracy\n",
    "\n",
    "def flatten_first_n_dimension(x, first_n=2):\n",
    "    new_dims = stack([prod(shape(x)[:first_n]), prod(shape(x)[first_n:])])\n",
    "\n",
    "    return reshape(x, new_dims)\n",
    "\n",
    "def sparse_timedistributed_top_k_categorical_accuracy(y_true, y_pred, k=5):\n",
    "    y_true_reshaped = flatten_first_n_dimension(y_true)\n",
    "    y_pred_reshaped = flatten_first_n_dimension(y_pred)\n",
    "\n",
    "    return sparse_top_k_categorical_accuracy(y_true_reshaped, y_pred_reshaped, k)"
   ]
  },
  {
   "cell_type": "code",
   "execution_count": 132,
   "metadata": {},
   "outputs": [],
   "source": [
    "model.compile(loss='sparse_categorical_crossentropy', metrics=['sparse_categorical_accuracy',sparse_timedistributed_top_k_categorical_accuracy], optimizer=Nadam())"
   ]
  },
  {
   "cell_type": "code",
   "execution_count": 133,
   "metadata": {},
   "outputs": [
    {
     "name": "stdout",
     "output_type": "stream",
     "text": [
      "Train on 272285 samples, validate on 30254 samples\n",
      "Epoch 1/6\n",
      "272285/272285 [==============================] - 8s 28us/step - loss: 6.0664 - sparse_categorical_accuracy: 0.0818 - sparse_timedistributed_top_k_categorical_accuracy: 0.2050 - val_loss: 5.4942 - val_sparse_categorical_accuracy: 0.1262 - val_sparse_timedistributed_top_k_categorical_accuracy: 0.3040\n",
      "Epoch 2/6\n",
      "272285/272285 [==============================] - 6s 24us/step - loss: 5.3800 - sparse_categorical_accuracy: 0.1403 - sparse_timedistributed_top_k_categorical_accuracy: 0.3207 - val_loss: 5.3395 - val_sparse_categorical_accuracy: 0.1502 - val_sparse_timedistributed_top_k_categorical_accuracy: 0.3381\n",
      "Epoch 3/6\n",
      "272285/272285 [==============================] - 6s 23us/step - loss: 5.2034 - sparse_categorical_accuracy: 0.1520 - sparse_timedistributed_top_k_categorical_accuracy: 0.3418 - val_loss: 5.3103 - val_sparse_categorical_accuracy: 0.1524 - val_sparse_timedistributed_top_k_categorical_accuracy: 0.3474\n",
      "Epoch 4/6\n",
      "272285/272285 [==============================] - 7s 24us/step - loss: 5.0964 - sparse_categorical_accuracy: 0.1544 - sparse_timedistributed_top_k_categorical_accuracy: 0.3497 - val_loss: 5.3134 - val_sparse_categorical_accuracy: 0.1544 - val_sparse_timedistributed_top_k_categorical_accuracy: 0.3507\n",
      "Epoch 5/6\n",
      "272285/272285 [==============================] - 6s 23us/step - loss: 5.0182 - sparse_categorical_accuracy: 0.1558 - sparse_timedistributed_top_k_categorical_accuracy: 0.3543 - val_loss: 5.3281 - val_sparse_categorical_accuracy: 0.1583 - val_sparse_timedistributed_top_k_categorical_accuracy: 0.3520\n",
      "Epoch 6/6\n",
      "272285/272285 [==============================] - 6s 23us/step - loss: 4.9548 - sparse_categorical_accuracy: 0.1562 - sparse_timedistributed_top_k_categorical_accuracy: 0.3556 - val_loss: 5.3597 - val_sparse_categorical_accuracy: 0.1591 - val_sparse_timedistributed_top_k_categorical_accuracy: 0.3521\n"
     ]
    },
    {
     "data": {
      "text/plain": [
       "<keras.callbacks.History at 0x7f39b576ef28>"
      ]
     },
     "execution_count": 133,
     "metadata": {},
     "output_type": "execute_result"
    }
   ],
   "source": [
    "model.fit(train_data, train_labels,validation_data=(valid_data,valid_labels), batch_size=256, epochs=6, shuffle=True)"
   ]
  },
  {
   "cell_type": "code",
   "execution_count": 19,
   "metadata": {},
   "outputs": [],
   "source": [
    "model.save('/data/predict/'+merchant_id+'/'+merchant_id+'_fixed_length_lstm_model.h5')\n",
    "model.save_weights('/data/predict/'+merchant_id+'/'+merchant_id+'_fixed_length_lstm_model_w.h5')\n",
    "\n",
    "import csv\n",
    "with open('/data/predict//'+merchant_id+'/'+merchant_id+'_fixed_length_lstm_model_id_map.csv', 'w') as csvfile:\n",
    "    spamwriter = csv.writer(csvfile)\n",
    "    for line in product_idxs:\n",
    "        spamwriter.writerow([line])"
   ]
  },
  {
   "cell_type": "markdown",
   "metadata": {},
   "source": [
    "## Eye ball validation"
   ]
  },
  {
   "cell_type": "code",
   "execution_count": 20,
   "metadata": {},
   "outputs": [],
   "source": [
    "import csv"
   ]
  },
  {
   "cell_type": "code",
   "execution_count": 21,
   "metadata": {},
   "outputs": [
    {
     "data": {
      "text/plain": [
       "'196E2517293A9285'"
      ]
     },
     "execution_count": 21,
     "metadata": {},
     "output_type": "execute_result"
    }
   ],
   "source": [
    "merchant_id"
   ]
  },
  {
   "cell_type": "code",
   "execution_count": 22,
   "metadata": {},
   "outputs": [],
   "source": [
    "product_map = {}\n",
    "with open('/data/predict/'+merchant_id+'/'+merchant_id+'_catalog.csv', 'r', encoding='utf8') as csvfile:\n",
    "    spamreader = csv.reader(csvfile)\n",
    "    header = next(spamreader)\n",
    "    item_id = header.index('item')\n",
    "    image_url = header.index('image')\n",
    "    title = header.index('title')\n",
    "    link = header.index('link')\n",
    "    \n",
    "    for row in spamreader:\n",
    "        product_map[row[item_id]] = [row[image_url], row[title], row[link]]"
   ]
  },
  {
   "cell_type": "code",
   "execution_count": 23,
   "metadata": {},
   "outputs": [
    {
     "data": {
      "text/html": [
       "<table><tr><th style=\"text-align:center\"><img src=\"https://images.street-one.de//z1/4057515810392_1_m_z1.jpg\" width=\"130\"><br/><a href=\"https://www.street-one.de/All-Styles/Pullover-Strickjacken/Pullover/V-Pullover/Basic-V-Neck-Pullover-evening-blue.html\">A30045711151</a></br>Basic V-Neck Pullover - evening blue</th><td style=\"background-color:black;\"></td><td><img src=\"https://images.street-one.de//z1/4057515810378_1_m_z1.jpg\"  width=\"130\"><br/><a href=\"https://www.street-one.de/All-Styles/Pullover-Strickjacken/Pullover/V-Pullover/Basic-V-Neck-Pullover-ice-blue.html\">A30045711055</a></br>Basic V-Neck Pullover - ice blue</td><td><img src=\"https://images.street-one.de//z1/4057515810385_1_m_z1.jpg\"  width=\"130\"><br/><a href=\"https://www.street-one.de/All-Styles/Pullover-Strickjacken/Pullover/V-Pullover/Basic-V-Neck-Pullover-warming-berry.html\">A30045711118</a></br>Basic V-Neck Pullover - warming berry</td><td><img src=\"https://images.street-one.de//z1/4057515810408_1_m_z1.jpg\"  width=\"130\"><br/><a href=\"https://www.street-one.de/All-Styles/Pullover-Strickjacken/Pullover/V-Pullover/Basic-V-Neck-Pullover-scarlet-red.html\">A30045711157</a></br>Basic V-Neck Pullover - scarlet red</td><td><img src=\"https://images.street-one.de//z1/4057515552230_1_m_z1.jpg\"  width=\"130\"><br/><a href=\"https://www.street-one.de/All-Styles/Pullover-Strickjacken/Pullover/Rundhalspullover/Rippstruktur-Pullover-Robby-off-white.html\">A30032710108</a></br>Rippstruktur Pullover Robby - off white</td><td><img src=\"https://images.street-one.de//z1/4057515765456_1_m_z1.jpg\"  width=\"130\"><br/><a href=\"https://www.street-one.de/All-Styles/Pullover-Strickjacken/Pullover/V-Pullover/Rippstruktur-Pullover-Maja-warming-berry-streetone.html\">A30042711118</a></br>Rippstruktur Pullover Maja - warming berry</td><td><img src=\"https://images.street-one.de//z1/4057515765449_1_m_z1.jpg\"  width=\"130\"><br/><a href=\"https://www.street-one.de/All-Styles/Pullover-Strickjacken/Pullover/V-Pullover/Rippstruktur-Pullover-Maja-Black-streetone.html\">A30042710001</a></br>Rippstruktur Pullover Maja - Black</td></tr><tr><th style=\"text-align:center\"><img src=\"https://images.street-one.de//z1/4057515563861_1_m_z1.jpg\" width=\"130\"><br/><a href=\"https://www.street-one.de/All-Styles/T-Shirts-Tops/Langarm-Shirts/Rundhalsshirts/Rippshirt-mit-Zipper-Laira-off-white.html\">A31149110108</a></br>Rippshirt mit Zipper Laira - off white</th><td style=\"background-color:black;\"></td><td><img src=\"https://images.street-one.de//z1/4057515627617_1_m_z1.jpg\"  width=\"130\"><br/><a href=\"https://www.street-one.de/All-Styles/T-Shirts-Tops/Langarm-Shirts/Rundhalsshirts/Rippshirt-mit-Zipper-Laira-master-wine.html\">A31149111018</a></br>Rippshirt mit Zipper Laira - master wine</td><td><img src=\"https://images.street-one.de//z1/4057515600887_1_m_z1.jpg\"  width=\"130\"><br/><a href=\"https://www.street-one.de/All-Styles/T-Shirts-Tops/3-4-Arm-Shirts/Rippshirt-mit-Zipper-Laira-cyber-grey-melange.html\">A31149210767</a></br>Rippshirt mit Zipper Laira - cyber grey melange</td><td><img src=\"https://images.street-one.de//z1/4057515714553_1_m_z1.jpg\"  width=\"130\"><br/><a href=\"https://www.street-one.de/All-Styles/T-Shirts-Tops/Langarm-Shirts/Rundhalsshirts/Strukturmix-Shirt-Ulrika-pacific-blue.html\">A31161710991</a></br>Strukturmix Shirt Ulrika - pacific blue</td><td><img src=\"https://images.street-one.de//z1/4057515711026_1_m_z1.jpg\"  width=\"130\"><br/><a href=\"https://www.street-one.de/All-Styles/T-Shirts-Tops/Langarm-Shirts/Rundhalsshirts/Matt-glaenzendes-Langarmshirt-off-white.html\">A31158010108</a></br>Matt glänzendes Langarmshirt - off white</td><td><img src=\"https://images.street-one.de//z1/4057515596388_1_m_z1.jpg\"  width=\"130\"><br/><a href=\"https://www.street-one.de/All-Styles/Hosen/Lange-Hosen/Heringbone-Hose-Jacky-Black.html\">A37101720001</a></br>Heringbone Hose Jacky  - Black</td><td><img src=\"https://images.street-one.de//z1/4057515563878_1_m_z1.jpg\"  width=\"130\"><br/><a href=\"https://www.street-one.de/All-Styles/T-Shirts-Tops/Langarm-Shirts/Rundhalsshirts/Rippshirt-mit-Zipper-Laira-night-blue.html\">A31149110109</a></br>Rippshirt mit Zipper Laira - night blue</td></tr><tr><th style=\"text-align:center\"><img src=\"https://images.street-one.de//z1/4057515736036_1_m_z1.jpg\" width=\"130\"><br/><a href=\"https://www.street-one.de/All-Styles/T-Shirts-Tops/Tops/Chiffon-Layering-Top-off-white.html\">A31162510108</a></br>Chiffon Layering Top - off white</th><td style=\"background-color:black;\"></td><td><img src=\"https://images.street-one.de//z1/4057515781784_1_m_z1.jpg\"  width=\"130\"><br/><a href=\"https://www.street-one.de/All-Styles/T-Shirts-Tops/Tops/Chiffon-Layering-Top-warming-berry.html\">A31162511118</a></br>Chiffon Layering Top - warming berry</td><td><img src=\"https://images.street-one.de//z1/4057515736043_1_m_z1.jpg\"  width=\"130\"><br/><a href=\"https://www.street-one.de/All-Styles/T-Shirts-Tops/Tops/Chiffon-Layering-Top-evening-blue.html\">A31162511151</a></br>Chiffon Layering Top - evening blue</td><td><img src=\"https://images.street-one.de//z1/4057515781777_1_m_z1.jpg\"  width=\"130\"><br/><a href=\"https://www.street-one.de/All-Styles/T-Shirts-Tops/Tops/Chiffon-Layering-Top-Black.html\">A31162510001</a></br>Chiffon Layering Top - Black</td><td><img src=\"https://images.street-one.de//z1/4057515796825_1_m_z1.jpg\"  width=\"130\"><br/><a href=\"https://www.street-one.de/All-Styles/Blusen/Langarm-Blusen/Rundhalsblusen/Gepunktete-Chiffonbluse-Original.html\">A34071610004</a></br>Gepunktete Chiffonbluse - Original</td><td><img src=\"https://images.street-one.de//z1/4057515558294_1_m_z1.jpg\"  width=\"130\"><br/><a href=\"https://www.street-one.de/All-Styles/T-Shirts-Tops/Tops/Blusiges-Top-mit-Turtleneck-off-white.html\">A31147010108</a></br>Blusiges Top mit Turtleneck - off white</td><td><img src=\"https://images.street-one.de//z1/4057515657737_1_m_z1.jpg\"  width=\"130\"><br/><a href=\"https://www.street-one.de/All-Styles/T-Shirts-Tops/T-Shirts/Rolli-Stehkragenshirts/Basic-Style-Rollkragen-Shirt-off-white.html\">A31157210108</a></br>Basic Style Rollkragen Shirt - off white</td></tr><tr><th style=\"text-align:center\"><img src=\"https://images.street-one.de//z1/4057515708644_1_m_z1.jpg\" width=\"130\"><br/><a href=\"https://www.street-one.de/All-Styles/T-Shirts-Tops/Tops/Basic-Tops/Softes-Turtleneck-Top-pacific-blue.html\">A31157110991</a></br>Softes Turtleneck Top - pacific blue</th><td style=\"background-color:black;\"></td><td><img src=\"http://www.lackuna.com/wp-content/themes/fearless/images/missing-image-640x360.png\"  width=\"130\"><br/><a href=\"\"></a></br>UNKNOWN</td><td><img src=\"https://images.street-one.de//z1/4057515708651_1_m_z1.jpg\"  width=\"130\"><br/><a href=\"https://www.street-one.de/All-Styles/T-Shirts-Tops/Tops/Basic-Tops/Softes-Turtleneck-Top-bleached-ice.html\">A31157110997</a></br>Softes Turtleneck Top - bleached ice</td><td><img src=\"https://images.street-one.de//z1/4057515657416_1_m_z1.jpg\"  width=\"130\"><br/><a href=\"https://www.street-one.de/All-Styles/T-Shirts-Tops/Tops/Basic-Tops/Softes-Turtleneck-Top-baked-orange.html\">A31157111083</a></br>Softes Turtleneck Top - baked orange</td><td><img src=\"https://images.street-one.de//z1/4057515657409_1_m_z1.jpg\"  width=\"130\"><br/><a href=\"https://www.street-one.de/All-Styles/T-Shirts-Tops/Tops/Basic-Tops/Softes-Turtleneck-Top-off-white.html\">A31157110108</a></br>Softes Turtleneck Top - off white</td><td><img src=\"https://images.street-one.de//z1/4057515622261_1_m_z1.jpg\"  width=\"130\"><br/><a href=\"https://www.street-one.de/All-Styles/Blusen/AErmellose-Blusen/Longblusen/Aermelloses-Uni-Blusen-Top-night-blue.html\">A34063010109</a></br>Ärmelloses Uni Blusen Top - night blue</td><td><img src=\"https://images.street-one.de//z1/4057515632055_1_m_z1.jpg\"  width=\"130\"><br/><a href=\"https://www.street-one.de/All-Styles/T-Shirts-Tops/Shirtjacken/Kurze-Fischgraetmuster-Jacke-night-blue.html\">A31151630109</a></br>Kurze Fischgrätmuster Jacke - night blue</td></tr><tr><th style=\"text-align:center\"><img src=\"https://images.street-one.de//z1/4057515710227_1_m_z1.jpg\" width=\"130\"><br/><a href=\"https://www.street-one.de/All-Styles/T-Shirts-Tops/Shirtjacken/Melierte-lange-Shirtjacke-shell-white-melange.html\">A31157910569</a></br>Melierte, lange Shirtjacke - shell white melange</th><td style=\"background-color:black;\"></td><td><img src=\"https://images.street-one.de//z1/4057515710234_1_m_z1.jpg\"  width=\"130\"><br/><a href=\"https://www.street-one.de/All-Styles/T-Shirts-Tops/Shirtjacken/Melierte-lange-Shirtjacke-night-blue-melange.html\">A31157911113</a></br>Melierte, lange Shirtjacke - night blue melange</td><td><img src=\"https://images.street-one.de//z1/4057515719046_1_m_z1.jpg\"  width=\"130\"><br/><a href=\"https://www.street-one.de/All-Styles/T-Shirts-Tops/Shirtjacken/Melierte-lange-Shirtjacke-coal-grey-melange.html\">A31157911120</a></br>Melierte, lange Shirtjacke - coal grey melange</td><td><img src=\"https://images.street-one.de//z1/4057515641217_1_m_z1.jpg\"  width=\"130\"><br/><a href=\"https://www.street-one.de/All-Styles/T-Shirts-Tops/T-Shirts/Spitzenshirts/Shirt-mit-Haekelspitze-Sabina-White-streetone.html\">A31153810000</a></br>Shirt mit Häkelspitze Sabina - white</td><td><img src=\"https://images.street-one.de//z1/4057515672150_1_m_z1.jpg\"  width=\"130\"><br/><a href=\"https://www.street-one.de/All-Styles/Accessoires/Guertel/Klassische-Guertel/Glatter-Bueffelleder-Guertel-neo-grey.html\">A58023211017</a></br>Glatter Büffelleder Gürtel - neo grey</td><td><img src=\"https://images.street-one.de//z1/4057515600887_1_m_z1.jpg\"  width=\"130\"><br/><a href=\"https://www.street-one.de/All-Styles/T-Shirts-Tops/3-4-Arm-Shirts/Rippshirt-mit-Zipper-Laira-cyber-grey-melange.html\">A31149210767</a></br>Rippshirt mit Zipper Laira - cyber grey melange</td><td><img src=\"http://www.lackuna.com/wp-content/themes/fearless/images/missing-image-640x360.png\"  width=\"130\"><br/><a href=\"\"></a></br>UNKNOWN</td></tr></table>"
      ],
      "text/plain": [
       "<IPython.core.display.HTML object>"
      ]
     },
     "metadata": {},
     "output_type": "display_data"
    }
   ],
   "source": [
    "from IPython.core.display import display as core_display\n",
    "from IPython.core.display import HTML \n",
    "\n",
    "def product_to_url(product):\n",
    "    try:\n",
    "        \n",
    "        return [product] + product_map[list(product_idxs)[product]] + [list(product_idxs)[product]]\n",
    "    except KeyError:\n",
    "        return [product,'http://www.lackuna.com/wp-content/themes/fearless/images/missing-image-640x360.png','UNKNOWN','', '']\n",
    "\n",
    "def display_session(session):\n",
    "    products = list(map(product_to_url, session))\n",
    "    predictions = model.predict([session])\n",
    "    html = '<table>'\n",
    "    seen = set()\n",
    "    for i,product in enumerate(products):\n",
    "        html += '<tr>'\n",
    "        html += '<th style=\"text-align:center\">'\n",
    "        html += '<img src=\"' + product[1] + '\" width=\"130\"><br/>' \n",
    "        html += '<a href=\"'+str(product[3])+'\">' + str(product[4]) + '</a></br>' + str(product[2])\n",
    "        html += '</th><td style=\"background-color:black;\"></td>'\n",
    "        top_idx = list(np.argsort(predictions[i][0])[::-1])\n",
    "        seen.add(product[0])\n",
    "        \n",
    "        j = 0\n",
    "        for pred in top_idx:\n",
    "            #if pred in seen:\n",
    "            #    continue\n",
    "                                \n",
    "            if i < len(products) - 1 and pred == products[i+1][0]:\n",
    "                style = 'style=\"border:3px dashed red;\"'\n",
    "            else:\n",
    "                style = ''\n",
    "                \n",
    "            pred_data = product_to_url(pred)\n",
    "            html += '<td><img src=\"' + pred_data[1] + '\" '+style+' width=\"130\"><br/>' \n",
    "            html += '<a href=\"'+str(pred_data[3]) + '\">' +str(pred_data[4]) + '</a></br>' + str(pred_data[2]) + '</td>'\n",
    "            j+=1\n",
    "            if j > 5:\n",
    "                break\n",
    "                \n",
    "        html += '</tr>'\n",
    "    html += '</table>'\n",
    "\n",
    "    core_display(HTML(html))\n",
    "\n",
    "display_session(random.choice(valid_data))"
   ]
  },
  {
   "cell_type": "markdown",
   "metadata": {},
   "source": [
    "### Do we make different predictions based on history?"
   ]
  },
  {
   "cell_type": "code",
   "execution_count": 24,
   "metadata": {},
   "outputs": [],
   "source": [
    "grouped_by_last_item = {}\n",
    "for session in valid_data:\n",
    "    if session[-1] not in grouped_by_last_item:\n",
    "        grouped_by_last_item[session[-1]] = []\n",
    "    grouped_by_last_item[session[-1]].append(session)"
   ]
  },
  {
   "cell_type": "code",
   "execution_count": 27,
   "metadata": {},
   "outputs": [
    {
     "data": {
      "text/html": [
       "<table><tr><th style=\"text-align:center\"><img src=\"https://images.street-one.de//z1/4057515692431_1_m_z1.jpg\" width=\"130\"><br/><a href=\"https://www.street-one.de/All-Styles/Accessoires/Tuecher-Schals/Sterne-Stricktuch-Milena-pacific-blue.html\">A57047520991</a></br>Sterne Stricktuch Milena - pacific blue</th><td style=\"background-color:black;\"></td><td><img src=\"https://images.street-one.de//z1/4057515724095_1_m_z1.jpg\"  width=\"130\"><br/><a href=\"https://www.street-one.de/All-Styles/Accessoires/Tuecher-Schals/Sterne-Stricktuch-Milena-coal-grey-melange.html\">A57047521120</a></br>Sterne Stricktuch Milena - coal grey melange</td><td><img src=\"https://images.street-one.de//z1/4057515625781_1_m_z1.jpg\"  width=\"130\"><br/><a href=\"https://www.street-one.de/All-Styles/Accessoires/Tuecher-Schals/Tuecher/Stricktuch-mit-Sternen-shell-white-melange.html\">A57044520569</a></br>Stricktuch mit Sternen - shell white melange</td><td><img src=\"https://images.street-one.de//z1/4057515349465_1_m_z1.jpg\"  width=\"130\"><br/><a href=\"https://www.street-one.de/All-Styles/Accessoires/Tuecher-Schals/Tuecher/Grosses-Tuch-mit-Schlange-off-white.html\">A57040930108</a></br>Großes Tuch mit Schlange - off white</td><td><img src=\"https://images.street-one.de//z1/4057515698488_1_m_z1.jpg\"  width=\"130\"><br/><a href=\"https://www.street-one.de/All-Styles/Accessoires/Tuecher-Schals/Schals/Zipfeliger-Zickzack-Schal-neo-grey.html\">A57046821017</a></br>Zipfeliger Zickzack Schal - neo grey</td><td><img src=\"https://images.street-one.de//z1/4057515674550_1_m_z1.jpg\"  width=\"130\"><br/><a href=\"https://www.street-one.de/All-Styles/Accessoires/Tuecher-Schals/Schals/Zipfeliger-Hahnentritt-Schal-pacific-blue.html\">A57047120991</a></br>Zipfeliger Hahnentritt Schal - pacific blue</td><td><img src=\"https://images.street-one.de//z1/4057515628959_1_m_z1.jpg\"  width=\"130\"><br/><a href=\"https://www.street-one.de/All-Styles/Hosen/Lange-Hosen/Schmale-Hosen-slim/Gerade-Jacquard-Hose-Yella-master-wine-dark.html\">A37102211053</a></br>Gerade Jacquard Hose Yella - master wine dark</td></tr><tr><th style=\"text-align:center\"><img src=\"https://images.street-one.de//z1/4057515577080_1_m_z1.jpg\" width=\"130\"><br/><a href=\"https://www.street-one.de/All-Styles/Accessoires/Tuecher-Schals/Schals/Feinstrick-Schal-mit-Glitzer-neo-grey.html\">A57043921017</a></br>Feinstrick Schal mit Glitzer - neo grey</th><td style=\"background-color:black;\"></td><td><img src=\"https://images.street-one.de//z1/4057515724095_1_m_z1.jpg\"  width=\"130\"><br/><a href=\"https://www.street-one.de/All-Styles/Accessoires/Tuecher-Schals/Sterne-Stricktuch-Milena-coal-grey-melange.html\">A57047521120</a></br>Sterne Stricktuch Milena - coal grey melange</td><td><img src=\"http://www.lackuna.com/wp-content/themes/fearless/images/missing-image-640x360.png\"  width=\"130\"><br/><a href=\"\"></a></br>UNKNOWN</td><td><img src=\"https://images.street-one.de//z1/4057515773888_1_m_z1.jpg\"  width=\"130\"><br/><a href=\"https://www.street-one.de/All-Styles/Accessoires/Tuecher-Schals/Tuecher/Langes-Glitzertuch-lunar-grey.html\">A57049620821</a></br>Langes Glitzertuch - lunar grey</td><td><img src=\"https://images.street-one.de//z1/4057515674291_1_m_z1.jpg\"  width=\"130\"><br/><a href=\"https://www.street-one.de/All-Styles/Accessoires/Tuecher-Schals/Tuecher/Weiches-grosses-Dreieckstuch-off-white.html\">A57047030108</a></br>Weiches, großes Dreieckstuch - off white</td><td><img src=\"https://images.street-one.de//z1/4057515754580_1_m_z1.jpg\"  width=\"130\"><br/><a href=\"https://www.street-one.de/All-Styles/Accessoires/Tuecher-Schals/Schals/Oversized-Patchprint-Schal-warming-berry.html\">A57049331118</a></br>Oversized Patchprint Schal - warming berry</td><td><img src=\"https://images.street-one.de//z1/4057515768600_1_m_z1.jpg\"  width=\"130\"><br/><a href=\"https://www.street-one.de/All-Styles/Accessoires/Tuecher-Schals/Schals/Flauschiger-Longschal-frost-grey-melange.html\">A57049921119</a></br>Flauschiger Longschal - frost grey melange</td></tr><tr><th style=\"text-align:center\"><img src=\"https://images.street-one.de//z1/4057515321324_1_m_z1.jpg\" width=\"130\"><br/><a href=\"https://www.street-one.de/All-Styles/Roecke-Kleider/Kleider/Festliche-Kleider/Chiffon-Maxikleid-Karina-Black.html\">A14051110001</a></br>Chiffon Maxikleid Karina - Black</th><td style=\"background-color:black;\"></td><td><img src=\"https://images.street-one.de//z1/4057515321331_1_m_z1.jpg\"  width=\"130\"><br/><a href=\"https://www.street-one.de/All-Styles/Roecke-Kleider/Kleider/Festliche-Kleider/Chiffon-Maxikleid-Karina-lapis-blue.html\">A14051110945</a></br>Chiffon Maxikleid Karina - lapis blue</td><td><img src=\"http://www.lackuna.com/wp-content/themes/fearless/images/missing-image-640x360.png\"  width=\"130\"><br/><a href=\"\"></a></br>UNKNOWN</td><td><img src=\"https://images.street-one.de//z1/4057515638170_1_m_z1.jpg\"  width=\"130\"><br/><a href=\"https://www.street-one.de/All-Styles/Roecke-Kleider/Roecke/Maxiroecke/Gestreifter-Jerseyrock-Peppa-black.html\">A36016820001</a></br>Gestreifter Jerseyrock Peppa - Black</td><td><img src=\"http://www.lackuna.com/wp-content/themes/fearless/images/missing-image-640x360.png\"  width=\"130\"><br/><a href=\"\"></a></br>UNKNOWN</td><td><img src=\"https://images.street-one.de//z1/4057515308622_1_m_z1.jpg\"  width=\"130\"><br/><a href=\"https://www.street-one.de/All-Styles/Roecke-Kleider/Roecke/Sommerroecke/Jerseyrock-mit-Falten-Louna-hot-coral.html\">A36013210947</a></br>Jerseyrock mit Falten Louna - hot coral</td><td><img src=\"http://www.lackuna.com/wp-content/themes/fearless/images/missing-image-640x360.png\"  width=\"130\"><br/><a href=\"\"></a></br>UNKNOWN</td></tr><tr><th style=\"text-align:center\"><img src=\"https://images.street-one.de//z1/4057515313374_1_m_z1.jpg\" width=\"130\"><br/><a href=\"https://www.street-one.de/All-Styles/Roecke-Kleider/Kleider/Sommerkleider/Kleid-mit-Volantsaum-night-blue.html\">A14049810109</a></br>Kleid mit Volantsaum - night blue</th><td style=\"background-color:black;\"></td><td><img src=\"https://images.street-one.de//z1/4057515272121_1_m_z1.jpg\" style=\"border:3px dashed red;\" width=\"130\"><br/><a href=\"https://www.street-one.de/All-Styles/Roecke-Kleider/Kleider/Sommerkleider/Kleid-mit-Volantsaum-hot-coral.html\">A14049810947</a></br>Kleid mit Volantsaum - hot coral</td><td><img src=\"https://images.street-one.de//z1/4057515325841_1_m_z1.jpg\"  width=\"130\"><br/><a href=\"https://www.street-one.de/All-Styles/Roecke-Kleider/Kleider/Festliche-Kleider/Chiffonkleid-mit-V-Neck-big-red.html\">A14051310979</a></br>Chiffonkleid mit V-Neck - big red</td><td><img src=\"https://images.street-one.de//z1/4057515648490_1_m_z1.jpg\"  width=\"130\"><br/><a href=\"https://www.street-one.de/All-Styles/Roecke-Kleider/Kleider/V-Neck-Jersey-Streifen-Kleid-lucky-peach-streetone.html\">A14054730946</a></br>V-Neck Jersey Streifen Kleid - lucky peach</td><td><img src=\"https://images.street-one.de//z1/4057515326206_1_m_z1.jpg\"  width=\"130\"><br/><a href=\"https://www.street-one.de/All-Styles/Roecke-Kleider/Kleider/Sommerkleider/Romantisches-Chiffonkleid-Black.html\">A14051830001</a></br>Romantisches Chiffonkleid - Black</td><td><img src=\"https://images.street-one.de//z1/4057515313312_1_m_z1.jpg\"  width=\"130\"><br/><a href=\"https://www.street-one.de/All-Styles/Roecke-Kleider/Kleider/Sommerkleider/Kleid-mit-geknuepfter-Passe-Black.html\">A14050210001</a></br>Kleid mit geknüpfter Passe - Black</td><td><img src=\"http://www.lackuna.com/wp-content/themes/fearless/images/missing-image-640x360.png\"  width=\"130\"><br/><a href=\"\"></a></br>UNKNOWN</td></tr><tr><th style=\"text-align:center\"><img src=\"https://images.street-one.de//z1/4057515272121_1_m_z1.jpg\" width=\"130\"><br/><a href=\"https://www.street-one.de/All-Styles/Roecke-Kleider/Kleider/Sommerkleider/Kleid-mit-Volantsaum-hot-coral.html\">A14049810947</a></br>Kleid mit Volantsaum - hot coral</th><td style=\"background-color:black;\"></td><td><img src=\"https://images.street-one.de//z1/4057515313374_1_m_z1.jpg\"  width=\"130\"><br/><a href=\"https://www.street-one.de/All-Styles/Roecke-Kleider/Kleider/Sommerkleider/Kleid-mit-Volantsaum-night-blue.html\">A14049810109</a></br>Kleid mit Volantsaum - night blue</td><td><img src=\"https://images.street-one.de//z1/4057515260005_1_m_z1.jpg\"  width=\"130\"><br/><a href=\"https://www.street-one.de/All-Styles/T-Shirts-Tops/Shirtjacken/Open-Style-Shirtjacke-hot-coral.html\">A31121310947</a></br>Open Style Shirtjacke - hot coral</td><td><img src=\"https://images.street-one.de//z1/4057515326206_1_m_z1.jpg\"  width=\"130\"><br/><a href=\"https://www.street-one.de/All-Styles/Roecke-Kleider/Kleider/Sommerkleider/Romantisches-Chiffonkleid-Black.html\">A14051830001</a></br>Romantisches Chiffonkleid - Black</td><td><img src=\"http://www.lackuna.com/wp-content/themes/fearless/images/missing-image-640x360.png\"  width=\"130\"><br/><a href=\"\"></a></br>UNKNOWN</td><td><img src=\"https://images.street-one.de//z1/4057515281628_1_m_z1.jpg\"  width=\"130\"><br/><a href=\"https://www.street-one.de/All-Styles/Hosen/7-8-Hosen/Softe-7-8-Print-Hose-Lina-Black.html\">A37083120001</a></br>Softe 7/8-Print Hose Lina - Black</td><td><img src=\"https://images.street-one.de//z1/4057515315811_1_m_z1.jpg\"  width=\"130\"><br/><a href=\"https://www.street-one.de/All-Styles/T-Shirts-Tops/Tops/Strukturmix-Top-mit-Baendchen-Black.html\">A31123110001</a></br>Strukturmix Top mit Bändchen - Black</td></tr></table>"
      ],
      "text/plain": [
       "<IPython.core.display.HTML object>"
      ]
     },
     "metadata": {},
     "output_type": "display_data"
    }
   ],
   "source": [
    "gr = random.choice(grouped_by_last_item)\n",
    "s1 = random.choice(gr)\n",
    "s2 = random.choice(gr)\n",
    "display_session(s1)"
   ]
  },
  {
   "cell_type": "code",
   "execution_count": 28,
   "metadata": {},
   "outputs": [
    {
     "data": {
      "text/html": [
       "<table><tr><th style=\"text-align:center\"><img src=\"https://images.street-one.de//z1/4057515650295_1_m_z1.jpg\" width=\"130\"><br/><a href=\"https://www.street-one.de/All-Styles/T-Shirts-Tops/Tops/V-Neck-Print-Top-Sinja-Black-streetone.html\">A31155530001</a></br>V-Neck Print Top Sinja - Black</th><td style=\"background-color:black;\"></td><td><img src=\"https://images.street-one.de//z1/4057515275092_1_m_z1.jpg\"  width=\"130\"><br/><a href=\"https://www.street-one.de/All-Styles/T-Shirts-Tops/Tops/V-Neck-Print-Top-Sinja-lapis-blue.html\">A31123830945</a></br>V-Neck Print Top Sinja - lapis blue</td><td><img src=\"https://images.street-one.de//z1/4057515306345_1_m_z1.jpg\"  width=\"130\"><br/><a href=\"https://www.street-one.de/All-Styles/T-Shirts-Tops/Tops/V-Neck-Print-Top-Sinja-sunny-violet.html\">A31123830912</a></br>V-Neck Print Top Sinja - sunny violet</td><td><img src=\"https://images.street-one.de//z1/4057515336458_1_m_z1.jpg\"  width=\"130\"><br/><a href=\"https://www.street-one.de/All-Styles/T-Shirts-Tops/Tops/Longtops/Glitzerndes-V-Neck-Longtop-cyber-grey-melange.html\">A31131110767</a></br>Glitzerndes V-Neck Longtop - cyber grey melange</td><td><img src=\"https://images.street-one.de//z1/4057515307168_1_m_z1.jpg\"  width=\"130\"><br/><a href=\"https://www.street-one.de/All-Styles/T-Shirts-Tops/T-Shirts/Rundhalsshirts/Printshirt-mit-Schleife-lucky-peach.html\">A31124530946</a></br>Printshirt mit Schleife - lucky peach</td><td><img src=\"http://www.lackuna.com/wp-content/themes/fearless/images/missing-image-640x360.png\"  width=\"130\"><br/><a href=\"\"></a></br>UNKNOWN</td><td><img src=\"https://images.street-one.de//z1/4057515704509_1_m_z1.jpg\"  width=\"130\"><br/><a href=\"https://www.street-one.de/All-Styles/Pullover-Strickjacken/Strickjacken/Cardigans/Cardigan-mit-rundem-Saum-cyber-grey-melange.html\">A25256410767</a></br>Cardigan mit rundem Saum - cyber grey melange</td></tr><tr><th style=\"text-align:center\"><img src=\"https://images.street-one.de//z1/4057515266861_1_m_z1.jpg\" width=\"130\"><br/><a href=\"https://www.street-one.de/All-Styles/Blusen/AErmellose-Blusen/Rundhalsblusen/Blusentop-im-Ikat-Print-White.html\">A34052920000</a></br>Blusentop im Ikat-Print - White</th><td style=\"background-color:black;\"></td><td><img src=\"https://images.street-one.de//z1/4057515298718_1_m_z1.jpg\"  width=\"130\"><br/><a href=\"https://www.street-one.de/All-Styles/Blusen/AErmellose-Blusen/Rundhalsblusen/Blusentop-im-Ikat-Print-sunny-violet.html\">A34052920912</a></br>Blusentop im Ikat-Print - sunny violet</td><td><img src=\"https://images.street-one.de//z1/4057515298725_1_m_z1.jpg\"  width=\"130\"><br/><a href=\"https://www.street-one.de/All-Styles/Blusen/AErmellose-Blusen/Rundhalsblusen/Blusentop-im-Ikat-Print-lapis-blue.html\">A34052920945</a></br>Blusentop im Ikat-Print - lapis blue</td><td><img src=\"https://images.street-one.de//z1/4057515267677_1_m_z1.jpg\"  width=\"130\"><br/><a href=\"https://www.street-one.de/All-Styles/Blusen/Kurzarm-Blusen/Rundhalsblusen/Rueckenausschnitt-Bluse-lucky-peach.html\">A34053210946</a></br>Rückenausschnitt Bluse - lucky peach</td><td><img src=\"https://images.street-one.de//z1/4057515267042_1_m_z1.jpg\"  width=\"130\"><br/><a href=\"https://www.street-one.de/All-Styles/Blusen/AErmellose-Blusen/Blusentop-mit-Kragenruesche-hot-coral.html\">A34053010947</a></br>Blusentop mit Kragenrüsche - hot coral</td><td><img src=\"https://images.street-one.de//z1/4057515648209_1_m_z1.jpg\"  width=\"130\"><br/><a href=\"https://www.street-one.de/All-Styles/Blusen/Kurzarm-Blusen/Rundhalsblusen/Kurzarm-Printbluse-Vivia-night-blue.html\">A34066010109</a></br>Kurzarm Bluse Vivia - night blue</td><td><img src=\"https://images.street-one.de//z1/4057515312094_1_m_z1.jpg\"  width=\"130\"><br/><a href=\"https://www.street-one.de/All-Styles/Blusen/Kurzarm-Blusen/Rundhalsblusen/Rueckenausschnitt-Bluse-White.html\">A34053210000</a></br>Rückenausschnitt Bluse - White</td></tr><tr><th style=\"text-align:center\"><img src=\"https://images.street-one.de//z1/4057515296967_1_m_z1.jpg\" width=\"130\"><br/><a href=\"https://www.street-one.de/All-Styles/Blusen/AErmellose-Blusen/Rundhalsblusen/Federprint-Blusentop-hot-coral.html\">A34052820947</a></br>Federprint Blusentop - hot coral</th><td style=\"background-color:black;\"></td><td><img src=\"http://www.lackuna.com/wp-content/themes/fearless/images/missing-image-640x360.png\"  width=\"130\"><br/><a href=\"\"></a></br>UNKNOWN</td><td><img src=\"http://www.lackuna.com/wp-content/themes/fearless/images/missing-image-640x360.png\"  width=\"130\"><br/><a href=\"\"></a></br>UNKNOWN</td><td><img src=\"https://images.street-one.de//z1/4057515380031_1_m_z1.jpg\"  width=\"130\"><br/><a href=\"https://www.street-one.de/All-Styles/T-Shirts-Tops/Shirtjacken/Leichte-Longjacke-mit-Kapuze-off-white.html\">A31131510108</a></br>Leichte Longjacke mit Kapuze - off white</td><td><img src=\"https://images.street-one.de//z1/4057515311608_1_m_z1.jpg\"  width=\"130\"><br/><a href=\"https://www.street-one.de/All-Styles/Blusen/3-4-Arm-Blusen/Carmen-Bluse-mit-Knoepfen-lucky-peach.html\">A34052710946</a></br>Carmen Bluse mit Knöpfen - lucky peach</td><td><img src=\"http://www.lackuna.com/wp-content/themes/fearless/images/missing-image-640x360.png\"  width=\"130\"><br/><a href=\"\"></a></br>UNKNOWN</td><td><img src=\"https://images.street-one.de//z1/4057515063972_1_m_z1.jpg\"  width=\"130\"><br/><a href=\"https://www.street-one.de/All-Styles/T-Shirts-Tops/T-Shirts/V-Shirt-mit-Armschlitz-Naja-night-blue.html\">A31098910109</a></br>V-Shirt mit Armschlitz Naja - night blue</td></tr><tr><th style=\"text-align:center\"><img src=\"https://images.street-one.de//z1/4057515279748_1_m_z1.jpg\" width=\"130\"><br/><a href=\"https://www.street-one.de/All-Styles/Roecke-Kleider/Roecke/Sommerroecke/Gewebter-Basic-Rock-Gisou-sunny-violet.html\">A36013430912</a></br>Gewebter Basic Rock Gisou - sunny violet</th><td style=\"background-color:black;\"></td><td><img src=\"https://images.street-one.de//z1/4057515282212_1_m_z1.jpg\"  width=\"130\"><br/><a href=\"https://www.street-one.de/All-Styles/Hosen/7-8-Hosen/Loose-Fit-7-8-Printhose-Mira-sunny-violet.html\">A37083330912</a></br>Loose Fit 7/8-Printhose Mira - sunny violet</td><td><img src=\"https://images.street-one.de//z1/4057515308615_1_m_z1.jpg\"  width=\"130\"><br/><a href=\"https://www.street-one.de/All-Styles/Roecke-Kleider/Roecke/Sommerroecke/Jerseyrock-mit-Falten-Louna-lapis-blue.html\">A36013210945</a></br>Jerseyrock mit Falten Louna - lapis blue</td><td><img src=\"https://images.street-one.de//z1/4057515280041_1_m_z1.jpg\"  width=\"130\"><br/><a href=\"https://www.street-one.de/All-Styles/Roecke-Kleider/Roecke/Jerseyroecke/Softer-Jogg-Style-Rock-Happy-Black.html\">A36013720001</a></br>Softer Jogg Style Rock Happy - Black</td><td><img src=\"https://images.street-one.de//z1/4057515756126_1_m_z1.jpg\"  width=\"130\"><br/><a href=\"https://www.street-one.de/All-Styles/Roecke-Kleider/Roecke/Spitzenroecke/Rock-aus-gecoateter-Spitze-Black.html\">A36019310001</a></br>Rock aus gecoateter Spitze - Black</td><td><img src=\"https://images.street-one.de//z1/4057515638170_1_m_z1.jpg\"  width=\"130\"><br/><a href=\"https://www.street-one.de/All-Styles/Roecke-Kleider/Roecke/Maxiroecke/Gestreifter-Jerseyrock-Peppa-black.html\">A36016820001</a></br>Gestreifter Jerseyrock Peppa - Black</td><td><img src=\"https://images.street-one.de//z1/4057515593677_1_m_z1.jpg\"  width=\"130\"><br/><a href=\"https://www.street-one.de/All-Styles/Hosen/Lange-Hosen/Schmale-Hosen-slim/Vintage-Bikerlook-Hose-Sally-Black.html\">A37101310001</a></br>Vintage Bikerlook Hose Sally - black</td></tr><tr><th style=\"text-align:center\"><img src=\"https://images.street-one.de//z1/4057515272121_1_m_z1.jpg\" width=\"130\"><br/><a href=\"https://www.street-one.de/All-Styles/Roecke-Kleider/Kleider/Sommerkleider/Kleid-mit-Volantsaum-hot-coral.html\">A14049810947</a></br>Kleid mit Volantsaum - hot coral</th><td style=\"background-color:black;\"></td><td><img src=\"https://images.street-one.de//z1/4057515313374_1_m_z1.jpg\"  width=\"130\"><br/><a href=\"https://www.street-one.de/All-Styles/Roecke-Kleider/Kleider/Sommerkleider/Kleid-mit-Volantsaum-night-blue.html\">A14049810109</a></br>Kleid mit Volantsaum - night blue</td><td><img src=\"https://images.street-one.de//z1/4057515260005_1_m_z1.jpg\"  width=\"130\"><br/><a href=\"https://www.street-one.de/All-Styles/T-Shirts-Tops/Shirtjacken/Open-Style-Shirtjacke-hot-coral.html\">A31121310947</a></br>Open Style Shirtjacke - hot coral</td><td><img src=\"https://images.street-one.de//z1/4057515326206_1_m_z1.jpg\"  width=\"130\"><br/><a href=\"https://www.street-one.de/All-Styles/Roecke-Kleider/Kleider/Sommerkleider/Romantisches-Chiffonkleid-Black.html\">A14051830001</a></br>Romantisches Chiffonkleid - Black</td><td><img src=\"http://www.lackuna.com/wp-content/themes/fearless/images/missing-image-640x360.png\"  width=\"130\"><br/><a href=\"\"></a></br>UNKNOWN</td><td><img src=\"https://images.street-one.de//z1/4057515281628_1_m_z1.jpg\"  width=\"130\"><br/><a href=\"https://www.street-one.de/All-Styles/Hosen/7-8-Hosen/Softe-7-8-Print-Hose-Lina-Black.html\">A37083120001</a></br>Softe 7/8-Print Hose Lina - Black</td><td><img src=\"https://images.street-one.de//z1/4057515315811_1_m_z1.jpg\"  width=\"130\"><br/><a href=\"https://www.street-one.de/All-Styles/T-Shirts-Tops/Tops/Strukturmix-Top-mit-Baendchen-Black.html\">A31123110001</a></br>Strukturmix Top mit Bändchen - Black</td></tr></table>"
      ],
      "text/plain": [
       "<IPython.core.display.HTML object>"
      ]
     },
     "metadata": {},
     "output_type": "display_data"
    }
   ],
   "source": [
    "display_session(s2)"
   ]
  },
  {
   "cell_type": "code",
   "execution_count": null,
   "metadata": {},
   "outputs": [],
   "source": []
  }
 ],
 "metadata": {
  "kernelspec": {
   "display_name": "Python 3",
   "language": "python",
   "name": "python3"
  },
  "language_info": {
   "codemirror_mode": {
    "name": "ipython",
    "version": 3
   },
   "file_extension": ".py",
   "mimetype": "text/x-python",
   "name": "python",
   "nbconvert_exporter": "python",
   "pygments_lexer": "ipython3",
   "version": "3.5.4"
  }
 },
 "nbformat": 4,
 "nbformat_minor": 2
}
