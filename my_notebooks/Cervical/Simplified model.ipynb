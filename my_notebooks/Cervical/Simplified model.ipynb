{
 "cells": [
  {
   "cell_type": "code",
   "execution_count": null,
   "metadata": {},
   "outputs": [],
   "source": [
    "from keras.models import Sequential\n",
    "from keras.layers.core import Flatten, Dense, Dropout\n",
    "from keras.layers.normalization import BatchNormalization\n",
    "from keras.layers.convolutional import Conv2D, MaxPooling2D\n",
    "from keras.optimizers import Adam\n",
    "from keras.preprocessing import image"
   ]
  },
  {
   "cell_type": "code",
   "execution_count": null,
   "metadata": {},
   "outputs": [],
   "source": [
    "def ConvBlock(model, layers, filters):\n",
    "    for i in range(layers):\n",
    "        model.add(Conv2D(filters, (3, 3), activation='relu', padding='same'))\n",
    "    model.add(MaxPooling2D((2, 2), strides=(2, 2)))\n",
    "\n",
    "model = Sequential()\n",
    "model.add(BatchNormalization(input_shape=(480,640,3), axis=1))\n",
    "ConvBlock(model, 2, 64)\n",
    "ConvBlock(model, 2, 128)\n",
    "ConvBlock(model, 2, 256)\n",
    "ConvBlock(model, 3, 512)\n",
    "ConvBlock(model, 3, 1024)\n",
    "          \n",
    "model.add(Flatten())\n",
    "model.add(Dense(4000, activation='relu'))\n",
    "model.add(Dense(200, activation='relu'))\n",
    "model.add(Dense(3, activation='softmax'))\n",
    "\n",
    "model.compile(optimizer=Adam(lr=0.001),loss='categorical_crossentropy', metrics=['accuracy'])"
   ]
  },
  {
   "cell_type": "code",
   "execution_count": null,
   "metadata": {},
   "outputs": [],
   "source": [
    "model.summary()"
   ]
  },
  {
   "cell_type": "code",
   "execution_count": null,
   "metadata": {},
   "outputs": [],
   "source": [
    "\n",
    "train_batches_augmented = image.ImageDataGenerator(\n",
    "    rotation_range=20,\n",
    "    width_shift_range=0.1,\n",
    "    height_shift_range=0.1,\n",
    "    shear_range=0.05,\n",
    "    zoom_range=0.1,\n",
    "    horizontal_flip=True\n",
    ").flow_from_directory(\n",
    "    '/data/cervical/train', \n",
    "    target_size=(480, 640),\n",
    "    class_mode='categorical', \n",
    "    shuffle=True, \n",
    "    batch_size=16\n",
    ")\n",
    "\n",
    "sample_valid_batches = image.ImageDataGenerator().flow_from_directory(\n",
    "    '/data/cervical/valid', \n",
    "    target_size=(480, 640),\n",
    "    class_mode='categorical', \n",
    "    shuffle=True, \n",
    "    batch_size=8\n",
    ")"
   ]
  },
  {
   "cell_type": "code",
   "execution_count": null,
   "metadata": {},
   "outputs": [],
   "source": [
    "model.fit_generator(train_batches_augmented, 100,\n",
    "                 epochs=3, \n",
    "                 validation_data=sample_valid_batches,\n",
    "                 validation_steps=19\n",
    "                )"
   ]
  },
  {
   "cell_type": "code",
   "execution_count": null,
   "metadata": {
    "collapsed": true
   },
   "outputs": [],
   "source": []
  },
  {
   "cell_type": "code",
   "execution_count": null,
   "metadata": {
    "collapsed": true
   },
   "outputs": [],
   "source": []
  }
 ],
 "metadata": {
  "kernelspec": {
   "display_name": "Python 3",
   "language": "python",
   "name": "python3"
  },
  "language_info": {
   "codemirror_mode": {
    "name": "ipython",
    "version": 3
   },
   "file_extension": ".py",
   "mimetype": "text/x-python",
   "name": "python",
   "nbconvert_exporter": "python",
   "pygments_lexer": "ipython3",
   "version": "3.5.3"
  }
 },
 "nbformat": 4,
 "nbformat_minor": 2
}
