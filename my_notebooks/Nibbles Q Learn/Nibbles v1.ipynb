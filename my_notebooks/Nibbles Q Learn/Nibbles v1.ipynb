{
 "cells": [
  {
   "cell_type": "code",
   "execution_count": 13,
   "metadata": {
    "collapsed": true
   },
   "outputs": [],
   "source": [
    "from matplotlib import pyplot as plt\n",
    "from scipy import signal\n",
    "import numpy as np\n",
    "import random\n",
    "%matplotlib inline"
   ]
  },
  {
   "cell_type": "code",
   "execution_count": 31,
   "metadata": {
    "collapsed": true
   },
   "outputs": [],
   "source": [
    "shape=(20,30)"
   ]
  },
  {
   "cell_type": "code",
   "execution_count": 70,
   "metadata": {},
   "outputs": [],
   "source": [
    "class Nibbles:\n",
    "    def __init__(self, shape):\n",
    "        self.shape = shape\n",
    "        self.reset()\n",
    "        \n",
    "    def reset(self):\n",
    "        self.last_player = 1\n",
    "        \n",
    "        self.head = (int(shape[0]/2), int(shape[1]/2))\n",
    "        self.tail = [(int(shape[0]/2), int(shape[1]/2)), (int(shape[0]/2), int(shape[1]/2)-1)]\n",
    "        self.direction = (0, 1)\n",
    "        \n",
    "        self.board = np.zeros(self.shape + (3,))\n",
    "        self.build_walls()\n",
    "        self.draw_tail()\n",
    "        \n",
    "    def draw_tail(self):\n",
    "        self.board[:,:,1] = np.zeros(self.shape)\n",
    "        for pixel in self.tail:\n",
    "            self.board[:,:,1][pixel] = 1\n",
    "        \n",
    "    def build_walls(self):\n",
    "        self.board[0,:,0] = 1\n",
    "        self.board[-1,:,0] = 1\n",
    "        self.board[:,0,0] = 1\n",
    "        self.board[:,-1,0] = 1\n",
    "        \n",
    "        self.board[int(shape[0]/3),int(shape[1]/4):int(3*shape[1]/4),0] = 1\n",
    "        self.board[int(2*shape[0]/3),int(shape[1]/4):int(3*shape[1]/4),0] = 1 \n",
    "        \n",
    "        \n",
    "    def get_board(self):\n",
    "        return self.board\n",
    "    \n",
    "nibbles = Nibbles(shape)"
   ]
  },
  {
   "cell_type": "code",
   "execution_count": 71,
   "metadata": {},
   "outputs": [
    {
     "data": {
      "text/plain": [
       "<matplotlib.image.AxesImage at 0x7febdbe810b8>"
      ]
     },
     "execution_count": 71,
     "metadata": {},
     "output_type": "execute_result"
    },
    {
     "data": {
      "image/png": "[encoded data removed]",
      "text/plain": [
       "<matplotlib.figure.Figure at 0x7febdbeb60f0>"
      ]
     },
     "metadata": {},
     "output_type": "display_data"
    }
   ],
   "source": [
    "plt.imshow(nibbles.get_board(), cmap='gray')"
   ]
  },
  {
   "cell_type": "code",
   "execution_count": 41,
   "metadata": {},
   "outputs": [
    {
     "data": {
      "text/plain": [
       "(20, 30, 3)"
      ]
     },
     "execution_count": 41,
     "metadata": {},
     "output_type": "execute_result"
    }
   ],
   "source": [
    "np.zeros(shape + (3,)).shape"
   ]
  },
  {
   "cell_type": "code",
   "execution_count": null,
   "metadata": {
    "collapsed": true
   },
   "outputs": [],
   "source": []
  }
 ],
 "metadata": {
  "kernelspec": {
   "display_name": "Python 3",
   "language": "python",
   "name": "python3"
  },
  "language_info": {
   "codemirror_mode": {
    "name": "ipython",
    "version": 3
   },
   "file_extension": ".py",
   "mimetype": "text/x-python",
   "name": "python",
   "nbconvert_exporter": "python",
   "pygments_lexer": "ipython3",
   "version": "3.5.3"
  }
 },
 "nbformat": 4,
 "nbformat_minor": 2
}
