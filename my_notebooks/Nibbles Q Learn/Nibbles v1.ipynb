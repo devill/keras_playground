{
 "cells": [
  {
   "cell_type": "code",
   "execution_count": 1,
   "metadata": {
    "collapsed": true
   },
   "outputs": [],
   "source": [
    "from matplotlib import pyplot as plt\n",
    "from scipy import signal\n",
    "import numpy as np\n",
    "import random\n",
    "%matplotlib inline"
   ]
  },
  {
   "cell_type": "code",
   "execution_count": 2,
   "metadata": {
    "collapsed": true
   },
   "outputs": [],
   "source": [
    "shape=(20,30)"
   ]
  },
  {
   "cell_type": "code",
   "execution_count": 25,
   "metadata": {
    "collapsed": true
   },
   "outputs": [],
   "source": [
    "class Nibbles:\n",
    "    def __init__(self, shape):\n",
    "        self.shape = shape\n",
    "        self.radius = None\n",
    "        self.reset()\n",
    "        \n",
    "    def reset(self):\n",
    "        self.head = (int(shape[0]/2), int(shape[1]/2))\n",
    "        self.tail = [(int(shape[0]/2), int(shape[1]/2)-1), (int(shape[0]/2), int(shape[1]/2))]\n",
    "        self.direction = (0, 1)\n",
    "        self.grow = 0\n",
    "        \n",
    "        self.board = np.zeros(self.shape + (3,))\n",
    "        self.build_walls()\n",
    "        self.draw_tail()\n",
    "        self.generate_food()\n",
    "        \n",
    "    def set_food_radius(self, radius):\n",
    "        self.radius = radius\n",
    "        \n",
    "    def generate_food(self):\n",
    "        self.board[:,:,2] = np.zeros(self.shape)\n",
    "        while True:\n",
    "            if self.radius:\n",
    "                self.food = (self.head[0] + random.randint(-radius,radius), self.head[1] + random.randint(-radius, radius))\n",
    "            else:\n",
    "                self.food = (random.randint(0,shape[0]-1), random.randint(0,shape[1]-1))\n",
    "                \n",
    "            if self.valid_index(self.food) and np.amax(self.board, axis=2)[self.food] == 0:\n",
    "                self.board[:,:,2][self.food] = 1\n",
    "                return\n",
    "            \n",
    "    def valid_index(self, index):\n",
    "        return index[0] >= 0 and index[0] < self.shape[0] and index[1] >= 0 and index[1] < self.shape[1]\n",
    "        \n",
    "    def draw_tail(self):\n",
    "        self.board[:,:,1] = np.zeros(self.shape)\n",
    "        for pixel in self.tail:\n",
    "            self.board[:,:,1][pixel] = 0.5\n",
    "        \n",
    "        self.board[:,:,1][self.tail[-1]] = 1\n",
    "        \n",
    "    def build_walls(self):\n",
    "        self.board[0,:,0] = 1\n",
    "        self.board[-1,:,0] = 1\n",
    "        self.board[:,0,0] = 1\n",
    "        self.board[:,-1,0] = 1\n",
    "        \n",
    "        #self.board[int(shape[0]/3),int(shape[1]/4):int(3*shape[1]/4),0] = 1\n",
    "        #self.board[int(2*shape[0]/3),int(shape[1]/4):int(3*shape[1]/4),0] = 1 \n",
    "    \n",
    "    def list_actions(self):\n",
    "        return [(0,1),(1,0),(0,-1),(-1,0)]\n",
    "    \n",
    "    def next(self, direction):\n",
    "        if(not np.any(np.array(direction) + np.array(self.direction))):\n",
    "            return [0, False]\n",
    "        \n",
    "        self.direction = direction\n",
    "            \n",
    "        self.head = tuple(np.array(self.head) + np.array(self.direction))\n",
    "        \n",
    "        revard = 1\n",
    "        game_over = False\n",
    "        \n",
    "        if self.head == self.food: \n",
    "            revard += 1000\n",
    "            self.grow = 5\n",
    "            self.generate_food()\n",
    "        \n",
    "        if self.board[:,:,0][self.head] > 0:\n",
    "            game_over = True\n",
    "            revard = -1000\n",
    "            \n",
    "        if self.board[:,:,1][self.head] > 0:\n",
    "            game_over = True\n",
    "            revard = -1000\n",
    "        \n",
    "        if self.grow > 0:\n",
    "            self.grow -= 1\n",
    "        else:\n",
    "            self.tail.pop(0)\n",
    "            \n",
    "        self.tail.append(self.head)\n",
    "        self.draw_tail()\n",
    "        \n",
    "        return [revard, game_over]\n",
    "        \n",
    "    def get_board(self):\n",
    "        return self.board\n",
    "    \n"
   ]
  },
  {
   "cell_type": "code",
   "execution_count": 4,
   "metadata": {},
   "outputs": [
    {
     "data": {
      "text/html": [
       "\n",
       "\n",
       "<div id='display_div'></div>\n",
       "<button onclick='step(\"(0,-1)\")'>🡸</button>\n",
       "<button onclick='step(\"(-1,0)\")'>🡹</button>\n",
       "<button onclick='step(\"(1,0)\")'>🡻</button>\n",
       "<button onclick='step(\"(0,1)\")'>🡺</button>\n",
       "\n",
       "<script type=\"text/Javascript\">\n",
       "    var kernel = IPython.notebook.kernel;\n",
       "    \n",
       "    function display_state(out) {\n",
       "        document.getElementById('display_div').innerHTML = '<img src=\"data:image/png;base64,'+out.content.data['image/png']+'\">'\n",
       "    }\n",
       "    \n",
       "    function step(direction) {\n",
       "        kernel.execute('next('+direction+')');\n",
       "        draw()\n",
       "    }\n",
       "    \n",
       "    function draw() {    \n",
       "        kernel.execute('plt.imshow(nibbles.get_board())', {\"iopub\" : {\"output\":display_state}});\n",
       "    }\n",
       "    \n",
       "    draw()\n",
       "</script>\n"
      ],
      "text/plain": [
       "<IPython.core.display.HTML object>"
      ]
     },
     "metadata": {},
     "output_type": "display_data"
    }
   ],
   "source": [
    "from IPython.core.display import display as core_display\n",
    "from IPython.core.display import HTML \n",
    "\n",
    "def next(direction):\n",
    "    revard, game_over = nibbles.next(direction)\n",
    "    if game_over:\n",
    "        nibbles.reset()\n",
    "\n",
    "nibbles = Nibbles(shape)\n",
    "\n",
    "html = \"\"\"\n",
    "\n",
    "<div id='display_div'></div>\n",
    "<button onclick='step(\"(0,-1)\")'>🡸</button>\n",
    "<button onclick='step(\"(-1,0)\")'>🡹</button>\n",
    "<button onclick='step(\"(1,0)\")'>🡻</button>\n",
    "<button onclick='step(\"(0,1)\")'>🡺</button>\n",
    "\n",
    "<script type=\"text/Javascript\">\n",
    "    var kernel = IPython.notebook.kernel;\n",
    "    \n",
    "    function display_state(out) {\n",
    "        document.getElementById('display_div').innerHTML = '<img src=\"data:image/png;base64,'+out.content.data['image/png']+'\">'\n",
    "    }\n",
    "    \n",
    "    function step(direction) {\n",
    "        kernel.execute('next('+direction+')');\n",
    "        draw()\n",
    "    }\n",
    "    \n",
    "    function draw() {    \n",
    "        kernel.execute('plt.imshow(nibbles.get_board())', {\"iopub\" : {\"output\":display_state}});\n",
    "    }\n",
    "    \n",
    "    draw()\n",
    "</script>\n",
    "\"\"\"\n",
    "core_display(HTML(html))"
   ]
  },
  {
   "cell_type": "markdown",
   "metadata": {
    "collapsed": true
   },
   "source": [
    "# Deep Q Learn"
   ]
  },
  {
   "cell_type": "code",
   "execution_count": 5,
   "metadata": {},
   "outputs": [
    {
     "name": "stderr",
     "output_type": "stream",
     "text": [
      "Using TensorFlow backend.\n"
     ]
    }
   ],
   "source": [
    "from keras.models import Sequential\n",
    "from keras.layers.core import Dropout\n",
    "from keras.layers.convolutional import Conv2D\n",
    "from keras.layers.normalization import BatchNormalization\n",
    "from keras.optimizers import Nadam\n",
    "from keras.layers.core import Flatten, Dense\n",
    "\n",
    "from IPython import display"
   ]
  },
  {
   "cell_type": "code",
   "execution_count": 6,
   "metadata": {
    "collapsed": true
   },
   "outputs": [],
   "source": [
    "hidden_layer_count = 20"
   ]
  },
  {
   "cell_type": "code",
   "execution_count": 7,
   "metadata": {
    "collapsed": true
   },
   "outputs": [],
   "source": [
    "model = Sequential([\n",
    "    Conv2D(hidden_layer_count, (3,3), padding='same', activation='relu', input_shape=nibbles.get_board().shape),\n",
    "    Conv2D(hidden_layer_count, (3,3), padding='same', activation='relu'),\n",
    "    Conv2D(hidden_layer_count, (5,5), padding='same', activation='relu', strides=(2,2)),\n",
    "    BatchNormalization(axis=3),\n",
    "    Conv2D(hidden_layer_count*2, (3,3), padding='same', activation='relu'),\n",
    "    Conv2D(hidden_layer_count*2, (3,3), padding='same', activation='relu'),\n",
    "    Conv2D(hidden_layer_count*2, (5,5), padding='same', activation='relu', strides=(2,2)),\n",
    "    BatchNormalization(axis=3),\n",
    "    Conv2D(hidden_layer_count*4, (3,3), padding='same', activation='relu'),\n",
    "    Conv2D(hidden_layer_count*4, (3,3), padding='same', activation='relu'),\n",
    "    Conv2D(hidden_layer_count*4, (5,5), padding='same', activation='relu', strides=(2,2)),\n",
    "    BatchNormalization(axis=3),\n",
    "    Flatten(),\n",
    "    Dense(hidden_layer_count*6, activation='relu'),\n",
    "    Dense(hidden_layer_count*3, activation='relu'),\n",
    "    Dense(hidden_layer_count, activation='relu'),\n",
    "    Dense(4)\n",
    "])\n",
    "\n",
    "opt = Nadam(lr=1e-3)\n",
    "model.compile(optimizer=opt, loss='mean_squared_error')"
   ]
  },
  {
   "cell_type": "code",
   "execution_count": 8,
   "metadata": {
    "collapsed": true
   },
   "outputs": [],
   "source": [
    "experiences = []"
   ]
  },
  {
   "cell_type": "code",
   "execution_count": 26,
   "metadata": {
    "collapsed": true
   },
   "outputs": [],
   "source": [
    "epsilon = 0.3\n",
    "discount = 0.90\n",
    "radius = 1"
   ]
  },
  {
   "cell_type": "code",
   "execution_count": 28,
   "metadata": {},
   "outputs": [
    {
     "data": {
      "image/png": "[encoded data removed]",
      "text/plain": [
       "<matplotlib.figure.Figure at 0x7fb820d22e80>"
      ]
     },
     "metadata": {},
     "output_type": "display_data"
    },
    {
     "name": "stdout",
     "output_type": "stream",
     "text": [
      "12 24 -981 16223.5 ( 26470 ) 1 0.3\n"
     ]
    },
    {
     "ename": "KeyboardInterrupt",
     "evalue": "",
     "output_type": "error",
     "traceback": [
      "\u001b[0;31m---------------------------------------------------------------------------\u001b[0m",
      "\u001b[0;31mKeyboardInterrupt\u001b[0m                         Traceback (most recent call last)",
      "\u001b[0;32m<ipython-input-28-b88ac88c927b>\u001b[0m in \u001b[0;36m<module>\u001b[0;34m()\u001b[0m\n\u001b[1;32m     11\u001b[0m             \u001b[0maction_index\u001b[0m \u001b[0;34m=\u001b[0m \u001b[0mrandom\u001b[0m\u001b[0;34m.\u001b[0m\u001b[0mrandint\u001b[0m\u001b[0;34m(\u001b[0m\u001b[0;36m0\u001b[0m\u001b[0;34m,\u001b[0m\u001b[0;36m3\u001b[0m\u001b[0;34m)\u001b[0m\u001b[0;34m\u001b[0m\u001b[0m\n\u001b[1;32m     12\u001b[0m         \u001b[0;32melse\u001b[0m\u001b[0;34m:\u001b[0m\u001b[0;34m\u001b[0m\u001b[0m\n\u001b[0;32m---> 13\u001b[0;31m             \u001b[0mq\u001b[0m \u001b[0;34m=\u001b[0m \u001b[0mnp\u001b[0m\u001b[0;34m.\u001b[0m\u001b[0msqueeze\u001b[0m\u001b[0;34m(\u001b[0m\u001b[0mmodel\u001b[0m\u001b[0;34m.\u001b[0m\u001b[0mpredict\u001b[0m\u001b[0;34m(\u001b[0m\u001b[0mnp\u001b[0m\u001b[0;34m.\u001b[0m\u001b[0mexpand_dims\u001b[0m\u001b[0;34m(\u001b[0m\u001b[0mnibbles\u001b[0m\u001b[0;34m.\u001b[0m\u001b[0mget_board\u001b[0m\u001b[0;34m(\u001b[0m\u001b[0;34m)\u001b[0m\u001b[0;34m,\u001b[0m \u001b[0maxis\u001b[0m\u001b[0;34m=\u001b[0m\u001b[0;36m0\u001b[0m\u001b[0;34m)\u001b[0m\u001b[0;34m)\u001b[0m\u001b[0;34m)\u001b[0m\u001b[0;34m\u001b[0m\u001b[0m\n\u001b[0m\u001b[1;32m     14\u001b[0m             \u001b[0maction_index\u001b[0m \u001b[0;34m=\u001b[0m \u001b[0msorted\u001b[0m\u001b[0;34m(\u001b[0m\u001b[0mrange\u001b[0m\u001b[0;34m(\u001b[0m\u001b[0;36m4\u001b[0m\u001b[0;34m)\u001b[0m\u001b[0;34m,\u001b[0m \u001b[0mkey\u001b[0m\u001b[0;34m=\u001b[0m\u001b[0;32mlambda\u001b[0m \u001b[0mx\u001b[0m\u001b[0;34m:\u001b[0m \u001b[0mq\u001b[0m\u001b[0;34m[\u001b[0m\u001b[0mx\u001b[0m\u001b[0;34m]\u001b[0m\u001b[0;34m)\u001b[0m\u001b[0;34m[\u001b[0m\u001b[0;34m-\u001b[0m\u001b[0;36m1\u001b[0m\u001b[0;34m]\u001b[0m\u001b[0;34m\u001b[0m\u001b[0m\n\u001b[1;32m     15\u001b[0m \u001b[0;34m\u001b[0m\u001b[0m\n",
      "\u001b[0;32m/opt/conda/lib/python3.5/site-packages/keras/models.py\u001b[0m in \u001b[0;36mpredict\u001b[0;34m(self, x, batch_size, verbose)\u001b[0m\n\u001b[1;32m    914\u001b[0m         \u001b[0;32mif\u001b[0m \u001b[0mself\u001b[0m\u001b[0;34m.\u001b[0m\u001b[0mmodel\u001b[0m \u001b[0;32mis\u001b[0m \u001b[0;32mNone\u001b[0m\u001b[0;34m:\u001b[0m\u001b[0;34m\u001b[0m\u001b[0m\n\u001b[1;32m    915\u001b[0m             \u001b[0mself\u001b[0m\u001b[0;34m.\u001b[0m\u001b[0mbuild\u001b[0m\u001b[0;34m(\u001b[0m\u001b[0;34m)\u001b[0m\u001b[0;34m\u001b[0m\u001b[0m\n\u001b[0;32m--> 916\u001b[0;31m         \u001b[0;32mreturn\u001b[0m \u001b[0mself\u001b[0m\u001b[0;34m.\u001b[0m\u001b[0mmodel\u001b[0m\u001b[0;34m.\u001b[0m\u001b[0mpredict\u001b[0m\u001b[0;34m(\u001b[0m\u001b[0mx\u001b[0m\u001b[0;34m,\u001b[0m \u001b[0mbatch_size\u001b[0m\u001b[0;34m=\u001b[0m\u001b[0mbatch_size\u001b[0m\u001b[0;34m,\u001b[0m \u001b[0mverbose\u001b[0m\u001b[0;34m=\u001b[0m\u001b[0mverbose\u001b[0m\u001b[0;34m)\u001b[0m\u001b[0;34m\u001b[0m\u001b[0m\n\u001b[0m\u001b[1;32m    917\u001b[0m \u001b[0;34m\u001b[0m\u001b[0m\n\u001b[1;32m    918\u001b[0m     \u001b[0;32mdef\u001b[0m \u001b[0mpredict_on_batch\u001b[0m\u001b[0;34m(\u001b[0m\u001b[0mself\u001b[0m\u001b[0;34m,\u001b[0m \u001b[0mx\u001b[0m\u001b[0;34m)\u001b[0m\u001b[0;34m:\u001b[0m\u001b[0;34m\u001b[0m\u001b[0m\n",
      "\u001b[0;32m/opt/conda/lib/python3.5/site-packages/keras/engine/training.py\u001b[0m in \u001b[0;36mpredict\u001b[0;34m(self, x, batch_size, verbose)\u001b[0m\n\u001b[1;32m   1592\u001b[0m         \u001b[0mf\u001b[0m \u001b[0;34m=\u001b[0m \u001b[0mself\u001b[0m\u001b[0;34m.\u001b[0m\u001b[0mpredict_function\u001b[0m\u001b[0;34m\u001b[0m\u001b[0m\n\u001b[1;32m   1593\u001b[0m         return self._predict_loop(f, ins,\n\u001b[0;32m-> 1594\u001b[0;31m                                   batch_size=batch_size, verbose=verbose)\n\u001b[0m\u001b[1;32m   1595\u001b[0m \u001b[0;34m\u001b[0m\u001b[0m\n\u001b[1;32m   1596\u001b[0m     def train_on_batch(self, x, y,\n",
      "\u001b[0;32m/opt/conda/lib/python3.5/site-packages/keras/engine/training.py\u001b[0m in \u001b[0;36m_predict_loop\u001b[0;34m(self, f, ins, batch_size, verbose)\u001b[0m\n\u001b[1;32m   1216\u001b[0m                 \u001b[0mins_batch\u001b[0m \u001b[0;34m=\u001b[0m \u001b[0m_slice_arrays\u001b[0m\u001b[0;34m(\u001b[0m\u001b[0mins\u001b[0m\u001b[0;34m,\u001b[0m \u001b[0mbatch_ids\u001b[0m\u001b[0;34m)\u001b[0m\u001b[0;34m\u001b[0m\u001b[0m\n\u001b[1;32m   1217\u001b[0m \u001b[0;34m\u001b[0m\u001b[0m\n\u001b[0;32m-> 1218\u001b[0;31m             \u001b[0mbatch_outs\u001b[0m \u001b[0;34m=\u001b[0m \u001b[0mf\u001b[0m\u001b[0;34m(\u001b[0m\u001b[0mins_batch\u001b[0m\u001b[0;34m)\u001b[0m\u001b[0;34m\u001b[0m\u001b[0m\n\u001b[0m\u001b[1;32m   1219\u001b[0m             \u001b[0;32mif\u001b[0m \u001b[0;32mnot\u001b[0m \u001b[0misinstance\u001b[0m\u001b[0;34m(\u001b[0m\u001b[0mbatch_outs\u001b[0m\u001b[0;34m,\u001b[0m \u001b[0mlist\u001b[0m\u001b[0;34m)\u001b[0m\u001b[0;34m:\u001b[0m\u001b[0;34m\u001b[0m\u001b[0m\n\u001b[1;32m   1220\u001b[0m                 \u001b[0mbatch_outs\u001b[0m \u001b[0;34m=\u001b[0m \u001b[0;34m[\u001b[0m\u001b[0mbatch_outs\u001b[0m\u001b[0;34m]\u001b[0m\u001b[0;34m\u001b[0m\u001b[0m\n",
      "\u001b[0;32m/opt/conda/lib/python3.5/site-packages/keras/backend/tensorflow_backend.py\u001b[0m in \u001b[0;36m__call__\u001b[0;34m(self, inputs)\u001b[0m\n\u001b[1;32m   2267\u001b[0m         updated = session.run(self.outputs + [self.updates_op],\n\u001b[1;32m   2268\u001b[0m                               \u001b[0mfeed_dict\u001b[0m\u001b[0;34m=\u001b[0m\u001b[0mfeed_dict\u001b[0m\u001b[0;34m,\u001b[0m\u001b[0;34m\u001b[0m\u001b[0m\n\u001b[0;32m-> 2269\u001b[0;31m                               **self.session_kwargs)\n\u001b[0m\u001b[1;32m   2270\u001b[0m         \u001b[0;32mreturn\u001b[0m \u001b[0mupdated\u001b[0m\u001b[0;34m[\u001b[0m\u001b[0;34m:\u001b[0m\u001b[0mlen\u001b[0m\u001b[0;34m(\u001b[0m\u001b[0mself\u001b[0m\u001b[0;34m.\u001b[0m\u001b[0moutputs\u001b[0m\u001b[0;34m)\u001b[0m\u001b[0;34m]\u001b[0m\u001b[0;34m\u001b[0m\u001b[0m\n\u001b[1;32m   2271\u001b[0m \u001b[0;34m\u001b[0m\u001b[0m\n",
      "\u001b[0;32m/opt/conda/lib/python3.5/site-packages/tensorflow/python/client/session.py\u001b[0m in \u001b[0;36mrun\u001b[0;34m(self, fetches, feed_dict, options, run_metadata)\u001b[0m\n\u001b[1;32m    776\u001b[0m     \u001b[0;32mtry\u001b[0m\u001b[0;34m:\u001b[0m\u001b[0;34m\u001b[0m\u001b[0m\n\u001b[1;32m    777\u001b[0m       result = self._run(None, fetches, feed_dict, options_ptr,\n\u001b[0;32m--> 778\u001b[0;31m                          run_metadata_ptr)\n\u001b[0m\u001b[1;32m    779\u001b[0m       \u001b[0;32mif\u001b[0m \u001b[0mrun_metadata\u001b[0m\u001b[0;34m:\u001b[0m\u001b[0;34m\u001b[0m\u001b[0m\n\u001b[1;32m    780\u001b[0m         \u001b[0mproto_data\u001b[0m \u001b[0;34m=\u001b[0m \u001b[0mtf_session\u001b[0m\u001b[0;34m.\u001b[0m\u001b[0mTF_GetBuffer\u001b[0m\u001b[0;34m(\u001b[0m\u001b[0mrun_metadata_ptr\u001b[0m\u001b[0;34m)\u001b[0m\u001b[0;34m\u001b[0m\u001b[0m\n",
      "\u001b[0;32m/opt/conda/lib/python3.5/site-packages/tensorflow/python/client/session.py\u001b[0m in \u001b[0;36m_run\u001b[0;34m(self, handle, fetches, feed_dict, options, run_metadata)\u001b[0m\n\u001b[1;32m    980\u001b[0m     \u001b[0;32mif\u001b[0m \u001b[0mfinal_fetches\u001b[0m \u001b[0;32mor\u001b[0m \u001b[0mfinal_targets\u001b[0m\u001b[0;34m:\u001b[0m\u001b[0;34m\u001b[0m\u001b[0m\n\u001b[1;32m    981\u001b[0m       results = self._do_run(handle, final_targets, final_fetches,\n\u001b[0;32m--> 982\u001b[0;31m                              feed_dict_string, options, run_metadata)\n\u001b[0m\u001b[1;32m    983\u001b[0m     \u001b[0;32melse\u001b[0m\u001b[0;34m:\u001b[0m\u001b[0;34m\u001b[0m\u001b[0m\n\u001b[1;32m    984\u001b[0m       \u001b[0mresults\u001b[0m \u001b[0;34m=\u001b[0m \u001b[0;34m[\u001b[0m\u001b[0;34m]\u001b[0m\u001b[0;34m\u001b[0m\u001b[0m\n",
      "\u001b[0;32m/opt/conda/lib/python3.5/site-packages/tensorflow/python/client/session.py\u001b[0m in \u001b[0;36m_do_run\u001b[0;34m(self, handle, target_list, fetch_list, feed_dict, options, run_metadata)\u001b[0m\n\u001b[1;32m   1030\u001b[0m     \u001b[0;32mif\u001b[0m \u001b[0mhandle\u001b[0m \u001b[0;32mis\u001b[0m \u001b[0;32mNone\u001b[0m\u001b[0;34m:\u001b[0m\u001b[0;34m\u001b[0m\u001b[0m\n\u001b[1;32m   1031\u001b[0m       return self._do_call(_run_fn, self._session, feed_dict, fetch_list,\n\u001b[0;32m-> 1032\u001b[0;31m                            target_list, options, run_metadata)\n\u001b[0m\u001b[1;32m   1033\u001b[0m     \u001b[0;32melse\u001b[0m\u001b[0;34m:\u001b[0m\u001b[0;34m\u001b[0m\u001b[0m\n\u001b[1;32m   1034\u001b[0m       return self._do_call(_prun_fn, self._session, handle, feed_dict,\n",
      "\u001b[0;32m/opt/conda/lib/python3.5/site-packages/tensorflow/python/client/session.py\u001b[0m in \u001b[0;36m_do_call\u001b[0;34m(self, fn, *args)\u001b[0m\n\u001b[1;32m   1037\u001b[0m   \u001b[0;32mdef\u001b[0m \u001b[0m_do_call\u001b[0m\u001b[0;34m(\u001b[0m\u001b[0mself\u001b[0m\u001b[0;34m,\u001b[0m \u001b[0mfn\u001b[0m\u001b[0;34m,\u001b[0m \u001b[0;34m*\u001b[0m\u001b[0margs\u001b[0m\u001b[0;34m)\u001b[0m\u001b[0;34m:\u001b[0m\u001b[0;34m\u001b[0m\u001b[0m\n\u001b[1;32m   1038\u001b[0m     \u001b[0;32mtry\u001b[0m\u001b[0;34m:\u001b[0m\u001b[0;34m\u001b[0m\u001b[0m\n\u001b[0;32m-> 1039\u001b[0;31m       \u001b[0;32mreturn\u001b[0m \u001b[0mfn\u001b[0m\u001b[0;34m(\u001b[0m\u001b[0;34m*\u001b[0m\u001b[0margs\u001b[0m\u001b[0;34m)\u001b[0m\u001b[0;34m\u001b[0m\u001b[0m\n\u001b[0m\u001b[1;32m   1040\u001b[0m     \u001b[0;32mexcept\u001b[0m \u001b[0merrors\u001b[0m\u001b[0;34m.\u001b[0m\u001b[0mOpError\u001b[0m \u001b[0;32mas\u001b[0m \u001b[0me\u001b[0m\u001b[0;34m:\u001b[0m\u001b[0;34m\u001b[0m\u001b[0m\n\u001b[1;32m   1041\u001b[0m       \u001b[0mmessage\u001b[0m \u001b[0;34m=\u001b[0m \u001b[0mcompat\u001b[0m\u001b[0;34m.\u001b[0m\u001b[0mas_text\u001b[0m\u001b[0;34m(\u001b[0m\u001b[0me\u001b[0m\u001b[0;34m.\u001b[0m\u001b[0mmessage\u001b[0m\u001b[0;34m)\u001b[0m\u001b[0;34m\u001b[0m\u001b[0m\n",
      "\u001b[0;32m/opt/conda/lib/python3.5/site-packages/tensorflow/python/client/session.py\u001b[0m in \u001b[0;36m_run_fn\u001b[0;34m(session, feed_dict, fetch_list, target_list, options, run_metadata)\u001b[0m\n\u001b[1;32m   1019\u001b[0m         return tf_session.TF_Run(session, options,\n\u001b[1;32m   1020\u001b[0m                                  \u001b[0mfeed_dict\u001b[0m\u001b[0;34m,\u001b[0m \u001b[0mfetch_list\u001b[0m\u001b[0;34m,\u001b[0m \u001b[0mtarget_list\u001b[0m\u001b[0;34m,\u001b[0m\u001b[0;34m\u001b[0m\u001b[0m\n\u001b[0;32m-> 1021\u001b[0;31m                                  status, run_metadata)\n\u001b[0m\u001b[1;32m   1022\u001b[0m \u001b[0;34m\u001b[0m\u001b[0m\n\u001b[1;32m   1023\u001b[0m     \u001b[0;32mdef\u001b[0m \u001b[0m_prun_fn\u001b[0m\u001b[0;34m(\u001b[0m\u001b[0msession\u001b[0m\u001b[0;34m,\u001b[0m \u001b[0mhandle\u001b[0m\u001b[0;34m,\u001b[0m \u001b[0mfeed_dict\u001b[0m\u001b[0;34m,\u001b[0m \u001b[0mfetch_list\u001b[0m\u001b[0;34m)\u001b[0m\u001b[0;34m:\u001b[0m\u001b[0;34m\u001b[0m\u001b[0m\n",
      "\u001b[0;31mKeyboardInterrupt\u001b[0m: "
     ]
    }
   ],
   "source": [
    "\n",
    "\n",
    "for i in range(1000000):\n",
    "    nibbles.reset()\n",
    "    nibbles.set_food_radius(radius)\n",
    "    game_length = 0\n",
    "    total_revard = 0\n",
    "    game_over = False\n",
    "    while not game_over:\n",
    "        if np.random.rand() < epsilon:\n",
    "            action_index = random.randint(0,3)\n",
    "        else: \n",
    "            q = np.squeeze(model.predict(np.expand_dims(nibbles.get_board(), axis=0)))\n",
    "            action_index = sorted(range(4), key=lambda x: q[x])[-1]\n",
    "\n",
    "        last_state = nibbles.get_board()\n",
    "\n",
    "        revard, game_over = nibbles.next(nibbles.list_actions()[action_index])\n",
    "\n",
    "        experiences.append([last_state, action_index, revard, nibbles.get_board(), game_over])\n",
    "        game_length+=1\n",
    "        total_revard+=revard\n",
    "\n",
    "        if game_length > 10000:\n",
    "            break;\n",
    "            \n",
    "        if total_revard > 6000:\n",
    "            radius += 1\n",
    "            epsilon /= 1.01\n",
    "\n",
    "    for k in range(15):\n",
    "        seed_batch = random.sample(experiences, min(32,len(experiences)))\n",
    "        seed_batch.extend(experiences[(k+1)*-32:k*-32])\n",
    "\n",
    "        original_q = np.squeeze(model.predict(np.array([item[0] for item in seed_batch])))\n",
    "        new_q = np.squeeze(model.predict(np.array([item[3] for item in seed_batch])))\n",
    "\n",
    "        new_q_max = np.max(new_q, axis=1)\n",
    "    \n",
    "        revards = np.array([item[2] for item in seed_batch])\n",
    "        game_over = np.array([item[4] for item in seed_batch]).astype(int)\n",
    "        calculated_q = (revards + discount * new_q_max * (1-game_over)).tolist()\n",
    "\n",
    "        desired_q = np.copy(original_q)\n",
    "        \n",
    "        for index in range(len(calculated_q)):\n",
    "            desired_q[index][seed_batch[index][1]] = calculated_q[index]\n",
    "\n",
    "        loss = model.train_on_batch(np.array([item[0] for item in seed_batch]), desired_q)\n",
    "        \n",
    "        print('.', end='')\n",
    "        \n",
    "    display.clear_output(wait=True)\n",
    "    plt.imshow(nibbles.get_board())\n",
    "    plt.show()   \n",
    "    print(i, game_length, total_revard, loss, '(', len(experiences), ')', radius, epsilon)\n",
    "    \n",
    "    if len(experiences) > 30000:\n",
    "        experiences = random.sample(experiences, 25000)\n",
    "    "
   ]
  },
  {
   "cell_type": "code",
   "execution_count": null,
   "metadata": {
    "collapsed": true
   },
   "outputs": [],
   "source": [
    "random.randint(0,3)"
   ]
  },
  {
   "cell_type": "code",
   "execution_count": null,
   "metadata": {
    "collapsed": true
   },
   "outputs": [],
   "source": [
    "np.any(np.array((0,1)) + np.array((0,-1)))"
   ]
  },
  {
   "cell_type": "code",
   "execution_count": 34,
   "metadata": {},
   "outputs": [
    {
     "data": {
      "image/png": "[encoded data removed]",
      "text/plain": [
       "<matplotlib.figure.Figure at 0x7fb821157fd0>"
      ]
     },
     "metadata": {},
     "output_type": "display_data"
    }
   ],
   "source": [
    "nibbles.reset()\n",
    "game_over = False\n",
    "while not game_over:\n",
    "    if np.random.rand() < epsilon:\n",
    "        action_index = random.randint(0,3)\n",
    "    else: \n",
    "        q = np.squeeze(model.predict(np.expand_dims(nibbles.get_board(), axis=0)))\n",
    "        action_index = sorted(range(4), key=lambda x: q[x])[-1]\n",
    "\n",
    "    last_state = nibbles.get_board()\n",
    "\n",
    "    revard, game_over = nibbles.next(nibbles.list_actions()[action_index])\n",
    "\n",
    "    display.clear_output(wait=True)\n",
    "    plt.imshow(nibbles.get_board())\n",
    "    plt.show()   "
   ]
  },
  {
   "cell_type": "code",
   "execution_count": 17,
   "metadata": {},
   "outputs": [
    {
     "data": {
      "text/plain": [
       "8"
      ]
     },
     "execution_count": 17,
     "metadata": {},
     "output_type": "execute_result"
    }
   ],
   "source": [
    "radius"
   ]
  },
  {
   "cell_type": "code",
   "execution_count": 18,
   "metadata": {},
   "outputs": [
    {
     "data": {
      "text/plain": [
       "0.1539474354692119"
      ]
     },
     "execution_count": 18,
     "metadata": {},
     "output_type": "execute_result"
    }
   ],
   "source": [
    "epsilon"
   ]
  },
  {
   "cell_type": "code",
   "execution_count": null,
   "metadata": {
    "collapsed": true
   },
   "outputs": [],
   "source": []
  }
 ],
 "metadata": {
  "kernelspec": {
   "display_name": "Python 3",
   "language": "python",
   "name": "python3"
  },
  "language_info": {
   "codemirror_mode": {
    "name": "ipython",
    "version": 3
   },
   "file_extension": ".py",
   "mimetype": "text/x-python",
   "name": "python",
   "nbconvert_exporter": "python",
   "pygments_lexer": "ipython3",
   "version": "3.5.4"
  }
 },
 "nbformat": 4,
 "nbformat_minor": 2
}
