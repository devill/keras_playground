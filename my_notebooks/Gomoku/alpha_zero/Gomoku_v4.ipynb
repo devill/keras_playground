{
 "cells": [
  {
   "cell_type": "code",
   "execution_count": 1,
   "metadata": {},
   "outputs": [],
   "source": [
    "from matplotlib import pyplot as plt\n",
    "import numpy as np\n",
    "import random\n",
    "from IPython import display\n",
    "\n",
    "from gomoku import Gomoku\n",
    "from gomoku_with_group_map import GomokuWithGroupMap\n",
    "from hand_crafted_gomoku_model import HandCraftedGomokuModel\n",
    "from monte_carlo_tree_search import MonteCarloTreeSearch\n",
    "from parallel_monte_carlo_tree_search import ParallelMonteCarloTreeSearch"
   ]
  },
  {
   "cell_type": "code",
   "execution_count": 2,
   "metadata": {},
   "outputs": [],
   "source": [
    "%matplotlib inline\n",
    "%load_ext autoreload\n",
    "%autoreload 2"
   ]
  },
  {
   "cell_type": "code",
   "execution_count": 3,
   "metadata": {},
   "outputs": [],
   "source": [
    "shape = (19,19)"
   ]
  },
  {
   "cell_type": "markdown",
   "metadata": {},
   "source": [
    "# Example with decent hand crafted model"
   ]
  },
  {
   "cell_type": "code",
   "execution_count": 4,
   "metadata": {},
   "outputs": [],
   "source": [
    "game = GomokuWithGroupMap(shape)\n",
    "tree_search = MonteCarloTreeSearch(game, HandCraftedGomokuModel(), 2, 10)\n",
    "results = []"
   ]
  },
  {
   "cell_type": "code",
   "execution_count": 5,
   "metadata": {},
   "outputs": [
    {
     "data": {
      "image/png": "[encoded data removed]",
      "text/plain": [
       "<matplotlib.figure.Figure at 0x7f0f46d03be0>"
      ]
     },
     "metadata": {},
     "output_type": "display_data"
    }
   ],
   "source": [
    "game.draw() \n",
    "plt.show()\n",
    "for i in range(0):\n",
    "    if game.game_over():\n",
    "        print('Game Over')\n",
    "        break\n",
    "        \n",
    "    result = tree_search.search()\n",
    "    results.append(result)\n",
    "    game.take_action(result['action'])\n",
    "    \n",
    "    display.clear_output(wait=True)\n",
    "    print(\"Outcome: \" + str(result['outcome']) + \"  Action: \" + str(result['action']))\n",
    "    game.draw()    \n",
    "    plt.show()\n",
    "\n",
    "for r in results:\n",
    "    print(\"Outcome: \" + str(r['outcome']) + \"  Action: \" + str(r['action']))\n",
    "    "
   ]
  },
  {
   "cell_type": "markdown",
   "metadata": {},
   "source": [
    "# Model"
   ]
  },
  {
   "cell_type": "code",
   "execution_count": 6,
   "metadata": {},
   "outputs": [
    {
     "name": "stderr",
     "output_type": "stream",
     "text": [
      "Using TensorFlow backend.\n"
     ]
    }
   ],
   "source": [
    "from keras.models import Model\n",
    "from keras.layers import Input, Dense, Flatten, Activation, LeakyReLU, add\n",
    "from keras.layers.core import Dropout\n",
    "from keras.layers.convolutional import Conv2D\n",
    "from keras.layers.pooling import GlobalAveragePooling2D, MaxPooling2D\n",
    "from keras.layers.normalization import BatchNormalization\n",
    "from keras.optimizers import Nadam"
   ]
  },
  {
   "cell_type": "code",
   "execution_count": 7,
   "metadata": {},
   "outputs": [],
   "source": [
    "def res_block(width,inp):\n",
    "    x = Conv2D(width, (3,3), padding='same')(inp)\n",
    "    x = LeakyReLU(alpha=0.3)(x)\n",
    "    x = Conv2D(width, (3,3), padding='same')(x)\n",
    "    x = LeakyReLU(alpha=0.3)(x)\n",
    "    x = Conv2D(width, (3,3), padding='same')(x)\n",
    "    x = LeakyReLU(alpha=0.3)(x)\n",
    "    x = add([x, inp])\n",
    "    x = LeakyReLU(alpha=0.3)(x)\n",
    "    return BatchNormalization(axis=3)(x)"
   ]
  },
  {
   "cell_type": "code",
   "execution_count": 8,
   "metadata": {},
   "outputs": [],
   "source": [
    "def down_pooling_block(width,inp):\n",
    "    x = Conv2D(width, (3,3), padding='same')(inp)\n",
    "    x = LeakyReLU(alpha=0.3)(x)\n",
    "    x = MaxPooling2D(pool_size=(2, 2))(x)\n",
    "    x = Conv2D(2*width, (3,3), padding='same')(x)\n",
    "    x = LeakyReLU(alpha=0.3)(x)\n",
    "    x = MaxPooling2D(pool_size=(2, 2))(x)\n",
    "    x = Conv2D(4*width, (3,3), padding='same')(x)\n",
    "    x = LeakyReLU(alpha=0.3)(x)\n",
    "    x = MaxPooling2D(pool_size=(2, 2))(x)\n",
    "    return x"
   ]
  },
  {
   "cell_type": "code",
   "execution_count": 9,
   "metadata": {},
   "outputs": [],
   "source": [
    "hidden_layer_count = 512\n",
    "\n",
    "input_state= Input(shape=(shape[0],shape[1],3))\n",
    "x = Conv2D(hidden_layer_count, (7,7), padding='same', activation='relu')(input_state)\n",
    "x = res_block(hidden_layer_count, x)\n",
    "x = res_block(hidden_layer_count, x)\n",
    "x = res_block(hidden_layer_count, x)\n",
    "\n",
    "pmx = res_block(hidden_layer_count, x)\n",
    "pmx = Conv2D(1, (1,1), padding='same')(pmx)\n",
    "pmx = LeakyReLU(alpha=0.3)(pmx)\n",
    "pmx = Flatten()(pmx)\n",
    "prob_map = Activation('softmax', name='prob_map')(pmx)\n",
    "\n",
    "#wx = down_pooling_block(hidden_layer_count, x)\n",
    "wx = res_block(hidden_layer_count, x)\n",
    "wx = GlobalAveragePooling2D()(wx)\n",
    "wx = Dense(hidden_layer_count)(wx)\n",
    "wx = LeakyReLU(alpha=0.3)(wx)\n",
    "winner = Dense(1, activation='tanh', name='winner')(wx)\n",
    "\n",
    "\n",
    "model = Model(input_state, [prob_map,winner])\n",
    "\n",
    "model.compile(\n",
    "    optimizer=Nadam(), \n",
    "    loss=['categorical_crossentropy','mean_squared_error'],\n",
    "    loss_weights=[1, 2]\n",
    ")"
   ]
  },
  {
   "cell_type": "code",
   "execution_count": 10,
   "metadata": {},
   "outputs": [],
   "source": [
    "model.load_weights('/data/trained_models/gomoku_alpha_zero_resnet_weights_v4.h5')"
   ]
  },
  {
   "cell_type": "markdown",
   "metadata": {},
   "source": [
    "# Pre train with hand crafted model"
   ]
  },
  {
   "cell_type": "code",
   "execution_count": 11,
   "metadata": {},
   "outputs": [],
   "source": [
    "def action_to_onehot(action):\n",
    "    result = np.zeros(shape)\n",
    "    result[action] = 1\n",
    "    return result\n",
    "\n",
    "def board_augmentation(inp, out):\n",
    "    sym = random.choice([' ','|','\\\\'])\n",
    "    if sym == '|':\n",
    "        inp = np.flip(inp,axis=0)\n",
    "        out = np.flip(out,axis=0)\n",
    "    elif sym =='\\\\':\n",
    "        inp = np.transpose(inp, axes=(1,0,2))\n",
    "        out = np.transpose(out)\n",
    "\n",
    "    k = random.randint(0,3)\n",
    "    return np.rot90(inp,k=k, axes=(0,1)), np.rot90(out,k=k, axes=(0,1))\n",
    "    \n",
    "        "
   ]
  },
  {
   "cell_type": "code",
   "execution_count": null,
   "metadata": {},
   "outputs": [],
   "source": [
    "game = GomokuWithGroupMap(shape)\n",
    "tree_search = MonteCarloTreeSearch(game, HandCraftedGomokuModel(), 2, 4)"
   ]
  },
  {
   "cell_type": "code",
   "execution_count": null,
   "metadata": {},
   "outputs": [],
   "source": [
    "batch_size = 64\n",
    "\n",
    "for batch_index in range(0):\n",
    "    batch_input = []\n",
    "    batch_move_pred = []\n",
    "    batch_win_pred = []\n",
    "\n",
    "    for i in range(batch_size):\n",
    "        if game.game_over():\n",
    "            game.reset()\n",
    "\n",
    "        result = tree_search.search()\n",
    "\n",
    "        board, action = board_augmentation(game.get_state_for_current_player(), action_to_onehot(result['action']))\n",
    "        \n",
    "        batch_input.append(board)\n",
    "        batch_move_pred.append(action.flatten())\n",
    "        batch_win_pred.append(result['outcome'])\n",
    "\n",
    "        game.take_action(result['action'])\n",
    "\n",
    "        #display.clear_output(wait=True)\n",
    "        #print(str(i) + \" Outcome: \" + str(result['outcome']) + \"  Action: \" + str(result['action']))\n",
    "        #game.draw()    \n",
    "        #plt.show()\n",
    "\n",
    "    losses = model.train_on_batch(np.array(batch_input), [np.array(batch_move_pred), np.array(batch_win_pred)])\n",
    "    print(batch_index, losses, end=\"\\r\")"
   ]
  },
  {
   "cell_type": "markdown",
   "metadata": {},
   "source": [
    "# Pre train from recorded games"
   ]
  },
  {
   "cell_type": "code",
   "execution_count": null,
   "metadata": {},
   "outputs": [],
   "source": [
    "from os import listdir\n",
    "from os.path import isfile, join\n",
    "import math"
   ]
  },
  {
   "cell_type": "code",
   "execution_count": null,
   "metadata": {},
   "outputs": [],
   "source": [
    "data_path = '/data/gomoku_alpha_zero/2_10'\n",
    "data_files = [f for f in listdir(data_path) if isfile(join(data_path, f))]"
   ]
  },
  {
   "cell_type": "code",
   "execution_count": null,
   "metadata": {},
   "outputs": [],
   "source": [
    "train_boards = []\n",
    "train_scores = []\n",
    "train_actions = []\n",
    "\n",
    "base = np.ones(shape)\n",
    "base[game.get_middle()] += 1\n",
    "\n",
    "for file in data_files:\n",
    "    with open(data_path+\"/\"+file, 'r') as f:\n",
    "        board = np.stack((np.zeros(shape), np.zeros(shape),np.copy(base)), axis=2)\n",
    "        player = 0\n",
    "        for line in f.readlines():\n",
    "            line = line.split(',')\n",
    "            \n",
    "            original = np.copy(board)\n",
    "            action = action_to_onehot((int(line[1]), int(line[2])))\n",
    "            \n",
    "            original, action = board_augmentation(original, action)\n",
    "            \n",
    "            train_boards.append(original)\n",
    "            train_scores.append(float(line[0]))\n",
    "            train_actions.append(action.flatten())\n",
    "            \n",
    "            board[int(line[1]), int(line[2]), player] = 1\n",
    "            player = 1 - player\n",
    "            \n",
    "            "
   ]
  },
  {
   "cell_type": "code",
   "execution_count": null,
   "metadata": {},
   "outputs": [],
   "source": [
    "len(train_actions)"
   ]
  },
  {
   "cell_type": "code",
   "execution_count": null,
   "metadata": {},
   "outputs": [],
   "source": [
    "model.fit(np.array(train_boards), [np.array(train_actions),np.array(train_scores)], shuffle=True, epochs=1, batch_size=128)"
   ]
  },
  {
   "cell_type": "code",
   "execution_count": null,
   "metadata": {},
   "outputs": [],
   "source": [
    "#model.save('/data/trained_models/gomoku_alpha_zero_resnet_full_model_v4_1.h5')\n",
    "#model.save_weights('/data/trained_models/gomoku_alpha_zero_resnet_weights_v4_1.h5')"
   ]
  },
  {
   "cell_type": "markdown",
   "metadata": {},
   "source": [
    "# Reenforment learning"
   ]
  },
  {
   "cell_type": "code",
   "execution_count": 12,
   "metadata": {},
   "outputs": [],
   "source": [
    "def choice2d(pmap, count = 10):\n",
    "    shape = pmap.shape\n",
    "    indices = np.transpose(np.indices(shape), axes=(1,2,0)).reshape((shape[0]*shape[1],2))\n",
    "    choice_indices = np.random.choice(len(indices), count, p=pmap.reshape(shape[0]*shape[1]))\n",
    "    return list(map(lambda x: tuple(x), indices[choice_indices].tolist()))\n",
    "\n",
    "class LearnedGomokuModel:\n",
    "    def __init__(self, model):\n",
    "        self.model = model\n",
    "    \n",
    "    def get_predicted_outcomes(self, boards):\n",
    "        pred = model.predict(boards)\n",
    "        return pred[1].flatten()\n",
    "    \n",
    "    def get_probability_maps(self, boards):\n",
    "        pred = model.predict(boards)\n",
    "        shape = (boards.shape[0], boards.shape[1], boards.shape[2])\n",
    "        return pred[0].reshape(shape)\n",
    "        "
   ]
  },
  {
   "cell_type": "code",
   "execution_count": 19,
   "metadata": {},
   "outputs": [],
   "source": [
    "game = Gomoku(shape)\n",
    "lmodel = LearnedGomokuModel(model)\n",
    "tree_search = ParallelMonteCarloTreeSearch(LearnedGomokuModel(model), 2, 5)\n",
    "results = []"
   ]
  },
  {
   "cell_type": "code",
   "execution_count": 20,
   "metadata": {},
   "outputs": [
    {
     "data": {
      "text/plain": [
       "[]"
      ]
     },
     "execution_count": 20,
     "metadata": {},
     "output_type": "execute_result"
    }
   ],
   "source": [
    "results"
   ]
  },
  {
   "cell_type": "code",
   "execution_count": null,
   "metadata": {},
   "outputs": [
    {
     "name": "stdout",
     "output_type": "stream",
     "text": [
      "Outcome: 0.335155457258/0.3192  Action: (10, 3)\n"
     ]
    },
    {
     "data": {
      "image/png": "[encoded data removed]",
      "text/plain": [
       "<matplotlib.figure.Figure at 0x7f0eec251438>"
      ]
     },
     "metadata": {},
     "output_type": "display_data"
    }
   ],
   "source": [
    "while not game.game_over():\n",
    "    outcomes, actions = tree_search.search([game])\n",
    "    results.append({'outcome':outcomes[0], 'action':actions[0]})\n",
    "    game.take_action(actions[0])\n",
    "    predicted_outcome = lmodel.get_predicted_outcomes(np.array([game.get_state_for_current_player()]))\n",
    "    \n",
    "    display.clear_output(wait=True)\n",
    "    print(\"Outcome: \" + str(outcomes[0]) + \"/\" + str(predicted_outcome[0]) + \"  Action: \" + str(actions[0]))\n",
    "    pmap = lmodel.get_probability_maps(np.array([game.get_state_for_current_player()]))\n",
    "    board = game.get_state()\n",
    "    plt.imshow(np.stack([board[:,:,0], board[:,:,1], pmap[0]/np.max(pmap[0])], axis = 2))\n",
    "    plt.show()\n",
    "    \n",
    "\n",
    "for r in results:\n",
    "    print(\"Outcome: \" + str(r['outcome']) + \"  Action: \" + str(r['action']))\n",
    "    "
   ]
  },
  {
   "cell_type": "code",
   "execution_count": null,
   "metadata": {},
   "outputs": [],
   "source": [
    "lmodel = LearnedGomokuModel(model)\n",
    "#lmodel = HandCraftedGomokuModel()\n",
    "print(lmodel.predicted_outcome(game))\n",
    "plt.imshow(lmodel.get_probability_map(game))"
   ]
  },
  {
   "cell_type": "code",
   "execution_count": null,
   "metadata": {},
   "outputs": [],
   "source": []
  },
  {
   "cell_type": "code",
   "execution_count": null,
   "metadata": {},
   "outputs": [],
   "source": []
  }
 ],
 "metadata": {
  "kernelspec": {
   "display_name": "Python 3",
   "language": "python",
   "name": "python3"
  },
  "language_info": {
   "codemirror_mode": {
    "name": "ipython",
    "version": 3
   },
   "file_extension": ".py",
   "mimetype": "text/x-python",
   "name": "python",
   "nbconvert_exporter": "python",
   "pygments_lexer": "ipython3",
   "version": "3.5.4"
  }
 },
 "nbformat": 4,
 "nbformat_minor": 2
}
