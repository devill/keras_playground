{
 "cells": [
  {
   "cell_type": "code",
   "execution_count": 2,
   "metadata": {
    "collapsed": true
   },
   "outputs": [],
   "source": [
    "from matplotlib import pyplot as plt\n",
    "from scipy import signal\n",
    "import numpy as np\n",
    "import random"
   ]
  },
  {
   "cell_type": "code",
   "execution_count": 3,
   "metadata": {
    "collapsed": true
   },
   "outputs": [],
   "source": [
    "%matplotlib inline"
   ]
  },
  {
   "cell_type": "code",
   "execution_count": 4,
   "metadata": {
    "collapsed": true
   },
   "outputs": [],
   "source": [
    "shape=(19, 19)"
   ]
  },
  {
   "cell_type": "code",
   "execution_count": 5,
   "metadata": {
    "collapsed": true
   },
   "outputs": [],
   "source": [
    "class Gomoku:\n",
    "    \n",
    "    def __init__(self, shape):\n",
    "        self.shape = shape\n",
    "        self.reset()\n",
    "        \n",
    "    def reset(self):\n",
    "        self.last_player = 1\n",
    "        self.last_action = None\n",
    "        self.board = np.stack((np.zeros(self.shape), np.zeros(self.shape),np.ones(self.shape)), axis=2)\n",
    "        self.previous_board = np.copy(self.board)\n",
    "    \n",
    "    def draw(self):\n",
    "        plt.imshow(self.board)\n",
    "    \n",
    "    def list_actions(self):\n",
    "        return np.transpose(np.nonzero(self.board[:,:,2])).tolist()\n",
    "        \n",
    "    def take_action(self, action):\n",
    "        self.previous_board = np.copy(self.board)\n",
    "        self.last_player = 1 - self.last_player \n",
    "        pixel = np.zeros((3))\n",
    "        pixel[self.last_player] = 1\n",
    "        self.board[action] = pixel\n",
    "        self.last_action = action\n",
    "        return self.__revard()\n",
    "    \n",
    "    def get_last_action(self):\n",
    "        return self.last_action\n",
    "    \n",
    "    def get_state(self):\n",
    "        return self.convert_state_for_player(self.board, self.last_player)\n",
    "    \n",
    "    def get_raw_state(self):\n",
    "        return self.board\n",
    "    \n",
    "    def get_previous_state(self):\n",
    "        return self.convert_state_for_player(self.previous_board, self.last_player)\n",
    "    \n",
    "    def convert_state_for_player(self, board, player):\n",
    "        result = np.copy(board)\n",
    "        \n",
    "        if player == 1:\n",
    "            result[:,:,[0,1]] = result[:,:,[1,0]]\n",
    "        \n",
    "        return result\n",
    "\n",
    "    def game_over(self):\n",
    "        return self.__won(0) or self.__won(1) or np.count_nonzero(self.board[:,:,2]) == 0\n",
    "    \n",
    "    def __revard(self):\n",
    "        return 1 if self.__won(self.last_player) else 0\n",
    "        \n",
    "    def __won(self, player):\n",
    "        board = self.board[:,:, player]\n",
    "        return (\n",
    "            self.__has_five_by(np.identity(5), board) or \n",
    "            self.__has_five_by(np.fliplr(np.identity(5)), board) or \n",
    "            self.__has_five_by(np.ones((1,5)), board) or \n",
    "            self.__has_five_by(np.ones((5,1)), board)\n",
    "        )\n",
    "    \n",
    "    def __has_five_by(self, mask, board):\n",
    "        return np.count_nonzero(signal.convolve2d(mask, board) == 5) > 0\n",
    "    \n",
    "game = Gomoku(shape)"
   ]
  },
  {
   "cell_type": "code",
   "execution_count": 6,
   "metadata": {
    "collapsed": true
   },
   "outputs": [],
   "source": [
    "delta = 0.3"
   ]
  },
  {
   "cell_type": "code",
   "execution_count": 53,
   "metadata": {},
   "outputs": [
    {
     "data": {
      "text/plain": [
       "<matplotlib.image.AxesImage at 0x7f4d112c59b0>"
      ]
     },
     "execution_count": 53,
     "metadata": {},
     "output_type": "execute_result"
    },
    {
     "data": {
      "image/png": "[encoded data removed]",
      "text/plain": [
       "<matplotlib.figure.Figure at 0x7f4d114c1c18>"
      ]
     },
     "metadata": {},
     "output_type": "display_data"
    }
   ],
   "source": [
    "import math\n",
    "\n",
    "\n",
    "power_map = np.vectorize(lambda x: 2 ** x)\n",
    "\n",
    "def sigmoid(x):\n",
    "  return 1 / (1 + math.exp(-x))\n",
    "\n",
    "def get_value_for_mask(mask, board):\n",
    "    free = signal.convolve2d(1 -board[:,:,0], mask, mode='same') == 5\n",
    "    mine = power_map(signal.convolve2d(board[:,:,1], mask, mode='same'))\n",
    "    \n",
    "    enemy_free = signal.convolve2d(1 -board[:,:,1], mask, mode='same') == 5\n",
    "    enemy = power_map(signal.convolve2d(board[:,:,0], mask, mode='same'))\n",
    "    \n",
    "    return (\n",
    "        signal.convolve2d(np.multiply(free, mine), mask, mode='same') +\n",
    "        signal.convolve2d(np.multiply(enemy_free, enemy), mask, mode='same')\n",
    "    )\n",
    "    \n",
    "\n",
    "def get_value_map(board):\n",
    "        return (\n",
    "            get_value_for_mask(np.ones((1,5)), board) + \n",
    "            get_value_for_mask(np.ones((5,1)), board) +\n",
    "            get_value_for_mask(np.identity(5), board) + \n",
    "            get_value_for_mask(np.fliplr(np.identity(5)), board)\n",
    "        )\n",
    "            \n",
    "\n",
    "plt.imshow(get_value_map(game.get_state()), cmap='gray')\n"
   ]
  },
  {
   "cell_type": "code",
   "execution_count": 54,
   "metadata": {
    "collapsed": true
   },
   "outputs": [],
   "source": [
    "import random\n",
    "\n",
    "def make_move():\n",
    "    if game.game_over():\n",
    "        return\n",
    "    \n",
    "    #q = get_value_map(game.get_state())\n",
    "    q = np.squeeze(model.predict(np.array([game.get_state()])))\n",
    "    list_of_actions = game.list_actions()\n",
    "    random.shuffle(list_of_actions)\n",
    "    prefered_moves = sorted(list_of_actions, key=lambda x: -q[tuple(x)])\n",
    "        \n",
    "    i = 0\n",
    "    while np.random.rand() < delta and i < len(prefered_moves)-1:\n",
    "        i += 1\n",
    "\n",
    "    game.take_action(tuple(prefered_moves[i]))\n",
    "\n",
    "def make_manual_move(i, j):\n",
    "    if game.game_over():\n",
    "        return\n",
    "    \n",
    "    game.take_action((i,j))"
   ]
  },
  {
   "cell_type": "code",
   "execution_count": 60,
   "metadata": {},
   "outputs": [
    {
     "data": {
      "text/html": [
       "\n",
       "\n",
       "<div id='display_div'></div>\n",
       "<button onclick='reset()'>New Game</button>\n",
       "<button onclick='next()'>Make a move</button>\n",
       "\n",
       "<script type=\"text/Javascript\">\n",
       "\n",
       "    function display_state(out) {\n",
       "        document.getElementById('display_div').innerHTML = out.content.text;\n",
       "    }\n",
       "    \n",
       "    function next() {\n",
       "        var kernel = IPython.notebook.kernel;\n",
       "        kernel.execute('make_move()', {\"iopub\" : {\"output\": console.log}});\n",
       "        kernel.execute('state_for_display()', {\"iopub\" : {\"output\":display_state}});\n",
       "    }\n",
       "\n",
       "    function make_move(i,j) {\n",
       "        var kernel = IPython.notebook.kernel;\n",
       "        kernel.execute('make_manual_move('+i+', '+j+')');\n",
       "        kernel.execute('state_for_display()', {\"iopub\" : {\"output\":display_state}});\n",
       "    }\n",
       "    \n",
       "    function reset() {\n",
       "        var kernel = IPython.notebook.kernel;\n",
       "        kernel.execute('game.reset()');\n",
       "        kernel.execute('state_for_display()', {\"iopub\" : {\"output\":display_state}});\n",
       "    }\n",
       "\n",
       "    reset();\n",
       "\n",
       "</script>\n"
      ],
      "text/plain": [
       "<IPython.core.display.HTML object>"
      ]
     },
     "metadata": {},
     "output_type": "display_data"
    }
   ],
   "source": [
    "from IPython.core.display import display as core_display\n",
    "from IPython.core.display import HTML \n",
    "\n",
    "def state_for_display():\n",
    "    raw_state = game.get_raw_state()\n",
    "    last_action = game.get_last_action()\n",
    "    #color_map = get_value_map(game.get_state())\n",
    "    color_map = np.squeeze(model.predict(np.array([game.get_state()])))\n",
    "    color_map = color_map - np.min(color_map)\n",
    "    if np.max(color_map) > 0:\n",
    "        color_map = (color_map / np.max(color_map) * 255).astype(int)\n",
    "    \n",
    "    html = '<table>'\n",
    "    for i in range(shape[0]):\n",
    "        html += '<tr>'\n",
    "        for j in range(shape[1]):\n",
    "                        \n",
    "            html += \"<td style='border:1px solid gray; width:25px; height:25px; fotn-weight:bold; text-align:center; \"\n",
    "            if last_action == (i,j): \n",
    "                html += \"background-color:rgb(255, \"+str(color_map[i,j])+\", \"+str(255-color_map[i,j])+\");\" \n",
    "            else: \n",
    "                html += \"background-color:rgb(0, \"+ str(color_map[i,j]) +\", \"+str(255-color_map[i,j])+\");\" \n",
    "                \n",
    "            html += \"'\"\n",
    "            if raw_state[i,j,2]:\n",
    "                html += \" onclick='make_move(\"+str(i)+\",\"+str(j)+\")'\"\n",
    "            html += \">\"\n",
    "            if raw_state[i,j,0] == 1:\n",
    "                html += 'X'\n",
    "            if raw_state[i,j,1] == 1:\n",
    "                html += 'O'\n",
    "            if raw_state[i,j,0] == 1:\n",
    "                html += '&nbsp;'                \n",
    "                \n",
    "            html += \"</td>\"\n",
    "        html += '</tr>'\n",
    "\n",
    "    html += '</table>'\n",
    "    if game.game_over():\n",
    "        html += '<h3>Game Over</h3>'\n",
    "    print(html)\n",
    "\n",
    "game.reset()\n",
    "\n",
    "\n",
    "\n",
    "html = \"\"\"\n",
    "\n",
    "<div id='display_div'></div>\n",
    "<button onclick='reset()'>New Game</button>\n",
    "<button onclick='next()'>Make a move</button>\n",
    "\n",
    "<script type=\"text/Javascript\">\n",
    "\n",
    "    function display_state(out) {\n",
    "        document.getElementById('display_div').innerHTML = out.content.text;\n",
    "    }\n",
    "    \n",
    "    function next() {\n",
    "        var kernel = IPython.notebook.kernel;\n",
    "        kernel.execute('make_move()', {\"iopub\" : {\"output\": console.log}});\n",
    "        kernel.execute('state_for_display()', {\"iopub\" : {\"output\":display_state}});\n",
    "    }\n",
    "\n",
    "    function make_move(i,j) {\n",
    "        var kernel = IPython.notebook.kernel;\n",
    "        kernel.execute('make_manual_move('+i+', '+j+')');\n",
    "        kernel.execute('state_for_display()', {\"iopub\" : {\"output\":display_state}});\n",
    "    }\n",
    "    \n",
    "    function reset() {\n",
    "        var kernel = IPython.notebook.kernel;\n",
    "        kernel.execute('game.reset()');\n",
    "        kernel.execute('state_for_display()', {\"iopub\" : {\"output\":display_state}});\n",
    "    }\n",
    "\n",
    "    reset();\n",
    "\n",
    "</script>\n",
    "\"\"\"\n",
    "\n",
    "core_display(HTML(html))"
   ]
  },
  {
   "cell_type": "code",
   "execution_count": 10,
   "metadata": {},
   "outputs": [
    {
     "name": "stderr",
     "output_type": "stream",
     "text": [
      "Using TensorFlow backend.\n"
     ]
    }
   ],
   "source": [
    "from keras.models import Sequential\n",
    "from keras.layers.core import Dropout\n",
    "from keras.layers.convolutional import Conv2D\n",
    "from keras.layers.normalization import BatchNormalization\n",
    "from keras.optimizers import Nadam\n",
    "\n",
    "from IPython import display"
   ]
  },
  {
   "cell_type": "code",
   "execution_count": 13,
   "metadata": {
    "collapsed": true
   },
   "outputs": [],
   "source": [
    "hidden_layer_count = 80"
   ]
  },
  {
   "cell_type": "code",
   "execution_count": 56,
   "metadata": {
    "collapsed": true
   },
   "outputs": [],
   "source": [
    "model = Sequential([\n",
    "    Conv2D(hidden_layer_count, (5,5), padding='same', activation='relu', input_shape=game.get_state().shape),\n",
    "    Conv2D(hidden_layer_count, (5,5), padding='same', activation='relu'),\n",
    "    Conv2D(hidden_layer_count, (5,5), padding='same', activation='relu'),\n",
    "    BatchNormalization(axis=3),\n",
    "    Conv2D(hidden_layer_count, (5,5), padding='same', activation='relu'),\n",
    "    Conv2D(hidden_layer_count, (5,5), padding='same', activation='relu'),\n",
    "    Conv2D(hidden_layer_count, (5,5), padding='same', activation='relu'),\n",
    "    BatchNormalization(axis=3),\n",
    "    Conv2D(hidden_layer_count, (3,3), padding='same', activation='relu'),\n",
    "    Conv2D(hidden_layer_count, (3,3), padding='same', activation='relu'),\n",
    "    Conv2D(hidden_layer_count, (3,3), padding='same', activation='relu'),\n",
    "    BatchNormalization(axis=3),\n",
    "    Conv2D(hidden_layer_count, (3,3), padding='same', activation='relu'),\n",
    "    Conv2D(hidden_layer_count, (3,3), padding='same', activation='relu'),\n",
    "    Conv2D(hidden_layer_count, (3,3), padding='same', activation='relu'),\n",
    "    BatchNormalization(axis=3),\n",
    "    Conv2D(hidden_layer_count, (3,3), padding='same', activation='relu'),\n",
    "    Conv2D(hidden_layer_count, (3,3), padding='same', activation='relu'),\n",
    "    Conv2D(hidden_layer_count, (3,3), padding='same', activation='relu'),\n",
    "    BatchNormalization(axis=3),\n",
    "    Conv2D(hidden_layer_count, (3,3), padding='same', activation='relu'),\n",
    "    Conv2D(hidden_layer_count, (3,3), padding='same', activation='relu'),\n",
    "    Conv2D(hidden_layer_count, (3,3), padding='same', activation='relu'),\n",
    "    BatchNormalization(axis=3),\n",
    "    Conv2D(hidden_layer_count, (3,3), padding='same', activation='relu'),\n",
    "    Conv2D(hidden_layer_count, (3,3), padding='same', activation='relu'),\n",
    "    Conv2D(hidden_layer_count, (3,3), padding='same', activation='relu'),\n",
    "    BatchNormalization(axis=3),\n",
    "    Conv2D(1, (3,3), padding='same')\n",
    "])\n",
    "\n",
    "opt = Nadam(lr=1e-5)\n",
    "model.compile(optimizer=opt, loss='mean_squared_error')"
   ]
  },
  {
   "cell_type": "code",
   "execution_count": 15,
   "metadata": {},
   "outputs": [
    {
     "name": "stdout",
     "output_type": "stream",
     "text": [
      "999 46380\n"
     ]
    }
   ],
   "source": [
    "training_inputs = []\n",
    "training_outputs = []\n",
    "\n",
    "for i in range(1000):\n",
    "    game.reset()\n",
    "    while not game.game_over():\n",
    "        make_move()\n",
    "        training_inputs.append(game.get_state())\n",
    "        training_outputs.append(get_value_map(game.get_state()))\n",
    "    \n",
    "    display.clear_output(wait=True)\n",
    "    print(i, len(training_inputs))\n",
    "        \n"
   ]
  },
  {
   "cell_type": "code",
   "execution_count": 16,
   "metadata": {},
   "outputs": [
    {
     "name": "stdout",
     "output_type": "stream",
     "text": [
      "39999 86380\n"
     ]
    }
   ],
   "source": [
    "for i in range(40000):\n",
    "    inp = np.random.randint(2, size=(19,19,3))\n",
    "    out = get_value_map(inp)\n",
    "    training_inputs.append(inp)\n",
    "    training_outputs.append(out)\n",
    "    display.clear_output(wait=True)\n",
    "    print(i, len(training_inputs))"
   ]
  },
  {
   "cell_type": "code",
   "execution_count": 57,
   "metadata": {},
   "outputs": [
    {
     "name": "stdout",
     "output_type": "stream",
     "text": [
      "Epoch 1/10\n",
      "86380/86380 [==============================] - 65s - loss: 0.4718    \n",
      "Epoch 2/10\n",
      "86380/86380 [==============================] - 64s - loss: 0.0256    \n",
      "Epoch 3/10\n",
      "86380/86380 [==============================] - 65s - loss: 0.0078    \n",
      "Epoch 4/10\n",
      "86380/86380 [==============================] - 65s - loss: 0.0039    \n",
      "Epoch 5/10\n",
      "86380/86380 [==============================] - 65s - loss: 0.0024    \n",
      "Epoch 6/10\n",
      "86380/86380 [==============================] - 65s - loss: 0.0016    \n",
      "Epoch 7/10\n",
      "86380/86380 [==============================] - 66s - loss: 0.0012    \n",
      "Epoch 8/10\n",
      "86380/86380 [==============================] - 66s - loss: 8.7406e-04    \n",
      "Epoch 9/10\n",
      "86380/86380 [==============================] - 65s - loss: 6.7787e-04    \n",
      "Epoch 10/10\n",
      "86380/86380 [==============================] - 66s - loss: 5.3929e-04    \n"
     ]
    },
    {
     "data": {
      "text/plain": [
       "<keras.callbacks.History at 0x7f4d0fedceb8>"
      ]
     },
     "execution_count": 57,
     "metadata": {},
     "output_type": "execute_result"
    }
   ],
   "source": [
    "model.fit(\n",
    "        np.array(training_inputs),  np.expand_dims(np.array(training_outputs), 3),  \n",
    "        shuffle=True, epochs=10, verbose=True, batch_size=256\n",
    ")"
   ]
  },
  {
   "cell_type": "code",
   "execution_count": 58,
   "metadata": {
    "collapsed": true
   },
   "outputs": [],
   "source": [
    "opt.lr = 1e-8"
   ]
  },
  {
   "cell_type": "code",
   "execution_count": 59,
   "metadata": {},
   "outputs": [
    {
     "name": "stdout",
     "output_type": "stream",
     "text": [
      "Epoch 1/3\n",
      "86380/86380 [==============================] - 66s - loss: 4.3127e-04    \n",
      "Epoch 2/3\n",
      "86380/86380 [==============================] - 66s - loss: 3.5587e-04    \n",
      "Epoch 3/3\n",
      "86380/86380 [==============================] - 66s - loss: 2.9125e-04    \n"
     ]
    },
    {
     "data": {
      "text/plain": [
       "<keras.callbacks.History at 0x7f4d0f3edc18>"
      ]
     },
     "execution_count": 59,
     "metadata": {},
     "output_type": "execute_result"
    }
   ],
   "source": [
    "model.fit(\n",
    "        np.array(training_inputs),  np.expand_dims(np.array(training_outputs), 3),  \n",
    "        shuffle=True, epochs=3, verbose=True, batch_size=256\n",
    ")"
   ]
  },
  {
   "cell_type": "code",
   "execution_count": 62,
   "metadata": {},
   "outputs": [
    {
     "name": "stdout",
     "output_type": "stream",
     "text": [
      "0 199 106859\n"
     ]
    },
    {
     "ename": "NameError",
     "evalue": "name 'batch_inputs' is not defined",
     "output_type": "error",
     "traceback": [
      "\u001b[0;31m---------------------------------------------------------------------------\u001b[0m",
      "\u001b[0;31mNameError\u001b[0m                                 Traceback (most recent call last)",
      "\u001b[0;32m<ipython-input-62-fb5ec6495ab7>\u001b[0m in \u001b[0;36m<module>\u001b[0;34m()\u001b[0m\n\u001b[1;32m     12\u001b[0m         \u001b[0mprint\u001b[0m\u001b[0;34m(\u001b[0m\u001b[0me\u001b[0m\u001b[0;34m,\u001b[0m \u001b[0mi\u001b[0m\u001b[0;34m,\u001b[0m \u001b[0mlen\u001b[0m\u001b[0;34m(\u001b[0m\u001b[0mtraining_inputs\u001b[0m\u001b[0;34m)\u001b[0m\u001b[0;34m)\u001b[0m\u001b[0;34m\u001b[0m\u001b[0m\n\u001b[1;32m     13\u001b[0m \u001b[0;34m\u001b[0m\u001b[0m\n\u001b[0;32m---> 14\u001b[0;31m     \u001b[0mprint\u001b[0m\u001b[0;34m(\u001b[0m\u001b[0mlen\u001b[0m\u001b[0;34m(\u001b[0m\u001b[0mbatch_inputs\u001b[0m\u001b[0;34m)\u001b[0m\u001b[0;34m)\u001b[0m\u001b[0;34m\u001b[0m\u001b[0m\n\u001b[0m\u001b[1;32m     15\u001b[0m \u001b[0;34m\u001b[0m\u001b[0m\n\u001b[1;32m     16\u001b[0m     model.fit(\n",
      "\u001b[0;31mNameError\u001b[0m: name 'batch_inputs' is not defined"
     ]
    }
   ],
   "source": [
    "import random\n",
    "\n",
    "for e in range(10):\n",
    "    for i in range(200):\n",
    "        game.reset()\n",
    "        while not game.game_over():\n",
    "            make_move()\n",
    "            training_inputs.append(game.get_state())\n",
    "            training_outputs.append(get_value_map(game.get_state()))\n",
    "\n",
    "        display.clear_output(wait=True)\n",
    "        print(e, i, len(training_inputs))\n",
    "    \n",
    "    print(len(batch_inputs))\n",
    "        \n",
    "    model.fit(\n",
    "            np.array(training_inputs),  np.expand_dims(np.array(training_outputs), 3),  \n",
    "            shuffle=True, epochs=5, verbose=True\n",
    "    )"
   ]
  },
  {
   "cell_type": "code",
   "execution_count": 47,
   "metadata": {},
   "outputs": [
    {
     "data": {
      "text/plain": [
       "<matplotlib.image.AxesImage at 0x7f4d1153a668>"
      ]
     },
     "execution_count": 47,
     "metadata": {},
     "output_type": "execute_result"
    },
    {
     "data": {
      "image/png": "[encoded data removed]",
      "text/plain": [
       "<matplotlib.figure.Figure at 0x7f4d76bb9dd8>"
      ]
     },
     "metadata": {},
     "output_type": "display_data"
    }
   ],
   "source": [
    "plt.imshow(np.squeeze(model.predict(np.array([game.get_state()]))))"
   ]
  },
  {
   "cell_type": "code",
   "execution_count": 48,
   "metadata": {},
   "outputs": [
    {
     "data": {
      "text/plain": [
       "<matplotlib.image.AxesImage at 0x7f4d114a4390>"
      ]
     },
     "execution_count": 48,
     "metadata": {},
     "output_type": "execute_result"
    },
    {
     "data": {
      "image/png": "[encoded data removed]",
      "text/plain": [
       "<matplotlib.figure.Figure at 0x7f4d115594e0>"
      ]
     },
     "metadata": {},
     "output_type": "display_data"
    }
   ],
   "source": [
    "plt.imshow(np.squeeze(training_inputs[300]).astype(float))"
   ]
  },
  {
   "cell_type": "code",
   "execution_count": 49,
   "metadata": {},
   "outputs": [
    {
     "data": {
      "text/plain": [
       "<matplotlib.image.AxesImage at 0x7f4d1148e828>"
      ]
     },
     "execution_count": 49,
     "metadata": {},
     "output_type": "execute_result"
    },
    {
     "data": {
      "image/png": "[encoded data removed]",
      "text/plain": [
       "<matplotlib.figure.Figure at 0x7f4d114c1710>"
      ]
     },
     "metadata": {},
     "output_type": "display_data"
    }
   ],
   "source": [
    "plt.imshow(training_outputs[300])"
   ]
  },
  {
   "cell_type": "code",
   "execution_count": 50,
   "metadata": {},
   "outputs": [
    {
     "data": {
      "text/plain": [
       "<matplotlib.image.AxesImage at 0x7f4d113f6fd0>"
      ]
     },
     "execution_count": 50,
     "metadata": {},
     "output_type": "execute_result"
    },
    {
     "data": {
      "image/png": "[encoded data removed]",
      "text/plain": [
       "<matplotlib.figure.Figure at 0x7f4d114282b0>"
      ]
     },
     "metadata": {},
     "output_type": "display_data"
    }
   ],
   "source": [
    "plt.imshow(np.squeeze(model.predict(np.array([training_inputs[300]]))))"
   ]
  },
  {
   "cell_type": "code",
   "execution_count": 51,
   "metadata": {},
   "outputs": [
    {
     "data": {
      "text/plain": [
       "<matplotlib.image.AxesImage at 0x7f4d11367400>"
      ]
     },
     "execution_count": 51,
     "metadata": {},
     "output_type": "execute_result"
    },
    {
     "data": {
      "image/png": "[encoded data removed]",
      "text/plain": [
       "<matplotlib.figure.Figure at 0x7f4d1141b668>"
      ]
     },
     "metadata": {},
     "output_type": "display_data"
    }
   ],
   "source": [
    "plt.imshow(get_value_map(game.get_state()))"
   ]
  },
  {
   "cell_type": "code",
   "execution_count": 52,
   "metadata": {},
   "outputs": [
    {
     "data": {
      "text/plain": [
       "<matplotlib.image.AxesImage at 0x7f4d1134f978>"
      ]
     },
     "execution_count": 52,
     "metadata": {},
     "output_type": "execute_result"
    },
    {
     "data": {
      "image/png": "[encoded data removed]",
      "text/plain": [
       "<matplotlib.figure.Figure at 0x7f4d113845f8>"
      ]
     },
     "metadata": {},
     "output_type": "display_data"
    }
   ],
   "source": [
    "plt.imshow(game.get_state())"
   ]
  },
  {
   "cell_type": "code",
   "execution_count": null,
   "metadata": {
    "collapsed": true
   },
   "outputs": [],
   "source": [
    "model.fit(\n",
    "        np.array(training_inputs),  np.expand_dims(np.array(training_outputs), 3), \n",
    "        validation_data=(np.array(valid_inputs), np.expand_dims(np.array(valid_outputs), 3)), \n",
    "        shuffle=True, epochs=5, verbose=True\n",
    ")"
   ]
  },
  {
   "cell_type": "code",
   "execution_count": 100,
   "metadata": {
    "collapsed": true
   },
   "outputs": [],
   "source": [
    "model.save_weights('/data/trained_models/gomoku_q_learn/initial_v1.h5')"
   ]
  },
  {
   "cell_type": "code",
   "execution_count": null,
   "metadata": {
    "collapsed": true
   },
   "outputs": [],
   "source": []
  }
 ],
 "metadata": {
  "kernelspec": {
   "display_name": "Python 3",
   "language": "python",
   "name": "python3"
  },
  "language_info": {
   "codemirror_mode": {
    "name": "ipython",
    "version": 3
   },
   "file_extension": ".py",
   "mimetype": "text/x-python",
   "name": "python",
   "nbconvert_exporter": "python",
   "pygments_lexer": "ipython3",
   "version": "3.5.3"
  }
 },
 "nbformat": 4,
 "nbformat_minor": 2
}
