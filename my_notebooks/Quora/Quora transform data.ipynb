{
 "cells": [
  {
   "cell_type": "code",
   "execution_count": 1,
   "metadata": {
    "collapsed": true
   },
   "outputs": [],
   "source": [
    "import csv"
   ]
  },
  {
   "cell_type": "code",
   "execution_count": 2,
   "metadata": {
    "collapsed": true
   },
   "outputs": [],
   "source": [
    "training_data = []\n",
    "with open('/data/quora/train.csv', 'r', encoding='utf8') as csvfile:\n",
    "    csvreader = csv.reader(csvfile, delimiter=',', quotechar='\"')\n",
    "    next(csvreader)\n",
    "    for row in csvreader:\n",
    "        training_data.append(row)\n"
   ]
  },
  {
   "cell_type": "code",
   "execution_count": 3,
   "metadata": {
    "collapsed": true
   },
   "outputs": [],
   "source": [
    "from nltk.tokenize import word_tokenize"
   ]
  },
  {
   "cell_type": "code",
   "execution_count": 5,
   "metadata": {},
   "outputs": [
    {
     "name": "stdout",
     "output_type": "stream",
     "text": [
      "404200              \r"
     ]
    }
   ],
   "source": [
    "words = ['']\n",
    "wordidx = {'': 0}\n",
    "wordcount = {'': 0}\n",
    "\n",
    "def to_idx(word):\n",
    "    if word not in words:\n",
    "        wordidx[word] = len(words)\n",
    "        wordcount[word] = 0\n",
    "        words.append(word)\n",
    "    \n",
    "    wordcount[word] += 1\n",
    "    return wordidx[word]\n",
    "\n",
    "i = 0\n",
    "for example in training_data:\n",
    "    if i % 100 == 0: \n",
    "        print(str(i)+\"              \\r\", end='')\n",
    "    i=i+1\n",
    "    example.append(list(map(to_idx, word_tokenize(example[3].lower()))))\n",
    "    example.append(list(map(to_idx, word_tokenize(example[4].lower()))))"
   ]
  },
  {
   "cell_type": "code",
   "execution_count": 6,
   "metadata": {},
   "outputs": [
    {
     "data": {
      "text/plain": [
       "113579"
      ]
     },
     "execution_count": 6,
     "metadata": {},
     "output_type": "execute_result"
    }
   ],
   "source": [
    "len(words)"
   ]
  },
  {
   "cell_type": "code",
   "execution_count": 7,
   "metadata": {
    "collapsed": true
   },
   "outputs": [],
   "source": [
    "frequent_words = []\n",
    "for key, value in wordcount.items(): \n",
    "    if value > 50: \n",
    "        frequent_words.append([value, key])\n",
    "        \n",
    "frequent_words = sorted(frequent_words)"
   ]
  },
  {
   "cell_type": "code",
   "execution_count": 8,
   "metadata": {},
   "outputs": [
    {
     "data": {
      "text/plain": [
       "8434"
      ]
     },
     "execution_count": 8,
     "metadata": {},
     "output_type": "execute_result"
    }
   ],
   "source": [
    "len(frequent_words)"
   ]
  },
  {
   "cell_type": "code",
   "execution_count": 9,
   "metadata": {
    "collapsed": true
   },
   "outputs": [],
   "source": [
    "ordered_words = list(map(lambda x: x[1],frequent_words))"
   ]
  },
  {
   "cell_type": "code",
   "execution_count": 10,
   "metadata": {
    "collapsed": true
   },
   "outputs": [],
   "source": [
    "ordered_wordidx = {}\n",
    "for idx, w in enumerate(ordered_words):\n",
    "    ordered_wordidx[w] = idx\n"
   ]
  },
  {
   "cell_type": "code",
   "execution_count": 11,
   "metadata": {},
   "outputs": [
    {
     "name": "stdout",
     "output_type": "stream",
     "text": [
      "404200              \r"
     ]
    }
   ],
   "source": [
    "\n",
    "def to_idx(word):\n",
    "    if word not in ordered_words:\n",
    "        return 8434\n",
    "    \n",
    "    return ordered_wordidx[word]\n",
    "\n",
    "i = 0\n",
    "for example in training_data:\n",
    "    if i % 100 == 0: \n",
    "        print(str(i)+\"              \\r\", end='')\n",
    "    i=i+1\n",
    "    example[6] = list(map(to_idx, word_tokenize(example[3].lower())))\n",
    "    example[7] = list(map(to_idx, word_tokenize(example[4].lower())))"
   ]
  },
  {
   "cell_type": "code",
   "execution_count": 12,
   "metadata": {
    "collapsed": true
   },
   "outputs": [],
   "source": [
    "def idx2word(idx):\n",
    "    if idx == 8434:\n",
    "        return '####'\n",
    "    \n",
    "    return ordered_words[idx]"
   ]
  },
  {
   "cell_type": "code",
   "execution_count": 13,
   "metadata": {
    "collapsed": true
   },
   "outputs": [],
   "source": [
    "import bcolz\n",
    "def save_array(fname, arr):\n",
    "    c=bcolz.carray(arr, rootdir=fname, mode='w')\n",
    "    c.flush()"
   ]
  },
  {
   "cell_type": "code",
   "execution_count": 14,
   "metadata": {
    "collapsed": true
   },
   "outputs": [],
   "source": [
    "save_array('/data/quora/words.dat', ordered_words)"
   ]
  },
  {
   "cell_type": "code",
   "execution_count": 15,
   "metadata": {
    "collapsed": true
   },
   "outputs": [],
   "source": [
    "question_1 = []\n",
    "question_2 = []\n",
    "result = []\n",
    "\n",
    "for line in training_data:\n",
    "    question_1.append(line[6])\n",
    "    question_2.append(line[7])\n",
    "    result.append(int(line[5]))"
   ]
  },
  {
   "cell_type": "code",
   "execution_count": 16,
   "metadata": {
    "collapsed": true
   },
   "outputs": [],
   "source": [
    "save_array('/data/quora/question1.dat', question_1)\n",
    "save_array('/data/quora/question2.dat', question_2)\n",
    "save_array('/data/quora/result.dat', result)"
   ]
  },
  {
   "cell_type": "code",
   "execution_count": null,
   "metadata": {
    "collapsed": true
   },
   "outputs": [],
   "source": []
  }
 ],
 "metadata": {
  "kernelspec": {
   "display_name": "Python 3",
   "language": "python",
   "name": "python3"
  },
  "language_info": {
   "codemirror_mode": {
    "name": "ipython",
    "version": 3
   },
   "file_extension": ".py",
   "mimetype": "text/x-python",
   "name": "python",
   "nbconvert_exporter": "python",
   "pygments_lexer": "ipython3",
   "version": "3.5.3"
  }
 },
 "nbformat": 4,
 "nbformat_minor": 2
}
