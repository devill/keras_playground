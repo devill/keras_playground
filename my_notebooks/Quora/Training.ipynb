{
 "cells": [
  {
   "cell_type": "code",
   "execution_count": 1,
   "metadata": {
    "collapsed": true
   },
   "outputs": [],
   "source": [
    "import numpy as np"
   ]
  },
  {
   "cell_type": "markdown",
   "metadata": {},
   "source": [
    "# Prepare data"
   ]
  },
  {
   "cell_type": "code",
   "execution_count": 2,
   "metadata": {
    "collapsed": true
   },
   "outputs": [],
   "source": [
    "import bcolz\n",
    "\n",
    "def load_vectors(loc):\n",
    "    return (load_array(loc+'.dat'),\n",
    "        pickle.load(open(loc+'_words.pkl','rb')),\n",
    "        pickle.load(open(loc+'_idx.pkl','rb')))\n",
    "\n",
    "def load_array(fname):\n",
    "    return bcolz.open(fname)[:]"
   ]
  },
  {
   "cell_type": "code",
   "execution_count": 3,
   "metadata": {
    "collapsed": true
   },
   "outputs": [],
   "source": [
    "words = load_array('/data/quora/words.dat')\n",
    "question1 = load_array('/data/quora/question1.dat')\n",
    "question2 = load_array('/data/quora/question2.dat')\n",
    "results = load_array('/data/quora/result.dat')"
   ]
  },
  {
   "cell_type": "code",
   "execution_count": 4,
   "metadata": {
    "collapsed": true
   },
   "outputs": [],
   "source": [
    "words = np.append(words, ['###',''])"
   ]
  },
  {
   "cell_type": "code",
   "execution_count": 5,
   "metadata": {
    "collapsed": true
   },
   "outputs": [],
   "source": [
    "vocab_size = len(words)"
   ]
  },
  {
   "cell_type": "code",
   "execution_count": 6,
   "metadata": {
    "collapsed": true
   },
   "outputs": [],
   "source": [
    "wordidx = {w: idx for idx, w in enumerate(words)}"
   ]
  },
  {
   "cell_type": "code",
   "execution_count": 7,
   "metadata": {},
   "outputs": [
    {
     "data": {
      "text/plain": [
       "272"
      ]
     },
     "execution_count": 7,
     "metadata": {},
     "output_type": "execute_result"
    }
   ],
   "source": [
    "max_len = 0\n",
    "for l in question1:\n",
    "    max_len = max(max_len, len(l))\n",
    "    \n",
    "for l in question2:\n",
    "    max_len = max(max_len, len(l))\n",
    "\n",
    "max_len"
   ]
  },
  {
   "cell_type": "code",
   "execution_count": 8,
   "metadata": {
    "collapsed": true
   },
   "outputs": [],
   "source": [
    "len_distribution = [0 for i in range(max_len+1)]\n",
    "\n",
    "for l in question1:\n",
    "    len_distribution[len(l)] += 1\n",
    "    \n",
    "for l in question2:\n",
    "    len_distribution[len(l)] += 1"
   ]
  },
  {
   "cell_type": "code",
   "execution_count": 9,
   "metadata": {},
   "outputs": [
    {
     "data": {
      "image/png": "[encoded data removed]",
      "text/plain": [
       "<matplotlib.figure.Figure at 0x7f340a8a78d0>"
      ]
     },
     "metadata": {},
     "output_type": "display_data"
    }
   ],
   "source": [
    "import matplotlib.pyplot as plt\n",
    "%matplotlib inline\n",
    "\n",
    "y = len_distribution[:100]\n",
    "N = len(y)\n",
    "x = range(N)\n",
    "plt.bar(x, y, 1, color=\"blue\")\n",
    "plt.yscale('log')"
   ]
  },
  {
   "cell_type": "code",
   "execution_count": 10,
   "metadata": {},
   "outputs": [
    {
     "data": {
      "text/plain": [
       "42"
      ]
     },
     "execution_count": 10,
     "metadata": {},
     "output_type": "execute_result"
    }
   ],
   "source": [
    "np.sum(len_distribution[100:])"
   ]
  },
  {
   "cell_type": "code",
   "execution_count": 11,
   "metadata": {
    "collapsed": true
   },
   "outputs": [],
   "source": [
    "max_len = 100"
   ]
  },
  {
   "cell_type": "code",
   "execution_count": 12,
   "metadata": {},
   "outputs": [
    {
     "name": "stderr",
     "output_type": "stream",
     "text": [
      "Using TensorFlow backend.\n"
     ]
    }
   ],
   "source": [
    "from keras.preprocessing import sequence\n",
    "\n",
    "empty_word_idx = vocab_size - 1\n",
    "\n",
    "q1 = sequence.pad_sequences(question1, maxlen=max_len, padding='pre', truncating='post', value=empty_word_idx)\n",
    "q2 = sequence.pad_sequences(question2, maxlen=max_len, padding='pre', truncating='post', value=empty_word_idx)"
   ]
  },
  {
   "cell_type": "code",
   "execution_count": 13,
   "metadata": {
    "collapsed": true
   },
   "outputs": [],
   "source": [
    "from sklearn.model_selection import train_test_split\n",
    "\n",
    "q1_train, q1_valid, q2_train, q2_valid, labels_train, labels_valid = train_test_split(q1,q2,results, test_size=0.10)"
   ]
  },
  {
   "cell_type": "markdown",
   "metadata": {},
   "source": [
    "# Load pretrained embeddings"
   ]
  },
  {
   "cell_type": "code",
   "execution_count": 14,
   "metadata": {
    "collapsed": true
   },
   "outputs": [],
   "source": [
    "import bcolz\n",
    "import re\n",
    "from numpy.random import normal\n",
    "import _pickle as pickle\n",
    "\n",
    "def load_vectors(loc):\n",
    "    return (load_array(loc+'.dat'),\n",
    "        pickle.load(open(loc+'_words.pkl','rb')),\n",
    "        pickle.load(open(loc+'_idx.pkl','rb')))\n",
    "\n",
    "def load_array(fname):\n",
    "    return bcolz.open(fname)[:]"
   ]
  },
  {
   "cell_type": "code",
   "execution_count": 15,
   "metadata": {
    "collapsed": true
   },
   "outputs": [],
   "source": [
    "glove_vecs, glove_words, glove_wordidx = load_vectors('/data/glove/results/6B.50d')"
   ]
  },
  {
   "cell_type": "code",
   "execution_count": 16,
   "metadata": {
    "collapsed": true
   },
   "outputs": [],
   "source": [
    "def create_emb():\n",
    "    n_fact = glove_vecs.shape[1]\n",
    "    emb = np.zeros((vocab_size, n_fact))\n",
    "    randomized_tokens = []\n",
    "\n",
    "    for i in range(1,len(emb)):\n",
    "        word = words[i]\n",
    "        if word and word in glove_wordidx:\n",
    "            src_idx = glove_wordidx[word]\n",
    "            emb[i] = glove_vecs[src_idx]\n",
    "        else:\n",
    "            # If we can't find the word in glove, randomly initialize\n",
    "            randomized_tokens.append([i, word])\n",
    "            emb[i] = normal(scale=0.6, size=(n_fact,))\n",
    "\n",
    "    emb/=3\n",
    "    return emb, randomized_tokens"
   ]
  },
  {
   "cell_type": "code",
   "execution_count": 17,
   "metadata": {
    "collapsed": true
   },
   "outputs": [],
   "source": [
    "emb, randomized_tokens = create_emb()"
   ]
  },
  {
   "cell_type": "code",
   "execution_count": 18,
   "metadata": {},
   "outputs": [
    {
     "data": {
      "text/plain": [
       "113"
      ]
     },
     "execution_count": 18,
     "metadata": {},
     "output_type": "execute_result"
    }
   ],
   "source": [
    "len(randomized_tokens)"
   ]
  },
  {
   "cell_type": "markdown",
   "metadata": {},
   "source": [
    "# Convolutional model"
   ]
  },
  {
   "cell_type": "code",
   "execution_count": 24,
   "metadata": {
    "collapsed": true
   },
   "outputs": [],
   "source": [
    "vocab_size = len(words)"
   ]
  },
  {
   "cell_type": "code",
   "execution_count": 25,
   "metadata": {
    "collapsed": true
   },
   "outputs": [],
   "source": [
    "from keras.models import Model\n",
    "from keras.layers import Embedding, Input\n",
    "from keras.layers.core import Flatten, Dense, Dropout\n",
    "from keras.layers.convolutional import Conv1D, MaxPooling1D\n",
    "from keras.layers import concatenate\n",
    "from keras.optimizers import Adam\n",
    "\n",
    "    \n",
    "\n",
    "question1_input = Input(shape=(max_len,))\n",
    "question2_input = Input(shape=(max_len,))\n",
    "\n",
    "\n",
    "int_embedding = Embedding(vocab_size, 50, input_length=max_len, weights=[emb], trainable=False)\n",
    "int_dropout = Dropout(0.1)\n",
    "int_conv = Conv1D(128, 7, padding='same', activation='relu')\n",
    "int_maxpool = MaxPooling1D()\n",
    "\n",
    "def int_block(x):\n",
    "    return int_maxpool(int_conv(int_dropout(int_embedding(x))))\n",
    "\n",
    "x1 = int_block(question1_input)\n",
    "x2 = int_block(question2_input)\n",
    "\n",
    "x = concatenate([x1,x2])\n",
    "x = Flatten()(x)\n",
    "x = Dense(200, activation='relu')(x)\n",
    "x = Dense(100, activation='relu')(x)\n",
    "x = Dropout(0.3)(x)\n",
    "output = Dense(1, activation='sigmoid')(x)\n",
    "\n",
    "model = Model(\n",
    "    inputs=[question1_input, question2_input], \n",
    "    outputs=[output], \n",
    ")\n",
    "model.compile(\n",
    "    loss='binary_crossentropy', \n",
    "    optimizer=Adam(), \n",
    "    metrics=['accuracy']\n",
    ")"
   ]
  },
  {
   "cell_type": "code",
   "execution_count": 21,
   "metadata": {},
   "outputs": [
    {
     "name": "stdout",
     "output_type": "stream",
     "text": [
      "Train on 363861 samples, validate on 40429 samples\n",
      "Epoch 1/2\n",
      "363861/363861 [==============================] - 35s - loss: 0.5217 - acc: 0.7340 - val_loss: 0.4849 - val_acc: 0.7566\n",
      "Epoch 2/2\n",
      "363861/363861 [==============================] - 34s - loss: 0.4691 - acc: 0.7683 - val_loss: 0.4592 - val_acc: 0.7737\n"
     ]
    },
    {
     "data": {
      "text/plain": [
       "<keras.callbacks.History at 0x7fb7e4795128>"
      ]
     },
     "execution_count": 21,
     "metadata": {},
     "output_type": "execute_result"
    }
   ],
   "source": [
    "model.fit(\n",
    "    [q1_train, q2_train], \n",
    "    labels_train, \n",
    "    epochs=2, \n",
    "    batch_size=64,\n",
    "    validation_data=([q1_valid, q2_valid], labels_valid)\n",
    ")"
   ]
  },
  {
   "cell_type": "code",
   "execution_count": 22,
   "metadata": {
    "collapsed": true
   },
   "outputs": [],
   "source": [
    "#model.layers[0].trainable=True\n",
    "#model.optimizer.lr=1e-4"
   ]
  },
  {
   "cell_type": "markdown",
   "metadata": {},
   "source": [
    "# Examine model"
   ]
  },
  {
   "cell_type": "code",
   "execution_count": 71,
   "metadata": {
    "collapsed": true
   },
   "outputs": [],
   "source": [
    "predictions = model.predict([q1_valid, q2_valid])"
   ]
  },
  {
   "cell_type": "code",
   "execution_count": 72,
   "metadata": {
    "collapsed": true
   },
   "outputs": [],
   "source": [
    "predicted_labels = list(map(lambda x: int(round(x)), predictions[:, 0]))"
   ]
  },
  {
   "cell_type": "code",
   "execution_count": 73,
   "metadata": {},
   "outputs": [
    {
     "data": {
      "image/png": "[encoded data removed]",
      "text/plain": [
       "<matplotlib.figure.Figure at 0x7ff36d471fd0>"
      ]
     },
     "metadata": {},
     "output_type": "display_data"
    }
   ],
   "source": [
    "from sklearn.metrics import confusion_matrix\n",
    "import itertools\n",
    "%matplotlib inline\n",
    "\n",
    "cm = confusion_matrix(predicted_labels,labels_valid)\n",
    "plt.imshow(cm, interpolation='nearest', cmap=plt.cm.Blues)\n",
    "for i, j in itertools.product(range(cm.shape[0]), range(cm.shape[1])):\n",
    "    plt.text(j, i, cm[i, j], horizontalalignment=\"center\", color=\"white\" if cm[i, j] > cm.max() / 2 else \"black\")"
   ]
  },
  {
   "cell_type": "code",
   "execution_count": 74,
   "metadata": {
    "collapsed": true
   },
   "outputs": [],
   "source": [
    "from sklearn.metrics import roc_curve\n",
    "\n",
    "fpr, tpr, thresholds = roc_curve(labels_valid, predictions, pos_label=1)"
   ]
  },
  {
   "cell_type": "code",
   "execution_count": 75,
   "metadata": {},
   "outputs": [
    {
     "data": {
      "image/png": "[encoded data removed]",
      "text/plain": [
       "<matplotlib.figure.Figure at 0x7ff36d8f8390>"
      ]
     },
     "metadata": {},
     "output_type": "display_data"
    }
   ],
   "source": [
    "plt.figure()\n",
    "lw = 2\n",
    "plt.plot(fpr, tpr, color='darkorange',\n",
    "         lw=lw, label='ROC curve')\n",
    "plt.plot([0, 1], [0, 1], color='navy', lw=lw, linestyle='--')\n",
    "plt.xlim([0.0, 1.0])\n",
    "plt.ylim([0.0, 1.05])\n",
    "plt.xlabel('False Positive Rate')\n",
    "plt.ylabel('True Positive Rate')\n",
    "plt.title('Receiver operating characteristic example')\n",
    "plt.legend(loc=\"lower right\")\n",
    "plt.show()"
   ]
  },
  {
   "cell_type": "markdown",
   "metadata": {},
   "source": [
    "## Look at some examples"
   ]
  },
  {
   "cell_type": "code",
   "execution_count": 76,
   "metadata": {
    "collapsed": true
   },
   "outputs": [],
   "source": [
    "def to_words(tokenized):\n",
    "    return ' '.join(map(lambda w: words[w], tokenized)).strip()"
   ]
  },
  {
   "cell_type": "code",
   "execution_count": 77,
   "metadata": {
    "collapsed": true
   },
   "outputs": [],
   "source": [
    "def print_question_pair(question_pairs):\n",
    "    for data in question_pairs:\n",
    "        print(data[2])\n",
    "        print(data[3])\n",
    "        print('😄' if int(round(data[0]))== data[1] else '😞', end=' ')\n",
    "        print('=' if data[1] == 1 else '!', end=' ')\n",
    "        print('(' + str(data[0]) + ')')\n",
    "        print('')"
   ]
  },
  {
   "cell_type": "code",
   "execution_count": 78,
   "metadata": {
    "collapsed": true
   },
   "outputs": [],
   "source": [
    "validation_results = []\n",
    "for i in range(len(predicted_labels)):\n",
    "    validation_results.append(\n",
    "        [predictions[i, 0], labels_valid[i], to_words(q1_valid[i]), to_words(q2_valid[i])]\n",
    "    )"
   ]
  },
  {
   "cell_type": "markdown",
   "metadata": {},
   "source": [
    "### Confident answers"
   ]
  },
  {
   "cell_type": "code",
   "execution_count": 79,
   "metadata": {},
   "outputs": [
    {
     "name": "stdout",
     "output_type": "stream",
     "text": [
      "why is saltwater taffy candy imported in japan ?\n",
      "why is saltwater taffy candy imported in south korea ?\n",
      "😄 = (0.999968)\n",
      "\n",
      "why is saltwater taffy candy imported in japan ?\n",
      "why is saltwater taffy candy imported in portugal ?\n",
      "😄 = (0.999969)\n",
      "\n",
      "why is saltwater taffy candy imported in greece ?\n",
      "why is saltwater taffy candy imported in brazil ?\n",
      "😄 = (0.999969)\n",
      "\n",
      "why is saltwater taffy candy imported in australia ?\n",
      "why is saltwater taffy candy imported in switzerland ?\n",
      "😄 = (0.999974)\n",
      "\n",
      "why is saltwater taffy candy imported in jamaica ?\n",
      "why is saltwater taffy candy imported in switzerland ?\n",
      "😄 = (0.999978)\n",
      "\n"
     ]
    }
   ],
   "source": [
    "## Confident that it's identical\n",
    "print_question_pair(\n",
    "    sorted(validation_results, key=lambda x: x[0])[-5:]\n",
    ")"
   ]
  },
  {
   "cell_type": "code",
   "execution_count": 80,
   "metadata": {},
   "outputs": [
    {
     "name": "stdout",
     "output_type": "stream",
     "text": [
      "i can only fall asleep every other night . is my ### ### taking permanent damage ?\n",
      "can we initiate a java program through a arduino code if not then is there any sms gateway in arduino ?\n",
      "😄 ! (8.8413e-08)\n",
      "\n",
      "what is the deepest lake in europe , and how does this lake 's flora and fauna compare to that of lake victoria ?\n",
      "what is the deepest lake in europe , and how does this lake 's flora and fauna compare to that of lake superior ?\n",
      "😄 ! (1.43952e-07)\n",
      "\n",
      "what is the deepest lake in europe , and how does this lake 's flora and fauna compare to that of lake superior ?\n",
      "what is the deepest lake in europe , and how does this lake 's flora and fauna compare to that of lake ontario ?\n",
      "😄 ! (1.50966e-07)\n",
      "\n",
      "which are some of the countries you like or dislike ?\n",
      "what are the different exams we can attempt by preparing for ies ( ece branch ) ? ( like as i 'm from telangana state i knew only ### ae & ### ) ?\n",
      "😄 ! (1.57829e-07)\n",
      "\n",
      "is there is god ?\n",
      "i use dell adapter with ### ### - ### . what can be the replacement for this adapter ?\n",
      "😄 ! (2.0869e-07)\n",
      "\n"
     ]
    }
   ],
   "source": [
    "## Confident that it's different\n",
    "print_question_pair(\n",
    "    sorted(validation_results, key=lambda x: x[0])[:5]\n",
    ")"
   ]
  },
  {
   "cell_type": "markdown",
   "metadata": {},
   "source": [
    "### Most confident about wrong answer"
   ]
  },
  {
   "cell_type": "code",
   "execution_count": 81,
   "metadata": {},
   "outputs": [
    {
     "name": "stdout",
     "output_type": "stream",
     "text": [
      "why are the new 500 and 2000 rupees notes not made of plastic ?\n",
      "what do you think about the new 500 and 2000 rupee notes ?\n",
      "😞 ! (0.99184)\n",
      "\n",
      "what are the safety precautions on handling shotguns proposed by the nra in connecticut ?\n",
      "what are the safety precautions on handling shotguns proposed by the nra in new york ?\n",
      "😞 ! (0.995571)\n",
      "\n",
      "why do people ask questions on quora that can easily be answered by google ?\n",
      "why do people use quora to ask questions when google or wikipedia would be sufficient ?\n",
      "😞 ! (0.997111)\n",
      "\n",
      "how will the health sector and insurance sector in india after banning 500 and 1000 rupee notes ?\n",
      "will the ban on 1000 and 500 rupee notes affect the up and punjab election ?\n",
      "😞 ! (0.999005)\n",
      "\n",
      "what 's your new year resolutions for 2017 and what will you do to accomplish your goal ?\n",
      "what 's your new year resolutions for 2016 and what will you do to accomplish your goal ?\n",
      "😞 ! (0.999487)\n",
      "\n"
     ]
    }
   ],
   "source": [
    "## Non Identical\n",
    "print_question_pair(\n",
    "        sorted(\n",
    "            filter(lambda x: x[1] == 0,validation_results), \n",
    "            key=lambda x: abs(x[1] - x[0])\n",
    "        )[-5:]\n",
    "    )"
   ]
  },
  {
   "cell_type": "code",
   "execution_count": 82,
   "metadata": {},
   "outputs": [
    {
     "name": "stdout",
     "output_type": "stream",
     "text": [
      "what is reason behind that water ### are on outside of cool water ### ? how that will happen ?\n",
      "when cool water is ### in a steel glass , the outer side of the steel glass becomes wet and there are water ### in the outer surface . what is the fact behind it ?\n",
      "😞 = (0.00105404)\n",
      "\n",
      "how far back in time can a proper english speaker travel and still be able to communicate without using any ### words , or any other language ?\n",
      "if an ### person was to go back in time in england at what point would he or she no longer be able to understand the english language ?\n",
      "😞 = (0.000902076)\n",
      "\n",
      "what does it mean when my husband looks at other women ?\n",
      "what does it mean when my husband reads face book articles and looks at pictures of online models all the time ?\n",
      "😞 = (0.000845816)\n",
      "\n",
      "in how many days paytm ### wallet balance to bank account ?\n",
      "how much time does it takes to return money from paytm wallet to customer bank account ?\n",
      "😞 = (0.000826332)\n",
      "\n",
      "what are the most interesting products and innovations that ### resource is coming out with in 2016 ?\n",
      "what are the most interesting products and innovations that ### partners is coming out with in 2016 ?\n",
      "😞 = (0.000553219)\n",
      "\n"
     ]
    }
   ],
   "source": [
    "## Identical\n",
    "print_question_pair(\n",
    "        sorted(\n",
    "            filter(lambda x: x[1] == 1,validation_results), \n",
    "            key=lambda x: abs(x[1] - x[0])\n",
    "        )[-5:]\n",
    "    )"
   ]
  },
  {
   "cell_type": "markdown",
   "metadata": {},
   "source": [
    "### Most unsure"
   ]
  },
  {
   "cell_type": "code",
   "execution_count": 83,
   "metadata": {},
   "outputs": [
    {
     "name": "stdout",
     "output_type": "stream",
     "text": [
      "how will it be after death ? where does the soul go ?\n",
      "what happens to the soul after it leaves the body ?\n",
      "😄 = (0.500021)\n",
      "\n",
      "what exactly is ### ?\n",
      "what is an ### ?\n",
      "😞 = (0.499909)\n",
      "\n",
      "what 's the genre of this song ?\n",
      "what genre are these songs ?\n",
      "😞 ! (0.500099)\n",
      "\n",
      "why is fox news ### so much ?\n",
      "why is fox news called fox news ?\n",
      "😄 ! (0.499865)\n",
      "\n",
      "can the president pardon himself ?\n",
      "if the president can pardon , can he pardon himself from crimes ?\n",
      "😞 = (0.499828)\n",
      "\n",
      "how do you understand an ### prescription ?\n",
      "how can you understand your prescription of ### ?\n",
      "😄 = (0.500178)\n",
      "\n",
      "what will heaven be like according to christianity ?\n",
      "how big is heaven according to the bible ?\n",
      "😞 = (0.499809)\n",
      "\n",
      "is katrina kaif an actress ?\n",
      "is katrina kaif underrated actress ? if yes , why ?\n",
      "😞 ! (0.500224)\n",
      "\n",
      "what is the difference between virtual reality and mixed reality ?\n",
      "what is the difference between mixed reality and ### reality ?\n",
      "😞 = (0.499757)\n",
      "\n",
      "what is the first thing you notice about other people ?\n",
      "what do you think other people notice about you first ?\n",
      "😄 ! (0.499754)\n",
      "\n"
     ]
    }
   ],
   "source": [
    "## Non Identical\n",
    "print_question_pair(\n",
    "        sorted(\n",
    "            validation_results,\n",
    "            key=lambda x: abs(0.5 - x[0])\n",
    "        )[:10]\n",
    "    )"
   ]
  },
  {
   "cell_type": "markdown",
   "metadata": {},
   "source": [
    "# LSTM Model"
   ]
  },
  {
   "cell_type": "code",
   "execution_count": 39,
   "metadata": {
    "collapsed": true
   },
   "outputs": [],
   "source": [
    "from keras.models import Model\n",
    "from keras.regularizers import l2\n",
    "from keras.layers import LSTM\n",
    "from keras.layers import Embedding, Input\n",
    "from keras.layers.core import Flatten, Dense, Dropout\n",
    "from keras.layers import concatenate\n",
    "from keras.optimizers import Adam\n",
    "from keras.callbacks import ModelCheckpoint\n",
    "\n",
    "    \n",
    "\n",
    "question1_input = Input(shape=(max_len,))\n",
    "question2_input = Input(shape=(max_len,))\n",
    "\n",
    "\n",
    "int_embedding = Embedding(vocab_size, 50, input_length=max_len, weights=[emb], trainable=False)\n",
    "int_lstm1 = LSTM(100, return_sequences=True)\n",
    "int_lstm2 = LSTM(100)\n",
    "\n",
    "x1 = int_embedding(question1_input)\n",
    "x2 = int_embedding(question2_input)\n",
    "\n",
    "x1 = int_lstm1(x1)\n",
    "x2 = int_lstm1(x2)\n",
    "\n",
    "x1 = int_lstm2(x1)\n",
    "x2 = int_lstm2(x2)\n",
    "\n",
    "x = concatenate([x1,x2])\n",
    "x = Dense(100, activation='relu')(x)\n",
    "x = Dropout(0.3)(x)\n",
    "output = Dense(1, activation='sigmoid')(x)\n",
    "\n",
    "model = Model(\n",
    "    inputs=[question1_input, question2_input], \n",
    "    outputs=[output], \n",
    ")\n",
    "model.compile(\n",
    "    loss='binary_crossentropy', \n",
    "    optimizer=Adam(), \n",
    "    metrics=['accuracy']\n",
    ")\n",
    "\n",
    "checkpoint = ModelCheckpoint(filepath='/data/trained_models/quora/weights.v1.{epoch:02d}-{val_loss:.2f}.hdf5')"
   ]
  },
  {
   "cell_type": "code",
   "execution_count": 50,
   "metadata": {},
   "outputs": [
    {
     "name": "stdout",
     "output_type": "stream",
     "text": [
      "Train on 363861 samples, validate on 40429 samples\n",
      "Epoch 1/10\n",
      "363861/363861 [==============================] - 813s - loss: 0.5512 - acc: 0.7086 - val_loss: 0.5224 - val_acc: 0.7291\n",
      "Epoch 2/10\n",
      "363861/363861 [==============================] - 810s - loss: 0.5047 - acc: 0.7427 - val_loss: 0.4864 - val_acc: 0.7546\n",
      "Epoch 3/10\n",
      "363861/363861 [==============================] - 811s - loss: 0.4772 - acc: 0.7608 - val_loss: 0.4672 - val_acc: 0.7658\n",
      "Epoch 4/10\n",
      "363861/363861 [==============================] - 810s - loss: 0.4568 - acc: 0.7744 - val_loss: 0.4563 - val_acc: 0.7738\n",
      "Epoch 5/10\n",
      "363861/363861 [==============================] - 810s - loss: 0.4406 - acc: 0.7849 - val_loss: 0.4364 - val_acc: 0.7865\n",
      "Epoch 6/10\n",
      "363861/363861 [==============================] - 810s - loss: 0.4260 - acc: 0.7944 - val_loss: 0.4271 - val_acc: 0.7935\n",
      "Epoch 7/10\n",
      "363861/363861 [==============================] - 808s - loss: 0.4128 - acc: 0.8021 - val_loss: 0.4204 - val_acc: 0.7982\n",
      "Epoch 8/10\n",
      "363861/363861 [==============================] - 808s - loss: 0.4011 - acc: 0.8094 - val_loss: 0.4166 - val_acc: 0.8008\n",
      "Epoch 9/10\n",
      "363861/363861 [==============================] - 809s - loss: 0.3895 - acc: 0.8157 - val_loss: 0.4097 - val_acc: 0.8043\n",
      "Epoch 10/10\n",
      "363861/363861 [==============================] - 809s - loss: 0.3782 - acc: 0.8228 - val_loss: 0.4073 - val_acc: 0.8081\n"
     ]
    },
    {
     "data": {
      "text/plain": [
       "<keras.callbacks.History at 0x7fb73c1dc208>"
      ]
     },
     "execution_count": 50,
     "metadata": {},
     "output_type": "execute_result"
    }
   ],
   "source": [
    "model.fit(\n",
    "    [q1_train, q2_train], \n",
    "    labels_train, \n",
    "    epochs=10, \n",
    "    batch_size=256,\n",
    "    validation_data=([q1_valid, q2_valid], labels_valid),\n",
    "    callbacks=[checkpoint]\n",
    ")"
   ]
  },
  {
   "cell_type": "code",
   "execution_count": 68,
   "metadata": {
    "collapsed": true
   },
   "outputs": [],
   "source": [
    "from keras.models import load_model, save_model"
   ]
  },
  {
   "cell_type": "code",
   "execution_count": 41,
   "metadata": {
    "collapsed": true
   },
   "outputs": [],
   "source": [
    "model = load_model('/data/trained_models/quora/weights.v1.06-0.42.hdf5')"
   ]
  },
  {
   "cell_type": "code",
   "execution_count": 67,
   "metadata": {},
   "outputs": [
    {
     "name": "stdout",
     "output_type": "stream",
     "text": [
      "Train on 363861 samples, validate on 40429 samples\n",
      "Epoch 1/1\n",
      "363861/363861 [==============================] - 817s - loss: 0.3919 - acc: 0.8149 - val_loss: 0.3882 - val_acc: 0.8150\n"
     ]
    },
    {
     "data": {
      "text/plain": [
       "<keras.callbacks.History at 0x7ff36d4a4e80>"
      ]
     },
     "execution_count": 67,
     "metadata": {},
     "output_type": "execute_result"
    }
   ],
   "source": [
    "model.layers[0].trainable=True\n",
    "model.optimizer.lr=1e-5\n",
    "\n",
    "model.fit(\n",
    "    [q1_train, q2_train], \n",
    "    labels_train, \n",
    "    epochs=1, \n",
    "    batch_size=256,\n",
    "    validation_data=([q1_valid, q2_valid], labels_valid),\n",
    ")"
   ]
  },
  {
   "cell_type": "code",
   "execution_count": 70,
   "metadata": {},
   "outputs": [
    {
     "ename": "AttributeError",
     "evalue": "'float' object has no attribute 'eval'",
     "output_type": "error",
     "traceback": [
      "\u001b[0;31m---------------------------------------------------------------------------\u001b[0m",
      "\u001b[0;31mAttributeError\u001b[0m                            Traceback (most recent call last)",
      "\u001b[0;32m<ipython-input-70-14b3428b2462>\u001b[0m in \u001b[0;36m<module>\u001b[0;34m()\u001b[0m\n\u001b[0;32m----> 1\u001b[0;31m \u001b[0mmodel\u001b[0m\u001b[0;34m.\u001b[0m\u001b[0msave\u001b[0m\u001b[0;34m(\u001b[0m\u001b[0;34m'/data/trained_models/quora/weights.v1.2.hdf5'\u001b[0m\u001b[0;34m)\u001b[0m\u001b[0;34m\u001b[0m\u001b[0m\n\u001b[0m",
      "\u001b[0;32m/opt/conda/lib/python3.5/site-packages/keras/engine/topology.py\u001b[0m in \u001b[0;36msave\u001b[0;34m(self, filepath, overwrite, include_optimizer)\u001b[0m\n\u001b[1;32m   2504\u001b[0m         \"\"\"\n\u001b[1;32m   2505\u001b[0m         \u001b[0;32mfrom\u001b[0m \u001b[0;34m.\u001b[0m\u001b[0;34m.\u001b[0m\u001b[0mmodels\u001b[0m \u001b[0;32mimport\u001b[0m \u001b[0msave_model\u001b[0m\u001b[0;34m\u001b[0m\u001b[0m\n\u001b[0;32m-> 2506\u001b[0;31m         \u001b[0msave_model\u001b[0m\u001b[0;34m(\u001b[0m\u001b[0mself\u001b[0m\u001b[0;34m,\u001b[0m \u001b[0mfilepath\u001b[0m\u001b[0;34m,\u001b[0m \u001b[0moverwrite\u001b[0m\u001b[0;34m,\u001b[0m \u001b[0minclude_optimizer\u001b[0m\u001b[0;34m)\u001b[0m\u001b[0;34m\u001b[0m\u001b[0m\n\u001b[0m\u001b[1;32m   2507\u001b[0m \u001b[0;34m\u001b[0m\u001b[0m\n\u001b[1;32m   2508\u001b[0m     \u001b[0;32mdef\u001b[0m \u001b[0msave_weights\u001b[0m\u001b[0;34m(\u001b[0m\u001b[0mself\u001b[0m\u001b[0;34m,\u001b[0m \u001b[0mfilepath\u001b[0m\u001b[0;34m,\u001b[0m \u001b[0moverwrite\u001b[0m\u001b[0;34m=\u001b[0m\u001b[0;32mTrue\u001b[0m\u001b[0;34m)\u001b[0m\u001b[0;34m:\u001b[0m\u001b[0;34m\u001b[0m\u001b[0m\n",
      "\u001b[0;32m/opt/conda/lib/python3.5/site-packages/keras/models.py\u001b[0m in \u001b[0;36msave_model\u001b[0;34m(model, filepath, overwrite, include_optimizer)\u001b[0m\n\u001b[1;32m    130\u001b[0m                 'optimizer_config': {\n\u001b[1;32m    131\u001b[0m                     \u001b[0;34m'class_name'\u001b[0m\u001b[0;34m:\u001b[0m \u001b[0mmodel\u001b[0m\u001b[0;34m.\u001b[0m\u001b[0moptimizer\u001b[0m\u001b[0;34m.\u001b[0m\u001b[0m__class__\u001b[0m\u001b[0;34m.\u001b[0m\u001b[0m__name__\u001b[0m\u001b[0;34m,\u001b[0m\u001b[0;34m\u001b[0m\u001b[0m\n\u001b[0;32m--> 132\u001b[0;31m                     \u001b[0;34m'config'\u001b[0m\u001b[0;34m:\u001b[0m \u001b[0mmodel\u001b[0m\u001b[0;34m.\u001b[0m\u001b[0moptimizer\u001b[0m\u001b[0;34m.\u001b[0m\u001b[0mget_config\u001b[0m\u001b[0;34m(\u001b[0m\u001b[0;34m)\u001b[0m\u001b[0;34m\u001b[0m\u001b[0m\n\u001b[0m\u001b[1;32m    133\u001b[0m                 },\n\u001b[1;32m    134\u001b[0m                 \u001b[0;34m'loss'\u001b[0m\u001b[0;34m:\u001b[0m \u001b[0mmodel\u001b[0m\u001b[0;34m.\u001b[0m\u001b[0mloss\u001b[0m\u001b[0;34m,\u001b[0m\u001b[0;34m\u001b[0m\u001b[0m\n",
      "\u001b[0;32m/opt/conda/lib/python3.5/site-packages/keras/optimizers.py\u001b[0m in \u001b[0;36mget_config\u001b[0;34m(self)\u001b[0m\n\u001b[1;32m    436\u001b[0m \u001b[0;34m\u001b[0m\u001b[0m\n\u001b[1;32m    437\u001b[0m     \u001b[0;32mdef\u001b[0m \u001b[0mget_config\u001b[0m\u001b[0;34m(\u001b[0m\u001b[0mself\u001b[0m\u001b[0;34m)\u001b[0m\u001b[0;34m:\u001b[0m\u001b[0;34m\u001b[0m\u001b[0m\n\u001b[0;32m--> 438\u001b[0;31m         config = {'lr': float(K.get_value(self.lr)),\n\u001b[0m\u001b[1;32m    439\u001b[0m                   \u001b[0;34m'beta_1'\u001b[0m\u001b[0;34m:\u001b[0m \u001b[0mfloat\u001b[0m\u001b[0;34m(\u001b[0m\u001b[0mK\u001b[0m\u001b[0;34m.\u001b[0m\u001b[0mget_value\u001b[0m\u001b[0;34m(\u001b[0m\u001b[0mself\u001b[0m\u001b[0;34m.\u001b[0m\u001b[0mbeta_1\u001b[0m\u001b[0;34m)\u001b[0m\u001b[0;34m)\u001b[0m\u001b[0;34m,\u001b[0m\u001b[0;34m\u001b[0m\u001b[0m\n\u001b[1;32m    440\u001b[0m                   \u001b[0;34m'beta_2'\u001b[0m\u001b[0;34m:\u001b[0m \u001b[0mfloat\u001b[0m\u001b[0;34m(\u001b[0m\u001b[0mK\u001b[0m\u001b[0;34m.\u001b[0m\u001b[0mget_value\u001b[0m\u001b[0;34m(\u001b[0m\u001b[0mself\u001b[0m\u001b[0;34m.\u001b[0m\u001b[0mbeta_2\u001b[0m\u001b[0;34m)\u001b[0m\u001b[0;34m)\u001b[0m\u001b[0;34m,\u001b[0m\u001b[0;34m\u001b[0m\u001b[0m\n",
      "\u001b[0;32m/opt/conda/lib/python3.5/site-packages/keras/backend/tensorflow_backend.py\u001b[0m in \u001b[0;36mget_value\u001b[0;34m(x)\u001b[0m\n\u001b[1;32m   2124\u001b[0m         \u001b[0mA\u001b[0m \u001b[0mNumpy\u001b[0m \u001b[0marray\u001b[0m\u001b[0;34m.\u001b[0m\u001b[0;34m\u001b[0m\u001b[0m\n\u001b[1;32m   2125\u001b[0m     \"\"\"\n\u001b[0;32m-> 2126\u001b[0;31m     \u001b[0;32mreturn\u001b[0m \u001b[0mx\u001b[0m\u001b[0;34m.\u001b[0m\u001b[0meval\u001b[0m\u001b[0;34m(\u001b[0m\u001b[0msession\u001b[0m\u001b[0;34m=\u001b[0m\u001b[0mget_session\u001b[0m\u001b[0;34m(\u001b[0m\u001b[0;34m)\u001b[0m\u001b[0;34m)\u001b[0m\u001b[0;34m\u001b[0m\u001b[0m\n\u001b[0m\u001b[1;32m   2127\u001b[0m \u001b[0;34m\u001b[0m\u001b[0m\n\u001b[1;32m   2128\u001b[0m \u001b[0;34m\u001b[0m\u001b[0m\n",
      "\u001b[0;31mAttributeError\u001b[0m: 'float' object has no attribute 'eval'"
     ]
    }
   ],
   "source": [
    "model.save('/data/trained_models/quora/weights.v1.2.hdf5')"
   ]
  },
  {
   "cell_type": "markdown",
   "metadata": {
    "collapsed": true
   },
   "source": [
    "# Gradient Boosted LSTM"
   ]
  },
  {
   "cell_type": "code",
   "execution_count": 19,
   "metadata": {
    "collapsed": true
   },
   "outputs": [],
   "source": [
    "from keras.models import Model\n",
    "from keras.regularizers import l2\n",
    "from keras.layers import LSTM, Activation\n",
    "from keras.layers import Embedding, Input\n",
    "from keras.layers.core import Flatten, Dense, Dropout\n",
    "from keras.layers import concatenate, add\n",
    "from keras.optimizers import Adam\n",
    "from keras.callbacks import ModelCheckpoint\n",
    "\n",
    "\n",
    "class Interpretation:\n",
    "    def __init__(self):\n",
    "        self.embedding = Embedding(vocab_size, 50, input_length=max_len, weights=[emb], trainable=False)\n",
    "        self.lstm1 = LSTM(100, return_sequences=True)\n",
    "        self.lstm2 = LSTM(100)\n",
    "        \n",
    "    def __call__(self,x):\n",
    "        return self.lstm2(self.lstm1(self.embedding(x)))\n",
    "    \n",
    "def compare_network(x1,x2):\n",
    "    interpretation_block = Interpretation()\n",
    "    x1 = interpretation_block(x1)\n",
    "    x2 = interpretation_block(x2)\n",
    "\n",
    "    x = concatenate([x1,x2])\n",
    "    x = Dense(100, activation='relu')(x)\n",
    "    x = Dropout(0.3)(x)\n",
    "    return Dense(1)(x)\n",
    "\n",
    "question1_input = Input(shape=(max_len,))\n",
    "question2_input = Input(shape=(max_len,))\n",
    "\n",
    "network1_output = compare_network(question1_input, question2_input)\n",
    "network2_output = compare_network(question1_input, question2_input)\n",
    "network3_output = compare_network(question1_input, question2_input)\n",
    "\n",
    "output1 = Activation('sigmoid')(network1_output)\n",
    "output2 = Activation('sigmoid')(add([network1_output, network2_output]))\n",
    "output3 = Activation('sigmoid')(add([network1_output, network2_output, network3_output]))\n",
    "\n",
    "model = Model(\n",
    "    inputs=[question1_input, question2_input], \n",
    "    outputs=[output1, output2, output3], \n",
    ")\n",
    "model.compile(\n",
    "    loss='binary_crossentropy', \n",
    "    optimizer=Adam(), \n",
    "    metrics=['accuracy']\n",
    ")\n",
    "\n",
    "checkpoint = ModelCheckpoint(filepath='/data/trained_models/quora/weights.v3.{epoch:02d}-{val_loss:.2f}.hdf5')"
   ]
  },
  {
   "cell_type": "code",
   "execution_count": 20,
   "metadata": {},
   "outputs": [
    {
     "name": "stdout",
     "output_type": "stream",
     "text": [
      "Train on 363861 samples, validate on 40429 samples\n",
      "Epoch 1/10\n",
      "363861/363861 [==============================] - 705s - loss: 1.7050 - activation_1_loss: 0.5774 - activation_2_loss: 0.5657 - activation_3_loss: 0.5619 - activation_1_acc: 0.6888 - activation_2_acc: 0.6955 - activation_3_acc: 0.6980 - val_loss: 1.6029 - val_activation_1_loss: 0.5494 - val_activation_2_loss: 0.5311 - val_activation_3_loss: 0.5225 - val_activation_1_acc: 0.7099 - val_activation_2_acc: 0.7224 - val_activation_3_acc: 0.7273\n",
      "Epoch 2/10\n",
      "363861/363861 [==============================] - 735s - loss: 1.5632 - activation_1_loss: 0.5373 - activation_2_loss: 0.5186 - activation_3_loss: 0.5073 - activation_1_acc: 0.7199 - activation_2_acc: 0.7301 - activation_3_acc: 0.7378 - val_loss: 1.5163 - val_activation_1_loss: 0.5219 - val_activation_2_loss: 0.5037 - val_activation_3_loss: 0.4907 - val_activation_1_acc: 0.7308 - val_activation_2_acc: 0.7396 - val_activation_3_acc: 0.7501\n",
      "Epoch 3/10\n",
      "363861/363861 [==============================] - 736s - loss: 1.4938 - activation_1_loss: 0.5176 - activation_2_loss: 0.4956 - activation_3_loss: 0.4806 - activation_1_acc: 0.7353 - activation_2_acc: 0.7466 - activation_3_acc: 0.7573 - val_loss: 1.4579 - val_activation_1_loss: 0.5053 - val_activation_2_loss: 0.4839 - val_activation_3_loss: 0.4686 - val_activation_1_acc: 0.7452 - val_activation_2_acc: 0.7554 - val_activation_3_acc: 0.7646\n",
      "Epoch 4/10\n",
      "363861/363861 [==============================] - 739s - loss: 1.4410 - activation_1_loss: 0.5015 - activation_2_loss: 0.4775 - activation_3_loss: 0.4620 - activation_1_acc: 0.7462 - activation_2_acc: 0.7591 - activation_3_acc: 0.7701 - val_loss: 1.4149 - val_activation_1_loss: 0.4935 - val_activation_2_loss: 0.4681 - val_activation_3_loss: 0.4534 - val_activation_1_acc: 0.7517 - val_activation_2_acc: 0.7656 - val_activation_3_acc: 0.7752\n",
      "Epoch 5/10\n",
      "363861/363861 [==============================] - 730s - loss: 1.3994 - activation_1_loss: 0.4886 - activation_2_loss: 0.4632 - activation_3_loss: 0.4477 - activation_1_acc: 0.7544 - activation_2_acc: 0.7689 - activation_3_acc: 0.7793 - val_loss: 1.3887 - val_activation_1_loss: 0.4836 - val_activation_2_loss: 0.4594 - val_activation_3_loss: 0.4457 - val_activation_1_acc: 0.7572 - val_activation_2_acc: 0.7705 - val_activation_3_acc: 0.7801\n",
      "Epoch 6/10\n",
      "363861/363861 [==============================] - 739s - loss: 1.3638 - activation_1_loss: 0.4775 - activation_2_loss: 0.4508 - activation_3_loss: 0.4354 - activation_1_acc: 0.7616 - activation_2_acc: 0.7767 - activation_3_acc: 0.7870 - val_loss: 1.3594 - val_activation_1_loss: 0.4749 - val_activation_2_loss: 0.4486 - val_activation_3_loss: 0.4358 - val_activation_1_acc: 0.7645 - val_activation_2_acc: 0.7783 - val_activation_3_acc: 0.7859\n",
      "Epoch 7/10\n",
      "363861/363861 [==============================] - 745s - loss: 1.3306 - activation_1_loss: 0.4678 - activation_2_loss: 0.4394 - activation_3_loss: 0.4234 - activation_1_acc: 0.7680 - activation_2_acc: 0.7841 - activation_3_acc: 0.7948 - val_loss: 1.3345 - val_activation_1_loss: 0.4661 - val_activation_2_loss: 0.4409 - val_activation_3_loss: 0.4276 - val_activation_1_acc: 0.7692 - val_activation_2_acc: 0.7828 - val_activation_3_acc: 0.7915\n",
      "Epoch 8/10\n",
      "363861/363861 [==============================] - 728s - loss: 1.3027 - activation_1_loss: 0.4590 - activation_2_loss: 0.4301 - activation_3_loss: 0.4136 - activation_1_acc: 0.7733 - activation_2_acc: 0.7899 - activation_3_acc: 0.8007 - val_loss: 1.3214 - val_activation_1_loss: 0.4616 - val_activation_2_loss: 0.4360 - val_activation_3_loss: 0.4238 - val_activation_1_acc: 0.7700 - val_activation_2_acc: 0.7855 - val_activation_3_acc: 0.7964\n",
      "Epoch 9/10\n",
      "363861/363861 [==============================] - 714s - loss: 1.2727 - activation_1_loss: 0.4500 - activation_2_loss: 0.4199 - activation_3_loss: 0.4028 - activation_1_acc: 0.7779 - activation_2_acc: 0.7962 - activation_3_acc: 0.8067 - val_loss: 1.2971 - val_activation_1_loss: 0.4523 - val_activation_2_loss: 0.4280 - val_activation_3_loss: 0.4168 - val_activation_1_acc: 0.7773 - val_activation_2_acc: 0.7921 - val_activation_3_acc: 0.8015\n",
      "Epoch 10/10\n",
      "363861/363861 [==============================] - 722s - loss: 1.2459 - activation_1_loss: 0.4425 - activation_2_loss: 0.4107 - activation_3_loss: 0.3926 - activation_1_acc: 0.7827 - activation_2_acc: 0.8014 - activation_3_acc: 0.8130 - val_loss: 1.2846 - val_activation_1_loss: 0.4489 - val_activation_2_loss: 0.4241 - val_activation_3_loss: 0.4116 - val_activation_1_acc: 0.7814 - val_activation_2_acc: 0.7950 - val_activation_3_acc: 0.8041\n"
     ]
    },
    {
     "data": {
      "text/plain": [
       "<keras.callbacks.History at 0x7f3330d0df60>"
      ]
     },
     "execution_count": 20,
     "metadata": {},
     "output_type": "execute_result"
    }
   ],
   "source": [
    "model.fit(\n",
    "    [q1_train, q2_train], \n",
    "    [labels_train, labels_train, labels_train], \n",
    "    epochs=10, \n",
    "    batch_size=1024,\n",
    "    validation_data=([q1_valid, q2_valid], [labels_valid,labels_valid,labels_valid]),\n",
    "    callbacks=[checkpoint]\n",
    ")"
   ]
  },
  {
   "cell_type": "code",
   "execution_count": null,
   "metadata": {
    "collapsed": true
   },
   "outputs": [],
   "source": []
  }
 ],
 "metadata": {
  "kernelspec": {
   "display_name": "Python 3",
   "language": "python",
   "name": "python3"
  },
  "language_info": {
   "codemirror_mode": {
    "name": "ipython",
    "version": 3
   },
   "file_extension": ".py",
   "mimetype": "text/x-python",
   "name": "python",
   "nbconvert_exporter": "python",
   "pygments_lexer": "ipython3",
   "version": "3.5.3"
  }
 },
 "nbformat": 4,
 "nbformat_minor": 2
}
