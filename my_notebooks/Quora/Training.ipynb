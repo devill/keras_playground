{
 "cells": [
  {
   "cell_type": "code",
   "execution_count": 1,
   "metadata": {
    "collapsed": true
   },
   "outputs": [],
   "source": [
    "import numpy as np"
   ]
  },
  {
   "cell_type": "markdown",
   "metadata": {},
   "source": [
    "# Prepare data"
   ]
  },
  {
   "cell_type": "code",
   "execution_count": 2,
   "metadata": {
    "collapsed": true
   },
   "outputs": [],
   "source": [
    "import bcolz\n",
    "\n",
    "def load_vectors(loc):\n",
    "    return (load_array(loc+'.dat'),\n",
    "        pickle.load(open(loc+'_words.pkl','rb')),\n",
    "        pickle.load(open(loc+'_idx.pkl','rb')))\n",
    "\n",
    "def load_array(fname):\n",
    "    return bcolz.open(fname)[:]"
   ]
  },
  {
   "cell_type": "code",
   "execution_count": 3,
   "metadata": {
    "collapsed": true
   },
   "outputs": [],
   "source": [
    "words = load_array('/data/quora/words.dat')\n",
    "question1 = load_array('/data/quora/question1.dat')\n",
    "question2 = load_array('/data/quora/question2.dat')\n",
    "results = load_array('/data/quora/result.dat')"
   ]
  },
  {
   "cell_type": "code",
   "execution_count": 4,
   "metadata": {
    "collapsed": true
   },
   "outputs": [],
   "source": [
    "words = np.append(words, ['###',''])"
   ]
  },
  {
   "cell_type": "code",
   "execution_count": 5,
   "metadata": {
    "collapsed": true
   },
   "outputs": [],
   "source": [
    "vocab_size = len(words)"
   ]
  },
  {
   "cell_type": "code",
   "execution_count": 6,
   "metadata": {
    "collapsed": true
   },
   "outputs": [],
   "source": [
    "wordidx = {w: idx for idx, w in enumerate(words)}"
   ]
  },
  {
   "cell_type": "code",
   "execution_count": 7,
   "metadata": {},
   "outputs": [
    {
     "data": {
      "text/plain": [
       "272"
      ]
     },
     "execution_count": 7,
     "metadata": {},
     "output_type": "execute_result"
    }
   ],
   "source": [
    "max_len = 0\n",
    "for l in question1:\n",
    "    max_len = max(max_len, len(l))\n",
    "    \n",
    "for l in question2:\n",
    "    max_len = max(max_len, len(l))\n",
    "\n",
    "max_len"
   ]
  },
  {
   "cell_type": "code",
   "execution_count": 8,
   "metadata": {
    "collapsed": true
   },
   "outputs": [],
   "source": [
    "len_distribution = [0 for i in range(max_len+1)]\n",
    "\n",
    "for l in question1:\n",
    "    len_distribution[len(l)] += 1\n",
    "    \n",
    "for l in question2:\n",
    "    len_distribution[len(l)] += 1"
   ]
  },
  {
   "cell_type": "code",
   "execution_count": 9,
   "metadata": {},
   "outputs": [
    {
     "data": {
      "image/png": "[encoded data removed]",
      "text/plain": [
       "<matplotlib.figure.Figure at 0x7f35d42b3048>"
      ]
     },
     "metadata": {},
     "output_type": "display_data"
    }
   ],
   "source": [
    "import matplotlib.pyplot as plt\n",
    "%matplotlib inline\n",
    "\n",
    "y = len_distribution[:100]\n",
    "N = len(y)\n",
    "x = range(N)\n",
    "plt.bar(x, y, 1, color=\"blue\")\n",
    "plt.yscale('log')"
   ]
  },
  {
   "cell_type": "code",
   "execution_count": 10,
   "metadata": {},
   "outputs": [
    {
     "data": {
      "text/plain": [
       "42"
      ]
     },
     "execution_count": 10,
     "metadata": {},
     "output_type": "execute_result"
    }
   ],
   "source": [
    "np.sum(len_distribution[100:])"
   ]
  },
  {
   "cell_type": "code",
   "execution_count": 11,
   "metadata": {
    "collapsed": true
   },
   "outputs": [],
   "source": [
    "max_len = 100"
   ]
  },
  {
   "cell_type": "code",
   "execution_count": 12,
   "metadata": {},
   "outputs": [
    {
     "name": "stderr",
     "output_type": "stream",
     "text": [
      "Using TensorFlow backend.\n"
     ]
    }
   ],
   "source": [
    "from keras.preprocessing import sequence\n",
    "\n",
    "empty_word_idx = vocab_size - 1\n",
    "\n",
    "q1 = sequence.pad_sequences(question1, maxlen=max_len, padding='pre', truncating='post', value=empty_word_idx)\n",
    "q2 = sequence.pad_sequences(question2, maxlen=max_len, padding='pre', truncating='post', value=empty_word_idx)"
   ]
  },
  {
   "cell_type": "code",
   "execution_count": 13,
   "metadata": {
    "collapsed": true
   },
   "outputs": [],
   "source": [
    "from sklearn.model_selection import train_test_split\n",
    "\n",
    "q1_train, q1_valid, q2_train, q2_valid, labels_train, labels_valid = train_test_split(q1,q2,results, test_size=0.10)"
   ]
  },
  {
   "cell_type": "markdown",
   "metadata": {},
   "source": [
    "# Load pretrained embeddings"
   ]
  },
  {
   "cell_type": "code",
   "execution_count": 14,
   "metadata": {
    "collapsed": true
   },
   "outputs": [],
   "source": [
    "import bcolz\n",
    "import re\n",
    "from numpy.random import normal\n",
    "import _pickle as pickle\n",
    "\n",
    "def load_vectors(loc):\n",
    "    return (load_array(loc+'.dat'),\n",
    "        pickle.load(open(loc+'_words.pkl','rb')),\n",
    "        pickle.load(open(loc+'_idx.pkl','rb')))\n",
    "\n",
    "def load_array(fname):\n",
    "    return bcolz.open(fname)[:]"
   ]
  },
  {
   "cell_type": "code",
   "execution_count": 15,
   "metadata": {
    "collapsed": true
   },
   "outputs": [],
   "source": [
    "glove_vecs, glove_words, glove_wordidx = load_vectors('/data/glove/results/6B.50d')"
   ]
  },
  {
   "cell_type": "code",
   "execution_count": 16,
   "metadata": {
    "collapsed": true
   },
   "outputs": [],
   "source": [
    "def create_emb():\n",
    "    n_fact = glove_vecs.shape[1]\n",
    "    emb = np.zeros((vocab_size, n_fact))\n",
    "    randomized_tokens = []\n",
    "\n",
    "    for i in range(1,len(emb)):\n",
    "        word = words[i]\n",
    "        if word and word in glove_wordidx:\n",
    "            src_idx = glove_wordidx[word]\n",
    "            emb[i] = glove_vecs[src_idx]\n",
    "        else:\n",
    "            # If we can't find the word in glove, randomly initialize\n",
    "            randomized_tokens.append([i, word])\n",
    "            emb[i] = normal(scale=0.6, size=(n_fact,))\n",
    "\n",
    "    emb/=3\n",
    "    return emb, randomized_tokens"
   ]
  },
  {
   "cell_type": "code",
   "execution_count": 17,
   "metadata": {
    "collapsed": true
   },
   "outputs": [],
   "source": [
    "emb, randomized_tokens = create_emb()"
   ]
  },
  {
   "cell_type": "code",
   "execution_count": 18,
   "metadata": {},
   "outputs": [
    {
     "data": {
      "text/plain": [
       "113"
      ]
     },
     "execution_count": 18,
     "metadata": {},
     "output_type": "execute_result"
    }
   ],
   "source": [
    "len(randomized_tokens)"
   ]
  },
  {
   "cell_type": "markdown",
   "metadata": {},
   "source": [
    "# Convolutional model"
   ]
  },
  {
   "cell_type": "code",
   "execution_count": 24,
   "metadata": {
    "collapsed": true
   },
   "outputs": [],
   "source": [
    "vocab_size = len(words)"
   ]
  },
  {
   "cell_type": "code",
   "execution_count": 25,
   "metadata": {
    "collapsed": true
   },
   "outputs": [],
   "source": [
    "from keras.models import Model\n",
    "from keras.layers import Embedding, Input\n",
    "from keras.layers.core import Flatten, Dense, Dropout\n",
    "from keras.layers.convolutional import Conv1D, MaxPooling1D\n",
    "from keras.layers import concatenate\n",
    "from keras.optimizers import Adam\n",
    "\n",
    "    \n",
    "\n",
    "question1_input = Input(shape=(max_len,))\n",
    "question2_input = Input(shape=(max_len,))\n",
    "\n",
    "\n",
    "int_embedding = Embedding(vocab_size, 50, input_length=max_len, weights=[emb], trainable=False)\n",
    "int_dropout = Dropout(0.1)\n",
    "int_conv = Conv1D(128, 7, padding='same', activation='relu')\n",
    "int_maxpool = MaxPooling1D()\n",
    "\n",
    "def int_block(x):\n",
    "    return int_maxpool(int_conv(int_dropout(int_embedding(x))))\n",
    "\n",
    "x1 = int_block(question1_input)\n",
    "x2 = int_block(question2_input)\n",
    "\n",
    "x = concatenate([x1,x2])\n",
    "x = Flatten()(x)\n",
    "x = Dense(200, activation='relu')(x)\n",
    "x = Dense(100, activation='relu')(x)\n",
    "x = Dropout(0.3)(x)\n",
    "output = Dense(1, activation='sigmoid')(x)\n",
    "\n",
    "model = Model(\n",
    "    inputs=[question1_input, question2_input], \n",
    "    outputs=[output], \n",
    ")\n",
    "model.compile(\n",
    "    loss='binary_crossentropy', \n",
    "    optimizer=Adam(), \n",
    "    metrics=['accuracy']\n",
    ")"
   ]
  },
  {
   "cell_type": "code",
   "execution_count": 21,
   "metadata": {},
   "outputs": [
    {
     "name": "stdout",
     "output_type": "stream",
     "text": [
      "Train on 363861 samples, validate on 40429 samples\n",
      "Epoch 1/2\n",
      "363861/363861 [==============================] - 35s - loss: 0.5217 - acc: 0.7340 - val_loss: 0.4849 - val_acc: 0.7566\n",
      "Epoch 2/2\n",
      "363861/363861 [==============================] - 34s - loss: 0.4691 - acc: 0.7683 - val_loss: 0.4592 - val_acc: 0.7737\n"
     ]
    },
    {
     "data": {
      "text/plain": [
       "<keras.callbacks.History at 0x7fb7e4795128>"
      ]
     },
     "execution_count": 21,
     "metadata": {},
     "output_type": "execute_result"
    }
   ],
   "source": [
    "model.fit(\n",
    "    [q1_train, q2_train], \n",
    "    labels_train, \n",
    "    epochs=2, \n",
    "    batch_size=64,\n",
    "    validation_data=([q1_valid, q2_valid], labels_valid)\n",
    ")"
   ]
  },
  {
   "cell_type": "code",
   "execution_count": 22,
   "metadata": {
    "collapsed": true
   },
   "outputs": [],
   "source": [
    "#model.layers[0].trainable=True\n",
    "#model.optimizer.lr=1e-4"
   ]
  },
  {
   "cell_type": "markdown",
   "metadata": {},
   "source": [
    "# Examine model"
   ]
  },
  {
   "cell_type": "code",
   "execution_count": 41,
   "metadata": {
    "collapsed": true
   },
   "outputs": [],
   "source": [
    "predictions = model.predict([q1_valid, q2_valid])"
   ]
  },
  {
   "cell_type": "code",
   "execution_count": 47,
   "metadata": {},
   "outputs": [
    {
     "data": {
      "text/plain": [
       "(40429, 1)"
      ]
     },
     "execution_count": 47,
     "metadata": {},
     "output_type": "execute_result"
    }
   ],
   "source": [
    "predictions[0].shape"
   ]
  },
  {
   "cell_type": "code",
   "execution_count": 50,
   "metadata": {
    "collapsed": true
   },
   "outputs": [],
   "source": [
    "predicted_labels_normal = list(map(lambda x: int(round(x)), predictions[0][:, 0]))\n",
    "predicted_labels_boosted = list(map(lambda x: int(round(x)), predictions[1][:, 0]))"
   ]
  },
  {
   "cell_type": "code",
   "execution_count": 52,
   "metadata": {},
   "outputs": [
    {
     "data": {
      "image/png": "[encoded data removed]",
      "text/plain": [
       "<matplotlib.figure.Figure at 0x7f34cfaf9a90>"
      ]
     },
     "metadata": {},
     "output_type": "display_data"
    }
   ],
   "source": [
    "from sklearn.metrics import confusion_matrix\n",
    "import itertools\n",
    "%matplotlib inline\n",
    "\n",
    "cm = confusion_matrix(predicted_labels_normal,labels_valid)\n",
    "plt.imshow(cm, interpolation='nearest', cmap=plt.cm.Blues)\n",
    "for i, j in itertools.product(range(cm.shape[0]), range(cm.shape[1])):\n",
    "    plt.text(j, i, cm[i, j], horizontalalignment=\"center\", color=\"white\" if cm[i, j] > cm.max() / 2 else \"black\")"
   ]
  },
  {
   "cell_type": "code",
   "execution_count": 53,
   "metadata": {},
   "outputs": [
    {
     "data": {
      "image/png": "[encoded data removed]",
      "text/plain": [
       "<matplotlib.figure.Figure at 0x7f34cfa96d68>"
      ]
     },
     "metadata": {},
     "output_type": "display_data"
    }
   ],
   "source": [
    "cm = confusion_matrix(predicted_labels_boosted,labels_valid)\n",
    "plt.imshow(cm, interpolation='nearest', cmap=plt.cm.Blues)\n",
    "for i, j in itertools.product(range(cm.shape[0]), range(cm.shape[1])):\n",
    "    plt.text(j, i, cm[i, j], horizontalalignment=\"center\", color=\"white\" if cm[i, j] > cm.max() / 2 else \"black\")"
   ]
  },
  {
   "cell_type": "code",
   "execution_count": 55,
   "metadata": {},
   "outputs": [],
   "source": [
    "from sklearn.metrics import roc_curve\n",
    "\n",
    "fpr_normal, tpr_normal, thresholds_normal = roc_curve(labels_valid, predictions[0], pos_label=1)\n",
    "fpr_boosted, tpr_boosted, thresholds_boosted = roc_curve(labels_valid, predictions[1], pos_label=1)"
   ]
  },
  {
   "cell_type": "code",
   "execution_count": 59,
   "metadata": {},
   "outputs": [
    {
     "data": {
      "image/png": "[encoded data removed]",
      "text/plain": [
       "<matplotlib.figure.Figure at 0x7f34cf57b2b0>"
      ]
     },
     "metadata": {},
     "output_type": "display_data"
    }
   ],
   "source": [
    "plt.figure(figsize=(12, 9))\n",
    "lw = 2\n",
    "plt.plot(fpr_normal, tpr_normal, color='darkorange',\n",
    "         lw=lw, label='ROC curve')\n",
    "plt.plot(fpr_boosted, tpr_boosted, color='darkred',\n",
    "         lw=lw, label='ROC curve')\n",
    "plt.plot([0, 1], [0, 1], color='navy', lw=lw, linestyle='--')\n",
    "plt.xlim([0.0, 1.0])\n",
    "plt.ylim([0.0, 1.05])\n",
    "plt.xlabel('False Positive Rate')\n",
    "plt.ylabel('True Positive Rate')\n",
    "plt.title('Receiver operating characteristic example')\n",
    "plt.legend(loc=\"lower right\")\n",
    "plt.show()"
   ]
  },
  {
   "cell_type": "markdown",
   "metadata": {},
   "source": [
    "## Look at some examples"
   ]
  },
  {
   "cell_type": "code",
   "execution_count": 67,
   "metadata": {
    "collapsed": true
   },
   "outputs": [],
   "source": [
    "predicted_labels = predicted_labels_boosted\n",
    "predictions = predictions[1]"
   ]
  },
  {
   "cell_type": "code",
   "execution_count": 68,
   "metadata": {
    "collapsed": true
   },
   "outputs": [],
   "source": [
    "def to_words(tokenized):\n",
    "    return ' '.join(map(lambda w: words[w], tokenized)).strip()"
   ]
  },
  {
   "cell_type": "code",
   "execution_count": 69,
   "metadata": {
    "collapsed": true
   },
   "outputs": [],
   "source": [
    "def print_question_pair(question_pairs):\n",
    "    for data in question_pairs:\n",
    "        print(data[2])\n",
    "        print(data[3])\n",
    "        print('😄' if int(round(data[0]))== data[1] else '😞', end=' ')\n",
    "        print('=' if data[1] == 1 else '!', end=' ')\n",
    "        print('(' + str(data[0]) + ')')\n",
    "        print('')"
   ]
  },
  {
   "cell_type": "code",
   "execution_count": 70,
   "metadata": {},
   "outputs": [],
   "source": [
    "validation_results = []\n",
    "for i in range(len(predicted_labels)):\n",
    "    validation_results.append(\n",
    "        [predictions[i, 0], labels_valid[i], to_words(q1_valid[i]), to_words(q2_valid[i])]\n",
    "    )"
   ]
  },
  {
   "cell_type": "markdown",
   "metadata": {},
   "source": [
    "### Confident answers"
   ]
  },
  {
   "cell_type": "code",
   "execution_count": 71,
   "metadata": {},
   "outputs": [
    {
     "name": "stdout",
     "output_type": "stream",
     "text": [
      "what do you think of pm 's decision on the banning of 500 and 100 rupee notes ?\n",
      "what do you think about banning 500 and 1000 rupee notes in india ?\n",
      "😄 = (0.999998)\n",
      "\n",
      "what is the sahara , and how do the average temperatures there compare to the ones in the great basin desert ?\n",
      "what is the sahara , and how do the average temperatures there compare to the ones in the colorado plateau ?\n",
      "😄 = (0.999998)\n",
      "\n",
      "what do you think of abolishing 500 and 1000 rupee currency notes by the indian government ?\n",
      "what do you think about ban on rs . 500 and rs . 1000 currency notes ?\n",
      "😄 = (0.999999)\n",
      "\n",
      "why do people ask questions on quora that are easily to find answers too on google ?\n",
      "why do people ask questions on quora that are easily ### via a quick internet search ?\n",
      "😄 = (0.999999)\n",
      "\n",
      "what is the sahara , and how do the average temperatures there compare to the ones in the dasht-e ### ?\n",
      "what is the sahara , and how do the average temperatures there compare to the ones in the dasht-e ### ?\n",
      "😄 = (1.0)\n",
      "\n"
     ]
    }
   ],
   "source": [
    "## Confident that it's identical\n",
    "print_question_pair(\n",
    "    sorted(validation_results, key=lambda x: x[0])[-5:]\n",
    ")"
   ]
  },
  {
   "cell_type": "code",
   "execution_count": 72,
   "metadata": {},
   "outputs": [
    {
     "name": "stdout",
     "output_type": "stream",
     "text": [
      "do homosexual relationships tend to follow the same nuclear family roles that a straight relationship has ?\n",
      "i am friends with a girl . we are in the same school . we do n't talk that much . after school when she goes to the main road for ### a bus , i also go to that road . she thinks that i am following her or ### her , but i am not . how can i prove her wrong and be friends again ?\n",
      "😄 ! (2.98579e-13)\n",
      "\n",
      "i study nuclear chemistry in germany and i am not sure about my future ?\n",
      "i am 18 and i love my best friend . i am not sure about his feelings for me but mostly they indicate that he 's also interested in me , but he is not much interested in getting into a relationship because is too busy with his studies right now . should i move on or should i wait ?\n",
      "😄 ! (1.39314e-12)\n",
      "\n",
      "what are business owners experiencing with their home which is causing a ### with the life they want to live ?\n",
      "i have been in love with one boy for three years . he is not doing any job , he wants to do business . in my home , they are planning to marry me . i just want to share my life with my lover only . i want to talk about my love in my home , but he does n't have a job . what can i do ?\n",
      "😄 ! (3.81615e-12)\n",
      "\n",
      "what is the deepest lake in europe , and how does this lake 's flora and fauna compare to that of lake edward ?\n",
      "what is the deepest lake in europe , and how does this lake 's flora and fauna compare to that of lake ### ?\n",
      "😄 ! (3.92531e-12)\n",
      "\n",
      "what is the deepest lake in europe , and how does this lake 's flora and fauna compare to that of lake ### ?\n",
      "what is the deepest lake in europe , and how does this lake 's flora and fauna compare to that of lake edward ?\n",
      "😄 ! (4.11303e-12)\n",
      "\n"
     ]
    }
   ],
   "source": [
    "## Confident that it's different\n",
    "print_question_pair(\n",
    "    sorted(validation_results, key=lambda x: x[0])[:5]\n",
    ")"
   ]
  },
  {
   "cell_type": "markdown",
   "metadata": {},
   "source": [
    "### Most confident about wrong answer"
   ]
  },
  {
   "cell_type": "code",
   "execution_count": 81,
   "metadata": {},
   "outputs": [
    {
     "name": "stdout",
     "output_type": "stream",
     "text": [
      "why are the new 500 and 2000 rupees notes not made of plastic ?\n",
      "what do you think about the new 500 and 2000 rupee notes ?\n",
      "😞 ! (0.99184)\n",
      "\n",
      "what are the safety precautions on handling shotguns proposed by the nra in connecticut ?\n",
      "what are the safety precautions on handling shotguns proposed by the nra in new york ?\n",
      "😞 ! (0.995571)\n",
      "\n",
      "why do people ask questions on quora that can easily be answered by google ?\n",
      "why do people use quora to ask questions when google or wikipedia would be sufficient ?\n",
      "😞 ! (0.997111)\n",
      "\n",
      "how will the health sector and insurance sector in india after banning 500 and 1000 rupee notes ?\n",
      "will the ban on 1000 and 500 rupee notes affect the up and punjab election ?\n",
      "😞 ! (0.999005)\n",
      "\n",
      "what 's your new year resolutions for 2017 and what will you do to accomplish your goal ?\n",
      "what 's your new year resolutions for 2016 and what will you do to accomplish your goal ?\n",
      "😞 ! (0.999487)\n",
      "\n"
     ]
    }
   ],
   "source": [
    "## Non Identical\n",
    "print_question_pair(\n",
    "        sorted(\n",
    "            filter(lambda x: x[1] == 0,validation_results), \n",
    "            key=lambda x: abs(x[1] - x[0])\n",
    "        )[-5:]\n",
    "    )"
   ]
  },
  {
   "cell_type": "code",
   "execution_count": 82,
   "metadata": {},
   "outputs": [
    {
     "name": "stdout",
     "output_type": "stream",
     "text": [
      "what is reason behind that water ### are on outside of cool water ### ? how that will happen ?\n",
      "when cool water is ### in a steel glass , the outer side of the steel glass becomes wet and there are water ### in the outer surface . what is the fact behind it ?\n",
      "😞 = (0.00105404)\n",
      "\n",
      "how far back in time can a proper english speaker travel and still be able to communicate without using any ### words , or any other language ?\n",
      "if an ### person was to go back in time in england at what point would he or she no longer be able to understand the english language ?\n",
      "😞 = (0.000902076)\n",
      "\n",
      "what does it mean when my husband looks at other women ?\n",
      "what does it mean when my husband reads face book articles and looks at pictures of online models all the time ?\n",
      "😞 = (0.000845816)\n",
      "\n",
      "in how many days paytm ### wallet balance to bank account ?\n",
      "how much time does it takes to return money from paytm wallet to customer bank account ?\n",
      "😞 = (0.000826332)\n",
      "\n",
      "what are the most interesting products and innovations that ### resource is coming out with in 2016 ?\n",
      "what are the most interesting products and innovations that ### partners is coming out with in 2016 ?\n",
      "😞 = (0.000553219)\n",
      "\n"
     ]
    }
   ],
   "source": [
    "## Identical\n",
    "print_question_pair(\n",
    "        sorted(\n",
    "            filter(lambda x: x[1] == 1,validation_results), \n",
    "            key=lambda x: abs(x[1] - x[0])\n",
    "        )[-5:]\n",
    "    )"
   ]
  },
  {
   "cell_type": "markdown",
   "metadata": {},
   "source": [
    "### Most unsure"
   ]
  },
  {
   "cell_type": "code",
   "execution_count": 83,
   "metadata": {},
   "outputs": [
    {
     "name": "stdout",
     "output_type": "stream",
     "text": [
      "how will it be after death ? where does the soul go ?\n",
      "what happens to the soul after it leaves the body ?\n",
      "😄 = (0.500021)\n",
      "\n",
      "what exactly is ### ?\n",
      "what is an ### ?\n",
      "😞 = (0.499909)\n",
      "\n",
      "what 's the genre of this song ?\n",
      "what genre are these songs ?\n",
      "😞 ! (0.500099)\n",
      "\n",
      "why is fox news ### so much ?\n",
      "why is fox news called fox news ?\n",
      "😄 ! (0.499865)\n",
      "\n",
      "can the president pardon himself ?\n",
      "if the president can pardon , can he pardon himself from crimes ?\n",
      "😞 = (0.499828)\n",
      "\n",
      "how do you understand an ### prescription ?\n",
      "how can you understand your prescription of ### ?\n",
      "😄 = (0.500178)\n",
      "\n",
      "what will heaven be like according to christianity ?\n",
      "how big is heaven according to the bible ?\n",
      "😞 = (0.499809)\n",
      "\n",
      "is katrina kaif an actress ?\n",
      "is katrina kaif underrated actress ? if yes , why ?\n",
      "😞 ! (0.500224)\n",
      "\n",
      "what is the difference between virtual reality and mixed reality ?\n",
      "what is the difference between mixed reality and ### reality ?\n",
      "😞 = (0.499757)\n",
      "\n",
      "what is the first thing you notice about other people ?\n",
      "what do you think other people notice about you first ?\n",
      "😄 ! (0.499754)\n",
      "\n"
     ]
    }
   ],
   "source": [
    "## Non Identical\n",
    "print_question_pair(\n",
    "        sorted(\n",
    "            validation_results,\n",
    "            key=lambda x: abs(0.5 - x[0])\n",
    "        )[:10]\n",
    "    )"
   ]
  },
  {
   "cell_type": "markdown",
   "metadata": {},
   "source": [
    "# LSTM Model"
   ]
  },
  {
   "cell_type": "code",
   "execution_count": 39,
   "metadata": {
    "collapsed": true
   },
   "outputs": [],
   "source": [
    "from keras.models import Model\n",
    "from keras.regularizers import l2\n",
    "from keras.layers import LSTM\n",
    "from keras.layers import Embedding, Input\n",
    "from keras.layers.core import Flatten, Dense, Dropout\n",
    "from keras.layers import concatenate\n",
    "from keras.optimizers import Adam\n",
    "from keras.callbacks import ModelCheckpoint\n",
    "\n",
    "    \n",
    "\n",
    "question1_input = Input(shape=(max_len,))\n",
    "question2_input = Input(shape=(max_len,))\n",
    "\n",
    "\n",
    "int_embedding = Embedding(vocab_size, 50, input_length=max_len, weights=[emb], trainable=False)\n",
    "int_lstm1 = LSTM(100, return_sequences=True)\n",
    "int_lstm2 = LSTM(100)\n",
    "\n",
    "x1 = int_embedding(question1_input)\n",
    "x2 = int_embedding(question2_input)\n",
    "\n",
    "x1 = int_lstm1(x1)\n",
    "x2 = int_lstm1(x2)\n",
    "\n",
    "x1 = int_lstm2(x1)\n",
    "x2 = int_lstm2(x2)\n",
    "\n",
    "x = concatenate([x1,x2])\n",
    "x = Dense(100, activation='relu')(x)\n",
    "x = Dropout(0.3)(x)\n",
    "output = Dense(1, activation='sigmoid')(x)\n",
    "\n",
    "model = Model(\n",
    "    inputs=[question1_input, question2_input], \n",
    "    outputs=[output], \n",
    ")\n",
    "model.compile(\n",
    "    loss='binary_crossentropy', \n",
    "    optimizer=Adam(), \n",
    "    metrics=['accuracy']\n",
    ")\n",
    "\n",
    "checkpoint = ModelCheckpoint(filepath='/data/trained_models/quora/weights.v1.{epoch:02d}-{val_loss:.2f}.hdf5')"
   ]
  },
  {
   "cell_type": "code",
   "execution_count": 50,
   "metadata": {},
   "outputs": [
    {
     "name": "stdout",
     "output_type": "stream",
     "text": [
      "Train on 363861 samples, validate on 40429 samples\n",
      "Epoch 1/10\n",
      "363861/363861 [==============================] - 813s - loss: 0.5512 - acc: 0.7086 - val_loss: 0.5224 - val_acc: 0.7291\n",
      "Epoch 2/10\n",
      "363861/363861 [==============================] - 810s - loss: 0.5047 - acc: 0.7427 - val_loss: 0.4864 - val_acc: 0.7546\n",
      "Epoch 3/10\n",
      "363861/363861 [==============================] - 811s - loss: 0.4772 - acc: 0.7608 - val_loss: 0.4672 - val_acc: 0.7658\n",
      "Epoch 4/10\n",
      "363861/363861 [==============================] - 810s - loss: 0.4568 - acc: 0.7744 - val_loss: 0.4563 - val_acc: 0.7738\n",
      "Epoch 5/10\n",
      "363861/363861 [==============================] - 810s - loss: 0.4406 - acc: 0.7849 - val_loss: 0.4364 - val_acc: 0.7865\n",
      "Epoch 6/10\n",
      "363861/363861 [==============================] - 810s - loss: 0.4260 - acc: 0.7944 - val_loss: 0.4271 - val_acc: 0.7935\n",
      "Epoch 7/10\n",
      "363861/363861 [==============================] - 808s - loss: 0.4128 - acc: 0.8021 - val_loss: 0.4204 - val_acc: 0.7982\n",
      "Epoch 8/10\n",
      "363861/363861 [==============================] - 808s - loss: 0.4011 - acc: 0.8094 - val_loss: 0.4166 - val_acc: 0.8008\n",
      "Epoch 9/10\n",
      "363861/363861 [==============================] - 809s - loss: 0.3895 - acc: 0.8157 - val_loss: 0.4097 - val_acc: 0.8043\n",
      "Epoch 10/10\n",
      "363861/363861 [==============================] - 809s - loss: 0.3782 - acc: 0.8228 - val_loss: 0.4073 - val_acc: 0.8081\n"
     ]
    },
    {
     "data": {
      "text/plain": [
       "<keras.callbacks.History at 0x7fb73c1dc208>"
      ]
     },
     "execution_count": 50,
     "metadata": {},
     "output_type": "execute_result"
    }
   ],
   "source": [
    "model.fit(\n",
    "    [q1_train, q2_train], \n",
    "    labels_train, \n",
    "    epochs=10, \n",
    "    batch_size=256,\n",
    "    validation_data=([q1_valid, q2_valid], labels_valid),\n",
    "    callbacks=[checkpoint]\n",
    ")"
   ]
  },
  {
   "cell_type": "code",
   "execution_count": 68,
   "metadata": {
    "collapsed": true
   },
   "outputs": [],
   "source": [
    "from keras.models import load_model, save_model"
   ]
  },
  {
   "cell_type": "code",
   "execution_count": 41,
   "metadata": {
    "collapsed": true
   },
   "outputs": [],
   "source": [
    "model = load_model('/data/trained_models/quora/weights.v1.06-0.42.hdf5')"
   ]
  },
  {
   "cell_type": "code",
   "execution_count": 67,
   "metadata": {},
   "outputs": [
    {
     "name": "stdout",
     "output_type": "stream",
     "text": [
      "Train on 363861 samples, validate on 40429 samples\n",
      "Epoch 1/1\n",
      "363861/363861 [==============================] - 817s - loss: 0.3919 - acc: 0.8149 - val_loss: 0.3882 - val_acc: 0.8150\n"
     ]
    },
    {
     "data": {
      "text/plain": [
       "<keras.callbacks.History at 0x7ff36d4a4e80>"
      ]
     },
     "execution_count": 67,
     "metadata": {},
     "output_type": "execute_result"
    }
   ],
   "source": [
    "model.layers[0].trainable=True\n",
    "model.optimizer.lr=1e-5\n",
    "\n",
    "model.fit(\n",
    "    [q1_train, q2_train], \n",
    "    labels_train, \n",
    "    epochs=1, \n",
    "    batch_size=256,\n",
    "    validation_data=([q1_valid, q2_valid], labels_valid),\n",
    ")"
   ]
  },
  {
   "cell_type": "code",
   "execution_count": 70,
   "metadata": {},
   "outputs": [
    {
     "ename": "AttributeError",
     "evalue": "'float' object has no attribute 'eval'",
     "output_type": "error",
     "traceback": [
      "\u001b[0;31m---------------------------------------------------------------------------\u001b[0m",
      "\u001b[0;31mAttributeError\u001b[0m                            Traceback (most recent call last)",
      "\u001b[0;32m<ipython-input-70-14b3428b2462>\u001b[0m in \u001b[0;36m<module>\u001b[0;34m()\u001b[0m\n\u001b[0;32m----> 1\u001b[0;31m \u001b[0mmodel\u001b[0m\u001b[0;34m.\u001b[0m\u001b[0msave\u001b[0m\u001b[0;34m(\u001b[0m\u001b[0;34m'/data/trained_models/quora/weights.v1.2.hdf5'\u001b[0m\u001b[0;34m)\u001b[0m\u001b[0;34m\u001b[0m\u001b[0m\n\u001b[0m",
      "\u001b[0;32m/opt/conda/lib/python3.5/site-packages/keras/engine/topology.py\u001b[0m in \u001b[0;36msave\u001b[0;34m(self, filepath, overwrite, include_optimizer)\u001b[0m\n\u001b[1;32m   2504\u001b[0m         \"\"\"\n\u001b[1;32m   2505\u001b[0m         \u001b[0;32mfrom\u001b[0m \u001b[0;34m.\u001b[0m\u001b[0;34m.\u001b[0m\u001b[0mmodels\u001b[0m \u001b[0;32mimport\u001b[0m \u001b[0msave_model\u001b[0m\u001b[0;34m\u001b[0m\u001b[0m\n\u001b[0;32m-> 2506\u001b[0;31m         \u001b[0msave_model\u001b[0m\u001b[0;34m(\u001b[0m\u001b[0mself\u001b[0m\u001b[0;34m,\u001b[0m \u001b[0mfilepath\u001b[0m\u001b[0;34m,\u001b[0m \u001b[0moverwrite\u001b[0m\u001b[0;34m,\u001b[0m \u001b[0minclude_optimizer\u001b[0m\u001b[0;34m)\u001b[0m\u001b[0;34m\u001b[0m\u001b[0m\n\u001b[0m\u001b[1;32m   2507\u001b[0m \u001b[0;34m\u001b[0m\u001b[0m\n\u001b[1;32m   2508\u001b[0m     \u001b[0;32mdef\u001b[0m \u001b[0msave_weights\u001b[0m\u001b[0;34m(\u001b[0m\u001b[0mself\u001b[0m\u001b[0;34m,\u001b[0m \u001b[0mfilepath\u001b[0m\u001b[0;34m,\u001b[0m \u001b[0moverwrite\u001b[0m\u001b[0;34m=\u001b[0m\u001b[0;32mTrue\u001b[0m\u001b[0;34m)\u001b[0m\u001b[0;34m:\u001b[0m\u001b[0;34m\u001b[0m\u001b[0m\n",
      "\u001b[0;32m/opt/conda/lib/python3.5/site-packages/keras/models.py\u001b[0m in \u001b[0;36msave_model\u001b[0;34m(model, filepath, overwrite, include_optimizer)\u001b[0m\n\u001b[1;32m    130\u001b[0m                 'optimizer_config': {\n\u001b[1;32m    131\u001b[0m                     \u001b[0;34m'class_name'\u001b[0m\u001b[0;34m:\u001b[0m \u001b[0mmodel\u001b[0m\u001b[0;34m.\u001b[0m\u001b[0moptimizer\u001b[0m\u001b[0;34m.\u001b[0m\u001b[0m__class__\u001b[0m\u001b[0;34m.\u001b[0m\u001b[0m__name__\u001b[0m\u001b[0;34m,\u001b[0m\u001b[0;34m\u001b[0m\u001b[0m\n\u001b[0;32m--> 132\u001b[0;31m                     \u001b[0;34m'config'\u001b[0m\u001b[0;34m:\u001b[0m \u001b[0mmodel\u001b[0m\u001b[0;34m.\u001b[0m\u001b[0moptimizer\u001b[0m\u001b[0;34m.\u001b[0m\u001b[0mget_config\u001b[0m\u001b[0;34m(\u001b[0m\u001b[0;34m)\u001b[0m\u001b[0;34m\u001b[0m\u001b[0m\n\u001b[0m\u001b[1;32m    133\u001b[0m                 },\n\u001b[1;32m    134\u001b[0m                 \u001b[0;34m'loss'\u001b[0m\u001b[0;34m:\u001b[0m \u001b[0mmodel\u001b[0m\u001b[0;34m.\u001b[0m\u001b[0mloss\u001b[0m\u001b[0;34m,\u001b[0m\u001b[0;34m\u001b[0m\u001b[0m\n",
      "\u001b[0;32m/opt/conda/lib/python3.5/site-packages/keras/optimizers.py\u001b[0m in \u001b[0;36mget_config\u001b[0;34m(self)\u001b[0m\n\u001b[1;32m    436\u001b[0m \u001b[0;34m\u001b[0m\u001b[0m\n\u001b[1;32m    437\u001b[0m     \u001b[0;32mdef\u001b[0m \u001b[0mget_config\u001b[0m\u001b[0;34m(\u001b[0m\u001b[0mself\u001b[0m\u001b[0;34m)\u001b[0m\u001b[0;34m:\u001b[0m\u001b[0;34m\u001b[0m\u001b[0m\n\u001b[0;32m--> 438\u001b[0;31m         config = {'lr': float(K.get_value(self.lr)),\n\u001b[0m\u001b[1;32m    439\u001b[0m                   \u001b[0;34m'beta_1'\u001b[0m\u001b[0;34m:\u001b[0m \u001b[0mfloat\u001b[0m\u001b[0;34m(\u001b[0m\u001b[0mK\u001b[0m\u001b[0;34m.\u001b[0m\u001b[0mget_value\u001b[0m\u001b[0;34m(\u001b[0m\u001b[0mself\u001b[0m\u001b[0;34m.\u001b[0m\u001b[0mbeta_1\u001b[0m\u001b[0;34m)\u001b[0m\u001b[0;34m)\u001b[0m\u001b[0;34m,\u001b[0m\u001b[0;34m\u001b[0m\u001b[0m\n\u001b[1;32m    440\u001b[0m                   \u001b[0;34m'beta_2'\u001b[0m\u001b[0;34m:\u001b[0m \u001b[0mfloat\u001b[0m\u001b[0;34m(\u001b[0m\u001b[0mK\u001b[0m\u001b[0;34m.\u001b[0m\u001b[0mget_value\u001b[0m\u001b[0;34m(\u001b[0m\u001b[0mself\u001b[0m\u001b[0;34m.\u001b[0m\u001b[0mbeta_2\u001b[0m\u001b[0;34m)\u001b[0m\u001b[0;34m)\u001b[0m\u001b[0;34m,\u001b[0m\u001b[0;34m\u001b[0m\u001b[0m\n",
      "\u001b[0;32m/opt/conda/lib/python3.5/site-packages/keras/backend/tensorflow_backend.py\u001b[0m in \u001b[0;36mget_value\u001b[0;34m(x)\u001b[0m\n\u001b[1;32m   2124\u001b[0m         \u001b[0mA\u001b[0m \u001b[0mNumpy\u001b[0m \u001b[0marray\u001b[0m\u001b[0;34m.\u001b[0m\u001b[0;34m\u001b[0m\u001b[0m\n\u001b[1;32m   2125\u001b[0m     \"\"\"\n\u001b[0;32m-> 2126\u001b[0;31m     \u001b[0;32mreturn\u001b[0m \u001b[0mx\u001b[0m\u001b[0;34m.\u001b[0m\u001b[0meval\u001b[0m\u001b[0;34m(\u001b[0m\u001b[0msession\u001b[0m\u001b[0;34m=\u001b[0m\u001b[0mget_session\u001b[0m\u001b[0;34m(\u001b[0m\u001b[0;34m)\u001b[0m\u001b[0;34m)\u001b[0m\u001b[0;34m\u001b[0m\u001b[0m\n\u001b[0m\u001b[1;32m   2127\u001b[0m \u001b[0;34m\u001b[0m\u001b[0m\n\u001b[1;32m   2128\u001b[0m \u001b[0;34m\u001b[0m\u001b[0m\n",
      "\u001b[0;31mAttributeError\u001b[0m: 'float' object has no attribute 'eval'"
     ]
    }
   ],
   "source": [
    "model.save('/data/trained_models/quora/weights.v1.2.hdf5')"
   ]
  },
  {
   "cell_type": "markdown",
   "metadata": {
    "collapsed": true
   },
   "source": [
    "# Gradient Boosted LSTM"
   ]
  },
  {
   "cell_type": "code",
   "execution_count": 27,
   "metadata": {},
   "outputs": [],
   "source": [
    "from keras.models import Model\n",
    "from keras.regularizers import l2\n",
    "from keras.layers import LSTM, Activation\n",
    "from keras.layers import Embedding, Input\n",
    "from keras.layers.core import Flatten, Dense, Dropout\n",
    "from keras.layers import concatenate, add\n",
    "from keras.optimizers import Adam\n",
    "from keras.callbacks import ModelCheckpoint\n",
    "\n",
    "\n",
    "class Interpretation:\n",
    "    def __init__(self, name):\n",
    "        self.embedding = Embedding(vocab_size, 50, input_length=max_len, weights=[emb], trainable=False, name=name+'_embedding')\n",
    "        self.lstm1 = LSTM(100, return_sequences=True, name=name+'_lstm1')\n",
    "        self.lstm2 = LSTM(100, name=name+'_lstm2')\n",
    "        \n",
    "    def __call__(self,x):\n",
    "        return self.lstm2(self.lstm1(self.embedding(x)))\n",
    "    \n",
    "def compare_network(x1,x2,name):\n",
    "    interpretation_block = Interpretation(name)\n",
    "    x1 = interpretation_block(x1)\n",
    "    x2 = interpretation_block(x2)\n",
    "\n",
    "    x = concatenate([x1,x2], name=name+'_concatenate')\n",
    "    x = Dense(100, activation='relu', name=name+'_dense1')(x)\n",
    "    x = Dropout(0.3, name=name+'_dropout')(x)\n",
    "    return Dense(1, name=name+'_dense2')(x)\n",
    "\n",
    "question1_input = Input(shape=(max_len,))\n",
    "question2_input = Input(shape=(max_len,))\n",
    "\n",
    "network1_output = compare_network(question1_input, question2_input, 'primary')\n",
    "network2_output = compare_network(question1_input, question2_input, 'boost')\n",
    "\n",
    "output1 = Activation('sigmoid', name='primary_out')(network1_output)\n",
    "output2 = Activation('sigmoid', name='boost_out')(add([network1_output, network2_output]))\n",
    "\n",
    "model = Model(\n",
    "    inputs=[question1_input, question2_input], \n",
    "    outputs=[output1, output2], \n",
    ")\n",
    "model.compile(\n",
    "    loss='binary_crossentropy', \n",
    "    optimizer=Adam(), \n",
    "    metrics=['accuracy']\n",
    ")\n",
    "\n",
    "checkpoint = ModelCheckpoint(filepath='/data/trained_models/quora/weights.v4.{epoch:02d}-{val_loss:.2f}.hdf5')"
   ]
  },
  {
   "cell_type": "code",
   "execution_count": 29,
   "metadata": {},
   "outputs": [],
   "source": [
    "from keras.models import load_model \n",
    "\n",
    "host_model = load_model('/data/trained_models/quora/weights.v1.06-0.42.hdf5')"
   ]
  },
  {
   "cell_type": "code",
   "execution_count": 36,
   "metadata": {},
   "outputs": [],
   "source": [
    "model.get_layer('primary_embedding').set_weights(host_model.get_layer('embedding_8').get_weights())\n",
    "\n",
    "model.get_layer('primary_lstm1').set_weights(host_model.get_layer('lstm_12').get_weights())\n",
    "model.get_layer('primary_lstm2').set_weights(host_model.get_layer('lstm_13').get_weights())\n",
    "\n",
    "model.get_layer('primary_dense1').set_weights(host_model.get_layer('dense_15').get_weights())\n",
    "model.get_layer('primary_dense2').set_weights(host_model.get_layer('dense_16').get_weights())\n",
    "\n",
    "model.get_layer('primary_lstm1').trainable=False\n",
    "model.get_layer('primary_lstm2').trainable=False\n",
    "\n",
    "model.get_layer('primary_dense1').trainable=False\n",
    "model.get_layer('primary_dense2').trainable=False\n"
   ]
  },
  {
   "cell_type": "code",
   "execution_count": 37,
   "metadata": {},
   "outputs": [
    {
     "name": "stdout",
     "output_type": "stream",
     "text": [
      "40429/40429 [==============================] - 6s     \n"
     ]
    },
    {
     "data": {
      "text/plain": [
       "[0.39316259684317711, 0.81233767826648151]"
      ]
     },
     "execution_count": 37,
     "metadata": {},
     "output_type": "execute_result"
    }
   ],
   "source": [
    "host_model.evaluate([q1_valid, q2_valid], labels_valid, batch_size=1024)"
   ]
  },
  {
   "cell_type": "code",
   "execution_count": 38,
   "metadata": {},
   "outputs": [
    {
     "name": "stdout",
     "output_type": "stream",
     "text": [
      "40429/40429 [==============================] - 11s    \n"
     ]
    },
    {
     "data": {
      "text/plain": [
       "[0.78648469020777267,\n",
       " 0.39316259684317711,\n",
       " 0.39332209375602334,\n",
       " 0.81233767753964958,\n",
       " 0.81226347347804806]"
      ]
     },
     "execution_count": 38,
     "metadata": {},
     "output_type": "execute_result"
    }
   ],
   "source": [
    "model.evaluate([q1_valid, q2_valid], [labels_valid,labels_valid], batch_size=1024)"
   ]
  },
  {
   "cell_type": "code",
   "execution_count": null,
   "metadata": {
    "collapsed": true
   },
   "outputs": [],
   "source": []
  },
  {
   "cell_type": "code",
   "execution_count": 40,
   "metadata": {},
   "outputs": [
    {
     "name": "stdout",
     "output_type": "stream",
     "text": [
      "Train on 363861 samples, validate on 40429 samples\n",
      "Epoch 1/10\n",
      "363861/363861 [==============================] - 436s - loss: 0.7893 - primary_out_loss: 0.3946 - boost_out_loss: 0.3947 - primary_out_acc: 0.8125 - boost_out_acc: 0.8124 - val_loss: 0.7724 - val_primary_out_loss: 0.3863 - val_boost_out_loss: 0.3861 - val_primary_out_acc: 0.8162 - val_boost_out_acc: 0.8161\n",
      "Epoch 2/10\n",
      "363861/363861 [==============================] - 430s - loss: 0.7687 - primary_out_loss: 0.3844 - boost_out_loss: 0.3843 - primary_out_acc: 0.8185 - boost_out_acc: 0.8186 - val_loss: 0.7708 - val_primary_out_loss: 0.3855 - val_boost_out_loss: 0.3853 - val_primary_out_acc: 0.8182 - val_boost_out_acc: 0.8182\n",
      "Epoch 3/10\n",
      "363861/363861 [==============================] - 438s - loss: 0.7534 - primary_out_loss: 0.3769 - boost_out_loss: 0.3765 - primary_out_acc: 0.8227 - boost_out_acc: 0.8226 - val_loss: 0.7653 - val_primary_out_loss: 0.3828 - val_boost_out_loss: 0.3825 - val_primary_out_acc: 0.8190 - val_boost_out_acc: 0.8184\n",
      "Epoch 4/10\n",
      "363861/363861 [==============================] - 430s - loss: 0.7386 - primary_out_loss: 0.3695 - boost_out_loss: 0.3690 - primary_out_acc: 0.8264 - boost_out_acc: 0.8265 - val_loss: 0.7696 - val_primary_out_loss: 0.3851 - val_boost_out_loss: 0.3845 - val_primary_out_acc: 0.8164 - val_boost_out_acc: 0.8168\n",
      "Epoch 5/10\n",
      "363861/363861 [==============================] - 430s - loss: 0.7234 - primary_out_loss: 0.3621 - boost_out_loss: 0.3613 - primary_out_acc: 0.8311 - boost_out_acc: 0.8315 - val_loss: 0.7644 - val_primary_out_loss: 0.3823 - val_boost_out_loss: 0.3821 - val_primary_out_acc: 0.8191 - val_boost_out_acc: 0.8196\n",
      "Epoch 6/10\n",
      "363861/363861 [==============================] - 430s - loss: 0.7098 - primary_out_loss: 0.3554 - boost_out_loss: 0.3544 - primary_out_acc: 0.8343 - boost_out_acc: 0.8346 - val_loss: 0.7665 - val_primary_out_loss: 0.3837 - val_boost_out_loss: 0.3828 - val_primary_out_acc: 0.8195 - val_boost_out_acc: 0.8200\n",
      "Epoch 7/10\n",
      "363861/363861 [==============================] - 425s - loss: 0.6944 - primary_out_loss: 0.3478 - boost_out_loss: 0.3466 - primary_out_acc: 0.8386 - boost_out_acc: 0.8390 - val_loss: 0.7660 - val_primary_out_loss: 0.3835 - val_boost_out_loss: 0.3825 - val_primary_out_acc: 0.8231 - val_boost_out_acc: 0.8232\n",
      "Epoch 8/10\n",
      "363861/363861 [==============================] - 419s - loss: 0.6803 - primary_out_loss: 0.3409 - boost_out_loss: 0.3393 - primary_out_acc: 0.8425 - boost_out_acc: 0.8437 - val_loss: 0.7656 - val_primary_out_loss: 0.3833 - val_boost_out_loss: 0.3822 - val_primary_out_acc: 0.8228 - val_boost_out_acc: 0.8237\n",
      "Epoch 9/10\n",
      "363861/363861 [==============================] - 411s - loss: 0.6675 - primary_out_loss: 0.3347 - boost_out_loss: 0.3327 - primary_out_acc: 0.8455 - boost_out_acc: 0.8461 - val_loss: 0.7657 - val_primary_out_loss: 0.3837 - val_boost_out_loss: 0.3820 - val_primary_out_acc: 0.8230 - val_boost_out_acc: 0.8239\n",
      "Epoch 10/10\n",
      "363861/363861 [==============================] - 404s - loss: 0.6526 - primary_out_loss: 0.3275 - boost_out_loss: 0.3251 - primary_out_acc: 0.8493 - boost_out_acc: 0.8501 - val_loss: 0.7683 - val_primary_out_loss: 0.3851 - val_boost_out_loss: 0.3832 - val_primary_out_acc: 0.8244 - val_boost_out_acc: 0.8257\n"
     ]
    },
    {
     "data": {
      "text/plain": [
       "<keras.callbacks.History at 0x7f34cfd763c8>"
      ]
     },
     "execution_count": 40,
     "metadata": {},
     "output_type": "execute_result"
    }
   ],
   "source": [
    "model.fit(\n",
    "    [q1_train, q2_train], \n",
    "    [labels_train, labels_train], \n",
    "    epochs=10, \n",
    "    batch_size=1024,\n",
    "    validation_data=([q1_valid, q2_valid], [labels_valid,labels_valid]),\n",
    "    callbacks=[checkpoint]\n",
    ")"
   ]
  },
  {
   "cell_type": "code",
   "execution_count": null,
   "metadata": {
    "collapsed": true
   },
   "outputs": [],
   "source": []
  },
  {
   "cell_type": "code",
   "execution_count": null,
   "metadata": {
    "collapsed": true
   },
   "outputs": [],
   "source": []
  }
 ],
 "metadata": {
  "kernelspec": {
   "display_name": "Python 3",
   "language": "python",
   "name": "python3"
  },
  "language_info": {
   "codemirror_mode": {
    "name": "ipython",
    "version": 3
   },
   "file_extension": ".py",
   "mimetype": "text/x-python",
   "name": "python",
   "nbconvert_exporter": "python",
   "pygments_lexer": "ipython3",
   "version": "3.5.4"
  }
 },
 "nbformat": 4,
 "nbformat_minor": 2
}
